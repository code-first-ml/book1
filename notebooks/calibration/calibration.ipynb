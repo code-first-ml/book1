{
 "cells": [
  {
   "cell_type": "markdown",
   "id": "55e37b8b",
   "metadata": {},
   "source": [
    "### Calibration for Classification"
   ]
  },
  {
   "cell_type": "code",
   "execution_count": 1,
   "id": "1205fdff",
   "metadata": {},
   "outputs": [],
   "source": [
    "from sklearn.datasets import make_classification, make_biclusters, make_moons\n",
    "import matplotlib.pyplot as plt\n",
    "from sklearn.inspection import DecisionBoundaryDisplay\n",
    "from sklearn.model_selection import train_test_split\n",
    "from sklearn.metrics import brier_score_loss\n",
    "import pandas as pd\n",
    "\n",
    "%matplotlib inline\n",
    "from matplotlib.colors import ListedColormap\n",
    "import seaborn as sns\n",
    "import numpy as np"
   ]
  },
  {
   "cell_type": "code",
   "execution_count": 2,
   "id": "98ac6d93",
   "metadata": {},
   "outputs": [],
   "source": [
    "cm = plt.cm.RdBu\n",
    "cm_bright = ListedColormap([\"#FF0000\", \"#0000FF\"])"
   ]
  },
  {
   "cell_type": "markdown",
   "id": "2ccb7405",
   "metadata": {},
   "source": [
    "### Divide data into train, calibration, and test\n",
    "\n",
    "It should be noted that if the `n_samples` is small, all methods perform poorly."
   ]
  },
  {
   "cell_type": "code",
   "execution_count": 3,
   "id": "f8fab808",
   "metadata": {},
   "outputs": [],
   "source": [
    "X, y = make_moons(n_samples=5000)\n",
    "\n",
    "X_train_cal, X_test, y_train_cal, y_test = train_test_split(X, y, test_size=.4, random_state=42)\n",
    "X_train, X_cal, y_train, y_cal = train_test_split(X_train_cal, y_train_cal, test_size=0.4, random_state=42)\n"
   ]
  },
  {
   "cell_type": "code",
   "execution_count": 4,
   "id": "bc696d22",
   "metadata": {},
   "outputs": [
    {
     "data": {
      "image/png": "[encoded data removed]",
      "text/plain": [
       "<Figure size 432x288 with 1 Axes>"
      ]
     },
     "metadata": {
      "needs_background": "light"
     },
     "output_type": "display_data"
    }
   ],
   "source": [
    "plt.scatter(X_train[:, 0], X_train[:, 1], c=y_train)\n",
    "#plt.scatter(X_test[:, 0], X_test[:, 1], c=y_test, label='Test', alpha=0.2)\n",
    "#plt.scatter(X_cal[:, 0], X_cal[:, 1], c=y_cal, label='Cal', alpha=0.5)\n",
    "\n",
    "\n",
    "\n",
    "sns.despine()\n"
   ]
  },
  {
   "cell_type": "markdown",
   "id": "cd761678",
   "metadata": {},
   "source": [
    "### Fit the classification model to the training dataset"
   ]
  },
  {
   "cell_type": "code",
   "execution_count": 5,
   "id": "339d9402",
   "metadata": {},
   "outputs": [],
   "source": [
    "from sklearn.linear_model import LogisticRegression"
   ]
  },
  {
   "cell_type": "code",
   "execution_count": 6,
   "id": "bdb5a7c8",
   "metadata": {},
   "outputs": [],
   "source": [
    "lr = LogisticRegression(C=0.1)"
   ]
  },
  {
   "cell_type": "code",
   "execution_count": 7,
   "id": "9213790f",
   "metadata": {},
   "outputs": [
    {
     "data": {
      "text/html": [
       "<style>#sk-container-id-1 {color: black;background-color: white;}#sk-container-id-1 pre{padding: 0;}#sk-container-id-1 div.sk-toggleable {background-color: white;}#sk-container-id-1 label.sk-toggleable__label {cursor: pointer;display: block;width: 100%;margin-bottom: 0;padding: 0.3em;box-sizing: border-box;text-align: center;}#sk-container-id-1 label.sk-toggleable__label-arrow:before {content: \"▸\";float: left;margin-right: 0.25em;color: #696969;}#sk-container-id-1 label.sk-toggleable__label-arrow:hover:before {color: black;}#sk-container-id-1 div.sk-estimator:hover label.sk-toggleable__label-arrow:before {color: black;}#sk-container-id-1 div.sk-toggleable__content {max-height: 0;max-width: 0;overflow: hidden;text-align: left;background-color: #f0f8ff;}#sk-container-id-1 div.sk-toggleable__content pre {margin: 0.2em;color: black;border-radius: 0.25em;background-color: #f0f8ff;}#sk-container-id-1 input.sk-toggleable__control:checked~div.sk-toggleable__content {max-height: 200px;max-width: 100%;overflow: auto;}#sk-container-id-1 input.sk-toggleable__control:checked~label.sk-toggleable__label-arrow:before {content: \"▾\";}#sk-container-id-1 div.sk-estimator input.sk-toggleable__control:checked~label.sk-toggleable__label {background-color: #d4ebff;}#sk-container-id-1 div.sk-label input.sk-toggleable__control:checked~label.sk-toggleable__label {background-color: #d4ebff;}#sk-container-id-1 input.sk-hidden--visually {border: 0;clip: rect(1px 1px 1px 1px);clip: rect(1px, 1px, 1px, 1px);height: 1px;margin: -1px;overflow: hidden;padding: 0;position: absolute;width: 1px;}#sk-container-id-1 div.sk-estimator {font-family: monospace;background-color: #f0f8ff;border: 1px dotted black;border-radius: 0.25em;box-sizing: border-box;margin-bottom: 0.5em;}#sk-container-id-1 div.sk-estimator:hover {background-color: #d4ebff;}#sk-container-id-1 div.sk-parallel-item::after {content: \"\";width: 100%;border-bottom: 1px solid gray;flex-grow: 1;}#sk-container-id-1 div.sk-label:hover label.sk-toggleable__label {background-color: #d4ebff;}#sk-container-id-1 div.sk-serial::before {content: \"\";position: absolute;border-left: 1px solid gray;box-sizing: border-box;top: 0;bottom: 0;left: 50%;z-index: 0;}#sk-container-id-1 div.sk-serial {display: flex;flex-direction: column;align-items: center;background-color: white;padding-right: 0.2em;padding-left: 0.2em;position: relative;}#sk-container-id-1 div.sk-item {position: relative;z-index: 1;}#sk-container-id-1 div.sk-parallel {display: flex;align-items: stretch;justify-content: center;background-color: white;position: relative;}#sk-container-id-1 div.sk-item::before, #sk-container-id-1 div.sk-parallel-item::before {content: \"\";position: absolute;border-left: 1px solid gray;box-sizing: border-box;top: 0;bottom: 0;left: 50%;z-index: -1;}#sk-container-id-1 div.sk-parallel-item {display: flex;flex-direction: column;z-index: 1;position: relative;background-color: white;}#sk-container-id-1 div.sk-parallel-item:first-child::after {align-self: flex-end;width: 50%;}#sk-container-id-1 div.sk-parallel-item:last-child::after {align-self: flex-start;width: 50%;}#sk-container-id-1 div.sk-parallel-item:only-child::after {width: 0;}#sk-container-id-1 div.sk-dashed-wrapped {border: 1px dashed gray;margin: 0 0.4em 0.5em 0.4em;box-sizing: border-box;padding-bottom: 0.4em;background-color: white;}#sk-container-id-1 div.sk-label label {font-family: monospace;font-weight: bold;display: inline-block;line-height: 1.2em;}#sk-container-id-1 div.sk-label-container {text-align: center;}#sk-container-id-1 div.sk-container {/* jupyter's `normalize.less` sets `[hidden] { display: none; }` but bootstrap.min.css set `[hidden] { display: none !important; }` so we also need the `!important` here to be able to override the default hidden behavior on the sphinx rendered scikit-learn.org. See: https://github.com/scikit-learn/scikit-learn/issues/21755 */display: inline-block !important;position: relative;}#sk-container-id-1 div.sk-text-repr-fallback {display: none;}</style><div id=\"sk-container-id-1\" class=\"sk-top-container\"><div class=\"sk-text-repr-fallback\"><pre>LogisticRegression(C=0.1)</pre><b>In a Jupyter environment, please rerun this cell to show the HTML representation or trust the notebook. <br />On GitHub, the HTML representation is unable to render, please try loading this page with nbviewer.org.</b></div><div class=\"sk-container\" hidden><div class=\"sk-item\"><div class=\"sk-estimator sk-toggleable\"><input class=\"sk-toggleable__control sk-hidden--visually\" id=\"sk-estimator-id-1\" type=\"checkbox\" checked><label for=\"sk-estimator-id-1\" class=\"sk-toggleable__label sk-toggleable__label-arrow\">LogisticRegression</label><div class=\"sk-toggleable__content\"><pre>LogisticRegression(C=0.1)</pre></div></div></div></div></div>"
      ],
      "text/plain": [
       "LogisticRegression(C=0.1)"
      ]
     },
     "execution_count": 7,
     "metadata": {},
     "output_type": "execute_result"
    }
   ],
   "source": [
    "lr.fit(X_train, y_train)"
   ]
  },
  {
   "cell_type": "code",
   "execution_count": 8,
   "id": "ac185253",
   "metadata": {},
   "outputs": [
    {
     "data": {
      "text/plain": [
       "array([[ 1.08535991, -3.7870853 ]])"
      ]
     },
     "execution_count": 8,
     "metadata": {},
     "output_type": "execute_result"
    }
   ],
   "source": [
    "lr.coef_"
   ]
  },
  {
   "cell_type": "code",
   "execution_count": 9,
   "id": "2fdaa0ce",
   "metadata": {},
   "outputs": [
    {
     "data": {
      "text/plain": [
       "array([0.42515354])"
      ]
     },
     "execution_count": 9,
     "metadata": {},
     "output_type": "execute_result"
    }
   ],
   "source": [
    "lr.intercept_"
   ]
  },
  {
   "cell_type": "code",
   "execution_count": 10,
   "id": "8092fdf2",
   "metadata": {},
   "outputs": [
    {
     "data": {
      "text/plain": [
       "array([0.82244314, 0.11114273, 0.32905312, ..., 0.87316967, 0.794603  ,\n",
       "       0.55168098])"
      ]
     },
     "execution_count": 10,
     "metadata": {},
     "output_type": "execute_result"
    }
   ],
   "source": [
    "lr.predict_proba(X_test)[:, 1]"
   ]
  },
  {
   "cell_type": "code",
   "execution_count": 11,
   "id": "2c6d358c",
   "metadata": {},
   "outputs": [
    {
     "data": {
      "image/png": "[encoded data removed]",
      "text/plain": [
       "<Figure size 432x288 with 1 Axes>"
      ]
     },
     "metadata": {
      "needs_background": "light"
     },
     "output_type": "display_data"
    }
   ],
   "source": [
    "DecisionBoundaryDisplay.from_estimator(\n",
    "    lr, X, cmap=cm, alpha=0.8, eps=0.5, grid_resolution=400\n",
    ")\n",
    "plt.scatter(X[:, 0], X[:, 1], c=y, cmap=cm_bright, edgecolors=\"k\")\n",
    "sns.despine()"
   ]
  },
  {
   "cell_type": "code",
   "execution_count": 12,
   "id": "d50bd735",
   "metadata": {},
   "outputs": [],
   "source": [
    "y_true = y_test\n",
    "y_pred = lr.predict(X_test)"
   ]
  },
  {
   "cell_type": "code",
   "execution_count": 13,
   "id": "d0d1055f",
   "metadata": {},
   "outputs": [],
   "source": [
    "y_conf = lr.predict_proba(X_test)[:, 1]"
   ]
  },
  {
   "cell_type": "code",
   "execution_count": 14,
   "id": "87fd50ee",
   "metadata": {},
   "outputs": [],
   "source": [
    "# Put reliability_diagrams.py from https://github.com/hollance/reliability-diagrams in this folder\n",
    "from reliability_diagrams import *"
   ]
  },
  {
   "cell_type": "code",
   "execution_count": 15,
   "id": "f095d30c",
   "metadata": {},
   "outputs": [],
   "source": [
    "nbins = 10\n",
    "\n",
    "res = {}\n",
    "res[\"Uncalibrated\"] = compute_calibration(y_true, y_pred, y_conf, num_bins=nbins)\n",
    "res[\"Uncalibrated\"][\"brier\"] = brier_score_loss(y_true, y_conf)"
   ]
  },
  {
   "cell_type": "code",
   "execution_count": 16,
   "id": "6a023496",
   "metadata": {},
   "outputs": [
    {
     "data": {
      "text/plain": [
       "0.5040043171214"
      ]
     },
     "execution_count": 16,
     "metadata": {},
     "output_type": "execute_result"
    }
   ],
   "source": [
    "y_conf.mean()"
   ]
  },
  {
   "cell_type": "code",
   "execution_count": 17,
   "id": "4c877352",
   "metadata": {},
   "outputs": [
    {
     "data": {
      "text/plain": [
       "0.8795"
      ]
     },
     "execution_count": 17,
     "metadata": {},
     "output_type": "execute_result"
    }
   ],
   "source": [
    "(y_pred == y_true).mean()"
   ]
  },
  {
   "cell_type": "code",
   "execution_count": 18,
   "id": "ff1417bd",
   "metadata": {},
   "outputs": [
    {
     "data": {
      "text/plain": [
       "(0.09908032168064464, 0.14249820577591474)"
      ]
     },
     "execution_count": 18,
     "metadata": {},
     "output_type": "execute_result"
    }
   ],
   "source": [
    "y_conf[y_conf < 0.3].mean(), res[\"Uncalibrated\"][\"confidences\"][1]"
   ]
  },
  {
   "cell_type": "code",
   "execution_count": 19,
   "id": "639d4f0c",
   "metadata": {},
   "outputs": [
    {
     "data": {
      "image/png": "[encoded data removed]",
      "text/plain": [
       "<Figure size 432x288 with 1 Axes>"
      ]
     },
     "metadata": {
      "needs_background": "light"
     },
     "output_type": "display_data"
    }
   ],
   "source": [
    "def p(res):\n",
    "    plt.gca().set_aspect(\"equal\")\n",
    "    plt.bar(\n",
    "        np.linspace(0, 1, nbins + 1)[:-1],\n",
    "        res[\"accuracies\"],\n",
    "        width=1.0 / (nbins) - 0.01,\n",
    "        align=\"edge\",\n",
    "        label=\"Accuracy\",\n",
    "        alpha=0.4,\n",
    "    )\n",
    "    gaps = res[\"accuracies\"] - res[\"confidences\"]\n",
    "\n",
    "    plt.bar(\n",
    "        np.linspace(0, 1, nbins + 1)[:-1],\n",
    "        gaps,\n",
    "        width=1.0 / (nbins) - 0.01,\n",
    "        align=\"edge\",\n",
    "        label=\"Gaps\",\n",
    "        alpha=0.4,\n",
    "        bottom=res[\"confidences\"],\n",
    "    )\n",
    "\n",
    "\n",
    "    plt.plot(\n",
    "        np.linspace(0, 1, nbins + 1), np.linspace(0, 1, nbins + 1), color=\"k\", ls=\"--\", lw=3\n",
    "    )\n",
    "    plt.legend()\n",
    "p(res[\"Uncalibrated\"])"
   ]
  },
  {
   "cell_type": "code",
   "execution_count": 20,
   "id": "7ec08409",
   "metadata": {},
   "outputs": [
    {
     "data": {
      "image/png": "[encoded data removed]",
      "text/plain": [
       "<Figure size 432x288 with 1 Axes>"
      ]
     },
     "metadata": {
      "needs_background": "light"
     },
     "output_type": "display_data"
    }
   ],
   "source": [
    "def p2(res):\n",
    "    plt.bar(\n",
    "    np.linspace(0, 1, nbins + 1)[:-1],\n",
    "    res[\"counts\"],\n",
    "    width=1.0 / (nbins) - 0.01,\n",
    "    align=\"edge\",\n",
    "    )\n",
    "    # plt.plot(np.linspace(0, 1, nbins+1), np.linspace(0, 1, nbins+1), color='k', ls = '--', lw = 3)\n",
    "    plt.xlabel(\"Confidence\")\n",
    "    plt.ylabel(\"Counts\")\n",
    "p2(res[\"Uncalibrated\"])"
   ]
  },
  {
   "cell_type": "code",
   "execution_count": 21,
   "id": "91e5793f",
   "metadata": {},
   "outputs": [
    {
     "name": "stdout",
     "output_type": "stream",
     "text": [
      "0.4030961727328971 0.40309617273289716\n"
     ]
    }
   ],
   "source": [
    "gaps = res[\"Uncalibrated\"][\"accuracies\"] - res[\"Uncalibrated\"][\"confidences\"]\n",
    "abs_gaps = np.abs(gaps)\n",
    "weighted_abs_gaps = (res[\"Uncalibrated\"][\"counts\"]/res[\"Uncalibrated\"][\"counts\"].sum())*abs_gaps\n",
    "ece = weighted_abs_gaps.sum()\n",
    "\n",
    "print(ece, res[\"Uncalibrated\"]['expected_calibration_error'])"
   ]
  },
  {
   "cell_type": "markdown",
   "id": "bee828a7",
   "metadata": {},
   "source": [
    "### Platt Scaling\n",
    "\n",
    "We will try to fit the following model using Logistic regression:\n",
    "\n",
    "$$\\mathbb{P}(\\hat{Y}=Y \\mid \\hat{P}=p)=p$$"
   ]
  },
  {
   "cell_type": "code",
   "execution_count": 22,
   "id": "2f25ed50",
   "metadata": {},
   "outputs": [
    {
     "data": {
      "text/html": [
       "<style>#sk-container-id-2 {color: black;background-color: white;}#sk-container-id-2 pre{padding: 0;}#sk-container-id-2 div.sk-toggleable {background-color: white;}#sk-container-id-2 label.sk-toggleable__label {cursor: pointer;display: block;width: 100%;margin-bottom: 0;padding: 0.3em;box-sizing: border-box;text-align: center;}#sk-container-id-2 label.sk-toggleable__label-arrow:before {content: \"▸\";float: left;margin-right: 0.25em;color: #696969;}#sk-container-id-2 label.sk-toggleable__label-arrow:hover:before {color: black;}#sk-container-id-2 div.sk-estimator:hover label.sk-toggleable__label-arrow:before {color: black;}#sk-container-id-2 div.sk-toggleable__content {max-height: 0;max-width: 0;overflow: hidden;text-align: left;background-color: #f0f8ff;}#sk-container-id-2 div.sk-toggleable__content pre {margin: 0.2em;color: black;border-radius: 0.25em;background-color: #f0f8ff;}#sk-container-id-2 input.sk-toggleable__control:checked~div.sk-toggleable__content {max-height: 200px;max-width: 100%;overflow: auto;}#sk-container-id-2 input.sk-toggleable__control:checked~label.sk-toggleable__label-arrow:before {content: \"▾\";}#sk-container-id-2 div.sk-estimator input.sk-toggleable__control:checked~label.sk-toggleable__label {background-color: #d4ebff;}#sk-container-id-2 div.sk-label input.sk-toggleable__control:checked~label.sk-toggleable__label {background-color: #d4ebff;}#sk-container-id-2 input.sk-hidden--visually {border: 0;clip: rect(1px 1px 1px 1px);clip: rect(1px, 1px, 1px, 1px);height: 1px;margin: -1px;overflow: hidden;padding: 0;position: absolute;width: 1px;}#sk-container-id-2 div.sk-estimator {font-family: monospace;background-color: #f0f8ff;border: 1px dotted black;border-radius: 0.25em;box-sizing: border-box;margin-bottom: 0.5em;}#sk-container-id-2 div.sk-estimator:hover {background-color: #d4ebff;}#sk-container-id-2 div.sk-parallel-item::after {content: \"\";width: 100%;border-bottom: 1px solid gray;flex-grow: 1;}#sk-container-id-2 div.sk-label:hover label.sk-toggleable__label {background-color: #d4ebff;}#sk-container-id-2 div.sk-serial::before {content: \"\";position: absolute;border-left: 1px solid gray;box-sizing: border-box;top: 0;bottom: 0;left: 50%;z-index: 0;}#sk-container-id-2 div.sk-serial {display: flex;flex-direction: column;align-items: center;background-color: white;padding-right: 0.2em;padding-left: 0.2em;position: relative;}#sk-container-id-2 div.sk-item {position: relative;z-index: 1;}#sk-container-id-2 div.sk-parallel {display: flex;align-items: stretch;justify-content: center;background-color: white;position: relative;}#sk-container-id-2 div.sk-item::before, #sk-container-id-2 div.sk-parallel-item::before {content: \"\";position: absolute;border-left: 1px solid gray;box-sizing: border-box;top: 0;bottom: 0;left: 50%;z-index: -1;}#sk-container-id-2 div.sk-parallel-item {display: flex;flex-direction: column;z-index: 1;position: relative;background-color: white;}#sk-container-id-2 div.sk-parallel-item:first-child::after {align-self: flex-end;width: 50%;}#sk-container-id-2 div.sk-parallel-item:last-child::after {align-self: flex-start;width: 50%;}#sk-container-id-2 div.sk-parallel-item:only-child::after {width: 0;}#sk-container-id-2 div.sk-dashed-wrapped {border: 1px dashed gray;margin: 0 0.4em 0.5em 0.4em;box-sizing: border-box;padding-bottom: 0.4em;background-color: white;}#sk-container-id-2 div.sk-label label {font-family: monospace;font-weight: bold;display: inline-block;line-height: 1.2em;}#sk-container-id-2 div.sk-label-container {text-align: center;}#sk-container-id-2 div.sk-container {/* jupyter's `normalize.less` sets `[hidden] { display: none; }` but bootstrap.min.css set `[hidden] { display: none !important; }` so we also need the `!important` here to be able to override the default hidden behavior on the sphinx rendered scikit-learn.org. See: https://github.com/scikit-learn/scikit-learn/issues/21755 */display: inline-block !important;position: relative;}#sk-container-id-2 div.sk-text-repr-fallback {display: none;}</style><div id=\"sk-container-id-2\" class=\"sk-top-container\"><div class=\"sk-text-repr-fallback\"><pre>LogisticRegression()</pre><b>In a Jupyter environment, please rerun this cell to show the HTML representation or trust the notebook. <br />On GitHub, the HTML representation is unable to render, please try loading this page with nbviewer.org.</b></div><div class=\"sk-container\" hidden><div class=\"sk-item\"><div class=\"sk-estimator sk-toggleable\"><input class=\"sk-toggleable__control sk-hidden--visually\" id=\"sk-estimator-id-2\" type=\"checkbox\" checked><label for=\"sk-estimator-id-2\" class=\"sk-toggleable__label sk-toggleable__label-arrow\">LogisticRegression</label><div class=\"sk-toggleable__content\"><pre>LogisticRegression()</pre></div></div></div></div></div>"
      ],
      "text/plain": [
       "LogisticRegression()"
      ]
     },
     "execution_count": 22,
     "metadata": {},
     "output_type": "execute_result"
    }
   ],
   "source": [
    "# Separate model for calibration\n",
    "lr_calibration = LogisticRegression()\n",
    "\n",
    "# Get the predictions on calibration set from our classification model\n",
    "y_conf_calibration_set = lr.predict_proba(X_cal)[:, 1]\n",
    "\n",
    "# Fit the calibration model on calibration dataset\n",
    "lr_calibration.fit(y_conf_calibration_set.reshape(-1, 1), y_cal)"
   ]
  },
  {
   "cell_type": "code",
   "execution_count": 23,
   "id": "6e8a56c8",
   "metadata": {},
   "outputs": [],
   "source": [
    "# Transform the test probabilities via the calibration model \n",
    "cal_confidences_test = lr_calibration.predict_proba(y_conf.reshape(-1, 1))[:, 1]"
   ]
  },
  {
   "cell_type": "code",
   "execution_count": 24,
   "id": "cdf94b7f",
   "metadata": {},
   "outputs": [
    {
     "data": {
      "text/plain": [
       "{'accuracies': array([1.        , 0.72392638, 0.64634146, 0.55102041, 0.37142857,\n",
       "        0.575     , 0.52380952, 0.57647059, 0.69325153, 1.        ]),\n",
       " 'confidences': array([0.05224118, 0.14617929, 0.24288649, 0.3438167 , 0.44552489,\n",
       "        0.55763552, 0.64909155, 0.75804804, 0.8576268 , 0.94709818]),\n",
       " 'counts': array([664, 163,  82,  49,  35,  40,  42,  85, 163, 677]),\n",
       " 'bins': array([0. , 0.1, 0.2, 0.3, 0.4, 0.5, 0.6, 0.7, 0.8, 0.9, 1. ]),\n",
       " 'avg_accuracy': 0.8795,\n",
       " 'avg_confidence': 0.5029262176130223,\n",
       " 'expected_calibration_error': 0.4266562500551195,\n",
       " 'max_calibration_error': 0.9477588171758138,\n",
       " 'brier': 0.08140921827092136}"
      ]
     },
     "execution_count": 24,
     "metadata": {},
     "output_type": "execute_result"
    }
   ],
   "source": [
    "nbins = 10\n",
    "res[\"Platt_Own\"] = compute_calibration(y_true, y_pred, cal_confidences_test, num_bins=nbins)\n",
    "res['Platt_Own'][\"brier\"] = brier_score_loss(y_true, cal_confidences_test)\n",
    "res['Platt_Own']"
   ]
  },
  {
   "cell_type": "code",
   "execution_count": 25,
   "id": "07b85613",
   "metadata": {},
   "outputs": [
    {
     "data": {
      "image/png": "[encoded data removed]",
      "text/plain": [
       "<Figure size 432x288 with 1 Axes>"
      ]
     },
     "metadata": {
      "needs_background": "light"
     },
     "output_type": "display_data"
    }
   ],
   "source": [
    "p(res[\"Platt_Own\"])"
   ]
  },
  {
   "cell_type": "code",
   "execution_count": 26,
   "id": "b05307e3",
   "metadata": {},
   "outputs": [],
   "source": [
    "keys = ['avg_accuracy', 'avg_confidence','expected_calibration_error', 'max_calibration_error'] #, brier]\n"
   ]
  },
  {
   "cell_type": "code",
   "execution_count": 27,
   "id": "6deaff51",
   "metadata": {},
   "outputs": [],
   "source": [
    "def summarise_results(res):\n",
    "    out = {}\n",
    "    for method in res.keys():\n",
    "        temp = {k: res[method][k] for k in keys}\n",
    "        out[method] = temp\n",
    "    return pd.DataFrame(out)"
   ]
  },
  {
   "cell_type": "code",
   "execution_count": 28,
   "id": "aebd1cb3",
   "metadata": {},
   "outputs": [
    {
     "data": {
      "text/html": [
       "<div>\n",
       "<style scoped>\n",
       "    .dataframe tbody tr th:only-of-type {\n",
       "        vertical-align: middle;\n",
       "    }\n",
       "\n",
       "    .dataframe tbody tr th {\n",
       "        vertical-align: top;\n",
       "    }\n",
       "\n",
       "    .dataframe thead th {\n",
       "        text-align: right;\n",
       "    }\n",
       "</style>\n",
       "<table border=\"1\" class=\"dataframe\">\n",
       "  <thead>\n",
       "    <tr style=\"text-align: right;\">\n",
       "      <th></th>\n",
       "      <th>Uncalibrated</th>\n",
       "      <th>Platt_Own</th>\n",
       "    </tr>\n",
       "  </thead>\n",
       "  <tbody>\n",
       "    <tr>\n",
       "      <th>avg_accuracy</th>\n",
       "      <td>0.879500</td>\n",
       "      <td>0.879500</td>\n",
       "    </tr>\n",
       "    <tr>\n",
       "      <th>avg_confidence</th>\n",
       "      <td>0.504004</td>\n",
       "      <td>0.502926</td>\n",
       "    </tr>\n",
       "    <tr>\n",
       "      <th>expected_calibration_error</th>\n",
       "      <td>0.403096</td>\n",
       "      <td>0.426656</td>\n",
       "    </tr>\n",
       "    <tr>\n",
       "      <th>max_calibration_error</th>\n",
       "      <td>0.952077</td>\n",
       "      <td>0.947759</td>\n",
       "    </tr>\n",
       "  </tbody>\n",
       "</table>\n",
       "</div>"
      ],
      "text/plain": [
       "                            Uncalibrated  Platt_Own\n",
       "avg_accuracy                    0.879500   0.879500\n",
       "avg_confidence                  0.504004   0.502926\n",
       "expected_calibration_error      0.403096   0.426656\n",
       "max_calibration_error           0.952077   0.947759"
      ]
     },
     "execution_count": 28,
     "metadata": {},
     "output_type": "execute_result"
    }
   ],
   "source": [
    "summarise_results(res)"
   ]
  },
  {
   "cell_type": "code",
   "execution_count": 29,
   "id": "34e65bf4",
   "metadata": {},
   "outputs": [],
   "source": [
    "from sklearn.calibration import CalibratedClassifierCV\n",
    "\n",
    "calibrator = CalibratedClassifierCV(lr, cv='prefit')\n",
    "calibrator.fit(X_cal, y_cal)\n",
    "yhat = calibrator.predict(X_test)"
   ]
  },
  {
   "cell_type": "code",
   "execution_count": 30,
   "id": "e50d2107",
   "metadata": {},
   "outputs": [],
   "source": [
    "cal_conf_sk = calibrator.predict_proba(X_test)[:, 1]"
   ]
  },
  {
   "cell_type": "code",
   "execution_count": 31,
   "id": "2a6cc9ec",
   "metadata": {},
   "outputs": [
    {
     "data": {
      "text/plain": [
       "<matplotlib.legend.Legend at 0x19922c7f0>"
      ]
     },
     "execution_count": 31,
     "metadata": {},
     "output_type": "execute_result"
    },
    {
     "data": {
      "image/png": "[encoded data removed]",
      "text/plain": [
       "<Figure size 432x288 with 1 Axes>"
      ]
     },
     "metadata": {
      "needs_background": "light"
     },
     "output_type": "display_data"
    }
   ],
   "source": [
    "from sklearn.calibration import calibration_curve\n",
    "plt.plot([0, 1], [0, 1], \"k:\", label=\"Perfectly calibrated\")\n",
    "frac_of_pos, mean_pred_value = calibration_curve(y_test, y_conf, n_bins=10)\n",
    "plt.plot(mean_pred_value, frac_of_pos, \"s-\", label=\"Uncalibrated\")\n",
    "\n",
    "frac_of_pos, mean_pred_value = calibration_curve(y_test, cal_confidences_test, n_bins=10)\n",
    "plt.plot(mean_pred_value, frac_of_pos, \"s-\", label=\"Calibrated own\")\n",
    "\n",
    "frac_of_pos, mean_pred_value = calibration_curve(y_test, cal_conf_sk, n_bins=10)\n",
    "plt.plot(mean_pred_value, frac_of_pos, \"s-\", label=\"Calibrated sklearn\")\n",
    "plt.legend()"
   ]
  },
  {
   "cell_type": "code",
   "execution_count": 32,
   "id": "e9cc72e7",
   "metadata": {},
   "outputs": [],
   "source": [
    "res['Platt_Sklearn'] = compute_calibration(y_true, y_pred, cal_conf_sk, num_bins=nbins)\n",
    "res['Platt_Sklearn'][\"brier\"] = brier_score_loss(y_true, cal_conf_sk)\n"
   ]
  },
  {
   "cell_type": "code",
   "execution_count": 33,
   "id": "d011f3f6",
   "metadata": {},
   "outputs": [
    {
     "data": {
      "image/png": "[encoded data removed]",
      "text/plain": [
       "<Figure size 432x288 with 1 Axes>"
      ]
     },
     "metadata": {
      "needs_background": "light"
     },
     "output_type": "display_data"
    }
   ],
   "source": [
    "p(res['Platt_Sklearn'])"
   ]
  },
  {
   "cell_type": "code",
   "execution_count": 34,
   "id": "a9783d10",
   "metadata": {},
   "outputs": [
    {
     "data": {
      "text/html": [
       "<div>\n",
       "<style scoped>\n",
       "    .dataframe tbody tr th:only-of-type {\n",
       "        vertical-align: middle;\n",
       "    }\n",
       "\n",
       "    .dataframe tbody tr th {\n",
       "        vertical-align: top;\n",
       "    }\n",
       "\n",
       "    .dataframe thead th {\n",
       "        text-align: right;\n",
       "    }\n",
       "</style>\n",
       "<table border=\"1\" class=\"dataframe\">\n",
       "  <thead>\n",
       "    <tr style=\"text-align: right;\">\n",
       "      <th></th>\n",
       "      <th>Uncalibrated</th>\n",
       "      <th>Platt_Own</th>\n",
       "      <th>Platt_Sklearn</th>\n",
       "    </tr>\n",
       "  </thead>\n",
       "  <tbody>\n",
       "    <tr>\n",
       "      <th>avg_accuracy</th>\n",
       "      <td>0.879500</td>\n",
       "      <td>0.879500</td>\n",
       "      <td>0.879500</td>\n",
       "    </tr>\n",
       "    <tr>\n",
       "      <th>avg_confidence</th>\n",
       "      <td>0.504004</td>\n",
       "      <td>0.502926</td>\n",
       "      <td>0.502318</td>\n",
       "    </tr>\n",
       "    <tr>\n",
       "      <th>expected_calibration_error</th>\n",
       "      <td>0.403096</td>\n",
       "      <td>0.426656</td>\n",
       "      <td>0.419989</td>\n",
       "    </tr>\n",
       "    <tr>\n",
       "      <th>max_calibration_error</th>\n",
       "      <td>0.952077</td>\n",
       "      <td>0.947759</td>\n",
       "      <td>0.974662</td>\n",
       "    </tr>\n",
       "  </tbody>\n",
       "</table>\n",
       "</div>"
      ],
      "text/plain": [
       "                            Uncalibrated  Platt_Own  Platt_Sklearn\n",
       "avg_accuracy                    0.879500   0.879500       0.879500\n",
       "avg_confidence                  0.504004   0.502926       0.502318\n",
       "expected_calibration_error      0.403096   0.426656       0.419989\n",
       "max_calibration_error           0.952077   0.947759       0.974662"
      ]
     },
     "execution_count": 34,
     "metadata": {},
     "output_type": "execute_result"
    }
   ],
   "source": [
    "summarise_results(res)"
   ]
  },
  {
   "cell_type": "markdown",
   "id": "a9503c36",
   "metadata": {},
   "source": [
    "### Isotonic Regression"
   ]
  },
  {
   "cell_type": "code",
   "execution_count": 35,
   "id": "6f38ac77",
   "metadata": {},
   "outputs": [],
   "source": [
    "from sklearn.isotonic import IsotonicRegression\n",
    "\n",
    "model=IsotonicRegression()\n",
    "model.fit(y_conf_calibration_set.reshape(-1, 1), y_cal)\n",
    "cal_confidences_test_isotonic = model.predict(y_conf.reshape(-1, 1))"
   ]
  },
  {
   "cell_type": "code",
   "execution_count": 36,
   "id": "ef9ff47d",
   "metadata": {},
   "outputs": [
    {
     "data": {
      "text/plain": [
       "5"
      ]
     },
     "execution_count": 36,
     "metadata": {},
     "output_type": "execute_result"
    }
   ],
   "source": [
    "np.isnan(cal_confidences_test_isotonic).sum()"
   ]
  },
  {
   "cell_type": "code",
   "execution_count": 37,
   "id": "a420cd42",
   "metadata": {},
   "outputs": [],
   "source": [
    "res['Isotonic_Own'] = compute_calibration(y_true, y_pred, cal_confidences_test_isotonic, num_bins=nbins)\n",
    "#res['Isotonic_Own'][\"brier\"] = brier_score_loss(y_true, cal_confidences_test_isotonic)"
   ]
  },
  {
   "cell_type": "code",
   "execution_count": 38,
   "id": "ba8492a4",
   "metadata": {},
   "outputs": [
    {
     "data": {
      "image/png": "[encoded data removed]",
      "text/plain": [
       "<Figure size 432x288 with 1 Axes>"
      ]
     },
     "metadata": {
      "needs_background": "light"
     },
     "output_type": "display_data"
    }
   ],
   "source": [
    "p(res['Isotonic_Own'])"
   ]
  },
  {
   "cell_type": "code",
   "execution_count": 39,
   "id": "0c6dbada",
   "metadata": {},
   "outputs": [
    {
     "data": {
      "text/html": [
       "<div>\n",
       "<style scoped>\n",
       "    .dataframe tbody tr th:only-of-type {\n",
       "        vertical-align: middle;\n",
       "    }\n",
       "\n",
       "    .dataframe tbody tr th {\n",
       "        vertical-align: top;\n",
       "    }\n",
       "\n",
       "    .dataframe thead th {\n",
       "        text-align: right;\n",
       "    }\n",
       "</style>\n",
       "<table border=\"1\" class=\"dataframe\">\n",
       "  <thead>\n",
       "    <tr style=\"text-align: right;\">\n",
       "      <th></th>\n",
       "      <th>Uncalibrated</th>\n",
       "      <th>Platt_Own</th>\n",
       "      <th>Platt_Sklearn</th>\n",
       "      <th>Isotonic_Own</th>\n",
       "    </tr>\n",
       "  </thead>\n",
       "  <tbody>\n",
       "    <tr>\n",
       "      <th>avg_accuracy</th>\n",
       "      <td>0.879500</td>\n",
       "      <td>0.879500</td>\n",
       "      <td>0.879500</td>\n",
       "      <td>0.817562</td>\n",
       "    </tr>\n",
       "    <tr>\n",
       "      <th>avg_confidence</th>\n",
       "      <td>0.504004</td>\n",
       "      <td>0.502926</td>\n",
       "      <td>0.502318</td>\n",
       "      <td>0.759125</td>\n",
       "    </tr>\n",
       "    <tr>\n",
       "      <th>expected_calibration_error</th>\n",
       "      <td>0.403096</td>\n",
       "      <td>0.426656</td>\n",
       "      <td>0.419989</td>\n",
       "      <td>0.072767</td>\n",
       "    </tr>\n",
       "    <tr>\n",
       "      <th>max_calibration_error</th>\n",
       "      <td>0.952077</td>\n",
       "      <td>0.947759</td>\n",
       "      <td>0.974662</td>\n",
       "      <td>0.412395</td>\n",
       "    </tr>\n",
       "  </tbody>\n",
       "</table>\n",
       "</div>"
      ],
      "text/plain": [
       "                            Uncalibrated  Platt_Own  Platt_Sklearn  \\\n",
       "avg_accuracy                    0.879500   0.879500       0.879500   \n",
       "avg_confidence                  0.504004   0.502926       0.502318   \n",
       "expected_calibration_error      0.403096   0.426656       0.419989   \n",
       "max_calibration_error           0.952077   0.947759       0.974662   \n",
       "\n",
       "                            Isotonic_Own  \n",
       "avg_accuracy                    0.817562  \n",
       "avg_confidence                  0.759125  \n",
       "expected_calibration_error      0.072767  \n",
       "max_calibration_error           0.412395  "
      ]
     },
     "execution_count": 39,
     "metadata": {},
     "output_type": "execute_result"
    }
   ],
   "source": [
    "summarise_results(res)"
   ]
  },
  {
   "cell_type": "code",
   "execution_count": 40,
   "id": "a7372ce3",
   "metadata": {},
   "outputs": [],
   "source": [
    "calibrator = CalibratedClassifierCV(lr, cv='prefit', method='isotonic')\n",
    "calibrator.fit(X_cal, y_cal)\n",
    "yhat = calibrator.predict(X_test)\n",
    "cal_conf_sk_isotonic = calibrator.predict_proba(X_test)[:, 1]"
   ]
  },
  {
   "cell_type": "code",
   "execution_count": 41,
   "id": "a58847d4",
   "metadata": {},
   "outputs": [
    {
     "data": {
      "text/plain": [
       "<matplotlib.legend.Legend at 0x199432c40>"
      ]
     },
     "execution_count": 41,
     "metadata": {},
     "output_type": "execute_result"
    },
    {
     "data": {
      "image/png": "[encoded data removed]",
      "text/plain": [
       "<Figure size 432x288 with 1 Axes>"
      ]
     },
     "metadata": {
      "needs_background": "light"
     },
     "output_type": "display_data"
    }
   ],
   "source": [
    "from sklearn.calibration import calibration_curve\n",
    "plt.plot([0, 1], [0, 1], \"k:\", label=\"Perfectly calibrated\")\n",
    "frac_of_pos, mean_pred_value = calibration_curve(y_test, y_conf, n_bins=10)\n",
    "plt.plot(mean_pred_value, frac_of_pos, \"s-\", label=\"Uncalibrated\")\n",
    "\n",
    "frac_of_pos, mean_pred_value = calibration_curve(y_test, cal_confidences_test, n_bins=10)\n",
    "plt.plot(mean_pred_value, frac_of_pos, \"s-\", label=\"Calibrated own\")\n",
    "\n",
    "frac_of_pos, mean_pred_value = calibration_curve(y_test, cal_conf_sk, n_bins=10)\n",
    "plt.plot(mean_pred_value, frac_of_pos, \"s-\", label=\"Calibrated sklearn\")\n",
    "\n",
    "\n",
    "frac_of_pos, mean_pred_value = calibration_curve(y_test, cal_confidences_test_isotonic, n_bins=10)\n",
    "plt.plot(mean_pred_value, frac_of_pos, \"s-\", label=\"Calibrated own (isotonic)\", lw=5, alpha=0.2)\n",
    "\n",
    "\n",
    "frac_of_pos, mean_pred_value = calibration_curve(y_test, cal_conf_sk_isotonic, n_bins=10)\n",
    "plt.plot(mean_pred_value, frac_of_pos, \"s-\", label=\"Calibrated sk (isotonic)\")\n",
    "plt.legend()"
   ]
  },
  {
   "cell_type": "code",
   "execution_count": 42,
   "id": "3ffd41da",
   "metadata": {},
   "outputs": [],
   "source": [
    "res['Isotonic_sklearn'] = compute_calibration(y_true, y_pred, cal_conf_sk_isotonic, num_bins=nbins)"
   ]
  },
  {
   "cell_type": "code",
   "execution_count": 43,
   "id": "7c0be8c6",
   "metadata": {},
   "outputs": [
    {
     "data": {
      "text/html": [
       "<div>\n",
       "<style scoped>\n",
       "    .dataframe tbody tr th:only-of-type {\n",
       "        vertical-align: middle;\n",
       "    }\n",
       "\n",
       "    .dataframe tbody tr th {\n",
       "        vertical-align: top;\n",
       "    }\n",
       "\n",
       "    .dataframe thead th {\n",
       "        text-align: right;\n",
       "    }\n",
       "</style>\n",
       "<table border=\"1\" class=\"dataframe\">\n",
       "  <thead>\n",
       "    <tr style=\"text-align: right;\">\n",
       "      <th></th>\n",
       "      <th>Uncalibrated</th>\n",
       "      <th>Platt_Own</th>\n",
       "      <th>Platt_Sklearn</th>\n",
       "      <th>Isotonic_Own</th>\n",
       "      <th>Isotonic_sklearn</th>\n",
       "    </tr>\n",
       "  </thead>\n",
       "  <tbody>\n",
       "    <tr>\n",
       "      <th>avg_accuracy</th>\n",
       "      <td>0.879500</td>\n",
       "      <td>0.879500</td>\n",
       "      <td>0.879500</td>\n",
       "      <td>0.817562</td>\n",
       "      <td>0.817976</td>\n",
       "    </tr>\n",
       "    <tr>\n",
       "      <th>avg_confidence</th>\n",
       "      <td>0.504004</td>\n",
       "      <td>0.502926</td>\n",
       "      <td>0.502318</td>\n",
       "      <td>0.759125</td>\n",
       "      <td>0.759671</td>\n",
       "    </tr>\n",
       "    <tr>\n",
       "      <th>expected_calibration_error</th>\n",
       "      <td>0.403096</td>\n",
       "      <td>0.426656</td>\n",
       "      <td>0.419989</td>\n",
       "      <td>0.072767</td>\n",
       "      <td>0.072602</td>\n",
       "    </tr>\n",
       "    <tr>\n",
       "      <th>max_calibration_error</th>\n",
       "      <td>0.952077</td>\n",
       "      <td>0.947759</td>\n",
       "      <td>0.974662</td>\n",
       "      <td>0.412395</td>\n",
       "      <td>0.412395</td>\n",
       "    </tr>\n",
       "  </tbody>\n",
       "</table>\n",
       "</div>"
      ],
      "text/plain": [
       "                            Uncalibrated  Platt_Own  Platt_Sklearn  \\\n",
       "avg_accuracy                    0.879500   0.879500       0.879500   \n",
       "avg_confidence                  0.504004   0.502926       0.502318   \n",
       "expected_calibration_error      0.403096   0.426656       0.419989   \n",
       "max_calibration_error           0.952077   0.947759       0.974662   \n",
       "\n",
       "                            Isotonic_Own  Isotonic_sklearn  \n",
       "avg_accuracy                    0.817562          0.817976  \n",
       "avg_confidence                  0.759125          0.759671  \n",
       "expected_calibration_error      0.072767          0.072602  \n",
       "max_calibration_error           0.412395          0.412395  "
      ]
     },
     "execution_count": 43,
     "metadata": {},
     "output_type": "execute_result"
    }
   ],
   "source": [
    "summarise_results(res)"
   ]
  }
 ],
 "metadata": {
  "kernelspec": {
   "display_name": "Python 3 (ipykernel)",
   "language": "python",
   "name": "python3"
  },
  "language_info": {
   "codemirror_mode": {
    "name": "ipython",
    "version": 3
   },
   "file_extension": ".py",
   "mimetype": "text/x-python",
   "name": "python",
   "nbconvert_exporter": "python",
   "pygments_lexer": "ipython3",
   "version": "3.9.13"
  }
 },
 "nbformat": 4,
 "nbformat_minor": 5
}
