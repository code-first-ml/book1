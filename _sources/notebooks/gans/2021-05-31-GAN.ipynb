{
 "cells": [
  {
   "cell_type": "markdown",
   "id": "c96d1454",
   "metadata": {},
   "source": [
    "# A programming introduction to GANs\n",
    "\n",
    "- toc: true \n",
    "- badges: true\n",
    "- comments: true\n",
    "- author: Nipun Batra\n",
    "- categories: [ML]"
   ]
  },
  {
   "cell_type": "markdown",
   "id": "cd255271",
   "metadata": {},
   "source": [
    "## Introduction\n",
    "\n",
    "\n",
    "This is a post about Generative Adversarial Networks (GANs). This post is very heavily influenced and borrows code from:\n",
    "\n",
    "- [Video from Luis Serrano](https://www.youtube.com/watch?v=8L11aMN5KY8)\n",
    "- Heavily borrowed code from this [article]( https://machinelearningmastery.com/how-to-develop-a-generative-adversarial-network-for-an-mnist-handwritten-digits-from-scratch-in-keras/) on machine learning mastery\n",
    "\n",
    "\n",
    "These folks deserve all the credit! I am writing this post mostly for my learning.\n",
    "\n",
    "I'd highly recommend reading the above two mentioned resources.\n",
    "\n",
    "## Goal\n",
    "\n",
    "The goal of GANs is to generate [realistic data](https://en.wikipedia.org/wiki/Generative_adversarial_network), i.e. data with similar statistics as the training data. \n",
    "\n",
    "See below a \"generated\" face on https://thispersondoesnotexist.com\n",
    "\n",
    "Refresh this page to get a new face each time!\n",
    "\n",
    "These are people that do not exist but their faces have been generated using GANs."
   ]
  },
  {
   "cell_type": "code",
   "execution_count": 1,
   "id": "ac15dd6c",
   "metadata": {},
   "outputs": [
    {
     "data": {
      "text/html": [
       "\n",
       "        <iframe\n",
       "            width=\"400\"\n",
       "            height=\"400\"\n",
       "            src=\"https://thispersondoesnotexist.com\"\n",
       "            frameborder=\"0\"\n",
       "            allowfullscreen\n",
       "        ></iframe>\n",
       "        "
      ],
      "text/plain": [
       "<IPython.lib.display.IFrame at 0x7fbbee99b610>"
      ]
     },
     "execution_count": 1,
     "metadata": {},
     "output_type": "execute_result"
    }
   ],
   "source": [
    "from IPython.display import HTML, IFrame\n",
    "IFrame(\"https://thispersondoesnotexist.com\", 400, 400)"
   ]
  },
  {
   "cell_type": "markdown",
   "id": "e4b13279",
   "metadata": {},
   "source": [
    "## Overall Block Diagram\n",
    "\n",
    "Conceptually, GANs are simple.They have two main components:\n",
    "\n",
    "- A discriminator: that tries to accurately tell generated and real data (from training data) apart\n",
    "- A generator: that generates data given some random numbers\n",
    "\n",
    "The goal of GANs is to use the generator to create realistic data such that the discriminator thinks it is real (coming from the training dataset)\n",
    "\n",
    "\n",
    "![](GAN-1.jpg)\n",
    "\n",
    "The two components discriminator and generator are \"fighting\" where:\n",
    "\n",
    "- the goal of the discriminator is to tell apart fake (generated) data from true data (from training set) even when the generator is fairly good\n",
    "- the goal of the generator is to generate realistics data such that the discriminator thinks it is real data"
   ]
  },
  {
   "cell_type": "markdown",
   "id": "7bdcc1d5",
   "metadata": {},
   "source": [
    "![](GAN-2.jpg)"
   ]
  },
  {
   "cell_type": "markdown",
   "id": "015c15d3",
   "metadata": {},
   "source": [
    "## Creating \"true\" distribution\n",
    "\n",
    "Let us now create some data from the true/known distribution. We will be essentially creating a 2x2 matrix (image) as explained in Luis Serrano's tutorial. The (0, 0) and (1, 1) position will be a high number between 0.8 and 1 whereas the other two positions (0, 1) and (1, 0) have values between 0 and 0.1"
   ]
  },
  {
   "cell_type": "code",
   "execution_count": 2,
   "id": "3cd4a4d1",
   "metadata": {},
   "outputs": [],
   "source": [
    "import numpy as np\n",
    "import matplotlib.pyplot as plt\n",
    "import mediapy as media\n",
    "\n",
    "%matplotlib inline\n",
    "np.random.seed(40)\n",
    "import warnings\n",
    "warnings.filterwarnings('ignore')\n",
    "import logging\n",
    "import os\n",
    "\n",
    "os.environ['TF_CPP_MIN_LOG_LEVEL'] = '3'  # FATAL\n",
    "logging.getLogger('tensorflow').setLevel(logging.FATAL)\n",
    "import tensorflow as tf   \n",
    "tf.get_logger().setLevel('ERROR')\n",
    "\n",
    "tf.random.set_seed(42)"
   ]
  },
  {
   "cell_type": "code",
   "execution_count": 3,
   "id": "7322b2ce",
   "metadata": {},
   "outputs": [
    {
     "data": {
      "text/plain": [
       "(5000, 4)"
      ]
     },
     "execution_count": 3,
     "metadata": {},
     "output_type": "execute_result"
    }
   ],
   "source": [
    "SIZE = 5000\n",
    "faces = np.vstack((np.random.uniform(0.8, 1, SIZE), \n",
    "                   np.random.uniform(0., 0.1, SIZE),\n",
    "                  np.random.uniform(0., 0.1, SIZE),\n",
    "                  np.random.uniform(0.8, 1, SIZE))).T\n",
    "faces.shape"
   ]
  },
  {
   "cell_type": "code",
   "execution_count": 4,
   "id": "f8aa53a1",
   "metadata": {},
   "outputs": [],
   "source": [
    "def plot_face(f):\n",
    "    f_reshape = f.reshape(2, 2)\n",
    "    plt.imshow(f_reshape, cmap=\"Greys\")"
   ]
  },
  {
   "cell_type": "code",
   "execution_count": 5,
   "id": "417d37e4",
   "metadata": {},
   "outputs": [
    {
     "data": {
      "text/html": [
       "<table class=\"show_images\" style=\"border-spacing:0;\"><tr><td><div style=\"display:flex; align-items:left;\">\n",
       "      <div style=\"display:flex; flex-direction:column; align-items:center;\">\n",
       "      <div>Image=0</div><div><img width=\"80\" height=\"80\" style=\"border:1px solid black; image-rendering:pixelated; object-fit:cover;\" src=\"data:image/png;base64,iVBORw0KGgoAAAANSUhEUgAAAAIAAAACCAIAAAD91JpzAAAAFklEQVR4nGNgYGD49esXw////3l4eAAppQYQDAt6PgAAAABJRU5ErkJggg==\"/></div></div></div></td><td><div style=\"display:flex; align-items:left;\">\n",
       "      <div style=\"display:flex; flex-direction:column; align-items:center;\">\n",
       "      <div>Image=700</div><div><img width=\"80\" height=\"80\" style=\"border:1px solid black; image-rendering:pixelated; object-fit:cover;\" src=\"data:image/png;base64,iVBORw0KGgoAAAANSUhEUgAAAAIAAAACCAIAAAD91JpzAAAAFklEQVR4nGPQ09P78+cPw////xkYGAAwCwZ8YqkpwgAAAABJRU5ErkJggg==\"/></div></div></div></td><td><div style=\"display:flex; align-items:left;\">\n",
       "      <div style=\"display:flex; flex-direction:column; align-items:center;\">\n",
       "      <div>Image=1400</div><div><img width=\"80\" height=\"80\" style=\"border:1px solid black; image-rendering:pixelated; object-fit:cover;\" src=\"data:image/png;base64,iVBORw0KGgoAAAANSUhEUgAAAAIAAAACCAIAAAD91JpzAAAAFklEQVR4nGNgZGT8//8/w////xkYGAAqCAX+rdWO7AAAAABJRU5ErkJggg==\"/></div></div></div></td><td><div style=\"display:flex; align-items:left;\">\n",
       "      <div style=\"display:flex; flex-direction:column; align-items:center;\">\n",
       "      <div>Image=2100</div><div><img width=\"80\" height=\"80\" style=\"border:1px solid black; image-rendering:pixelated; object-fit:cover;\" src=\"data:image/png;base64,iVBORw0KGgoAAAANSUhEUgAAAAIAAAACCAIAAAD91JpzAAAAFklEQVR4nGNgYGD4//8/w8+fP5WUlAAqVgZPkzdpVQAAAABJRU5ErkJggg==\"/></div></div></div></td><td><div style=\"display:flex; align-items:left;\">\n",
       "      <div style=\"display:flex; flex-direction:column; align-items:center;\">\n",
       "      <div>Image=2800</div><div><img width=\"80\" height=\"80\" style=\"border:1px solid black; image-rendering:pixelated; object-fit:cover;\" src=\"data:image/png;base64,iVBORw0KGgoAAAANSUhEUgAAAAIAAAACCAIAAAD91JpzAAAAFklEQVR4nGNgYGD4//8/w9+/f9XV1QEqsAZqeOCZRQAAAABJRU5ErkJggg==\"/></div></div></div></td><td><div style=\"display:flex; align-items:left;\">\n",
       "      <div style=\"display:flex; flex-direction:column; align-items:center;\">\n",
       "      <div>Image=3500</div><div><img width=\"80\" height=\"80\" style=\"border:1px solid black; image-rendering:pixelated; object-fit:cover;\" src=\"data:image/png;base64,iVBORw0KGgoAAAANSUhEUgAAAAIAAAACCAIAAAD91JpzAAAAFklEQVR4nGNgYmL68+cPw////xkYGAAp2wX4NHILpgAAAABJRU5ErkJggg==\"/></div></div></div></td><td><div style=\"display:flex; align-items:left;\">\n",
       "      <div style=\"display:flex; flex-direction:column; align-items:center;\">\n",
       "      <div>Image=4200</div><div><img width=\"80\" height=\"80\" style=\"border:1px solid black; image-rendering:pixelated; object-fit:cover;\" src=\"data:image/png;base64,iVBORw0KGgoAAAANSUhEUgAAAAIAAAACCAIAAAD91JpzAAAAFklEQVR4nGNgYGD4//8/w58/fwQFBQEqHQYlDCRycQAAAABJRU5ErkJggg==\"/></div></div></div></td><td><div style=\"display:flex; align-items:left;\">\n",
       "      <div style=\"display:flex; flex-direction:column; align-items:center;\">\n",
       "      <div>Image=4900</div><div><img width=\"80\" height=\"80\" style=\"border:1px solid black; image-rendering:pixelated; object-fit:cover;\" src=\"data:image/png;base64,iVBORw0KGgoAAAANSUhEUgAAAAIAAAACCAIAAAD91JpzAAAAFklEQVR4nGNgYGD4+/cvw////0VFRQEqLAY0rkUlGwAAAABJRU5ErkJggg==\"/></div></div></div></td></tr></table>"
      ],
      "text/plain": [
       "<IPython.core.display.HTML object>"
      ]
     },
     "metadata": {},
     "output_type": "display_data"
    }
   ],
   "source": [
    "def plot_faces(faces, subset=1):\n",
    "    images = {\n",
    "        f'Image={im}': faces[im].reshape(2, 2)\n",
    "        for im in range(len(faces))[::subset]\n",
    "    }\n",
    "    media.show_images(images, border=True, columns=8, height=80, cmap='Greys')\n",
    "\n",
    "plot_faces(faces, subset=700)"
   ]
  },
  {
   "cell_type": "markdown",
   "id": "8f7d3dd2",
   "metadata": {},
   "source": [
    "The above shows some samples drawn from the true distibution. Let us also now create some random/noisy samples. These samples do not have any relationship between the 4 positions. "
   ]
  },
  {
   "cell_type": "code",
   "execution_count": 6,
   "id": "5fe86f90",
   "metadata": {},
   "outputs": [],
   "source": [
    "\n",
    "# Examples of noisy images\n",
    "noise = np.random.randn(40, 4)\n",
    "noise = np.abs(noise)\n",
    "noise = noise/noise.max()"
   ]
  },
  {
   "cell_type": "code",
   "execution_count": 7,
   "id": "2ddc607b",
   "metadata": {},
   "outputs": [
    {
     "data": {
      "text/html": [
       "<table class=\"show_images\" style=\"border-spacing:0;\"><tr><td><div style=\"display:flex; align-items:left;\">\n",
       "      <div style=\"display:flex; flex-direction:column; align-items:center;\">\n",
       "      <div>Image=0</div><div><img width=\"80\" height=\"80\" style=\"border:1px solid black; image-rendering:pixelated; object-fit:cover;\" src=\"data:image/png;base64,iVBORw0KGgoAAAANSUhEUgAAAAIAAAACCAIAAAD91JpzAAAAF0lEQVR4nGP48eMHAwMD4////3/+/AkAN7wI0pywQt8AAAAASUVORK5CYII=\"/></div></div></div></td><td><div style=\"display:flex; align-items:left;\">\n",
       "      <div style=\"display:flex; flex-direction:column; align-items:center;\">\n",
       "      <div>Image=1</div><div><img width=\"80\" height=\"80\" style=\"border:1px solid black; image-rendering:pixelated; object-fit:cover;\" src=\"data:image/png;base64,iVBORw0KGgoAAAANSUhEUgAAAAIAAAACCAIAAAD91JpzAAAAFklEQVR4nGMoLy9/+fIlAwMDw////wEvVwceThTtKAAAAABJRU5ErkJggg==\"/></div></div></div></td><td><div style=\"display:flex; align-items:left;\">\n",
       "      <div style=\"display:flex; flex-direction:column; align-items:center;\">\n",
       "      <div>Image=2</div><div><img width=\"80\" height=\"80\" style=\"border:1px solid black; image-rendering:pixelated; object-fit:cover;\" src=\"data:image/png;base64,iVBORw0KGgoAAAANSUhEUgAAAAIAAAACCAIAAAD91JpzAAAAF0lEQVR4nGM4evTo////mVatWsXIyAgAQLEHUCGWXXkAAAAASUVORK5CYII=\"/></div></div></div></td><td><div style=\"display:flex; align-items:left;\">\n",
       "      <div style=\"display:flex; flex-direction:column; align-items:center;\">\n",
       "      <div>Image=3</div><div><img width=\"80\" height=\"80\" style=\"border:1px solid black; image-rendering:pixelated; object-fit:cover;\" src=\"data:image/png;base64,iVBORw0KGgoAAAANSUhEUgAAAAIAAAACCAIAAAD91JpzAAAAFklEQVR4nGP4+fMnAwMDw////yMiIgA0EwbxaKiMEgAAAABJRU5ErkJggg==\"/></div></div></div></td><td><div style=\"display:flex; align-items:left;\">\n",
       "      <div style=\"display:flex; flex-direction:column; align-items:center;\">\n",
       "      <div>Image=4</div><div><img width=\"80\" height=\"80\" style=\"border:1px solid black; image-rendering:pixelated; object-fit:cover;\" src=\"data:image/png;base64,iVBORw0KGgoAAAANSUhEUgAAAAIAAAACCAIAAAD91JpzAAAAF0lEQVR4nGP8////jx8/GJ48ecLAwAAAS3wIk3r0+GAAAAAASUVORK5CYII=\"/></div></div></div></td><td><div style=\"display:flex; align-items:left;\">\n",
       "      <div style=\"display:flex; flex-direction:column; align-items:center;\">\n",
       "      <div>Image=5</div><div><img width=\"80\" height=\"80\" style=\"border:1px solid black; image-rendering:pixelated; object-fit:cover;\" src=\"data:image/png;base64,iVBORw0KGgoAAAANSUhEUgAAAAIAAAACCAIAAAD91JpzAAAAF0lEQVR4nGNYunTp9+/fGf7//8/AwAAAQEAH0pWnKE0AAAAASUVORK5CYII=\"/></div></div></div></td><td><div style=\"display:flex; align-items:left;\">\n",
       "      <div style=\"display:flex; flex-direction:column; align-items:center;\">\n",
       "      <div>Image=6</div><div><img width=\"80\" height=\"80\" style=\"border:1px solid black; image-rendering:pixelated; object-fit:cover;\" src=\"data:image/png;base64,iVBORw0KGgoAAAANSUhEUgAAAAIAAAACCAIAAAD91JpzAAAAF0lEQVR4nGN8+fLlhg0bGBgYGP7//w8AOWoHyk/l43sAAAAASUVORK5CYII=\"/></div></div></div></td><td><div style=\"display:flex; align-items:left;\">\n",
       "      <div style=\"display:flex; flex-direction:column; align-items:center;\">\n",
       "      <div>Image=7</div><div><img width=\"80\" height=\"80\" style=\"border:1px solid black; image-rendering:pixelated; object-fit:cover;\" src=\"data:image/png;base64,iVBORw0KGgoAAAANSUhEUgAAAAIAAAACCAIAAAD91JpzAAAAFklEQVR4nGM4efLk////GRgYGPLy8gA5ywajt+fgowAAAABJRU5ErkJggg==\"/></div></div></div></td></tr></table><table class=\"show_images\" style=\"border-spacing:0;\"><tr><td><div style=\"display:flex; align-items:left;\">\n",
       "      <div style=\"display:flex; flex-direction:column; align-items:center;\">\n",
       "      <div>Image=8</div><div><img width=\"80\" height=\"80\" style=\"border:1px solid black; image-rendering:pixelated; object-fit:cover;\" src=\"data:image/png;base64,iVBORw0KGgoAAAANSUhEUgAAAAIAAAACCAIAAAD91JpzAAAAF0lEQVR4nGP8////t2/fmBgZGc+dOwcAQtsIUB/zmOcAAAAASUVORK5CYII=\"/></div></div></div></td><td><div style=\"display:flex; align-items:left;\">\n",
       "      <div style=\"display:flex; flex-direction:column; align-items:center;\">\n",
       "      <div>Image=9</div><div><img width=\"80\" height=\"80\" style=\"border:1px solid black; image-rendering:pixelated; object-fit:cover;\" src=\"data:image/png;base64,iVBORw0KGgoAAAANSUhEUgAAAAIAAAACCAIAAAD91JpzAAAAFklEQVR4nGP4//8/AwMDo4ODw8uXLwEtJwZ6SX1otwAAAABJRU5ErkJggg==\"/></div></div></div></td><td><div style=\"display:flex; align-items:left;\">\n",
       "      <div style=\"display:flex; flex-direction:column; align-items:center;\">\n",
       "      <div>Image=10</div><div><img width=\"80\" height=\"80\" style=\"border:1px solid black; image-rendering:pixelated; object-fit:cover;\" src=\"data:image/png;base64,iVBORw0KGgoAAAANSUhEUgAAAAIAAAACCAIAAAD91JpzAAAAFklEQVR4nGM0NTUVFBRk+P//PwMDAwAYTAPRhJBepAAAAABJRU5ErkJggg==\"/></div></div></div></td><td><div style=\"display:flex; align-items:left;\">\n",
       "      <div style=\"display:flex; flex-direction:column; align-items:center;\">\n",
       "      <div>Image=11</div><div><img width=\"80\" height=\"80\" style=\"border:1px solid black; image-rendering:pixelated; object-fit:cover;\" src=\"data:image/png;base64,iVBORw0KGgoAAAANSUhEUgAAAAIAAAACCAIAAAD91JpzAAAAFklEQVR4nGOor69nYGBgunLlyv///wEkXgb5Ml0r/wAAAABJRU5ErkJggg==\"/></div></div></div></td><td><div style=\"display:flex; align-items:left;\">\n",
       "      <div style=\"display:flex; flex-direction:column; align-items:center;\">\n",
       "      <div>Image=12</div><div><img width=\"80\" height=\"80\" style=\"border:1px solid black; image-rendering:pixelated; object-fit:cover;\" src=\"data:image/png;base64,iVBORw0KGgoAAAANSUhEUgAAAAIAAAACCAIAAAD91JpzAAAAFklEQVR4nGNsbW3V1NRk+P//PwMDAwAmFAUJZD8gQQAAAABJRU5ErkJggg==\"/></div></div></div></td><td><div style=\"display:flex; align-items:left;\">\n",
       "      <div style=\"display:flex; flex-direction:column; align-items:center;\">\n",
       "      <div>Image=13</div><div><img width=\"80\" height=\"80\" style=\"border:1px solid black; image-rendering:pixelated; object-fit:cover;\" src=\"data:image/png;base64,iVBORw0KGgoAAAANSUhEUgAAAAIAAAACCAIAAAD91JpzAAAAF0lEQVR4nGNgYGA4deoUw8WLF////w8AJ5UHz3PIC2IAAAAASUVORK5CYII=\"/></div></div></div></td><td><div style=\"display:flex; align-items:left;\">\n",
       "      <div style=\"display:flex; flex-direction:column; align-items:center;\">\n",
       "      <div>Image=14</div><div><img width=\"80\" height=\"80\" style=\"border:1px solid black; image-rendering:pixelated; object-fit:cover;\" src=\"data:image/png;base64,iVBORw0KGgoAAAANSUhEUgAAAAIAAAACCAIAAAD91JpzAAAAFklEQVR4nGOoqKj4//8/AwMDQ01NDQAuuwXaLS8r3gAAAABJRU5ErkJggg==\"/></div></div></div></td><td><div style=\"display:flex; align-items:left;\">\n",
       "      <div style=\"display:flex; flex-direction:column; align-items:center;\">\n",
       "      <div>Image=15</div><div><img width=\"80\" height=\"80\" style=\"border:1px solid black; image-rendering:pixelated; object-fit:cover;\" src=\"data:image/png;base64,iVBORw0KGgoAAAANSUhEUgAAAAIAAAACCAIAAAD91JpzAAAAFklEQVR4nGP49euXjo4OAwMDw////wEt1AZw0/mIBwAAAABJRU5ErkJggg==\"/></div></div></div></td></tr></table><table class=\"show_images\" style=\"border-spacing:0;\"><tr><td><div style=\"display:flex; align-items:left;\">\n",
       "      <div style=\"display:flex; flex-direction:column; align-items:center;\">\n",
       "      <div>Image=16</div><div><img width=\"80\" height=\"80\" style=\"border:1px solid black; image-rendering:pixelated; object-fit:cover;\" src=\"data:image/png;base64,iVBORw0KGgoAAAANSUhEUgAAAAIAAAACCAIAAAD91JpzAAAAFklEQVR4nGMoLy////8/AwMDAy8vLwAr/QSKtDRseAAAAABJRU5ErkJggg==\"/></div></div></div></td><td><div style=\"display:flex; align-items:left;\">\n",
       "      <div style=\"display:flex; flex-direction:column; align-items:center;\">\n",
       "      <div>Image=17</div><div><img width=\"80\" height=\"80\" style=\"border:1px solid black; image-rendering:pixelated; object-fit:cover;\" src=\"data:image/png;base64,iVBORw0KGgoAAAANSUhEUgAAAAIAAAACCAIAAAD91JpzAAAAF0lEQVR4nGP49+/f////mQ4fPszIyAgASiwIRri0li4AAAAASUVORK5CYII=\"/></div></div></div></td><td><div style=\"display:flex; align-items:left;\">\n",
       "      <div style=\"display:flex; flex-direction:column; align-items:center;\">\n",
       "      <div>Image=18</div><div><img width=\"80\" height=\"80\" style=\"border:1px solid black; image-rendering:pixelated; object-fit:cover;\" src=\"data:image/png;base64,iVBORw0KGgoAAAANSUhEUgAAAAIAAAACCAIAAAD91JpzAAAAFklEQVR4nGNgYGD4//8/k6mp6YYNGwAiPAWveYzRZgAAAABJRU5ErkJggg==\"/></div></div></div></td><td><div style=\"display:flex; align-items:left;\">\n",
       "      <div style=\"display:flex; flex-direction:column; align-items:center;\">\n",
       "      <div>Image=19</div><div><img width=\"80\" height=\"80\" style=\"border:1px solid black; image-rendering:pixelated; object-fit:cover;\" src=\"data:image/png;base64,iVBORw0KGgoAAAANSUhEUgAAAAIAAAACCAIAAAD91JpzAAAAFklEQVR4nGMoLi7W19dnYGBg+P//PwAbKQTkOlzmtwAAAABJRU5ErkJggg==\"/></div></div></div></td><td><div style=\"display:flex; align-items:left;\">\n",
       "      <div style=\"display:flex; flex-direction:column; align-items:center;\">\n",
       "      <div>Image=20</div><div><img width=\"80\" height=\"80\" style=\"border:1px solid black; image-rendering:pixelated; object-fit:cover;\" src=\"data:image/png;base64,iVBORw0KGgoAAAANSUhEUgAAAAIAAAACCAIAAAD91JpzAAAAFklEQVR4nGP4//8/AwMD47x589TV1QEuHQVOGAWpaQAAAABJRU5ErkJggg==\"/></div></div></div></td><td><div style=\"display:flex; align-items:left;\">\n",
       "      <div style=\"display:flex; flex-direction:column; align-items:center;\">\n",
       "      <div>Image=21</div><div><img width=\"80\" height=\"80\" style=\"border:1px solid black; image-rendering:pixelated; object-fit:cover;\" src=\"data:image/png;base64,iVBORw0KGgoAAAANSUhEUgAAAAIAAAACCAIAAAD91JpzAAAAFklEQVR4nGPcv3+/rKwsw////xkYGAAs+AWT7tvmzQAAAABJRU5ErkJggg==\"/></div></div></div></td><td><div style=\"display:flex; align-items:left;\">\n",
       "      <div style=\"display:flex; flex-direction:column; align-items:center;\">\n",
       "      <div>Image=22</div><div><img width=\"80\" height=\"80\" style=\"border:1px solid black; image-rendering:pixelated; object-fit:cover;\" src=\"data:image/png;base64,iVBORw0KGgoAAAANSUhEUgAAAAIAAAACCAIAAAD91JpzAAAAF0lEQVR4nGNgYGDYsGEDw58/f/7//w8AJ1wIAjERcdMAAAAASUVORK5CYII=\"/></div></div></div></td><td><div style=\"display:flex; align-items:left;\">\n",
       "      <div style=\"display:flex; flex-direction:column; align-items:center;\">\n",
       "      <div>Image=23</div><div><img width=\"80\" height=\"80\" style=\"border:1px solid black; image-rendering:pixelated; object-fit:cover;\" src=\"data:image/png;base64,iVBORw0KGgoAAAANSUhEUgAAAAIAAAACCAIAAAD91JpzAAAAFklEQVR4nGP49u1bTk4OAwMDw////wE0BAck2Nkw9wAAAABJRU5ErkJggg==\"/></div></div></div></td></tr></table><table class=\"show_images\" style=\"border-spacing:0;\"><tr><td><div style=\"display:flex; align-items:left;\">\n",
       "      <div style=\"display:flex; flex-direction:column; align-items:center;\">\n",
       "      <div>Image=24</div><div><img width=\"80\" height=\"80\" style=\"border:1px solid black; image-rendering:pixelated; object-fit:cover;\" src=\"data:image/png;base64,iVBORw0KGgoAAAANSUhEUgAAAAIAAAACCAIAAAD91JpzAAAAFklEQVR4nGP4//8/Pz8/EyMjY2xsLAAnygRHzXzc8gAAAABJRU5ErkJggg==\"/></div></div></div></td><td><div style=\"display:flex; align-items:left;\">\n",
       "      <div style=\"display:flex; flex-direction:column; align-items:center;\">\n",
       "      <div>Image=25</div><div><img width=\"80\" height=\"80\" style=\"border:1px solid black; image-rendering:pixelated; object-fit:cover;\" src=\"data:image/png;base64,iVBORw0KGgoAAAANSUhEUgAAAAIAAAACCAIAAAD91JpzAAAAF0lEQVR4nGO4ePEiAwMD4//////9+wcAMl4IbLp2fIwAAAAASUVORK5CYII=\"/></div></div></div></td><td><div style=\"display:flex; align-items:left;\">\n",
       "      <div style=\"display:flex; flex-direction:column; align-items:center;\">\n",
       "      <div>Image=26</div><div><img width=\"80\" height=\"80\" style=\"border:1px solid black; image-rendering:pixelated; object-fit:cover;\" src=\"data:image/png;base64,iVBORw0KGgoAAAANSUhEUgAAAAIAAAACCAIAAAD91JpzAAAAFklEQVR4nGNgYGD4//8/k7Cw8MePHwEhxAYM5jALOQAAAABJRU5ErkJggg==\"/></div></div></div></td><td><div style=\"display:flex; align-items:left;\">\n",
       "      <div style=\"display:flex; flex-direction:column; align-items:center;\">\n",
       "      <div>Image=27</div><div><img width=\"80\" height=\"80\" style=\"border:1px solid black; image-rendering:pixelated; object-fit:cover;\" src=\"data:image/png;base64,iVBORw0KGgoAAAANSUhEUgAAAAIAAAACCAIAAAD91JpzAAAAFklEQVR4nGMwNjb+//8/AwMDQ3h4OAAkKQSc/x+mGgAAAABJRU5ErkJggg==\"/></div></div></div></td><td><div style=\"display:flex; align-items:left;\">\n",
       "      <div style=\"display:flex; flex-direction:column; align-items:center;\">\n",
       "      <div>Image=28</div><div><img width=\"80\" height=\"80\" style=\"border:1px solid black; image-rendering:pixelated; object-fit:cover;\" src=\"data:image/png;base64,iVBORw0KGgoAAAANSUhEUgAAAAIAAAACCAIAAAD91JpzAAAAF0lEQVR4nGNcsGDB2bNnGf7//8/AwAAAOywHRqZbGf4AAAAASUVORK5CYII=\"/></div></div></div></td><td><div style=\"display:flex; align-items:left;\">\n",
       "      <div style=\"display:flex; flex-direction:column; align-items:center;\">\n",
       "      <div>Image=29</div><div><img width=\"80\" height=\"80\" style=\"border:1px solid black; image-rendering:pixelated; object-fit:cover;\" src=\"data:image/png;base64,iVBORw0KGgoAAAANSUhEUgAAAAIAAAACCAIAAAD91JpzAAAAF0lEQVR4nGNgYGA4cOAAw5cvX/7//w8AKJQIGjLyBq4AAAAASUVORK5CYII=\"/></div></div></div></td><td><div style=\"display:flex; align-items:left;\">\n",
       "      <div style=\"display:flex; flex-direction:column; align-items:center;\">\n",
       "      <div>Image=30</div><div><img width=\"80\" height=\"80\" style=\"border:1px solid black; image-rendering:pixelated; object-fit:cover;\" src=\"data:image/png;base64,iVBORw0KGgoAAAANSUhEUgAAAAIAAAACCAIAAAD91JpzAAAAFklEQVR4nGNwd3f///8/AwMDw9KlSwEozQXCxa/2sgAAAABJRU5ErkJggg==\"/></div></div></div></td><td><div style=\"display:flex; align-items:left;\">\n",
       "      <div style=\"display:flex; flex-direction:column; align-items:center;\">\n",
       "      <div>Image=31</div><div><img width=\"80\" height=\"80\" style=\"border:1px solid black; image-rendering:pixelated; object-fit:cover;\" src=\"data:image/png;base64,iVBORw0KGgoAAAANSUhEUgAAAAIAAAACCAIAAAD91JpzAAAAFklEQVR4nGP4//8/AwMD44oVK9TU1AAurQVpjMGVMwAAAABJRU5ErkJggg==\"/></div></div></div></td></tr></table><table class=\"show_images\" style=\"border-spacing:0;\"><tr><td><div style=\"display:flex; align-items:left;\">\n",
       "      <div style=\"display:flex; flex-direction:column; align-items:center;\">\n",
       "      <div>Image=32</div><div><img width=\"80\" height=\"80\" style=\"border:1px solid black; image-rendering:pixelated; object-fit:cover;\" src=\"data:image/png;base64,iVBORw0KGgoAAAANSUhEUgAAAAIAAAACCAIAAAD91JpzAAAAFklEQVR4nGMQFxf///8/AwMDQ1xcHAAgYwRdqB3tkwAAAABJRU5ErkJggg==\"/></div></div></div></td><td><div style=\"display:flex; align-items:left;\">\n",
       "      <div style=\"display:flex; flex-direction:column; align-items:center;\">\n",
       "      <div>Image=33</div><div><img width=\"80\" height=\"80\" style=\"border:1px solid black; image-rendering:pixelated; object-fit:cover;\" src=\"data:image/png;base64,iVBORw0KGgoAAAANSUhEUgAAAAIAAAACCAIAAAD91JpzAAAAFklEQVR4nGP8////7NmzGRgYGExNTQE1jwVvh0rvNAAAAABJRU5ErkJggg==\"/></div></div></div></td><td><div style=\"display:flex; align-items:left;\">\n",
       "      <div style=\"display:flex; flex-direction:column; align-items:center;\">\n",
       "      <div>Image=34</div><div><img width=\"80\" height=\"80\" style=\"border:1px solid black; image-rendering:pixelated; object-fit:cover;\" src=\"data:image/png;base64,iVBORw0KGgoAAAANSUhEUgAAAAIAAAACCAIAAAD91JpzAAAAFklEQVR4nGMMCAjQ1NRkYGBg+P//PwAVqQRqp7CUGgAAAABJRU5ErkJggg==\"/></div></div></div></td><td><div style=\"display:flex; align-items:left;\">\n",
       "      <div style=\"display:flex; flex-direction:column; align-items:center;\">\n",
       "      <div>Image=35</div><div><img width=\"80\" height=\"80\" style=\"border:1px solid black; image-rendering:pixelated; object-fit:cover;\" src=\"data:image/png;base64,iVBORw0KGgoAAAANSUhEUgAAAAIAAAACCAIAAAD91JpzAAAAF0lEQVR4nGNgYGD4//8/46tXr968eQMALjgIgTdEaLkAAAAASUVORK5CYII=\"/></div></div></div></td><td><div style=\"display:flex; align-items:left;\">\n",
       "      <div style=\"display:flex; flex-direction:column; align-items:center;\">\n",
       "      <div>Image=36</div><div><img width=\"80\" height=\"80\" style=\"border:1px solid black; image-rendering:pixelated; object-fit:cover;\" src=\"data:image/png;base64,iVBORw0KGgoAAAANSUhEUgAAAAIAAAACCAIAAAD91JpzAAAAF0lEQVR4nGP8////58+fmRgZGbdu3QoAQfQH/BLqH3oAAAAASUVORK5CYII=\"/></div></div></div></td><td><div style=\"display:flex; align-items:left;\">\n",
       "      <div style=\"display:flex; flex-direction:column; align-items:center;\">\n",
       "      <div>Image=37</div><div><img width=\"80\" height=\"80\" style=\"border:1px solid black; image-rendering:pixelated; object-fit:cover;\" src=\"data:image/png;base64,iVBORw0KGgoAAAANSUhEUgAAAAIAAAACCAIAAAD91JpzAAAAF0lEQVR4nGP4//8/AwMD07Vr116/fg0ANgQIQw1AYE8AAAAASUVORK5CYII=\"/></div></div></div></td><td><div style=\"display:flex; align-items:left;\">\n",
       "      <div style=\"display:flex; flex-direction:column; align-items:center;\">\n",
       "      <div>Image=38</div><div><img width=\"80\" height=\"80\" style=\"border:1px solid black; image-rendering:pixelated; object-fit:cover;\" src=\"data:image/png;base64,iVBORw0KGgoAAAANSUhEUgAAAAIAAAACCAIAAAD91JpzAAAAF0lEQVR4nGP8////hg0bGN69e8fAwAAARHoH2RqyP9sAAAAASUVORK5CYII=\"/></div></div></div></td><td><div style=\"display:flex; align-items:left;\">\n",
       "      <div style=\"display:flex; flex-direction:column; align-items:center;\">\n",
       "      <div>Image=39</div><div><img width=\"80\" height=\"80\" style=\"border:1px solid black; image-rendering:pixelated; object-fit:cover;\" src=\"data:image/png;base64,iVBORw0KGgoAAAANSUhEUgAAAAIAAAACCAIAAAD91JpzAAAAFklEQVR4nGNgYGAICAhg+Pbt2////wEc4gbQoslpZgAAAABJRU5ErkJggg==\"/></div></div></div></td></tr></table>"
      ],
      "text/plain": [
       "<IPython.core.display.HTML object>"
      ]
     },
     "metadata": {},
     "output_type": "display_data"
    }
   ],
   "source": [
    "plot_faces(noise)"
   ]
  },
  {
   "cell_type": "markdown",
   "id": "2eb19354",
   "metadata": {},
   "source": [
    "## Creating the discriminator\n",
    "\n",
    "Our discriminator is simple. \n",
    "\n",
    "- It accepts as input a 4 dimensional input (the 2x2 image) \n",
    "- It outputs a single number with sigmoid activation denoting the probability of: \n",
    " - image being fake or generated by generator or belonging to class 0\n",
    " - image being real or sampled from training dataset or belonging to class 1\n",
    "- We use the binary cross entropy loss\n",
    "\n",
    "\n",
    "To make the above crystal clear, I'll use the following [gist](https://gist.github.com/craffel/2d727968c3aaebd10359) to draw this NN"
   ]
  },
  {
   "cell_type": "code",
   "execution_count": 8,
   "id": "b3ba2528",
   "metadata": {},
   "outputs": [],
   "source": [
    "from draw_nn import draw_neural_net"
   ]
  },
  {
   "cell_type": "code",
   "execution_count": 9,
   "id": "015521d6",
   "metadata": {},
   "outputs": [
    {
     "data": {
      "image/png": "[encoded data removed]",
      "text/plain": [
       "<Figure size 288x288 with 1 Axes>"
      ]
     },
     "metadata": {
      "needs_background": "light"
     },
     "output_type": "display_data"
    }
   ],
   "source": [
    "fig = plt.figure(figsize=(4, 4))\n",
    "ax = fig.gca()\n",
    "ax.axis('off')\n",
    "draw_neural_net(ax, .1, 0.9, .1, .6, [4, 1])\n",
    "plt.tight_layout()\n",
    "plt.title(\"Discriminator NN\");"
   ]
  },
  {
   "cell_type": "code",
   "execution_count": 10,
   "id": "779d220d",
   "metadata": {},
   "outputs": [],
   "source": [
    "from tensorflow.keras.layers import Dense\n",
    "from tensorflow.keras.models import Sequential, load_model\n",
    "from tensorflow.keras.optimizers import Adam\n",
    "\n",
    "discriminator = Sequential([\n",
    "  Dense(1,activation='sigmoid', input_shape=(4, )),\n",
    "])\n",
    "\n",
    "discriminator._name = \"Discriminator\"\n",
    "\n",
    "discriminator.compile(\n",
    "    optimizer=Adam(0.001),\n",
    "    loss='binary_crossentropy'\n",
    ")\n"
   ]
  },
  {
   "cell_type": "code",
   "execution_count": 11,
   "id": "f9a3553d",
   "metadata": {},
   "outputs": [
    {
     "name": "stdout",
     "output_type": "stream",
     "text": [
      "Model: \"Discriminator\"\n",
      "_________________________________________________________________\n",
      "Layer (type)                 Output Shape              Param #   \n",
      "=================================================================\n",
      "dense (Dense)                (None, 1)                 5         \n",
      "=================================================================\n",
      "Total params: 5\n",
      "Trainable params: 5\n",
      "Non-trainable params: 0\n",
      "_________________________________________________________________\n"
     ]
    }
   ],
   "source": [
    "discriminator.summary()"
   ]
  },
  {
   "cell_type": "markdown",
   "id": "1972644c",
   "metadata": {},
   "source": [
    "As expected, the discriminator has 5 parameters (4 weights coming from the 4 inputs to the output node and 1 bias term added). Now, let us create the generator.\n",
    "\n",
    "## Creating the generator\n",
    "\n",
    "Let us now create the generator model. We create a very simple one\n",
    "\n",
    "- It accepts as input a single random number\n",
    "- It creates a vector of size 4\n",
    "\n",
    "The illustration below shows this network. It should be noted that the single random input is an arbitrary choice. We could use any number really!  "
   ]
  },
  {
   "cell_type": "code",
   "execution_count": 12,
   "id": "2ef2431f",
   "metadata": {},
   "outputs": [
    {
     "data": {
      "image/png": "[encoded data removed]",
      "text/plain": [
       "<Figure size 288x288 with 1 Axes>"
      ]
     },
     "metadata": {
      "needs_background": "light"
     },
     "output_type": "display_data"
    }
   ],
   "source": [
    "fig = plt.figure(figsize=(4, 4))\n",
    "ax = fig.gca()\n",
    "ax.axis('off')\n",
    "draw_neural_net(ax, .1, 0.9, .1, .6, [1, 4])\n",
    "plt.tight_layout()\n",
    "plt.title(\"Generator NN\");"
   ]
  },
  {
   "cell_type": "code",
   "execution_count": 13,
   "id": "f2240e56",
   "metadata": {},
   "outputs": [],
   "source": [
    "from keras.layers import ReLU\n",
    "generator = Sequential([\n",
    "  Dense(4, input_shape=(1, )),\n",
    "   ReLU(max_value=1.0) \n",
    "\n",
    "])\n",
    "\n",
    "generator._name = \"Generator\"\n",
    "\n",
    "generator.compile(\n",
    "    optimizer=Adam(0.001),\n",
    "    loss='binary_crossentropy'\n",
    ")"
   ]
  },
  {
   "cell_type": "code",
   "execution_count": 14,
   "id": "7e35a8df",
   "metadata": {},
   "outputs": [
    {
     "name": "stdout",
     "output_type": "stream",
     "text": [
      "Model: \"Generator\"\n",
      "_________________________________________________________________\n",
      "Layer (type)                 Output Shape              Param #   \n",
      "=================================================================\n",
      "dense_1 (Dense)              (None, 4)                 8         \n",
      "_________________________________________________________________\n",
      "module_wrapper (ModuleWrappe (None, 4)                 0         \n",
      "=================================================================\n",
      "Total params: 8\n",
      "Trainable params: 8\n",
      "Non-trainable params: 0\n",
      "_________________________________________________________________\n"
     ]
    }
   ],
   "source": [
    "generator.summary()"
   ]
  },
  {
   "cell_type": "markdown",
   "id": "a223f9ea",
   "metadata": {},
   "source": [
    "We can verify that the network has 8 parameters (4 weights and one bias value per output node)"
   ]
  },
  {
   "cell_type": "markdown",
   "id": "2ba85294",
   "metadata": {},
   "source": [
    "## Generating samples from Generator\n",
    "\n",
    "We can now use our generator to generate some samples and plot them."
   ]
  },
  {
   "cell_type": "code",
   "execution_count": 15,
   "id": "35208c7c",
   "metadata": {},
   "outputs": [],
   "source": [
    "def gen_fake(n_samples):\n",
    "    x_input = np.random.randn(n_samples, 1)\n",
    "    X = generator.predict(x_input)\n",
    "    y = np.zeros((n_samples, 1))\n",
    "    return X, y"
   ]
  },
  {
   "cell_type": "markdown",
   "id": "51cd3c46",
   "metadata": {},
   "source": [
    "As expected, the samples look random, without any specific pattern and do not resemble the training data as our generator is untrained. Further, it is important to reiterate that the class associated with the fake samples generated from the generator is 0. Thus, we have the line `np.zeros((n_samples, 1))` in the code above."
   ]
  },
  {
   "cell_type": "code",
   "execution_count": 16,
   "id": "ed2416c3",
   "metadata": {},
   "outputs": [
    {
     "data": {
      "text/html": [
       "<table class=\"show_images\" style=\"border-spacing:0;\"><tr><td><div style=\"display:flex; align-items:left;\">\n",
       "      <div style=\"display:flex; flex-direction:column; align-items:center;\">\n",
       "      <div>Image=0</div><div><img width=\"80\" height=\"80\" style=\"border:1px solid black; image-rendering:pixelated; object-fit:cover;\" src=\"data:image/png;base64,iVBORw0KGgoAAAANSUhEUgAAAAIAAAACCAIAAAD91JpzAAAAF0lEQVR4nGNYtWrV////GRgYGP7//w8AONUH+fjktD4AAAAASUVORK5CYII=\"/></div></div></div></td><td><div style=\"display:flex; align-items:left;\">\n",
       "      <div style=\"display:flex; flex-direction:column; align-items:center;\">\n",
       "      <div>Image=1</div><div><img width=\"80\" height=\"80\" style=\"border:1px solid black; image-rendering:pixelated; object-fit:cover;\" src=\"data:image/png;base64,iVBORw0KGgoAAAANSUhEUgAAAAIAAAACCAIAAAD91JpzAAAAF0lEQVR4nGP8////jx8/GP7//8/AwAAATREI5Nu8ozgAAAAASUVORK5CYII=\"/></div></div></div></td><td><div style=\"display:flex; align-items:left;\">\n",
       "      <div style=\"display:flex; flex-direction:column; align-items:center;\">\n",
       "      <div>Image=2</div><div><img width=\"80\" height=\"80\" style=\"border:1px solid black; image-rendering:pixelated; object-fit:cover;\" src=\"data:image/png;base64,iVBORw0KGgoAAAANSUhEUgAAAAIAAAACCAIAAAD91JpzAAAAF0lEQVR4nGP8////jx8/GP7//8/AwAAATREI5Nu8ozgAAAAASUVORK5CYII=\"/></div></div></div></td><td><div style=\"display:flex; align-items:left;\">\n",
       "      <div style=\"display:flex; flex-direction:column; align-items:center;\">\n",
       "      <div>Image=3</div><div><img width=\"80\" height=\"80\" style=\"border:1px solid black; image-rendering:pixelated; object-fit:cover;\" src=\"data:image/png;base64,iVBORw0KGgoAAAANSUhEUgAAAAIAAAACCAIAAAD91JpzAAAAF0lEQVR4nGP8////t2/fGP7//8/AwAAATNsI3rLNbrIAAAAASUVORK5CYII=\"/></div></div></div></td><td><div style=\"display:flex; align-items:left;\">\n",
       "      <div style=\"display:flex; flex-direction:column; align-items:center;\">\n",
       "      <div>Image=4</div><div><img width=\"80\" height=\"80\" style=\"border:1px solid black; image-rendering:pixelated; object-fit:cover;\" src=\"data:image/png;base64,iVBORw0KGgoAAAANSUhEUgAAAAIAAAACCAIAAAD91JpzAAAAF0lEQVR4nGP8////jx8/GP7//8/AwAAATREI5Nu8ozgAAAAASUVORK5CYII=\"/></div></div></div></td><td><div style=\"display:flex; align-items:left;\">\n",
       "      <div style=\"display:flex; flex-direction:column; align-items:center;\">\n",
       "      <div>Image=5</div><div><img width=\"80\" height=\"80\" style=\"border:1px solid black; image-rendering:pixelated; object-fit:cover;\" src=\"data:image/png;base64,iVBORw0KGgoAAAANSUhEUgAAAAIAAAACCAIAAAD91JpzAAAAF0lEQVR4nGOYP3/+////GRgYGP7//w8AN0kH2PCazaMAAAAASUVORK5CYII=\"/></div></div></div></td><td><div style=\"display:flex; align-items:left;\">\n",
       "      <div style=\"display:flex; flex-direction:column; align-items:center;\">\n",
       "      <div>Image=6</div><div><img width=\"80\" height=\"80\" style=\"border:1px solid black; image-rendering:pixelated; object-fit:cover;\" src=\"data:image/png;base64,iVBORw0KGgoAAAANSUhEUgAAAAIAAAACCAIAAAD91JpzAAAAF0lEQVR4nGNYtWrV////GRgYGP7//w8AONUH+fjktD4AAAAASUVORK5CYII=\"/></div></div></div></td><td><div style=\"display:flex; align-items:left;\">\n",
       "      <div style=\"display:flex; flex-direction:column; align-items:center;\">\n",
       "      <div>Image=7</div><div><img width=\"80\" height=\"80\" style=\"border:1px solid black; image-rendering:pixelated; object-fit:cover;\" src=\"data:image/png;base64,iVBORw0KGgoAAAANSUhEUgAAAAIAAAACCAIAAAD91JpzAAAAF0lEQVR4nGNYtWrV////GRgYGP7//w8AONUH+fjktD4AAAAASUVORK5CYII=\"/></div></div></div></td></tr></table><table class=\"show_images\" style=\"border-spacing:0;\"><tr><td><div style=\"display:flex; align-items:left;\">\n",
       "      <div style=\"display:flex; flex-direction:column; align-items:center;\">\n",
       "      <div>Image=8</div><div><img width=\"80\" height=\"80\" style=\"border:1px solid black; image-rendering:pixelated; object-fit:cover;\" src=\"data:image/png;base64,iVBORw0KGgoAAAANSUhEUgAAAAIAAAACCAIAAAD91JpzAAAAF0lEQVR4nGNYtWrV////GRgYGP7//w8AONUH+fjktD4AAAAASUVORK5CYII=\"/></div></div></div></td><td><div style=\"display:flex; align-items:left;\">\n",
       "      <div style=\"display:flex; flex-direction:column; align-items:center;\">\n",
       "      <div>Image=9</div><div><img width=\"80\" height=\"80\" style=\"border:1px solid black; image-rendering:pixelated; object-fit:cover;\" src=\"data:image/png;base64,iVBORw0KGgoAAAANSUhEUgAAAAIAAAACCAIAAAD91JpzAAAAF0lEQVR4nGP8////jx8/GP7//8/AwAAATREI5Nu8ozgAAAAASUVORK5CYII=\"/></div></div></div></td><td><div style=\"display:flex; align-items:left;\">\n",
       "      <div style=\"display:flex; flex-direction:column; align-items:center;\">\n",
       "      <div>Image=10</div><div><img width=\"80\" height=\"80\" style=\"border:1px solid black; image-rendering:pixelated; object-fit:cover;\" src=\"data:image/png;base64,iVBORw0KGgoAAAANSUhEUgAAAAIAAAACCAIAAAD91JpzAAAAF0lEQVR4nGP8////jx8/GP7//8/AwAAATREI5Nu8ozgAAAAASUVORK5CYII=\"/></div></div></div></td><td><div style=\"display:flex; align-items:left;\">\n",
       "      <div style=\"display:flex; flex-direction:column; align-items:center;\">\n",
       "      <div>Image=11</div><div><img width=\"80\" height=\"80\" style=\"border:1px solid black; image-rendering:pixelated; object-fit:cover;\" src=\"data:image/png;base64,iVBORw0KGgoAAAANSUhEUgAAAAIAAAACCAIAAAD91JpzAAAAF0lEQVR4nGP8////jx8/GP7//8/AwAAATREI5Nu8ozgAAAAASUVORK5CYII=\"/></div></div></div></td><td><div style=\"display:flex; align-items:left;\">\n",
       "      <div style=\"display:flex; flex-direction:column; align-items:center;\">\n",
       "      <div>Image=12</div><div><img width=\"80\" height=\"80\" style=\"border:1px solid black; image-rendering:pixelated; object-fit:cover;\" src=\"data:image/png;base64,iVBORw0KGgoAAAANSUhEUgAAAAIAAAACCAIAAAD91JpzAAAAF0lEQVR4nGNYtWrV////GRgYGP7//w8AONUH+fjktD4AAAAASUVORK5CYII=\"/></div></div></div></td><td><div style=\"display:flex; align-items:left;\">\n",
       "      <div style=\"display:flex; flex-direction:column; align-items:center;\">\n",
       "      <div>Image=13</div><div><img width=\"80\" height=\"80\" style=\"border:1px solid black; image-rendering:pixelated; object-fit:cover;\" src=\"data:image/png;base64,iVBORw0KGgoAAAANSUhEUgAAAAIAAAACCAIAAAD91JpzAAAAF0lEQVR4nGP8////jx8/GP7//8/AwAAATREI5Nu8ozgAAAAASUVORK5CYII=\"/></div></div></div></td><td><div style=\"display:flex; align-items:left;\">\n",
       "      <div style=\"display:flex; flex-direction:column; align-items:center;\">\n",
       "      <div>Image=14</div><div><img width=\"80\" height=\"80\" style=\"border:1px solid black; image-rendering:pixelated; object-fit:cover;\" src=\"data:image/png;base64,iVBORw0KGgoAAAANSUhEUgAAAAIAAAACCAIAAAD91JpzAAAAF0lEQVR4nGP8////jx8/GP7//8/AwAAATREI5Nu8ozgAAAAASUVORK5CYII=\"/></div></div></div></td><td><div style=\"display:flex; align-items:left;\">\n",
       "      <div style=\"display:flex; flex-direction:column; align-items:center;\">\n",
       "      <div>Image=15</div><div><img width=\"80\" height=\"80\" style=\"border:1px solid black; image-rendering:pixelated; object-fit:cover;\" src=\"data:image/png;base64,iVBORw0KGgoAAAANSUhEUgAAAAIAAAACCAIAAAD91JpzAAAAF0lEQVR4nGNYtWrV////GRgYGP7//w8AONUH+fjktD4AAAAASUVORK5CYII=\"/></div></div></div></td></tr></table><table class=\"show_images\" style=\"border-spacing:0;\"><tr><td><div style=\"display:flex; align-items:left;\">\n",
       "      <div style=\"display:flex; flex-direction:column; align-items:center;\">\n",
       "      <div>Image=16</div><div><img width=\"80\" height=\"80\" style=\"border:1px solid black; image-rendering:pixelated; object-fit:cover;\" src=\"data:image/png;base64,iVBORw0KGgoAAAANSUhEUgAAAAIAAAACCAIAAAD91JpzAAAAFklEQVR4nGOQkpL6//8/AwMDw////wEklQZJw0UPUgAAAABJRU5ErkJggg==\"/></div></div></div></td><td><div style=\"display:flex; align-items:left;\">\n",
       "      <div style=\"display:flex; flex-direction:column; align-items:center;\">\n",
       "      <div>Image=17</div><div><img width=\"80\" height=\"80\" style=\"border:1px solid black; image-rendering:pixelated; object-fit:cover;\" src=\"data:image/png;base64,iVBORw0KGgoAAAANSUhEUgAAAAIAAAACCAIAAAD91JpzAAAAF0lEQVR4nGP8////169fGf7//8/AwAAATMAI2zEM5ooAAAAASUVORK5CYII=\"/></div></div></div></td><td><div style=\"display:flex; align-items:left;\">\n",
       "      <div style=\"display:flex; flex-direction:column; align-items:center;\">\n",
       "      <div>Image=18</div><div><img width=\"80\" height=\"80\" style=\"border:1px solid black; image-rendering:pixelated; object-fit:cover;\" src=\"data:image/png;base64,iVBORw0KGgoAAAANSUhEUgAAAAIAAAACCAIAAAD91JpzAAAAF0lEQVR4nGNYtWrV////GRgYGP7//w8AONUH+fjktD4AAAAASUVORK5CYII=\"/></div></div></div></td><td><div style=\"display:flex; align-items:left;\">\n",
       "      <div style=\"display:flex; flex-direction:column; align-items:center;\">\n",
       "      <div>Image=19</div><div><img width=\"80\" height=\"80\" style=\"border:1px solid black; image-rendering:pixelated; object-fit:cover;\" src=\"data:image/png;base64,iVBORw0KGgoAAAANSUhEUgAAAAIAAAACCAIAAAD91JpzAAAAF0lEQVR4nGP8////jx8/GP7//8/AwAAATREI5Nu8ozgAAAAASUVORK5CYII=\"/></div></div></div></td></tr></table>"
      ],
      "text/plain": [
       "<IPython.core.display.HTML object>"
      ]
     },
     "metadata": {},
     "output_type": "display_data"
    }
   ],
   "source": [
    "plot_faces(gen_fake(20)[0])"
   ]
  },
  {
   "cell_type": "markdown",
   "id": "aabbc8ed",
   "metadata": {},
   "source": [
    "## Sampling from the Real (Train) Dataset"
   ]
  },
  {
   "cell_type": "code",
   "execution_count": 17,
   "id": "b362f54b",
   "metadata": {},
   "outputs": [],
   "source": [
    "def gen_real(n_samples):\n",
    "    ix = np.random.randint(0, faces.shape[0], n_samples)\n",
    "    X = faces[ix]\n",
    "    y = np.ones((n_samples, 1))\n",
    "    return X, y"
   ]
  },
  {
   "cell_type": "code",
   "execution_count": 18,
   "id": "596576d0",
   "metadata": {},
   "outputs": [
    {
     "data": {
      "text/html": [
       "<table class=\"show_images\" style=\"border-spacing:0;\"><tr><td><div style=\"display:flex; align-items:left;\">\n",
       "      <div style=\"display:flex; flex-direction:column; align-items:center;\">\n",
       "      <div>Image=0</div><div><img width=\"80\" height=\"80\" style=\"border:1px solid black; image-rendering:pixelated; object-fit:cover;\" src=\"data:image/png;base64,iVBORw0KGgoAAAANSUhEUgAAAAIAAAACCAIAAAD91JpzAAAAFklEQVR4nGNgYGD4//8/w79//5iYmAAp4QX+jLgd4wAAAABJRU5ErkJggg==\"/></div></div></div></td><td><div style=\"display:flex; align-items:left;\">\n",
       "      <div style=\"display:flex; flex-direction:column; align-items:center;\">\n",
       "      <div>Image=1</div><div><img width=\"80\" height=\"80\" style=\"border:1px solid black; image-rendering:pixelated; object-fit:cover;\" src=\"data:image/png;base64,iVBORw0KGgoAAAANSUhEUgAAAAIAAAACCAIAAAD91JpzAAAAFklEQVR4nGNgYGD4//8/w69fv5SUlAAqZQZSVIjGDQAAAABJRU5ErkJggg==\"/></div></div></div></td><td><div style=\"display:flex; align-items:left;\">\n",
       "      <div style=\"display:flex; flex-direction:column; align-items:center;\">\n",
       "      <div>Image=2</div><div><img width=\"80\" height=\"80\" style=\"border:1px solid black; image-rendering:pixelated; object-fit:cover;\" src=\"data:image/png;base64,iVBORw0KGgoAAAANSUhEUgAAAAIAAAACCAIAAAD91JpzAAAAFklEQVR4nGNgYGD4/fs3w////zU1NQEqbgZq/Jl8VAAAAABJRU5ErkJggg==\"/></div></div></div></td><td><div style=\"display:flex; align-items:left;\">\n",
       "      <div style=\"display:flex; flex-direction:column; align-items:center;\">\n",
       "      <div>Image=3</div><div><img width=\"80\" height=\"80\" style=\"border:1px solid black; image-rendering:pixelated; object-fit:cover;\" src=\"data:image/png;base64,iVBORw0KGgoAAAANSUhEUgAAAAIAAAACCAIAAAD91JpzAAAAFklEQVR4nGNgZmb+//8/w////xkYGAAqUAYE73dnAgAAAABJRU5ErkJggg==\"/></div></div></div></td><td><div style=\"display:flex; align-items:left;\">\n",
       "      <div style=\"display:flex; flex-direction:column; align-items:center;\">\n",
       "      <div>Image=4</div><div><img width=\"80\" height=\"80\" style=\"border:1px solid black; image-rendering:pixelated; object-fit:cover;\" src=\"data:image/png;base64,iVBORw0KGgoAAAANSUhEUgAAAAIAAAACCAIAAAD91JpzAAAAFklEQVR4nGOQlpb+//8/w+/fvxkYGAAtdAZAWIj+JgAAAABJRU5ErkJggg==\"/></div></div></div></td><td><div style=\"display:flex; align-items:left;\">\n",
       "      <div style=\"display:flex; flex-direction:column; align-items:center;\">\n",
       "      <div>Image=5</div><div><img width=\"80\" height=\"80\" style=\"border:1px solid black; image-rendering:pixelated; object-fit:cover;\" src=\"data:image/png;base64,iVBORw0KGgoAAAANSUhEUgAAAAIAAAACCAIAAAD91JpzAAAAFklEQVR4nGNgYGD4//8/w69fv8zMzAAq3QaOZoQyYwAAAABJRU5ErkJggg==\"/></div></div></div></td><td><div style=\"display:flex; align-items:left;\">\n",
       "      <div style=\"display:flex; flex-direction:column; align-items:center;\">\n",
       "      <div>Image=6</div><div><img width=\"80\" height=\"80\" style=\"border:1px solid black; image-rendering:pixelated; object-fit:cover;\" src=\"data:image/png;base64,iVBORw0KGgoAAAANSUhEUgAAAAIAAAACCAIAAAD91JpzAAAAFklEQVR4nGNgYGD4//8/w/////n4+AAqOAYliTcXWQAAAABJRU5ErkJggg==\"/></div></div></div></td><td><div style=\"display:flex; align-items:left;\">\n",
       "      <div style=\"display:flex; flex-direction:column; align-items:center;\">\n",
       "      <div>Image=7</div><div><img width=\"80\" height=\"80\" style=\"border:1px solid black; image-rendering:pixelated; object-fit:cover;\" src=\"data:image/png;base64,iVBORw0KGgoAAAANSUhEUgAAAAIAAAACCAIAAAD91JpzAAAAFklEQVR4nGPg4eH5//8/w+/fvxkYGAArWAYTV4FrZwAAAABJRU5ErkJggg==\"/></div></div></div></td></tr></table><table class=\"show_images\" style=\"border-spacing:0;\"><tr><td><div style=\"display:flex; align-items:left;\">\n",
       "      <div style=\"display:flex; flex-direction:column; align-items:center;\">\n",
       "      <div>Image=8</div><div><img width=\"80\" height=\"80\" style=\"border:1px solid black; image-rendering:pixelated; object-fit:cover;\" src=\"data:image/png;base64,iVBORw0KGgoAAAANSUhEUgAAAAIAAAACCAIAAAD91JpzAAAAFklEQVR4nGMQFBT8//8/w9+/fxkYGAAsKgYoXIsUqQAAAABJRU5ErkJggg==\"/></div></div></div></td><td><div style=\"display:flex; align-items:left;\">\n",
       "      <div style=\"display:flex; flex-direction:column; align-items:center;\">\n",
       "      <div>Image=9</div><div><img width=\"80\" height=\"80\" style=\"border:1px solid black; image-rendering:pixelated; object-fit:cover;\" src=\"data:image/png;base64,iVBORw0KGgoAAAANSUhEUgAAAAIAAAACCAIAAAD91JpzAAAAFklEQVR4nGNgYGD49esXw////6WlpQEp/wY9IJmqugAAAABJRU5ErkJggg==\"/></div></div></div></td><td><div style=\"display:flex; align-items:left;\">\n",
       "      <div style=\"display:flex; flex-direction:column; align-items:center;\">\n",
       "      <div>Image=10</div><div><img width=\"80\" height=\"80\" style=\"border:1px solid black; image-rendering:pixelated; object-fit:cover;\" src=\"data:image/png;base64,iVBORw0KGgoAAAANSUhEUgAAAAIAAAACCAIAAAD91JpzAAAAFklEQVR4nGNgYGD4//8/w////3l5eQEqMgYijxKNfQAAAABJRU5ErkJggg==\"/></div></div></div></td><td><div style=\"display:flex; align-items:left;\">\n",
       "      <div style=\"display:flex; flex-direction:column; align-items:center;\">\n",
       "      <div>Image=11</div><div><img width=\"80\" height=\"80\" style=\"border:1px solid black; image-rendering:pixelated; object-fit:cover;\" src=\"data:image/png;base64,iVBORw0KGgoAAAANSUhEUgAAAAIAAAACCAIAAAD91JpzAAAAFklEQVR4nGPg4OD4//8/w79//xgYGAAq9QYQotar1AAAAABJRU5ErkJggg==\"/></div></div></div></td><td><div style=\"display:flex; align-items:left;\">\n",
       "      <div style=\"display:flex; flex-direction:column; align-items:center;\">\n",
       "      <div>Image=12</div><div><img width=\"80\" height=\"80\" style=\"border:1px solid black; image-rendering:pixelated; object-fit:cover;\" src=\"data:image/png;base64,iVBORw0KGgoAAAANSUhEUgAAAAIAAAACCAIAAAD91JpzAAAAFklEQVR4nGOQkpL6//8/w79//xgYGAAtfQZG0XUIvgAAAABJRU5ErkJggg==\"/></div></div></div></td><td><div style=\"display:flex; align-items:left;\">\n",
       "      <div style=\"display:flex; flex-direction:column; align-items:center;\">\n",
       "      <div>Image=13</div><div><img width=\"80\" height=\"80\" style=\"border:1px solid black; image-rendering:pixelated; object-fit:cover;\" src=\"data:image/png;base64,iVBORw0KGgoAAAANSUhEUgAAAAIAAAACCAIAAAD91JpzAAAAFklEQVR4nGNgY2P7//8/w58/fxgYGAAqjwYEgTvdOgAAAABJRU5ErkJggg==\"/></div></div></div></td><td><div style=\"display:flex; align-items:left;\">\n",
       "      <div style=\"display:flex; flex-direction:column; align-items:center;\">\n",
       "      <div>Image=14</div><div><img width=\"80\" height=\"80\" style=\"border:1px solid black; image-rendering:pixelated; object-fit:cover;\" src=\"data:image/png;base64,iVBORw0KGgoAAAANSUhEUgAAAAIAAAACCAIAAAD91JpzAAAAFklEQVR4nGNgYGD48+cPw////3l5eQEp4QYZtAQmTwAAAABJRU5ErkJggg==\"/></div></div></div></td><td><div style=\"display:flex; align-items:left;\">\n",
       "      <div style=\"display:flex; flex-direction:column; align-items:center;\">\n",
       "      <div>Image=15</div><div><img width=\"80\" height=\"80\" style=\"border:1px solid black; image-rendering:pixelated; object-fit:cover;\" src=\"data:image/png;base64,iVBORw0KGgoAAAANSUhEUgAAAAIAAAACCAIAAAD91JpzAAAAFklEQVR4nGNgYGD4/fs3w////6WkpAAqFAY93ZVwqgAAAABJRU5ErkJggg==\"/></div></div></div></td></tr></table><table class=\"show_images\" style=\"border-spacing:0;\"><tr><td><div style=\"display:flex; align-items:left;\">\n",
       "      <div style=\"display:flex; flex-direction:column; align-items:center;\">\n",
       "      <div>Image=16</div><div><img width=\"80\" height=\"80\" style=\"border:1px solid black; image-rendering:pixelated; object-fit:cover;\" src=\"data:image/png;base64,iVBORw0KGgoAAAANSUhEUgAAAAIAAAACCAIAAAD91JpzAAAAFklEQVR4nGNgYGD49+8fw////42MjAAq9QaO64/3sQAAAABJRU5ErkJggg==\"/></div></div></div></td><td><div style=\"display:flex; align-items:left;\">\n",
       "      <div style=\"display:flex; flex-direction:column; align-items:center;\">\n",
       "      <div>Image=17</div><div><img width=\"80\" height=\"80\" style=\"border:1px solid black; image-rendering:pixelated; object-fit:cover;\" src=\"data:image/png;base64,iVBORw0KGgoAAAANSUhEUgAAAAIAAAACCAIAAAD91JpzAAAAFklEQVR4nGPg5OT89u0bw////xkYGAAqNQX7/ZM3VAAAAABJRU5ErkJggg==\"/></div></div></div></td><td><div style=\"display:flex; align-items:left;\">\n",
       "      <div style=\"display:flex; flex-direction:column; align-items:center;\">\n",
       "      <div>Image=18</div><div><img width=\"80\" height=\"80\" style=\"border:1px solid black; image-rendering:pixelated; object-fit:cover;\" src=\"data:image/png;base64,iVBORw0KGgoAAAANSUhEUgAAAAIAAAACCAIAAAD91JpzAAAAFklEQVR4nGOQkZH5+vUrw////xkYGAAsxgYxl54QjQAAAABJRU5ErkJggg==\"/></div></div></div></td><td><div style=\"display:flex; align-items:left;\">\n",
       "      <div style=\"display:flex; flex-direction:column; align-items:center;\">\n",
       "      <div>Image=19</div><div><img width=\"80\" height=\"80\" style=\"border:1px solid black; image-rendering:pixelated; object-fit:cover;\" src=\"data:image/png;base64,iVBORw0KGgoAAAANSUhEUgAAAAIAAAACCAIAAAD91JpzAAAAFklEQVR4nGNgZGT8//8/w/fv3xkYGAApkAXmQJCyEgAAAABJRU5ErkJggg==\"/></div></div></div></td></tr></table>"
      ],
      "text/plain": [
       "<IPython.core.display.HTML object>"
      ]
     },
     "metadata": {},
     "output_type": "display_data"
    }
   ],
   "source": [
    "plot_faces(gen_real(20)[0])"
   ]
  },
  {
   "cell_type": "markdown",
   "id": "246ebf77",
   "metadata": {},
   "source": [
    "We can clearly see the pattern in the images coming from the training dataset."
   ]
  },
  {
   "cell_type": "markdown",
   "id": "37705d6d",
   "metadata": {},
   "source": [
    "## Training the GAN\n",
    "\n",
    "The block diagram below shows the main idea behind training GANs. The procedure is similar to alternative least squares. \n",
    "\n",
    "![](GAN-3.jpg)"
   ]
  },
  {
   "cell_type": "code",
   "execution_count": 19,
   "id": "148b9591",
   "metadata": {},
   "outputs": [],
   "source": [
    "def define_gan(g_model, d_model):\n",
    "    d_model.trainable = False\n",
    "    model = Sequential()\n",
    "    model.add(g_model)\n",
    "    model.add(d_model)\n",
    "    opt = Adam(lr=0.001)\n",
    "    model.compile(loss='binary_crossentropy', optimizer=opt)\n",
    "    return model"
   ]
  },
  {
   "cell_type": "code",
   "execution_count": 20,
   "id": "0d10c6a8",
   "metadata": {},
   "outputs": [],
   "source": [
    "gan_model = define_gan(generator, discriminator)"
   ]
  },
  {
   "cell_type": "markdown",
   "id": "4a6d0e75",
   "metadata": {},
   "source": [
    "It is important to note that we will train two networks:\n",
    "\n",
    "- Discriminator on \n",
    " - Fake data (class 0)\n",
    " - Real data (class 1)\n",
    "- Combined model consisting og Generator + Discriminator (where the Discriminator is is fixed) on\n",
    " - Fake data (class 0) posing as real data (class 1) to the model\n",
    " \n",
    "Thus, we do not train on the generator separately. "
   ]
  },
  {
   "cell_type": "code",
   "execution_count": 21,
   "id": "1f5a7d10",
   "metadata": {},
   "outputs": [
    {
     "name": "stderr",
     "output_type": "stream",
     "text": [
      "WARNING:absl:Found untraced functions such as re_lu_layer_call_and_return_conditional_losses, re_lu_layer_call_fn, re_lu_layer_call_fn, re_lu_layer_call_and_return_conditional_losses, re_lu_layer_call_and_return_conditional_losses while saving (showing 5 of 5). These functions will not be directly callable after loading.\n"
     ]
    },
    {
     "name": "stdout",
     "output_type": "stream",
     "text": [
      "\n",
      "Iteration: 0\n",
      "Discriminator loss: 0.61\n",
      "Generator loss: 0.72\n"
     ]
    },
    {
     "name": "stderr",
     "output_type": "stream",
     "text": [
      "WARNING:absl:Found untraced functions such as re_lu_layer_call_and_return_conditional_losses, re_lu_layer_call_fn, re_lu_layer_call_fn, re_lu_layer_call_and_return_conditional_losses, re_lu_layer_call_and_return_conditional_losses while saving (showing 5 of 5). These functions will not be directly callable after loading.\n"
     ]
    },
    {
     "name": "stdout",
     "output_type": "stream",
     "text": [
      "\n",
      "Iteration: 100\n",
      "Discriminator loss: 0.61\n",
      "Generator loss: 0.75\n"
     ]
    },
    {
     "name": "stderr",
     "output_type": "stream",
     "text": [
      "WARNING:absl:Found untraced functions such as re_lu_layer_call_and_return_conditional_losses, re_lu_layer_call_fn, re_lu_layer_call_fn, re_lu_layer_call_and_return_conditional_losses, re_lu_layer_call_and_return_conditional_losses while saving (showing 5 of 5). These functions will not be directly callable after loading.\n"
     ]
    },
    {
     "name": "stdout",
     "output_type": "stream",
     "text": [
      "\n",
      "Iteration: 200\n",
      "Discriminator loss: 0.59\n",
      "Generator loss: 0.76\n"
     ]
    },
    {
     "name": "stderr",
     "output_type": "stream",
     "text": [
      "WARNING:absl:Found untraced functions such as re_lu_layer_call_and_return_conditional_losses, re_lu_layer_call_fn, re_lu_layer_call_fn, re_lu_layer_call_and_return_conditional_losses, re_lu_layer_call_and_return_conditional_losses while saving (showing 5 of 5). These functions will not be directly callable after loading.\n"
     ]
    },
    {
     "name": "stdout",
     "output_type": "stream",
     "text": [
      "\n",
      "Iteration: 300\n",
      "Discriminator loss: 0.57\n",
      "Generator loss: 0.72\n"
     ]
    },
    {
     "name": "stderr",
     "output_type": "stream",
     "text": [
      "WARNING:absl:Found untraced functions such as re_lu_layer_call_and_return_conditional_losses, re_lu_layer_call_fn, re_lu_layer_call_fn, re_lu_layer_call_and_return_conditional_losses, re_lu_layer_call_and_return_conditional_losses while saving (showing 5 of 5). These functions will not be directly callable after loading.\n"
     ]
    },
    {
     "name": "stdout",
     "output_type": "stream",
     "text": [
      "\n",
      "Iteration: 400\n",
      "Discriminator loss: 0.60\n",
      "Generator loss: 0.77\n"
     ]
    },
    {
     "name": "stderr",
     "output_type": "stream",
     "text": [
      "WARNING:absl:Found untraced functions such as re_lu_layer_call_and_return_conditional_losses, re_lu_layer_call_fn, re_lu_layer_call_fn, re_lu_layer_call_and_return_conditional_losses, re_lu_layer_call_and_return_conditional_losses while saving (showing 5 of 5). These functions will not be directly callable after loading.\n"
     ]
    },
    {
     "name": "stdout",
     "output_type": "stream",
     "text": [
      "\n",
      "Iteration: 500\n",
      "Discriminator loss: 0.61\n",
      "Generator loss: 0.68\n"
     ]
    },
    {
     "name": "stderr",
     "output_type": "stream",
     "text": [
      "WARNING:absl:Found untraced functions such as re_lu_layer_call_and_return_conditional_losses, re_lu_layer_call_fn, re_lu_layer_call_fn, re_lu_layer_call_and_return_conditional_losses, re_lu_layer_call_and_return_conditional_losses while saving (showing 5 of 5). These functions will not be directly callable after loading.\n"
     ]
    },
    {
     "name": "stdout",
     "output_type": "stream",
     "text": [
      "\n",
      "Iteration: 600\n",
      "Discriminator loss: 0.64\n",
      "Generator loss: 0.66\n"
     ]
    },
    {
     "name": "stderr",
     "output_type": "stream",
     "text": [
      "WARNING:absl:Found untraced functions such as re_lu_layer_call_and_return_conditional_losses, re_lu_layer_call_fn, re_lu_layer_call_fn, re_lu_layer_call_and_return_conditional_losses, re_lu_layer_call_and_return_conditional_losses while saving (showing 5 of 5). These functions will not be directly callable after loading.\n"
     ]
    },
    {
     "name": "stdout",
     "output_type": "stream",
     "text": [
      "\n",
      "Iteration: 700\n",
      "Discriminator loss: 0.60\n",
      "Generator loss: 0.71\n"
     ]
    },
    {
     "name": "stderr",
     "output_type": "stream",
     "text": [
      "WARNING:absl:Found untraced functions such as re_lu_layer_call_and_return_conditional_losses, re_lu_layer_call_fn, re_lu_layer_call_fn, re_lu_layer_call_and_return_conditional_losses, re_lu_layer_call_and_return_conditional_losses while saving (showing 5 of 5). These functions will not be directly callable after loading.\n"
     ]
    },
    {
     "name": "stdout",
     "output_type": "stream",
     "text": [
      "\n",
      "Iteration: 800\n",
      "Discriminator loss: 0.65\n",
      "Generator loss: 0.66\n"
     ]
    },
    {
     "name": "stderr",
     "output_type": "stream",
     "text": [
      "WARNING:absl:Found untraced functions such as re_lu_layer_call_and_return_conditional_losses, re_lu_layer_call_fn, re_lu_layer_call_fn, re_lu_layer_call_and_return_conditional_losses, re_lu_layer_call_and_return_conditional_losses while saving (showing 5 of 5). These functions will not be directly callable after loading.\n"
     ]
    },
    {
     "name": "stdout",
     "output_type": "stream",
     "text": [
      "\n",
      "Iteration: 900\n",
      "Discriminator loss: 0.70\n",
      "Generator loss: 0.63\n"
     ]
    }
   ],
   "source": [
    "samples_saved = {}\n",
    "losses = {}\n",
    "N_ITER = 1000\n",
    "STEP = N_ITER//10\n",
    "for i in range(N_ITER):\n",
    "    # Generate some fake data\n",
    "    X_fake, y_fake = gen_fake(2)\n",
    "    X_real, y_real = gen_real(2)\n",
    "    \n",
    "    X, y = np.vstack((X_fake, X_real)), np.vstack((y_fake, y_real))\n",
    "    \n",
    "    # Discriminator \n",
    "    d_loss = discriminator.train_on_batch(X, y)\n",
    "        \n",
    "    # Generator\n",
    "    n_samples = 4\n",
    "    g_loss= gan_model.train_on_batch(np.random.randn(n_samples, 1), np.ones(n_samples))\n",
    "    losses[i] = {'Gen. loss':g_loss, 'Disc. loss':d_loss}\n",
    "    \n",
    "    # Save 5 samples\n",
    "    samples_saved[i]= gen_fake(5)[0]\n",
    "    \n",
    "    if i%STEP==0:\n",
    "        # Save model\n",
    "        generator.save(f\"models/gen-{i}\")\n",
    "        print(\"\")\n",
    "        print(\"Iteration: {}\".format(i))\n",
    "        \n",
    "        print(\"Discriminator loss: {:0.2f}\".format(d_loss))\n",
    "\n",
    "\n",
    "        print(\"Generator loss: {:0.2f}\".format(g_loss))\n",
    "\n"
   ]
  },
  {
   "cell_type": "markdown",
   "id": "800bee2e",
   "metadata": {},
   "source": [
    "## Convergence"
   ]
  },
  {
   "cell_type": "code",
   "execution_count": 22,
   "id": "9c65c340",
   "metadata": {},
   "outputs": [
    {
     "data": {
      "image/png": "[encoded data removed]",
      "text/plain": [
       "<Figure size 432x288 with 1 Axes>"
      ]
     },
     "metadata": {
      "needs_background": "light"
     },
     "output_type": "display_data"
    }
   ],
   "source": [
    "import pandas as pd\n",
    "losses_df = pd.DataFrame(losses)\n",
    "losses_df.T.plot();\n",
    "plt.xlabel(\"Iteration Number\");"
   ]
  },
  {
   "cell_type": "markdown",
   "id": "2bcdb6ad",
   "metadata": {},
   "source": [
    "You might epxect that over time the generator loss reduces as it becomes better and correspodingly the discriminator has a harder time!\n",
    "\n",
    "## Generating some \"fake\" images from the trained generator\n"
   ]
  },
  {
   "cell_type": "code",
   "execution_count": 23,
   "id": "03f29ab5",
   "metadata": {},
   "outputs": [
    {
     "data": {
      "text/html": [
       "<table class=\"show_images\" style=\"border-spacing:0;\"><tr><td><div style=\"display:flex; align-items:left;\">\n",
       "      <div style=\"display:flex; flex-direction:column; align-items:center;\">\n",
       "      <div>Image=0</div><div><img width=\"80\" height=\"80\" style=\"border:1px solid black; image-rendering:pixelated; object-fit:cover;\" src=\"data:image/png;base64,iVBORw0KGgoAAAANSUhEUgAAAAIAAAACCAIAAAD91JpzAAAAFUlEQVR4nAXBAQEAAACAEP9PF1CpMCnkBftM2nerAAAAAElFTkSuQmCC\"/></div></div></div></td><td><div style=\"display:flex; align-items:left;\">\n",
       "      <div style=\"display:flex; flex-direction:column; align-items:center;\">\n",
       "      <div>Image=1</div><div><img width=\"80\" height=\"80\" style=\"border:1px solid black; image-rendering:pixelated; object-fit:cover;\" src=\"data:image/png;base64,iVBORw0KGgoAAAANSUhEUgAAAAIAAAACCAIAAAD91JpzAAAAFUlEQVR4nAXBAQEAAACAEP9PF1CpMCnkBftM2nerAAAAAElFTkSuQmCC\"/></div></div></div></td><td><div style=\"display:flex; align-items:left;\">\n",
       "      <div style=\"display:flex; flex-direction:column; align-items:center;\">\n",
       "      <div>Image=2</div><div><img width=\"80\" height=\"80\" style=\"border:1px solid black; image-rendering:pixelated; object-fit:cover;\" src=\"data:image/png;base64,iVBORw0KGgoAAAANSUhEUgAAAAIAAAACCAIAAAD91JpzAAAAFklEQVR4nGNgYGD4//8/w////7W1tQEq5gZ8yd8VKgAAAABJRU5ErkJggg==\"/></div></div></div></td><td><div style=\"display:flex; align-items:left;\">\n",
       "      <div style=\"display:flex; flex-direction:column; align-items:center;\">\n",
       "      <div>Image=3</div><div><img width=\"80\" height=\"80\" style=\"border:1px solid black; image-rendering:pixelated; object-fit:cover;\" src=\"data:image/png;base64,iVBORw0KGgoAAAANSUhEUgAAAAIAAAACCAIAAAD91JpzAAAAFklEQVR4nGNgYGD4//8/w////zU0NAAq1AZz61mzFAAAAABJRU5ErkJggg==\"/></div></div></div></td><td><div style=\"display:flex; align-items:left;\">\n",
       "      <div style=\"display:flex; flex-direction:column; align-items:center;\">\n",
       "      <div>Image=4</div><div><img width=\"80\" height=\"80\" style=\"border:1px solid black; image-rendering:pixelated; object-fit:cover;\" src=\"data:image/png;base64,iVBORw0KGgoAAAANSUhEUgAAAAIAAAACCAIAAAD91JpzAAAAFklEQVR4nGNgYGD4//8/w////83MzAArKAadKldxjwAAAABJRU5ErkJggg==\"/></div></div></div></td><td><div style=\"display:flex; align-items:left;\">\n",
       "      <div style=\"display:flex; flex-direction:column; align-items:center;\">\n",
       "      <div>Image=5</div><div><img width=\"80\" height=\"80\" style=\"border:1px solid black; image-rendering:pixelated; object-fit:cover;\" src=\"data:image/png;base64,iVBORw0KGgoAAAANSUhEUgAAAAIAAAACCAIAAAD91JpzAAAAFklEQVR4nGNgYGD4//8/w////xUVFQEqqgZekcUFZgAAAABJRU5ErkJggg==\"/></div></div></div></td><td><div style=\"display:flex; align-items:left;\">\n",
       "      <div style=\"display:flex; flex-direction:column; align-items:center;\">\n",
       "      <div>Image=6</div><div><img width=\"80\" height=\"80\" style=\"border:1px solid black; image-rendering:pixelated; object-fit:cover;\" src=\"data:image/png;base64,iVBORw0KGgoAAAANSUhEUgAAAAIAAAACCAIAAAD91JpzAAAAFklEQVR4nGNgYGD4//8/w////6WkpAAqgAZJm844RAAAAABJRU5ErkJggg==\"/></div></div></div></td><td><div style=\"display:flex; align-items:left;\">\n",
       "      <div style=\"display:flex; flex-direction:column; align-items:center;\">\n",
       "      <div>Image=7</div><div><img width=\"80\" height=\"80\" style=\"border:1px solid black; image-rendering:pixelated; object-fit:cover;\" src=\"data:image/png;base64,iVBORw0KGgoAAAANSUhEUgAAAAIAAAACCAIAAAD91JpzAAAAFklEQVR4nGPg4OD4//8/w////xkYGAArBAYTy4KUnAAAAABJRU5ErkJggg==\"/></div></div></div></td></tr></table><table class=\"show_images\" style=\"border-spacing:0;\"><tr><td><div style=\"display:flex; align-items:left;\">\n",
       "      <div style=\"display:flex; flex-direction:column; align-items:center;\">\n",
       "      <div>Image=8</div><div><img width=\"80\" height=\"80\" style=\"border:1px solid black; image-rendering:pixelated; object-fit:cover;\" src=\"data:image/png;base64,iVBORw0KGgoAAAANSUhEUgAAAAIAAAACCAIAAAD91JpzAAAAFklEQVR4nGMIDg7+//8/w////xkYGAA1kAb0zF294gAAAABJRU5ErkJggg==\"/></div></div></div></td><td><div style=\"display:flex; align-items:left;\">\n",
       "      <div style=\"display:flex; flex-direction:column; align-items:center;\">\n",
       "      <div>Image=9</div><div><img width=\"80\" height=\"80\" style=\"border:1px solid black; image-rendering:pixelated; object-fit:cover;\" src=\"data:image/png;base64,iVBORw0KGgoAAAANSUhEUgAAAAIAAAACCAIAAAD91JpzAAAAFklEQVR4nGNgYGD4//8/w/////n5+QEqPgYoo0Dm9wAAAABJRU5ErkJggg==\"/></div></div></div></td><td><div style=\"display:flex; align-items:left;\">\n",
       "      <div style=\"display:flex; flex-direction:column; align-items:center;\">\n",
       "      <div>Image=10</div><div><img width=\"80\" height=\"80\" style=\"border:1px solid black; image-rendering:pixelated; object-fit:cover;\" src=\"data:image/png;base64,iVBORw0KGgoAAAANSUhEUgAAAAIAAAACCAIAAAD91JpzAAAAFUlEQVR4nAXBAQEAAACAEP9PF1CpMCnkBftM2nerAAAAAElFTkSuQmCC\"/></div></div></div></td><td><div style=\"display:flex; align-items:left;\">\n",
       "      <div style=\"display:flex; flex-direction:column; align-items:center;\">\n",
       "      <div>Image=11</div><div><img width=\"80\" height=\"80\" style=\"border:1px solid black; image-rendering:pixelated; object-fit:cover;\" src=\"data:image/png;base64,iVBORw0KGgoAAAANSUhEUgAAAAIAAAACCAIAAAD91JpzAAAAFklEQVR4nGNwcXH5//8/w////xkYGAAzdAbH6bpyFAAAAABJRU5ErkJggg==\"/></div></div></div></td><td><div style=\"display:flex; align-items:left;\">\n",
       "      <div style=\"display:flex; flex-direction:column; align-items:center;\">\n",
       "      <div>Image=12</div><div><img width=\"80\" height=\"80\" style=\"border:1px solid black; image-rendering:pixelated; object-fit:cover;\" src=\"data:image/png;base64,iVBORw0KGgoAAAANSUhEUgAAAAIAAAACCAIAAAD91JpzAAAAFUlEQVR4nAXBAQEAAACAEP9PF1CpMCnkBftM2nerAAAAAElFTkSuQmCC\"/></div></div></div></td><td><div style=\"display:flex; align-items:left;\">\n",
       "      <div style=\"display:flex; flex-direction:column; align-items:center;\">\n",
       "      <div>Image=13</div><div><img width=\"80\" height=\"80\" style=\"border:1px solid black; image-rendering:pixelated; object-fit:cover;\" src=\"data:image/png;base64,iVBORw0KGgoAAAANSUhEUgAAAAIAAAACCAIAAAD91JpzAAAAFUlEQVR4nAXBAQEAAACAEP9PF1CpMCnkBftM2nerAAAAAElFTkSuQmCC\"/></div></div></div></td><td><div style=\"display:flex; align-items:left;\">\n",
       "      <div style=\"display:flex; flex-direction:column; align-items:center;\">\n",
       "      <div>Image=14</div><div><img width=\"80\" height=\"80\" style=\"border:1px solid black; image-rendering:pixelated; object-fit:cover;\" src=\"data:image/png;base64,iVBORw0KGgoAAAANSUhEUgAAAAIAAAACCAIAAAD91JpzAAAAFUlEQVR4nAXBAQEAAACAEP9PF1CpMCnkBftM2nerAAAAAElFTkSuQmCC\"/></div></div></div></td><td><div style=\"display:flex; align-items:left;\">\n",
       "      <div style=\"display:flex; flex-direction:column; align-items:center;\">\n",
       "      <div>Image=15</div><div><img width=\"80\" height=\"80\" style=\"border:1px solid black; image-rendering:pixelated; object-fit:cover;\" src=\"data:image/png;base64,iVBORw0KGgoAAAANSUhEUgAAAAIAAAACCAIAAAD91JpzAAAAFUlEQVR4nAXBAQEAAACAEP9PF1CpMCnkBftM2nerAAAAAElFTkSuQmCC\"/></div></div></div></td></tr></table><table class=\"show_images\" style=\"border-spacing:0;\"><tr><td><div style=\"display:flex; align-items:left;\">\n",
       "      <div style=\"display:flex; flex-direction:column; align-items:center;\">\n",
       "      <div>Image=16</div><div><img width=\"80\" height=\"80\" style=\"border:1px solid black; image-rendering:pixelated; object-fit:cover;\" src=\"data:image/png;base64,iVBORw0KGgoAAAANSUhEUgAAAAIAAAACCAIAAAD91JpzAAAAFklEQVR4nGNwc3P7//8/w////xkYGAAzvAbNwJuC1QAAAABJRU5ErkJggg==\"/></div></div></div></td><td><div style=\"display:flex; align-items:left;\">\n",
       "      <div style=\"display:flex; flex-direction:column; align-items:center;\">\n",
       "      <div>Image=17</div><div><img width=\"80\" height=\"80\" style=\"border:1px solid black; image-rendering:pixelated; object-fit:cover;\" src=\"data:image/png;base64,iVBORw0KGgoAAAANSUhEUgAAAAIAAAACCAIAAAD91JpzAAAAFklEQVR4nGNgYGD4//8/w////5WUlAAqsAZho8SErAAAAABJRU5ErkJggg==\"/></div></div></div></td><td><div style=\"display:flex; align-items:left;\">\n",
       "      <div style=\"display:flex; flex-direction:column; align-items:center;\">\n",
       "      <div>Image=18</div><div><img width=\"80\" height=\"80\" style=\"border:1px solid black; image-rendering:pixelated; object-fit:cover;\" src=\"data:image/png;base64,iVBORw0KGgoAAAANSUhEUgAAAAIAAAACCAIAAAD91JpzAAAAFklEQVR4nGNgYGD4//8/w////0NCQgAr3Ab3j99RKgAAAABJRU5ErkJggg==\"/></div></div></div></td><td><div style=\"display:flex; align-items:left;\">\n",
       "      <div style=\"display:flex; flex-direction:column; align-items:center;\">\n",
       "      <div>Image=19</div><div><img width=\"80\" height=\"80\" style=\"border:1px solid black; image-rendering:pixelated; object-fit:cover;\" src=\"data:image/png;base64,iVBORw0KGgoAAAANSUhEUgAAAAIAAAACCAIAAAD91JpzAAAAFklEQVR4nGOwtbX9//8/w////xkYGAAyeAay8NfZbQAAAABJRU5ErkJggg==\"/></div></div></div></td></tr></table>"
      ],
      "text/plain": [
       "<IPython.core.display.HTML object>"
      ]
     },
     "metadata": {},
     "output_type": "display_data"
    }
   ],
   "source": [
    "plot_faces(gen_fake(20)[0])"
   ]
  },
  {
   "cell_type": "markdown",
   "id": "5b662046",
   "metadata": {},
   "source": [
    "You could not tell, right! The generator has been trained well! "
   ]
  },
  {
   "cell_type": "markdown",
   "id": "d00f5e95",
   "metadata": {},
   "source": [
    "## Visualising evolution of generator\n",
    "\n",
    "Let us now visualise the evolution of the generator. To do so, we use the already saved generator models at different iterations and feed them the same \"random\" input."
   ]
  },
  {
   "cell_type": "code",
   "execution_count": 24,
   "id": "817902f6",
   "metadata": {},
   "outputs": [],
   "source": [
    "o = {}\n",
    "for i in range(0, N_ITER, STEP):\n",
    "    for inp in [0., 0.2, 0.4, 0.6, 1.]:\n",
    "        o[f'It:{i}-Inp:{inp}'] = load_model(f\"models/gen-{i}\").predict(np.array([inp])).reshape(2, 2)"
   ]
  },
  {
   "cell_type": "code",
   "execution_count": 26,
   "id": "9299b56a",
   "metadata": {},
   "outputs": [
    {
     "data": {
      "text/html": [
       "<table class=\"show_images\" style=\"border-spacing:0;\"><tr><td><div style=\"display:flex; align-items:left;\">\n",
       "      <div style=\"display:flex; flex-direction:column; align-items:center;\">\n",
       "      <div>It:0-Inp:0.0</div><div><img width=\"80\" height=\"80\" style=\"border:1px solid black; image-rendering:pixelated; object-fit:cover;\" src=\"data:image/png;base64,iVBORw0KGgoAAAANSUhEUgAAAAIAAAACCAIAAAD91JpzAAAAFklEQVR4nGP8//8/AwMDEwMDAwMDAwAkBgMB/DXemwAAAABJRU5ErkJggg==\"/></div></div></div></td><td><div style=\"display:flex; align-items:left;\">\n",
       "      <div style=\"display:flex; flex-direction:column; align-items:center;\">\n",
       "      <div>It:0-Inp:0.2</div><div><img width=\"80\" height=\"80\" style=\"border:1px solid black; image-rendering:pixelated; object-fit:cover;\" src=\"data:image/png;base64,iVBORw0KGgoAAAANSUhEUgAAAAIAAAACCAIAAAD91JpzAAAAF0lEQVR4nGNYtWrV////GRgYGP7//w8AONUH+fjktD4AAAAASUVORK5CYII=\"/></div></div></div></td><td><div style=\"display:flex; align-items:left;\">\n",
       "      <div style=\"display:flex; flex-direction:column; align-items:center;\">\n",
       "      <div>It:0-Inp:0.4</div><div><img width=\"80\" height=\"80\" style=\"border:1px solid black; image-rendering:pixelated; object-fit:cover;\" src=\"data:image/png;base64,iVBORw0KGgoAAAANSUhEUgAAAAIAAAACCAIAAAD91JpzAAAAF0lEQVR4nGNYtWrV////GRgYGP7//w8AONUH+fjktD4AAAAASUVORK5CYII=\"/></div></div></div></td><td><div style=\"display:flex; align-items:left;\">\n",
       "      <div style=\"display:flex; flex-direction:column; align-items:center;\">\n",
       "      <div>It:0-Inp:0.6</div><div><img width=\"80\" height=\"80\" style=\"border:1px solid black; image-rendering:pixelated; object-fit:cover;\" src=\"data:image/png;base64,iVBORw0KGgoAAAANSUhEUgAAAAIAAAACCAIAAAD91JpzAAAAF0lEQVR4nGNYtWrV////GRgYGP7//w8AONUH+fjktD4AAAAASUVORK5CYII=\"/></div></div></div></td><td><div style=\"display:flex; align-items:left;\">\n",
       "      <div style=\"display:flex; flex-direction:column; align-items:center;\">\n",
       "      <div>It:0-Inp:1.0</div><div><img width=\"80\" height=\"80\" style=\"border:1px solid black; image-rendering:pixelated; object-fit:cover;\" src=\"data:image/png;base64,iVBORw0KGgoAAAANSUhEUgAAAAIAAAACCAIAAAD91JpzAAAAF0lEQVR4nGNYtWrV////GRgYGP7//w8AONUH+fjktD4AAAAASUVORK5CYII=\"/></div></div></div></td></tr></table><table class=\"show_images\" style=\"border-spacing:0;\"><tr><td><div style=\"display:flex; align-items:left;\">\n",
       "      <div style=\"display:flex; flex-direction:column; align-items:center;\">\n",
       "      <div>It:100-Inp:0.0</div><div><img width=\"80\" height=\"80\" style=\"border:1px solid black; image-rendering:pixelated; object-fit:cover;\" src=\"data:image/png;base64,iVBORw0KGgoAAAANSUhEUgAAAAIAAAACCAIAAAD91JpzAAAAFklEQVR4nGNgYGD4//8/0////xkYGAAp8gX9PrPXDAAAAABJRU5ErkJggg==\"/></div></div></div></td><td><div style=\"display:flex; align-items:left;\">\n",
       "      <div style=\"display:flex; flex-direction:column; align-items:center;\">\n",
       "      <div>It:100-Inp:0.2</div><div><img width=\"80\" height=\"80\" style=\"border:1px solid black; image-rendering:pixelated; object-fit:cover;\" src=\"data:image/png;base64,iVBORw0KGgoAAAANSUhEUgAAAAIAAAACCAIAAAD91JpzAAAAFklEQVR4nGNgYGD4//8/07p16xgYGAAlMwUKrG/M+gAAAABJRU5ErkJggg==\"/></div></div></div></td><td><div style=\"display:flex; align-items:left;\">\n",
       "      <div style=\"display:flex; flex-direction:column; align-items:center;\">\n",
       "      <div>It:100-Inp:0.4</div><div><img width=\"80\" height=\"80\" style=\"border:1px solid black; image-rendering:pixelated; object-fit:cover;\" src=\"data:image/png;base64,iVBORw0KGgoAAAANSUhEUgAAAAIAAAACCAIAAAD91JpzAAAAFklEQVR4nGNgYGD4//8/k6qqKgMDAwAdLANvVyJtTQAAAABJRU5ErkJggg==\"/></div></div></div></td><td><div style=\"display:flex; align-items:left;\">\n",
       "      <div style=\"display:flex; flex-direction:column; align-items:center;\">\n",
       "      <div>It:100-Inp:0.6</div><div><img width=\"80\" height=\"80\" style=\"border:1px solid black; image-rendering:pixelated; object-fit:cover;\" src=\"data:image/png;base64,iVBORw0KGgoAAAANSUhEUgAAAAIAAAACCAIAAAD91JpzAAAAFklEQVR4nGOQkpL6//8/AwMDw////wEklQZJw0UPUgAAAABJRU5ErkJggg==\"/></div></div></div></td><td><div style=\"display:flex; align-items:left;\">\n",
       "      <div style=\"display:flex; flex-direction:column; align-items:center;\">\n",
       "      <div>It:100-Inp:1.0</div><div><img width=\"80\" height=\"80\" style=\"border:1px solid black; image-rendering:pixelated; object-fit:cover;\" src=\"data:image/png;base64,iVBORw0KGgoAAAANSUhEUgAAAAIAAAACCAIAAAD91JpzAAAAFklEQVR4nGMICAj4//8/AwMDw////wEsLQbr/4pjtwAAAABJRU5ErkJggg==\"/></div></div></div></td></tr></table><table class=\"show_images\" style=\"border-spacing:0;\"><tr><td><div style=\"display:flex; align-items:left;\">\n",
       "      <div style=\"display:flex; flex-direction:column; align-items:center;\">\n",
       "      <div>It:200-Inp:0.0</div><div><img width=\"80\" height=\"80\" style=\"border:1px solid black; image-rendering:pixelated; object-fit:cover;\" src=\"data:image/png;base64,iVBORw0KGgoAAAANSUhEUgAAAAIAAAACCAIAAAD91JpzAAAAF0lEQVR4nGNgYGD4//8/0////69evQoALvAIfJgqbyMAAAAASUVORK5CYII=\"/></div></div></div></td><td><div style=\"display:flex; align-items:left;\">\n",
       "      <div style=\"display:flex; flex-direction:column; align-items:center;\">\n",
       "      <div>It:200-Inp:0.2</div><div><img width=\"80\" height=\"80\" style=\"border:1px solid black; image-rendering:pixelated; object-fit:cover;\" src=\"data:image/png;base64,iVBORw0KGgoAAAANSUhEUgAAAAIAAAACCAIAAAD91JpzAAAAFklEQVR4nGNgYGD4//8/0////xkYGAAp8gX9PrPXDAAAAABJRU5ErkJggg==\"/></div></div></div></td><td><div style=\"display:flex; align-items:left;\">\n",
       "      <div style=\"display:flex; flex-direction:column; align-items:center;\">\n",
       "      <div>It:200-Inp:0.4</div><div><img width=\"80\" height=\"80\" style=\"border:1px solid black; image-rendering:pixelated; object-fit:cover;\" src=\"data:image/png;base64,iVBORw0KGgoAAAANSUhEUgAAAAIAAAACCAIAAAD91JpzAAAAFklEQVR4nGNgYGD4//8/05kzZxgYGAAm9QVkjUmo0wAAAABJRU5ErkJggg==\"/></div></div></div></td><td><div style=\"display:flex; align-items:left;\">\n",
       "      <div style=\"display:flex; flex-direction:column; align-items:center;\">\n",
       "      <div>It:200-Inp:0.6</div><div><img width=\"80\" height=\"80\" style=\"border:1px solid black; image-rendering:pixelated; object-fit:cover;\" src=\"data:image/png;base64,iVBORw0KGgoAAAANSUhEUgAAAAIAAAACCAIAAAD91JpzAAAAFklEQVR4nGNgYGD4//8/U09PDwMDAwAjNQSkCL0h8wAAAABJRU5ErkJggg==\"/></div></div></div></td><td><div style=\"display:flex; align-items:left;\">\n",
       "      <div style=\"display:flex; flex-direction:column; align-items:center;\">\n",
       "      <div>It:200-Inp:1.0</div><div><img width=\"80\" height=\"80\" style=\"border:1px solid black; image-rendering:pixelated; object-fit:cover;\" src=\"data:image/png;base64,iVBORw0KGgoAAAANSUhEUgAAAAIAAAACCAIAAAD91JpzAAAAFklEQVR4nGNgYGD4//8/k5ubGwMDAwAfGwPSPkAwqQAAAABJRU5ErkJggg==\"/></div></div></div></td></tr></table><table class=\"show_images\" style=\"border-spacing:0;\"><tr><td><div style=\"display:flex; align-items:left;\">\n",
       "      <div style=\"display:flex; flex-direction:column; align-items:center;\">\n",
       "      <div>It:300-Inp:0.0</div><div><img width=\"80\" height=\"80\" style=\"border:1px solid black; image-rendering:pixelated; object-fit:cover;\" src=\"data:image/png;base64,iVBORw0KGgoAAAANSUhEUgAAAAIAAAACCAIAAAD91JpzAAAAFklEQVR4nGNgYGD4//8/w////xMTEwEsKgceSbruSwAAAABJRU5ErkJggg==\"/></div></div></div></td><td><div style=\"display:flex; align-items:left;\">\n",
       "      <div style=\"display:flex; flex-direction:column; align-items:center;\">\n",
       "      <div>It:300-Inp:0.2</div><div><img width=\"80\" height=\"80\" style=\"border:1px solid black; image-rendering:pixelated; object-fit:cover;\" src=\"data:image/png;base64,iVBORw0KGgoAAAANSUhEUgAAAAIAAAACCAIAAAD91JpzAAAAF0lEQVR4nGNgYGD4//8/0////1+9egUAL24Iu7FeOGcAAAAASUVORK5CYII=\"/></div></div></div></td><td><div style=\"display:flex; align-items:left;\">\n",
       "      <div style=\"display:flex; flex-direction:column; align-items:center;\">\n",
       "      <div>It:300-Inp:0.4</div><div><img width=\"80\" height=\"80\" style=\"border:1px solid black; image-rendering:pixelated; object-fit:cover;\" src=\"data:image/png;base64,iVBORw0KGgoAAAANSUhEUgAAAAIAAAACCAIAAAD91JpzAAAAFklEQVR4nGNgYGD4//8/0////xkYGAAp8gX9PrPXDAAAAABJRU5ErkJggg==\"/></div></div></div></td><td><div style=\"display:flex; align-items:left;\">\n",
       "      <div style=\"display:flex; flex-direction:column; align-items:center;\">\n",
       "      <div>It:300-Inp:0.6</div><div><img width=\"80\" height=\"80\" style=\"border:1px solid black; image-rendering:pixelated; object-fit:cover;\" src=\"data:image/png;base64,iVBORw0KGgoAAAANSUhEUgAAAAIAAAACCAIAAAD91JpzAAAAFklEQVR4nGNgYGD4//8/05MnTxgYGAAoXQWs2oHAFwAAAABJRU5ErkJggg==\"/></div></div></div></td><td><div style=\"display:flex; align-items:left;\">\n",
       "      <div style=\"display:flex; flex-direction:column; align-items:center;\">\n",
       "      <div>It:300-Inp:1.0</div><div><img width=\"80\" height=\"80\" style=\"border:1px solid black; image-rendering:pixelated; object-fit:cover;\" src=\"data:image/png;base64,iVBORw0KGgoAAAANSUhEUgAAAAIAAAACCAIAAAD91JpzAAAAFklEQVR4nGNgYGD4//8/07p16xgYGAAlMwUKrG/M+gAAAABJRU5ErkJggg==\"/></div></div></div></td></tr></table><table class=\"show_images\" style=\"border-spacing:0;\"><tr><td><div style=\"display:flex; align-items:left;\">\n",
       "      <div style=\"display:flex; flex-direction:column; align-items:center;\">\n",
       "      <div>It:400-Inp:0.0</div><div><img width=\"80\" height=\"80\" style=\"border:1px solid black; image-rendering:pixelated; object-fit:cover;\" src=\"data:image/png;base64,iVBORw0KGgoAAAANSUhEUgAAAAIAAAACCAIAAAD91JpzAAAAFklEQVR4nGNgYGD4//8/w////9XV1QEqzgZwpZ6tXQAAAABJRU5ErkJggg==\"/></div></div></div></td><td><div style=\"display:flex; align-items:left;\">\n",
       "      <div style=\"display:flex; flex-direction:column; align-items:center;\">\n",
       "      <div>It:400-Inp:0.2</div><div><img width=\"80\" height=\"80\" style=\"border:1px solid black; image-rendering:pixelated; object-fit:cover;\" src=\"data:image/png;base64,iVBORw0KGgoAAAANSUhEUgAAAAIAAAACCAIAAAD91JpzAAAAF0lEQVR4nGNgYGD4//8/0/////ft2wcALmYIN0Wxa1IAAAAASUVORK5CYII=\"/></div></div></div></td><td><div style=\"display:flex; align-items:left;\">\n",
       "      <div style=\"display:flex; flex-direction:column; align-items:center;\">\n",
       "      <div>It:400-Inp:0.4</div><div><img width=\"80\" height=\"80\" style=\"border:1px solid black; image-rendering:pixelated; object-fit:cover;\" src=\"data:image/png;base64,iVBORw0KGgoAAAANSUhEUgAAAAIAAAACCAIAAAD91JpzAAAAF0lEQVR4nGNgYGD4//8/0////79//w4AL7wI4p+4xF4AAAAASUVORK5CYII=\"/></div></div></div></td><td><div style=\"display:flex; align-items:left;\">\n",
       "      <div style=\"display:flex; flex-direction:column; align-items:center;\">\n",
       "      <div>It:400-Inp:0.6</div><div><img width=\"80\" height=\"80\" style=\"border:1px solid black; image-rendering:pixelated; object-fit:cover;\" src=\"data:image/png;base64,iVBORw0KGgoAAAANSUhEUgAAAAIAAAACCAIAAAD91JpzAAAAFklEQVR4nGNgYGD4//8/0////xkYGAAp8gX9PrPXDAAAAABJRU5ErkJggg==\"/></div></div></div></td><td><div style=\"display:flex; align-items:left;\">\n",
       "      <div style=\"display:flex; flex-direction:column; align-items:center;\">\n",
       "      <div>It:400-Inp:1.0</div><div><img width=\"80\" height=\"80\" style=\"border:1px solid black; image-rendering:pixelated; object-fit:cover;\" src=\"data:image/png;base64,iVBORw0KGgoAAAANSUhEUgAAAAIAAAACCAIAAAD91JpzAAAAFklEQVR4nGNgYGD4//8/09OnTxkYGAAobAWvmsYOegAAAABJRU5ErkJggg==\"/></div></div></div></td></tr></table><table class=\"show_images\" style=\"border-spacing:0;\"><tr><td><div style=\"display:flex; align-items:left;\">\n",
       "      <div style=\"display:flex; flex-direction:column; align-items:center;\">\n",
       "      <div>It:500-Inp:0.0</div><div><img width=\"80\" height=\"80\" style=\"border:1px solid black; image-rendering:pixelated; object-fit:cover;\" src=\"data:image/png;base64,iVBORw0KGgoAAAANSUhEUgAAAAIAAAACCAIAAAD91JpzAAAAFklEQVR4nGNgYGD4//8/w////3l5eQEqMgYijxKNfQAAAABJRU5ErkJggg==\"/></div></div></div></td><td><div style=\"display:flex; align-items:left;\">\n",
       "      <div style=\"display:flex; flex-direction:column; align-items:center;\">\n",
       "      <div>It:500-Inp:0.2</div><div><img width=\"80\" height=\"80\" style=\"border:1px solid black; image-rendering:pixelated; object-fit:cover;\" src=\"data:image/png;base64,iVBORw0KGgoAAAANSUhEUgAAAAIAAAACCAIAAAD91JpzAAAAF0lEQVR4nGNgYGD4//8/0////ydNmgQALV4Hs8qTgbQAAAAASUVORK5CYII=\"/></div></div></div></td><td><div style=\"display:flex; align-items:left;\">\n",
       "      <div style=\"display:flex; flex-direction:column; align-items:center;\">\n",
       "      <div>It:500-Inp:0.4</div><div><img width=\"80\" height=\"80\" style=\"border:1px solid black; image-rendering:pixelated; object-fit:cover;\" src=\"data:image/png;base64,iVBORw0KGgoAAAANSUhEUgAAAAIAAAACCAIAAAD91JpzAAAAF0lEQVR4nGNgYGD4//8/0////+/duwcALyYIl0Ii3e4AAAAASUVORK5CYII=\"/></div></div></div></td><td><div style=\"display:flex; align-items:left;\">\n",
       "      <div style=\"display:flex; flex-direction:column; align-items:center;\">\n",
       "      <div>It:500-Inp:0.6</div><div><img width=\"80\" height=\"80\" style=\"border:1px solid black; image-rendering:pixelated; object-fit:cover;\" src=\"data:image/png;base64,iVBORw0KGgoAAAANSUhEUgAAAAIAAAACCAIAAAD91JpzAAAAF0lEQVR4nGNgYGD4//8/0//////9+wcAL+YI94+Cf6gAAAAASUVORK5CYII=\"/></div></div></div></td><td><div style=\"display:flex; align-items:left;\">\n",
       "      <div style=\"display:flex; flex-direction:column; align-items:center;\">\n",
       "      <div>It:500-Inp:1.0</div><div><img width=\"80\" height=\"80\" style=\"border:1px solid black; image-rendering:pixelated; object-fit:cover;\" src=\"data:image/png;base64,iVBORw0KGgoAAAANSUhEUgAAAAIAAAACCAIAAAD91JpzAAAAFklEQVR4nGNgYGD4//8/08+fPxkYGAApmAXrzm1gjwAAAABJRU5ErkJggg==\"/></div></div></div></td></tr></table><table class=\"show_images\" style=\"border-spacing:0;\"><tr><td><div style=\"display:flex; align-items:left;\">\n",
       "      <div style=\"display:flex; flex-direction:column; align-items:center;\">\n",
       "      <div>It:600-Inp:0.0</div><div><img width=\"80\" height=\"80\" style=\"border:1px solid black; image-rendering:pixelated; object-fit:cover;\" src=\"data:image/png;base64,iVBORw0KGgoAAAANSUhEUgAAAAIAAAACCAIAAAD91JpzAAAAFklEQVR4nGNgYGD4//8/w////xkZGQEp6gX+6dxoIwAAAABJRU5ErkJggg==\"/></div></div></div></td><td><div style=\"display:flex; align-items:left;\">\n",
       "      <div style=\"display:flex; flex-direction:column; align-items:center;\">\n",
       "      <div>It:600-Inp:0.2</div><div><img width=\"80\" height=\"80\" style=\"border:1px solid black; image-rendering:pixelated; object-fit:cover;\" src=\"data:image/png;base64,iVBORw0KGgoAAAANSUhEUgAAAAIAAAACCAIAAAD91JpzAAAAFklEQVR4nGNgYGD4//8/w////4uKigAskAdR5iw7HAAAAABJRU5ErkJggg==\"/></div></div></div></td><td><div style=\"display:flex; align-items:left;\">\n",
       "      <div style=\"display:flex; flex-direction:column; align-items:center;\">\n",
       "      <div>It:600-Inp:0.4</div><div><img width=\"80\" height=\"80\" style=\"border:1px solid black; image-rendering:pixelated; object-fit:cover;\" src=\"data:image/png;base64,iVBORw0KGgoAAAANSUhEUgAAAAIAAAACCAIAAAD91JpzAAAAF0lEQVR4nGNgYGD4//8/0////w8cOAAALnIIPY/pcIQAAAAASUVORK5CYII=\"/></div></div></div></td><td><div style=\"display:flex; align-items:left;\">\n",
       "      <div style=\"display:flex; flex-direction:column; align-items:center;\">\n",
       "      <div>It:600-Inp:0.6</div><div><img width=\"80\" height=\"80\" style=\"border:1px solid black; image-rendering:pixelated; object-fit:cover;\" src=\"data:image/png;base64,iVBORw0KGgoAAAANSUhEUgAAAAIAAAACCAIAAAD91JpzAAAAF0lEQVR4nGNgYGD4//8/0////1++fAkAL2gIuLZH580AAAAASUVORK5CYII=\"/></div></div></div></td><td><div style=\"display:flex; align-items:left;\">\n",
       "      <div style=\"display:flex; flex-direction:column; align-items:center;\">\n",
       "      <div>It:600-Inp:1.0</div><div><img width=\"80\" height=\"80\" style=\"border:1px solid black; image-rendering:pixelated; object-fit:cover;\" src=\"data:image/png;base64,iVBORw0KGgoAAAANSUhEUgAAAAIAAAACCAIAAAD91JpzAAAAFklEQVR4nGNgYGD4//8/0////xkYGAAp8gX9PrPXDAAAAABJRU5ErkJggg==\"/></div></div></div></td></tr></table><table class=\"show_images\" style=\"border-spacing:0;\"><tr><td><div style=\"display:flex; align-items:left;\">\n",
       "      <div style=\"display:flex; flex-direction:column; align-items:center;\">\n",
       "      <div>It:700-Inp:0.0</div><div><img width=\"80\" height=\"80\" style=\"border:1px solid black; image-rendering:pixelated; object-fit:cover;\" src=\"data:image/png;base64,iVBORw0KGgoAAAANSUhEUgAAAAIAAAACCAIAAAD91JpzAAAAFklEQVR4nGNgZWX9//8/w////xkYGAAqmAYKB6e/6QAAAABJRU5ErkJggg==\"/></div></div></div></td><td><div style=\"display:flex; align-items:left;\">\n",
       "      <div style=\"display:flex; flex-direction:column; align-items:center;\">\n",
       "      <div>It:700-Inp:0.2</div><div><img width=\"80\" height=\"80\" style=\"border:1px solid black; image-rendering:pixelated; object-fit:cover;\" src=\"data:image/png;base64,iVBORw0KGgoAAAANSUhEUgAAAAIAAAACCAIAAAD91JpzAAAAFklEQVR4nGNgYGD4//8/w////8PDwwEr7gcAByS8ewAAAABJRU5ErkJggg==\"/></div></div></div></td><td><div style=\"display:flex; align-items:left;\">\n",
       "      <div style=\"display:flex; flex-direction:column; align-items:center;\">\n",
       "      <div>It:700-Inp:0.4</div><div><img width=\"80\" height=\"80\" style=\"border:1px solid black; image-rendering:pixelated; object-fit:cover;\" src=\"data:image/png;base64,iVBORw0KGgoAAAANSUhEUgAAAAIAAAACCAIAAAD91JpzAAAAF0lEQVR4nGNgYGD4//8/0////6dNmwYALXYHv3iRcDcAAAAASUVORK5CYII=\"/></div></div></div></td><td><div style=\"display:flex; align-items:left;\">\n",
       "      <div style=\"display:flex; flex-direction:column; align-items:center;\">\n",
       "      <div>It:700-Inp:0.6</div><div><img width=\"80\" height=\"80\" style=\"border:1px solid black; image-rendering:pixelated; object-fit:cover;\" src=\"data:image/png;base64,iVBORw0KGgoAAAANSUhEUgAAAAIAAAACCAIAAAD91JpzAAAAF0lEQVR4nGNgYGD4//8/0////w8fPgwALoQIRmPqJfAAAAAASUVORK5CYII=\"/></div></div></div></td><td><div style=\"display:flex; align-items:left;\">\n",
       "      <div style=\"display:flex; flex-direction:column; align-items:center;\">\n",
       "      <div>It:700-Inp:1.0</div><div><img width=\"80\" height=\"80\" style=\"border:1px solid black; image-rendering:pixelated; object-fit:cover;\" src=\"data:image/png;base64,iVBORw0KGgoAAAANSUhEUgAAAAIAAAACCAIAAAD91JpzAAAAF0lEQVR4nGNgYGD4//8/0////79//w4AL7wI4p+4xF4AAAAASUVORK5CYII=\"/></div></div></div></td></tr></table><table class=\"show_images\" style=\"border-spacing:0;\"><tr><td><div style=\"display:flex; align-items:left;\">\n",
       "      <div style=\"display:flex; flex-direction:column; align-items:center;\">\n",
       "      <div>It:800-Inp:0.0</div><div><img width=\"80\" height=\"80\" style=\"border:1px solid black; image-rendering:pixelated; object-fit:cover;\" src=\"data:image/png;base64,iVBORw0KGgoAAAANSUhEUgAAAAIAAAACCAIAAAD91JpzAAAAFklEQVR4nGNgZ2f///8/w////xkYGAAq4AYQ9m+hXAAAAABJRU5ErkJggg==\"/></div></div></div></td><td><div style=\"display:flex; align-items:left;\">\n",
       "      <div style=\"display:flex; flex-direction:column; align-items:center;\">\n",
       "      <div>It:800-Inp:0.2</div><div><img width=\"80\" height=\"80\" style=\"border:1px solid black; image-rendering:pixelated; object-fit:cover;\" src=\"data:image/png;base64,iVBORw0KGgoAAAANSUhEUgAAAAIAAAACCAIAAAD91JpzAAAAFklEQVR4nGNgYGD4//8/w////y0sLAArNAajaD6uxAAAAABJRU5ErkJggg==\"/></div></div></div></td><td><div style=\"display:flex; align-items:left;\">\n",
       "      <div style=\"display:flex; flex-direction:column; align-items:center;\">\n",
       "      <div>It:800-Inp:0.4</div><div><img width=\"80\" height=\"80\" style=\"border:1px solid black; image-rendering:pixelated; object-fit:cover;\" src=\"data:image/png;base64,iVBORw0KGgoAAAANSUhEUgAAAAIAAAACCAIAAAD91JpzAAAAFklEQVR4nGNgYGD4//8/w////9PT0wEsTgcwfeFGcAAAAABJRU5ErkJggg==\"/></div></div></div></td><td><div style=\"display:flex; align-items:left;\">\n",
       "      <div style=\"display:flex; flex-direction:column; align-items:center;\">\n",
       "      <div>It:800-Inp:0.6</div><div><img width=\"80\" height=\"80\" style=\"border:1px solid black; image-rendering:pixelated; object-fit:cover;\" src=\"data:image/png;base64,iVBORw0KGgoAAAANSUhEUgAAAAIAAAACCAIAAAD91JpzAAAAFklEQVR4nGNgYGD4//8/0////9va2gAtFgePrCY74gAAAABJRU5ErkJggg==\"/></div></div></div></td><td><div style=\"display:flex; align-items:left;\">\n",
       "      <div style=\"display:flex; flex-direction:column; align-items:center;\">\n",
       "      <div>It:800-Inp:1.0</div><div><img width=\"80\" height=\"80\" style=\"border:1px solid black; image-rendering:pixelated; object-fit:cover;\" src=\"data:image/png;base64,iVBORw0KGgoAAAANSUhEUgAAAAIAAAACCAIAAAD91JpzAAAAF0lEQVR4nGNgYGD4//8/0////48ePQoALpAITNVePhMAAAAASUVORK5CYII=\"/></div></div></div></td></tr></table><table class=\"show_images\" style=\"border-spacing:0;\"><tr><td><div style=\"display:flex; align-items:left;\">\n",
       "      <div style=\"display:flex; flex-direction:column; align-items:center;\">\n",
       "      <div>It:900-Inp:0.0</div><div><img width=\"80\" height=\"80\" style=\"border:1px solid black; image-rendering:pixelated; object-fit:cover;\" src=\"data:image/png;base64,iVBORw0KGgoAAAANSUhEUgAAAAIAAAACCAIAAAD91JpzAAAAFklEQVR4nGPg4OD4//8/w////xkYGAArBAYTy4KUnAAAAABJRU5ErkJggg==\"/></div></div></div></td><td><div style=\"display:flex; align-items:left;\">\n",
       "      <div style=\"display:flex; flex-direction:column; align-items:center;\">\n",
       "      <div>It:900-Inp:0.2</div><div><img width=\"80\" height=\"80\" style=\"border:1px solid black; image-rendering:pixelated; object-fit:cover;\" src=\"data:image/png;base64,iVBORw0KGgoAAAANSUhEUgAAAAIAAAACCAIAAAD91JpzAAAAFklEQVR4nGNgYGD4//8/w////4WFhQEqVgY0XVLTGgAAAABJRU5ErkJggg==\"/></div></div></div></td><td><div style=\"display:flex; align-items:left;\">\n",
       "      <div style=\"display:flex; flex-direction:column; align-items:center;\">\n",
       "      <div>It:900-Inp:0.4</div><div><img width=\"80\" height=\"80\" style=\"border:1px solid black; image-rendering:pixelated; object-fit:cover;\" src=\"data:image/png;base64,iVBORw0KGgoAAAANSUhEUgAAAAIAAAACCAIAAAD91JpzAAAAFklEQVR4nGNgYGD4//8/w////zU1NQEq2gZ2weabMAAAAABJRU5ErkJggg==\"/></div></div></div></td><td><div style=\"display:flex; align-items:left;\">\n",
       "      <div style=\"display:flex; flex-direction:column; align-items:center;\">\n",
       "      <div>It:900-Inp:0.6</div><div><img width=\"80\" height=\"80\" style=\"border:1px solid black; image-rendering:pixelated; object-fit:cover;\" src=\"data:image/png;base64,iVBORw0KGgoAAAANSUhEUgAAAAIAAAACCAIAAAD91JpzAAAAFklEQVR4nGNgYGD4//8/w////52dnQErdgbEdPR4QgAAAABJRU5ErkJggg==\"/></div></div></div></td><td><div style=\"display:flex; align-items:left;\">\n",
       "      <div style=\"display:flex; flex-direction:column; align-items:center;\">\n",
       "      <div>It:900-Inp:1.0</div><div><img width=\"80\" height=\"80\" style=\"border:1px solid black; image-rendering:pixelated; object-fit:cover;\" src=\"data:image/png;base64,iVBORw0KGgoAAAANSUhEUgAAAAIAAAACCAIAAAD91JpzAAAAFklEQVR4nGNgYGD4//8/w////3NzcwEscgdCGmFvmAAAAABJRU5ErkJggg==\"/></div></div></div></td></tr></table>"
      ],
      "text/plain": [
       "<IPython.core.display.HTML object>"
      ]
     },
     "metadata": {},
     "output_type": "display_data"
    }
   ],
   "source": [
    "media.show_images(o,  border=True, columns=5, height=80, cmap='Greys')"
   ]
  },
  {
   "cell_type": "markdown",
   "id": "1fcccb4f",
   "metadata": {},
   "source": [
    "We can see above the improvement of the generation over the different iterations and different inputs! That is it for this article. Happing GANning."
   ]
  }
 ],
 "metadata": {
  "kernelspec": {
   "display_name": "Python 3",
   "language": "python",
   "name": "python3"
  },
  "language_info": {
   "codemirror_mode": {
    "name": "ipython",
    "version": 3
   },
   "file_extension": ".py",
   "mimetype": "text/x-python",
   "name": "python",
   "nbconvert_exporter": "python",
   "pygments_lexer": "ipython3",
   "version": "3.8.8"
  }
 },
 "nbformat": 4,
 "nbformat_minor": 5
}
