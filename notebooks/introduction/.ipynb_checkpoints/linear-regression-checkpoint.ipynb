{
 "cells": [
  {
   "cell_type": "code",
   "execution_count": 1,
   "metadata": {},
   "outputs": [
    {
     "name": "stderr",
     "output_type": "stream",
     "text": [
      "/Users/nipun/miniconda3/lib/python3.8/site-packages/jax/_src/lib/__init__.py:33: UserWarning: JAX on Mac ARM machines is experimental and minimally tested. Please see https://github.com/google/jax/issues/5501 in the event of problems.\n",
      "  warnings.warn(\"JAX on Mac ARM machines is experimental and minimally tested. \"\n"
     ]
    }
   ],
   "source": [
    "try:\n",
    "    import jax\n",
    "    import jax.numpy as jnp\n",
    "except:\n",
    "    ModuleNotFoundError\n",
    "    %pip install jax jaxlib\n",
    "    import jax\n",
    "    import jax.numpy as jnp\n",
    "\n",
    "try:\n",
    "    from tensorflow_probability.substrates import jax as tfp\n",
    "except:\n",
    "    ModuleNotFoundError\n",
    "    %pip install tensorflow_probability\n",
    "    from tensorflow_probability.substrates import jax as tfp\n",
    "    \n",
    "try:\n",
    "    import daft\n",
    "except:\n",
    "    ModuleNotFoundError\n",
    "    %pip install daft\n",
    "    import daft\n",
    "\n",
    "try:\n",
    "    import optax\n",
    "except:\n",
    "    ModuleNotFoundError\n",
    "    %pip install optax\n",
    "    import optax\n",
    "\n",
    "try:\n",
    "    from rich import print\n",
    "    from rich.table import Table\n",
    "except:\n",
    "    ModuleNotFoundError\n",
    "    %pip install rich\n",
    "    from rich import print\n",
    "    from rich.table import Table\n",
    "\n",
    "    \n",
    "    \n",
    "import matplotlib.pyplot as plt\n",
    "import seaborn as sns\n",
    "import warnings\n",
    "warnings.filterwarnings('ignore')"
   ]
  },
  {
   "cell_type": "code",
   "execution_count": 2,
   "metadata": {},
   "outputs": [],
   "source": [
    "dist = tfp.distributions"
   ]
  },
  {
   "cell_type": "markdown",
   "metadata": {},
   "source": [
    "# Creating a dataset\n",
    "\n",
    "Let us create a dataset. We will assume the coin toss to be given as per the Bernoulli distribution. We will assume that $\\theta = p(H)\n",
    "= 0.75$ and generate 10 samples. We will fix the random seeds for reproducibility.\n",
    "\n",
    "We will be encoding Heads as 1 and Tails as 0."
   ]
  },
  {
   "cell_type": "code",
   "execution_count": 3,
   "metadata": {},
   "outputs": [
    {
     "name": "stderr",
     "output_type": "stream",
     "text": [
      "WARNING:absl:No GPU/TPU found, falling back to CPU. (Set TF_CPP_MIN_LOG_LEVEL=0 and rerun for more info.)\n"
     ]
    }
   ],
   "source": [
    "key = jax.random.PRNGKey(0)"
   ]
  },
  {
   "cell_type": "code",
   "execution_count": 4,
   "metadata": {},
   "outputs": [
    {
     "data": {
      "text/plain": [
       "DeviceArray([0, 0], dtype=uint32)"
      ]
     },
     "execution_count": 4,
     "metadata": {},
     "output_type": "execute_result"
    }
   ],
   "source": [
    "key"
   ]
  },
  {
   "cell_type": "code",
   "execution_count": 5,
   "metadata": {},
   "outputs": [
    {
     "name": "stderr",
     "output_type": "stream",
     "text": [
      "WARNING:root:The use of `check_types` is deprecated and does not have any effect.\n"
     ]
    }
   ],
   "source": [
    "distribution = dist.Bernoulli(probs=0.75)\n",
    "\n",
    "dataset_100 = distribution.sample(seed=key, sample_shape=(100))"
   ]
  },
  {
   "cell_type": "code",
   "execution_count": 6,
   "metadata": {},
   "outputs": [
    {
     "data": {
      "text/plain": [
       "DeviceArray([1, 0, 0, 1, 1, 0, 1, 1, 1, 1, 1, 1, 0, 0, 1, 0, 1, 1, 1, 1,\n",
       "             1, 0, 1, 1, 1, 1, 1, 1, 1, 1, 0, 1, 1, 1, 1, 1, 1, 1, 0, 1,\n",
       "             1, 1, 1, 0, 0, 0, 1, 1, 1, 0, 1, 1, 0, 1, 1, 1, 1, 0, 1, 1,\n",
       "             1, 0, 1, 0, 1, 0, 1, 1, 1, 0, 1, 1, 0, 1, 1, 1, 1, 0, 1, 1,\n",
       "             0, 1, 1, 1, 1, 1, 1, 1, 1, 1, 1, 1, 1, 1, 1, 1, 1, 0, 0, 1],            dtype=int32)"
      ]
     },
     "execution_count": 6,
     "metadata": {},
     "output_type": "execute_result"
    }
   ],
   "source": [
    "dataset_100"
   ]
  },
  {
   "cell_type": "markdown",
   "metadata": {},
   "source": [
    "### MLE\n",
    "\n",
    "#### Obtaining MLE analytically \n",
    "\n",
    "As per the principal of MLE, the best estimate for $\\theta = p(H) = \\dfrac{n_h}{n_h+n_t}$"
   ]
  },
  {
   "cell_type": "code",
   "execution_count": 7,
   "metadata": {},
   "outputs": [
    {
     "data": {
      "text/plain": [
       "DeviceArray(0.76, dtype=float32)"
      ]
     },
     "execution_count": 7,
     "metadata": {},
     "output_type": "execute_result"
    }
   ],
   "source": [
    "mle_estimate  = dataset_100.sum()/100\n",
    "mle_estimate"
   ]
  },
  {
   "cell_type": "markdown",
   "metadata": {},
   "source": [
    "We will now verify if we get the same result using jax+TFP using optimization. But, first, we can create a graphical model for our problem."
   ]
  },
  {
   "cell_type": "code",
   "execution_count": 8,
   "metadata": {},
   "outputs": [
    {
     "data": {
      "image/png": "[encoded data removed]",
      "text/plain": [
       "<Figure size 472.441x354.331 with 1 Axes>"
      ]
     },
     "metadata": {},
     "output_type": "display_data"
    }
   ],
   "source": [
    "pgm = daft.PGM([4, 3], origin=[0, 0])\n",
    "pgm.add_node(daft.Node(\"theta\", r\"$\\theta$\", 1, 2.5, aspect=1.8))\n",
    "\n",
    "pgm.add_node(daft.Node(\"obs\", r\"$obs_i$\", 1, 1, aspect=1.2, observed=True))\n",
    "\n",
    "pgm.add_edge(\"theta\", \"obs\")\n",
    "pgm.add_plate([0, 0.5, 2, 1.0], label=r\"$N$\", shift=-0.1)\n",
    "_ = pgm.render(dpi=150)"
   ]
  },
  {
   "cell_type": "code",
   "execution_count": 9,
   "metadata": {},
   "outputs": [],
   "source": [
    "def neg_log_likelihood(theta, dataset):\n",
    "    distribution_obj = dist.Bernoulli(probs=theta)\n",
    "    return -distribution_obj.log_prob(dataset).sum()"
   ]
  },
  {
   "cell_type": "markdown",
   "metadata": {},
   "source": [
    "We can find the likelihood for different thetas."
   ]
  },
  {
   "cell_type": "code",
   "execution_count": 10,
   "metadata": {},
   "outputs": [
    {
     "data": {
      "text/plain": [
       "(DeviceArray(127.67271, dtype=float32), DeviceArray(60.813713, dtype=float32))"
      ]
     },
     "execution_count": 10,
     "metadata": {},
     "output_type": "execute_result"
    }
   ],
   "source": [
    "neg_log_likelihood(0.2, dataset_100), neg_log_likelihood(0.6, dataset_100)"
   ]
  },
  {
   "cell_type": "markdown",
   "metadata": {},
   "source": [
    "We can also use `vmap` to compute the likelihood over a range of thetas."
   ]
  },
  {
   "cell_type": "code",
   "execution_count": 11,
   "metadata": {},
   "outputs": [],
   "source": [
    "# None for second argument as we don't need vmap for dataset\n",
    "neg_log_likelihood_vmap = jax.vmap(neg_log_likelihood, in_axes=(0, None)) "
   ]
  },
  {
   "cell_type": "code",
   "execution_count": 12,
   "metadata": {},
   "outputs": [],
   "source": [
    "theta_array = jnp.linspace(0.01, 0.99, 100)\n",
    "nll_array = neg_log_likelihood_vmap(theta_array, dataset_100)"
   ]
  },
  {
   "cell_type": "code",
   "execution_count": 13,
   "metadata": {},
   "outputs": [
    {
     "data": {
      "image/png": "[encoded data removed]",
      "text/plain": [
       "<Figure size 432x288 with 1 Axes>"
      ]
     },
     "metadata": {
      "needs_background": "light"
     },
     "output_type": "display_data"
    }
   ],
   "source": [
    "plt.plot(theta_array, nll_array)\n",
    "sns.despine()\n",
    "plt.axvline(0.75, linestyle='--', color='k', label=r'True $\\theta$')\n",
    "plt.legend()\n",
    "plt.ylabel(\"Negative Log Likelihood\")\n",
    "_ = plt.xlabel(r\"$\\theta$\")"
   ]
  },
  {
   "cell_type": "markdown",
   "metadata": {},
   "source": [
    "### Learning MLE parameters via gradient descent"
   ]
  },
  {
   "cell_type": "code",
   "execution_count": 14,
   "metadata": {},
   "outputs": [],
   "source": [
    "# We need gradient only respect to the first argument\n",
    "grad_loss = jax.grad(neg_log_likelihood)"
   ]
  },
  {
   "cell_type": "code",
   "execution_count": 15,
   "metadata": {},
   "outputs": [
    {
     "data": {
      "text/plain": [
       "DeviceArray(-104., dtype=float32, weak_type=True)"
      ]
     },
     "execution_count": 15,
     "metadata": {},
     "output_type": "execute_result"
    }
   ],
   "source": [
    "grad_loss(0.5, dataset_100)"
   ]
  },
  {
   "cell_type": "code",
   "execution_count": 16,
   "metadata": {},
   "outputs": [
    {
     "data": {
      "text/plain": [
       "DeviceArray(25.000008, dtype=float32, weak_type=True)"
      ]
     },
     "execution_count": 16,
     "metadata": {},
     "output_type": "execute_result"
    }
   ],
   "source": [
    "grad_loss(0.8, dataset_100)"
   ]
  },
  {
   "cell_type": "markdown",
   "metadata": {},
   "source": [
    "We can see that the gradient values starting with $\\theta = 0.5$ will push towards increasing $\\theta$ and vice versa starting with $\\theta = 0.8$"
   ]
  },
  {
   "cell_type": "code",
   "execution_count": 17,
   "metadata": {},
   "outputs": [],
   "source": [
    "optimizer = optax.sgd(learning_rate=0.001)\n",
    "\n",
    "theta = jnp.array(0.1).round(2)\n",
    "\n",
    "opt_state = optimizer.init(theta)"
   ]
  },
  {
   "cell_type": "code",
   "execution_count": 18,
   "metadata": {},
   "outputs": [
    {
     "data": {
      "text/html": [
       "<pre style=\"white-space:pre;overflow-x:auto;line-height:normal;font-family:Menlo,'DejaVu Sans Mono',consolas,'Courier New',monospace\"><span style=\"font-style: italic\">       MLE Convergence        </span>\n",
       "┏━━━━━━━━━━━┳━━━━━━━━┳━━━━━━━┓\n",
       "┃<span style=\"font-weight: bold\"> Iteration </span>┃<span style=\"font-weight: bold\">   Loss </span>┃<span style=\"font-weight: bold\"> Theta </span>┃\n",
       "┡━━━━━━━━━━━╇━━━━━━━━╇━━━━━━━┩\n",
       "│<span style=\"color: #008080; text-decoration-color: #008080\">         0 </span>│<span style=\"color: #800080; text-decoration-color: #800080\"> 177.53 </span>│<span style=\"color: #008000; text-decoration-color: #008000\">  0.10 </span>│\n",
       "│<span style=\"color: #008080; text-decoration-color: #008080\">         1 </span>│<span style=\"color: #800080; text-decoration-color: #800080\">  56.86 </span>│<span style=\"color: #008000; text-decoration-color: #008000\">  0.83 </span>│\n",
       "│<span style=\"color: #008080; text-decoration-color: #008080\">         2 </span>│<span style=\"color: #800080; text-decoration-color: #800080\">  55.23 </span>│<span style=\"color: #008000; text-decoration-color: #008000\">  0.78 </span>│\n",
       "│<span style=\"color: #008080; text-decoration-color: #008080\">         3 </span>│<span style=\"color: #800080; text-decoration-color: #800080\">  55.13 </span>│<span style=\"color: #008000; text-decoration-color: #008000\">  0.77 </span>│\n",
       "│<span style=\"color: #008080; text-decoration-color: #008080\">         4 </span>│<span style=\"color: #800080; text-decoration-color: #800080\">  55.11 </span>│<span style=\"color: #008000; text-decoration-color: #008000\">  0.76 </span>│\n",
       "│<span style=\"color: #008080; text-decoration-color: #008080\">         5 </span>│<span style=\"color: #800080; text-decoration-color: #800080\">  55.11 </span>│<span style=\"color: #008000; text-decoration-color: #008000\">  0.76 </span>│\n",
       "│<span style=\"color: #008080; text-decoration-color: #008080\">         6 </span>│<span style=\"color: #800080; text-decoration-color: #800080\">  55.11 </span>│<span style=\"color: #008000; text-decoration-color: #008000\">  0.76 </span>│\n",
       "│<span style=\"color: #008080; text-decoration-color: #008080\">         7 </span>│<span style=\"color: #800080; text-decoration-color: #800080\">  55.11 </span>│<span style=\"color: #008000; text-decoration-color: #008000\">  0.76 </span>│\n",
       "│<span style=\"color: #008080; text-decoration-color: #008080\">         8 </span>│<span style=\"color: #800080; text-decoration-color: #800080\">  55.11 </span>│<span style=\"color: #008000; text-decoration-color: #008000\">  0.76 </span>│\n",
       "│<span style=\"color: #008080; text-decoration-color: #008080\">         9 </span>│<span style=\"color: #800080; text-decoration-color: #800080\">  55.11 </span>│<span style=\"color: #008000; text-decoration-color: #008000\">  0.76 </span>│\n",
       "└───────────┴────────┴───────┘\n",
       "</pre>\n"
      ],
      "text/plain": [
       "\u001b[3m       MLE Convergence        \u001b[0m\n",
       "┏━━━━━━━━━━━┳━━━━━━━━┳━━━━━━━┓\n",
       "┃\u001b[1m \u001b[0m\u001b[1mIteration\u001b[0m\u001b[1m \u001b[0m┃\u001b[1m \u001b[0m\u001b[1m  Loss\u001b[0m\u001b[1m \u001b[0m┃\u001b[1m \u001b[0m\u001b[1mTheta\u001b[0m\u001b[1m \u001b[0m┃\n",
       "┡━━━━━━━━━━━╇━━━━━━━━╇━━━━━━━┩\n",
       "│\u001b[36m \u001b[0m\u001b[36m        0\u001b[0m\u001b[36m \u001b[0m│\u001b[35m \u001b[0m\u001b[35m177.53\u001b[0m\u001b[35m \u001b[0m│\u001b[32m \u001b[0m\u001b[32m 0.10\u001b[0m\u001b[32m \u001b[0m│\n",
       "│\u001b[36m \u001b[0m\u001b[36m        1\u001b[0m\u001b[36m \u001b[0m│\u001b[35m \u001b[0m\u001b[35m 56.86\u001b[0m\u001b[35m \u001b[0m│\u001b[32m \u001b[0m\u001b[32m 0.83\u001b[0m\u001b[32m \u001b[0m│\n",
       "│\u001b[36m \u001b[0m\u001b[36m        2\u001b[0m\u001b[36m \u001b[0m│\u001b[35m \u001b[0m\u001b[35m 55.23\u001b[0m\u001b[35m \u001b[0m│\u001b[32m \u001b[0m\u001b[32m 0.78\u001b[0m\u001b[32m \u001b[0m│\n",
       "│\u001b[36m \u001b[0m\u001b[36m        3\u001b[0m\u001b[36m \u001b[0m│\u001b[35m \u001b[0m\u001b[35m 55.13\u001b[0m\u001b[35m \u001b[0m│\u001b[32m \u001b[0m\u001b[32m 0.77\u001b[0m\u001b[32m \u001b[0m│\n",
       "│\u001b[36m \u001b[0m\u001b[36m        4\u001b[0m\u001b[36m \u001b[0m│\u001b[35m \u001b[0m\u001b[35m 55.11\u001b[0m\u001b[35m \u001b[0m│\u001b[32m \u001b[0m\u001b[32m 0.76\u001b[0m\u001b[32m \u001b[0m│\n",
       "│\u001b[36m \u001b[0m\u001b[36m        5\u001b[0m\u001b[36m \u001b[0m│\u001b[35m \u001b[0m\u001b[35m 55.11\u001b[0m\u001b[35m \u001b[0m│\u001b[32m \u001b[0m\u001b[32m 0.76\u001b[0m\u001b[32m \u001b[0m│\n",
       "│\u001b[36m \u001b[0m\u001b[36m        6\u001b[0m\u001b[36m \u001b[0m│\u001b[35m \u001b[0m\u001b[35m 55.11\u001b[0m\u001b[35m \u001b[0m│\u001b[32m \u001b[0m\u001b[32m 0.76\u001b[0m\u001b[32m \u001b[0m│\n",
       "│\u001b[36m \u001b[0m\u001b[36m        7\u001b[0m\u001b[36m \u001b[0m│\u001b[35m \u001b[0m\u001b[35m 55.11\u001b[0m\u001b[35m \u001b[0m│\u001b[32m \u001b[0m\u001b[32m 0.76\u001b[0m\u001b[32m \u001b[0m│\n",
       "│\u001b[36m \u001b[0m\u001b[36m        8\u001b[0m\u001b[36m \u001b[0m│\u001b[35m \u001b[0m\u001b[35m 55.11\u001b[0m\u001b[35m \u001b[0m│\u001b[32m \u001b[0m\u001b[32m 0.76\u001b[0m\u001b[32m \u001b[0m│\n",
       "│\u001b[36m \u001b[0m\u001b[36m        9\u001b[0m\u001b[36m \u001b[0m│\u001b[35m \u001b[0m\u001b[35m 55.11\u001b[0m\u001b[35m \u001b[0m│\u001b[32m \u001b[0m\u001b[32m 0.76\u001b[0m\u001b[32m \u001b[0m│\n",
       "└───────────┴────────┴───────┘\n"
      ]
     },
     "metadata": {},
     "output_type": "display_data"
    }
   ],
   "source": [
    "table = Table(title=\"MLE Convergence\")\n",
    "\n",
    "table.add_column(\"Iteration\", justify=\"right\", style=\"cyan\", no_wrap=True)\n",
    "table.add_column(\"Loss\", justify=\"right\", style=\"magenta\")\n",
    "table.add_column(\"Theta\", justify=\"right\", style=\"green\")\n",
    "\n",
    "\n",
    "for i in range(10):\n",
    "    cost_val = neg_log_likelihood(theta, dataset_100)\n",
    "    table.add_row(str(i), f\"{cost_val:0.2f}\", f\"{theta:0.2f}\")\n",
    "    grad_theta_val = grad_loss(theta, dataset_100)\n",
    "    updates, opt_state = optimizer.update(grad_theta_val, opt_state)\n",
    "    theta = optax.apply_updates(theta, updates)\n",
    "print(table)"
   ]
  },
  {
   "cell_type": "markdown",
   "metadata": {},
   "source": [
    "### MAP"
   ]
  },
  {
   "cell_type": "code",
   "execution_count": 19,
   "metadata": {},
   "outputs": [
    {
     "data": {
      "image/png": "[encoded data removed]",
      "text/plain": [
       "<Figure size 346.457x346.457 with 1 Axes>"
      ]
     },
     "metadata": {},
     "output_type": "display_data"
    }
   ],
   "source": [
    "pgm = daft.PGM([4, 4], origin=[0, 0])\n",
    "pgm.add_node(daft.Node(\"alpha\", r\"$\\alpha$\", 0.5, 3.5, aspect=1.8))\n",
    "pgm.add_node(daft.Node(\"beta\", r\"$\\beta$\", 1.5, 3.5, aspect=1.8))\n",
    "\n",
    "\n",
    "pgm.add_node(daft.Node(\"theta\", r\"$\\theta$\", 1, 2.5, aspect=2))\n",
    "\n",
    "pgm.add_node(daft.Node(\"obs\", r\"$obs_i$\", 1, 1, aspect=1.2, observed=True))\n",
    "\n",
    "pgm.add_edge(\"theta\", \"obs\")\n",
    "pgm.add_edge(\"alpha\", \"theta\")\n",
    "pgm.add_edge(\"beta\", \"theta\")\n",
    "\n",
    "\n",
    "pgm.add_plate([0, 0.5, 2, 1.0], label=r\"$N$\", shift=-0.1)\n",
    "_ = pgm.render(dpi=110)"
   ]
  },
  {
   "cell_type": "code",
   "execution_count": 20,
   "metadata": {},
   "outputs": [],
   "source": [
    "prior_alpha = 10.0\n",
    "prior_beta = 10.0\n",
    "prior_dist = dist.Beta(concentration1=prior_alpha, concentration0=prior_beta)"
   ]
  },
  {
   "cell_type": "markdown",
   "metadata": {},
   "source": [
    "Our prior will give us samples on $\\theta$. Let us draw a 100 samples and draw their histogram."
   ]
  },
  {
   "cell_type": "code",
   "execution_count": 21,
   "metadata": {},
   "outputs": [
    {
     "name": "stderr",
     "output_type": "stream",
     "text": [
      "WARNING:root:The use of `check_types` is deprecated and does not have any effect.\n"
     ]
    }
   ],
   "source": [
    "prior_samples = prior_dist.sample(sample_shape=(100), seed=key)"
   ]
  },
  {
   "cell_type": "code",
   "execution_count": 22,
   "metadata": {},
   "outputs": [
    {
     "data": {
      "image/png": "[encoded data removed]",
      "text/plain": [
       "<Figure size 432x288 with 1 Axes>"
      ]
     },
     "metadata": {
      "needs_background": "light"
     },
     "output_type": "display_data"
    }
   ],
   "source": [
    "sns.kdeplot(prior_samples, bw_adjust=2)\n",
    "sns.despine()"
   ]
  },
  {
   "cell_type": "markdown",
   "metadata": {},
   "source": [
    "Now, given a $\\theta$, we can evaluate the log prior and log likelihood and optimize their sum them to obtain the MAP estimate."
   ]
  },
  {
   "cell_type": "code",
   "execution_count": 23,
   "metadata": {},
   "outputs": [],
   "source": [
    "def neg_log_prior(theta, prior_dist):\n",
    "    return -prior_dist.log_prob(theta)"
   ]
  },
  {
   "cell_type": "code",
   "execution_count": 24,
   "metadata": {},
   "outputs": [
    {
     "data": {
      "text/plain": [
       "DeviceArray(7.9352818, dtype=float32)"
      ]
     },
     "execution_count": 24,
     "metadata": {},
     "output_type": "execute_result"
    }
   ],
   "source": [
    "neg_log_prior(0.1, prior_dist)"
   ]
  },
  {
   "cell_type": "code",
   "execution_count": 25,
   "metadata": {},
   "outputs": [
    {
     "data": {
      "text/plain": [
       "DeviceArray(-1.2595797, dtype=float32)"
      ]
     },
     "execution_count": 25,
     "metadata": {},
     "output_type": "execute_result"
    }
   ],
   "source": [
    "neg_log_prior(0.5, prior_dist)"
   ]
  },
  {
   "cell_type": "markdown",
   "metadata": {},
   "source": [
    "Clearly, we are much more likely to sample $\\theta = 0.5$ from our prior in comparison to $\\theta = 0.1$."
   ]
  },
  {
   "cell_type": "code",
   "execution_count": 26,
   "metadata": {},
   "outputs": [],
   "source": [
    "def joint_neg_log_prior_log_likelihood(theta, dataset, prior_dist):\n",
    "    return neg_log_prior(theta, prior_dist) + neg_log_likelihood(theta, dataset)"
   ]
  },
  {
   "cell_type": "code",
   "execution_count": 27,
   "metadata": {},
   "outputs": [],
   "source": [
    "grad_loss = jax.grad(joint_neg_log_prior_log_likelihood)\n",
    "optimizer = optax.sgd(learning_rate=0.001)\n",
    "\n",
    "theta = jnp.array(0.1).round(2)\n",
    "\n",
    "opt_state = optimizer.init(theta)"
   ]
  },
  {
   "cell_type": "code",
   "execution_count": 28,
   "metadata": {},
   "outputs": [
    {
     "data": {
      "text/html": [
       "<pre style=\"white-space:pre;overflow-x:auto;line-height:normal;font-family:Menlo,'DejaVu Sans Mono',consolas,'Courier New',monospace\"><span style=\"font-style: italic\">       MAP Convergence        </span>\n",
       "┏━━━━━━━━━━━┳━━━━━━━━┳━━━━━━━┓\n",
       "┃<span style=\"font-weight: bold\"> Iteration </span>┃<span style=\"font-weight: bold\">   Loss </span>┃<span style=\"font-weight: bold\"> Theta </span>┃\n",
       "┡━━━━━━━━━━━╇━━━━━━━━╇━━━━━━━┩\n",
       "│<span style=\"color: #008080; text-decoration-color: #008080\">         0 </span>│<span style=\"color: #800080; text-decoration-color: #800080\"> 185.46 </span>│<span style=\"color: #008000; text-decoration-color: #008000\">  0.10 </span>│\n",
       "│<span style=\"color: #008080; text-decoration-color: #008080\">         1 </span>│<span style=\"color: #800080; text-decoration-color: #800080\">  74.68 </span>│<span style=\"color: #008000; text-decoration-color: #008000\">  0.91 </span>│\n",
       "│<span style=\"color: #008080; text-decoration-color: #008080\">         2 </span>│<span style=\"color: #800080; text-decoration-color: #800080\">  58.55 </span>│<span style=\"color: #008000; text-decoration-color: #008000\">  0.63 </span>│\n",
       "│<span style=\"color: #008080; text-decoration-color: #008080\">         3 </span>│<span style=\"color: #800080; text-decoration-color: #800080\">  56.80 </span>│<span style=\"color: #008000; text-decoration-color: #008000\">  0.67 </span>│\n",
       "│<span style=\"color: #008080; text-decoration-color: #008080\">         4 </span>│<span style=\"color: #800080; text-decoration-color: #800080\">  56.33 </span>│<span style=\"color: #008000; text-decoration-color: #008000\">  0.70 </span>│\n",
       "│<span style=\"color: #008080; text-decoration-color: #008080\">         5 </span>│<span style=\"color: #800080; text-decoration-color: #800080\">  56.22 </span>│<span style=\"color: #008000; text-decoration-color: #008000\">  0.71 </span>│\n",
       "│<span style=\"color: #008080; text-decoration-color: #008080\">         6 </span>│<span style=\"color: #800080; text-decoration-color: #800080\">  56.20 </span>│<span style=\"color: #008000; text-decoration-color: #008000\">  0.72 </span>│\n",
       "│<span style=\"color: #008080; text-decoration-color: #008080\">         7 </span>│<span style=\"color: #800080; text-decoration-color: #800080\">  56.20 </span>│<span style=\"color: #008000; text-decoration-color: #008000\">  0.72 </span>│\n",
       "│<span style=\"color: #008080; text-decoration-color: #008080\">         8 </span>│<span style=\"color: #800080; text-decoration-color: #800080\">  56.19 </span>│<span style=\"color: #008000; text-decoration-color: #008000\">  0.72 </span>│\n",
       "│<span style=\"color: #008080; text-decoration-color: #008080\">         9 </span>│<span style=\"color: #800080; text-decoration-color: #800080\">  56.19 </span>│<span style=\"color: #008000; text-decoration-color: #008000\">  0.72 </span>│\n",
       "└───────────┴────────┴───────┘\n",
       "</pre>\n"
      ],
      "text/plain": [
       "\u001b[3m       MAP Convergence        \u001b[0m\n",
       "┏━━━━━━━━━━━┳━━━━━━━━┳━━━━━━━┓\n",
       "┃\u001b[1m \u001b[0m\u001b[1mIteration\u001b[0m\u001b[1m \u001b[0m┃\u001b[1m \u001b[0m\u001b[1m  Loss\u001b[0m\u001b[1m \u001b[0m┃\u001b[1m \u001b[0m\u001b[1mTheta\u001b[0m\u001b[1m \u001b[0m┃\n",
       "┡━━━━━━━━━━━╇━━━━━━━━╇━━━━━━━┩\n",
       "│\u001b[36m \u001b[0m\u001b[36m        0\u001b[0m\u001b[36m \u001b[0m│\u001b[35m \u001b[0m\u001b[35m185.46\u001b[0m\u001b[35m \u001b[0m│\u001b[32m \u001b[0m\u001b[32m 0.10\u001b[0m\u001b[32m \u001b[0m│\n",
       "│\u001b[36m \u001b[0m\u001b[36m        1\u001b[0m\u001b[36m \u001b[0m│\u001b[35m \u001b[0m\u001b[35m 74.68\u001b[0m\u001b[35m \u001b[0m│\u001b[32m \u001b[0m\u001b[32m 0.91\u001b[0m\u001b[32m \u001b[0m│\n",
       "│\u001b[36m \u001b[0m\u001b[36m        2\u001b[0m\u001b[36m \u001b[0m│\u001b[35m \u001b[0m\u001b[35m 58.55\u001b[0m\u001b[35m \u001b[0m│\u001b[32m \u001b[0m\u001b[32m 0.63\u001b[0m\u001b[32m \u001b[0m│\n",
       "│\u001b[36m \u001b[0m\u001b[36m        3\u001b[0m\u001b[36m \u001b[0m│\u001b[35m \u001b[0m\u001b[35m 56.80\u001b[0m\u001b[35m \u001b[0m│\u001b[32m \u001b[0m\u001b[32m 0.67\u001b[0m\u001b[32m \u001b[0m│\n",
       "│\u001b[36m \u001b[0m\u001b[36m        4\u001b[0m\u001b[36m \u001b[0m│\u001b[35m \u001b[0m\u001b[35m 56.33\u001b[0m\u001b[35m \u001b[0m│\u001b[32m \u001b[0m\u001b[32m 0.70\u001b[0m\u001b[32m \u001b[0m│\n",
       "│\u001b[36m \u001b[0m\u001b[36m        5\u001b[0m\u001b[36m \u001b[0m│\u001b[35m \u001b[0m\u001b[35m 56.22\u001b[0m\u001b[35m \u001b[0m│\u001b[32m \u001b[0m\u001b[32m 0.71\u001b[0m\u001b[32m \u001b[0m│\n",
       "│\u001b[36m \u001b[0m\u001b[36m        6\u001b[0m\u001b[36m \u001b[0m│\u001b[35m \u001b[0m\u001b[35m 56.20\u001b[0m\u001b[35m \u001b[0m│\u001b[32m \u001b[0m\u001b[32m 0.72\u001b[0m\u001b[32m \u001b[0m│\n",
       "│\u001b[36m \u001b[0m\u001b[36m        7\u001b[0m\u001b[36m \u001b[0m│\u001b[35m \u001b[0m\u001b[35m 56.20\u001b[0m\u001b[35m \u001b[0m│\u001b[32m \u001b[0m\u001b[32m 0.72\u001b[0m\u001b[32m \u001b[0m│\n",
       "│\u001b[36m \u001b[0m\u001b[36m        8\u001b[0m\u001b[36m \u001b[0m│\u001b[35m \u001b[0m\u001b[35m 56.19\u001b[0m\u001b[35m \u001b[0m│\u001b[32m \u001b[0m\u001b[32m 0.72\u001b[0m\u001b[32m \u001b[0m│\n",
       "│\u001b[36m \u001b[0m\u001b[36m        9\u001b[0m\u001b[36m \u001b[0m│\u001b[35m \u001b[0m\u001b[35m 56.19\u001b[0m\u001b[35m \u001b[0m│\u001b[32m \u001b[0m\u001b[32m 0.72\u001b[0m\u001b[32m \u001b[0m│\n",
       "└───────────┴────────┴───────┘\n"
      ]
     },
     "metadata": {},
     "output_type": "display_data"
    }
   ],
   "source": [
    "table = Table(title=\"MAP Convergence\")\n",
    "\n",
    "table.add_column(\"Iteration\", justify=\"right\", style=\"cyan\", no_wrap=True)\n",
    "table.add_column(\"Loss\", justify=\"right\", style=\"magenta\")\n",
    "table.add_column(\"Theta\", justify=\"right\", style=\"green\")\n",
    "\n",
    "\n",
    "for i in range(10):\n",
    "    cost_val = joint_neg_log_prior_log_likelihood(theta, dataset_100, prior_dist)\n",
    "    table.add_row(str(i), f\"{cost_val:0.2f}\", f\"{theta:0.2f}\")\n",
    "    grad_theta_val = grad_loss(theta, dataset_100, prior_dist)\n",
    "    updates, opt_state = optimizer.update(grad_theta_val, opt_state)\n",
    "    theta = optax.apply_updates(theta, updates)\n",
    "print(table)"
   ]
  },
  {
   "cell_type": "code",
   "execution_count": 29,
   "metadata": {},
   "outputs": [
    {
     "data": {
      "text/plain": [
       "'0.72'"
      ]
     },
     "execution_count": 29,
     "metadata": {},
     "output_type": "execute_result"
    }
   ],
   "source": [
    "f\"{(dataset_100.sum()+10)/(120):0.2f}\""
   ]
  },
  {
   "cell_type": "markdown",
   "metadata": {},
   "source": [
    "### Analytical Posterior\n",
    "\n",
    "$P(\\theta|Data) \\sim Beta(\\#Heads~in~Data + \\alpha, \\#Tails~in~Data + \\beta)$"
   ]
  },
  {
   "cell_type": "code",
   "execution_count": 30,
   "metadata": {},
   "outputs": [],
   "source": [
    "analytical_posterior = dist.Beta(dataset_100.sum() + prior_alpha, 100.-dataset_100.sum() + prior_beta)"
   ]
  },
  {
   "cell_type": "code",
   "execution_count": 31,
   "metadata": {},
   "outputs": [
    {
     "data": {
      "text/plain": [
       "(DeviceArray(86., dtype=float32, weak_type=True),\n",
       " DeviceArray(34., dtype=float32, weak_type=True))"
      ]
     },
     "execution_count": 31,
     "metadata": {},
     "output_type": "execute_result"
    }
   ],
   "source": [
    "analytical_posterior.concentration1, analytical_posterior.concentration0"
   ]
  },
  {
   "cell_type": "code",
   "execution_count": 32,
   "metadata": {},
   "outputs": [
    {
     "data": {
      "text/plain": [
       "<matplotlib.legend.Legend at 0x1318a1fa0>"
      ]
     },
     "execution_count": 32,
     "metadata": {},
     "output_type": "execute_result"
    },
    {
     "data": {
      "image/png": "[encoded data removed]",
      "text/plain": [
       "<Figure size 432x288 with 1 Axes>"
      ]
     },
     "metadata": {
      "needs_background": "light"
     },
     "output_type": "display_data"
    }
   ],
   "source": [
    "plt.plot(theta_array, analytical_posterior.prob(theta_array), label='Posterior')\n",
    "plt.plot(theta_array, prior_dist.prob(theta_array), label='Prior')\n",
    "plt.axvline(0.75, linestyle='--', color='k', label=r'True $\\theta$')\n",
    "\n",
    "\n",
    "sns.despine()\n",
    "_ = plt.xlabel(r\"$\\theta$\")\n",
    "plt.legend()"
   ]
  },
  {
   "cell_type": "code",
   "execution_count": 33,
   "metadata": {},
   "outputs": [
    {
     "data": {
      "text/plain": [
       "<matplotlib.legend.Legend at 0x1319f87c0>"
      ]
     },
     "execution_count": 33,
     "metadata": {},
     "output_type": "execute_result"
    },
    {
     "data": {
      "image/png": "[encoded data removed]",
      "text/plain": [
       "<Figure size 432x288 with 1 Axes>"
      ]
     },
     "metadata": {
      "needs_background": "light"
     },
     "output_type": "display_data"
    }
   ],
   "source": [
    "plt.plot(theta_array, analytical_posterior.log_prob(theta_array), label='Log Posterior')\n",
    "plt.plot(theta_array, prior_dist.log_prob(theta_array), label='Log Prior')\n",
    "plt.axvline(0.75, linestyle='--', color='k', label=r'True $\\theta$')\n",
    "\n",
    "\n",
    "sns.despine()\n",
    "_ = plt.xlabel(r\"$\\theta$\")\n",
    "plt.legend()"
   ]
  },
  {
   "cell_type": "markdown",
   "metadata": {},
   "source": [
    "### MCMC\n",
    "\n",
    "Implementation of Metropolis algorithm from scratch"
   ]
  },
  {
   "cell_type": "code",
   "execution_count": 34,
   "metadata": {},
   "outputs": [],
   "source": [
    "@jax.jit\n",
    "def next_sample(cur_sample, key):\n",
    "    return dist.Normal(loc = cur_sample, scale=0.1, \n",
    "                       validate_args=False).sample(seed=key, sample_shape=() )"
   ]
  },
  {
   "cell_type": "code",
   "execution_count": 35,
   "metadata": {},
   "outputs": [
    {
     "name": "stderr",
     "output_type": "stream",
     "text": [
      "WARNING:root:The use of `check_types` is deprecated and does not have any effect.\n"
     ]
    },
    {
     "data": {
      "text/plain": [
       "DeviceArray(1.1064283, dtype=float32)"
      ]
     },
     "execution_count": 35,
     "metadata": {},
     "output_type": "execute_result"
    }
   ],
   "source": [
    "key = jax.random.PRNGKey(5)\n",
    "_, k = jax.random.split(key, 2)\n",
    "next_sample(1.0, k)"
   ]
  },
  {
   "cell_type": "code",
   "execution_count": 36,
   "metadata": {},
   "outputs": [],
   "source": [
    "@jax.jit\n",
    "def lp(theta):\n",
    "    return -joint_neg_log_prior_log_likelihood(theta, dataset_100, prior_dist)"
   ]
  },
  {
   "cell_type": "code",
   "execution_count": 37,
   "metadata": {},
   "outputs": [
    {
     "data": {
      "text/plain": [
       "DeviceArray(-185.46045, dtype=float32)"
      ]
     },
     "execution_count": 37,
     "metadata": {},
     "output_type": "execute_result"
    }
   ],
   "source": [
    "lp(0.1)"
   ]
  },
  {
   "cell_type": "code",
   "execution_count": 38,
   "metadata": {},
   "outputs": [],
   "source": [
    "import numpy as onp"
   ]
  },
  {
   "cell_type": "code",
   "execution_count": 39,
   "metadata": {},
   "outputs": [
    {
     "name": "stderr",
     "output_type": "stream",
     "text": [
      "WARNING:root:The use of `check_types` is deprecated and does not have any effect.\n",
      "WARNING:root:The use of `check_types` is deprecated and does not have any effect.\n"
     ]
    }
   ],
   "source": [
    "x_start = 0.5\n",
    "num_iter = 5000\n",
    "xs = onp.empty(num_iter)\n",
    "xs[0] = x_start\n",
    "lu = jnp.log(dist.Uniform(0, 1).sample(sample_shape=[num_iter], seed=k))\n",
    "\n",
    "keys = jax.random.split(k, num_iter)\n",
    "\n",
    "for i in range(1, num_iter):\n",
    "    ns = next_sample(xs[i-1], keys[i])\n",
    "    if ns > 0.99:\n",
    "        ns = 0.99\n",
    "    if ns < 0.01:\n",
    "        ns = 0.01\n",
    "    xs[i] = ns\n",
    "    la = lp(xs[i]) - lp(xs[i-1])\n",
    "\n",
    "    if lu[i] > la:\n",
    "        xs[i] = xs[i-1]"
   ]
  },
  {
   "cell_type": "code",
   "execution_count": 40,
   "metadata": {},
   "outputs": [
    {
     "data": {
      "text/plain": [
       "[<matplotlib.lines.Line2D at 0x131af5790>]"
      ]
     },
     "execution_count": 40,
     "metadata": {},
     "output_type": "execute_result"
    },
    {
     "data": {
      "image/png": "[encoded data removed]",
      "text/plain": [
       "<Figure size 432x288 with 1 Axes>"
      ]
     },
     "metadata": {
      "needs_background": "light"
     },
     "output_type": "display_data"
    }
   ],
   "source": [
    "plt.plot(jnp.array(xs).reshape(-1, 1))"
   ]
  },
  {
   "cell_type": "code",
   "execution_count": 41,
   "metadata": {},
   "outputs": [
    {
     "data": {
      "image/png": "[encoded data removed]",
      "text/plain": [
       "<Figure size 432x288 with 1 Axes>"
      ]
     },
     "metadata": {
      "needs_background": "light"
     },
     "output_type": "display_data"
    }
   ],
   "source": [
    "sns.kdeplot(jnp.array(xs), label='MCMC estimate density', lw=2)\n",
    "plt.hist(onp.array(xs), density=True, label='MCMC histogram', alpha=0.2, bins=10)\n",
    "plt.plot(theta_array, analytical_posterior.prob(theta_array), label='Posterior', lw=2, linestyle='--')\n",
    "plt.legend()\n",
    "sns.despine()"
   ]
  },
  {
   "cell_type": "markdown",
   "metadata": {},
   "source": [
    "TODO\n",
    "\n",
    "1. remove the warnings\n",
    "2. check if can replace TFP with distrax here or pure jax.scipy.?\n",
    "3. VI from scratch?\n",
    "4. Document (and maybe create Class for MH sampling)\n",
    "5. Better way for MCMC sampling when parameters are constrained? (like theta between 0 and 1?)\n",
    "6. where other can we jit?\n"
   ]
  }
 ],
 "metadata": {
  "interpreter": {
   "hash": "a5a8a649fae9f7dd41e8adc1d2fca9d99b1b7a58cc684de3b9310442441ba4ba"
  },
  "kernelspec": {
   "display_name": "Python 3 (ipykernel)",
   "language": "python",
   "name": "python3"
  },
  "language_info": {
   "codemirror_mode": {
    "name": "ipython",
    "version": 3
   },
   "file_extension": ".py",
   "mimetype": "text/x-python",
   "name": "python",
   "nbconvert_exporter": "python",
   "pygments_lexer": "ipython3",
   "version": "3.9.12"
  }
 },
 "nbformat": 4,
 "nbformat_minor": 2
}
