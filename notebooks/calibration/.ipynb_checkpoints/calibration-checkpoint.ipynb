{
 "cells": [
  {
   "cell_type": "markdown",
   "id": "124429a2",
   "metadata": {},
   "source": [
    "### Calibration for Classification"
   ]
  },
  {
   "cell_type": "code",
   "execution_count": 75,
   "id": "1205fdff",
   "metadata": {},
   "outputs": [],
   "source": [
    "from sklearn.datasets import make_classification, make_biclusters, make_moons\n",
    "import matplotlib.pyplot as plt\n",
    "from sklearn.inspection import DecisionBoundaryDisplay\n",
    "from sklearn.model_selection import train_test_split\n",
    "from sklearn.metrics import brier_score_loss\n",
    "import pandas as pd\n",
    "\n",
    "%matplotlib inline\n",
    "from matplotlib.colors import ListedColormap\n",
    "import seaborn as sns\n",
    "import numpy as np"
   ]
  },
  {
   "cell_type": "code",
   "execution_count": 76,
   "id": "98ac6d93",
   "metadata": {},
   "outputs": [],
   "source": [
    "cm = plt.cm.RdBu\n",
    "cm_bright = ListedColormap([\"#FF0000\", \"#0000FF\"])"
   ]
  },
  {
   "cell_type": "markdown",
   "id": "575d60be",
   "metadata": {},
   "source": [
    "### Divide data into train, calibration, and test\n",
    "\n",
    "It should be noted that if the `n_samples` is small, all methods perform poorly."
   ]
  },
  {
   "cell_type": "code",
   "execution_count": 77,
   "id": "f8fab808",
   "metadata": {},
   "outputs": [],
   "source": [
    "X, y = make_moons(n_samples=5000)\n",
    "\n",
    "X_train_cal, X_test, y_train_cal, y_test = train_test_split(X, y, test_size=.4, random_state=42)\n",
    "X_train, X_cal, y_train, y_cal = train_test_split(X_train_cal, y_train_cal, test_size=0.4, random_state=42)\n"
   ]
  },
  {
   "cell_type": "code",
   "execution_count": 78,
   "id": "bc696d22",
   "metadata": {},
   "outputs": [
    {
     "data": {
      "image/png": "[encoded data removed]",
      "text/plain": [
       "<Figure size 432x288 with 1 Axes>"
      ]
     },
     "metadata": {
      "needs_background": "light"
     },
     "output_type": "display_data"
    }
   ],
   "source": [
    "plt.scatter(X_train[:, 0], X_train[:, 1], c=y_train)\n",
    "#plt.scatter(X_test[:, 0], X_test[:, 1], c=y_test, label='Test', alpha=0.2)\n",
    "#plt.scatter(X_cal[:, 0], X_cal[:, 1], c=y_cal, label='Cal', alpha=0.5)\n",
    "\n",
    "\n",
    "\n",
    "sns.despine()\n"
   ]
  },
  {
   "cell_type": "markdown",
   "id": "8ef60eb1",
   "metadata": {},
   "source": [
    "### Fit the classification model to the training dataset"
   ]
  },
  {
   "cell_type": "code",
   "execution_count": 79,
   "id": "339d9402",
   "metadata": {},
   "outputs": [],
   "source": [
    "from sklearn.linear_model import LogisticRegression"
   ]
  },
  {
   "cell_type": "code",
   "execution_count": 80,
   "id": "bdb5a7c8",
   "metadata": {},
   "outputs": [],
   "source": [
    "lr = LogisticRegression(C=0.1)"
   ]
  },
  {
   "cell_type": "code",
   "execution_count": 81,
   "id": "9213790f",
   "metadata": {},
   "outputs": [
    {
     "data": {
      "text/html": [
       "<style>#sk-container-id-3 {color: black;background-color: white;}#sk-container-id-3 pre{padding: 0;}#sk-container-id-3 div.sk-toggleable {background-color: white;}#sk-container-id-3 label.sk-toggleable__label {cursor: pointer;display: block;width: 100%;margin-bottom: 0;padding: 0.3em;box-sizing: border-box;text-align: center;}#sk-container-id-3 label.sk-toggleable__label-arrow:before {content: \"▸\";float: left;margin-right: 0.25em;color: #696969;}#sk-container-id-3 label.sk-toggleable__label-arrow:hover:before {color: black;}#sk-container-id-3 div.sk-estimator:hover label.sk-toggleable__label-arrow:before {color: black;}#sk-container-id-3 div.sk-toggleable__content {max-height: 0;max-width: 0;overflow: hidden;text-align: left;background-color: #f0f8ff;}#sk-container-id-3 div.sk-toggleable__content pre {margin: 0.2em;color: black;border-radius: 0.25em;background-color: #f0f8ff;}#sk-container-id-3 input.sk-toggleable__control:checked~div.sk-toggleable__content {max-height: 200px;max-width: 100%;overflow: auto;}#sk-container-id-3 input.sk-toggleable__control:checked~label.sk-toggleable__label-arrow:before {content: \"▾\";}#sk-container-id-3 div.sk-estimator input.sk-toggleable__control:checked~label.sk-toggleable__label {background-color: #d4ebff;}#sk-container-id-3 div.sk-label input.sk-toggleable__control:checked~label.sk-toggleable__label {background-color: #d4ebff;}#sk-container-id-3 input.sk-hidden--visually {border: 0;clip: rect(1px 1px 1px 1px);clip: rect(1px, 1px, 1px, 1px);height: 1px;margin: -1px;overflow: hidden;padding: 0;position: absolute;width: 1px;}#sk-container-id-3 div.sk-estimator {font-family: monospace;background-color: #f0f8ff;border: 1px dotted black;border-radius: 0.25em;box-sizing: border-box;margin-bottom: 0.5em;}#sk-container-id-3 div.sk-estimator:hover {background-color: #d4ebff;}#sk-container-id-3 div.sk-parallel-item::after {content: \"\";width: 100%;border-bottom: 1px solid gray;flex-grow: 1;}#sk-container-id-3 div.sk-label:hover label.sk-toggleable__label {background-color: #d4ebff;}#sk-container-id-3 div.sk-serial::before {content: \"\";position: absolute;border-left: 1px solid gray;box-sizing: border-box;top: 0;bottom: 0;left: 50%;z-index: 0;}#sk-container-id-3 div.sk-serial {display: flex;flex-direction: column;align-items: center;background-color: white;padding-right: 0.2em;padding-left: 0.2em;position: relative;}#sk-container-id-3 div.sk-item {position: relative;z-index: 1;}#sk-container-id-3 div.sk-parallel {display: flex;align-items: stretch;justify-content: center;background-color: white;position: relative;}#sk-container-id-3 div.sk-item::before, #sk-container-id-3 div.sk-parallel-item::before {content: \"\";position: absolute;border-left: 1px solid gray;box-sizing: border-box;top: 0;bottom: 0;left: 50%;z-index: -1;}#sk-container-id-3 div.sk-parallel-item {display: flex;flex-direction: column;z-index: 1;position: relative;background-color: white;}#sk-container-id-3 div.sk-parallel-item:first-child::after {align-self: flex-end;width: 50%;}#sk-container-id-3 div.sk-parallel-item:last-child::after {align-self: flex-start;width: 50%;}#sk-container-id-3 div.sk-parallel-item:only-child::after {width: 0;}#sk-container-id-3 div.sk-dashed-wrapped {border: 1px dashed gray;margin: 0 0.4em 0.5em 0.4em;box-sizing: border-box;padding-bottom: 0.4em;background-color: white;}#sk-container-id-3 div.sk-label label {font-family: monospace;font-weight: bold;display: inline-block;line-height: 1.2em;}#sk-container-id-3 div.sk-label-container {text-align: center;}#sk-container-id-3 div.sk-container {/* jupyter's `normalize.less` sets `[hidden] { display: none; }` but bootstrap.min.css set `[hidden] { display: none !important; }` so we also need the `!important` here to be able to override the default hidden behavior on the sphinx rendered scikit-learn.org. See: https://github.com/scikit-learn/scikit-learn/issues/21755 */display: inline-block !important;position: relative;}#sk-container-id-3 div.sk-text-repr-fallback {display: none;}</style><div id=\"sk-container-id-3\" class=\"sk-top-container\"><div class=\"sk-text-repr-fallback\"><pre>LogisticRegression(C=0.1)</pre><b>In a Jupyter environment, please rerun this cell to show the HTML representation or trust the notebook. <br />On GitHub, the HTML representation is unable to render, please try loading this page with nbviewer.org.</b></div><div class=\"sk-container\" hidden><div class=\"sk-item\"><div class=\"sk-estimator sk-toggleable\"><input class=\"sk-toggleable__control sk-hidden--visually\" id=\"sk-estimator-id-3\" type=\"checkbox\" checked><label for=\"sk-estimator-id-3\" class=\"sk-toggleable__label sk-toggleable__label-arrow\">LogisticRegression</label><div class=\"sk-toggleable__content\"><pre>LogisticRegression(C=0.1)</pre></div></div></div></div></div>"
      ],
      "text/plain": [
       "LogisticRegression(C=0.1)"
      ]
     },
     "execution_count": 81,
     "metadata": {},
     "output_type": "execute_result"
    }
   ],
   "source": [
    "lr.fit(X_train, y_train)"
   ]
  },
  {
   "cell_type": "code",
   "execution_count": 82,
   "id": "ac185253",
   "metadata": {},
   "outputs": [
    {
     "data": {
      "text/plain": [
       "array([[ 1.05496982, -3.9416371 ]])"
      ]
     },
     "execution_count": 82,
     "metadata": {},
     "output_type": "execute_result"
    }
   ],
   "source": [
    "lr.coef_"
   ]
  },
  {
   "cell_type": "code",
   "execution_count": 83,
   "id": "2fdaa0ce",
   "metadata": {},
   "outputs": [
    {
     "data": {
      "text/plain": [
       "array([0.44563431])"
      ]
     },
     "execution_count": 83,
     "metadata": {},
     "output_type": "execute_result"
    }
   ],
   "source": [
    "lr.intercept_"
   ]
  },
  {
   "cell_type": "code",
   "execution_count": 84,
   "id": "8092fdf2",
   "metadata": {},
   "outputs": [
    {
     "data": {
      "text/plain": [
       "array([0.69956684, 0.22996632, 0.77061102, ..., 0.39540309, 0.07098757,\n",
       "       0.97014792])"
      ]
     },
     "execution_count": 84,
     "metadata": {},
     "output_type": "execute_result"
    }
   ],
   "source": [
    "lr.predict_proba(X_test)[:, 1]"
   ]
  },
  {
   "cell_type": "code",
   "execution_count": 85,
   "id": "2c6d358c",
   "metadata": {},
   "outputs": [
    {
     "data": {
      "image/png": "[encoded data removed]",
      "text/plain": [
       "<Figure size 432x288 with 1 Axes>"
      ]
     },
     "metadata": {
      "needs_background": "light"
     },
     "output_type": "display_data"
    }
   ],
   "source": [
    "DecisionBoundaryDisplay.from_estimator(\n",
    "    lr, X, cmap=cm, alpha=0.8, eps=0.5, grid_resolution=400\n",
    ")\n",
    "plt.scatter(X[:, 0], X[:, 1], c=y, cmap=cm_bright, edgecolors=\"k\")\n",
    "sns.despine()"
   ]
  },
  {
   "cell_type": "code",
   "execution_count": 86,
   "id": "d50bd735",
   "metadata": {},
   "outputs": [],
   "source": [
    "y_true = y_test\n",
    "y_pred = lr.predict(X_test)"
   ]
  },
  {
   "cell_type": "code",
   "execution_count": 87,
   "id": "d0d1055f",
   "metadata": {},
   "outputs": [],
   "source": [
    "y_conf = lr.predict_proba(X_test)[:, 1]"
   ]
  },
  {
   "cell_type": "code",
   "execution_count": 88,
   "id": "87fd50ee",
   "metadata": {},
   "outputs": [],
   "source": [
    "# Put reliability_diagrams.py from https://github.com/hollance/reliability-diagrams in this folder\n",
    "from reliability_diagrams import *"
   ]
  },
  {
   "cell_type": "code",
   "execution_count": 89,
   "id": "f095d30c",
   "metadata": {},
   "outputs": [],
   "source": [
    "nbins = 10\n",
    "\n",
    "res = {}\n",
    "res[\"Uncalibrated\"] = compute_calibration(y_true, y_pred, y_conf, num_bins=nbins)\n",
    "res[\"Uncalibrated\"][\"brier\"] = brier_score_loss(y_true, y_conf)"
   ]
  },
  {
   "cell_type": "code",
   "execution_count": 90,
   "id": "6a023496",
   "metadata": {},
   "outputs": [
    {
     "data": {
      "text/plain": [
       "0.4932539469083616"
      ]
     },
     "execution_count": 90,
     "metadata": {},
     "output_type": "execute_result"
    }
   ],
   "source": [
    "y_conf.mean()"
   ]
  },
  {
   "cell_type": "code",
   "execution_count": 91,
   "id": "4c877352",
   "metadata": {},
   "outputs": [
    {
     "data": {
      "text/plain": [
       "0.8715"
      ]
     },
     "execution_count": 91,
     "metadata": {},
     "output_type": "execute_result"
    }
   ],
   "source": [
    "(y_pred == y_true).mean()"
   ]
  },
  {
   "cell_type": "code",
   "execution_count": 92,
   "id": "ff1417bd",
   "metadata": {},
   "outputs": [
    {
     "data": {
      "text/plain": [
       "(0.09632308609342173, 0.14638389936416346)"
      ]
     },
     "execution_count": 92,
     "metadata": {},
     "output_type": "execute_result"
    }
   ],
   "source": [
    "y_conf[y_conf < 0.3].mean(), res[\"Uncalibrated\"][\"confidences\"][1]"
   ]
  },
  {
   "cell_type": "code",
   "execution_count": 93,
   "id": "639d4f0c",
   "metadata": {},
   "outputs": [
    {
     "data": {
      "image/png": "[encoded data removed]",
      "text/plain": [
       "<Figure size 432x288 with 1 Axes>"
      ]
     },
     "metadata": {
      "needs_background": "light"
     },
     "output_type": "display_data"
    }
   ],
   "source": [
    "def p(res):\n",
    "    plt.gca().set_aspect(\"equal\")\n",
    "    plt.bar(\n",
    "        np.linspace(0, 1, nbins + 1)[:-1],\n",
    "        res[\"accuracies\"],\n",
    "        width=1.0 / (nbins) - 0.01,\n",
    "        align=\"edge\",\n",
    "        label=\"Accuracy\",\n",
    "        alpha=0.4,\n",
    "    )\n",
    "    gaps = res[\"accuracies\"] - res[\"confidences\"]\n",
    "\n",
    "    plt.bar(\n",
    "        np.linspace(0, 1, nbins + 1)[:-1],\n",
    "        gaps,\n",
    "        width=1.0 / (nbins) - 0.01,\n",
    "        align=\"edge\",\n",
    "        label=\"Gaps\",\n",
    "        alpha=0.4,\n",
    "        bottom=res[\"confidences\"],\n",
    "    )\n",
    "\n",
    "\n",
    "    plt.plot(\n",
    "        np.linspace(0, 1, nbins + 1), np.linspace(0, 1, nbins + 1), color=\"k\", ls=\"--\", lw=3\n",
    "    )\n",
    "    plt.legend()\n",
    "p(res[\"Uncalibrated\"])"
   ]
  },
  {
   "cell_type": "code",
   "execution_count": 94,
   "id": "7ec08409",
   "metadata": {},
   "outputs": [
    {
     "data": {
      "image/png": "[encoded data removed]",
      "text/plain": [
       "<Figure size 432x288 with 1 Axes>"
      ]
     },
     "metadata": {
      "needs_background": "light"
     },
     "output_type": "display_data"
    }
   ],
   "source": [
    "def p2(res):\n",
    "    plt.bar(\n",
    "    np.linspace(0, 1, nbins + 1)[:-1],\n",
    "    res[\"counts\"],\n",
    "    width=1.0 / (nbins) - 0.01,\n",
    "    align=\"edge\",\n",
    "    )\n",
    "    # plt.plot(np.linspace(0, 1, nbins+1), np.linspace(0, 1, nbins+1), color='k', ls = '--', lw = 3)\n",
    "    plt.xlabel(\"Confidence\")\n",
    "    plt.ylabel(\"Counts\")\n",
    "p2(res[\"Uncalibrated\"])"
   ]
  },
  {
   "cell_type": "code",
   "execution_count": 95,
   "id": "91e5793f",
   "metadata": {},
   "outputs": [
    {
     "name": "stdout",
     "output_type": "stream",
     "text": [
      "0.40400967924499137 0.4040096792449913\n"
     ]
    }
   ],
   "source": [
    "gaps = res[\"Uncalibrated\"][\"accuracies\"] - res[\"Uncalibrated\"][\"confidences\"]\n",
    "abs_gaps = np.abs(gaps)\n",
    "weighted_abs_gaps = (res[\"Uncalibrated\"][\"counts\"]/res[\"Uncalibrated\"][\"counts\"].sum())*abs_gaps\n",
    "ece = weighted_abs_gaps.sum()\n",
    "\n",
    "print(ece, res[\"Uncalibrated\"]['expected_calibration_error'])"
   ]
  },
  {
   "cell_type": "markdown",
   "id": "543a9ba7",
   "metadata": {},
   "source": [
    "### Platt Scaling\n",
    "\n",
    "We will try to fit the following model using Logistic regression:\n",
    "\n",
    "$$\\mathbb{P}(\\hat{Y}=Y \\mid \\hat{P}=p)=p$$"
   ]
  },
  {
   "cell_type": "code",
   "execution_count": 96,
   "id": "c366698e",
   "metadata": {},
   "outputs": [
    {
     "data": {
      "text/html": [
       "<style>#sk-container-id-4 {color: black;background-color: white;}#sk-container-id-4 pre{padding: 0;}#sk-container-id-4 div.sk-toggleable {background-color: white;}#sk-container-id-4 label.sk-toggleable__label {cursor: pointer;display: block;width: 100%;margin-bottom: 0;padding: 0.3em;box-sizing: border-box;text-align: center;}#sk-container-id-4 label.sk-toggleable__label-arrow:before {content: \"▸\";float: left;margin-right: 0.25em;color: #696969;}#sk-container-id-4 label.sk-toggleable__label-arrow:hover:before {color: black;}#sk-container-id-4 div.sk-estimator:hover label.sk-toggleable__label-arrow:before {color: black;}#sk-container-id-4 div.sk-toggleable__content {max-height: 0;max-width: 0;overflow: hidden;text-align: left;background-color: #f0f8ff;}#sk-container-id-4 div.sk-toggleable__content pre {margin: 0.2em;color: black;border-radius: 0.25em;background-color: #f0f8ff;}#sk-container-id-4 input.sk-toggleable__control:checked~div.sk-toggleable__content {max-height: 200px;max-width: 100%;overflow: auto;}#sk-container-id-4 input.sk-toggleable__control:checked~label.sk-toggleable__label-arrow:before {content: \"▾\";}#sk-container-id-4 div.sk-estimator input.sk-toggleable__control:checked~label.sk-toggleable__label {background-color: #d4ebff;}#sk-container-id-4 div.sk-label input.sk-toggleable__control:checked~label.sk-toggleable__label {background-color: #d4ebff;}#sk-container-id-4 input.sk-hidden--visually {border: 0;clip: rect(1px 1px 1px 1px);clip: rect(1px, 1px, 1px, 1px);height: 1px;margin: -1px;overflow: hidden;padding: 0;position: absolute;width: 1px;}#sk-container-id-4 div.sk-estimator {font-family: monospace;background-color: #f0f8ff;border: 1px dotted black;border-radius: 0.25em;box-sizing: border-box;margin-bottom: 0.5em;}#sk-container-id-4 div.sk-estimator:hover {background-color: #d4ebff;}#sk-container-id-4 div.sk-parallel-item::after {content: \"\";width: 100%;border-bottom: 1px solid gray;flex-grow: 1;}#sk-container-id-4 div.sk-label:hover label.sk-toggleable__label {background-color: #d4ebff;}#sk-container-id-4 div.sk-serial::before {content: \"\";position: absolute;border-left: 1px solid gray;box-sizing: border-box;top: 0;bottom: 0;left: 50%;z-index: 0;}#sk-container-id-4 div.sk-serial {display: flex;flex-direction: column;align-items: center;background-color: white;padding-right: 0.2em;padding-left: 0.2em;position: relative;}#sk-container-id-4 div.sk-item {position: relative;z-index: 1;}#sk-container-id-4 div.sk-parallel {display: flex;align-items: stretch;justify-content: center;background-color: white;position: relative;}#sk-container-id-4 div.sk-item::before, #sk-container-id-4 div.sk-parallel-item::before {content: \"\";position: absolute;border-left: 1px solid gray;box-sizing: border-box;top: 0;bottom: 0;left: 50%;z-index: -1;}#sk-container-id-4 div.sk-parallel-item {display: flex;flex-direction: column;z-index: 1;position: relative;background-color: white;}#sk-container-id-4 div.sk-parallel-item:first-child::after {align-self: flex-end;width: 50%;}#sk-container-id-4 div.sk-parallel-item:last-child::after {align-self: flex-start;width: 50%;}#sk-container-id-4 div.sk-parallel-item:only-child::after {width: 0;}#sk-container-id-4 div.sk-dashed-wrapped {border: 1px dashed gray;margin: 0 0.4em 0.5em 0.4em;box-sizing: border-box;padding-bottom: 0.4em;background-color: white;}#sk-container-id-4 div.sk-label label {font-family: monospace;font-weight: bold;display: inline-block;line-height: 1.2em;}#sk-container-id-4 div.sk-label-container {text-align: center;}#sk-container-id-4 div.sk-container {/* jupyter's `normalize.less` sets `[hidden] { display: none; }` but bootstrap.min.css set `[hidden] { display: none !important; }` so we also need the `!important` here to be able to override the default hidden behavior on the sphinx rendered scikit-learn.org. See: https://github.com/scikit-learn/scikit-learn/issues/21755 */display: inline-block !important;position: relative;}#sk-container-id-4 div.sk-text-repr-fallback {display: none;}</style><div id=\"sk-container-id-4\" class=\"sk-top-container\"><div class=\"sk-text-repr-fallback\"><pre>LogisticRegression()</pre><b>In a Jupyter environment, please rerun this cell to show the HTML representation or trust the notebook. <br />On GitHub, the HTML representation is unable to render, please try loading this page with nbviewer.org.</b></div><div class=\"sk-container\" hidden><div class=\"sk-item\"><div class=\"sk-estimator sk-toggleable\"><input class=\"sk-toggleable__control sk-hidden--visually\" id=\"sk-estimator-id-4\" type=\"checkbox\" checked><label for=\"sk-estimator-id-4\" class=\"sk-toggleable__label sk-toggleable__label-arrow\">LogisticRegression</label><div class=\"sk-toggleable__content\"><pre>LogisticRegression()</pre></div></div></div></div></div>"
      ],
      "text/plain": [
       "LogisticRegression()"
      ]
     },
     "execution_count": 96,
     "metadata": {},
     "output_type": "execute_result"
    }
   ],
   "source": [
    "# Separate model for calibration\n",
    "lr_calibration = LogisticRegression()\n",
    "\n",
    "# Get the predictions on calibration set from our classification model\n",
    "y_conf_calibration_set = lr.predict_proba(X_cal)[:, 1]\n",
    "\n",
    "# Fit the calibration model on calibration dataset\n",
    "lr_calibration.fit(y_conf_calibration_set.reshape(-1, 1), y_cal)"
   ]
  },
  {
   "cell_type": "code",
   "execution_count": 97,
   "id": "2bc7d98b",
   "metadata": {},
   "outputs": [],
   "source": [
    "# Transform the test probabilities via the calibration model \n",
    "cal_confidences_test = lr_calibration.predict_proba(y_conf.reshape(-1, 1))[:, 1]"
   ]
  },
  {
   "cell_type": "code",
   "execution_count": 98,
   "id": "864c0928",
   "metadata": {},
   "outputs": [
    {
     "data": {
      "text/plain": [
       "{'accuracies': array([0.9943101 , 0.61818182, 0.63380282, 0.5       , 0.44827586,\n",
       "        0.51219512, 0.5       , 0.62962963, 0.65497076, 1.        ]),\n",
       " 'confidences': array([0.04778499, 0.13976872, 0.23653152, 0.34291213, 0.45451229,\n",
       "        0.54657437, 0.64813063, 0.7557115 , 0.85602774, 0.95160823]),\n",
       " 'counts': array([703, 165,  71,  36,  29,  41,  42,  81, 171, 661]),\n",
       " 'bins': array([0. , 0.1, 0.2, 0.3, 0.4, 0.5, 0.6, 0.7, 0.8, 0.9, 1. ]),\n",
       " 'avg_accuracy': 0.8715,\n",
       " 'avg_confidence': 0.4926057846239512,\n",
       " 'expected_calibration_error': 0.4312994825901506,\n",
       " 'max_calibration_error': 0.94652511110911,\n",
       " 'brier': 0.0890075470811421}"
      ]
     },
     "execution_count": 98,
     "metadata": {},
     "output_type": "execute_result"
    }
   ],
   "source": [
    "nbins = 10\n",
    "res[\"Platt_Own\"] = compute_calibration(y_true, y_pred, cal_confidences_test, num_bins=nbins)\n",
    "res['Platt_Own'][\"brier\"] = brier_score_loss(y_true, cal_confidences_test)\n",
    "res['Platt_Own']"
   ]
  },
  {
   "cell_type": "code",
   "execution_count": 99,
   "id": "e07220e9",
   "metadata": {},
   "outputs": [
    {
     "data": {
      "image/png": "[encoded data removed]",
      "text/plain": [
       "<Figure size 432x288 with 1 Axes>"
      ]
     },
     "metadata": {
      "needs_background": "light"
     },
     "output_type": "display_data"
    }
   ],
   "source": [
    "p(res[\"Platt_Own\"])"
   ]
  },
  {
   "cell_type": "code",
   "execution_count": 115,
   "id": "6b93fa55",
   "metadata": {},
   "outputs": [],
   "source": [
    "keys = ['avg_accuracy', 'avg_confidence','expected_calibration_error', 'max_calibration_error'] #, brier]\n"
   ]
  },
  {
   "cell_type": "code",
   "execution_count": 116,
   "id": "8627afe1",
   "metadata": {},
   "outputs": [],
   "source": [
    "def summarise_results(res):\n",
    "    out = {}\n",
    "    for method in res.keys():\n",
    "        temp = {k: res[method][k] for k in keys}\n",
    "        out[method] = temp\n",
    "    return pd.DataFrame(out)"
   ]
  },
  {
   "cell_type": "code",
   "execution_count": 117,
   "id": "945e4319",
   "metadata": {},
   "outputs": [
    {
     "data": {
      "text/html": [
       "<div>\n",
       "<style scoped>\n",
       "    .dataframe tbody tr th:only-of-type {\n",
       "        vertical-align: middle;\n",
       "    }\n",
       "\n",
       "    .dataframe tbody tr th {\n",
       "        vertical-align: top;\n",
       "    }\n",
       "\n",
       "    .dataframe thead th {\n",
       "        text-align: right;\n",
       "    }\n",
       "</style>\n",
       "<table border=\"1\" class=\"dataframe\">\n",
       "  <thead>\n",
       "    <tr style=\"text-align: right;\">\n",
       "      <th></th>\n",
       "      <th>Uncalibrated</th>\n",
       "      <th>Platt_Own</th>\n",
       "    </tr>\n",
       "  </thead>\n",
       "  <tbody>\n",
       "    <tr>\n",
       "      <th>avg_accuracy</th>\n",
       "      <td>0.871500</td>\n",
       "      <td>0.871500</td>\n",
       "    </tr>\n",
       "    <tr>\n",
       "      <th>avg_confidence</th>\n",
       "      <td>0.493254</td>\n",
       "      <td>0.492606</td>\n",
       "    </tr>\n",
       "    <tr>\n",
       "      <th>expected_calibration_error</th>\n",
       "      <td>0.404010</td>\n",
       "      <td>0.431299</td>\n",
       "    </tr>\n",
       "    <tr>\n",
       "      <th>max_calibration_error</th>\n",
       "      <td>0.953992</td>\n",
       "      <td>0.946525</td>\n",
       "    </tr>\n",
       "  </tbody>\n",
       "</table>\n",
       "</div>"
      ],
      "text/plain": [
       "                            Uncalibrated  Platt_Own\n",
       "avg_accuracy                    0.871500   0.871500\n",
       "avg_confidence                  0.493254   0.492606\n",
       "expected_calibration_error      0.404010   0.431299\n",
       "max_calibration_error           0.953992   0.946525"
      ]
     },
     "execution_count": 117,
     "metadata": {},
     "output_type": "execute_result"
    }
   ],
   "source": [
    "summarise_results(res)"
   ]
  },
  {
   "cell_type": "code",
   "execution_count": 118,
   "id": "aed1e7c8",
   "metadata": {},
   "outputs": [],
   "source": [
    "from sklearn.calibration import CalibratedClassifierCV\n",
    "\n",
    "calibrator = CalibratedClassifierCV(lr, cv='prefit')\n",
    "calibrator.fit(X_cal, y_cal)\n",
    "yhat = calibrator.predict(X_test)"
   ]
  },
  {
   "cell_type": "code",
   "execution_count": 119,
   "id": "213856e1",
   "metadata": {},
   "outputs": [],
   "source": [
    "cal_conf_sk = calibrator.predict_proba(X_test)[:, 1]"
   ]
  },
  {
   "cell_type": "code",
   "execution_count": 120,
   "id": "3c8ba4c6",
   "metadata": {},
   "outputs": [
    {
     "data": {
      "text/plain": [
       "<matplotlib.legend.Legend at 0x19d034310>"
      ]
     },
     "execution_count": 120,
     "metadata": {},
     "output_type": "execute_result"
    },
    {
     "data": {
      "image/png": "[encoded data removed]",
      "text/plain": [
       "<Figure size 432x288 with 1 Axes>"
      ]
     },
     "metadata": {
      "needs_background": "light"
     },
     "output_type": "display_data"
    }
   ],
   "source": [
    "from sklearn.calibration import calibration_curve\n",
    "plt.plot([0, 1], [0, 1], \"k:\", label=\"Perfectly calibrated\")\n",
    "frac_of_pos, mean_pred_value = calibration_curve(y_test, y_conf, n_bins=10)\n",
    "plt.plot(mean_pred_value, frac_of_pos, \"s-\", label=\"Uncalibrated\")\n",
    "\n",
    "frac_of_pos, mean_pred_value = calibration_curve(y_test, cal_confidences_test, n_bins=10)\n",
    "plt.plot(mean_pred_value, frac_of_pos, \"s-\", label=\"Calibrated own\")\n",
    "\n",
    "frac_of_pos, mean_pred_value = calibration_curve(y_test, cal_conf_sk, n_bins=10)\n",
    "plt.plot(mean_pred_value, frac_of_pos, \"s-\", label=\"Calibrated sklearn\")\n",
    "plt.legend()"
   ]
  },
  {
   "cell_type": "code",
   "execution_count": 121,
   "id": "af0ef0e4",
   "metadata": {},
   "outputs": [],
   "source": [
    "res['Platt_Sklearn'] = compute_calibration(y_true, y_pred, cal_conf_sk, num_bins=nbins)\n",
    "res['Platt_Sklearn'][\"brier\"] = brier_score_loss(y_true, cal_conf_sk)\n"
   ]
  },
  {
   "cell_type": "code",
   "execution_count": 122,
   "id": "fa90896c",
   "metadata": {},
   "outputs": [
    {
     "data": {
      "image/png": "[encoded data removed]",
      "text/plain": [
       "<Figure size 432x288 with 1 Axes>"
      ]
     },
     "metadata": {
      "needs_background": "light"
     },
     "output_type": "display_data"
    }
   ],
   "source": [
    "p(res['Platt_Sklearn'])"
   ]
  },
  {
   "cell_type": "code",
   "execution_count": 123,
   "id": "cf77edac",
   "metadata": {},
   "outputs": [
    {
     "data": {
      "text/html": [
       "<div>\n",
       "<style scoped>\n",
       "    .dataframe tbody tr th:only-of-type {\n",
       "        vertical-align: middle;\n",
       "    }\n",
       "\n",
       "    .dataframe tbody tr th {\n",
       "        vertical-align: top;\n",
       "    }\n",
       "\n",
       "    .dataframe thead th {\n",
       "        text-align: right;\n",
       "    }\n",
       "</style>\n",
       "<table border=\"1\" class=\"dataframe\">\n",
       "  <thead>\n",
       "    <tr style=\"text-align: right;\">\n",
       "      <th></th>\n",
       "      <th>Uncalibrated</th>\n",
       "      <th>Platt_Own</th>\n",
       "      <th>Platt_Sklearn</th>\n",
       "    </tr>\n",
       "  </thead>\n",
       "  <tbody>\n",
       "    <tr>\n",
       "      <th>avg_accuracy</th>\n",
       "      <td>0.871500</td>\n",
       "      <td>0.871500</td>\n",
       "      <td>0.871500</td>\n",
       "    </tr>\n",
       "    <tr>\n",
       "      <th>avg_confidence</th>\n",
       "      <td>0.493254</td>\n",
       "      <td>0.492606</td>\n",
       "      <td>0.491858</td>\n",
       "    </tr>\n",
       "    <tr>\n",
       "      <th>expected_calibration_error</th>\n",
       "      <td>0.404010</td>\n",
       "      <td>0.431299</td>\n",
       "      <td>0.425846</td>\n",
       "    </tr>\n",
       "    <tr>\n",
       "      <th>max_calibration_error</th>\n",
       "      <td>0.953992</td>\n",
       "      <td>0.946525</td>\n",
       "      <td>0.973522</td>\n",
       "    </tr>\n",
       "  </tbody>\n",
       "</table>\n",
       "</div>"
      ],
      "text/plain": [
       "                            Uncalibrated  Platt_Own  Platt_Sklearn\n",
       "avg_accuracy                    0.871500   0.871500       0.871500\n",
       "avg_confidence                  0.493254   0.492606       0.491858\n",
       "expected_calibration_error      0.404010   0.431299       0.425846\n",
       "max_calibration_error           0.953992   0.946525       0.973522"
      ]
     },
     "execution_count": 123,
     "metadata": {},
     "output_type": "execute_result"
    }
   ],
   "source": [
    "summarise_results(res)"
   ]
  },
  {
   "cell_type": "markdown",
   "id": "a1dbfbc5",
   "metadata": {},
   "source": [
    "### Isotonic Regression"
   ]
  },
  {
   "cell_type": "code",
   "execution_count": 124,
   "id": "83ad6142",
   "metadata": {},
   "outputs": [],
   "source": [
    "from sklearn.isotonic import IsotonicRegression\n",
    "\n",
    "model=IsotonicRegression()\n",
    "model.fit(y_conf_calibration_set.reshape(-1, 1), y_cal)\n",
    "cal_confidences_test_isotonic = model.predict(y_conf.reshape(-1, 1))"
   ]
  },
  {
   "cell_type": "code",
   "execution_count": 125,
   "id": "48c910b2",
   "metadata": {},
   "outputs": [
    {
     "data": {
      "text/plain": [
       "8"
      ]
     },
     "execution_count": 125,
     "metadata": {},
     "output_type": "execute_result"
    }
   ],
   "source": [
    "np.isnan(cal_confidences_test_isotonic).sum()"
   ]
  },
  {
   "cell_type": "code",
   "execution_count": 126,
   "id": "a332f02b",
   "metadata": {},
   "outputs": [],
   "source": [
    "res['Isotonic_Own'] = compute_calibration(y_true, y_pred, cal_confidences_test_isotonic, num_bins=nbins)\n",
    "#res['Isotonic_Own'][\"brier\"] = brier_score_loss(y_true, cal_confidences_test_isotonic)"
   ]
  },
  {
   "cell_type": "code",
   "execution_count": 127,
   "id": "7cb9a625",
   "metadata": {},
   "outputs": [
    {
     "data": {
      "image/png": "[encoded data removed]",
      "text/plain": [
       "<Figure size 432x288 with 1 Axes>"
      ]
     },
     "metadata": {
      "needs_background": "light"
     },
     "output_type": "display_data"
    }
   ],
   "source": [
    "p(res['Isotonic_Own'])"
   ]
  },
  {
   "cell_type": "code",
   "execution_count": 128,
   "id": "41cbc9a8",
   "metadata": {},
   "outputs": [
    {
     "data": {
      "text/html": [
       "<div>\n",
       "<style scoped>\n",
       "    .dataframe tbody tr th:only-of-type {\n",
       "        vertical-align: middle;\n",
       "    }\n",
       "\n",
       "    .dataframe tbody tr th {\n",
       "        vertical-align: top;\n",
       "    }\n",
       "\n",
       "    .dataframe thead th {\n",
       "        text-align: right;\n",
       "    }\n",
       "</style>\n",
       "<table border=\"1\" class=\"dataframe\">\n",
       "  <thead>\n",
       "    <tr style=\"text-align: right;\">\n",
       "      <th></th>\n",
       "      <th>Uncalibrated</th>\n",
       "      <th>Platt_Own</th>\n",
       "      <th>Platt_Sklearn</th>\n",
       "      <th>Isotonic_Own</th>\n",
       "    </tr>\n",
       "  </thead>\n",
       "  <tbody>\n",
       "    <tr>\n",
       "      <th>avg_accuracy</th>\n",
       "      <td>0.871500</td>\n",
       "      <td>0.871500</td>\n",
       "      <td>0.871500</td>\n",
       "      <td>0.803517</td>\n",
       "    </tr>\n",
       "    <tr>\n",
       "      <th>avg_confidence</th>\n",
       "      <td>0.493254</td>\n",
       "      <td>0.492606</td>\n",
       "      <td>0.491858</td>\n",
       "      <td>0.754875</td>\n",
       "    </tr>\n",
       "    <tr>\n",
       "      <th>expected_calibration_error</th>\n",
       "      <td>0.404010</td>\n",
       "      <td>0.431299</td>\n",
       "      <td>0.425846</td>\n",
       "      <td>0.079021</td>\n",
       "    </tr>\n",
       "    <tr>\n",
       "      <th>max_calibration_error</th>\n",
       "      <td>0.953992</td>\n",
       "      <td>0.946525</td>\n",
       "      <td>0.973522</td>\n",
       "      <td>0.723636</td>\n",
       "    </tr>\n",
       "  </tbody>\n",
       "</table>\n",
       "</div>"
      ],
      "text/plain": [
       "                            Uncalibrated  Platt_Own  Platt_Sklearn  \\\n",
       "avg_accuracy                    0.871500   0.871500       0.871500   \n",
       "avg_confidence                  0.493254   0.492606       0.491858   \n",
       "expected_calibration_error      0.404010   0.431299       0.425846   \n",
       "max_calibration_error           0.953992   0.946525       0.973522   \n",
       "\n",
       "                            Isotonic_Own  \n",
       "avg_accuracy                    0.803517  \n",
       "avg_confidence                  0.754875  \n",
       "expected_calibration_error      0.079021  \n",
       "max_calibration_error           0.723636  "
      ]
     },
     "execution_count": 128,
     "metadata": {},
     "output_type": "execute_result"
    }
   ],
   "source": [
    "summarise_results(res)"
   ]
  },
  {
   "cell_type": "code",
   "execution_count": 129,
   "id": "68a20397",
   "metadata": {},
   "outputs": [],
   "source": [
    "calibrator = CalibratedClassifierCV(lr, cv='prefit', method='isotonic')\n",
    "calibrator.fit(X_cal, y_cal)\n",
    "yhat = calibrator.predict(X_test)\n",
    "cal_conf_sk_isotonic = calibrator.predict_proba(X_test)[:, 1]"
   ]
  },
  {
   "cell_type": "code",
   "execution_count": 130,
   "id": "78d7ce87",
   "metadata": {},
   "outputs": [
    {
     "data": {
      "text/plain": [
       "<matplotlib.legend.Legend at 0x19d342400>"
      ]
     },
     "execution_count": 130,
     "metadata": {},
     "output_type": "execute_result"
    },
    {
     "data": {
      "image/png": "[encoded data removed]",
      "text/plain": [
       "<Figure size 432x288 with 1 Axes>"
      ]
     },
     "metadata": {
      "needs_background": "light"
     },
     "output_type": "display_data"
    }
   ],
   "source": [
    "from sklearn.calibration import calibration_curve\n",
    "plt.plot([0, 1], [0, 1], \"k:\", label=\"Perfectly calibrated\")\n",
    "frac_of_pos, mean_pred_value = calibration_curve(y_test, y_conf, n_bins=10)\n",
    "plt.plot(mean_pred_value, frac_of_pos, \"s-\", label=\"Uncalibrated\")\n",
    "\n",
    "frac_of_pos, mean_pred_value = calibration_curve(y_test, cal_confidences_test, n_bins=10)\n",
    "plt.plot(mean_pred_value, frac_of_pos, \"s-\", label=\"Calibrated own\")\n",
    "\n",
    "frac_of_pos, mean_pred_value = calibration_curve(y_test, cal_conf_sk, n_bins=10)\n",
    "plt.plot(mean_pred_value, frac_of_pos, \"s-\", label=\"Calibrated sklearn\")\n",
    "\n",
    "\n",
    "frac_of_pos, mean_pred_value = calibration_curve(y_test, cal_confidences_test_isotonic, n_bins=10)\n",
    "plt.plot(mean_pred_value, frac_of_pos, \"s-\", label=\"Calibrated own (isotonic)\", lw=5, alpha=0.2)\n",
    "\n",
    "\n",
    "frac_of_pos, mean_pred_value = calibration_curve(y_test, cal_conf_sk_isotonic, n_bins=10)\n",
    "plt.plot(mean_pred_value, frac_of_pos, \"s-\", label=\"Calibrated sk (isotonic)\")\n",
    "plt.legend()"
   ]
  },
  {
   "cell_type": "code",
   "execution_count": 131,
   "id": "04f117df",
   "metadata": {},
   "outputs": [],
   "source": [
    "res['Isotonic_sklearn'] = compute_calibration(y_true, y_pred, cal_conf_sk_isotonic, num_bins=nbins)"
   ]
  },
  {
   "cell_type": "code",
   "execution_count": 132,
   "id": "52d174c3",
   "metadata": {},
   "outputs": [
    {
     "data": {
      "text/html": [
       "<div>\n",
       "<style scoped>\n",
       "    .dataframe tbody tr th:only-of-type {\n",
       "        vertical-align: middle;\n",
       "    }\n",
       "\n",
       "    .dataframe tbody tr th {\n",
       "        vertical-align: top;\n",
       "    }\n",
       "\n",
       "    .dataframe thead th {\n",
       "        text-align: right;\n",
       "    }\n",
       "</style>\n",
       "<table border=\"1\" class=\"dataframe\">\n",
       "  <thead>\n",
       "    <tr style=\"text-align: right;\">\n",
       "      <th></th>\n",
       "      <th>Uncalibrated</th>\n",
       "      <th>Platt_Own</th>\n",
       "      <th>Platt_Sklearn</th>\n",
       "      <th>Isotonic_Own</th>\n",
       "      <th>Isotonic_sklearn</th>\n",
       "    </tr>\n",
       "  </thead>\n",
       "  <tbody>\n",
       "    <tr>\n",
       "      <th>avg_accuracy</th>\n",
       "      <td>0.871500</td>\n",
       "      <td>0.871500</td>\n",
       "      <td>0.871500</td>\n",
       "      <td>0.803517</td>\n",
       "      <td>0.803517</td>\n",
       "    </tr>\n",
       "    <tr>\n",
       "      <th>avg_confidence</th>\n",
       "      <td>0.493254</td>\n",
       "      <td>0.492606</td>\n",
       "      <td>0.491858</td>\n",
       "      <td>0.754875</td>\n",
       "      <td>0.754876</td>\n",
       "    </tr>\n",
       "    <tr>\n",
       "      <th>expected_calibration_error</th>\n",
       "      <td>0.404010</td>\n",
       "      <td>0.431299</td>\n",
       "      <td>0.425846</td>\n",
       "      <td>0.079021</td>\n",
       "      <td>0.079021</td>\n",
       "    </tr>\n",
       "    <tr>\n",
       "      <th>max_calibration_error</th>\n",
       "      <td>0.953992</td>\n",
       "      <td>0.946525</td>\n",
       "      <td>0.973522</td>\n",
       "      <td>0.723636</td>\n",
       "      <td>0.723562</td>\n",
       "    </tr>\n",
       "  </tbody>\n",
       "</table>\n",
       "</div>"
      ],
      "text/plain": [
       "                            Uncalibrated  Platt_Own  Platt_Sklearn  \\\n",
       "avg_accuracy                    0.871500   0.871500       0.871500   \n",
       "avg_confidence                  0.493254   0.492606       0.491858   \n",
       "expected_calibration_error      0.404010   0.431299       0.425846   \n",
       "max_calibration_error           0.953992   0.946525       0.973522   \n",
       "\n",
       "                            Isotonic_Own  Isotonic_sklearn  \n",
       "avg_accuracy                    0.803517          0.803517  \n",
       "avg_confidence                  0.754875          0.754876  \n",
       "expected_calibration_error      0.079021          0.079021  \n",
       "max_calibration_error           0.723636          0.723562  "
      ]
     },
     "execution_count": 132,
     "metadata": {},
     "output_type": "execute_result"
    }
   ],
   "source": [
    "summarise_results(res)"
   ]
  }
 ],
 "metadata": {
  "kernelspec": {
   "display_name": "Python 3 (ipykernel)",
   "language": "python",
   "name": "python3"
  },
  "language_info": {
   "codemirror_mode": {
    "name": "ipython",
    "version": 3
   },
   "file_extension": ".py",
   "mimetype": "text/x-python",
   "name": "python",
   "nbconvert_exporter": "python",
   "pygments_lexer": "ipython3",
   "version": "3.9.13"
  }
 },
 "nbformat": 4,
 "nbformat_minor": 5
}
