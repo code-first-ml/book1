{
 "cells": [
  {
   "cell_type": "code",
   "execution_count": 1,
   "id": "7304269b",
   "metadata": {},
   "outputs": [],
   "source": [
    "import torch\n",
    "import matplotlib.pyplot as plt\n",
    "import pandas as pd\n",
    "%matplotlib inline"
   ]
  },
  {
   "cell_type": "code",
   "execution_count": 6,
   "id": "4991cc0c",
   "metadata": {},
   "outputs": [],
   "source": [
    "x = 0.5\n",
    "y = 0.3\n",
    "t = torch.tensor(x**2 + y**2 < 1)"
   ]
  },
  {
   "cell_type": "code",
   "execution_count": 8,
   "id": "e0d8f957",
   "metadata": {},
   "outputs": [
    {
     "data": {
      "text/plain": [
       "tensor(1, dtype=torch.int32)"
      ]
     },
     "execution_count": 8,
     "metadata": {},
     "output_type": "execute_result"
    }
   ],
   "source": [
    "t.int()"
   ]
  },
  {
   "cell_type": "code",
   "execution_count": 9,
   "id": "b7bec63b",
   "metadata": {},
   "outputs": [],
   "source": [
    "def f(x, y):\n",
    "    return (x**2 + y**2 < 1).int()\n",
    "    "
   ]
  },
  {
   "cell_type": "code",
   "execution_count": 10,
   "id": "93eea561",
   "metadata": {},
   "outputs": [],
   "source": [
    "uniform = torch.distributions.Uniform(low= 0., high=1.)"
   ]
  },
  {
   "cell_type": "code",
   "execution_count": 13,
   "id": "d4d50dac",
   "metadata": {},
   "outputs": [],
   "source": []
  },
  {
   "cell_type": "code",
   "execution_count": 23,
   "id": "0d757d03",
   "metadata": {},
   "outputs": [
    {
     "data": {
      "text/plain": [
       "tensor(79)"
      ]
     },
     "execution_count": 23,
     "metadata": {},
     "output_type": "execute_result"
    }
   ],
   "source": []
  },
  {
   "cell_type": "code",
   "execution_count": 52,
   "id": "b0f7a495",
   "metadata": {},
   "outputs": [],
   "source": [
    "def estimate(N, plot=False):\n",
    "    XY = uniform.sample([N, 2])\n",
    "    X = XY[:, 0]\n",
    "    Y = XY[:, 1]\n",
    "    pi_hat =(4*f(X, Y).sum()/len(X)).item()\n",
    "    \n",
    "    if plot:\n",
    "\n",
    "        plt.scatter(X, Y, c='k', alpha=0.5, s = 20)\n",
    "        plt.xlim((0, 1))\n",
    "        plt.ylim(0, 1)\n",
    "        ax = plt.gca()\n",
    "        ax.set_aspect(\"equal\")\n",
    "\n",
    "        c = plt.Circle((0, 0), 1, alpha=0.5,zorder=-10)\n",
    "        ax.add_artist(c)\n",
    "        plt.title(rf\"$\\hat{{\\pi}}$ = {pi_hat:0.4f}\")\n",
    "    return pi_hat"
   ]
  },
  {
   "cell_type": "code",
   "execution_count": 53,
   "id": "3663b259",
   "metadata": {},
   "outputs": [
    {
     "data": {
      "text/plain": [
       "3.2799999713897705"
      ]
     },
     "execution_count": 53,
     "metadata": {},
     "output_type": "execute_result"
    },
    {
     "data": {
      "image/png": "[encoded data removed]",
      "text/plain": [
       "<Figure size 432x288 with 1 Axes>"
      ]
     },
     "metadata": {
      "needs_background": "light"
     },
     "output_type": "display_data"
    }
   ],
   "source": [
    "estimate(100, True)"
   ]
  },
  {
   "cell_type": "code",
   "execution_count": 94,
   "id": "9166ad0e",
   "metadata": {},
   "outputs": [],
   "source": [
    "num_experiments = 1000\n",
    "out = {}\n",
    "\n",
    "for N in torch.pow(10, torch.arange(0, 7, 1)):\n",
    "    N_val = N.item()\n",
    "    out[N_val] = {}\n",
    "    for experiment in range(num_experiments):\n",
    "        out[N_val][experiment] = estimate(N_val, False)\n",
    "    \n",
    "\n"
   ]
  },
  {
   "cell_type": "code",
   "execution_count": null,
   "id": "3e136053",
   "metadata": {},
   "outputs": [],
   "source": []
  },
  {
   "cell_type": "code",
   "execution_count": 97,
   "id": "eddcabe2",
   "metadata": {},
   "outputs": [],
   "source": [
    "df = pd.DataFrame(out)"
   ]
  },
  {
   "cell_type": "code",
   "execution_count": 98,
   "id": "f69f8977",
   "metadata": {},
   "outputs": [
    {
     "data": {
      "text/html": [
       "<div>\n",
       "<style scoped>\n",
       "    .dataframe tbody tr th:only-of-type {\n",
       "        vertical-align: middle;\n",
       "    }\n",
       "\n",
       "    .dataframe tbody tr th {\n",
       "        vertical-align: top;\n",
       "    }\n",
       "\n",
       "    .dataframe thead th {\n",
       "        text-align: right;\n",
       "    }\n",
       "</style>\n",
       "<table border=\"1\" class=\"dataframe\">\n",
       "  <thead>\n",
       "    <tr style=\"text-align: right;\">\n",
       "      <th></th>\n",
       "      <th>1</th>\n",
       "      <th>10</th>\n",
       "      <th>100</th>\n",
       "      <th>1000</th>\n",
       "      <th>10000</th>\n",
       "      <th>100000</th>\n",
       "      <th>1000000</th>\n",
       "    </tr>\n",
       "  </thead>\n",
       "  <tbody>\n",
       "    <tr>\n",
       "      <th>0</th>\n",
       "      <td>4.0</td>\n",
       "      <td>3.6</td>\n",
       "      <td>3.04</td>\n",
       "      <td>3.108</td>\n",
       "      <td>3.1244</td>\n",
       "      <td>3.14032</td>\n",
       "      <td>3.143236</td>\n",
       "    </tr>\n",
       "    <tr>\n",
       "      <th>1</th>\n",
       "      <td>4.0</td>\n",
       "      <td>3.2</td>\n",
       "      <td>3.24</td>\n",
       "      <td>3.100</td>\n",
       "      <td>3.1228</td>\n",
       "      <td>3.14880</td>\n",
       "      <td>3.140112</td>\n",
       "    </tr>\n",
       "    <tr>\n",
       "      <th>2</th>\n",
       "      <td>4.0</td>\n",
       "      <td>2.0</td>\n",
       "      <td>3.40</td>\n",
       "      <td>3.272</td>\n",
       "      <td>3.1484</td>\n",
       "      <td>3.13720</td>\n",
       "      <td>3.143680</td>\n",
       "    </tr>\n",
       "    <tr>\n",
       "      <th>3</th>\n",
       "      <td>4.0</td>\n",
       "      <td>3.2</td>\n",
       "      <td>3.24</td>\n",
       "      <td>3.112</td>\n",
       "      <td>3.1580</td>\n",
       "      <td>3.14680</td>\n",
       "      <td>3.142780</td>\n",
       "    </tr>\n",
       "    <tr>\n",
       "      <th>4</th>\n",
       "      <td>4.0</td>\n",
       "      <td>3.2</td>\n",
       "      <td>2.92</td>\n",
       "      <td>3.120</td>\n",
       "      <td>3.1264</td>\n",
       "      <td>3.14328</td>\n",
       "      <td>3.141992</td>\n",
       "    </tr>\n",
       "    <tr>\n",
       "      <th>...</th>\n",
       "      <td>...</td>\n",
       "      <td>...</td>\n",
       "      <td>...</td>\n",
       "      <td>...</td>\n",
       "      <td>...</td>\n",
       "      <td>...</td>\n",
       "      <td>...</td>\n",
       "    </tr>\n",
       "    <tr>\n",
       "      <th>995</th>\n",
       "      <td>4.0</td>\n",
       "      <td>3.6</td>\n",
       "      <td>3.16</td>\n",
       "      <td>3.128</td>\n",
       "      <td>3.1060</td>\n",
       "      <td>3.14612</td>\n",
       "      <td>3.141348</td>\n",
       "    </tr>\n",
       "    <tr>\n",
       "      <th>996</th>\n",
       "      <td>4.0</td>\n",
       "      <td>2.4</td>\n",
       "      <td>3.28</td>\n",
       "      <td>3.212</td>\n",
       "      <td>3.1356</td>\n",
       "      <td>3.14076</td>\n",
       "      <td>3.141380</td>\n",
       "    </tr>\n",
       "    <tr>\n",
       "      <th>997</th>\n",
       "      <td>4.0</td>\n",
       "      <td>3.6</td>\n",
       "      <td>2.96</td>\n",
       "      <td>3.164</td>\n",
       "      <td>3.1856</td>\n",
       "      <td>3.14856</td>\n",
       "      <td>3.141468</td>\n",
       "    </tr>\n",
       "    <tr>\n",
       "      <th>998</th>\n",
       "      <td>4.0</td>\n",
       "      <td>3.2</td>\n",
       "      <td>3.00</td>\n",
       "      <td>3.156</td>\n",
       "      <td>3.1504</td>\n",
       "      <td>3.14180</td>\n",
       "      <td>3.137832</td>\n",
       "    </tr>\n",
       "    <tr>\n",
       "      <th>999</th>\n",
       "      <td>0.0</td>\n",
       "      <td>2.8</td>\n",
       "      <td>3.12</td>\n",
       "      <td>3.128</td>\n",
       "      <td>3.1264</td>\n",
       "      <td>3.14632</td>\n",
       "      <td>3.141212</td>\n",
       "    </tr>\n",
       "  </tbody>\n",
       "</table>\n",
       "<p>1000 rows × 7 columns</p>\n",
       "</div>"
      ],
      "text/plain": [
       "     1        10       100      1000     10000    100000    1000000\n",
       "0        4.0      3.6     3.04    3.108   3.1244  3.14032  3.143236\n",
       "1        4.0      3.2     3.24    3.100   3.1228  3.14880  3.140112\n",
       "2        4.0      2.0     3.40    3.272   3.1484  3.13720  3.143680\n",
       "3        4.0      3.2     3.24    3.112   3.1580  3.14680  3.142780\n",
       "4        4.0      3.2     2.92    3.120   3.1264  3.14328  3.141992\n",
       "..       ...      ...      ...      ...      ...      ...       ...\n",
       "995      4.0      3.6     3.16    3.128   3.1060  3.14612  3.141348\n",
       "996      4.0      2.4     3.28    3.212   3.1356  3.14076  3.141380\n",
       "997      4.0      3.6     2.96    3.164   3.1856  3.14856  3.141468\n",
       "998      4.0      3.2     3.00    3.156   3.1504  3.14180  3.137832\n",
       "999      0.0      2.8     3.12    3.128   3.1264  3.14632  3.141212\n",
       "\n",
       "[1000 rows x 7 columns]"
      ]
     },
     "execution_count": 98,
     "metadata": {},
     "output_type": "execute_result"
    }
   ],
   "source": [
    "df"
   ]
  },
  {
   "cell_type": "code",
   "execution_count": 99,
   "id": "901d3339",
   "metadata": {},
   "outputs": [
    {
     "data": {
      "text/plain": [
       "<matplotlib.lines.Line2D at 0x14e8bc160>"
      ]
     },
     "execution_count": 99,
     "metadata": {},
     "output_type": "execute_result"
    },
    {
     "data": {
      "image/png": "[encoded data removed]",
      "text/plain": [
       "<Figure size 432x288 with 1 Axes>"
      ]
     },
     "metadata": {
      "needs_background": "light"
     },
     "output_type": "display_data"
    }
   ],
   "source": [
    "mean_df = df.mean()\n",
    "mean_df.plot(logx=True, lw=5)\n",
    "std_df = df.std()\n",
    "plt.fill_between(mean_df.index, mean_df-std_df, mean_df+std_df, alpha=0.2)\n",
    "plt.axhline(torch.pi, color='k', linestyle='--')"
   ]
  },
  {
   "cell_type": "code",
   "execution_count": 101,
   "id": "7617f3d8",
   "metadata": {},
   "outputs": [
    {
     "data": {
      "text/plain": [
       "<AxesSubplot:>"
      ]
     },
     "execution_count": 101,
     "metadata": {},
     "output_type": "execute_result"
    },
    {
     "data": {
      "image/png": "[encoded data removed]",
      "text/plain": [
       "<Figure size 432x288 with 1 Axes>"
      ]
     },
     "metadata": {
      "needs_background": "light"
     },
     "output_type": "display_data"
    }
   ],
   "source": [
    "std_df.plot(logx=True, logy=True)"
   ]
  },
  {
   "cell_type": "code",
   "execution_count": null,
   "id": "2f29dce3",
   "metadata": {},
   "outputs": [],
   "source": []
  }
 ],
 "metadata": {
  "kernelspec": {
   "display_name": "Python 3 (ipykernel)",
   "language": "python",
   "name": "python3"
  },
  "language_info": {
   "codemirror_mode": {
    "name": "ipython",
    "version": 3
   },
   "file_extension": ".py",
   "mimetype": "text/x-python",
   "name": "python",
   "nbconvert_exporter": "python",
   "pygments_lexer": "ipython3",
   "version": "3.9.7"
  }
 },
 "nbformat": 4,
 "nbformat_minor": 5
}
