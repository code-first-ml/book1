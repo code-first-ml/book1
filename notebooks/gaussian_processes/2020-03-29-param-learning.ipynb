{
 "cells": [
  {
   "cell_type": "markdown",
   "metadata": {},
   "source": [
    "# Learning Gaussian Process regression parameters using gradient descent\n",
    "> How to learn the parameters of a GP\n",
    "\n",
    "- toc: true \n",
    "- badges: true\n",
    "- comments: true\n",
    "- author: Nipun Batra\n",
    "- categories: [ML]"
   ]
  },
  {
   "cell_type": "markdown",
   "metadata": {},
   "source": [
    "[![](http://img.youtube.com/vi/zBG1BHtipIY/0.jpg)](http://www.youtube.com/watch?v=zBG1BHtipIY \"\")\n"
   ]
  },
  {
   "cell_type": "markdown",
   "metadata": {},
   "source": [
    "In previous posts, I have talked about GP regression:\n",
    "\n",
    "- [Post 1 on programatically understanding GPs](https://nipunbatra.github.io/blog/ml/2019/08/20/Gaussian-Processes.html)\n",
    "- [Post 2 on making use of a popular GP library called GPy](https://nipunbatra.github.io/blog/ml/2020/03/26/gp.html)\n",
    "\n",
    "In this post, I will be talking about how to learn the parameters of a GP. I'll keep this post simple and specific to a trivial example using RBF kernel (though the methods discussed are general.)\n",
    "\n",
    "To keep things simple, we will assume a mean prior of zero and we will only be learning the parameters of the kernel function. "
   ]
  },
  {
   "cell_type": "markdown",
   "metadata": {},
   "source": [
    "### Key Idea\n",
    "\n",
    "1. Write the expression of log likelihood of data in terms of kernel parameters\n",
    "2. Use gradient descent to optimize the objective (negative log likelihood) and update the kernel parameters"
   ]
  },
  {
   "cell_type": "markdown",
   "metadata": {},
   "source": [
    "### Defining log-likelihood\n",
    "\n",
    "In our previous post we had mentioned (for the **noiseless case**):\n",
    "\n",
    "Given train data\n",
    "$$\n",
    "D=\\left(x_{i}, y_{i}\\right), i=1: N\n",
    "$$\n",
    "Given a test set $X_{*}$ of size $N_{*} \\times d$ containing $N_{*}$ points in $\\mathbb{R}^{d},$ we want to predict function outputs $y_{*}$\n",
    "We can write:\n",
    "$$\n",
    "\\left(\\begin{array}{l}\n",
    "y \\\\\n",
    "y_{*}\n",
    "\\end{array}\\right) \\sim \\mathcal{N}\\left(\\left(\\begin{array}{l}\n",
    "\\mu \\\\\n",
    "\\mu_{*}\n",
    "\\end{array}\\right),\\left(\\begin{array}{cc}\n",
    "K & K_{*} \\\\\n",
    "K_{*}^{T} & K_{* *}\n",
    "\\end{array}\\right)\\right)\n",
    "$$\n",
    "where\n",
    "$$\n",
    "\\begin{aligned}\n",
    "K &=\\operatorname{Ker}(X, X) \\in \\mathbb{R}^{N \\times N} \\\\\n",
    "K_{*} &=\\operatorname{Ker}\\left(X, X_{*}\\right) \\in \\mathbb{R}^{N \\times N} \\\\\n",
    "K_{* *} &=\\operatorname{Ker}\\left(X_{*}, X_{*}\\right) \\in \\mathbb{R}^{N_{*} \\times N_{*}}\n",
    "\\end{aligned}\n",
    "$$\n",
    "\n",
    "Thus, from the property of conditioning of multivariate Gaussian, we know that:\n",
    "\n",
    "$$y \\sim \\mathcal{N}_N(\\mu, K)$$\n",
    "\n",
    "We will assume $\\mu$ to be zero. Thus, we have for the train data, the following expression:\n",
    "\n",
    "$$y \\sim \\mathcal{N}_N(0, K)$$\n",
    "\n",
    "For the **noisy case**, we have:\n",
    "\n",
    "$$y \\sim \\mathcal{N}_N(0, K + \\sigma_{noise}^2\\mathcal{I}_N)$$\n",
    "\n",
    "From this expression, we can write the log-likelihood of data computed over the kernel parameters $\\theta$ as:\n",
    "\n",
    "$$\\mathcal{LL}(\\theta) = \\log(\\frac{\\exp((-1/2)(y-0)^T (K+\\sigma_{noise}^2\\mathcal{I}_N)^{-1}(y-0))}{(2\\pi)^{N/2}|(K+\\sigma_{noise}^2\\mathcal{I}_N)|^{1/2}})$$\n",
    "\n",
    "Thus, we can write:\n",
    "\n",
    "$$\\mathcal{LL}(\\theta) =\\log P(\\mathbf{y} | X, \\theta)=-\\frac{1}{2} \\mathbf{y}^{\\top} M^{-1} \\mathbf{y}-\\frac{1}{2} \\log |M|-\\frac{N}{2} \\log 2 \\pi$$\n",
    "\n",
    "where $$M = K + \\sigma_{noise}^2\\mathcal{I}_N$$"
   ]
  },
  {
   "cell_type": "markdown",
   "metadata": {},
   "source": [
    "### Imports"
   ]
  },
  {
   "cell_type": "markdown",
   "metadata": {},
   "source": [
    "As before, we will be using the excellent Autograd library for automatically computing the gradient of an objective function with respect to the parameters. We will also be using GPy for verifying our calculations.\n",
    "\n",
    "Let us start with some basic imports."
   ]
  },
  {
   "cell_type": "code",
   "execution_count": 1,
   "metadata": {},
   "outputs": [],
   "source": [
    "import autograd.numpy as np\n",
    "\n",
    "from matplotlib import pyplot as plt\n",
    "%matplotlib inline\n",
    "\n",
    "import warnings\n",
    "warnings.filterwarnings('ignore')\n",
    "\n",
    "import GPy"
   ]
  },
  {
   "cell_type": "markdown",
   "metadata": {},
   "source": [
    "### Defining our RBF kernel\n",
    "\n",
    "\n",
    "\n",
    "The definition of the (1-dimensional) RBF kernel has a Gaussian-form, defined as:\n",
    "\n",
    "$$\n",
    "    \\kappa_\\mathrm{rbf}(x_1,x_2) = \\sigma^2\\exp\\left(-\\frac{(x_1-x_2)^2}{2\\mathscr{l}^2}\\right)\n",
    "$$\n"
   ]
  },
  {
   "cell_type": "code",
   "execution_count": 2,
   "metadata": {},
   "outputs": [],
   "source": [
    "def rbf(x1, x2, sigma, l):\n",
    "    return (sigma**2)*(np.exp(-(x1-x2)**2/(2*(l**2))))    "
   ]
  },
  {
   "cell_type": "markdown",
   "metadata": {},
   "source": [
    "### Defining GPy's RBF kernel"
   ]
  },
  {
   "cell_type": "code",
   "execution_count": 3,
   "metadata": {},
   "outputs": [
    {
     "data": {
      "text/html": [
       "<style type=\"text/css\">\n",
       ".tg  {font-family:\"Courier New\", Courier, monospace !important;padding:2px 3px;word-break:normal;border-collapse:collapse;border-spacing:0;border-color:#DCDCDC;margin:0px auto;width:100%;}\n",
       ".tg td{font-family:\"Courier New\", Courier, monospace !important;font-weight:bold;color:#444;background-color:#F7FDFA;border-style:solid;border-width:1px;overflow:hidden;word-break:normal;border-color:#DCDCDC;}\n",
       ".tg th{font-family:\"Courier New\", Courier, monospace !important;font-weight:normal;color:#fff;background-color:#26ADE4;border-style:solid;border-width:1px;overflow:hidden;word-break:normal;border-color:#DCDCDC;}\n",
       ".tg .tg-left{font-family:\"Courier New\", Courier, monospace !important;font-weight:normal;text-align:left;}\n",
       ".tg .tg-center{font-family:\"Courier New\", Courier, monospace !important;font-weight:normal;text-align:center;}\n",
       ".tg .tg-right{font-family:\"Courier New\", Courier, monospace !important;font-weight:normal;text-align:right;}\n",
       "</style>\n",
       "<table class=\"tg\"><tr><th><b>  rbf.       </b></th><th><b>value</b></th><th><b>constraints</b></th><th><b>priors</b></th></tr>\n",
       "<tr><td class=tg-left>  variance   </td><td class=tg-right>  1.0</td><td class=tg-center>    +ve    </td><td class=tg-center>      </td></tr>\n",
       "<tr><td class=tg-left>  lengthscale</td><td class=tg-right>  1.0</td><td class=tg-center>    +ve    </td><td class=tg-center>      </td></tr>\n",
       "</table>"
      ],
      "text/plain": [
       "<GPy.kern.src.rbf.RBF at 0x7f30ef830890>"
      ]
     },
     "execution_count": 3,
     "metadata": {},
     "output_type": "execute_result"
    }
   ],
   "source": [
    "# Create a 1-D RBF kernel with default parameters\n",
    "k = GPy.kern.RBF(1)\n",
    "# Preview the kernel's parameters\n",
    "k"
   ]
  },
  {
   "cell_type": "markdown",
   "metadata": {},
   "source": [
    "### Matching our RBF kernel with GPy's kernel"
   ]
  },
  {
   "cell_type": "code",
   "execution_count": 4,
   "metadata": {},
   "outputs": [
    {
     "data": {
      "text/plain": [
       "array([ True])"
      ]
     },
     "execution_count": 4,
     "metadata": {},
     "output_type": "execute_result"
    }
   ],
   "source": [
    "rbf(1, 0, 1, 1)==k.K(np.array([[1]]), np.array([[0]])).flatten()"
   ]
  },
  {
   "cell_type": "markdown",
   "metadata": {},
   "source": [
    "Looks good. Our function is matching GPy's kernel."
   ]
  },
  {
   "cell_type": "markdown",
   "metadata": {},
   "source": [
    "### GP Regresion"
   ]
  },
  {
   "cell_type": "markdown",
   "metadata": {},
   "source": [
    "#### Creating a data set"
   ]
  },
  {
   "cell_type": "code",
   "execution_count": 5,
   "metadata": {},
   "outputs": [
    {
     "data": {
      "image/png": "[encoded data removed]",
      "text/plain": [
       "<Figure size 432x288 with 1 Axes>"
      ]
     },
     "metadata": {
      "needs_background": "light"
     },
     "output_type": "display_data"
    }
   ],
   "source": [
    "# lambda function, call f(x) to generate data\n",
    "f = lambda x: 0.4*x**2 - 0.15*x**3 + 0.5*x**2 - 0.002*x**5 + 0.0002*x**6 +0.5*(x-2)**2\n",
    "n = 20\n",
    "np.random.seed(0)\n",
    "X = np.linspace(0.05, 4.95, n)[:,None]\n",
    "Y = f(X) + np.random.normal(0., 0.1, (n,1)) # note that np.random.normal takes mean and s.d. (not variance), 0.1^2 = 0.01\n",
    "plt.plot(X, Y, \"kx\", mew=2, label='Train points')\n",
    "plt.xlabel(\"x\"), plt.ylabel(\"f\")\n",
    "plt.legend();"
   ]
  },
  {
   "cell_type": "markdown",
   "metadata": {},
   "source": [
    "### Function to compute negative log likelihood\n",
    "\n",
    "Based on our above mentioned theory, we can now write the NLL function as follows"
   ]
  },
  {
   "cell_type": "code",
   "execution_count": 6,
   "metadata": {},
   "outputs": [],
   "source": [
    "def nll(sigma=1, l=1, noise_std=1):\n",
    "    n = X.shape[0]\n",
    "    cov = rbf(X, X.T, sigma, l) + (noise_std**2)*np.eye(X.shape[0])\n",
    "    nll_ar =  0.5*(Y.T@np.linalg.inv(cov)@Y) + 0.5*n*np.log(2*np.pi) + 0.5*np.log(np.linalg.det(cov)) \n",
    "    return nll_ar[0,0]"
   ]
  },
  {
   "cell_type": "markdown",
   "metadata": {},
   "source": [
    "### Comparing the NLL from our method with the NLL from GPy\n",
    "\n",
    "We will now compare the NLL from our method with GPy for a fixed set of parameters"
   ]
  },
  {
   "cell_type": "code",
   "execution_count": 7,
   "metadata": {},
   "outputs": [
    {
     "data": {
      "text/plain": [
       "40.103960984801276"
      ]
     },
     "execution_count": 7,
     "metadata": {},
     "output_type": "execute_result"
    }
   ],
   "source": [
    "nll(1, 1, 1)"
   ]
  },
  {
   "cell_type": "code",
   "execution_count": 8,
   "metadata": {},
   "outputs": [
    {
     "name": "stdout",
     "output_type": "stream",
     "text": [
      "\n",
      "Name : GP regression\n",
      "Objective : 40.103961039553916\n",
      "Number of Parameters : 3\n",
      "Number of Optimization Parameters : 3\n",
      "Updates : True\n",
      "Parameters:\n",
      "  \u001b[1mGP_regression.         \u001b[0;0m  |  value  |  constraints  |  priors\n",
      "  \u001b[1mrbf.variance           \u001b[0;0m  |    1.0  |      +ve      |        \n",
      "  \u001b[1mrbf.lengthscale        \u001b[0;0m  |    1.0  |      +ve      |        \n",
      "  \u001b[1mGaussian_noise.variance\u001b[0;0m  |    1.0  |      +ve      |        \n"
     ]
    }
   ],
   "source": [
    "k.lengthscale = 1\n",
    "k.variance = 1\n",
    "m = GPy.models.GPRegression(X, Y, k, normalizer=False)\n",
    "m.Gaussian_noise = 1\n",
    "print(m)"
   ]
  },
  {
   "cell_type": "markdown",
   "metadata": {},
   "source": [
    "Excellent, we can see that our method gives the same NLL. Looks like we are on the right track! One caveat here is that I have set the normalizer to be False, which means that GPy will not be mean centering the data."
   ]
  },
  {
   "cell_type": "markdown",
   "metadata": {},
   "source": [
    "### Optimizing the GP using GPy\n",
    "\n",
    "We will now use GPy to optimize the GP parameters"
   ]
  },
  {
   "cell_type": "code",
   "execution_count": 9,
   "metadata": {},
   "outputs": [
    {
     "name": "stdout",
     "output_type": "stream",
     "text": [
      "\n",
      "Name : GP regression\n",
      "Objective : -2.9419881541130053\n",
      "Number of Parameters : 3\n",
      "Number of Optimization Parameters : 3\n",
      "Updates : True\n",
      "Parameters:\n",
      "  \u001b[1mGP_regression.         \u001b[0;0m  |                 value  |  constraints  |  priors\n",
      "  \u001b[1mrbf.variance           \u001b[0;0m  |    27.837243180547883  |      +ve      |        \n",
      "  \u001b[1mrbf.lengthscale        \u001b[0;0m  |     2.732180018958835  |      +ve      |        \n",
      "  \u001b[1mGaussian_noise.variance\u001b[0;0m  |  0.007573211752763481  |      +ve      |        \n"
     ]
    }
   ],
   "source": [
    "m = GPy.models.GPRegression(X, Y, k, normalizer=False)\n",
    "m.optimize()\n",
    "print(m)"
   ]
  },
  {
   "cell_type": "markdown",
   "metadata": {},
   "source": [
    "It seems that variance close to 28 and length scale close to 2.7 give the optimum objective for the GP"
   ]
  },
  {
   "cell_type": "markdown",
   "metadata": {},
   "source": [
    "### Plotting the NLL as a function of variance and lenghtscale\n",
    "\n",
    "We will now plot the NLL obtained from our calculations as a function of variance and lengthscale. For comparing our solution with GPy solution, I will be setting noise variance to be 0.0075"
   ]
  },
  {
   "cell_type": "code",
   "execution_count": 10,
   "metadata": {},
   "outputs": [],
   "source": [
    "import numpy as numpy\n",
    "x_grid_2, y_grid_2 = numpy.mgrid[0.1:6:0.04, 0.1:4:0.03]\n",
    "\n",
    "li = np.zeros_like(x_grid_2)\n",
    "for i in range(x_grid_2.shape[0]):\n",
    "    for j in range(x_grid_2.shape[1]):\n",
    "        li[i, j] = nll(x_grid_2[i, j], y_grid_2[i, j], np.sqrt(.007573211752763481))"
   ]
  },
  {
   "cell_type": "code",
   "execution_count": 11,
   "metadata": {},
   "outputs": [
    {
     "data": {
      "text/plain": [
       "Text(0.5, 1.0, 'NLL ($\\\\sigma, l$)')"
      ]
     },
     "execution_count": 11,
     "metadata": {},
     "output_type": "execute_result"
    },
    {
     "data": {
      "image/png": "[encoded data removed]",
      "text/plain": [
       "<Figure size 432x288 with 2 Axes>"
      ]
     },
     "metadata": {
      "needs_background": "light"
     },
     "output_type": "display_data"
    }
   ],
   "source": [
    "plt.contourf(x_grid_2, y_grid_2, li)\n",
    "plt.gca().set_aspect('equal')\n",
    "plt.xlabel(r\"$\\sigma$\")\n",
    "plt.ylabel(r\"$l$\")\n",
    "plt.colorbar()\n",
    "plt.title(r\"NLL ($\\sigma, l$)\")"
   ]
  },
  {
   "cell_type": "markdown",
   "metadata": {},
   "source": [
    "We will now try to find the \"optimum\" $\\sigma$ and lengthscale from this NLL space."
   ]
  },
  {
   "cell_type": "code",
   "execution_count": 12,
   "metadata": {},
   "outputs": [
    {
     "name": "stdout",
     "output_type": "stream",
     "text": [
      "-2.9418973674348727\n",
      "28.09 0.1\n"
     ]
    }
   ],
   "source": [
    "print(li.min())\n",
    "aa, bb = np.unravel_index(li.argmin(), li.shape)\n",
    "print(x_grid_2[aa, 0]**2, y_grid_2[bb, 0])"
   ]
  },
  {
   "cell_type": "markdown",
   "metadata": {},
   "source": [
    "Excellent, it looks like we are pretty close to the optimum NLL as reported by GPy and our parameters learnt are also pretty similar. But, we have not even done a thorough search. We will now be using gradient descent to help us find the optimum set of parameters."
   ]
  },
  {
   "cell_type": "markdown",
   "metadata": {},
   "source": [
    "### Gradient descent using autograd"
   ]
  },
  {
   "cell_type": "code",
   "execution_count": 13,
   "metadata": {},
   "outputs": [],
   "source": [
    "from autograd import elementwise_grad as egrad\n",
    "from autograd import grad"
   ]
  },
  {
   "cell_type": "code",
   "execution_count": 14,
   "metadata": {},
   "outputs": [],
   "source": [
    "grad_objective = grad(nll, argnum=[0, 1, 2])"
   ]
  },
  {
   "cell_type": "markdown",
   "metadata": {},
   "source": [
    "#### Visualising the objective as a function of iteration"
   ]
  },
  {
   "cell_type": "code",
   "execution_count": 15,
   "metadata": {},
   "outputs": [],
   "source": [
    "sigma = 2.\n",
    "l = 2.\n",
    "noise = 1.\n",
    "lr = 1e-3\n",
    "num_iter = 100\n",
    "nll_arr = np.zeros(num_iter)\n",
    "for iteration in range(num_iter):\n",
    "    nll_arr[iteration] = nll(sigma, l, noise)\n",
    "    del_sigma, del_l, del_noise = grad_objective(sigma, l, noise)\n",
    "    sigma = sigma - lr*del_sigma\n",
    "    l = l - lr*del_l\n",
    "    noise = noise - lr*del_noise"
   ]
  },
  {
   "cell_type": "code",
   "execution_count": 16,
   "metadata": {},
   "outputs": [
    {
     "name": "stdout",
     "output_type": "stream",
     "text": [
      "5.108812267877177 1.9770216805277476 0.11095385387537618\n"
     ]
    }
   ],
   "source": [
    "print(sigma**2, l, noise)"
   ]
  },
  {
   "cell_type": "code",
   "execution_count": 17,
   "metadata": {},
   "outputs": [
    {
     "data": {
      "text/plain": [
       "Text(0, 0.5, 'NLL')"
      ]
     },
     "execution_count": 17,
     "metadata": {},
     "output_type": "execute_result"
    },
    {
     "data": {
      "image/png": "[encoded data removed]",
      "text/plain": [
       "<Figure size 432x288 with 1 Axes>"
      ]
     },
     "metadata": {
      "needs_background": "light"
     },
     "output_type": "display_data"
    }
   ],
   "source": [
    "plt.plot(nll_arr)\n",
    "plt.xlabel(\"Iteration\")\n",
    "plt.ylabel(\"NLL\")"
   ]
  },
  {
   "cell_type": "markdown",
   "metadata": {},
   "source": [
    "#### Applying gradient descent and visualising the learnt function"
   ]
  },
  {
   "cell_type": "code",
   "execution_count": 19,
   "metadata": {},
   "outputs": [
    {
     "data": {
      "text/plain": [
       "<Figure size 432x288 with 0 Axes>"
      ]
     },
     "metadata": {},
     "output_type": "display_data"
    }
   ],
   "source": [
    "sigma = 2.\n",
    "l = 2.\n",
    "noise = 1.\n",
    "lr = 1e-3\n",
    "num_iter = 100\n",
    "nll_arr = np.zeros(num_iter)\n",
    "fig, ax = plt.subplots()\n",
    "for iteration in range(num_iter):\n",
    "    nll_arr[iteration] = nll(sigma, l, noise)\n",
    "    del_sigma, del_l, del_noise = grad_objective(sigma, l, noise)\n",
    "    sigma = sigma - lr*del_sigma\n",
    "    l = l - lr*del_l\n",
    "    noise = noise - lr*del_noise\n",
    "    k.lengthscale = l\n",
    "    k.variance = sigma**2\n",
    "    m = GPy.models.GPRegression(X, Y, k, normalizer=False)\n",
    "    m.Gaussian_noise = noise**2\n",
    "    m.plot(ax=ax)['dataplot'];\n",
    "    plt.ylim((0, 6))\n",
    "    plt.title(f\"Iteration: {iteration:04}, Objective :{nll_arr[iteration]}\")\n",
    "    plt.savefig(f\"/home/nipunbatra-pc/Desktop/gp_learning/{iteration:04}.png\")\n",
    "    plt.cla();\n",
    "plt.clf()"
   ]
  },
  {
   "cell_type": "code",
   "execution_count": 20,
   "metadata": {},
   "outputs": [],
   "source": [
    "!convert -delay 20 -loop 0 /home/nipunbatra-pc/Desktop/gp_learning/*.png gp-learning.gif"
   ]
  },
  {
   "cell_type": "markdown",
   "metadata": {},
   "source": [
    "![](gp-learning.gif)"
   ]
  },
  {
   "cell_type": "markdown",
   "metadata": {},
   "source": [
    "Excellent, we can see the \"learning\" process over time. Our final objective is comparable to GPy's objective.\n",
    "\n",
    "There are a few things I have mentioned, yet have not gone into their details and I would encourage you to try those out. \n",
    "\n",
    "1. First, you should try the gradient descent procedure with restarts. Run with different random initialisations and finally report the parameters which give the optimum likelihood.\n",
    "2. We assume mean zero prior here. However, we are not processing the data and thus the zero mean assumption is not very well suited to our data. If you reduce the number of data points, you would quickly see the GP prediction to fall close to zero.\n",
    "\n"
   ]
  },
  {
   "cell_type": "markdown",
   "metadata": {},
   "source": [
    "There you go. Till next time!"
   ]
  }
 ],
 "metadata": {
  "kernelspec": {
   "display_name": "Python 3",
   "language": "python",
   "name": "python3"
  },
  "language_info": {
   "codemirror_mode": {
    "name": "ipython",
    "version": 3
   },
   "file_extension": ".py",
   "mimetype": "text/x-python",
   "name": "python",
   "nbconvert_exporter": "python",
   "pygments_lexer": "ipython3",
   "version": "3.8.3"
  }
 },
 "nbformat": 4,
 "nbformat_minor": 2
}
