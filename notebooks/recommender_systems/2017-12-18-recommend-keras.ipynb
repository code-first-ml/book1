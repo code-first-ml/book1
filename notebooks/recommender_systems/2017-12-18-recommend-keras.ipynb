{
 "cells": [
  {
   "cell_type": "markdown",
   "metadata": {},
   "source": [
    "# Recommender Systems in Keras\n",
    "> A programming introduction to recommender systems using Keras!\n",
    "\n",
    "- toc: true \n",
    "- badges: true\n",
    "- comments: true\n",
    "- author: Nipun Batra\n",
    "- categories: [ML]"
   ]
  },
  {
   "cell_type": "markdown",
   "metadata": {},
   "source": [
    "I have written a [few](../nnmf-tensorflow.html) [posts](../nmf-autograd.html) [earlier](../nmf-cvx.html) [about](../nmf-out-matrix.html) [matrix](../mf-autograd-adagrad.html) [factorisation](../contrained-nmf-cvx.html) [using](../nmf-nnls.html) various Python libraries. The main application I had in mind for matrix factorisation was [recommender systems](https://en.wikipedia.org/wiki/Recommender_system). In this post, I'll write about using [Keras](https://keras.io) for creating recommender systems. [Various](https://github.com/maciejkula/triplet_recommendations_keras) [people](http://blog.richardweiss.org/2016/09/25/movie-embeddings.html) [have](https://github.com/bradleypallen/keras-movielens-cf) [written](https://github.com/hexiangnan/neural_collaborative_filtering) [excellent](https://github.com/sonyisme/keras-recommendation) [similar](http://course.fast.ai/lessons/lesson4.html) [posts](https://github.com/maciejkula/spotlight) and code that I draw a lot of inspiration from, and give them their credit! I'm assuming that a reader has some experience with Keras, as this post is not intended to be an introduction to Keras.\n",
    "\n",
    "Specifically, in this post, I'll talk about:\n",
    "\n",
    "1. Matrix Factorisation in Keras\n",
    "2. Adding non-negativitiy constraints to solve non-negative matrix factorisation (NNMF)\n",
    "3. Using neural networks for recommendations\n",
    "\n",
    "I'll be using the Movielens-100k dataset for illustration. There are 943 users and 1682 movies. In total there are a 100k ratings in the dataset. It should be noted that the max. total number of rating for the <users, movies> would be 943*1682, which means that we have about 7% of the total ratings! All rating are on a scale of 1-5. "
   ]
  },
  {
   "cell_type": "markdown",
   "metadata": {},
   "source": [
    "### **Task**\n",
    "\n",
    "Given this set of ratings, can we recommend the next set of movies to a user? This would translate to: for every user, estimating the ratings for all the movies that (s)he hasn't watched and maybe recommend the top-k movies by the esimtated ratings! "
   ]
  },
  {
   "cell_type": "markdown",
   "metadata": {},
   "source": [
    "### Peak into the dataset"
   ]
  },
  {
   "cell_type": "code",
   "execution_count": 1,
   "metadata": {
    "collapsed": true
   },
   "outputs": [],
   "source": [
    "import pandas as pd\n",
    "import numpy as np\n",
    "import matplotlib.pyplot as plt\n",
    "import warnings\n",
    "warnings.filterwarnings('ignore')\n",
    "\n",
    "%matplotlib inline"
   ]
  },
  {
   "cell_type": "code",
   "execution_count": 2,
   "metadata": {
    "collapsed": true
   },
   "outputs": [],
   "source": [
    "dataset = pd.read_csv(\"/Users/nipun/Downloads/ml-100k/u.data\",sep='\\t',names=\"user_id,item_id,rating,timestamp\".split(\",\"))"
   ]
  },
  {
   "cell_type": "code",
   "execution_count": 3,
   "metadata": {},
   "outputs": [
    {
     "data": {
      "text/html": [
       "<div>\n",
       "<style>\n",
       "    .dataframe thead tr:only-child th {\n",
       "        text-align: right;\n",
       "    }\n",
       "\n",
       "    .dataframe thead th {\n",
       "        text-align: left;\n",
       "    }\n",
       "\n",
       "    .dataframe tbody tr th {\n",
       "        vertical-align: top;\n",
       "    }\n",
       "</style>\n",
       "<table border=\"1\" class=\"dataframe\">\n",
       "  <thead>\n",
       "    <tr style=\"text-align: right;\">\n",
       "      <th></th>\n",
       "      <th>user_id</th>\n",
       "      <th>item_id</th>\n",
       "      <th>rating</th>\n",
       "      <th>timestamp</th>\n",
       "    </tr>\n",
       "  </thead>\n",
       "  <tbody>\n",
       "    <tr>\n",
       "      <th>0</th>\n",
       "      <td>196</td>\n",
       "      <td>242</td>\n",
       "      <td>3</td>\n",
       "      <td>881250949</td>\n",
       "    </tr>\n",
       "    <tr>\n",
       "      <th>1</th>\n",
       "      <td>186</td>\n",
       "      <td>302</td>\n",
       "      <td>3</td>\n",
       "      <td>891717742</td>\n",
       "    </tr>\n",
       "    <tr>\n",
       "      <th>2</th>\n",
       "      <td>22</td>\n",
       "      <td>377</td>\n",
       "      <td>1</td>\n",
       "      <td>878887116</td>\n",
       "    </tr>\n",
       "    <tr>\n",
       "      <th>3</th>\n",
       "      <td>244</td>\n",
       "      <td>51</td>\n",
       "      <td>2</td>\n",
       "      <td>880606923</td>\n",
       "    </tr>\n",
       "    <tr>\n",
       "      <th>4</th>\n",
       "      <td>166</td>\n",
       "      <td>346</td>\n",
       "      <td>1</td>\n",
       "      <td>886397596</td>\n",
       "    </tr>\n",
       "  </tbody>\n",
       "</table>\n",
       "</div>"
      ],
      "text/plain": [
       "   user_id  item_id  rating  timestamp\n",
       "0      196      242       3  881250949\n",
       "1      186      302       3  891717742\n",
       "2       22      377       1  878887116\n",
       "3      244       51       2  880606923\n",
       "4      166      346       1  886397596"
      ]
     },
     "execution_count": 3,
     "metadata": {},
     "output_type": "execute_result"
    }
   ],
   "source": [
    "dataset.head()"
   ]
  },
  {
   "cell_type": "markdown",
   "metadata": {},
   "source": [
    "So, each record (row) shows the rating for a user, item (movie) pair. It should be noted that I use  item and movie interchangeably in this post."
   ]
  },
  {
   "cell_type": "code",
   "execution_count": 4,
   "metadata": {},
   "outputs": [
    {
     "data": {
      "text/plain": [
       "(943, 1682)"
      ]
     },
     "execution_count": 4,
     "metadata": {},
     "output_type": "execute_result"
    }
   ],
   "source": [
    "len(dataset.user_id.unique()), len(dataset.item_id.unique())"
   ]
  },
  {
   "cell_type": "markdown",
   "metadata": {},
   "source": [
    "We assign a unique number between (0, #users) to each user and do the same for movies."
   ]
  },
  {
   "cell_type": "code",
   "execution_count": 5,
   "metadata": {
    "collapsed": true
   },
   "outputs": [],
   "source": [
    "dataset.user_id = dataset.user_id.astype('category').cat.codes.values\n",
    "dataset.item_id = dataset.item_id.astype('category').cat.codes.values"
   ]
  },
  {
   "cell_type": "code",
   "execution_count": 6,
   "metadata": {},
   "outputs": [
    {
     "data": {
      "text/html": [
       "<div>\n",
       "<style>\n",
       "    .dataframe thead tr:only-child th {\n",
       "        text-align: right;\n",
       "    }\n",
       "\n",
       "    .dataframe thead th {\n",
       "        text-align: left;\n",
       "    }\n",
       "\n",
       "    .dataframe tbody tr th {\n",
       "        vertical-align: top;\n",
       "    }\n",
       "</style>\n",
       "<table border=\"1\" class=\"dataframe\">\n",
       "  <thead>\n",
       "    <tr style=\"text-align: right;\">\n",
       "      <th></th>\n",
       "      <th>user_id</th>\n",
       "      <th>item_id</th>\n",
       "      <th>rating</th>\n",
       "      <th>timestamp</th>\n",
       "    </tr>\n",
       "  </thead>\n",
       "  <tbody>\n",
       "    <tr>\n",
       "      <th>0</th>\n",
       "      <td>195</td>\n",
       "      <td>241</td>\n",
       "      <td>3</td>\n",
       "      <td>881250949</td>\n",
       "    </tr>\n",
       "    <tr>\n",
       "      <th>1</th>\n",
       "      <td>185</td>\n",
       "      <td>301</td>\n",
       "      <td>3</td>\n",
       "      <td>891717742</td>\n",
       "    </tr>\n",
       "    <tr>\n",
       "      <th>2</th>\n",
       "      <td>21</td>\n",
       "      <td>376</td>\n",
       "      <td>1</td>\n",
       "      <td>878887116</td>\n",
       "    </tr>\n",
       "    <tr>\n",
       "      <th>3</th>\n",
       "      <td>243</td>\n",
       "      <td>50</td>\n",
       "      <td>2</td>\n",
       "      <td>880606923</td>\n",
       "    </tr>\n",
       "    <tr>\n",
       "      <th>4</th>\n",
       "      <td>165</td>\n",
       "      <td>345</td>\n",
       "      <td>1</td>\n",
       "      <td>886397596</td>\n",
       "    </tr>\n",
       "  </tbody>\n",
       "</table>\n",
       "</div>"
      ],
      "text/plain": [
       "   user_id  item_id  rating  timestamp\n",
       "0      195      241       3  881250949\n",
       "1      185      301       3  891717742\n",
       "2       21      376       1  878887116\n",
       "3      243       50       2  880606923\n",
       "4      165      345       1  886397596"
      ]
     },
     "execution_count": 6,
     "metadata": {},
     "output_type": "execute_result"
    }
   ],
   "source": [
    "dataset.head()"
   ]
  },
  {
   "cell_type": "markdown",
   "metadata": {},
   "source": [
    "### Train test split\n",
    "\n",
    "We'll now split our dataset of 100k ratings into train (containing 80k ratings) and test (containing 20k ratings). Given the train set, we'd like to accurately estimate the ratings in the test set."
   ]
  },
  {
   "cell_type": "code",
   "execution_count": 7,
   "metadata": {
    "collapsed": true
   },
   "outputs": [],
   "source": [
    "from sklearn.model_selection import train_test_split\n",
    "train, test = train_test_split(dataset, test_size=0.2)"
   ]
  },
  {
   "cell_type": "code",
   "execution_count": 8,
   "metadata": {},
   "outputs": [
    {
     "data": {
      "text/html": [
       "<div>\n",
       "<style>\n",
       "    .dataframe thead tr:only-child th {\n",
       "        text-align: right;\n",
       "    }\n",
       "\n",
       "    .dataframe thead th {\n",
       "        text-align: left;\n",
       "    }\n",
       "\n",
       "    .dataframe tbody tr th {\n",
       "        vertical-align: top;\n",
       "    }\n",
       "</style>\n",
       "<table border=\"1\" class=\"dataframe\">\n",
       "  <thead>\n",
       "    <tr style=\"text-align: right;\">\n",
       "      <th></th>\n",
       "      <th>user_id</th>\n",
       "      <th>item_id</th>\n",
       "      <th>rating</th>\n",
       "      <th>timestamp</th>\n",
       "    </tr>\n",
       "  </thead>\n",
       "  <tbody>\n",
       "    <tr>\n",
       "      <th>90092</th>\n",
       "      <td>832</td>\n",
       "      <td>12</td>\n",
       "      <td>2</td>\n",
       "      <td>875036139</td>\n",
       "    </tr>\n",
       "    <tr>\n",
       "      <th>50879</th>\n",
       "      <td>94</td>\n",
       "      <td>132</td>\n",
       "      <td>3</td>\n",
       "      <td>888954341</td>\n",
       "    </tr>\n",
       "    <tr>\n",
       "      <th>67994</th>\n",
       "      <td>436</td>\n",
       "      <td>12</td>\n",
       "      <td>4</td>\n",
       "      <td>880141129</td>\n",
       "    </tr>\n",
       "    <tr>\n",
       "      <th>49769</th>\n",
       "      <td>710</td>\n",
       "      <td>344</td>\n",
       "      <td>4</td>\n",
       "      <td>884485683</td>\n",
       "    </tr>\n",
       "    <tr>\n",
       "      <th>11032</th>\n",
       "      <td>121</td>\n",
       "      <td>736</td>\n",
       "      <td>4</td>\n",
       "      <td>879270874</td>\n",
       "    </tr>\n",
       "  </tbody>\n",
       "</table>\n",
       "</div>"
      ],
      "text/plain": [
       "       user_id  item_id  rating  timestamp\n",
       "90092      832       12       2  875036139\n",
       "50879       94      132       3  888954341\n",
       "67994      436       12       4  880141129\n",
       "49769      710      344       4  884485683\n",
       "11032      121      736       4  879270874"
      ]
     },
     "execution_count": 8,
     "metadata": {},
     "output_type": "execute_result"
    }
   ],
   "source": [
    "train.head()"
   ]
  },
  {
   "cell_type": "code",
   "execution_count": 9,
   "metadata": {},
   "outputs": [
    {
     "data": {
      "text/html": [
       "<div>\n",
       "<style>\n",
       "    .dataframe thead tr:only-child th {\n",
       "        text-align: right;\n",
       "    }\n",
       "\n",
       "    .dataframe thead th {\n",
       "        text-align: left;\n",
       "    }\n",
       "\n",
       "    .dataframe tbody tr th {\n",
       "        vertical-align: top;\n",
       "    }\n",
       "</style>\n",
       "<table border=\"1\" class=\"dataframe\">\n",
       "  <thead>\n",
       "    <tr style=\"text-align: right;\">\n",
       "      <th></th>\n",
       "      <th>user_id</th>\n",
       "      <th>item_id</th>\n",
       "      <th>rating</th>\n",
       "      <th>timestamp</th>\n",
       "    </tr>\n",
       "  </thead>\n",
       "  <tbody>\n",
       "    <tr>\n",
       "      <th>89284</th>\n",
       "      <td>907</td>\n",
       "      <td>493</td>\n",
       "      <td>3</td>\n",
       "      <td>879723046</td>\n",
       "    </tr>\n",
       "    <tr>\n",
       "      <th>60499</th>\n",
       "      <td>550</td>\n",
       "      <td>25</td>\n",
       "      <td>4</td>\n",
       "      <td>892785056</td>\n",
       "    </tr>\n",
       "    <tr>\n",
       "      <th>11090</th>\n",
       "      <td>373</td>\n",
       "      <td>222</td>\n",
       "      <td>5</td>\n",
       "      <td>880394520</td>\n",
       "    </tr>\n",
       "    <tr>\n",
       "      <th>36096</th>\n",
       "      <td>199</td>\n",
       "      <td>140</td>\n",
       "      <td>4</td>\n",
       "      <td>884129346</td>\n",
       "    </tr>\n",
       "    <tr>\n",
       "      <th>21633</th>\n",
       "      <td>71</td>\n",
       "      <td>317</td>\n",
       "      <td>5</td>\n",
       "      <td>880037702</td>\n",
       "    </tr>\n",
       "  </tbody>\n",
       "</table>\n",
       "</div>"
      ],
      "text/plain": [
       "       user_id  item_id  rating  timestamp\n",
       "89284      907      493       3  879723046\n",
       "60499      550       25       4  892785056\n",
       "11090      373      222       5  880394520\n",
       "36096      199      140       4  884129346\n",
       "21633       71      317       5  880037702"
      ]
     },
     "execution_count": 9,
     "metadata": {},
     "output_type": "execute_result"
    }
   ],
   "source": [
    "test.head()"
   ]
  },
  {
   "cell_type": "markdown",
   "metadata": {},
   "source": [
    "### Matrix factorisation\n",
    "\n",
    "One popular recommender systems approach is called Matrix Factorisation. It works on the principle that we can learn a low-dimensional representation (embedding) of user and movie. For example, for each movie, we can have how much action it has, how long it is, and so on. For each user, we can encode how much they like action, or how much they like long movies, etc. Thus, we can combine the user and the movie embeddings to estimate the ratings on unseen movies. This approach can also be viewed as: given a matrix (A [M X N]) containing users and movies, we want to estimate low dimensional matrices (W [M X k] and H [M X k]), such that: $A \\approx W.H^T$"
   ]
  },
  {
   "cell_type": "markdown",
   "metadata": {},
   "source": [
    "### Matrix factorisation in Keras\n",
    "\n",
    "We'll now write some code to solve the recommendation problem by matrix factorisation in Keras. We're trying to learn two low-dimensional embeddings of users and items.\n",
    "\n",
    "\n"
   ]
  },
  {
   "cell_type": "code",
   "execution_count": 10,
   "metadata": {},
   "outputs": [
    {
     "name": "stderr",
     "output_type": "stream",
     "text": [
      "Using TensorFlow backend.\n"
     ]
    }
   ],
   "source": [
    "import keras\n",
    "from IPython.display import SVG\n",
    "from keras.optimizers import Adam\n",
    "from keras.utils.vis_utils import model_to_dot\n",
    "n_users, n_movies = len(dataset.user_id.unique()), len(dataset.item_id.unique())\n",
    "n_latent_factors = 3"
   ]
  },
  {
   "cell_type": "markdown",
   "metadata": {},
   "source": [
    "The key thing is to learn an embedding for movies and users, and then combine them using the dot product! For estimating the rating, for each user, movie pair of interest, we'd take the dot product of the respective user and item embedding. As an example, if we have 2 dimensions in our user and item embedding, which say correspond to [how much user likes action, how much user likes long movies], and the item embedding is [how much action is in the movie, how long is the movie]. Then, we can predict for a user `u`, and movie `m` as how much `u` likes action $\\times$ how much action is there in `m` $+$ how much `u` likes long movies $\\times$ how long is `m`.\n",
    "\n",
    "Our model would optimise the emebedding such that we minimise the mean squared error on the ratings from the train set."
   ]
  },
  {
   "cell_type": "code",
   "execution_count": 11,
   "metadata": {
    "collapsed": true
   },
   "outputs": [],
   "source": [
    "movie_input = keras.layers.Input(shape=[1],name='Item')\n",
    "movie_embedding = keras.layers.Embedding(n_movies + 1, n_latent_factors, name='Movie-Embedding')(movie_input)\n",
    "movie_vec = keras.layers.Flatten(name='FlattenMovies')(movie_embedding)\n",
    "\n",
    "user_input = keras.layers.Input(shape=[1],name='User')\n",
    "user_vec = keras.layers.Flatten(name='FlattenUsers')(keras.layers.Embedding(n_users + 1, n_latent_factors,name='User-Embedding')(user_input))\n",
    "\n",
    "prod = keras.layers.merge([movie_vec, user_vec], mode='dot',name='DotProduct')\n",
    "model = keras.Model([user_input, movie_input], prod)\n",
    "model.compile('adam', 'mean_squared_error')"
   ]
  },
  {
   "cell_type": "markdown",
   "metadata": {},
   "source": [
    "Here's a visualisation of our model for a better understanding."
   ]
  },
  {
   "cell_type": "code",
   "execution_count": 12,
   "metadata": {},
   "outputs": [
    {
     "data": {
      "image/svg+xml": [
       "<svg height=\"296pt\" viewBox=\"0.00 0.00 681.82 296.00\" width=\"682pt\" xmlns=\"http://www.w3.org/2000/svg\" xmlns:xlink=\"http://www.w3.org/1999/xlink\">\n",
       "<g class=\"graph\" id=\"graph0\" transform=\"scale(1 1) rotate(0) translate(4 292)\">\n",
       "<title>G</title>\n",
       "<polygon fill=\"white\" points=\"-4,4 -4,-292 677.815,-292 677.815,4 -4,4\" stroke=\"none\"/>\n",
       "<!-- 4651743104 -->\n",
       "<g class=\"node\" id=\"node1\"><title>4651743104</title>\n",
       "<polygon fill=\"none\" points=\"48.2275,-243.5 48.2275,-287.5 284.783,-287.5 284.783,-243.5 48.2275,-243.5\" stroke=\"black\"/>\n",
       "<text font-family=\"Times,serif\" font-size=\"14.00\" text-anchor=\"middle\" x=\"103.847\" y=\"-261.3\">Item: InputLayer</text>\n",
       "<polyline fill=\"none\" points=\"159.466,-243.5 159.466,-287.5 \" stroke=\"black\"/>\n",
       "<text font-family=\"Times,serif\" font-size=\"14.00\" text-anchor=\"middle\" x=\"187.3\" y=\"-272.3\">input:</text>\n",
       "<polyline fill=\"none\" points=\"159.466,-265.5 215.135,-265.5 \" stroke=\"black\"/>\n",
       "<text font-family=\"Times,serif\" font-size=\"14.00\" text-anchor=\"middle\" x=\"187.3\" y=\"-250.3\">output:</text>\n",
       "<polyline fill=\"none\" points=\"215.135,-243.5 215.135,-287.5 \" stroke=\"black\"/>\n",
       "<text font-family=\"Times,serif\" font-size=\"14.00\" text-anchor=\"middle\" x=\"249.959\" y=\"-272.3\">(None, 1)</text>\n",
       "<polyline fill=\"none\" points=\"215.135,-265.5 284.783,-265.5 \" stroke=\"black\"/>\n",
       "<text font-family=\"Times,serif\" font-size=\"14.00\" text-anchor=\"middle\" x=\"249.959\" y=\"-250.3\">(None, 1)</text>\n",
       "</g>\n",
       "<!-- 4651743216 -->\n",
       "<g class=\"node\" id=\"node3\"><title>4651743216</title>\n",
       "<polygon fill=\"none\" points=\"0,-162.5 0,-206.5 333.011,-206.5 333.011,-162.5 0,-162.5\" stroke=\"black\"/>\n",
       "<text font-family=\"Times,serif\" font-size=\"14.00\" text-anchor=\"middle\" x=\"96.8467\" y=\"-180.3\">Movie-Embedding: Embedding</text>\n",
       "<polyline fill=\"none\" points=\"193.693,-162.5 193.693,-206.5 \" stroke=\"black\"/>\n",
       "<text font-family=\"Times,serif\" font-size=\"14.00\" text-anchor=\"middle\" x=\"221.528\" y=\"-191.3\">input:</text>\n",
       "<polyline fill=\"none\" points=\"193.693,-184.5 249.362,-184.5 \" stroke=\"black\"/>\n",
       "<text font-family=\"Times,serif\" font-size=\"14.00\" text-anchor=\"middle\" x=\"221.528\" y=\"-169.3\">output:</text>\n",
       "<polyline fill=\"none\" points=\"249.362,-162.5 249.362,-206.5 \" stroke=\"black\"/>\n",
       "<text font-family=\"Times,serif\" font-size=\"14.00\" text-anchor=\"middle\" x=\"291.187\" y=\"-191.3\">(None, 1)</text>\n",
       "<polyline fill=\"none\" points=\"249.362,-184.5 333.011,-184.5 \" stroke=\"black\"/>\n",
       "<text font-family=\"Times,serif\" font-size=\"14.00\" text-anchor=\"middle\" x=\"291.187\" y=\"-169.3\">(None, 1, 3)</text>\n",
       "</g>\n",
       "<!-- 4651743104&#45;&gt;4651743216 -->\n",
       "<g class=\"edge\" id=\"edge1\"><title>4651743104-&gt;4651743216</title>\n",
       "<path d=\"M166.505,-243.329C166.505,-235.183 166.505,-225.699 166.505,-216.797\" fill=\"none\" stroke=\"black\"/>\n",
       "<polygon fill=\"black\" points=\"170.005,-216.729 166.505,-206.729 163.005,-216.729 170.005,-216.729\" stroke=\"black\"/>\n",
       "</g>\n",
       "<!-- 4651744392 -->\n",
       "<g class=\"node\" id=\"node2\"><title>4651744392</title>\n",
       "<polygon fill=\"none\" points=\"393.838,-243.5 393.838,-287.5 631.173,-287.5 631.173,-243.5 393.838,-243.5\" stroke=\"black\"/>\n",
       "<text font-family=\"Times,serif\" font-size=\"14.00\" text-anchor=\"middle\" x=\"449.847\" y=\"-261.3\">User: InputLayer</text>\n",
       "<polyline fill=\"none\" points=\"505.855,-243.5 505.855,-287.5 \" stroke=\"black\"/>\n",
       "<text font-family=\"Times,serif\" font-size=\"14.00\" text-anchor=\"middle\" x=\"533.69\" y=\"-272.3\">input:</text>\n",
       "<polyline fill=\"none\" points=\"505.855,-265.5 561.524,-265.5 \" stroke=\"black\"/>\n",
       "<text font-family=\"Times,serif\" font-size=\"14.00\" text-anchor=\"middle\" x=\"533.69\" y=\"-250.3\">output:</text>\n",
       "<polyline fill=\"none\" points=\"561.524,-243.5 561.524,-287.5 \" stroke=\"black\"/>\n",
       "<text font-family=\"Times,serif\" font-size=\"14.00\" text-anchor=\"middle\" x=\"596.349\" y=\"-272.3\">(None, 1)</text>\n",
       "<polyline fill=\"none\" points=\"561.524,-265.5 631.173,-265.5 \" stroke=\"black\"/>\n",
       "<text font-family=\"Times,serif\" font-size=\"14.00\" text-anchor=\"middle\" x=\"596.349\" y=\"-250.3\">(None, 1)</text>\n",
       "</g>\n",
       "<!-- 4651743888 -->\n",
       "<g class=\"node\" id=\"node4\"><title>4651743888</title>\n",
       "<polygon fill=\"none\" points=\"351.195,-162.5 351.195,-206.5 673.815,-206.5 673.815,-162.5 351.195,-162.5\" stroke=\"black\"/>\n",
       "<text font-family=\"Times,serif\" font-size=\"14.00\" text-anchor=\"middle\" x=\"442.847\" y=\"-180.3\">User-Embedding: Embedding</text>\n",
       "<polyline fill=\"none\" points=\"534.498,-162.5 534.498,-206.5 \" stroke=\"black\"/>\n",
       "<text font-family=\"Times,serif\" font-size=\"14.00\" text-anchor=\"middle\" x=\"562.333\" y=\"-191.3\">input:</text>\n",
       "<polyline fill=\"none\" points=\"534.498,-184.5 590.167,-184.5 \" stroke=\"black\"/>\n",
       "<text font-family=\"Times,serif\" font-size=\"14.00\" text-anchor=\"middle\" x=\"562.333\" y=\"-169.3\">output:</text>\n",
       "<polyline fill=\"none\" points=\"590.167,-162.5 590.167,-206.5 \" stroke=\"black\"/>\n",
       "<text font-family=\"Times,serif\" font-size=\"14.00\" text-anchor=\"middle\" x=\"631.991\" y=\"-191.3\">(None, 1)</text>\n",
       "<polyline fill=\"none\" points=\"590.167,-184.5 673.815,-184.5 \" stroke=\"black\"/>\n",
       "<text font-family=\"Times,serif\" font-size=\"14.00\" text-anchor=\"middle\" x=\"631.991\" y=\"-169.3\">(None, 1, 3)</text>\n",
       "</g>\n",
       "<!-- 4651744392&#45;&gt;4651743888 -->\n",
       "<g class=\"edge\" id=\"edge2\"><title>4651744392-&gt;4651743888</title>\n",
       "<path d=\"M512.505,-243.329C512.505,-235.183 512.505,-225.699 512.505,-216.797\" fill=\"none\" stroke=\"black\"/>\n",
       "<polygon fill=\"black\" points=\"516.005,-216.729 512.505,-206.729 509.005,-216.729 516.005,-216.729\" stroke=\"black\"/>\n",
       "</g>\n",
       "<!-- 4651744000 -->\n",
       "<g class=\"node\" id=\"node5\"><title>4651744000</title>\n",
       "<polygon fill=\"none\" points=\"50.269,-81.5 50.269,-125.5 332.742,-125.5 332.742,-81.5 50.269,-81.5\" stroke=\"black\"/>\n",
       "<text font-family=\"Times,serif\" font-size=\"14.00\" text-anchor=\"middle\" x=\"121.847\" y=\"-99.3\">FlattenMovies: Flatten</text>\n",
       "<polyline fill=\"none\" points=\"193.424,-81.5 193.424,-125.5 \" stroke=\"black\"/>\n",
       "<text font-family=\"Times,serif\" font-size=\"14.00\" text-anchor=\"middle\" x=\"221.259\" y=\"-110.3\">input:</text>\n",
       "<polyline fill=\"none\" points=\"193.424,-103.5 249.093,-103.5 \" stroke=\"black\"/>\n",
       "<text font-family=\"Times,serif\" font-size=\"14.00\" text-anchor=\"middle\" x=\"221.259\" y=\"-88.3\">output:</text>\n",
       "<polyline fill=\"none\" points=\"249.093,-81.5 249.093,-125.5 \" stroke=\"black\"/>\n",
       "<text font-family=\"Times,serif\" font-size=\"14.00\" text-anchor=\"middle\" x=\"290.917\" y=\"-110.3\">(None, 1, 3)</text>\n",
       "<polyline fill=\"none\" points=\"249.093,-103.5 332.742,-103.5 \" stroke=\"black\"/>\n",
       "<text font-family=\"Times,serif\" font-size=\"14.00\" text-anchor=\"middle\" x=\"290.917\" y=\"-88.3\">(None, 3)</text>\n",
       "</g>\n",
       "<!-- 4651743216&#45;&gt;4651744000 -->\n",
       "<g class=\"edge\" id=\"edge3\"><title>4651743216-&gt;4651744000</title>\n",
       "<path d=\"M173.205,-162.329C175.811,-154.094 178.849,-144.493 181.693,-135.507\" fill=\"none\" stroke=\"black\"/>\n",
       "<polygon fill=\"black\" points=\"185.107,-136.319 184.787,-125.729 178.433,-134.207 185.107,-136.319\" stroke=\"black\"/>\n",
       "</g>\n",
       "<!-- 4468062472 -->\n",
       "<g class=\"node\" id=\"node6\"><title>4468062472</title>\n",
       "<polygon fill=\"none\" points=\"363.328,-81.5 363.328,-125.5 635.683,-125.5 635.683,-81.5 363.328,-81.5\" stroke=\"black\"/>\n",
       "<text font-family=\"Times,serif\" font-size=\"14.00\" text-anchor=\"middle\" x=\"429.847\" y=\"-99.3\">FlattenUsers: Flatten</text>\n",
       "<polyline fill=\"none\" points=\"496.366,-81.5 496.366,-125.5 \" stroke=\"black\"/>\n",
       "<text font-family=\"Times,serif\" font-size=\"14.00\" text-anchor=\"middle\" x=\"524.2\" y=\"-110.3\">input:</text>\n",
       "<polyline fill=\"none\" points=\"496.366,-103.5 552.035,-103.5 \" stroke=\"black\"/>\n",
       "<text font-family=\"Times,serif\" font-size=\"14.00\" text-anchor=\"middle\" x=\"524.2\" y=\"-88.3\">output:</text>\n",
       "<polyline fill=\"none\" points=\"552.035,-81.5 552.035,-125.5 \" stroke=\"black\"/>\n",
       "<text font-family=\"Times,serif\" font-size=\"14.00\" text-anchor=\"middle\" x=\"593.859\" y=\"-110.3\">(None, 1, 3)</text>\n",
       "<polyline fill=\"none\" points=\"552.035,-103.5 635.683,-103.5 \" stroke=\"black\"/>\n",
       "<text font-family=\"Times,serif\" font-size=\"14.00\" text-anchor=\"middle\" x=\"593.859\" y=\"-88.3\">(None, 3)</text>\n",
       "</g>\n",
       "<!-- 4651743888&#45;&gt;4468062472 -->\n",
       "<g class=\"edge\" id=\"edge4\"><title>4651743888-&gt;4468062472</title>\n",
       "<path d=\"M509.022,-162.329C507.681,-154.183 506.12,-144.699 504.656,-135.797\" fill=\"none\" stroke=\"black\"/>\n",
       "<polygon fill=\"black\" points=\"508.076,-135.028 502.999,-125.729 501.169,-136.165 508.076,-135.028\" stroke=\"black\"/>\n",
       "</g>\n",
       "<!-- 4651881696 -->\n",
       "<g class=\"node\" id=\"node7\"><title>4651881696</title>\n",
       "<polygon fill=\"none\" points=\"185.744,-0.5 185.744,-44.5 505.267,-44.5 505.267,-0.5 185.744,-0.5\" stroke=\"black\"/>\n",
       "<text font-family=\"Times,serif\" font-size=\"14.00\" text-anchor=\"middle\" x=\"247.86\" y=\"-18.3\">DotProduct: Merge</text>\n",
       "<polyline fill=\"none\" points=\"309.977,-0.5 309.977,-44.5 \" stroke=\"black\"/>\n",
       "<text font-family=\"Times,serif\" font-size=\"14.00\" text-anchor=\"middle\" x=\"337.812\" y=\"-29.3\">input:</text>\n",
       "<polyline fill=\"none\" points=\"309.977,-22.5 365.646,-22.5 \" stroke=\"black\"/>\n",
       "<text font-family=\"Times,serif\" font-size=\"14.00\" text-anchor=\"middle\" x=\"337.812\" y=\"-7.3\">output:</text>\n",
       "<polyline fill=\"none\" points=\"365.646,-0.5 365.646,-44.5 \" stroke=\"black\"/>\n",
       "<text font-family=\"Times,serif\" font-size=\"14.00\" text-anchor=\"middle\" x=\"435.457\" y=\"-29.3\">[(None, 3), (None, 3)]</text>\n",
       "<polyline fill=\"none\" points=\"365.646,-22.5 505.267,-22.5 \" stroke=\"black\"/>\n",
       "<text font-family=\"Times,serif\" font-size=\"14.00\" text-anchor=\"middle\" x=\"434.97\" y=\"-7.3\">(None, 1)</text>\n",
       "</g>\n",
       "<!-- 4651744000&#45;&gt;4651881696 -->\n",
       "<g class=\"edge\" id=\"edge5\"><title>4651744000-&gt;4651881696</title>\n",
       "<path d=\"M232.775,-81.3294C252.013,-71.4605 275.075,-59.63 295.313,-49.2479\" fill=\"none\" stroke=\"black\"/>\n",
       "<polygon fill=\"black\" points=\"297.089,-52.2704 304.39,-44.5919 293.894,-46.0421 297.089,-52.2704\" stroke=\"black\"/>\n",
       "</g>\n",
       "<!-- 4468062472&#45;&gt;4651881696 -->\n",
       "<g class=\"edge\" id=\"edge6\"><title>4468062472-&gt;4651881696</title>\n",
       "<path d=\"M458.236,-81.3294C438.998,-71.4605 415.936,-59.63 395.697,-49.2479\" fill=\"none\" stroke=\"black\"/>\n",
       "<polygon fill=\"black\" points=\"397.116,-46.0421 386.621,-44.5919 393.921,-52.2704 397.116,-46.0421\" stroke=\"black\"/>\n",
       "</g>\n",
       "</g>\n",
       "</svg>"
      ],
      "text/plain": [
       "<IPython.core.display.SVG object>"
      ]
     },
     "execution_count": 12,
     "metadata": {},
     "output_type": "execute_result"
    }
   ],
   "source": [
    "SVG(model_to_dot(model,  show_shapes=True, show_layer_names=True, rankdir='HB').create(prog='dot', format='svg'))"
   ]
  },
  {
   "cell_type": "markdown",
   "metadata": {},
   "source": [
    "We can see that in the `Merge` layer, we take the dot product of the user and the item embeddings to obtain the rating.\n",
    "\n",
    "We can also summarise our model as follows:"
   ]
  },
  {
   "cell_type": "code",
   "execution_count": 13,
   "metadata": {},
   "outputs": [
    {
     "name": "stdout",
     "output_type": "stream",
     "text": [
      "__________________________________________________________________________________________________\n",
      "Layer (type)                    Output Shape         Param #     Connected to                     \n",
      "==================================================================================================\n",
      "Item (InputLayer)               (None, 1)            0                                            \n",
      "__________________________________________________________________________________________________\n",
      "User (InputLayer)               (None, 1)            0                                            \n",
      "__________________________________________________________________________________________________\n",
      "Movie-Embedding (Embedding)     (None, 1, 3)         5049        Item[0][0]                       \n",
      "__________________________________________________________________________________________________\n",
      "User-Embedding (Embedding)      (None, 1, 3)         2832        User[0][0]                       \n",
      "__________________________________________________________________________________________________\n",
      "FlattenMovies (Flatten)         (None, 3)            0           Movie-Embedding[0][0]            \n",
      "__________________________________________________________________________________________________\n",
      "FlattenUsers (Flatten)          (None, 3)            0           User-Embedding[0][0]             \n",
      "__________________________________________________________________________________________________\n",
      "DotProduct (Merge)              (None, 1)            0           FlattenMovies[0][0]              \n",
      "                                                                 FlattenUsers[0][0]               \n",
      "==================================================================================================\n",
      "Total params: 7,881\n",
      "Trainable params: 7,881\n",
      "Non-trainable params: 0\n",
      "__________________________________________________________________________________________________\n"
     ]
    }
   ],
   "source": [
    "model.summary()"
   ]
  },
  {
   "cell_type": "markdown",
   "metadata": {},
   "source": [
    "So, we have 7881 parameters to learn! Let's train our model now!"
   ]
  },
  {
   "cell_type": "code",
   "execution_count": 14,
   "metadata": {
    "collapsed": true
   },
   "outputs": [],
   "source": [
    "history = model.fit([train.user_id, train.item_id], train.rating, epochs=100, verbose=0)"
   ]
  },
  {
   "cell_type": "markdown",
   "metadata": {},
   "source": [
    "#### Train error v/s epoch number"
   ]
  },
  {
   "cell_type": "markdown",
   "metadata": {},
   "source": [
    "Before we test how well our model does in the test setting, we can visualise the train loss with epoch number."
   ]
  },
  {
   "cell_type": "code",
   "execution_count": 15,
   "metadata": {},
   "outputs": [
    {
     "data": {
      "text/plain": [
       "<matplotlib.text.Text at 0x1155a07b8>"
      ]
     },
     "execution_count": 15,
     "metadata": {},
     "output_type": "execute_result"
    },
    {
     "data": {
      "image/png": "[encoded data removed]",
      "text/plain": [
       "<matplotlib.figure.Figure at 0x1154c4e80>"
      ]
     },
     "metadata": {},
     "output_type": "display_data"
    }
   ],
   "source": [
    "pd.Series(history.history['loss']).plot(logy=True)\n",
    "plt.xlabel(\"Epoch\")\n",
    "plt.ylabel(\"Train Error\")"
   ]
  },
  {
   "cell_type": "markdown",
   "metadata": {},
   "source": [
    "#### Prediction error"
   ]
  },
  {
   "cell_type": "markdown",
   "metadata": {},
   "source": [
    "Let's now see how our model does! I'll do a small post-processing step to round off our prediction to the nearest integer. This is usually not done, and thus just a whimsical step, since the training ratings are all integers! There are better ways to encode this intger requirement (one-hot encoding!), but we won't discuss them in this post."
   ]
  },
  {
   "cell_type": "code",
   "execution_count": 16,
   "metadata": {
    "collapsed": true
   },
   "outputs": [],
   "source": [
    "y_hat = np.round(model.predict([test.user_id, test.item_id]),0)\n",
    "y_true = test.rating"
   ]
  },
  {
   "cell_type": "code",
   "execution_count": 17,
   "metadata": {},
   "outputs": [
    {
     "data": {
      "text/plain": [
       "0.6915"
      ]
     },
     "execution_count": 17,
     "metadata": {},
     "output_type": "execute_result"
    }
   ],
   "source": [
    "from sklearn.metrics import mean_absolute_error\n",
    "mean_absolute_error(y_true, y_hat)"
   ]
  },
  {
   "cell_type": "markdown",
   "metadata": {},
   "source": [
    "Not bad! We're able to get a $MAE$ of 0.69! I'm sure with a bit of parameter/hyper-parameter optimisation, we may be able to improve the results. However, I won't talk about these optimisations in this post. "
   ]
  },
  {
   "cell_type": "markdown",
   "metadata": {},
   "source": [
    "#### Extracting the learnt embeddings"
   ]
  },
  {
   "cell_type": "markdown",
   "metadata": {},
   "source": [
    "We can extract the learnt movie and item embeddings as follows:"
   ]
  },
  {
   "cell_type": "code",
   "execution_count": 18,
   "metadata": {},
   "outputs": [
    {
     "data": {
      "text/html": [
       "<div>\n",
       "<style>\n",
       "    .dataframe thead tr:only-child th {\n",
       "        text-align: right;\n",
       "    }\n",
       "\n",
       "    .dataframe thead th {\n",
       "        text-align: left;\n",
       "    }\n",
       "\n",
       "    .dataframe tbody tr th {\n",
       "        vertical-align: top;\n",
       "    }\n",
       "</style>\n",
       "<table border=\"1\" class=\"dataframe\">\n",
       "  <thead>\n",
       "    <tr style=\"text-align: right;\">\n",
       "      <th></th>\n",
       "      <th>0</th>\n",
       "      <th>1</th>\n",
       "      <th>2</th>\n",
       "    </tr>\n",
       "  </thead>\n",
       "  <tbody>\n",
       "    <tr>\n",
       "      <th>count</th>\n",
       "      <td>1683.000000</td>\n",
       "      <td>1683.000000</td>\n",
       "      <td>1683.000000</td>\n",
       "    </tr>\n",
       "    <tr>\n",
       "      <th>mean</th>\n",
       "      <td>-0.935420</td>\n",
       "      <td>0.857862</td>\n",
       "      <td>0.954169</td>\n",
       "    </tr>\n",
       "    <tr>\n",
       "      <th>std</th>\n",
       "      <td>0.517458</td>\n",
       "      <td>0.447439</td>\n",
       "      <td>0.458095</td>\n",
       "    </tr>\n",
       "    <tr>\n",
       "      <th>min</th>\n",
       "      <td>-2.524487</td>\n",
       "      <td>-0.459752</td>\n",
       "      <td>-0.989537</td>\n",
       "    </tr>\n",
       "    <tr>\n",
       "      <th>25%</th>\n",
       "      <td>-1.323431</td>\n",
       "      <td>0.546364</td>\n",
       "      <td>0.642444</td>\n",
       "    </tr>\n",
       "    <tr>\n",
       "      <th>50%</th>\n",
       "      <td>-0.949188</td>\n",
       "      <td>0.851243</td>\n",
       "      <td>0.993619</td>\n",
       "    </tr>\n",
       "    <tr>\n",
       "      <th>75%</th>\n",
       "      <td>-0.550862</td>\n",
       "      <td>1.159588</td>\n",
       "      <td>1.283555</td>\n",
       "    </tr>\n",
       "    <tr>\n",
       "      <th>max</th>\n",
       "      <td>0.500618</td>\n",
       "      <td>2.140607</td>\n",
       "      <td>2.683658</td>\n",
       "    </tr>\n",
       "  </tbody>\n",
       "</table>\n",
       "</div>"
      ],
      "text/plain": [
       "                 0            1            2\n",
       "count  1683.000000  1683.000000  1683.000000\n",
       "mean     -0.935420     0.857862     0.954169\n",
       "std       0.517458     0.447439     0.458095\n",
       "min      -2.524487    -0.459752    -0.989537\n",
       "25%      -1.323431     0.546364     0.642444\n",
       "50%      -0.949188     0.851243     0.993619\n",
       "75%      -0.550862     1.159588     1.283555\n",
       "max       0.500618     2.140607     2.683658"
      ]
     },
     "execution_count": 18,
     "metadata": {},
     "output_type": "execute_result"
    }
   ],
   "source": [
    "movie_embedding_learnt = model.get_layer(name='Movie-Embedding').get_weights()[0]\n",
    "pd.DataFrame(movie_embedding_learnt).describe()"
   ]
  },
  {
   "cell_type": "code",
   "execution_count": 19,
   "metadata": {},
   "outputs": [
    {
     "data": {
      "text/html": [
       "<div>\n",
       "<style>\n",
       "    .dataframe thead tr:only-child th {\n",
       "        text-align: right;\n",
       "    }\n",
       "\n",
       "    .dataframe thead th {\n",
       "        text-align: left;\n",
       "    }\n",
       "\n",
       "    .dataframe tbody tr th {\n",
       "        vertical-align: top;\n",
       "    }\n",
       "</style>\n",
       "<table border=\"1\" class=\"dataframe\">\n",
       "  <thead>\n",
       "    <tr style=\"text-align: right;\">\n",
       "      <th></th>\n",
       "      <th>0</th>\n",
       "      <th>1</th>\n",
       "      <th>2</th>\n",
       "    </tr>\n",
       "  </thead>\n",
       "  <tbody>\n",
       "    <tr>\n",
       "      <th>count</th>\n",
       "      <td>944.000000</td>\n",
       "      <td>944.000000</td>\n",
       "      <td>944.000000</td>\n",
       "    </tr>\n",
       "    <tr>\n",
       "      <th>mean</th>\n",
       "      <td>-1.126231</td>\n",
       "      <td>1.171609</td>\n",
       "      <td>1.109131</td>\n",
       "    </tr>\n",
       "    <tr>\n",
       "      <th>std</th>\n",
       "      <td>0.517478</td>\n",
       "      <td>0.409016</td>\n",
       "      <td>0.548384</td>\n",
       "    </tr>\n",
       "    <tr>\n",
       "      <th>min</th>\n",
       "      <td>-2.883226</td>\n",
       "      <td>-0.500010</td>\n",
       "      <td>-0.415373</td>\n",
       "    </tr>\n",
       "    <tr>\n",
       "      <th>25%</th>\n",
       "      <td>-1.458197</td>\n",
       "      <td>0.903574</td>\n",
       "      <td>0.735729</td>\n",
       "    </tr>\n",
       "    <tr>\n",
       "      <th>50%</th>\n",
       "      <td>-1.159480</td>\n",
       "      <td>1.199517</td>\n",
       "      <td>1.084089</td>\n",
       "    </tr>\n",
       "    <tr>\n",
       "      <th>75%</th>\n",
       "      <td>-0.836746</td>\n",
       "      <td>1.456610</td>\n",
       "      <td>1.468611</td>\n",
       "    </tr>\n",
       "    <tr>\n",
       "      <th>max</th>\n",
       "      <td>0.899436</td>\n",
       "      <td>2.605330</td>\n",
       "      <td>2.826109</td>\n",
       "    </tr>\n",
       "  </tbody>\n",
       "</table>\n",
       "</div>"
      ],
      "text/plain": [
       "                0           1           2\n",
       "count  944.000000  944.000000  944.000000\n",
       "mean    -1.126231    1.171609    1.109131\n",
       "std      0.517478    0.409016    0.548384\n",
       "min     -2.883226   -0.500010   -0.415373\n",
       "25%     -1.458197    0.903574    0.735729\n",
       "50%     -1.159480    1.199517    1.084089\n",
       "75%     -0.836746    1.456610    1.468611\n",
       "max      0.899436    2.605330    2.826109"
      ]
     },
     "execution_count": 19,
     "metadata": {},
     "output_type": "execute_result"
    }
   ],
   "source": [
    "user_embedding_learnt = model.get_layer(name='User-Embedding').get_weights()[0]\n",
    "pd.DataFrame(user_embedding_learnt).describe()"
   ]
  },
  {
   "cell_type": "markdown",
   "metadata": {},
   "source": [
    "We can see that both the user and the item embeddings have negative elements. There are some applications which require that the learnt embeddings be non-negative. This approach is also called non-negative matrix factorisation, which we'll workout now."
   ]
  },
  {
   "cell_type": "markdown",
   "metadata": {},
   "source": [
    "### Non-negative Matrix factorisation (NNMF) in Keras"
   ]
  },
  {
   "cell_type": "markdown",
   "metadata": {},
   "source": [
    "The code for NNMF remains exactly the same as the code for matrix factorisation. The only change is that we add `non-negativity` constraints on the learnt embeddings. This is done as follows:"
   ]
  },
  {
   "cell_type": "code",
   "execution_count": 20,
   "metadata": {
    "collapsed": true
   },
   "outputs": [],
   "source": [
    "from keras.constraints import non_neg\n",
    "movie_input = keras.layers.Input(shape=[1],name='Item')\n",
    "movie_embedding = keras.layers.Embedding(n_movies + 1, n_latent_factors, name='NonNegMovie-Embedding', embeddings_constraint=non_neg())(movie_input)\n",
    "movie_vec = keras.layers.Flatten(name='FlattenMovies')(movie_embedding)\n",
    "\n",
    "user_input = keras.layers.Input(shape=[1],name='User')\n",
    "user_vec = keras.layers.Flatten(name='FlattenUsers')(keras.layers.Embedding(n_users + 1, n_latent_factors,name='NonNegUser-Embedding',embeddings_constraint=non_neg())(user_input))\n",
    "\n",
    "prod = keras.layers.merge([movie_vec, user_vec], mode='dot',name='DotProduct')\n",
    "model = keras.Model([user_input, movie_input], prod)\n",
    "model.compile('adam', 'mean_squared_error')"
   ]
  },
  {
   "cell_type": "markdown",
   "metadata": {},
   "source": [
    "We now verify if we are indeed able to learn non-negative embeddings. I'll not compare the performance of NNMF on the test set, in the interest of space."
   ]
  },
  {
   "cell_type": "code",
   "execution_count": 21,
   "metadata": {
    "collapsed": true
   },
   "outputs": [],
   "source": [
    "history_nonneg = model.fit([train.user_id, train.item_id], train.rating, epochs=10, verbose=0)"
   ]
  },
  {
   "cell_type": "code",
   "execution_count": 22,
   "metadata": {},
   "outputs": [
    {
     "data": {
      "text/html": [
       "<div>\n",
       "<style>\n",
       "    .dataframe thead tr:only-child th {\n",
       "        text-align: right;\n",
       "    }\n",
       "\n",
       "    .dataframe thead th {\n",
       "        text-align: left;\n",
       "    }\n",
       "\n",
       "    .dataframe tbody tr th {\n",
       "        vertical-align: top;\n",
       "    }\n",
       "</style>\n",
       "<table border=\"1\" class=\"dataframe\">\n",
       "  <thead>\n",
       "    <tr style=\"text-align: right;\">\n",
       "      <th></th>\n",
       "      <th>0</th>\n",
       "      <th>1</th>\n",
       "      <th>2</th>\n",
       "    </tr>\n",
       "  </thead>\n",
       "  <tbody>\n",
       "    <tr>\n",
       "      <th>count</th>\n",
       "      <td>1683.000000</td>\n",
       "      <td>1683.000000</td>\n",
       "      <td>1683.000000</td>\n",
       "    </tr>\n",
       "    <tr>\n",
       "      <th>mean</th>\n",
       "      <td>0.838450</td>\n",
       "      <td>0.840330</td>\n",
       "      <td>0.838066</td>\n",
       "    </tr>\n",
       "    <tr>\n",
       "      <th>std</th>\n",
       "      <td>0.301618</td>\n",
       "      <td>0.301529</td>\n",
       "      <td>0.301040</td>\n",
       "    </tr>\n",
       "    <tr>\n",
       "      <th>min</th>\n",
       "      <td>-0.000000</td>\n",
       "      <td>-0.000000</td>\n",
       "      <td>-0.000000</td>\n",
       "    </tr>\n",
       "    <tr>\n",
       "      <th>25%</th>\n",
       "      <td>0.657749</td>\n",
       "      <td>0.663951</td>\n",
       "      <td>0.656453</td>\n",
       "    </tr>\n",
       "    <tr>\n",
       "      <th>50%</th>\n",
       "      <td>0.901495</td>\n",
       "      <td>0.904192</td>\n",
       "      <td>0.895934</td>\n",
       "    </tr>\n",
       "    <tr>\n",
       "      <th>75%</th>\n",
       "      <td>1.072706</td>\n",
       "      <td>1.073591</td>\n",
       "      <td>1.072926</td>\n",
       "    </tr>\n",
       "    <tr>\n",
       "      <th>max</th>\n",
       "      <td>1.365719</td>\n",
       "      <td>1.379006</td>\n",
       "      <td>1.373672</td>\n",
       "    </tr>\n",
       "  </tbody>\n",
       "</table>\n",
       "</div>"
      ],
      "text/plain": [
       "                 0            1            2\n",
       "count  1683.000000  1683.000000  1683.000000\n",
       "mean      0.838450     0.840330     0.838066\n",
       "std       0.301618     0.301529     0.301040\n",
       "min      -0.000000    -0.000000    -0.000000\n",
       "25%       0.657749     0.663951     0.656453\n",
       "50%       0.901495     0.904192     0.895934\n",
       "75%       1.072706     1.073591     1.072926\n",
       "max       1.365719     1.379006     1.373672"
      ]
     },
     "execution_count": 22,
     "metadata": {},
     "output_type": "execute_result"
    }
   ],
   "source": [
    "movie_embedding_learnt = model.get_layer(name='NonNegMovie-Embedding').get_weights()[0]\n",
    "pd.DataFrame(movie_embedding_learnt).describe()"
   ]
  },
  {
   "cell_type": "markdown",
   "metadata": {},
   "source": [
    "Looks good!"
   ]
  },
  {
   "cell_type": "markdown",
   "metadata": {},
   "source": [
    "### Neural networks for recommendation\n",
    "\n",
    "We'll now create a simple neural network for recommendation, or for estimating rating! This model is very similar to the earlier matrix factorisation models, but differs in the following ways:\n",
    "\n",
    "1. Instead of taking a dot product of the user and the item embedding, we concatenate them and use them as features for our neural network. Thus, we are not constrained to the dot product way of combining the embeddings, and can learn complex non-linear relationships.\n",
    "2. Due to #1, we can now have a different dimension of user and item embeddings. This can be useful if one dimension is larger than the other."
   ]
  },
  {
   "cell_type": "code",
   "execution_count": 23,
   "metadata": {
    "collapsed": true
   },
   "outputs": [],
   "source": [
    "n_latent_factors_user = 5\n",
    "n_latent_factors_movie = 8\n",
    "\n",
    "movie_input = keras.layers.Input(shape=[1],name='Item')\n",
    "movie_embedding = keras.layers.Embedding(n_movies + 1, n_latent_factors_movie, name='Movie-Embedding')(movie_input)\n",
    "movie_vec = keras.layers.Flatten(name='FlattenMovies')(movie_embedding)\n",
    "movie_vec = keras.layers.Dropout(0.2)(movie_vec)\n",
    "\n",
    "\n",
    "user_input = keras.layers.Input(shape=[1],name='User')\n",
    "user_vec = keras.layers.Flatten(name='FlattenUsers')(keras.layers.Embedding(n_users + 1, n_latent_factors_user,name='User-Embedding')(user_input))\n",
    "user_vec = keras.layers.Dropout(0.2)(user_vec)\n",
    "\n",
    "\n",
    "concat = keras.layers.merge([movie_vec, user_vec], mode='concat',name='Concat')\n",
    "concat_dropout = keras.layers.Dropout(0.2)(concat)\n",
    "dense = keras.layers.Dense(200,name='FullyConnected')(concat)\n",
    "dropout_1 = keras.layers.Dropout(0.2,name='Dropout')(dense)\n",
    "dense_2 = keras.layers.Dense(100,name='FullyConnected-1')(concat)\n",
    "dropout_2 = keras.layers.Dropout(0.2,name='Dropout')(dense_2)\n",
    "dense_3 = keras.layers.Dense(50,name='FullyConnected-2')(dense_2)\n",
    "dropout_3 = keras.layers.Dropout(0.2,name='Dropout')(dense_3)\n",
    "dense_4 = keras.layers.Dense(20,name='FullyConnected-3', activation='relu')(dense_3)\n",
    "\n",
    "\n",
    "result = keras.layers.Dense(1, activation='relu',name='Activation')(dense_4)\n",
    "adam = Adam(lr=0.005)\n",
    "model = keras.Model([user_input, movie_input], result)\n",
    "model.compile(optimizer=adam,loss= 'mean_absolute_error')"
   ]
  },
  {
   "cell_type": "markdown",
   "metadata": {},
   "source": [
    "Let's now see how our model looks like:"
   ]
  },
  {
   "cell_type": "code",
   "execution_count": 24,
   "metadata": {},
   "outputs": [
    {
     "data": {
      "image/svg+xml": [
       "<svg height=\"701pt\" viewBox=\"0.00 0.00 681.82 701.00\" width=\"682pt\" xmlns=\"http://www.w3.org/2000/svg\" xmlns:xlink=\"http://www.w3.org/1999/xlink\">\n",
       "<g class=\"graph\" id=\"graph0\" transform=\"scale(1 1) rotate(0) translate(4 697)\">\n",
       "<title>G</title>\n",
       "<polygon fill=\"white\" points=\"-4,4 -4,-697 677.815,-697 677.815,4 -4,4\" stroke=\"none\"/>\n",
       "<!-- 112307868840 -->\n",
       "<g class=\"node\" id=\"node1\"><title>112307868840</title>\n",
       "<polygon fill=\"none\" points=\"48.2275,-648.5 48.2275,-692.5 284.783,-692.5 284.783,-648.5 48.2275,-648.5\" stroke=\"black\"/>\n",
       "<text font-family=\"Times,serif\" font-size=\"14.00\" text-anchor=\"middle\" x=\"103.847\" y=\"-666.3\">Item: InputLayer</text>\n",
       "<polyline fill=\"none\" points=\"159.466,-648.5 159.466,-692.5 \" stroke=\"black\"/>\n",
       "<text font-family=\"Times,serif\" font-size=\"14.00\" text-anchor=\"middle\" x=\"187.3\" y=\"-677.3\">input:</text>\n",
       "<polyline fill=\"none\" points=\"159.466,-670.5 215.135,-670.5 \" stroke=\"black\"/>\n",
       "<text font-family=\"Times,serif\" font-size=\"14.00\" text-anchor=\"middle\" x=\"187.3\" y=\"-655.3\">output:</text>\n",
       "<polyline fill=\"none\" points=\"215.135,-648.5 215.135,-692.5 \" stroke=\"black\"/>\n",
       "<text font-family=\"Times,serif\" font-size=\"14.00\" text-anchor=\"middle\" x=\"249.959\" y=\"-677.3\">(None, 1)</text>\n",
       "<polyline fill=\"none\" points=\"215.135,-670.5 284.783,-670.5 \" stroke=\"black\"/>\n",
       "<text font-family=\"Times,serif\" font-size=\"14.00\" text-anchor=\"middle\" x=\"249.959\" y=\"-655.3\">(None, 1)</text>\n",
       "</g>\n",
       "<!-- 112308383136 -->\n",
       "<g class=\"node\" id=\"node3\"><title>112308383136</title>\n",
       "<polygon fill=\"none\" points=\"0,-567.5 0,-611.5 333.011,-611.5 333.011,-567.5 0,-567.5\" stroke=\"black\"/>\n",
       "<text font-family=\"Times,serif\" font-size=\"14.00\" text-anchor=\"middle\" x=\"96.8467\" y=\"-585.3\">Movie-Embedding: Embedding</text>\n",
       "<polyline fill=\"none\" points=\"193.693,-567.5 193.693,-611.5 \" stroke=\"black\"/>\n",
       "<text font-family=\"Times,serif\" font-size=\"14.00\" text-anchor=\"middle\" x=\"221.528\" y=\"-596.3\">input:</text>\n",
       "<polyline fill=\"none\" points=\"193.693,-589.5 249.362,-589.5 \" stroke=\"black\"/>\n",
       "<text font-family=\"Times,serif\" font-size=\"14.00\" text-anchor=\"middle\" x=\"221.528\" y=\"-574.3\">output:</text>\n",
       "<polyline fill=\"none\" points=\"249.362,-567.5 249.362,-611.5 \" stroke=\"black\"/>\n",
       "<text font-family=\"Times,serif\" font-size=\"14.00\" text-anchor=\"middle\" x=\"291.187\" y=\"-596.3\">(None, 1)</text>\n",
       "<polyline fill=\"none\" points=\"249.362,-589.5 333.011,-589.5 \" stroke=\"black\"/>\n",
       "<text font-family=\"Times,serif\" font-size=\"14.00\" text-anchor=\"middle\" x=\"291.187\" y=\"-574.3\">(None, 1, 8)</text>\n",
       "</g>\n",
       "<!-- 112307868840&#45;&gt;112308383136 -->\n",
       "<g class=\"edge\" id=\"edge1\"><title>112307868840-&gt;112308383136</title>\n",
       "<path d=\"M166.505,-648.329C166.505,-640.183 166.505,-630.699 166.505,-621.797\" fill=\"none\" stroke=\"black\"/>\n",
       "<polygon fill=\"black\" points=\"170.005,-621.729 166.505,-611.729 163.005,-621.729 170.005,-621.729\" stroke=\"black\"/>\n",
       "</g>\n",
       "<!-- 4659651864 -->\n",
       "<g class=\"node\" id=\"node2\"><title>4659651864</title>\n",
       "<polygon fill=\"none\" points=\"393.838,-648.5 393.838,-692.5 631.173,-692.5 631.173,-648.5 393.838,-648.5\" stroke=\"black\"/>\n",
       "<text font-family=\"Times,serif\" font-size=\"14.00\" text-anchor=\"middle\" x=\"449.847\" y=\"-666.3\">User: InputLayer</text>\n",
       "<polyline fill=\"none\" points=\"505.855,-648.5 505.855,-692.5 \" stroke=\"black\"/>\n",
       "<text font-family=\"Times,serif\" font-size=\"14.00\" text-anchor=\"middle\" x=\"533.69\" y=\"-677.3\">input:</text>\n",
       "<polyline fill=\"none\" points=\"505.855,-670.5 561.524,-670.5 \" stroke=\"black\"/>\n",
       "<text font-family=\"Times,serif\" font-size=\"14.00\" text-anchor=\"middle\" x=\"533.69\" y=\"-655.3\">output:</text>\n",
       "<polyline fill=\"none\" points=\"561.524,-648.5 561.524,-692.5 \" stroke=\"black\"/>\n",
       "<text font-family=\"Times,serif\" font-size=\"14.00\" text-anchor=\"middle\" x=\"596.349\" y=\"-677.3\">(None, 1)</text>\n",
       "<polyline fill=\"none\" points=\"561.524,-670.5 631.173,-670.5 \" stroke=\"black\"/>\n",
       "<text font-family=\"Times,serif\" font-size=\"14.00\" text-anchor=\"middle\" x=\"596.349\" y=\"-655.3\">(None, 1)</text>\n",
       "</g>\n",
       "<!-- 112310319536 -->\n",
       "<g class=\"node\" id=\"node4\"><title>112310319536</title>\n",
       "<polygon fill=\"none\" points=\"351.195,-567.5 351.195,-611.5 673.815,-611.5 673.815,-567.5 351.195,-567.5\" stroke=\"black\"/>\n",
       "<text font-family=\"Times,serif\" font-size=\"14.00\" text-anchor=\"middle\" x=\"442.847\" y=\"-585.3\">User-Embedding: Embedding</text>\n",
       "<polyline fill=\"none\" points=\"534.498,-567.5 534.498,-611.5 \" stroke=\"black\"/>\n",
       "<text font-family=\"Times,serif\" font-size=\"14.00\" text-anchor=\"middle\" x=\"562.333\" y=\"-596.3\">input:</text>\n",
       "<polyline fill=\"none\" points=\"534.498,-589.5 590.167,-589.5 \" stroke=\"black\"/>\n",
       "<text font-family=\"Times,serif\" font-size=\"14.00\" text-anchor=\"middle\" x=\"562.333\" y=\"-574.3\">output:</text>\n",
       "<polyline fill=\"none\" points=\"590.167,-567.5 590.167,-611.5 \" stroke=\"black\"/>\n",
       "<text font-family=\"Times,serif\" font-size=\"14.00\" text-anchor=\"middle\" x=\"631.991\" y=\"-596.3\">(None, 1)</text>\n",
       "<polyline fill=\"none\" points=\"590.167,-589.5 673.815,-589.5 \" stroke=\"black\"/>\n",
       "<text font-family=\"Times,serif\" font-size=\"14.00\" text-anchor=\"middle\" x=\"631.991\" y=\"-574.3\">(None, 1, 5)</text>\n",
       "</g>\n",
       "<!-- 4659651864&#45;&gt;112310319536 -->\n",
       "<g class=\"edge\" id=\"edge2\"><title>4659651864-&gt;112310319536</title>\n",
       "<path d=\"M512.505,-648.329C512.505,-640.183 512.505,-630.699 512.505,-621.797\" fill=\"none\" stroke=\"black\"/>\n",
       "<polygon fill=\"black\" points=\"516.005,-621.729 512.505,-611.729 509.005,-621.729 516.005,-621.729\" stroke=\"black\"/>\n",
       "</g>\n",
       "<!-- 112308383416 -->\n",
       "<g class=\"node\" id=\"node5\"><title>112308383416</title>\n",
       "<polygon fill=\"none\" points=\"50.269,-486.5 50.269,-530.5 332.742,-530.5 332.742,-486.5 50.269,-486.5\" stroke=\"black\"/>\n",
       "<text font-family=\"Times,serif\" font-size=\"14.00\" text-anchor=\"middle\" x=\"121.847\" y=\"-504.3\">FlattenMovies: Flatten</text>\n",
       "<polyline fill=\"none\" points=\"193.424,-486.5 193.424,-530.5 \" stroke=\"black\"/>\n",
       "<text font-family=\"Times,serif\" font-size=\"14.00\" text-anchor=\"middle\" x=\"221.259\" y=\"-515.3\">input:</text>\n",
       "<polyline fill=\"none\" points=\"193.424,-508.5 249.093,-508.5 \" stroke=\"black\"/>\n",
       "<text font-family=\"Times,serif\" font-size=\"14.00\" text-anchor=\"middle\" x=\"221.259\" y=\"-493.3\">output:</text>\n",
       "<polyline fill=\"none\" points=\"249.093,-486.5 249.093,-530.5 \" stroke=\"black\"/>\n",
       "<text font-family=\"Times,serif\" font-size=\"14.00\" text-anchor=\"middle\" x=\"290.917\" y=\"-515.3\">(None, 1, 8)</text>\n",
       "<polyline fill=\"none\" points=\"249.093,-508.5 332.742,-508.5 \" stroke=\"black\"/>\n",
       "<text font-family=\"Times,serif\" font-size=\"14.00\" text-anchor=\"middle\" x=\"290.917\" y=\"-493.3\">(None, 8)</text>\n",
       "</g>\n",
       "<!-- 112308383136&#45;&gt;112308383416 -->\n",
       "<g class=\"edge\" id=\"edge3\"><title>112308383136-&gt;112308383416</title>\n",
       "<path d=\"M173.205,-567.329C175.811,-559.094 178.849,-549.493 181.693,-540.507\" fill=\"none\" stroke=\"black\"/>\n",
       "<polygon fill=\"black\" points=\"185.107,-541.319 184.787,-530.729 178.433,-539.207 185.107,-541.319\" stroke=\"black\"/>\n",
       "</g>\n",
       "<!-- 112307982232 -->\n",
       "<g class=\"node\" id=\"node6\"><title>112307982232</title>\n",
       "<polygon fill=\"none\" points=\"363.328,-486.5 363.328,-530.5 635.683,-530.5 635.683,-486.5 363.328,-486.5\" stroke=\"black\"/>\n",
       "<text font-family=\"Times,serif\" font-size=\"14.00\" text-anchor=\"middle\" x=\"429.847\" y=\"-504.3\">FlattenUsers: Flatten</text>\n",
       "<polyline fill=\"none\" points=\"496.366,-486.5 496.366,-530.5 \" stroke=\"black\"/>\n",
       "<text font-family=\"Times,serif\" font-size=\"14.00\" text-anchor=\"middle\" x=\"524.2\" y=\"-515.3\">input:</text>\n",
       "<polyline fill=\"none\" points=\"496.366,-508.5 552.035,-508.5 \" stroke=\"black\"/>\n",
       "<text font-family=\"Times,serif\" font-size=\"14.00\" text-anchor=\"middle\" x=\"524.2\" y=\"-493.3\">output:</text>\n",
       "<polyline fill=\"none\" points=\"552.035,-486.5 552.035,-530.5 \" stroke=\"black\"/>\n",
       "<text font-family=\"Times,serif\" font-size=\"14.00\" text-anchor=\"middle\" x=\"593.859\" y=\"-515.3\">(None, 1, 5)</text>\n",
       "<polyline fill=\"none\" points=\"552.035,-508.5 635.683,-508.5 \" stroke=\"black\"/>\n",
       "<text font-family=\"Times,serif\" font-size=\"14.00\" text-anchor=\"middle\" x=\"593.859\" y=\"-493.3\">(None, 5)</text>\n",
       "</g>\n",
       "<!-- 112310319536&#45;&gt;112307982232 -->\n",
       "<g class=\"edge\" id=\"edge4\"><title>112310319536-&gt;112307982232</title>\n",
       "<path d=\"M509.022,-567.329C507.681,-559.183 506.12,-549.699 504.656,-540.797\" fill=\"none\" stroke=\"black\"/>\n",
       "<polygon fill=\"black\" points=\"508.076,-540.028 502.999,-530.729 501.169,-541.165 508.076,-540.028\" stroke=\"black\"/>\n",
       "</g>\n",
       "<!-- 112308313840 -->\n",
       "<g class=\"node\" id=\"node7\"><title>112308313840</title>\n",
       "<polygon fill=\"none\" points=\"83.0449,-405.5 83.0449,-449.5 335.966,-449.5 335.966,-405.5 83.0449,-405.5\" stroke=\"black\"/>\n",
       "<text font-family=\"Times,serif\" font-size=\"14.00\" text-anchor=\"middle\" x=\"146.847\" y=\"-423.3\">dropout_1: Dropout</text>\n",
       "<polyline fill=\"none\" points=\"210.648,-405.5 210.648,-449.5 \" stroke=\"black\"/>\n",
       "<text font-family=\"Times,serif\" font-size=\"14.00\" text-anchor=\"middle\" x=\"238.483\" y=\"-434.3\">input:</text>\n",
       "<polyline fill=\"none\" points=\"210.648,-427.5 266.317,-427.5 \" stroke=\"black\"/>\n",
       "<text font-family=\"Times,serif\" font-size=\"14.00\" text-anchor=\"middle\" x=\"238.483\" y=\"-412.3\">output:</text>\n",
       "<polyline fill=\"none\" points=\"266.317,-405.5 266.317,-449.5 \" stroke=\"black\"/>\n",
       "<text font-family=\"Times,serif\" font-size=\"14.00\" text-anchor=\"middle\" x=\"301.142\" y=\"-434.3\">(None, 8)</text>\n",
       "<polyline fill=\"none\" points=\"266.317,-427.5 335.966,-427.5 \" stroke=\"black\"/>\n",
       "<text font-family=\"Times,serif\" font-size=\"14.00\" text-anchor=\"middle\" x=\"301.142\" y=\"-412.3\">(None, 8)</text>\n",
       "</g>\n",
       "<!-- 112308383416&#45;&gt;112308313840 -->\n",
       "<g class=\"edge\" id=\"edge5\"><title>112308383416-&gt;112308313840</title>\n",
       "<path d=\"M196.329,-486.329C198.205,-478.094 200.393,-468.493 202.44,-459.507\" fill=\"none\" stroke=\"black\"/>\n",
       "<polygon fill=\"black\" points=\"205.859,-460.257 204.668,-449.729 199.034,-458.702 205.859,-460.257\" stroke=\"black\"/>\n",
       "</g>\n",
       "<!-- 112310320768 -->\n",
       "<g class=\"node\" id=\"node8\"><title>112310320768</title>\n",
       "<polygon fill=\"none\" points=\"363.045,-405.5 363.045,-449.5 615.966,-449.5 615.966,-405.5 363.045,-405.5\" stroke=\"black\"/>\n",
       "<text font-family=\"Times,serif\" font-size=\"14.00\" text-anchor=\"middle\" x=\"426.847\" y=\"-423.3\">dropout_2: Dropout</text>\n",
       "<polyline fill=\"none\" points=\"490.648,-405.5 490.648,-449.5 \" stroke=\"black\"/>\n",
       "<text font-family=\"Times,serif\" font-size=\"14.00\" text-anchor=\"middle\" x=\"518.483\" y=\"-434.3\">input:</text>\n",
       "<polyline fill=\"none\" points=\"490.648,-427.5 546.317,-427.5 \" stroke=\"black\"/>\n",
       "<text font-family=\"Times,serif\" font-size=\"14.00\" text-anchor=\"middle\" x=\"518.483\" y=\"-412.3\">output:</text>\n",
       "<polyline fill=\"none\" points=\"546.317,-405.5 546.317,-449.5 \" stroke=\"black\"/>\n",
       "<text font-family=\"Times,serif\" font-size=\"14.00\" text-anchor=\"middle\" x=\"581.142\" y=\"-434.3\">(None, 5)</text>\n",
       "<polyline fill=\"none\" points=\"546.317,-427.5 615.966,-427.5 \" stroke=\"black\"/>\n",
       "<text font-family=\"Times,serif\" font-size=\"14.00\" text-anchor=\"middle\" x=\"581.142\" y=\"-412.3\">(None, 5)</text>\n",
       "</g>\n",
       "<!-- 112307982232&#45;&gt;112310320768 -->\n",
       "<g class=\"edge\" id=\"edge6\"><title>112307982232-&gt;112310320768</title>\n",
       "<path d=\"M496.826,-486.329C495.794,-478.183 494.594,-468.699 493.467,-459.797\" fill=\"none\" stroke=\"black\"/>\n",
       "<polygon fill=\"black\" points=\"496.921,-459.21 492.193,-449.729 489.976,-460.089 496.921,-459.21\" stroke=\"black\"/>\n",
       "</g>\n",
       "<!-- 4659651360 -->\n",
       "<g class=\"node\" id=\"node9\"><title>4659651360</title>\n",
       "<polygon fill=\"none\" points=\"202.192,-324.5 202.192,-368.5 496.819,-368.5 496.819,-324.5 202.192,-324.5\" stroke=\"black\"/>\n",
       "<text font-family=\"Times,serif\" font-size=\"14.00\" text-anchor=\"middle\" x=\"251.86\" y=\"-342.3\">Concat: Merge</text>\n",
       "<polyline fill=\"none\" points=\"301.529,-324.5 301.529,-368.5 \" stroke=\"black\"/>\n",
       "<text font-family=\"Times,serif\" font-size=\"14.00\" text-anchor=\"middle\" x=\"329.363\" y=\"-353.3\">input:</text>\n",
       "<polyline fill=\"none\" points=\"301.529,-346.5 357.198,-346.5 \" stroke=\"black\"/>\n",
       "<text font-family=\"Times,serif\" font-size=\"14.00\" text-anchor=\"middle\" x=\"329.363\" y=\"-331.3\">output:</text>\n",
       "<polyline fill=\"none\" points=\"357.198,-324.5 357.198,-368.5 \" stroke=\"black\"/>\n",
       "<text font-family=\"Times,serif\" font-size=\"14.00\" text-anchor=\"middle\" x=\"427.008\" y=\"-353.3\">[(None, 8), (None, 5)]</text>\n",
       "<polyline fill=\"none\" points=\"357.198,-346.5 496.819,-346.5 \" stroke=\"black\"/>\n",
       "<text font-family=\"Times,serif\" font-size=\"14.00\" text-anchor=\"middle\" x=\"426.522\" y=\"-331.3\">(None, 13)</text>\n",
       "</g>\n",
       "<!-- 112308313840&#45;&gt;4659651360 -->\n",
       "<g class=\"edge\" id=\"edge7\"><title>112308313840-&gt;4659651360</title>\n",
       "<path d=\"M247.023,-405.329C264.285,-395.589 284.933,-383.937 303.158,-373.653\" fill=\"none\" stroke=\"black\"/>\n",
       "<polygon fill=\"black\" points=\"304.895,-376.692 311.884,-368.729 301.455,-370.595 304.895,-376.692\" stroke=\"black\"/>\n",
       "</g>\n",
       "<!-- 112310320768&#45;&gt;4659651360 -->\n",
       "<g class=\"edge\" id=\"edge8\"><title>112310320768-&gt;4659651360</title>\n",
       "<path d=\"M451.988,-405.329C434.726,-395.589 414.077,-383.937 395.853,-373.653\" fill=\"none\" stroke=\"black\"/>\n",
       "<polygon fill=\"black\" points=\"397.556,-370.595 387.126,-368.729 394.115,-376.692 397.556,-370.595\" stroke=\"black\"/>\n",
       "</g>\n",
       "<!-- 112308749368 -->\n",
       "<g class=\"node\" id=\"node10\"><title>112308749368</title>\n",
       "<polygon fill=\"none\" points=\"200.11,-243.5 200.11,-287.5 498.9,-287.5 498.9,-243.5 200.11,-243.5\" stroke=\"black\"/>\n",
       "<text font-family=\"Times,serif\" font-size=\"14.00\" text-anchor=\"middle\" x=\"279.847\" y=\"-261.3\">FullyConnected-1: Dense</text>\n",
       "<polyline fill=\"none\" points=\"359.583,-243.5 359.583,-287.5 \" stroke=\"black\"/>\n",
       "<text font-family=\"Times,serif\" font-size=\"14.00\" text-anchor=\"middle\" x=\"387.417\" y=\"-272.3\">input:</text>\n",
       "<polyline fill=\"none\" points=\"359.583,-265.5 415.252,-265.5 \" stroke=\"black\"/>\n",
       "<text font-family=\"Times,serif\" font-size=\"14.00\" text-anchor=\"middle\" x=\"387.417\" y=\"-250.3\">output:</text>\n",
       "<polyline fill=\"none\" points=\"415.252,-243.5 415.252,-287.5 \" stroke=\"black\"/>\n",
       "<text font-family=\"Times,serif\" font-size=\"14.00\" text-anchor=\"middle\" x=\"457.076\" y=\"-272.3\">(None, 13)</text>\n",
       "<polyline fill=\"none\" points=\"415.252,-265.5 498.9,-265.5 \" stroke=\"black\"/>\n",
       "<text font-family=\"Times,serif\" font-size=\"14.00\" text-anchor=\"middle\" x=\"457.076\" y=\"-250.3\">(None, 100)</text>\n",
       "</g>\n",
       "<!-- 4659651360&#45;&gt;112308749368 -->\n",
       "<g class=\"edge\" id=\"edge9\"><title>4659651360-&gt;112308749368</title>\n",
       "<path d=\"M349.505,-324.329C349.505,-316.183 349.505,-306.699 349.505,-297.797\" fill=\"none\" stroke=\"black\"/>\n",
       "<polygon fill=\"black\" points=\"353.005,-297.729 349.505,-287.729 346.005,-297.729 353.005,-297.729\" stroke=\"black\"/>\n",
       "</g>\n",
       "<!-- 112310118104 -->\n",
       "<g class=\"node\" id=\"node11\"><title>112310118104</title>\n",
       "<polygon fill=\"none\" points=\"200.11,-162.5 200.11,-206.5 498.9,-206.5 498.9,-162.5 200.11,-162.5\" stroke=\"black\"/>\n",
       "<text font-family=\"Times,serif\" font-size=\"14.00\" text-anchor=\"middle\" x=\"279.847\" y=\"-180.3\">FullyConnected-2: Dense</text>\n",
       "<polyline fill=\"none\" points=\"359.583,-162.5 359.583,-206.5 \" stroke=\"black\"/>\n",
       "<text font-family=\"Times,serif\" font-size=\"14.00\" text-anchor=\"middle\" x=\"387.417\" y=\"-191.3\">input:</text>\n",
       "<polyline fill=\"none\" points=\"359.583,-184.5 415.252,-184.5 \" stroke=\"black\"/>\n",
       "<text font-family=\"Times,serif\" font-size=\"14.00\" text-anchor=\"middle\" x=\"387.417\" y=\"-169.3\">output:</text>\n",
       "<polyline fill=\"none\" points=\"415.252,-162.5 415.252,-206.5 \" stroke=\"black\"/>\n",
       "<text font-family=\"Times,serif\" font-size=\"14.00\" text-anchor=\"middle\" x=\"457.076\" y=\"-191.3\">(None, 100)</text>\n",
       "<polyline fill=\"none\" points=\"415.252,-184.5 498.9,-184.5 \" stroke=\"black\"/>\n",
       "<text font-family=\"Times,serif\" font-size=\"14.00\" text-anchor=\"middle\" x=\"457.076\" y=\"-169.3\">(None, 50)</text>\n",
       "</g>\n",
       "<!-- 112308749368&#45;&gt;112310118104 -->\n",
       "<g class=\"edge\" id=\"edge10\"><title>112308749368-&gt;112310118104</title>\n",
       "<path d=\"M349.505,-243.329C349.505,-235.183 349.505,-225.699 349.505,-216.797\" fill=\"none\" stroke=\"black\"/>\n",
       "<polygon fill=\"black\" points=\"353.005,-216.729 349.505,-206.729 346.005,-216.729 353.005,-216.729\" stroke=\"black\"/>\n",
       "</g>\n",
       "<!-- 4653345424 -->\n",
       "<g class=\"node\" id=\"node12\"><title>4653345424</title>\n",
       "<polygon fill=\"none\" points=\"203.61,-81.5 203.61,-125.5 495.4,-125.5 495.4,-81.5 203.61,-81.5\" stroke=\"black\"/>\n",
       "<text font-family=\"Times,serif\" font-size=\"14.00\" text-anchor=\"middle\" x=\"283.347\" y=\"-99.3\">FullyConnected-3: Dense</text>\n",
       "<polyline fill=\"none\" points=\"363.083,-81.5 363.083,-125.5 \" stroke=\"black\"/>\n",
       "<text font-family=\"Times,serif\" font-size=\"14.00\" text-anchor=\"middle\" x=\"390.917\" y=\"-110.3\">input:</text>\n",
       "<polyline fill=\"none\" points=\"363.083,-103.5 418.752,-103.5 \" stroke=\"black\"/>\n",
       "<text font-family=\"Times,serif\" font-size=\"14.00\" text-anchor=\"middle\" x=\"390.917\" y=\"-88.3\">output:</text>\n",
       "<polyline fill=\"none\" points=\"418.752,-81.5 418.752,-125.5 \" stroke=\"black\"/>\n",
       "<text font-family=\"Times,serif\" font-size=\"14.00\" text-anchor=\"middle\" x=\"457.076\" y=\"-110.3\">(None, 50)</text>\n",
       "<polyline fill=\"none\" points=\"418.752,-103.5 495.4,-103.5 \" stroke=\"black\"/>\n",
       "<text font-family=\"Times,serif\" font-size=\"14.00\" text-anchor=\"middle\" x=\"457.076\" y=\"-88.3\">(None, 20)</text>\n",
       "</g>\n",
       "<!-- 112310118104&#45;&gt;4653345424 -->\n",
       "<g class=\"edge\" id=\"edge11\"><title>112310118104-&gt;4653345424</title>\n",
       "<path d=\"M349.505,-162.329C349.505,-154.183 349.505,-144.699 349.505,-135.797\" fill=\"none\" stroke=\"black\"/>\n",
       "<polygon fill=\"black\" points=\"353.005,-135.729 349.505,-125.729 346.005,-135.729 353.005,-135.729\" stroke=\"black\"/>\n",
       "</g>\n",
       "<!-- 4653179904 -->\n",
       "<g class=\"node\" id=\"node13\"><title>4653179904</title>\n",
       "<polygon fill=\"none\" points=\"224.61,-0.5 224.61,-44.5 474.4,-44.5 474.4,-0.5 224.61,-0.5\" stroke=\"black\"/>\n",
       "<text font-family=\"Times,serif\" font-size=\"14.00\" text-anchor=\"middle\" x=\"283.347\" y=\"-18.3\">Activation: Dense</text>\n",
       "<polyline fill=\"none\" points=\"342.083,-0.5 342.083,-44.5 \" stroke=\"black\"/>\n",
       "<text font-family=\"Times,serif\" font-size=\"14.00\" text-anchor=\"middle\" x=\"369.917\" y=\"-29.3\">input:</text>\n",
       "<polyline fill=\"none\" points=\"342.083,-22.5 397.752,-22.5 \" stroke=\"black\"/>\n",
       "<text font-family=\"Times,serif\" font-size=\"14.00\" text-anchor=\"middle\" x=\"369.917\" y=\"-7.3\">output:</text>\n",
       "<polyline fill=\"none\" points=\"397.752,-0.5 397.752,-44.5 \" stroke=\"black\"/>\n",
       "<text font-family=\"Times,serif\" font-size=\"14.00\" text-anchor=\"middle\" x=\"436.076\" y=\"-29.3\">(None, 20)</text>\n",
       "<polyline fill=\"none\" points=\"397.752,-22.5 474.4,-22.5 \" stroke=\"black\"/>\n",
       "<text font-family=\"Times,serif\" font-size=\"14.00\" text-anchor=\"middle\" x=\"436.076\" y=\"-7.3\">(None, 1)</text>\n",
       "</g>\n",
       "<!-- 4653345424&#45;&gt;4653179904 -->\n",
       "<g class=\"edge\" id=\"edge12\"><title>4653345424-&gt;4653179904</title>\n",
       "<path d=\"M349.505,-81.3294C349.505,-73.1826 349.505,-63.6991 349.505,-54.7971\" fill=\"none\" stroke=\"black\"/>\n",
       "<polygon fill=\"black\" points=\"353.005,-54.729 349.505,-44.729 346.005,-54.729 353.005,-54.729\" stroke=\"black\"/>\n",
       "</g>\n",
       "</g>\n",
       "</svg>"
      ],
      "text/plain": [
       "<IPython.core.display.SVG object>"
      ]
     },
     "execution_count": 24,
     "metadata": {},
     "output_type": "execute_result"
    }
   ],
   "source": [
    "SVG(model_to_dot(model,  show_shapes=True, show_layer_names=True, rankdir='HB').create(prog='dot', format='svg'))"
   ]
  },
  {
   "cell_type": "markdown",
   "metadata": {},
   "source": [
    "It should be noted that we use a different number of embeddings for user (3) and items (5)! These combine to form a vector of length (5+3 = 8), which is then fed into the neural network. We also add a dropout layer to prevent overfitting!"
   ]
  },
  {
   "cell_type": "code",
   "execution_count": 25,
   "metadata": {},
   "outputs": [
    {
     "name": "stdout",
     "output_type": "stream",
     "text": [
      "__________________________________________________________________________________________________\n",
      "Layer (type)                    Output Shape         Param #     Connected to                     \n",
      "==================================================================================================\n",
      "Item (InputLayer)               (None, 1)            0                                            \n",
      "__________________________________________________________________________________________________\n",
      "User (InputLayer)               (None, 1)            0                                            \n",
      "__________________________________________________________________________________________________\n",
      "Movie-Embedding (Embedding)     (None, 1, 8)         13464       Item[0][0]                       \n",
      "__________________________________________________________________________________________________\n",
      "User-Embedding (Embedding)      (None, 1, 5)         4720        User[0][0]                       \n",
      "__________________________________________________________________________________________________\n",
      "FlattenMovies (Flatten)         (None, 8)            0           Movie-Embedding[0][0]            \n",
      "__________________________________________________________________________________________________\n",
      "FlattenUsers (Flatten)          (None, 5)            0           User-Embedding[0][0]             \n",
      "__________________________________________________________________________________________________\n",
      "dropout_1 (Dropout)             (None, 8)            0           FlattenMovies[0][0]              \n",
      "__________________________________________________________________________________________________\n",
      "dropout_2 (Dropout)             (None, 5)            0           FlattenUsers[0][0]               \n",
      "__________________________________________________________________________________________________\n",
      "Concat (Merge)                  (None, 13)           0           dropout_1[0][0]                  \n",
      "                                                                 dropout_2[0][0]                  \n",
      "__________________________________________________________________________________________________\n",
      "FullyConnected-1 (Dense)        (None, 100)          1400        Concat[0][0]                     \n",
      "__________________________________________________________________________________________________\n",
      "FullyConnected-2 (Dense)        (None, 50)           5050        FullyConnected-1[0][0]           \n",
      "__________________________________________________________________________________________________\n",
      "FullyConnected-3 (Dense)        (None, 20)           1020        FullyConnected-2[0][0]           \n",
      "__________________________________________________________________________________________________\n",
      "Activation (Dense)              (None, 1)            21          FullyConnected-3[0][0]           \n",
      "==================================================================================================\n",
      "Total params: 25,675\n",
      "Trainable params: 25,675\n",
      "Non-trainable params: 0\n",
      "__________________________________________________________________________________________________\n"
     ]
    }
   ],
   "source": [
    "model.summary()"
   ]
  },
  {
   "cell_type": "markdown",
   "metadata": {},
   "source": [
    "We can see that the number of parameters is more than what we had in the Matrix Factorisation case. Let's see how this model works. I'll run it for more epochs given that we have more parameters."
   ]
  },
  {
   "cell_type": "code",
   "execution_count": 26,
   "metadata": {},
   "outputs": [],
   "source": [
    "history = model.fit([train.user_id, train.item_id], train.rating, epochs=250, verbose=0)"
   ]
  },
  {
   "cell_type": "markdown",
   "metadata": {},
   "source": [
    "#### Prediction performance of Neural Network based recommender system"
   ]
  },
  {
   "cell_type": "code",
   "execution_count": 27,
   "metadata": {},
   "outputs": [
    {
     "name": "stdout",
     "output_type": "stream",
     "text": [
      "0.6957\n",
      "0.708807692927\n"
     ]
    }
   ],
   "source": [
    "y_hat_2 = np.round(model.predict([test.user_id, test.item_id]),0)\n",
    "print(mean_absolute_error(y_true, y_hat_2))\n",
    "\n",
    "print(mean_absolute_error(y_true, model.predict([test.user_id, test.item_id])))\n",
    "\n",
    "\n"
   ]
  },
  {
   "cell_type": "markdown",
   "metadata": {},
   "source": [
    "Pretty similar to the result we got using matrix factorisation. Maybe, we need to tweak around a lot more with the neural network to get better results?"
   ]
  },
  {
   "cell_type": "markdown",
   "metadata": {},
   "source": [
    "Thanks for reading. This post has been a good learning experience for me. Hope you enjoyed too! "
   ]
  }
 ],
 "metadata": {
  "kernelspec": {
   "display_name": "Python 3",
   "language": "python",
   "name": "python3"
  },
  "language_info": {
   "codemirror_mode": {
    "name": "ipython",
    "version": 3
   },
   "file_extension": ".py",
   "mimetype": "text/x-python",
   "name": "python",
   "nbconvert_exporter": "python",
   "pygments_lexer": "ipython3",
   "version": "3.7.4"
  }
 },
 "nbformat": 4,
 "nbformat_minor": 1
}
