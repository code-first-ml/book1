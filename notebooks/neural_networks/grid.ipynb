{
 "cells": [
  {
   "cell_type": "code",
   "execution_count": 1,
   "id": "a08a3ff0",
   "metadata": {},
   "outputs": [],
   "source": [
    "import jax\n",
    "import jax.numpy as jnp\n",
    "import numpy as np\n",
    "import matplotlib.pyplot as plt\n",
    "import tensorflow_probability.substrates.jax as tfp\n",
    "import seaborn as sns\n",
    "%matplotlib inline\n",
    "\n",
    "dist = tfp.distributions"
   ]
  },
  {
   "cell_type": "code",
   "execution_count": 2,
   "id": "0bd20033",
   "metadata": {},
   "outputs": [],
   "source": [
    "def prior_dist():\n",
    "    return dist.Beta(concentration1=1.0, concentration0=1.0)\n",
    "\n",
    "# likelihood distribution ~ Bernoulli\n",
    "def likelihood_dist(theta):\n",
    "    return dist.Bernoulli(probs=theta)"
   ]
  },
  {
   "cell_type": "code",
   "execution_count": 3,
   "id": "b37d9933",
   "metadata": {},
   "outputs": [
    {
     "name": "stderr",
     "output_type": "stream",
     "text": [
      "WARNING:absl:No GPU/TPU found, falling back to CPU. (Set TF_CPP_MIN_LOG_LEVEL=0 and rerun for more info.)\n"
     ]
    }
   ],
   "source": [
    "n_points_grid = 100\n",
    "theta_range = jnp.linspace(0.01, 0.99, n_points_grid)\n"
   ]
  },
  {
   "cell_type": "code",
   "execution_count": 4,
   "id": "f99d287a",
   "metadata": {},
   "outputs": [],
   "source": [
    "key = jax.random.PRNGKey(128)\n",
    "dataset = np.repeat([0, 1], (10, 1))\n",
    "\n",
    "n_samples = len(dataset)\n",
    "n_heads = dataset.sum()\n",
    "n_tails = n_samples - n_heads"
   ]
  },
  {
   "cell_type": "code",
   "execution_count": 5,
   "id": "829ada00",
   "metadata": {},
   "outputs": [],
   "source": [
    "likelihood = jax.vmap(lambda x: jnp.prod(likelihood_dist(x).prob(dataset)))(theta_range)"
   ]
  },
  {
   "cell_type": "code",
   "execution_count": 6,
   "id": "2aba85ba",
   "metadata": {},
   "outputs": [],
   "source": [
    "unnormalized_post = prior_dist().prob(theta_range)*likelihood\n",
    "grid_appx = (unnormalized_post/unnormalized_post.sum())*n_points_grid # Done so that the area under curve sums to 1"
   ]
  },
  {
   "cell_type": "code",
   "execution_count": 7,
   "id": "bebc3ea1",
   "metadata": {},
   "outputs": [],
   "source": [
    "a = prior_dist().concentration1\n",
    "b = prior_dist().concentration0\n",
    "\n",
    "exact_posterior = dist.Beta(concentration1=a + n_heads, concentration0=b + n_tails)"
   ]
  },
  {
   "cell_type": "code",
   "execution_count": 9,
   "id": "e98929ca",
   "metadata": {},
   "outputs": [
    {
     "data": {
      "image/png": "[encoded data removed]",
      "text/plain": [
       "<Figure size 432x288 with 1 Axes>"
      ]
     },
     "metadata": {
      "needs_background": "light"
     },
     "output_type": "display_data"
    }
   ],
   "source": [
    "plt.plot(theta_range, exact_posterior.prob(theta_range), label='True Posterior', lw = 3)\n",
    "plt.plot(theta_range, grid_appx, label='Grid approx.', linestyle='--', lw=5)\n",
    "plt.legend()\n",
    "sns.despine()"
   ]
  }
 ],
 "metadata": {
  "kernelspec": {
   "display_name": "Python 3 (ipykernel)",
   "language": "python",
   "name": "python3"
  },
  "language_info": {
   "codemirror_mode": {
    "name": "ipython",
    "version": 3
   },
   "file_extension": ".py",
   "mimetype": "text/x-python",
   "name": "python",
   "nbconvert_exporter": "python",
   "pygments_lexer": "ipython3",
   "version": "3.9.13"
  }
 },
 "nbformat": 4,
 "nbformat_minor": 5
}
