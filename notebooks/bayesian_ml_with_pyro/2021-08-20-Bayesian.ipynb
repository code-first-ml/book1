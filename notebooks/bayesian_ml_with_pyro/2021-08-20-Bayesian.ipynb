{
 "cells": [
  {
   "cell_type": "markdown",
   "id": "c96d1454",
   "metadata": {},
   "source": [
    "# Probabilistic Programming in Pyro\n",
    "\n",
    "- toc: true \n",
    "- badges: true\n",
    "- comments: true\n",
    "- author: Nipun Batra\n",
    "- categories: [ML]"
   ]
  },
  {
   "cell_type": "markdown",
   "id": "cd255271",
   "metadata": {},
   "source": [
    "## Introduction\n",
    "\n",
    "In this post, I will look at a simple application:\n",
    "\n",
    "Is the number of COVID cases changing over time? \n",
    "\n",
    "![](cases-raw.png)\n",
    "\n",
    "I will not be using real data and this post will be purely educational in nature.\n",
    "\n",
    "The main aim of this post is to review some distributions and concepts in probabilistic programming.\n",
    "\n",
    "The post is heavily inspired (copied and modified) by the excellent book called [Bayesian Methods for Hackers](https://camdavidsonpilon.github.io/Probabilistic-Programming-and-Bayesian-Methods-for-Hackers/) (BMH). I am also borrowing a small subset of code from a [forked repository](https://github.com/ucals/Probabilistic-Programming-and-Bayesian-Methods-for-Hackers) for BMF containing some code in Pyro.\n",
    "\n",
    "Eventually, we should be able to learn something like the following image, where we detect the changepoint and also the values before and after the change.\n",
    "\n",
    "![](cases-annotated.png)\n"
   ]
  },
  {
   "cell_type": "code",
   "execution_count": 2,
   "id": "ac15dd6c",
   "metadata": {},
   "outputs": [],
   "source": [
    "import torch\n",
    "import pyro\n",
    "import numpy as np\n",
    "\n",
    "pyro.set_rng_seed(101)\n",
    "import matplotlib.pyplot as plt\n",
    "import pandas as pd\n",
    "from pyro.infer import MCMC, NUTS, HMC\n",
    "import pyro.distributions as dist\n",
    "plt.style.use('seaborn-colorblind')\n"
   ]
  },
  {
   "cell_type": "markdown",
   "id": "5620c383",
   "metadata": {},
   "source": [
    "## Distributions in Pyro\n",
    "\n",
    "We will first look at some distributions in Pyro to understand the task better.\n",
    "\n",
    "We first start with the unfirom distribution between 0 and 100 and generate 1000 samples. "
   ]
  },
  {
   "cell_type": "code",
   "execution_count": 20,
   "id": "d2554e37",
   "metadata": {},
   "outputs": [],
   "source": [
    "u = torch.distributions.Uniform(0, 100)"
   ]
  },
  {
   "cell_type": "code",
   "execution_count": 26,
   "id": "5106ebe6",
   "metadata": {},
   "outputs": [
    {
     "data": {
      "text/plain": [
       "Text(0.5, 0, 'z')"
      ]
     },
     "execution_count": 26,
     "metadata": {},
     "output_type": "execute_result"
    },
    {
     "data": {
      "image/png": "[encoded data removed]",
      "text/plain": [
       "<Figure size 432x288 with 1 Axes>"
      ]
     },
     "metadata": {
      "needs_background": "light"
     },
     "output_type": "display_data"
    }
   ],
   "source": [
    "n=1000\n",
    "s = pd.Series(u.sample((n, )))\n",
    "s.hist(density=True, grid=False, bins=10 )\n",
    "plt.ylabel(\"PDF at z\")\n",
    "plt.xlabel(\"z\")\n",
    "plt.title(\"Uniform Distribution\")"
   ]
  },
  {
   "cell_type": "markdown",
   "id": "817648dd",
   "metadata": {},
   "source": [
    "As expected, all values in \\[0, 100\\] are equally likely. \n",
    "\n",
    "We next look at the Categorical distribution which is a discrete distribution. Using it, we can create a discrete uniform distribution over \\[0, 10\\]."
   ]
  },
  {
   "cell_type": "code",
   "execution_count": 27,
   "id": "236d9f19",
   "metadata": {},
   "outputs": [],
   "source": [
    "du = torch.distributions.Categorical(torch.tensor([1./n for _ in range(10)]))"
   ]
  },
  {
   "cell_type": "code",
   "execution_count": 28,
   "id": "775d3176",
   "metadata": {},
   "outputs": [],
   "source": [
    "n = 1000\n",
    "du_samples = du.sample((n, ))"
   ]
  },
  {
   "cell_type": "code",
   "execution_count": 30,
   "id": "fda38196",
   "metadata": {},
   "outputs": [
    {
     "data": {
      "text/plain": [
       "Text(0.5, 1.0, 'Discrete Uniform Distribution')"
      ]
     },
     "execution_count": 30,
     "metadata": {},
     "output_type": "execute_result"
    },
    {
     "data": {
      "image/png": "[encoded data removed]",
      "text/plain": [
       "<Figure size 432x288 with 1 Axes>"
      ]
     },
     "metadata": {
      "needs_background": "light"
     },
     "output_type": "display_data"
    }
   ],
   "source": [
    "du_series = pd.Series(du_samples).value_counts().sort_index()\n",
    "du_prop = du_series/n\n",
    "du_prop.plot(kind='bar',rot=0, color='green')\n",
    "plt.ylabel(\"PMF at k\")\n",
    "plt.xlabel(\"k\")\n",
    "plt.title(\"Discrete Uniform Distribution\")"
   ]
  },
  {
   "cell_type": "markdown",
   "id": "fbea292c",
   "metadata": {},
   "source": [
    "We next look at the exponential distribution. It is controlled by a parameter $\\lambda$ with the expected value of the random variable being $\\dfrac{1}{\\lambda}$"
   ]
  },
  {
   "cell_type": "code",
   "execution_count": 40,
   "id": "3c164920",
   "metadata": {},
   "outputs": [
    {
     "data": {
      "text/plain": [
       "<matplotlib.legend.Legend at 0x7fe461b45850>"
      ]
     },
     "execution_count": 40,
     "metadata": {},
     "output_type": "execute_result"
    },
    {
     "data": {
      "image/png": "[encoded data removed]",
      "text/plain": [
       "<Figure size 432x288 with 1 Axes>"
      ]
     },
     "metadata": {
      "needs_background": "light"
     },
     "output_type": "display_data"
    }
   ],
   "source": [
    "exp1 = torch.distributions.Exponential(1)\n",
    "exp2 = torch.distributions.Exponential(5)\n",
    "\n",
    "\n",
    "s1 = pd.Series(exp1.sample((5000, )))\n",
    "s2 = pd.Series(exp2.sample((5000, )))\n",
    "\n",
    "\n",
    "s1.hist(density=True, alpha=0.3, bins=20, color='g', label=r'$\\lambda = 1$')\n",
    "s2.hist(density=True, alpha=0.6, bins=20, color='orange',label=r'$\\lambda = 5$')\n",
    "plt.xlim((0, 5))\n",
    "\n",
    "plt.ylabel(\"PDF at z\")\n",
    "plt.xlabel(\"z\")\n",
    "plt.title(\"Exponential distribution\")\n",
    "plt.legend()"
   ]
  },
  {
   "cell_type": "markdown",
   "id": "49b124eb",
   "metadata": {},
   "source": [
    "We finally look at the Poisson distribution. It is controlled by a parameter $\\lambda$ with the expected value of the random variable being ${\\lambda}$. Poisson is a discrete distribution often used for modelling count data.  "
   ]
  },
  {
   "cell_type": "code",
   "execution_count": 60,
   "id": "75960cfc",
   "metadata": {},
   "outputs": [
    {
     "data": {
      "text/plain": [
       "Text(0.5, 1.0, 'Poisson Distribution')"
      ]
     },
     "execution_count": 60,
     "metadata": {},
     "output_type": "execute_result"
    },
    {
     "data": {
      "image/png": "[encoded data removed]",
      "text/plain": [
       "<Figure size 432x288 with 1 Axes>"
      ]
     },
     "metadata": {
      "needs_background": "light"
     },
     "output_type": "display_data"
    }
   ],
   "source": [
    "p1 = torch.distributions.Poisson(4)\n",
    "p2 = torch.distributions.Poisson(8)\n",
    "\n",
    "\n",
    "s1 = pd.Series(p1.sample((5000, )))\n",
    "s2 = pd.Series(p2.sample((5000, )))\n",
    "\n",
    "s1 = s1.astype('int').value_counts().sort_index()\n",
    "s1 = s1/5000\n",
    "\n",
    "s2 = s2.astype('int').value_counts().sort_index()\n",
    "s2 = s2/5000\n",
    "\n",
    "s1.plot.bar(color='g', alpha=0.5, label=r'$\\lambda = 4$', rot=0)\n",
    "s2.plot.bar(color='orange', alpha=0.3, label=r'$\\lambda = 8$', rot=0)\n",
    "\n",
    "plt.legend()\n",
    "plt.ylabel(\"PMF at k\")\n",
    "plt.xlabel(\"k\")\n",
    "plt.title(\"Poisson Distribution\")"
   ]
  },
  {
   "cell_type": "markdown",
   "id": "7ebd71aa",
   "metadata": {},
   "source": [
    "## Creating the dataset\n",
    "\n",
    "We will be creating the dataset for daily COVID count with\n",
    "\n",
    "- Before day number 30, the cases are Poisson distributed with mean of 30\n",
    "- After day number 30, the cases are Poisson distributed with mean of 40\n",
    "- We have data for a total of 50 days"
   ]
  },
  {
   "cell_type": "code",
   "execution_count": 105,
   "id": "98ed616f",
   "metadata": {},
   "outputs": [],
   "source": [
    "gt_tau = 30\n",
    "gt_lambda_1 = 30\n",
    "gt_lambda_2 = 40\n",
    "\n",
    "def sample(day):\n",
    "    if day < gt_tau:\n",
    "        l = gt_lambda_1\n",
    "    else:\n",
    "        l = gt_lambda_2\n",
    "    \n",
    "    return torch.distributions.Poisson(l).sample()"
   ]
  },
  {
   "cell_type": "code",
   "execution_count": 106,
   "id": "a71d166f",
   "metadata": {},
   "outputs": [],
   "source": [
    "data = np.array([sample(day) for day in range(50)])"
   ]
  },
  {
   "cell_type": "code",
   "execution_count": 116,
   "id": "a8a29bfd",
   "metadata": {},
   "outputs": [
    {
     "data": {
      "image/png": "[encoded data removed]",
      "text/plain": [
       "<Figure size 432x288 with 1 Axes>"
      ]
     },
     "metadata": {
      "needs_background": "light"
     },
     "output_type": "display_data"
    }
   ],
   "source": [
    "plt.bar(range(50), data, color='orange')\n",
    "plt.xlabel(\"Day\")\n",
    "plt.ylabel(\"Number of daily cases\")\n",
    "plt.savefig(\"cases-raw.png\")"
   ]
  },
  {
   "cell_type": "code",
   "execution_count": 132,
   "id": "c06dd4c8",
   "metadata": {},
   "outputs": [
    {
     "data": {
      "image/png": "[encoded data removed]",
      "text/plain": [
       "<Figure size 432x288 with 1 Axes>"
      ]
     },
     "metadata": {
      "needs_background": "light"
     },
     "output_type": "display_data"
    }
   ],
   "source": [
    "plt.bar(range(50), data, color='orange')\n",
    "plt.xlabel(\"Day\")\n",
    "plt.ylabel(\"Number of daily cases\")\n",
    "plt.axhline(30, 0, 30/50, label='Before changepoint', lw=3, color='green')\n",
    "plt.axhline(40, 30/50, 1, label='After changepoint', lw=3, color='red')\n",
    "plt.axvline(30, label='Changepoint', lw=5, color='black', alpha=0.8, linestyle='--')\n",
    "\n",
    "\n",
    "plt.legend()\n",
    "plt.savefig(\"cases-annotated.png\")"
   ]
  },
  {
   "cell_type": "markdown",
   "id": "cb2aa8e2",
   "metadata": {},
   "source": [
    "## Modelling\n",
    "\n",
    "We will now assume that we received the data and need to create a model.\n",
    "\n",
    "We choose the following model\n",
    "\n",
    "$$C_{i} \\sim \\operatorname{Poisson}(\\lambda)$$\n",
    "\n",
    "$$\\lambda= \\begin{cases}\\lambda_{1} & \\text { if } t<\\tau \\\\ \\lambda_{2} & \\text { if } t \\geq \\tau\\end{cases}$$\n",
    "\n",
    "$$\\begin{aligned}\n",
    "&\\lambda_{1} \\sim \\operatorname{Exp}(\\alpha) \\\\\n",
    "&\\lambda_{2} \\sim \\operatorname{Exp}(\\alpha)\n",
    "\\end{aligned}\n",
    "$$"
   ]
  },
  {
   "cell_type": "code",
   "execution_count": 110,
   "id": "685c9019",
   "metadata": {},
   "outputs": [],
   "source": [
    "def model(data):\n",
    "    alpha = 1.0 / data.mean()\n",
    "    lambda_1 = pyro.sample(\"lambda_1\", dist.Exponential(alpha))\n",
    "    lambda_2 = pyro.sample(\"lambda_2\", dist.Exponential(alpha))\n",
    "    \n",
    "    tau = pyro.sample(\"tau\", dist.Uniform(0, 1))\n",
    "    lambda1_size = (tau * data.size(0) + 1).long()\n",
    "    lambda2_size = data.size(0) - lambda1_size\n",
    "    lambda_ = torch.cat([lambda_1.expand((lambda1_size,)),\n",
    "                         lambda_2.expand((lambda2_size,))])\n",
    "\n",
    "    with pyro.plate(\"data\", data.size(0)):\n",
    "        pyro.sample(\"obs\",dist.Poisson(lambda_), obs=data)"
   ]
  },
  {
   "cell_type": "markdown",
   "id": "86216131",
   "metadata": {},
   "source": [
    "## Inference button"
   ]
  },
  {
   "cell_type": "code",
   "execution_count": 112,
   "id": "f31c9201",
   "metadata": {},
   "outputs": [
    {
     "name": "stderr",
     "output_type": "stream",
     "text": [
      "Sample: 100%|██████████| 7000/7000 [00:33, 210.22it/s, step size=1.06e-02, acc. prob=0.963]\n"
     ]
    }
   ],
   "source": [
    "kernel = NUTS(model, jit_compile=True, ignore_jit_warnings=True, max_tree_depth=3)\n",
    "posterior = MCMC(kernel, num_samples=5000, warmup_steps=2000)\n",
    "posterior.run(torch.from_numpy(data));"
   ]
  },
  {
   "cell_type": "markdown",
   "id": "d79afabb",
   "metadata": {},
   "source": [
    "## Obtaining and plotting the posteriors"
   ]
  },
  {
   "cell_type": "code",
   "execution_count": 113,
   "id": "5fe86f90",
   "metadata": {},
   "outputs": [],
   "source": [
    "hmc_samples = {k: v.detach().cpu().numpy() for k, v in posterior.get_samples().items()}\n",
    "lambda_1_samples = hmc_samples['lambda_1']\n",
    "lambda_2_samples = hmc_samples['lambda_2']\n",
    "tau_samples = (hmc_samples['tau'] * torch.from_numpy(data).size(0) + 1).astype(int)"
   ]
  },
  {
   "cell_type": "code",
   "execution_count": 139,
   "id": "2ddc607b",
   "metadata": {},
   "outputs": [
    {
     "data": {
      "text/plain": [
       "Text(0.5, 1.0, '$\\\\lambda_2$')"
      ]
     },
     "execution_count": 139,
     "metadata": {},
     "output_type": "execute_result"
    },
    {
     "data": {
      "image/png": "[encoded data removed]",
      "text/plain": [
       "<Figure size 432x288 with 2 Axes>"
      ]
     },
     "metadata": {
      "needs_background": "light"
     },
     "output_type": "display_data"
    }
   ],
   "source": [
    "fig, ax  = plt.subplots(nrows=2, sharex=True)\n",
    "ax[0].hist(lambda_1_samples, density=True)\n",
    "ax[1].hist(lambda_2_samples, density=True)\n",
    "plt.suptitle(r\"Posterior distribution for $\\lambda$\")\n",
    "ax[0].set_title(r\"$\\lambda_1$\")\n",
    "ax[1].set_title(r\"$\\lambda_2$\")"
   ]
  },
  {
   "cell_type": "code",
   "execution_count": 144,
   "id": "99d6351f",
   "metadata": {},
   "outputs": [
    {
     "data": {
      "text/plain": [
       "Text(0, 0.5, '$P(\\\\tau=k)$')"
      ]
     },
     "execution_count": 144,
     "metadata": {},
     "output_type": "execute_result"
    },
    {
     "data": {
      "image/png": "[encoded data removed]",
      "text/plain": [
       "<Figure size 432x288 with 1 Axes>"
      ]
     },
     "metadata": {
      "needs_background": "light"
     },
     "output_type": "display_data"
    }
   ],
   "source": [
    "(pd.Series(tau_samples).value_counts()/5000).sort_index().plot(kind='bar',rot=0)\n",
    "plt.suptitle(r\"Posterior distribution for $\\tau$\")\n",
    "plt.xlabel(r\"$\\tau=k$\")\n",
    "plt.ylabel(r\"$P(\\tau=k)$\")"
   ]
  },
  {
   "cell_type": "code",
   "execution_count": null,
   "id": "7c469bc4",
   "metadata": {},
   "outputs": [],
   "source": [
    "It seems from our posterior that we have obtained a fairly good estimate our simulation parameters."
   ]
  }
 ],
 "metadata": {
  "kernelspec": {
   "display_name": "Python 3",
   "language": "python",
   "name": "python3"
  },
  "language_info": {
   "codemirror_mode": {
    "name": "ipython",
    "version": 3
   },
   "file_extension": ".py",
   "mimetype": "text/x-python",
   "name": "python",
   "nbconvert_exporter": "python",
   "pygments_lexer": "ipython3",
   "version": "3.8.8"
  }
 },
 "nbformat": 4,
 "nbformat_minor": 5
}
