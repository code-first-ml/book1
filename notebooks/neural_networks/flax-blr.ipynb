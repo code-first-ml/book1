{
 "cells": [
  {
   "cell_type": "code",
   "execution_count": 133,
   "id": "fd23252b",
   "metadata": {},
   "outputs": [],
   "source": [
    "import jax\n",
    "import jax.numpy as jnp  # JAX NumPy\n",
    "import jax.random as random\n",
    "\n",
    "from flax import linen as nn  # The Linen API\n",
    "\n",
    "import numpy as np  # Ordinary NumPy\n",
    "import optax  # Optimizers\n",
    "import matplotlib.pyplot as plt\n",
    "\n",
    "import blackjax\n",
    "\n",
    "%matplotlib inline"
   ]
  },
  {
   "cell_type": "code",
   "execution_count": 36,
   "id": "22605baa",
   "metadata": {},
   "outputs": [],
   "source": [
    "model = nn.Dense(features=1)"
   ]
  },
  {
   "cell_type": "code",
   "execution_count": 37,
   "id": "5e76a4d3",
   "metadata": {},
   "outputs": [
    {
     "data": {
      "text/plain": [
       "Dense(\n",
       "    # attributes\n",
       "    features = 1\n",
       "    use_bias = True\n",
       "    dtype = None\n",
       "    param_dtype = float32\n",
       "    precision = None\n",
       "    kernel_init = init\n",
       "    bias_init = zeros\n",
       ")"
      ]
     },
     "execution_count": 37,
     "metadata": {},
     "output_type": "execute_result"
    }
   ],
   "source": [
    "model"
   ]
  },
  {
   "cell_type": "code",
   "execution_count": 38,
   "id": "45ed3021",
   "metadata": {},
   "outputs": [
    {
     "data": {
      "text/plain": [
       "FrozenDict({\n",
       "    params: {\n",
       "        bias: (1,),\n",
       "        kernel: (1, 1),\n",
       "    },\n",
       "})"
      ]
     },
     "execution_count": 38,
     "metadata": {},
     "output_type": "execute_result"
    }
   ],
   "source": [
    "key1, key2 = random.split(random.PRNGKey(0))\n",
    "x = random.normal(key1, (1,)) # Dummy input\n",
    "params = model.init(key2, x) # Initialization call\n",
    "jax.tree_map(lambda x: x.shape, params) # Checking output shapes"
   ]
  },
  {
   "cell_type": "code",
   "execution_count": 32,
   "id": "055dcbdd",
   "metadata": {},
   "outputs": [
    {
     "data": {
      "text/plain": [
       "FrozenDict({\n",
       "    params: {\n",
       "        kernel: DeviceArray([[2.1127698]], dtype=float32),\n",
       "        bias: DeviceArray([0.], dtype=float32),\n",
       "    },\n",
       "})"
      ]
     },
     "execution_count": 32,
     "metadata": {},
     "output_type": "execute_result"
    }
   ],
   "source": [
    "params"
   ]
  },
  {
   "cell_type": "markdown",
   "id": "1737cc3e",
   "metadata": {},
   "source": [
    "The bias seems to be 0. Let us do something about it."
   ]
  },
  {
   "cell_type": "code",
   "execution_count": 183,
   "id": "6ef233d8",
   "metadata": {},
   "outputs": [
    {
     "data": {
      "text/plain": [
       "FrozenDict({\n",
       "    params: {\n",
       "        bias: (1,),\n",
       "        kernel: (1, 1),\n",
       "    },\n",
       "})"
      ]
     },
     "execution_count": 183,
     "metadata": {},
     "output_type": "execute_result"
    }
   ],
   "source": [
    "model = nn.Dense(\n",
    "    features=1,\n",
    "    kernel_init=jax.nn.initializers.kaiming_uniform(),\n",
    "    bias_init=jax.nn.initializers.normal(),\n",
    ")\n",
    "\n",
    "model\n",
    "params = model.init(key2, x)  # Initialization call\n",
    "jax.tree_map(lambda x: x.shape, params)  # Checking output shapes"
   ]
  },
  {
   "cell_type": "code",
   "execution_count": 184,
   "id": "a57f96f2",
   "metadata": {},
   "outputs": [
    {
     "data": {
      "text/plain": [
       "FrozenDict({\n",
       "    params: {\n",
       "        kernel: DeviceArray([[2.4043102]], dtype=float32),\n",
       "        bias: DeviceArray([-0.00810676], dtype=float32),\n",
       "    },\n",
       "})"
      ]
     },
     "execution_count": 184,
     "metadata": {},
     "output_type": "execute_result"
    }
   ],
   "source": [
    "params"
   ]
  },
  {
   "cell_type": "code",
   "execution_count": 71,
   "id": "e495e954",
   "metadata": {},
   "outputs": [],
   "source": [
    "n_samples = 100\n",
    "xs = jnp.linspace(-2, 2, n_samples).reshape(-1, 1)"
   ]
  },
  {
   "cell_type": "markdown",
   "id": "a7e89238",
   "metadata": {},
   "source": [
    "### Creating training dataset\n",
    "#### Method 1"
   ]
  },
  {
   "cell_type": "code",
   "execution_count": 72,
   "id": "371a7f88",
   "metadata": {},
   "outputs": [],
   "source": [
    "f = jnp.dot(xs, params['params']['kernel']) + params['params']['bias']\n",
    "y = f + random.normal(key = random.PRNGKey(0), shape = (n_samples,1))"
   ]
  },
  {
   "cell_type": "markdown",
   "id": "ac939e5c",
   "metadata": {},
   "source": [
    "#### Method 2 (using model.apply)"
   ]
  },
  {
   "cell_type": "code",
   "execution_count": 81,
   "id": "28404309",
   "metadata": {},
   "outputs": [],
   "source": [
    "f = model.apply(params,xs)\n",
    "y = f + random.normal(key = random.PRNGKey(0), shape = (n_samples,1))"
   ]
  },
  {
   "cell_type": "code",
   "execution_count": 82,
   "id": "1e0ebf62",
   "metadata": {},
   "outputs": [
    {
     "data": {
      "text/plain": [
       "<matplotlib.legend.Legend at 0x1b14c4970>"
      ]
     },
     "execution_count": 82,
     "metadata": {},
     "output_type": "execute_result"
    },
    {
     "data": {
      "image/png": "[encoded data removed]",
      "text/plain": [
       "<Figure size 432x288 with 1 Axes>"
      ]
     },
     "metadata": {
      "needs_background": "light"
     },
     "output_type": "display_data"
    }
   ],
   "source": [
    "plt.scatter(xs, y, label='Data')\n",
    "plt.plot(xs, f, label='f', color='C1')\n",
    "plt.legend()"
   ]
  },
  {
   "cell_type": "code",
   "execution_count": 83,
   "id": "9b739ad4",
   "metadata": {},
   "outputs": [
    {
     "data": {
      "text/plain": [
       "FrozenDict({\n",
       "    params: {\n",
       "        kernel: DeviceArray([[2.1127698]], dtype=float32),\n",
       "        bias: DeviceArray([0.], dtype=float32),\n",
       "    },\n",
       "})"
      ]
     },
     "execution_count": 83,
     "metadata": {},
     "output_type": "execute_result"
    }
   ],
   "source": [
    "params"
   ]
  },
  {
   "cell_type": "code",
   "execution_count": 84,
   "id": "1246732b",
   "metadata": {},
   "outputs": [],
   "source": [
    "import tensorflow_probability.substrates.jax as tfp\n",
    "tfd = tfp.distributions"
   ]
  },
  {
   "cell_type": "code",
   "execution_count": 191,
   "id": "7166fe79",
   "metadata": {},
   "outputs": [],
   "source": [
    "prior = {}\n",
    "for k, val in params['params'].items():\n",
    "    prior[k] = tfd.Normal(loc = jnp.zeros_like(val), scale = 1., )"
   ]
  },
  {
   "cell_type": "code",
   "execution_count": 192,
   "id": "cfaa1043",
   "metadata": {},
   "outputs": [
    {
     "data": {
      "text/plain": [
       "{'kernel': <tfp.distributions.Normal 'Normal' batch_shape=[1, 1] event_shape=[] dtype=float32>,\n",
       " 'bias': <tfp.distributions.Normal 'Normal' batch_shape=[1] event_shape=[] dtype=float32>}"
      ]
     },
     "execution_count": 192,
     "metadata": {},
     "output_type": "execute_result"
    }
   ],
   "source": [
    "prior"
   ]
  },
  {
   "cell_type": "code",
   "execution_count": 193,
   "id": "23f7c559",
   "metadata": {},
   "outputs": [],
   "source": [
    "def eval_logprior(prior, params):\n",
    "    k = params['params']['kernel']\n",
    "    b = params['params']['bias']\n",
    "    return (prior['kernel'].log_prob(k) + prior['bias'].log_prob(b)).item()"
   ]
  },
  {
   "cell_type": "code",
   "execution_count": 194,
   "id": "e6d6c5db",
   "metadata": {},
   "outputs": [
    {
     "data": {
      "text/plain": [
       "-4.728263854980469"
      ]
     },
     "execution_count": 194,
     "metadata": {},
     "output_type": "execute_result"
    }
   ],
   "source": [
    "eval_logprior(\n",
    "    prior, params\n",
    ")"
   ]
  },
  {
   "cell_type": "code",
   "execution_count": 204,
   "id": "845679ab",
   "metadata": {},
   "outputs": [],
   "source": [
    "def eval_ll(model, params, x, y):\n",
    "    d = tfd.Normal(loc = model.apply(freeze(params), x), scale=1.)\n",
    "    return d.log_prob(y).sum()"
   ]
  },
  {
   "cell_type": "code",
   "execution_count": 205,
   "id": "9395dbe4",
   "metadata": {},
   "outputs": [
    {
     "data": {
      "text/plain": [
       "DeviceArray(-465.15082, dtype=float32)"
      ]
     },
     "execution_count": 205,
     "metadata": {},
     "output_type": "execute_result"
    }
   ],
   "source": [
    "eval_ll(model, params, x, y)"
   ]
  },
  {
   "cell_type": "code",
   "execution_count": 206,
   "id": "0e04a851",
   "metadata": {},
   "outputs": [],
   "source": [
    "def eval_log_joint(params, model, prior, x, y):\n",
    "    return eval_logprior(prior, params) + eval_ll(model, params, x, y)\n",
    "\n",
    "\n",
    "from functools import partial\n",
    "\n",
    "eval_log_joint_partial = partial(eval_log_joint, model=model, prior=prior, x=x, y=y)"
   ]
  },
  {
   "cell_type": "code",
   "execution_count": 207,
   "id": "08302022",
   "metadata": {},
   "outputs": [
    {
     "data": {
      "text/plain": [
       "DeviceArray(-469.8791, dtype=float32)"
      ]
     },
     "execution_count": 207,
     "metadata": {},
     "output_type": "execute_result"
    }
   ],
   "source": [
    "eval_log_joint(params, model, prior, x, y)"
   ]
  },
  {
   "cell_type": "code",
   "execution_count": 208,
   "id": "2d253158",
   "metadata": {},
   "outputs": [],
   "source": [
    "from flax.core.frozen_dict import freeze, unfreeze"
   ]
  },
  {
   "cell_type": "code",
   "execution_count": 209,
   "id": "ec5e0051",
   "metadata": {},
   "outputs": [],
   "source": [
    "rng_key = random.PRNGKey(314)\n",
    "\n",
    "params_init = unfreeze(model.init(rng_key, x))\n",
    "\n",
    "\n",
    "rmh = blackjax.rmh(eval_log_joint_partial, sigma=jnp.ones(2) * 0.7)\n",
    "initial_state = rmh.init(params_init)"
   ]
  },
  {
   "cell_type": "code",
   "execution_count": 210,
   "id": "d2e70141",
   "metadata": {},
   "outputs": [
    {
     "data": {
      "text/plain": [
       "RMHState(position={'params': {'bias': DeviceArray([-0.0119987], dtype=float32), 'kernel': DeviceArray([[1.1413311]], dtype=float32)}}, log_probability=DeviceArray(-464.6161, dtype=float32))"
      ]
     },
     "execution_count": 210,
     "metadata": {},
     "output_type": "execute_result"
    }
   ],
   "source": [
    "initial_state"
   ]
  },
  {
   "cell_type": "code",
   "execution_count": 211,
   "id": "7f583ba9",
   "metadata": {},
   "outputs": [],
   "source": [
    "def inference_loop(rng_key, kernel, initial_state, num_samples):\n",
    "    @jax.jit\n",
    "    def one_step(state, rng_key):\n",
    "        state, _ = kernel(rng_key, state)\n",
    "        return state, state\n",
    "\n",
    "    keys = jax.random.split(rng_key, num_samples)\n",
    "    _, states = jax.lax.scan(one_step, initial_state, keys)\n",
    "\n",
    "    return states"
   ]
  },
  {
   "cell_type": "code",
   "execution_count": 212,
   "id": "f865fc20",
   "metadata": {},
   "outputs": [
    {
     "ename": "ConcretizationTypeError",
     "evalue": "Abstract tracer value encountered where concrete value is expected: Traced<ShapedArray(float32[1,1])>with<DynamicJaxprTrace(level=1/1)>\nThe problem arose with the `float` function. If trying to convert the data type of a value, try using `x.astype(float)` or `jnp.array(x, float)` instead.\nWhile tracing the function one_step at /var/folders/1x/wmgn24mn1bbd2vgbqlk98tbc0000gn/T/ipykernel_79354/41124006.py:2 for scan, this concrete value was not available in Python because it depends on the values of the arguments 'state' and 'rng_key'.\n\nSee https://jax.readthedocs.io/en/latest/errors.html#jax.errors.ConcretizationTypeError",
     "output_type": "error",
     "traceback": [
      "\u001b[0;31m---------------------------------------------------------------------------\u001b[0m",
      "\u001b[0;31mConcretizationTypeError\u001b[0m                   Traceback (most recent call last)",
      "Input \u001b[0;32mIn [212]\u001b[0m, in \u001b[0;36m<cell line: 2>\u001b[0;34m()\u001b[0m\n\u001b[1;32m      1\u001b[0m _, rng_key \u001b[38;5;241m=\u001b[39m random\u001b[38;5;241m.\u001b[39msplit(rng_key)\n\u001b[0;32m----> 2\u001b[0m states \u001b[38;5;241m=\u001b[39m \u001b[43minference_loop\u001b[49m\u001b[43m(\u001b[49m\u001b[43mrng_key\u001b[49m\u001b[43m,\u001b[49m\u001b[43m \u001b[49m\u001b[43mrmh\u001b[49m\u001b[38;5;241;43m.\u001b[39;49m\u001b[43mstep\u001b[49m\u001b[43m,\u001b[49m\u001b[43m \u001b[49m\u001b[43minitial_state\u001b[49m\u001b[43m,\u001b[49m\u001b[43m \u001b[49m\u001b[38;5;241;43m5_000\u001b[39;49m\u001b[43m)\u001b[49m\n",
      "Input \u001b[0;32mIn [211]\u001b[0m, in \u001b[0;36minference_loop\u001b[0;34m(rng_key, kernel, initial_state, num_samples)\u001b[0m\n\u001b[1;32m      5\u001b[0m     \u001b[38;5;28;01mreturn\u001b[39;00m state, state\n\u001b[1;32m      7\u001b[0m keys \u001b[38;5;241m=\u001b[39m jax\u001b[38;5;241m.\u001b[39mrandom\u001b[38;5;241m.\u001b[39msplit(rng_key, num_samples)\n\u001b[0;32m----> 8\u001b[0m _, states \u001b[38;5;241m=\u001b[39m \u001b[43mjax\u001b[49m\u001b[38;5;241;43m.\u001b[39;49m\u001b[43mlax\u001b[49m\u001b[38;5;241;43m.\u001b[39;49m\u001b[43mscan\u001b[49m\u001b[43m(\u001b[49m\u001b[43mone_step\u001b[49m\u001b[43m,\u001b[49m\u001b[43m \u001b[49m\u001b[43minitial_state\u001b[49m\u001b[43m,\u001b[49m\u001b[43m \u001b[49m\u001b[43mkeys\u001b[49m\u001b[43m)\u001b[49m\n\u001b[1;32m     10\u001b[0m \u001b[38;5;28;01mreturn\u001b[39;00m states\n",
      "    \u001b[0;31m[... skipping hidden 20 frame]\u001b[0m\n",
      "Input \u001b[0;32mIn [211]\u001b[0m, in \u001b[0;36minference_loop.<locals>.one_step\u001b[0;34m(state, rng_key)\u001b[0m\n\u001b[1;32m      2\u001b[0m \u001b[38;5;129m@jax\u001b[39m\u001b[38;5;241m.\u001b[39mjit\n\u001b[1;32m      3\u001b[0m \u001b[38;5;28;01mdef\u001b[39;00m \u001b[38;5;21mone_step\u001b[39m(state, rng_key):\n\u001b[0;32m----> 4\u001b[0m     state, _ \u001b[38;5;241m=\u001b[39m \u001b[43mkernel\u001b[49m\u001b[43m(\u001b[49m\u001b[43mrng_key\u001b[49m\u001b[43m,\u001b[49m\u001b[43m \u001b[49m\u001b[43mstate\u001b[49m\u001b[43m)\u001b[49m\n\u001b[1;32m      5\u001b[0m     \u001b[38;5;28;01mreturn\u001b[39;00m state, state\n",
      "File \u001b[0;32m~/miniconda3/lib/python3.9/site-packages/blackjax/kernels.py:550\u001b[0m, in \u001b[0;36mrmh.__new__.<locals>.step_fn\u001b[0;34m(rng_key, state)\u001b[0m\n\u001b[1;32m    549\u001b[0m \u001b[38;5;28;01mdef\u001b[39;00m \u001b[38;5;21mstep_fn\u001b[39m(rng_key: PRNGKey, state):\n\u001b[0;32m--> 550\u001b[0m     \u001b[38;5;28;01mreturn\u001b[39;00m \u001b[43mstep\u001b[49m\u001b[43m(\u001b[49m\n\u001b[1;32m    551\u001b[0m \u001b[43m        \u001b[49m\u001b[43mrng_key\u001b[49m\u001b[43m,\u001b[49m\n\u001b[1;32m    552\u001b[0m \u001b[43m        \u001b[49m\u001b[43mstate\u001b[49m\u001b[43m,\u001b[49m\n\u001b[1;32m    553\u001b[0m \u001b[43m        \u001b[49m\u001b[43mlogprob_fn\u001b[49m\u001b[43m,\u001b[49m\n\u001b[1;32m    554\u001b[0m \u001b[43m        \u001b[49m\u001b[43msigma\u001b[49m\u001b[43m,\u001b[49m\n\u001b[1;32m    555\u001b[0m \u001b[43m    \u001b[49m\u001b[43m)\u001b[49m\n",
      "File \u001b[0;32m~/miniconda3/lib/python3.9/site-packages/blackjax/mcmc/rmh.py:80\u001b[0m, in \u001b[0;36mkernel.<locals>.one_step\u001b[0;34m(rng_key, state, logprob_fn, sigma)\u001b[0m\n\u001b[1;32m     78\u001b[0m proposal_generator \u001b[38;5;241m=\u001b[39m random_walk\u001b[38;5;241m.\u001b[39mnormal(sigma)\n\u001b[1;32m     79\u001b[0m kernel \u001b[38;5;241m=\u001b[39m rmh(logprob_fn, proposal_generator)\n\u001b[0;32m---> 80\u001b[0m \u001b[38;5;28;01mreturn\u001b[39;00m \u001b[43mkernel\u001b[49m\u001b[43m(\u001b[49m\u001b[43mrng_key\u001b[49m\u001b[43m,\u001b[49m\u001b[43m \u001b[49m\u001b[43mstate\u001b[49m\u001b[43m)\u001b[49m\n",
      "File \u001b[0;32m~/miniconda3/lib/python3.9/site-packages/blackjax/mcmc/rmh.py:159\u001b[0m, in \u001b[0;36mrmh.<locals>.kernel\u001b[0;34m(rng_key, state)\u001b[0m\n\u001b[1;32m    157\u001b[0m move_proposal \u001b[38;5;241m=\u001b[39m proposal_generator(key_proposal, state\u001b[38;5;241m.\u001b[39mposition)\n\u001b[1;32m    158\u001b[0m new_position \u001b[38;5;241m=\u001b[39m jax\u001b[38;5;241m.\u001b[39mtree_util\u001b[38;5;241m.\u001b[39mtree_map(jnp\u001b[38;5;241m.\u001b[39madd, state\u001b[38;5;241m.\u001b[39mposition, move_proposal)\n\u001b[0;32m--> 159\u001b[0m new_log_probability \u001b[38;5;241m=\u001b[39m \u001b[43mlogprob_fn\u001b[49m\u001b[43m(\u001b[49m\u001b[43mnew_position\u001b[49m\u001b[43m)\u001b[49m\n\u001b[1;32m    160\u001b[0m new_state \u001b[38;5;241m=\u001b[39m RMHState(new_position, new_log_probability)\n\u001b[1;32m    162\u001b[0m delta \u001b[38;5;241m=\u001b[39m acceptance_probability(state, new_state)\n",
      "Input \u001b[0;32mIn [206]\u001b[0m, in \u001b[0;36meval_log_joint\u001b[0;34m(params, model, prior, x, y)\u001b[0m\n\u001b[1;32m      1\u001b[0m \u001b[38;5;28;01mdef\u001b[39;00m \u001b[38;5;21meval_log_joint\u001b[39m(params, model, prior, x, y):\n\u001b[0;32m----> 2\u001b[0m     \u001b[38;5;28;01mreturn\u001b[39;00m \u001b[43meval_logprior\u001b[49m\u001b[43m(\u001b[49m\u001b[43mprior\u001b[49m\u001b[43m,\u001b[49m\u001b[43m \u001b[49m\u001b[43mparams\u001b[49m\u001b[43m)\u001b[49m \u001b[38;5;241m+\u001b[39m eval_ll(model, params, x, y)\n",
      "Input \u001b[0;32mIn [193]\u001b[0m, in \u001b[0;36meval_logprior\u001b[0;34m(prior, params)\u001b[0m\n\u001b[1;32m      2\u001b[0m k \u001b[38;5;241m=\u001b[39m params[\u001b[38;5;124m'\u001b[39m\u001b[38;5;124mparams\u001b[39m\u001b[38;5;124m'\u001b[39m][\u001b[38;5;124m'\u001b[39m\u001b[38;5;124mkernel\u001b[39m\u001b[38;5;124m'\u001b[39m]\n\u001b[1;32m      3\u001b[0m b \u001b[38;5;241m=\u001b[39m params[\u001b[38;5;124m'\u001b[39m\u001b[38;5;124mparams\u001b[39m\u001b[38;5;124m'\u001b[39m][\u001b[38;5;124m'\u001b[39m\u001b[38;5;124mbias\u001b[39m\u001b[38;5;124m'\u001b[39m]\n\u001b[0;32m----> 4\u001b[0m \u001b[38;5;28;01mreturn\u001b[39;00m \u001b[43m(\u001b[49m\u001b[43mprior\u001b[49m\u001b[43m[\u001b[49m\u001b[38;5;124;43m'\u001b[39;49m\u001b[38;5;124;43mkernel\u001b[39;49m\u001b[38;5;124;43m'\u001b[39;49m\u001b[43m]\u001b[49m\u001b[38;5;241;43m.\u001b[39;49m\u001b[43mlog_prob\u001b[49m\u001b[43m(\u001b[49m\u001b[43mk\u001b[49m\u001b[43m)\u001b[49m\u001b[43m \u001b[49m\u001b[38;5;241;43m+\u001b[39;49m\u001b[43m \u001b[49m\u001b[43mprior\u001b[49m\u001b[43m[\u001b[49m\u001b[38;5;124;43m'\u001b[39;49m\u001b[38;5;124;43mbias\u001b[39;49m\u001b[38;5;124;43m'\u001b[39;49m\u001b[43m]\u001b[49m\u001b[38;5;241;43m.\u001b[39;49m\u001b[43mlog_prob\u001b[49m\u001b[43m(\u001b[49m\u001b[43mb\u001b[49m\u001b[43m)\u001b[49m\u001b[43m)\u001b[49m\u001b[38;5;241;43m.\u001b[39;49m\u001b[43mitem\u001b[49m\u001b[43m(\u001b[49m\u001b[43m)\u001b[49m\n",
      "File \u001b[0;32m~/miniconda3/lib/python3.9/site-packages/jax/_src/device_array.py:229\u001b[0m, in \u001b[0;36mitem\u001b[0;34m(self)\u001b[0m\n\u001b[1;32m    227\u001b[0m   \u001b[38;5;28;01mreturn\u001b[39;00m \u001b[38;5;28mcomplex\u001b[39m(\u001b[38;5;28mself\u001b[39m)\n\u001b[1;32m    228\u001b[0m \u001b[38;5;28;01melif\u001b[39;00m dtypes\u001b[38;5;241m.\u001b[39missubdtype(\u001b[38;5;28mself\u001b[39m\u001b[38;5;241m.\u001b[39mdtype, np\u001b[38;5;241m.\u001b[39mfloating):\n\u001b[0;32m--> 229\u001b[0m   \u001b[38;5;28;01mreturn\u001b[39;00m \u001b[38;5;28;43mfloat\u001b[39;49m\u001b[43m(\u001b[49m\u001b[38;5;28;43mself\u001b[39;49m\u001b[43m)\u001b[49m\n\u001b[1;32m    230\u001b[0m \u001b[38;5;28;01melif\u001b[39;00m dtypes\u001b[38;5;241m.\u001b[39missubdtype(\u001b[38;5;28mself\u001b[39m\u001b[38;5;241m.\u001b[39mdtype, np\u001b[38;5;241m.\u001b[39minteger):\n\u001b[1;32m    231\u001b[0m   \u001b[38;5;28;01mreturn\u001b[39;00m \u001b[38;5;28mint\u001b[39m(\u001b[38;5;28mself\u001b[39m)\n",
      "    \u001b[0;31m[... skipping hidden 1 frame]\u001b[0m\n",
      "File \u001b[0;32m~/miniconda3/lib/python3.9/site-packages/jax/core.py:1065\u001b[0m, in \u001b[0;36mconcretization_function_error.<locals>.error\u001b[0;34m(self, arg)\u001b[0m\n\u001b[1;32m   1064\u001b[0m \u001b[38;5;28;01mdef\u001b[39;00m \u001b[38;5;21merror\u001b[39m(\u001b[38;5;28mself\u001b[39m, arg):\n\u001b[0;32m-> 1065\u001b[0m   \u001b[38;5;28;01mraise\u001b[39;00m ConcretizationTypeError(arg, fname_context)\n",
      "\u001b[0;31mConcretizationTypeError\u001b[0m: Abstract tracer value encountered where concrete value is expected: Traced<ShapedArray(float32[1,1])>with<DynamicJaxprTrace(level=1/1)>\nThe problem arose with the `float` function. If trying to convert the data type of a value, try using `x.astype(float)` or `jnp.array(x, float)` instead.\nWhile tracing the function one_step at /var/folders/1x/wmgn24mn1bbd2vgbqlk98tbc0000gn/T/ipykernel_79354/41124006.py:2 for scan, this concrete value was not available in Python because it depends on the values of the arguments 'state' and 'rng_key'.\n\nSee https://jax.readthedocs.io/en/latest/errors.html#jax.errors.ConcretizationTypeError"
     ]
    }
   ],
   "source": [
    "_, rng_key = random.split(rng_key)\n",
    "states = inference_loop(rng_key, rmh.step, initial_state, 5_000)"
   ]
  },
  {
   "cell_type": "code",
   "execution_count": 179,
   "id": "12a226b3",
   "metadata": {},
   "outputs": [
    {
     "data": {
      "text/plain": [
       "RMHState(position=FrozenDict({\n",
       "    params: {\n",
       "        kernel: DeviceArray([[0.67063206]], dtype=float32),\n",
       "        bias: DeviceArray([0.], dtype=float32),\n",
       "    },\n",
       "}), log_probability=DeviceArray(-463.95422, dtype=float32))"
      ]
     },
     "execution_count": 179,
     "metadata": {},
     "output_type": "execute_result"
    }
   ],
   "source": [
    "initial_state"
   ]
  },
  {
   "cell_type": "code",
   "execution_count": 219,
   "id": "7acc654c",
   "metadata": {},
   "outputs": [
    {
     "ename": "SyntaxError",
     "evalue": "invalid syntax (876586393.py, line 1)",
     "output_type": "error",
     "traceback": [
      "\u001b[0;36m  Input \u001b[0;32mIn [219]\u001b[0;36m\u001b[0m\n\u001b[0;31m    tfp.distributions..*\u001b[0m\n\u001b[0m                      ^\u001b[0m\n\u001b[0;31mSyntaxError\u001b[0m\u001b[0;31m:\u001b[0m invalid syntax\n"
     ]
    }
   ],
   "source": [
    "tfp.distributions"
   ]
  },
  {
   "cell_type": "code",
   "execution_count": null,
   "id": "cb540bbc",
   "metadata": {},
   "outputs": [],
   "source": []
  }
 ],
 "metadata": {
  "kernelspec": {
   "display_name": "Python 3 (ipykernel)",
   "language": "python",
   "name": "python3"
  },
  "language_info": {
   "codemirror_mode": {
    "name": "ipython",
    "version": 3
   },
   "file_extension": ".py",
   "mimetype": "text/x-python",
   "name": "python",
   "nbconvert_exporter": "python",
   "pygments_lexer": "ipython3",
   "version": "3.9.13"
  }
 },
 "nbformat": 4,
 "nbformat_minor": 5
}
