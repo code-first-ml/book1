{
 "cells": [
  {
   "cell_type": "markdown",
   "metadata": {},
   "source": [
    "# Constrained Non-negative matrix factorisation using CVXPY\n",
    "> Constrained NMF using CVXPY!\n",
    "\n",
    "- toc: true \n",
    "- badges: true\n",
    "- comments: true\n",
    "- author: Nipun Batra\n",
    "- categories: [ML]"
   ]
  },
  {
   "cell_type": "markdown",
   "metadata": {},
   "source": [
    "In a [previous post](./nmf-cvx.html), we saw how we can use CVXPY to perform non-negative matrix factorisation. In this post, I'll show how to add additional constraints that may arise from the problem domain. As a trivial example, I'll take constraints of the form when there is a less-than relationship among members of the matrix. For example, we may want to enforce certain movies to be always rated more than others? We'll create a matrix of 30 users and 12 items. We will enforce the contraint that the rating of the first 6 items be atleast twice that of the last 6 items."
   ]
  },
  {
   "cell_type": "markdown",
   "metadata": {},
   "source": [
    "### Creating a ratings matrix"
   ]
  },
  {
   "cell_type": "markdown",
   "metadata": {},
   "source": [
    "We will now create a matrix where the relationship among items exists."
   ]
  },
  {
   "cell_type": "code",
   "execution_count": 1,
   "metadata": {
    "collapsed": true
   },
   "outputs": [],
   "source": [
    "import numpy as np\n",
    "import pandas as pd"
   ]
  },
  {
   "cell_type": "code",
   "execution_count": 2,
   "metadata": {},
   "outputs": [
    {
     "data": {
      "text/html": [
       "<div>\n",
       "<table border=\"1\" class=\"dataframe\">\n",
       "  <thead>\n",
       "    <tr style=\"text-align: right;\">\n",
       "      <th></th>\n",
       "      <th>0</th>\n",
       "      <th>1</th>\n",
       "      <th>2</th>\n",
       "      <th>3</th>\n",
       "      <th>4</th>\n",
       "      <th>5</th>\n",
       "      <th>6</th>\n",
       "      <th>7</th>\n",
       "      <th>8</th>\n",
       "      <th>9</th>\n",
       "      <th>10</th>\n",
       "      <th>11</th>\n",
       "    </tr>\n",
       "  </thead>\n",
       "  <tbody>\n",
       "    <tr>\n",
       "      <th>0</th>\n",
       "      <td>0.732046</td>\n",
       "      <td>0.613565</td>\n",
       "      <td>0.961128</td>\n",
       "      <td>0.920089</td>\n",
       "      <td>0.244323</td>\n",
       "      <td>0.506472</td>\n",
       "      <td>0.280477</td>\n",
       "      <td>0.251049</td>\n",
       "      <td>0.324418</td>\n",
       "      <td>0.378219</td>\n",
       "      <td>0.075556</td>\n",
       "      <td>0.131750</td>\n",
       "    </tr>\n",
       "    <tr>\n",
       "      <th>1</th>\n",
       "      <td>0.903630</td>\n",
       "      <td>0.340956</td>\n",
       "      <td>0.784109</td>\n",
       "      <td>0.919741</td>\n",
       "      <td>0.190856</td>\n",
       "      <td>0.433635</td>\n",
       "      <td>0.321932</td>\n",
       "      <td>0.135134</td>\n",
       "      <td>0.290862</td>\n",
       "      <td>0.394680</td>\n",
       "      <td>0.052976</td>\n",
       "      <td>0.081148</td>\n",
       "    </tr>\n",
       "    <tr>\n",
       "      <th>2</th>\n",
       "      <td>0.972145</td>\n",
       "      <td>0.576558</td>\n",
       "      <td>1.046197</td>\n",
       "      <td>1.098279</td>\n",
       "      <td>0.261103</td>\n",
       "      <td>0.562996</td>\n",
       "      <td>0.358574</td>\n",
       "      <td>0.233405</td>\n",
       "      <td>0.368118</td>\n",
       "      <td>0.460967</td>\n",
       "      <td>0.077286</td>\n",
       "      <td>0.128344</td>\n",
       "    </tr>\n",
       "    <tr>\n",
       "      <th>3</th>\n",
       "      <td>0.292231</td>\n",
       "      <td>0.263864</td>\n",
       "      <td>0.401968</td>\n",
       "      <td>0.377116</td>\n",
       "      <td>0.102567</td>\n",
       "      <td>0.210890</td>\n",
       "      <td>0.113070</td>\n",
       "      <td>0.108163</td>\n",
       "      <td>0.134489</td>\n",
       "      <td>0.154266</td>\n",
       "      <td>0.031993</td>\n",
       "      <td>0.056299</td>\n",
       "    </tr>\n",
       "    <tr>\n",
       "      <th>4</th>\n",
       "      <td>0.694038</td>\n",
       "      <td>0.803459</td>\n",
       "      <td>1.125454</td>\n",
       "      <td>0.987344</td>\n",
       "      <td>0.290605</td>\n",
       "      <td>0.582178</td>\n",
       "      <td>0.278848</td>\n",
       "      <td>0.331075</td>\n",
       "      <td>0.365935</td>\n",
       "      <td>0.397023</td>\n",
       "      <td>0.093088</td>\n",
       "      <td>0.168300</td>\n",
       "    </tr>\n",
       "  </tbody>\n",
       "</table>\n",
       "</div>"
      ],
      "text/plain": [
       "         0         1         2         3         4         5         6   \\\n",
       "0  0.732046  0.613565  0.961128  0.920089  0.244323  0.506472  0.280477   \n",
       "1  0.903630  0.340956  0.784109  0.919741  0.190856  0.433635  0.321932   \n",
       "2  0.972145  0.576558  1.046197  1.098279  0.261103  0.562996  0.358574   \n",
       "3  0.292231  0.263864  0.401968  0.377116  0.102567  0.210890  0.113070   \n",
       "4  0.694038  0.803459  1.125454  0.987344  0.290605  0.582178  0.278848   \n",
       "\n",
       "         7         8         9         10        11  \n",
       "0  0.251049  0.324418  0.378219  0.075556  0.131750  \n",
       "1  0.135134  0.290862  0.394680  0.052976  0.081148  \n",
       "2  0.233405  0.368118  0.460967  0.077286  0.128344  \n",
       "3  0.108163  0.134489  0.154266  0.031993  0.056299  \n",
       "4  0.331075  0.365935  0.397023  0.093088  0.168300  "
      ]
     },
     "execution_count": 2,
     "metadata": {},
     "output_type": "execute_result"
    }
   ],
   "source": [
    "K, N, M = 2, 12, 30\n",
    "Y_gen = np.random.rand(M, K)\n",
    "X_1 = np.random.rand(K, N/2)\n",
    "# So that atleast twice as much\n",
    "X_2 = 2* X_1 + np.random.rand(K, N/2)\n",
    "X_gen = np.hstack([X_2, X_1])\n",
    "# Normalizing\n",
    "X_gen = X_gen/np.max(X_gen)\n",
    "# Creating A (ratings matrix of size M, N)\n",
    "A = np.dot(Y_gen, X_gen)\n",
    "pd.DataFrame(A).head()"
   ]
  },
  {
   "cell_type": "markdown",
   "metadata": {},
   "source": [
    "We can see that for each user, the 0th item has higher rating compared to the 5th, 1st more than the 6th and so on. Now, in our alternating least squares implementation, we break down A as Y.X. Here X has dimensions of K, N. To ensure the relationship among the items, we will put contraints on X of the form: X[:, 0] > 2 x X[:, 5] and so on. We will create a simple for loop for the same."
   ]
  },
  {
   "cell_type": "code",
   "execution_count": 3,
   "metadata": {},
   "outputs": [
    {
     "data": {
      "text/plain": [
       "'[X[:,0] > 2 * X[:,6],X[:,1] > 2 * X[:,7],X[:,2] > 2 * X[:,8],X[:,3] > 2 * X[:,9],X[:,4] > 2 * X[:,10],X[:,5] > 2 * X[:,11]]'"
      ]
     },
     "execution_count": 3,
     "metadata": {},
     "output_type": "execute_result"
    }
   ],
   "source": [
    "e = \"[\"\n",
    "for a in range(N/2):\n",
    "    e+=\"X[:,%d] > 2 * X[:,%d],\" %(a, a+N/2)\n",
    "e = e[:-1] + \"]\"\n",
    "e"
   ]
  },
  {
   "cell_type": "markdown",
   "metadata": {},
   "source": [
    "As we can see, we now have 6 constraints that we can feed into the optimisation routine. Whenever we learn X in the ALS, we apply these constraint."
   ]
  },
  {
   "cell_type": "markdown",
   "metadata": {},
   "source": [
    "### CVX routine for handling input constraints"
   ]
  },
  {
   "cell_type": "code",
   "execution_count": 4,
   "metadata": {
    "collapsed": true
   },
   "outputs": [],
   "source": [
    "def nmf_features(A, k,  MAX_ITERS=30, input_constraints_X=None, input_constraints_Y = None):\n",
    "    import cvxpy as cvx\n",
    "    np.random.seed(0)\n",
    "\n",
    "    # Generate random data matrix A.\n",
    "    m, n = A.shape\n",
    "    mask = ~np.isnan(A)\n",
    "\n",
    "    # Initialize Y randomly.\n",
    "    Y_init = np.random.rand(m, k)\n",
    "    Y = Y_init\n",
    "\n",
    "    # Perform alternating minimization.\n",
    "\n",
    "    residual = np.zeros(MAX_ITERS)\n",
    "    for iter_num in xrange(1, 1 + MAX_ITERS):\n",
    "    \n",
    "        # For odd iterations, treat Y constant, optimize over X.\n",
    "        if iter_num % 2 == 1:\n",
    "            X = cvx.Variable(k, n)\n",
    "            constraint = [X >= 0]\n",
    "            if input_constraints_X:\n",
    "                constraint.extend(eval(input_constraints_X))\n",
    "\n",
    "        # For even iterations, treat X constant, optimize over Y.\n",
    "        else:\n",
    "            Y = cvx.Variable(m, k)\n",
    "            constraint = [Y >= 0]\n",
    "           \n",
    "\n",
    "        Temp = Y * X\n",
    "        error = A[mask] - (Y * X)[mask]\n",
    "       \n",
    "        \n",
    "        obj = cvx.Minimize(cvx.norm(error, 'fro'))\n",
    "       \n",
    "\n",
    "        prob = cvx.Problem(obj, constraint)\n",
    "        prob.solve(solver=cvx.SCS)\n",
    "\n",
    "        if prob.status != cvx.OPTIMAL:\n",
    "            pass\n",
    "       \n",
    "        residual[iter_num - 1] = prob.value\n",
    "      \n",
    "        if iter_num % 2 == 1:\n",
    "            X = X.value\n",
    "        else:\n",
    "            Y = Y.value\n",
    "    return X, Y, residual"
   ]
  },
  {
   "cell_type": "code",
   "execution_count": 5,
   "metadata": {
    "collapsed": true
   },
   "outputs": [],
   "source": [
    "# Without constraints\n",
    "X, Y, r = nmf_features(A, 3, MAX_ITERS=20)\n",
    "# With contstraints\n",
    "X_c, Y_c, r_c = nmf_features(A, 3, MAX_ITERS=20, input_constraints_X=e)"
   ]
  },
  {
   "cell_type": "code",
   "execution_count": 6,
   "metadata": {},
   "outputs": [
    {
     "data": {
      "text/html": [
       "<div>\n",
       "<table border=\"1\" class=\"dataframe\">\n",
       "  <thead>\n",
       "    <tr style=\"text-align: right;\">\n",
       "      <th></th>\n",
       "      <th>0</th>\n",
       "      <th>1</th>\n",
       "      <th>2</th>\n",
       "      <th>3</th>\n",
       "      <th>4</th>\n",
       "      <th>5</th>\n",
       "      <th>6</th>\n",
       "      <th>7</th>\n",
       "      <th>8</th>\n",
       "      <th>9</th>\n",
       "      <th>10</th>\n",
       "      <th>11</th>\n",
       "    </tr>\n",
       "  </thead>\n",
       "  <tbody>\n",
       "    <tr>\n",
       "      <th>0</th>\n",
       "      <td>0.749994</td>\n",
       "      <td>0.112355</td>\n",
       "      <td>0.485850</td>\n",
       "      <td>0.674801</td>\n",
       "      <td>0.113004</td>\n",
       "      <td>0.281371</td>\n",
       "      <td>0.257239</td>\n",
       "      <td>0.04056</td>\n",
       "      <td>0.196474</td>\n",
       "      <td>0.297978</td>\n",
       "      <td>0.02745</td>\n",
       "      <td>0.033952</td>\n",
       "    </tr>\n",
       "    <tr>\n",
       "      <th>1</th>\n",
       "      <td>0.102384</td>\n",
       "      <td>0.222149</td>\n",
       "      <td>0.266055</td>\n",
       "      <td>0.199361</td>\n",
       "      <td>0.070403</td>\n",
       "      <td>0.133510</td>\n",
       "      <td>0.047174</td>\n",
       "      <td>0.09233</td>\n",
       "      <td>0.081233</td>\n",
       "      <td>0.076518</td>\n",
       "      <td>0.02375</td>\n",
       "      <td>0.045097</td>\n",
       "    </tr>\n",
       "    <tr>\n",
       "      <th>2</th>\n",
       "      <td>0.567213</td>\n",
       "      <td>0.558638</td>\n",
       "      <td>0.825066</td>\n",
       "      <td>0.756059</td>\n",
       "      <td>0.211427</td>\n",
       "      <td>0.430690</td>\n",
       "      <td>0.222174</td>\n",
       "      <td>0.22944</td>\n",
       "      <td>0.273260</td>\n",
       "      <td>0.307475</td>\n",
       "      <td>0.06659</td>\n",
       "      <td>0.118371</td>\n",
       "    </tr>\n",
       "  </tbody>\n",
       "</table>\n",
       "</div>"
      ],
      "text/plain": [
       "         0         1         2         3         4         5         6   \\\n",
       "0  0.749994  0.112355  0.485850  0.674801  0.113004  0.281371  0.257239   \n",
       "1  0.102384  0.222149  0.266055  0.199361  0.070403  0.133510  0.047174   \n",
       "2  0.567213  0.558638  0.825066  0.756059  0.211427  0.430690  0.222174   \n",
       "\n",
       "        7         8         9        10        11  \n",
       "0  0.04056  0.196474  0.297978  0.02745  0.033952  \n",
       "1  0.09233  0.081233  0.076518  0.02375  0.045097  \n",
       "2  0.22944  0.273260  0.307475  0.06659  0.118371  "
      ]
     },
     "execution_count": 6,
     "metadata": {},
     "output_type": "execute_result"
    }
   ],
   "source": [
    "pd.DataFrame(X)"
   ]
  },
  {
   "cell_type": "code",
   "execution_count": 7,
   "metadata": {},
   "outputs": [
    {
     "data": {
      "text/html": [
       "<div>\n",
       "<table border=\"1\" class=\"dataframe\">\n",
       "  <thead>\n",
       "    <tr style=\"text-align: right;\">\n",
       "      <th></th>\n",
       "      <th>0</th>\n",
       "      <th>1</th>\n",
       "      <th>2</th>\n",
       "      <th>3</th>\n",
       "      <th>4</th>\n",
       "      <th>5</th>\n",
       "      <th>6</th>\n",
       "      <th>7</th>\n",
       "      <th>8</th>\n",
       "      <th>9</th>\n",
       "      <th>10</th>\n",
       "      <th>11</th>\n",
       "    </tr>\n",
       "  </thead>\n",
       "  <tbody>\n",
       "    <tr>\n",
       "      <th>0</th>\n",
       "      <td>0.749882</td>\n",
       "      <td>0.112384</td>\n",
       "      <td>0.485923</td>\n",
       "      <td>0.674778</td>\n",
       "      <td>0.113027</td>\n",
       "      <td>0.281399</td>\n",
       "      <td>0.257206</td>\n",
       "      <td>0.040566</td>\n",
       "      <td>0.196489</td>\n",
       "      <td>0.297960</td>\n",
       "      <td>0.027461</td>\n",
       "      <td>0.033971</td>\n",
       "    </tr>\n",
       "    <tr>\n",
       "      <th>1</th>\n",
       "      <td>0.102366</td>\n",
       "      <td>0.222080</td>\n",
       "      <td>0.266058</td>\n",
       "      <td>0.199353</td>\n",
       "      <td>0.070404</td>\n",
       "      <td>0.133511</td>\n",
       "      <td>0.047168</td>\n",
       "      <td>0.092298</td>\n",
       "      <td>0.081233</td>\n",
       "      <td>0.076513</td>\n",
       "      <td>0.023751</td>\n",
       "      <td>0.045091</td>\n",
       "    </tr>\n",
       "    <tr>\n",
       "      <th>2</th>\n",
       "      <td>0.567363</td>\n",
       "      <td>0.558700</td>\n",
       "      <td>0.825253</td>\n",
       "      <td>0.756242</td>\n",
       "      <td>0.211473</td>\n",
       "      <td>0.430789</td>\n",
       "      <td>0.222234</td>\n",
       "      <td>0.229470</td>\n",
       "      <td>0.273319</td>\n",
       "      <td>0.307549</td>\n",
       "      <td>0.066604</td>\n",
       "      <td>0.118382</td>\n",
       "    </tr>\n",
       "  </tbody>\n",
       "</table>\n",
       "</div>"
      ],
      "text/plain": [
       "         0         1         2         3         4         5         6   \\\n",
       "0  0.749882  0.112384  0.485923  0.674778  0.113027  0.281399  0.257206   \n",
       "1  0.102366  0.222080  0.266058  0.199353  0.070404  0.133511  0.047168   \n",
       "2  0.567363  0.558700  0.825253  0.756242  0.211473  0.430789  0.222234   \n",
       "\n",
       "         7         8         9         10        11  \n",
       "0  0.040566  0.196489  0.297960  0.027461  0.033971  \n",
       "1  0.092298  0.081233  0.076513  0.023751  0.045091  \n",
       "2  0.229470  0.273319  0.307549  0.066604  0.118382  "
      ]
     },
     "execution_count": 7,
     "metadata": {},
     "output_type": "execute_result"
    }
   ],
   "source": [
    "pd.DataFrame(X_c)"
   ]
  },
  {
   "cell_type": "markdown",
   "metadata": {},
   "source": [
    "Ok. The obtained X matrix looks fairly similar. How about we reverse the constraints."
   ]
  },
  {
   "cell_type": "code",
   "execution_count": 8,
   "metadata": {},
   "outputs": [
    {
     "data": {
      "text/plain": [
       "'[ 2* X[:,0]  < X[:,6], 2* X[:,1]  < X[:,7], 2* X[:,2]  < X[:,8], 2* X[:,3]  < X[:,9], 2* X[:,4]  < X[:,10], 2* X[:,5]  < X[:,11]]'"
      ]
     },
     "execution_count": 8,
     "metadata": {},
     "output_type": "execute_result"
    }
   ],
   "source": [
    "e_rev = \"[\"\n",
    "for a in range(N/2):\n",
    "    e_rev+=\" 2* X[:,%d]  < X[:,%d],\" %(a, a+N/2)\n",
    "e_rev = e_rev[:-1] + \"]\"\n",
    "e_rev"
   ]
  },
  {
   "cell_type": "code",
   "execution_count": 9,
   "metadata": {
    "collapsed": true
   },
   "outputs": [],
   "source": [
    "X_c_rev, Y_c_rev, r_c_rev = nmf_features(A, 3, MAX_ITERS=20, input_constraints_X=e_rev)"
   ]
  },
  {
   "cell_type": "code",
   "execution_count": 10,
   "metadata": {},
   "outputs": [
    {
     "data": {
      "text/html": [
       "<div>\n",
       "<table border=\"1\" class=\"dataframe\">\n",
       "  <thead>\n",
       "    <tr style=\"text-align: right;\">\n",
       "      <th></th>\n",
       "      <th>0</th>\n",
       "      <th>1</th>\n",
       "      <th>2</th>\n",
       "      <th>3</th>\n",
       "      <th>4</th>\n",
       "      <th>5</th>\n",
       "      <th>6</th>\n",
       "      <th>7</th>\n",
       "      <th>8</th>\n",
       "      <th>9</th>\n",
       "      <th>10</th>\n",
       "      <th>11</th>\n",
       "    </tr>\n",
       "  </thead>\n",
       "  <tbody>\n",
       "    <tr>\n",
       "      <th>0</th>\n",
       "      <td>0.250945</td>\n",
       "      <td>0.038070</td>\n",
       "      <td>0.174189</td>\n",
       "      <td>0.252085</td>\n",
       "      <td>0.033251</td>\n",
       "      <td>0.069176</td>\n",
       "      <td>0.502026</td>\n",
       "      <td>0.076147</td>\n",
       "      <td>0.348450</td>\n",
       "      <td>0.504277</td>\n",
       "      <td>0.066521</td>\n",
       "      <td>0.138405</td>\n",
       "    </tr>\n",
       "    <tr>\n",
       "      <th>1</th>\n",
       "      <td>0.030757</td>\n",
       "      <td>0.088033</td>\n",
       "      <td>0.085947</td>\n",
       "      <td>0.065135</td>\n",
       "      <td>0.024395</td>\n",
       "      <td>0.045976</td>\n",
       "      <td>0.061398</td>\n",
       "      <td>0.176002</td>\n",
       "      <td>0.171773</td>\n",
       "      <td>0.130146</td>\n",
       "      <td>0.048760</td>\n",
       "      <td>0.091882</td>\n",
       "    </tr>\n",
       "    <tr>\n",
       "      <th>2</th>\n",
       "      <td>0.220256</td>\n",
       "      <td>0.183292</td>\n",
       "      <td>0.269014</td>\n",
       "      <td>0.282814</td>\n",
       "      <td>0.065713</td>\n",
       "      <td>0.128120</td>\n",
       "      <td>0.440553</td>\n",
       "      <td>0.366600</td>\n",
       "      <td>0.538065</td>\n",
       "      <td>0.565669</td>\n",
       "      <td>0.131436</td>\n",
       "      <td>0.256263</td>\n",
       "    </tr>\n",
       "  </tbody>\n",
       "</table>\n",
       "</div>"
      ],
      "text/plain": [
       "         0         1         2         3         4         5         6   \\\n",
       "0  0.250945  0.038070  0.174189  0.252085  0.033251  0.069176  0.502026   \n",
       "1  0.030757  0.088033  0.085947  0.065135  0.024395  0.045976  0.061398   \n",
       "2  0.220256  0.183292  0.269014  0.282814  0.065713  0.128120  0.440553   \n",
       "\n",
       "         7         8         9         10        11  \n",
       "0  0.076147  0.348450  0.504277  0.066521  0.138405  \n",
       "1  0.176002  0.171773  0.130146  0.048760  0.091882  \n",
       "2  0.366600  0.538065  0.565669  0.131436  0.256263  "
      ]
     },
     "execution_count": 10,
     "metadata": {},
     "output_type": "execute_result"
    }
   ],
   "source": [
    "pd.DataFrame(X_c_rev)"
   ]
  },
  {
   "cell_type": "markdown",
   "metadata": {},
   "source": [
    "There you go! We now have learnt latent factors that conform to our constraints."
   ]
  }
 ],
 "metadata": {
  "kernelspec": {
   "display_name": "Python 3",
   "language": "python",
   "name": "python3"
  },
  "language_info": {
   "codemirror_mode": {
    "name": "ipython",
    "version": 3
   },
   "file_extension": ".py",
   "mimetype": "text/x-python",
   "name": "python",
   "nbconvert_exporter": "python",
   "pygments_lexer": "ipython3",
   "version": "3.7.4"
  }
 },
 "nbformat": 4,
 "nbformat_minor": 1
}
