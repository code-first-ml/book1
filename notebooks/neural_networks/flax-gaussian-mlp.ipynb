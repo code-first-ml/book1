{
 "cells": [
  {
   "cell_type": "code",
   "execution_count": 1,
   "id": "fd23252b",
   "metadata": {},
   "outputs": [],
   "source": [
    "import jax\n",
    "import jax.numpy as jnp  # JAX NumPy\n",
    "\n",
    "from flax import linen as nn  # The Linen API\n",
    "from flax.training import train_state  # Useful dataclass to keep train state\n",
    "\n",
    "import numpy as np  # Ordinary NumPy\n",
    "import optax  # Optimizers\n",
    "import matplotlib.pyplot as plt\n",
    "\n",
    "%matplotlib inline"
   ]
  },
  {
   "cell_type": "code",
   "execution_count": 2,
   "id": "22605baa",
   "metadata": {},
   "outputs": [],
   "source": [
    "class Linear(nn.Module):\n",
    "    \"\"\"A simple MLP model.\"\"\"\n",
    "\n",
    "    @nn.compact\n",
    "    def __call__(self, x):\n",
    "        x = nn.Dense(features=1)(x)\n",
    "        return x"
   ]
  },
  {
   "cell_type": "code",
   "execution_count": 3,
   "id": "5e76a4d3",
   "metadata": {},
   "outputs": [],
   "source": [
    "linear = Linear()"
   ]
  },
  {
   "cell_type": "code",
   "execution_count": 4,
   "id": "45ed3021",
   "metadata": {},
   "outputs": [
    {
     "name": "stderr",
     "output_type": "stream",
     "text": [
      "WARNING:absl:No GPU/TPU found, falling back to CPU. (Set TF_CPP_MIN_LOG_LEVEL=0 and rerun for more info.)\n"
     ]
    }
   ],
   "source": [
    "key = jax.random.PRNGKey(0)\n",
    "x = jnp.linspace(-2, 2, 100)"
   ]
  },
  {
   "cell_type": "code",
   "execution_count": 5,
   "id": "055dcbdd",
   "metadata": {},
   "outputs": [],
   "source": [
    "f = 4 * x + 3\n",
    "y = f"
   ]
  },
  {
   "cell_type": "code",
   "execution_count": 6,
   "id": "424ffbe6",
   "metadata": {},
   "outputs": [
    {
     "data": {
      "text/plain": [
       "[<matplotlib.lines.Line2D at 0x1aaaafbb0>]"
      ]
     },
     "execution_count": 6,
     "metadata": {},
     "output_type": "execute_result"
    },
    {
     "data": {
      "image/png": "[encoded data removed]",
      "text/plain": [
       "<Figure size 432x288 with 1 Axes>"
      ]
     },
     "metadata": {
      "needs_background": "light"
     },
     "output_type": "display_data"
    }
   ],
   "source": [
    "plt.plot(x, f)"
   ]
  },
  {
   "cell_type": "code",
   "execution_count": 7,
   "id": "ed3ffcba",
   "metadata": {},
   "outputs": [],
   "source": [
    "params = linear.init(\n",
    "    jax.random.PRNGKey(1),\n",
    "    # 1 example of 1 dimension\n",
    "    jnp.ones([1]),\n",
    ")[\"params\"]"
   ]
  },
  {
   "cell_type": "code",
   "execution_count": 8,
   "id": "1e0ebf62",
   "metadata": {},
   "outputs": [
    {
     "data": {
      "text/plain": [
       "FrozenDict({\n",
       "    Dense_0: {\n",
       "        kernel: DeviceArray([[-1.3501872]], dtype=float32),\n",
       "        bias: DeviceArray([0.], dtype=float32),\n",
       "    },\n",
       "})"
      ]
     },
     "execution_count": 8,
     "metadata": {},
     "output_type": "execute_result"
    }
   ],
   "source": [
    "params"
   ]
  },
  {
   "cell_type": "code",
   "execution_count": 9,
   "id": "d16382fd",
   "metadata": {},
   "outputs": [],
   "source": [
    "y_pred = linear.apply({\"params\": params}, x.reshape(-1, 1))"
   ]
  },
  {
   "cell_type": "code",
   "execution_count": 10,
   "id": "262d2155",
   "metadata": {},
   "outputs": [],
   "source": [
    "def loss(params):\n",
    "    y_pred = linear.apply({\"params\": params}, x.reshape(-1, 1))\n",
    "    return jnp.mean((y_pred.flatten() - y) ** 2)"
   ]
  },
  {
   "cell_type": "code",
   "execution_count": 11,
   "id": "2ebac5d7",
   "metadata": {},
   "outputs": [
    {
     "data": {
      "text/plain": [
       "DeviceArray(47.93703, dtype=float32)"
      ]
     },
     "execution_count": 11,
     "metadata": {},
     "output_type": "execute_result"
    }
   ],
   "source": [
    "loss(params)"
   ]
  },
  {
   "cell_type": "code",
   "execution_count": 12,
   "id": "42a0294e",
   "metadata": {},
   "outputs": [
    {
     "name": "stdout",
     "output_type": "stream",
     "text": [
      "0 47.93703\n",
      "20 16.929716\n",
      "40 6.073872\n",
      "60 2.218848\n",
      "80 0.82694215\n",
      "100 0.31482065\n",
      "120 0.12248329\n",
      "140 0.04867445\n",
      "160 0.019731296\n",
      "180 0.0081429845\n"
     ]
    }
   ],
   "source": [
    "LEARNING_RATE = 0.01\n",
    "for i in range(200):\n",
    "    if i % 20 == 0:\n",
    "        print(i, loss(params))\n",
    "    grads = jax.grad(loss)(params)\n",
    "    params = jax.tree_map(lambda p, g: p - LEARNING_RATE * g, params, grads)"
   ]
  },
  {
   "cell_type": "code",
   "execution_count": 13,
   "id": "4c5dd0d5",
   "metadata": {},
   "outputs": [
    {
     "data": {
      "text/plain": [
       "FrozenDict({\n",
       "    Dense_0: {\n",
       "        bias: DeviceArray([2.9472368], dtype=float32),\n",
       "        kernel: DeviceArray([[3.978492]], dtype=float32),\n",
       "    },\n",
       "})"
      ]
     },
     "execution_count": 13,
     "metadata": {},
     "output_type": "execute_result"
    }
   ],
   "source": [
    "params"
   ]
  },
  {
   "cell_type": "markdown",
   "id": "efd568bc",
   "metadata": {},
   "source": [
    "### Example 2\n",
    "\n",
    "Using two output from a single network:\n",
    "- mu\n",
    "- log sigma\n",
    "\n",
    "The input is still 1 dimensional"
   ]
  },
  {
   "cell_type": "code",
   "execution_count": 62,
   "id": "03101694",
   "metadata": {},
   "outputs": [],
   "source": [
    "import tensorflow_probability.substrates.jax as tfp\n",
    "\n",
    "dist = tfp.distributions"
   ]
  },
  {
   "cell_type": "code",
   "execution_count": 63,
   "id": "c5d4136f",
   "metadata": {},
   "outputs": [],
   "source": [
    "model = nn.Dense(features=2)"
   ]
  },
  {
   "cell_type": "code",
   "execution_count": 64,
   "id": "e7c36af1",
   "metadata": {},
   "outputs": [],
   "source": [
    "key1, key2 = jax.random.split(jax.random.PRNGKey(0))"
   ]
  },
  {
   "cell_type": "code",
   "execution_count": 65,
   "id": "4df83601",
   "metadata": {},
   "outputs": [
    {
     "data": {
      "text/plain": [
       "FrozenDict({\n",
       "    params: {\n",
       "        bias: (2,),\n",
       "        kernel: (1, 2),\n",
       "    },\n",
       "})"
      ]
     },
     "execution_count": 65,
     "metadata": {},
     "output_type": "execute_result"
    }
   ],
   "source": [
    "params = model.init(key2, jax.random.normal(key1, (1,)))  # Initialization call\n",
    "jax.tree_map(lambda x: x.shape, params)  # Checking output shapes"
   ]
  },
  {
   "cell_type": "code",
   "execution_count": 66,
   "id": "fa89fe79",
   "metadata": {},
   "outputs": [],
   "source": [
    "def loss_single_point(params, x, y):\n",
    "    mu, log_sigma = model.apply(params, x)\n",
    "    sigma = jnp.exp(log_sigma)\n",
    "    d = dist.Normal(loc=mu, scale=sigma)\n",
    "    return -d.log_prob(y)"
   ]
  },
  {
   "cell_type": "code",
   "execution_count": 67,
   "id": "cde5377f",
   "metadata": {},
   "outputs": [
    {
     "data": {
      "text/plain": [
       "DeviceArray(13.639355, dtype=float32)"
      ]
     },
     "execution_count": 67,
     "metadata": {},
     "output_type": "execute_result"
    }
   ],
   "source": [
    "loss_single_point(params, x.reshape(-1, 1)[0], y[0])"
   ]
  },
  {
   "cell_type": "code",
   "execution_count": 68,
   "id": "093f5fe5",
   "metadata": {},
   "outputs": [],
   "source": [
    "def loss_batch(params):\n",
    "    return jnp.mean(\n",
    "        jax.vmap(loss_single_point, in_axes=(None, 0, 0))(params, x.reshape(-1, 1), y)\n",
    "    )"
   ]
  },
  {
   "cell_type": "code",
   "execution_count": 69,
   "id": "18af1678",
   "metadata": {},
   "outputs": [
    {
     "name": "stdout",
     "output_type": "stream",
     "text": [
      "0 9.345089\n",
      "20 2.8834393\n",
      "40 2.6519895\n",
      "60 2.580899\n",
      "80 2.5424628\n",
      "100 2.513456\n",
      "120 2.4875503\n",
      "140 2.4626925\n",
      "160 2.438191\n",
      "180 2.4138575\n",
      "200 2.38971\n",
      "220 2.3658588\n",
      "240 2.3424506\n",
      "260 2.3196318\n",
      "280 2.2975214\n",
      "300 2.276183\n",
      "320 2.2556098\n",
      "340 2.235717\n",
      "360 2.2163546\n",
      "380 2.1973255\n"
     ]
    }
   ],
   "source": [
    "LEARNING_RATE = 0.01\n",
    "for i in range(400):\n",
    "    if i % 20 == 0:\n",
    "        print(i, loss_batch(params))\n",
    "    grads = jax.grad(loss_batch)(params)\n",
    "    params = jax.tree_map(lambda p, g: p - LEARNING_RATE * g, params, grads)"
   ]
  },
  {
   "cell_type": "code",
   "execution_count": 70,
   "id": "b475ffe4",
   "metadata": {},
   "outputs": [
    {
     "data": {
      "text/plain": [
       "FrozenDict({\n",
       "    params: {\n",
       "        bias: DeviceArray([0.33070767, 0.8085162 ], dtype=float32),\n",
       "        kernel: DeviceArray([[2.235442  , 0.70084536]], dtype=float32),\n",
       "    },\n",
       "})"
      ]
     },
     "execution_count": 70,
     "metadata": {},
     "output_type": "execute_result"
    }
   ],
   "source": [
    "params"
   ]
  },
  {
   "cell_type": "code",
   "execution_count": 82,
   "id": "48b14c96",
   "metadata": {},
   "outputs": [
    {
     "data": {
      "text/plain": [
       "<matplotlib.legend.Legend at 0x1b6213850>"
      ]
     },
     "execution_count": 82,
     "metadata": {},
     "output_type": "execute_result"
    },
    {
     "data": {
      "image/png": "[encoded data removed]",
      "text/plain": [
       "<Figure size 432x288 with 1 Axes>"
      ]
     },
     "metadata": {
      "needs_background": "light"
     },
     "output_type": "display_data"
    }
   ],
   "source": [
    "plt.plot(x, y, label=\"True\")\n",
    "preds = model.apply(params, x.reshape(-1, 1))\n",
    "plt.plot(x, preds[:, 0], label=\"Predictions\")\n",
    "plt.fill_between(\n",
    "    x,\n",
    "    preds[:, 0] + jnp.exp(preds[:, 1]),\n",
    "    preds[:, 0] - jnp.exp(preds[:, 1]),\n",
    "    color=\"C1\",\n",
    "    alpha=0.2,\n",
    "    label=r\"$\\mu \\pm \\sigma$\"\n",
    ")\n",
    "plt.legend()"
   ]
  },
  {
   "cell_type": "code",
   "execution_count": null,
   "id": "9b739ad4",
   "metadata": {},
   "outputs": [],
   "source": []
  }
 ],
 "metadata": {
  "kernelspec": {
   "display_name": "Python 3 (ipykernel)",
   "language": "python",
   "name": "python3"
  },
  "language_info": {
   "codemirror_mode": {
    "name": "ipython",
    "version": 3
   },
   "file_extension": ".py",
   "mimetype": "text/x-python",
   "name": "python",
   "nbconvert_exporter": "python",
   "pygments_lexer": "ipython3",
   "version": "3.9.13"
  }
 },
 "nbformat": 4,
 "nbformat_minor": 5
}
