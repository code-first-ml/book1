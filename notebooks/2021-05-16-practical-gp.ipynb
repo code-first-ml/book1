{
 "cells": [
  {
   "cell_type": "markdown",
   "metadata": {},
   "source": [
    "# Practical GPs (Work in progress)"
   ]
  },
  {
   "cell_type": "markdown",
   "metadata": {},
   "source": [
    "In this chapter we will see some notes on practical implementation of GPs."
   ]
  },
  {
   "cell_type": "markdown",
   "metadata": {},
   "source": [
    "## Notation\n",
    "\n",
    "|Notation|Meaning|Comment|\n",
    "|:-:|:-:|:--|\n",
    "|$A$|matrix|capital letters|\n",
    "|$\\mathbf{a}$|column vector|small letters (bold)|\n",
    "|$a$|scaler|small letters (normal)|"
   ]
  },
  {
   "cell_type": "markdown",
   "metadata": {},
   "source": [
    "## Defining GPs (a bayesian way)"
   ]
  },
  {
   "cell_type": "markdown",
   "metadata": {},
   "source": [
    "With abstract notation, We can define GPs in function space as the following,\n",
    "\n",
    "$$\n",
    "p(\\mathbf{f}|\\mathbf{y}) = \\frac{p(\\mathbf{y}|\\mathbf{f})p(\\mathbf{f})}{p(\\mathbf{y})}\n",
    "$$\n",
    "\n",
    "looking at the individual components,"
   ]
  },
  {
   "cell_type": "markdown",
   "metadata": {},
   "source": [
    "## Prior: $p(\\mathbf{f})$"
   ]
  },
  {
   "cell_type": "markdown",
   "metadata": {},
   "source": [
    "$p(\\mathbf{f})$ is **prior** (initial belief) over potential functions that can model our data ($\\mathbf{y}$) well. For example, if we suspect that our data has a shape of degree 3 polynomial ($y = f(x) = w_1x^3 + w_2x^2 + w_3x + w_4$), we may define $p(\\mathbf{f})$ over all possible degree 3 polynomials. In GPs, we define such functions with Multivariate Normal (MVN) distribution. The covariance matrix for this MVN distribution is generated using a covariance function or kernel which depends on $X$. Note that maximum degree of polynomial $f(X)$ that can be generated from such Multivariate-Normal (MVN) distributions is same as the rank of covariance matrix. For example, if our covariance matrix is rank 5, all samples generated from such MVN distribution are at maximum degree 5 functions of $X$.   \n",
    "\n",
    "From the above discussion, one may have noticed that kernels play an important role in defining the priors in GPs (and thus, effectively everything in GPs)."
   ]
  },
  {
   "cell_type": "markdown",
   "metadata": {},
   "source": [
    "### Kernels: $K(\\mathbf{x}_i, \\mathbf{x}_j)$"
   ]
  },
  {
   "cell_type": "markdown",
   "metadata": {},
   "source": [
    "A kernel function takes two vectors $\\mathbf{x}_i, \\mathbf{x}_j$ (along with some parameters) and returns a single scaler (similarity score). Here, $\\mathbf{x}_i, \\mathbf{x}_j$ are vectors because we take a generelized case where $X$ consists of multiple features and thus length of these vectors would be same as number of features.\n",
    "\n",
    "Now, interestingly, composition of kernel function decides the rank of covariance matrix and thus max degree of polynomial that can be generated using this kernel.\n",
    "\n",
    "For example, let us see examples of several kernels."
   ]
  },
  {
   "cell_type": "code",
   "execution_count": 1,
   "metadata": {},
   "outputs": [],
   "source": [
    "import GPy\n",
    "import numpy as np\n",
    "import matplotlib.pyplot as plt"
   ]
  },
  {
   "cell_type": "markdown",
   "metadata": {},
   "source": [
    "Generating features (X) in 5D."
   ]
  },
  {
   "cell_type": "code",
   "execution_count": 2,
   "metadata": {},
   "outputs": [],
   "source": [
    "X = np.random.uniform(0,5,20).reshape(10,2)"
   ]
  },
  {
   "cell_type": "markdown",
   "metadata": {},
   "source": [
    "### Linear kernel"
   ]
  },
  {
   "cell_type": "markdown",
   "metadata": {},
   "source": [
    "Linear kernel (aka dot product kernel) creates a covariance matrix of rank 1. It can be defined as the following,\n",
    "\n",
    "$$\n",
    "K(\\mathbf{x_i}, \\mathbf{x_j}) = \\sigma^2\\mathbf{x_i}^T\\mathbf{x_j}\n",
    "$$\n",
    "\n",
    "$\\sigma^2$ denotes kernel variance parameter."
   ]
  },
  {
   "cell_type": "code",
   "execution_count": 3,
   "metadata": {},
   "outputs": [],
   "source": [
    "def LinearKernel(X_i, X_j, sigma): # Vectorized implementation\n",
    "    return (sigma**2)*(X_i@X_j.T) # not X_i.T@X_j because this is a vectorized implementation for X_i and X_j matrices"
   ]
  },
  {
   "cell_type": "code",
   "execution_count": 4,
   "metadata": {},
   "outputs": [
    {
     "data": {
      "image/png": "[encoded data removed]",
      "text/plain": [
       "<Figure size 432x288 with 1 Axes>"
      ]
     },
     "metadata": {
      "needs_background": "light"
     },
     "output_type": "display_data"
    }
   ],
   "source": [
    "sigma = 1\n",
    "\n",
    "# cov_matrix = LinearKernel(X, X, sigma)\n",
    "cov_matrix = GPy.kern.Linear(X.shape[1], ARD=False).K(X)\n",
    "\n",
    "y = np.random.multivariate_normal(np.zeros(10), cov_matrix)\n",
    "plt.scatter(X[:,0], X[:,1]);"
   ]
  }
 ],
 "metadata": {
  "kernelspec": {
   "display_name": "Python 3",
   "language": "python",
   "name": "python3"
  },
  "language_info": {
   "codemirror_mode": {
    "name": "ipython",
    "version": 3
   },
   "file_extension": ".py",
   "mimetype": "text/x-python",
   "name": "python",
   "nbconvert_exporter": "python",
   "pygments_lexer": "ipython3",
   "version": "3.8.5"
  }
 },
 "nbformat": 4,
 "nbformat_minor": 4
}
