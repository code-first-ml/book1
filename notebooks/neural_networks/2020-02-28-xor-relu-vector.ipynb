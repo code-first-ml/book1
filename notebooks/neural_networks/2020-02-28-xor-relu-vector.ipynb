{
 "cells": [
  {
   "cell_type": "markdown",
   "metadata": {},
   "source": [
    "# Learning neural network for XOR \n",
    ">From scratch\n",
    "\n",
    "- toc: true \n",
    "- badges: true\n",
    "- comments: true\n",
    "- author: Nipun Batra\n",
    "- categories: [ML]"
   ]
  },
  {
   "cell_type": "code",
   "execution_count": 72,
   "metadata": {},
   "outputs": [],
   "source": [
    "import autograd.numpy as np\n",
    "import matplotlib.pyplot as plt\n",
    "%matplotlib inline\n",
    "np.numpy_boxes.ArrayBox.__repr__ = lambda self: str(self._value)\n"
   ]
  },
  {
   "cell_type": "code",
   "execution_count": 73,
   "metadata": {},
   "outputs": [],
   "source": [
    "X = np.array([[0, 0],\n",
    "             [0, 1],\n",
    "             [1, 0],\n",
    "             [1, 1]\n",
    "             ])\n",
    "\n",
    "y = np.array([[0], [1], [1], [0]])"
   ]
  },
  {
   "cell_type": "code",
   "execution_count": 74,
   "metadata": {},
   "outputs": [
    {
     "data": {
      "text/plain": [
       "((4, 2), (4, 1))"
      ]
     },
     "execution_count": 74,
     "metadata": {},
     "output_type": "execute_result"
    }
   ],
   "source": [
    "X.shape, y.shape"
   ]
  },
  {
   "cell_type": "code",
   "execution_count": 75,
   "metadata": {},
   "outputs": [],
   "source": [
    "N, N_0 = X.shape\n",
    "N, N_2 = y.shape\n",
    "N_1 = 2"
   ]
  },
  {
   "cell_type": "code",
   "execution_count": 76,
   "metadata": {},
   "outputs": [],
   "source": [
    "W = [np.array([0]), np.array([[1, 1], [1, 1]]), np.array([[1, -2]])]\n",
    "\n",
    "b = [np.array([0]), np.array([[0], [-1]]), np.array([[0]])]\n",
    "B = []\n"
   ]
  },
  {
   "cell_type": "code",
   "execution_count": 77,
   "metadata": {},
   "outputs": [],
   "source": [
    "A = [X]\n",
    "A.extend([None]*(len(W)-1))\n",
    "Z = [None]*(len(W))"
   ]
  },
  {
   "cell_type": "code",
   "execution_count": 78,
   "metadata": {},
   "outputs": [],
   "source": [
    "def relu(z):\n",
    "    temp = z.copy()\n",
    "    temp[temp<0] = 0\n",
    "    return temp\n",
    "\n",
    "def sigmoid(z):\n",
    "    return 1./(1+np.exp(-z))"
   ]
  },
  {
   "cell_type": "code",
   "execution_count": 79,
   "metadata": {},
   "outputs": [],
   "source": [
    "for i in range(1, len(W)):\n",
    "    Z[i] = A[i-1]@(W[i].T) + b[i].T\n",
    "    A[i] =relu(Z[i])"
   ]
  },
  {
   "cell_type": "code",
   "execution_count": 80,
   "metadata": {},
   "outputs": [
    {
     "data": {
      "text/plain": [
       "array([[ True],\n",
       "       [ True],\n",
       "       [ True],\n",
       "       [ True]])"
      ]
     },
     "execution_count": 80,
     "metadata": {},
     "output_type": "execute_result"
    }
   ],
   "source": [
    "A[2]==y"
   ]
  },
  {
   "cell_type": "markdown",
   "metadata": {},
   "source": [
    "Excellent, now let us start from random weight initialisations and use backprop to come to our result"
   ]
  },
  {
   "cell_type": "code",
   "execution_count": null,
   "metadata": {},
   "outputs": [],
   "source": []
  },
  {
   "cell_type": "code",
   "execution_count": 197,
   "metadata": {},
   "outputs": [],
   "source": [
    "shapes = [X.shape[1], 2, 1]\n",
    "activations = ['empty','sigmoid','sigmoid']\n",
    "\n",
    "activation_func = {'sigmoid':sigmoid, 'relu':relu}\n",
    "\n",
    "\n",
    "W = [None]*(len(shapes))\n",
    "b = [None]*(len(shapes))\n",
    "\n",
    "np.random.seed(0)\n",
    "# Dummy\n",
    "W[0] = np.array([0])\n",
    "b[0] = np.array([0])\n",
    "\n",
    "for i in range(1, len(shapes)):\n",
    "    W[i] = np.random.randn(shapes[i], shapes[i-1])\n",
    "    b[i] = np.random.randn(shapes[i], 1)\n",
    "    \n",
    "Z = [None]*(len(W))\n",
    "Z[0] = np.array([0])\n",
    "\n",
    "A = [X]\n",
    "A.extend([None]*(len(W)-1))"
   ]
  },
  {
   "cell_type": "code",
   "execution_count": 198,
   "metadata": {},
   "outputs": [],
   "source": [
    "def make_plot(iteration, loss, W, b, cmap='PRGn',close=True):\n",
    "    h = 100\n",
    "    xx, yy = np.meshgrid(np.linspace(-0.1, 1.1, h),\n",
    "                             np.linspace(-0.1, 1.1, h))\n",
    "    XX = np.c_[xx.ravel(), yy.ravel()]\n",
    "    A = [XX]\n",
    "    A.extend([None]*(len(W)-1))\n",
    "    Z = [None]*(len(W))\n",
    "    for i in range(1, len(W)):\n",
    "        Z[i] = A[i-1]@(W[i].T) + b[i].T\n",
    "        A[i] =sigmoid(Z[i])\n",
    "    pred= A[2].reshape(xx.shape)\n",
    "    pred[pred>0.5] = 1\n",
    "    pred[pred<=0.5] = 0\n",
    "    \n",
    "    contours = plt.contourf(xx, yy, pred, h , cmap=cmap, alpha=0.2)\n",
    "    plt.colorbar()\n",
    "    plt.title(f\"Iteration: {iteration}\\n Loss: {loss}\")\n",
    "    plt.scatter(X[:, 0], X[:, 1], c= y.flatten(), cmap=cmap, s=200)\n",
    "    plt.savefig(f\"/home/nipunbatra-pc/Desktop/xor/{iteration:04}.png\")\n",
    "    if close:\n",
    "        plt.clf()"
   ]
  },
  {
   "cell_type": "code",
   "execution_count": 199,
   "metadata": {},
   "outputs": [
    {
     "data": {
      "image/png": "[encoded data removed]",
      "text/plain": [
       "<Figure size 432x288 with 2 Axes>"
      ]
     },
     "metadata": {
      "needs_background": "light"
     },
     "output_type": "display_data"
    }
   ],
   "source": [
    "make_plot(0, 2.9, W, b, close=False)"
   ]
  },
  {
   "cell_type": "code",
   "execution_count": 133,
   "metadata": {},
   "outputs": [],
   "source": [
    "def objective(W, b):\n",
    "    for i in range(1, len(W)):\n",
    "        Z[i] = A[i-1]@(W[i].T) + b[i].T\n",
    "        A[i] = activation_func[activations[i]](Z[i])\n",
    "    y_hat = A[2]\n",
    "    loss = (-y.T@np.log(y_hat) - (1-y).T@np.log(1-y_hat)).squeeze()\n",
    "    return loss"
   ]
  },
  {
   "cell_type": "code",
   "execution_count": 134,
   "metadata": {},
   "outputs": [
    {
     "data": {
      "text/plain": [
       "array(2.9991465)"
      ]
     },
     "execution_count": 134,
     "metadata": {},
     "output_type": "execute_result"
    }
   ],
   "source": [
    "objective(W, b)"
   ]
  },
  {
   "cell_type": "code",
   "execution_count": 135,
   "metadata": {},
   "outputs": [],
   "source": [
    "from autograd import elementwise_grad as egrad\n",
    "from autograd import grad"
   ]
  },
  {
   "cell_type": "code",
   "execution_count": 136,
   "metadata": {},
   "outputs": [],
   "source": [
    "grad_objective = grad(objective, argnum=[0, 1])"
   ]
  },
  {
   "cell_type": "code",
   "execution_count": 137,
   "metadata": {},
   "outputs": [],
   "source": [
    "(del_W0_auto, del_W1_auto, del_W2_auto), (del_b0_auto, del_b1_auto, del_b2_auto) =  grad_objective(W, b)"
   ]
  },
  {
   "cell_type": "code",
   "execution_count": 138,
   "metadata": {},
   "outputs": [
    {
     "data": {
      "text/plain": [
       "array([[0.60353799, 0.35399637]])"
      ]
     },
     "execution_count": 138,
     "metadata": {},
     "output_type": "execute_result"
    }
   ],
   "source": [
    "del_W2_auto"
   ]
  },
  {
   "cell_type": "code",
   "execution_count": 139,
   "metadata": {},
   "outputs": [],
   "source": [
    "del_W2_ours = (A[2]-y).T@A[1]"
   ]
  },
  {
   "cell_type": "code",
   "execution_count": 140,
   "metadata": {},
   "outputs": [
    {
     "data": {
      "text/plain": [
       "([[0.60353799 0.35399637]], array([[0.60353799, 0.35399637]]))"
      ]
     },
     "execution_count": 140,
     "metadata": {},
     "output_type": "execute_result"
    }
   ],
   "source": [
    "del_W2_ours,del_W2_auto"
   ]
  },
  {
   "cell_type": "code",
   "execution_count": 141,
   "metadata": {},
   "outputs": [],
   "source": [
    "del_b2_ours = (A[2]-y).sum(axis=0).reshape(-1, 1)"
   ]
  },
  {
   "cell_type": "code",
   "execution_count": 142,
   "metadata": {},
   "outputs": [
    {
     "data": {
      "text/plain": [
       "([[0.6632421]], array([[0.6632421]]))"
      ]
     },
     "execution_count": 142,
     "metadata": {},
     "output_type": "execute_result"
    }
   ],
   "source": [
    "del_b2_ours,del_b2_auto"
   ]
  },
  {
   "cell_type": "code",
   "execution_count": 144,
   "metadata": {},
   "outputs": [
    {
     "data": {
      "text/plain": [
       "True"
      ]
     },
     "execution_count": 144,
     "metadata": {},
     "output_type": "execute_result"
    }
   ],
   "source": [
    "del_A1_ours = (A[2]-y)@W[2]\n",
    "del_Z1_ours  = np.multiply(del_A1_ours, sigmoid(Z[1])*(1-sigmoid(Z[1])))\n",
    "del_W1_ours = del_Z1_ours.T@A[0]\n",
    "np.allclose(del_W1_ours, del_W1_auto)"
   ]
  },
  {
   "cell_type": "code",
   "execution_count": 145,
   "metadata": {},
   "outputs": [
    {
     "data": {
      "text/plain": [
       "True"
      ]
     },
     "execution_count": 145,
     "metadata": {},
     "output_type": "execute_result"
    }
   ],
   "source": [
    "del_b1_ours = (del_Z1_ours.sum(axis=0)).reshape(-1, 1)\n",
    "np.allclose(del_b1_ours, del_b1_auto)"
   ]
  },
  {
   "cell_type": "code",
   "execution_count": null,
   "metadata": {},
   "outputs": [],
   "source": []
  },
  {
   "cell_type": "code",
   "execution_count": 201,
   "metadata": {},
   "outputs": [
    {
     "name": "stdout",
     "output_type": "stream",
     "text": [
      "0 2.9991464995409807\n",
      "20 2.850067543754094\n",
      "40 2.5045921819726082\n",
      "60 1.5756597251036364\n",
      "80 0.5779054501565161\n",
      "100 0.3097308274202594\n",
      "120 0.2028529568023768\n"
     ]
    },
    {
     "data": {
      "text/plain": [
       "<Figure size 432x288 with 0 Axes>"
      ]
     },
     "metadata": {},
     "output_type": "display_data"
    }
   ],
   "source": [
    "epochs = 140\n",
    "alpha =1\n",
    "losses = np.zeros(epochs)\n",
    "\n",
    "print_every = 20\n",
    "\n",
    "W = [None]*(len(shapes))\n",
    "b = [None]*(len(shapes))\n",
    "\n",
    "np.random.seed(0)\n",
    "# Dummy\n",
    "W[0] = np.array([0])\n",
    "b[0] = np.array([0])\n",
    "\n",
    "for i in range(1, len(shapes)):\n",
    "    W[i] = np.random.randn(shapes[i], shapes[i-1])\n",
    "    b[i] = np.random.randn(shapes[i], 1)\n",
    "    \n",
    "Z = [None]*(len(W))\n",
    "Z[0] = np.array([0])\n",
    "\n",
    "A = [X]\n",
    "A.extend([None]*(len(W)-1))\n",
    "\n",
    "del_Z = [None]*(len(W)+1)\n",
    "del_A = [None]*(len(W)+1)\n",
    "del_W = [None]*(len(W))\n",
    "del_b = [None]*(len(W))\n",
    "\n",
    "for iteration in range(epochs):\n",
    "    \n",
    "    for i in range(1, len(W)):\n",
    "        Z[i] = A[i-1]@(W[i].T) + b[i].T\n",
    "        A[i] = activation_func[activations[i]](Z[i])\n",
    "\n",
    "    y_hat = A[2]\n",
    "    loss = (-y.T@np.log(y_hat) - (1-y).T@np.log(1-y_hat)).squeeze()\n",
    "    losses[iteration] = loss\n",
    "    if iteration%print_every==0:\n",
    "        print(iteration, loss)\n",
    "    \n",
    "    make_plot(iteration, loss, W, b, close=True)\n",
    "        \n",
    "    del_A[2] = -np.multiply(y, A[2]) + np.multiply((1-y), (1-A[2]))\n",
    "    del_Z[2] = A[2]-y\n",
    "    del_W[2] = (A[2]-y).T@A[1]\n",
    "    del_b[2] = (del_Z[2].sum(axis=0)).reshape(-1, 1)\n",
    "    del_A[1] = del_Z[2]@W[2]\n",
    "    del_Z[1]  = np.multiply(del_A[1], sigmoid(Z[1])*(1-sigmoid(Z[1])))\n",
    "    del_W[1] = del_Z[1].T@A[0]\n",
    "    del_b[1] = (del_Z[1].sum(axis=0)).reshape(-1, 1)\n",
    "    \n",
    "    for i in range(1, len(shapes)):\n",
    "        W[i] = W[i] - alpha*del_W[i]\n",
    "        b[i] = b[i] - alpha*del_b[i]"
   ]
  },
  {
   "cell_type": "code",
   "execution_count": 203,
   "metadata": {},
   "outputs": [
    {
     "data": {
      "image/png": "[encoded data removed]",
      "text/plain": [
       "<Figure size 432x288 with 2 Axes>"
      ]
     },
     "metadata": {
      "needs_background": "light"
     },
     "output_type": "display_data"
    }
   ],
   "source": [
    "make_plot(iteration, loss, W, b, close=False)"
   ]
  },
  {
   "cell_type": "code",
   "execution_count": 121,
   "metadata": {},
   "outputs": [
    {
     "data": {
      "text/plain": [
       "array([[0],\n",
       "       [1],\n",
       "       [1],\n",
       "       [0]])"
      ]
     },
     "execution_count": 121,
     "metadata": {},
     "output_type": "execute_result"
    }
   ],
   "source": [
    "make_plot(0, 2.9, W, b, close=False)"
   ]
  },
  {
   "cell_type": "code",
   "execution_count": 204,
   "metadata": {},
   "outputs": [],
   "source": [
    "!convert -delay 20 -loop 0 /home/nipunbatra-pc/Desktop/xor/*.png xor-own.gif"
   ]
  },
  {
   "cell_type": "markdown",
   "metadata": {},
   "source": [
    "![](xor-own.gif)"
   ]
  }
 ],
 "metadata": {
  "kernelspec": {
   "display_name": "Python 3",
   "language": "python",
   "name": "python3"
  },
  "language_info": {
   "codemirror_mode": {
    "name": "ipython",
    "version": 3
   },
   "file_extension": ".py",
   "mimetype": "text/x-python",
   "name": "python",
   "nbconvert_exporter": "python",
   "pygments_lexer": "ipython3",
   "version": "3.7.4"
  }
 },
 "nbformat": 4,
 "nbformat_minor": 2
}
