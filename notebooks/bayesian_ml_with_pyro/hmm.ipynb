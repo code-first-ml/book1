{
 "cells": [
  {
   "cell_type": "code",
   "execution_count": 1,
   "id": "c57a31a0",
   "metadata": {},
   "outputs": [],
   "source": [
    "import pyro\n",
    "import torch\n",
    "dist = pyro.distributions"
   ]
  },
  {
   "cell_type": "code",
   "execution_count": 4,
   "id": "5de650a6",
   "metadata": {},
   "outputs": [
    {
     "data": {
      "text/plain": [
       "tensor([0.5384, 0.4565, 0.1665, 0.2050, 0.3923, 0.4370, 0.2053, 0.4117, 0.3044,\n",
       "        0.3140])"
      ]
     },
     "execution_count": 4,
     "metadata": {},
     "output_type": "execute_result"
    }
   ],
   "source": [
    "pi = dist.Beta(4, 6)\n",
    "pi.sample([10])"
   ]
  },
  {
   "cell_type": "code",
   "execution_count": 12,
   "id": "90ec53e1",
   "metadata": {},
   "outputs": [
    {
     "data": {
      "text/plain": [
       "Bernoulli(probs: 0.7386557459831238)"
      ]
     },
     "execution_count": 12,
     "metadata": {},
     "output_type": "execute_result"
    }
   ],
   "source": [
    "x_1 = dist.Bernoulli(pi.sample().item())\n",
    "x_1"
   ]
  },
  {
   "cell_type": "code",
   "execution_count": 8,
   "id": "95efffe5",
   "metadata": {},
   "outputs": [
    {
     "data": {
      "text/plain": [
       "0.3052355647087097"
      ]
     },
     "execution_count": 8,
     "metadata": {},
     "output_type": "execute_result"
    }
   ],
   "source": [
    "pi.sample().item()"
   ]
  },
  {
   "cell_type": "code",
   "execution_count": 13,
   "id": "370692bf",
   "metadata": {},
   "outputs": [],
   "source": [
    "A = {}\n",
    "A['rainy'] = dist.Beta(8, 2)\n",
    "A['sunny'] = dist.Beta(2, 8)"
   ]
  },
  {
   "cell_type": "code",
   "execution_count": 29,
   "id": "0c4c1819",
   "metadata": {},
   "outputs": [
    {
     "data": {
      "text/plain": [
       "tensor(0.6447)"
      ]
     },
     "execution_count": 29,
     "metadata": {},
     "output_type": "execute_result"
    }
   ],
   "source": [
    "A['rainy'].sample()"
   ]
  },
  {
   "cell_type": "code",
   "execution_count": 24,
   "id": "6e9c2e69",
   "metadata": {},
   "outputs": [],
   "source": [
    "B = {}\n",
    "B['rainy'] = dist.Categorical(torch.tensor([3., 4., 3.]))\n",
    "B['sunny'] = dist.Categorical(torch.tensor([10., 4., 6.]))"
   ]
  },
  {
   "cell_type": "code",
   "execution_count": 25,
   "id": "72695fd8",
   "metadata": {},
   "outputs": [
    {
     "data": {
      "text/plain": [
       "{'rainy': Categorical(probs: torch.Size([3])),\n",
       " 'sunny': Categorical(probs: torch.Size([3]))}"
      ]
     },
     "execution_count": 25,
     "metadata": {},
     "output_type": "execute_result"
    }
   ],
   "source": [
    "B"
   ]
  },
  {
   "cell_type": "code",
   "execution_count": 28,
   "id": "fd006ae4",
   "metadata": {},
   "outputs": [
    {
     "data": {
      "text/plain": [
       "tensor(0)"
      ]
     },
     "execution_count": 28,
     "metadata": {},
     "output_type": "execute_result"
    }
   ],
   "source": [
    "B['rainy'].sample()"
   ]
  },
  {
   "cell_type": "code",
   "execution_count": null,
   "id": "7f135dc5",
   "metadata": {},
   "outputs": [],
   "source": []
  }
 ],
 "metadata": {
  "kernelspec": {
   "display_name": "Python 3 (ipykernel)",
   "language": "python",
   "name": "python3"
  },
  "language_info": {
   "codemirror_mode": {
    "name": "ipython",
    "version": 3
   },
   "file_extension": ".py",
   "mimetype": "text/x-python",
   "name": "python",
   "nbconvert_exporter": "python",
   "pygments_lexer": "ipython3",
   "version": "3.9.7"
  }
 },
 "nbformat": 4,
 "nbformat_minor": 5
}
