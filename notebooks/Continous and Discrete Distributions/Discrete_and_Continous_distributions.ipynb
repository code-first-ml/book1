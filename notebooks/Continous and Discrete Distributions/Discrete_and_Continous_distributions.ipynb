{
  "nbformat": 4,
  "nbformat_minor": 0,
  "metadata": {
    "colab": {
      "name": "Discrete and Continous distributions.ipynb",
      "provenance": [],
      "collapsed_sections": [
        "ql4rYkfC07m2",
        "tz2-VbX8nGKF",
        "us_89YgaZPvz",
        "t4axdxW-s9Wj",
        "munT2Q1UHWbn"
      ]
    },
    "kernelspec": {
      "name": "python3",
      "display_name": "Python 3"
    },
    "language_info": {
      "name": "python"
    },
    "accelerator": "GPU",
    "widgets": {
      "application/vnd.jupyter.widget-state+json": {
        "1fb14549f6f649b68cca6935231553ec": {
          "model_module": "@jupyter-widgets/controls",
          "model_name": "VBoxModel",
          "model_module_version": "1.5.0",
          "state": {
            "_dom_classes": [
              "widget-interact"
            ],
            "_model_module": "@jupyter-widgets/controls",
            "_model_module_version": "1.5.0",
            "_model_name": "VBoxModel",
            "_view_count": null,
            "_view_module": "@jupyter-widgets/controls",
            "_view_module_version": "1.5.0",
            "_view_name": "VBoxView",
            "box_style": "",
            "children": [
              "IPY_MODEL_2271d6c764f74072a32d14840c96dd3b",
              "IPY_MODEL_9eaa275d99b44b7a9aa593a3dff5dc11",
              "IPY_MODEL_dcac158ae0104ab890cbc407e674752f",
              "IPY_MODEL_7e08d771e2be4fae8a97d1b9e11308b5",
              "IPY_MODEL_01a5bd7ba20441cf9e52950ba2922293",
              "IPY_MODEL_97ec4e13c89d49cd9f1b42079161824e",
              "IPY_MODEL_1722bf5e46e549678afbaac9ab43bbf4",
              "IPY_MODEL_fdb7deca95c145de8e3dcedf0e71983f"
            ],
            "layout": "IPY_MODEL_8e3db7ab8abf467b806dc9e6e23b88a6"
          }
        },
        "2271d6c764f74072a32d14840c96dd3b": {
          "model_module": "@jupyter-widgets/controls",
          "model_name": "FloatSliderModel",
          "model_module_version": "1.5.0",
          "state": {
            "_dom_classes": [],
            "_model_module": "@jupyter-widgets/controls",
            "_model_module_version": "1.5.0",
            "_model_name": "FloatSliderModel",
            "_view_count": null,
            "_view_module": "@jupyter-widgets/controls",
            "_view_module_version": "1.5.0",
            "_view_name": "FloatSliderView",
            "continuous_update": true,
            "description": "mean",
            "description_tooltip": null,
            "disabled": false,
            "layout": "IPY_MODEL_ecca3216f1e8473bb645c36db7aa1dd0",
            "max": 10,
            "min": -10,
            "orientation": "horizontal",
            "readout": true,
            "readout_format": ".2f",
            "step": 0.1,
            "style": "IPY_MODEL_9e49077eff5946958c98651cb08bf905",
            "value": 0
          }
        },
        "9eaa275d99b44b7a9aa593a3dff5dc11": {
          "model_module": "@jupyter-widgets/controls",
          "model_name": "FloatSliderModel",
          "model_module_version": "1.5.0",
          "state": {
            "_dom_classes": [],
            "_model_module": "@jupyter-widgets/controls",
            "_model_module_version": "1.5.0",
            "_model_name": "FloatSliderModel",
            "_view_count": null,
            "_view_module": "@jupyter-widgets/controls",
            "_view_module_version": "1.5.0",
            "_view_name": "FloatSliderView",
            "continuous_update": true,
            "description": "std",
            "description_tooltip": null,
            "disabled": false,
            "layout": "IPY_MODEL_b65ccae4ad234704af3568e99bf520fe",
            "max": 10,
            "min": 1,
            "orientation": "horizontal",
            "readout": true,
            "readout_format": ".2f",
            "step": 0.1,
            "style": "IPY_MODEL_00dac6cb7e1447e4a7ac64b7d0ad0372",
            "value": 5.5
          }
        },
        "dcac158ae0104ab890cbc407e674752f": {
          "model_module": "@jupyter-widgets/controls",
          "model_name": "FloatSliderModel",
          "model_module_version": "1.5.0",
          "state": {
            "_dom_classes": [],
            "_model_module": "@jupyter-widgets/controls",
            "_model_module_version": "1.5.0",
            "_model_name": "FloatSliderModel",
            "_view_count": null,
            "_view_module": "@jupyter-widgets/controls",
            "_view_module_version": "1.5.0",
            "_view_name": "FloatSliderView",
            "continuous_update": true,
            "description": "scale",
            "description_tooltip": null,
            "disabled": false,
            "layout": "IPY_MODEL_a71bb9421583432d9770c1cbae669873",
            "max": 10,
            "min": 1,
            "orientation": "horizontal",
            "readout": true,
            "readout_format": ".2f",
            "step": 0.1,
            "style": "IPY_MODEL_dacb8154c15b4336b5becc31d2244e73",
            "value": 5.5
          }
        },
        "7e08d771e2be4fae8a97d1b9e11308b5": {
          "model_module": "@jupyter-widgets/controls",
          "model_name": "FloatSliderModel",
          "model_module_version": "1.5.0",
          "state": {
            "_dom_classes": [],
            "_model_module": "@jupyter-widgets/controls",
            "_model_module_version": "1.5.0",
            "_model_name": "FloatSliderModel",
            "_view_count": null,
            "_view_module": "@jupyter-widgets/controls",
            "_view_module_version": "1.5.0",
            "_view_name": "FloatSliderView",
            "continuous_update": true,
            "description": "low",
            "description_tooltip": null,
            "disabled": false,
            "layout": "IPY_MODEL_54c9fa2aa854453aacaea417a91d3bd9",
            "max": 0,
            "min": -10,
            "orientation": "horizontal",
            "readout": true,
            "readout_format": ".2f",
            "step": 0.1,
            "style": "IPY_MODEL_b77890d77ac94f49b5cb0f36d0d7ff94",
            "value": -5
          }
        },
        "01a5bd7ba20441cf9e52950ba2922293": {
          "model_module": "@jupyter-widgets/controls",
          "model_name": "FloatSliderModel",
          "model_module_version": "1.5.0",
          "state": {
            "_dom_classes": [],
            "_model_module": "@jupyter-widgets/controls",
            "_model_module_version": "1.5.0",
            "_model_name": "FloatSliderModel",
            "_view_count": null,
            "_view_module": "@jupyter-widgets/controls",
            "_view_module_version": "1.5.0",
            "_view_name": "FloatSliderView",
            "continuous_update": true,
            "description": "high",
            "description_tooltip": null,
            "disabled": false,
            "layout": "IPY_MODEL_1bd970a4fbd842dbafa264add84b28e5",
            "max": 10,
            "min": 0,
            "orientation": "horizontal",
            "readout": true,
            "readout_format": ".2f",
            "step": 0.1,
            "style": "IPY_MODEL_35041f38b25345e1bec93e2b92a0695f",
            "value": 5
          }
        },
        "97ec4e13c89d49cd9f1b42079161824e": {
          "model_module": "@jupyter-widgets/controls",
          "model_name": "FloatSliderModel",
          "model_module_version": "1.5.0",
          "state": {
            "_dom_classes": [],
            "_model_module": "@jupyter-widgets/controls",
            "_model_module_version": "1.5.0",
            "_model_name": "FloatSliderModel",
            "_view_count": null,
            "_view_module": "@jupyter-widgets/controls",
            "_view_module_version": "1.5.0",
            "_view_name": "FloatSliderView",
            "continuous_update": true,
            "description": "shape",
            "description_tooltip": null,
            "disabled": false,
            "layout": "IPY_MODEL_ae02d16a198e43f2ad84cfbcb2c07982",
            "max": 10,
            "min": 1,
            "orientation": "horizontal",
            "readout": true,
            "readout_format": ".2f",
            "step": 0.1,
            "style": "IPY_MODEL_428c1f7e9ac242cab3383db9a8e9d296",
            "value": 5.5
          }
        },
        "1722bf5e46e549678afbaac9ab43bbf4": {
          "model_module": "@jupyter-widgets/controls",
          "model_name": "FloatSliderModel",
          "model_module_version": "1.5.0",
          "state": {
            "_dom_classes": [],
            "_model_module": "@jupyter-widgets/controls",
            "_model_module_version": "1.5.0",
            "_model_name": "FloatSliderModel",
            "_view_count": null,
            "_view_module": "@jupyter-widgets/controls",
            "_view_module_version": "1.5.0",
            "_view_name": "FloatSliderView",
            "continuous_update": true,
            "description": "rate",
            "description_tooltip": null,
            "disabled": false,
            "layout": "IPY_MODEL_340a68bafe7542a7998b42defc59abee",
            "max": 10,
            "min": 1,
            "orientation": "horizontal",
            "readout": true,
            "readout_format": ".2f",
            "step": 0.1,
            "style": "IPY_MODEL_28d5cf831899470da16824da6e21fff5",
            "value": 5.5
          }
        },
        "fdb7deca95c145de8e3dcedf0e71983f": {
          "model_module": "@jupyter-widgets/output",
          "model_name": "OutputModel",
          "model_module_version": "1.0.0",
          "state": {
            "_dom_classes": [],
            "_model_module": "@jupyter-widgets/output",
            "_model_module_version": "1.0.0",
            "_model_name": "OutputModel",
            "_view_count": null,
            "_view_module": "@jupyter-widgets/output",
            "_view_module_version": "1.0.0",
            "_view_name": "OutputView",
            "layout": "IPY_MODEL_5863ab0257d14925ada806e64d6249eb",
            "msg_id": "",
            "outputs": [
              {
                "output_type": "display_data",
                "data": {
                  "text/plain": "<Figure size 360x360 with 1 Axes>",
                  "image/png": "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\n"
                },
                "metadata": {
                  "needs_background": "light"
                }
              },
              {
                "output_type": "display_data",
                "data": {
                  "text/plain": "<Figure size 360x360 with 1 Axes>",
                  "image/png": "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\n"
                },
                "metadata": {
                  "needs_background": "light"
                }
              },
              {
                "output_type": "display_data",
                "data": {
                  "text/plain": "<Figure size 360x360 with 1 Axes>",
                  "image/png": "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\n"
                },
                "metadata": {
                  "needs_background": "light"
                }
              },
              {
                "output_type": "display_data",
                "data": {
                  "text/plain": "<Figure size 360x360 with 1 Axes>",
                  "image/png": "iVBORw0KGgoAAAANSUhEUgAAAWAAAAFgCAYAAACFYaNMAAAABHNCSVQICAgIfAhkiAAAAAlwSFlzAAALEgAACxIB0t1+/AAAADh0RVh0U29mdHdhcmUAbWF0cGxvdGxpYiB2ZXJzaW9uMy4yLjIsIGh0dHA6Ly9tYXRwbG90bGliLm9yZy+WH4yJAAAgAElEQVR4nO3de3xc5X3n8c9vRnfL1sWSbVmSLRvf78bCQEwbSKAxSQp5tUmBLm2TTUO6m7Rp0hvd9JWmaffS7ZaWbtI2LG3SpAkBkixhExpKIAnEYMBgY3zB2MjGutmWLI2uo9vo2T9mRoyNZMm2zpyZM9/366WX5nJm5idAX46e5/c8x5xziIhI+oX8LkBEJFcpgEVEfKIAFhHxiQJYRMQnCmAREZ/k+V3Axdq5c6f74Q9/6HcZIiIXwyZ7MOvOgDs7O/0uQURkVmRdAIuIBIUCWETEJwpgERGfKIBFRHyiABYR8YkCWETEJwpgERGfKIBFRHyiABYR8YkCWETEJwpgERGfeBbAZvbPZnbGzA5M8byZ2d+Z2TEz229mV3pVi4hIJvLyDPirwM4LPH8zsDLxdRfwDx7WIiKScTwLYOfc00DXBQ65Ffiai9sNlJtZjVf1iIhkGj/HgGuB5pT7LYnH3sbM7jKzPWa2p6OjIy3FiYh4LSsm4Zxz9znnGp1zjdXV1X6XIyIyK/wM4FagPuV+XeIxEZGc4GcAPwr8eqIb4hqgxznX7mM9IiJp5dk14czsAeB6oMrMWoA/BfIBnHP/CDwGvBc4BgwCH/GqFhGRTORZADvn7pjmeQd8wqvPFxHJdFkxCSciEkQKYBERnyiARUR8ogAWEfGJAlhExCcKYBERnyiAZcLQaIz+4TG/yxDJGZ71AUv2ONM3xGcefIXdTWcJmXHLlsV89r1rqZhT4HdpIoGmAM5xLd2D3Pbl3XQPjnDXzy+nb2iMB19s5nB7L9/8zWsoK8n3u0SRwFIA5zDnHH/83VfpiY7y4F3XsrGuDIB3rV3Ax7/2Er/9rb38y0euwsx8rlQkmDQGnMO+t6+NZ4528oc7V0+EL8ANqxfw2fet5enXO/jevjYfKxQJNgVwjoqNO/76iSNsqivjP1y99G3P33nNUrbUl/OF7x+ib2jUhwpFgk8BnKN+dPg0zV1RfuudVxAOvX2IIRwyPn/LeroGRvjG8yd9qFAk+BTAOeoru45TW17ML6xbOOUxW+rL+bmVVdz/zHGGRmNprE4kNyiAc9DxzgF2N3Vx5zVLyQtf+D+BT9ywgs7+Yb7zckuaqhPJHQrgHPTYq/ELj9y6ZfG0x169rJK1NfN44AUNQ4jMNgVwDnrs1Xa2LilncXnxtMeaGXdsr+dAay8HWnvSUJ1I7lAA55g3zw5wsK2X922smfFrbt1SS1F+SGfBIrNMAZxjHj94CoCdGxbN+DVlxfncvKGG7+9vZ2Rs3KvSRHKOAjjHPHO0k1ULS6mrKLmo171/Uw090VF2Hev0qDKR3KMAziFDozFeON7FjhVVF/3an1tZzdyiPL6/v92DykRykwI4h7z8ZjfDY+NcdwkBXJAX4j3rF/Hvh04xPKaeYJHZoADOIT871kk4ZFy9fP4lvf59G2voGxrj2TfOznJlIrlJAZxDdh3rZGt9OaWFl7YJ3rVXzKc4P8xTh8/McmUiuUkBnCMGR8Y40NbL9mWVl/weRflhrltZxZOHT+Ocm8XqRHKTAjhH7G/pITbu2La04rLe58a1C2jrGeJwe98sVSaSuxTAOeLlk90AbF1yeQF8w5oFADz12unLrkkk1ymAc8TLb3azvGoOlZd5nbcFc4tYv3gezxxVP7DI5VIA5wDnHC+fjHDlZQ4/JO1YUcXekxGiI2pHE7kcCuAccOLsIF0DI1x5mcMPSe+4Yj4jsXFePNE1K+8nkqsUwDlgf0sEgM31ZdMcOTPbl1WSHzZ2vaFhCJHLoQDOAYfaeikIh1i1cO6svF9JQR5b6yt49pgWZIhcDgVwDjjQ1sOamrnkT3P1i4vxjhXzOdDWQ2RwZNbeUyTXKIADzjnHgdZe1i+eN6vvu2NFFc7B7iadBYtcKgVwwLV0R+mJjrJ+8eyM/yZtriunpCDMLg1DiFwyBXDAHWzrBWBD7ewGcEFeiO3LKjURJ3IZFMABd7Cth3DIWLNodibgUu24ooqmjgFO9QzN+nuL5AIFcMAdbu9ledUcivLDs/7e114R39ZS48Ail0YBHHBHTvex2oOzX4C1NfMoLcxjz5takCFyKRTAAdY/PEZzV5TVs9T/e75wyNi6pJw9J7o9eX+RoFMAB9jR0/EtI706AwbYtrSCI6f76B0a9ewzRIJKARxgR055H8CNSytxDvaejHj2GSJBpQAOsCOn+yjOD1N/kZegvxhblpQTMnhJG/OIXDQFcIC9frqPVQtLCYXMs88oLcxjbc089rypcWCRi6UADrAjp7zrgEjVuLSCfc0RxmLjnn+WSJAogAMqMjhCZ/8IKxaUev5Z2xoqGRyJ6TpxIhdJARxQb3QMALC8yvsAbkxcaUP9wCIXRwEcUMc7EwFcPcfzz1pcXszisiKNA4tcJAVwQDV19JMXMuorveuASLWtoZKXTnTjnEvL54kEgQI4oJo6Blgyv2RWN2G/kMalFZzqHaJNG/OIzJgCOKCaOvvTMv6btKW+HIBXmrUgQ2SmFMABFBt3nDg7mJbx36Q1NXMpCIcUwCIXwdMANrOdZnbEzI6Z2d2TPL/EzH5sZnvNbL+ZvdfLenJFWyTKyNg4y6vSF8CFeWHWLp7HPgWwyIx5FsBmFga+BNwMrAPuMLN15x32J8BDzrmtwO3A33tVTy55o6MfgOXV6RuCANhaX86rrT3ExjURJzITXp4BbweOOeeanHMjwLeAW887xgHJq0WWAW0e1pMzmjrS14KWanN9GYMjMY6e0YIMkZnwMoBrgeaU+y2Jx1J9HrjTzFqAx4Df9rCenHG8c4C5RXnMn1OQ1s/dUh9fkLFPO6OJzIjfk3B3AF91ztUB7wW+bmZvq8nM7jKzPWa2p6OjI+1FZpumzn6WV5di5t0mPJNpmF9CWXE+r7QogEVmwssAbgXqU+7XJR5L9VHgIQDn3HNAEVB1/hs55+5zzjU65xqrq6s9Kjc4mjoGuCKNE3BJZsbm+nLtDSwyQ14G8IvASjNbZmYFxCfZHj3vmJPAuwHMbC3xANYp7mUYHBmjvWco7eO/SVvqynj9dB+DI2O+fL5INvEsgJ1zY8AngceBw8S7HQ6a2RfM7JbEYb8HfMzMXgEeAD7stJb1siT3gFiWxkUYqbYsKWfcwastPb58vkg2yfPyzZ1zjxGfXEt97HMptw8BO7ysIdf41QGRtKkusSKuJcLVy+f7UoNItvB7Ek5mWVPHAGawzIcxYICq0kLqKop5pVlnwCLTUQAHTFNnP4vLiinKD/tWw+b6cq2IE5kBBXDAnDg76NvZb9Km2jJaI1G6BkZ8rUMk0ymAA6a5a5Al89OzB/BUNtaVAfBqq4YhRC5EARwgfUOjdA2MsCRNm7BPZUNtPIAPKIBFLkgBHCDNXVEA3wN4XlE+DfNL2K8VcSIXpAAOkJNdg4D/AQywsa6cA629fpchktEUwAHSnAjgdF0H7kI21s6jNRLlbP+w36WIZCwFcICc7BqkrDifsuJ8v0thY218QYYm4kSmpgAOkJNdgxkx/ACwvja+zbOWJItMTQEcIM0ZFMDzivJZXjVHZ8AiF6AADojYuKOlO5oR479JG2rLFMAiF6AADojTvUOMxMYz5gwYYFNdGe09Q3RqIk5kUgrggMikFrSk5IIMnQWLTE4BHBCZGMDrF2siTuRCFMAB0dw1SDhk1JQX+V3KhLlF+Syv1kScyFQUwAFxsmuQmrIi8sOZ9a90Y22ZzoBFppBZv61yyTKpBzjVxtoyTvUOcaZvyO9SRDKOAjggMqkHONVG7YwmMiUFcAAMDI/R2T+SUT3ASetryzCDV1u0MY/I+RTAAdDcnXkdEEmlhXmJFXHamlLkfArgADh5NnMDGOJXSlYnhMjbKYADIBN7gFNtqC3jdO8wZ3o1ESeSSgEcAK2RKHMKwpSX+L8N5WQ2akWcyKQUwAHQFomyuLwYM/O7lEmtXzwPM9ivfmCRcyiAA6C9Z4ia8mK/y5jSnMI8rqguVSuayHkUwAHQFolSm0FLkCezqbaM/QpgkXMogLPc0GiMzv4Rasoy9wwY4hNxHX3DnNZEnMgEBXCWO9UTD7TFGTwEAfG9gUHjwCKpFMBZrq0nCsDiDB+CWLd4HiFTJ4RIKgVwlmuLJM6AM3wIoqRAE3Ei51MAZ7m2SPwMeFFZZp8BQ2JrSgWwyAQFcJZr74lSVVpAUX7Y71KmpYk4kXMpgLNca2Qo4yfgkjYmJuK0QbtInAI4y7VHotRkwfADwLqa+Io4DUOIxCmAs5hzbmIZcjaYU5jHCk3EiUxQAGex3qExBkZi1GZJAEN8Ik4r4kTiFMBZLNkBkemr4FJpIk7kLQrgLJYM4ExfhJFKE3Eib1EAZ7G2LFmGnEoTcSJvUQBnsbZIlPywUV1a6HcpM6atKUXeogDOYu2RKIvKigiFMnMj9qloRZxInAI4i7VFhrJqAi5pQ20ZZ/p0jTgRBXAWa+uJZlULWpKuEScSpwDOUrFxx6meoaxZBZcqeY04BbDkOgVwluroG2Zs3GVVB0SSJuJE4hTAWSpbNmKfiibiRBTAWeutRRjZdwYM8Ym4072aiJPcpgDOUu2R7FuEkUoTcSIK4KzVGolSWpjHvKJ8v0u5JJqIE1EAZ634NpTZOf4L8Ym45VVzNBEnOU0BnKXae7JzEUYqTcRJrvM0gM1sp5kdMbNjZnb3FMf8ipkdMrODZvZNL+sJkmzaiH0qG+vK4xNxfZqIk9zkWQCbWRj4EnAzsA64w8zWnXfMSuCPgR3OufXA73pVT5AMjcY4OzDC4ixchJEqORGnYQjJVV6eAW8HjjnnmpxzI8C3gFvPO+ZjwJecc90AzrkzHtYTGO1ZuA3lZCYm4lp6/S5FxBdeBnAt0JxyvyXxWKpVwCoz22Vmu81sp4f1BEZ7lvcAJyUn4jQOLLkqLwM+fyVwPVAHPG1mG51zkdSDzOwu4C6AJUuWpLvGjNOahVfCmMrG2jJ2N3X5XYaIL7w8A24F6lPu1yUeS9UCPOqcG3XOHQdeJx7I53DO3eeca3TONVZXV3tWcLZoSyzCWJTlY8AQXxF3qndIE3GSk7wM4BeBlWa2zMwKgNuBR8875hHiZ7+YWRXxIYkmD2sKhPaeKFWlhRTmhf0u5bJpIk5ymWcB7JwbAz4JPA4cBh5yzh00sy+Y2S2Jwx4HzprZIeDHwB845856VVNQtEai1AZg+AFgfW2ZJuIkZ3k6Buycewx47LzHPpdy2wGfSXzJDLX3DLGiutTvMmZFaWEeyzQRJzlKK+GyjHMuEIswUm2qLdMQhOSkGQWwmX3XzN5nZgpsn/VGxxgciQWiAyIpORHX0TfsdykiaTXTQP174FeBo2b2P8xstYc1yQW0BqQHOJUm4iRXzSiAnXM/cs79B+BK4ATwIzN71sw+YmbZuR9ilsr2jdgnMzERpwCWHDPjIQUzmw98GPhNYC9wL/FAfsKTymRS7clLEQWgBzhJE3GSq2bUBWFm/xdYDXwd+EXnXHviqQfNbI9XxcnbtUaGyA8bVaWFfpcyqzbWlvHCca2Ik9wy0zPg/+OcW+ec++/J8DWzQgDnXKNn1cnbtPdEqSkrJhQyv0uZVRtry2jv0USc5JaZBvBfTPLYc7NZiMxMWyRKTYCGH5I2aCJOctAFhyDMbBHxHcyKzWwrkDztmgeUeFybTKItMsTVyyr9LmPWrV88D4hPxN2wZoHP1Yikx3RjwO8hPvFWB9yT8ngf8F88qkmmEBt3nOodoiZAPcBJc4vyWV6tiTjJLRcMYOfcvwD/Yma/7Jz7Tppqkimc6RsiNu4C1YKWShNxkmumG4K40zn3r0CDmb1tvwbn3D2TvEw8ktyGcnGWX4xzKhtry/jevjY6+4cD1+UhMpnpJuHmJL6XAnMn+ZI0CuIijFTJiTgNQ0iumG4I4suJ73+WnnLkQiYWYQRwDBjemog70NLDDas1ESfBN9PNeP6nmc0zs3wze9LMOszsTq+Lk3O1RYaYW5jH3KJgrv6eW5Sva8RJTplpH/AvOOd6gfcT3wtiBfAHXhUlkwvaNpST2VBbpgCWnDHTAE4OVbwPeNg5p98QH7T1RAPZgpZqU51WxEnumGkAf9/MXgO2AU+aWTWgqyimWVtkKPBnwJvqygHY3xKZ5kiR7DfT7SjvBt4BNDrnRoEB4FYvC5NzDY3G6BoYCdQuaJPZUDuPkMErLfojS4LvYq4Jt4Z4P3Dqa742y/XIFILegpZUUpDHygVzdQYsOWGm21F+HbgC2AfEEg87FMBp096TWIQR8ACG+Djwk6+dwTmHWbB2fRNJNdMz4EZgXeIqxuKDiUsRBXQVXKpN9eU8/FILLd1R6iu155ME10wn4Q4Ai7wsRC6sPTKEGSwsC/4S3c118RVx+zUOLAE30zPgKuCQmb0ATPQHOedu8aQqeZu2SJSq0kIK88J+l+K5NYvmURAOsb8lwvs21fhdjohnZhrAn/eyCJleW0/wF2EkFeSFWFszl1c0EScBN9M2tJ8SXwGXn7j9IvCyh3XJedoiUWoDvggj1aa6cg609jI+rmkHCa6Z7gXxMeDbwJcTD9UCj3hVlJzLOUdbZIiaHJiAS9pUV0b/8BhNnf1+lyLimZlOwn0C2AH0AjjnjgLaripNeqKjREdjOTMEAbC5Pr4i7pVmTcRJcM00gIedcyPJO4nFGPrbME3eakHLnSGIK6pLKSkIa0GGBNpMA/inZvZfiF+c8ybgYeD/eVeWpJq4EkYOnQGHQ8aG2jItSZZAm2kA3w10AK8CHwceA/7Eq6LkXMmN2IO+E9r5NteVcai9l5Gxcb9LEfHEjNrQnHPjZvYI8IhzrsPjmuQ8rZEoBeEQVXOCvwgj1aa6ckbGjvP66b6JyxWJBMkFz4At7vNm1gkcAY4krobxufSUJxBfBVdTXkQolFv7ImxObE2pfmAJqumGID5NvPvhKudcpXOuErga2GFmn/a8OgHiPcA1OTQBl1RfWUxFST771QkhATVdAP8acIdz7njyAedcE3An8OteFiZvae8J/kbskzEzNtaV6wxYAmu6AM53znWe/2BiHDiYV4bMMGOxcU71DuXELmiT2VRbxtEz/URHYtMfLJJlpgvgkUt8TmbJmb5hYuMuJ8+AAbbUlxMbd7pQpwTSdF0Qm82sd5LHDci9QUkf5GoLWtKWJfGJuL0nu9m+rNLnakRm1wUD2DkX/L0PM1xrYhFGbY6eAVeVFrKksoS9JzUOLMEz04UY4pP2xDLkXOyCSNq6pJyXT3ajC7JI0CiAM1xbJMrcojzmFuXunOfW+nLO9A1PXBdPJCgUwBmurWcoZ4cfkq5cWgGgYQgJHAVwhsvVRRip1iyaR2FeiL0nu/0uRWRWKYAzXFskdy5FNJWCvBAba8vY26wzYAkWBXAGi47E6B4czfkAhvhE3KutPdoZTQJFAZzB2hI9wItztAc41dYlFYyMjXOofbK2dJHspADOYO3JjdhzdBlyqq0pCzJEgkIBnMHakpci0hAENWXFLJpXpE4ICRQFcAZr64liBgvnaQgC4mfBe5t1BizBoQDOYG2RKNWlhRTk6V8TxAO4uStKR9+w36WIzAr9Zmewtkhu7gM8la1L4gsy9qkdTQJCAZzB2nqiOb8KLtXG2jLyQqaJOAkMTwPYzHaa2REzO2Zmd1/guF82M2dmjV7Wk02cc1oFd56i/DDrFs/TRJwEhmcBbGZh4EvAzcA64A4zWzfJcXOBTwHPe1VLNooMjjI0Oq4hiPNsrY9foig2rp3RJPt5eQa8HTjmnGtyzo0A3wJuneS4Pwf+EtBWVylaI1qEMZmtSyoYHIlx5FSf36WIXDYvA7gWaE6535J4bIKZXQnUO+d+4GEdWSm59aLOgM+1LbEz2ktvdvlcicjl820SzsxCwD3A783g2LvMbI+Z7eno6PC+uAzQNrERuwI4VV1FMQvnFfLiCU3ESfbzMoBbgfqU+3WJx5LmAhuAn5jZCeAa4NHJJuKcc/c55xqdc43V1dUelpw52iJRCvJCzJ9T4HcpGcXMaGyoZM8JnQFL9vMygF8EVprZMjMrAG4HHk0+6Zzrcc5VOecanHMNwG7gFufcHg9ryhqtkXgLWihkfpeScbY3VNLWM0RL96DfpYhcFs8C2Dk3BnwSeBw4DDzknDtoZl8ws1u8+tygaI1ENQE3hcaG+DjwHg1DSJab7rL0l8U59xjw2HmPfW6KY6/3spZs09od5frVuTHccrHWLJpHaWEeL57o4gNba6d/gUiG0kq4DDQ8FuNM37A6IKYQDhlXLq3QGbBkPQVwBjqVaEHTMuSpbW+o4MjpPnoGR/0uReSSKYAzUHIRhgJ4ao0NlQDsUT+wZDEFcAZq7U4EcIUCeCqb68rJD5v6gSWrKYAzUFviUkSLtBHPlIoLwmyoLVM/sGQ1BXAGao0MsmBuIYV5Yb9LyWjbGyrZ39LD0GjM71JELokCOANpI/aZuXp5JSOxcV7W/sCSpRTAGag1EtX47ww0NlQSMtjdpGEIyU4K4AzjnJtYhiwXNq8on421Zex+46zfpYhcEgVwhunsH2FkbFwBPEPXLJ/PvuYI0RGNA0v2UQBnmLaJjdgVwDNxzfL5jMTGdZ04yUoK4AyjRRgXp7GhgnDIeK5JwxCSfRTAGaZNAXxR5hbls6G2jN0KYMlCCuAM09IdpbQwj3nFnm5UFyjXLK/UOLBkJQVwhmlL7ANspo3YZ+qa5fMZjTleelPjwJJdFMAZRi1oF++qhkrCIdMwhGQdBXCGiZ8BK4AvRmlhHhtry3j2jU6/SxG5KArgDDI4Mkb34KhWwV2C61ZU8UpLD71D2h9YsocCOINMbEOpM+CLtmNFFbFxx/NalixZRAGcQVrUgnbJrlxaTnF+mJ8d7fC7FJEZUwBnkJau+GXW6ytLfK4k+xTmhdm+rJJnjmkcWLKHAjiDNHdHKcgLUV1a6HcpWennVlbR1DEwsZhFJNMpgDNIc9cgdRXFhELqAb4U162sAuBnOguWLKEAziAnuwZZouGHS7Z64VyqSgvZpQCWLKEAziDNXYPUVyiAL5WZcd2K+ew61sn4uPO7HJFpKYAzRM/gKL1DY9RXqgPicuxYUUVn/whHTvf5XYrItBTAGaK5O94BoSGIy/NzK6sBeEbtaJIFFMAZojnRglanIYjLsqisiFULS/np6wpgyXwK4AyRPANWD/Dlu371Al483s3A8JjfpYhckAI4QzR3RSkrzqesON/vUrLe9auqGYmN86wu1ikZTgGcIU52DWoCbpY0NlQypyDMT46c8bsUkQtSAGeI5m61oM2WgrwQ71hRxU+OdOCc2tEkcymAM8D4uKOlO6oOiFn0zlXVtEaivNHR73cpIlNSAGeAM33DjIyNU6cAnjXXr463o/3kiLohJHMpgDPARAeENmKfNXUVJaxYUKoAloymAM4AzdqG0hPXr6rmheNdakeTjKUAzgDNXVHMtBH7bLthzQJGYuPanEcylgI4A5zsGmTh3CKK8sN+lxIoVzVUMrcwjycPqx1NMpMCOAM0d6sH2AsFeSF+fnU1T752RrujSUZSAGeAlq5Bjf965Ka1C+nsH+aVlojfpYi8jQLYZ8NjMdp7h7QIwyPXr64mHDJ+dPi036WIvI0C2GfNXYM4B8uq5vhdSiCVlxRwVUOFxoElIymAfdbUMQAogL1049qFvHaqb6LdTyRTKIB9drwzHsANCmDPvHvtQgANQ0jGUQD77MTZAebPKdA2lB5aVjWHFQtKNQwhGUcB7LOmjgENP6TBjWsXsrvpLD2Do36XIjJBAeyz450K4HR4z/qFjI07DUNIRlEA+6h/eIwzfcMsq1YAe21LfTmLy4r4twOn/C5FZIIC2EcnEhNwy3UG7Dkz4z0bFvH00Q76tTmPZAgFsI+aOpMtaKU+V5Ibbt5Qw8jYOE+9psk4yQwKYB8lz4CXztcquHTYtrSC6rmF/PBAu9+liAAKYF8d7xygtrxYu6ClSThkvGf9Qn78WgfRkZjf5YgogP3UpA6ItLt5Qw3R0Rg/fV3DEOI/TwPYzHaa2REzO2Zmd0/y/GfM7JCZ7TezJ81sqZf1ZBLnHMc7+hXAaXb1skoqSvJ57FV1Q4j/PAtgMwsDXwJuBtYBd5jZuvMO2ws0Ouc2Ad8G/qdX9WSaroEReofGFMBplhcOsXPDIn50+DSDI+qGEH95eQa8HTjmnGtyzo0A3wJuTT3AOfdj51xyh5TdQJ2H9WSU5B4Q6gFOv1u31DI4EuOJQ1qUIf7yMoBrgeaU+y2Jx6byUeDfJnvCzO4ysz1mtqejIxhXuZ0I4PkK4HTb3lDJ4rIiHtnb6ncpkuMyYhLOzO4EGoG/mux559x9zrlG51xjdXV1eovzyPHOAfJCRp0uRZ92oZBxy5Zanj7aSWf/sN/lSA7zMoBbgfqU+3WJx85hZjcCnwVucc7lzG/D8c4BlswvIS+cEf8PzDkf2LqY2LjjB/vVEyz+8fK3/0VgpZktM7MC4Hbg0dQDzGwr8GXi4ZtTfUFvdPRrCbKP1iyax5pFc3lkn4YhxD+eBbBzbgz4JPA4cBh4yDl30My+YGa3JA77K6AUeNjM9pnZo1O8XaCMxsY53jnAyoVz/S4lp31gay17T0Z48+yA36VIjvL071/n3GPOuVXOuSucc/818djnnHOPJm7f6Jxb6Jzbkvi65cLvGAxvnh1gNOZYtVB7QPjpls2LMYPvvqyzYPGHBiB98PrpfgBWLtAZsJ8Wlxdz3YoqHt7TTGzc+V2O5CAFsA9eP92HGVxRrTNgv92xfQltPUM8/Xow2hsluyiAfXD0dD9LKksoLtAmPH67ce1CqkoLeOCFk36XIjlIAeyDo2f6NPyQIQryQnxwWz1PvnaG071DfpcjOUYBnGZvdUBo+CFT3H5VPbFxx8N7mqc/WGQWKYDT7HinOiAyTUPVHN5xxXweeKGZcU3GSYpuq/QAAAzeSURBVBopgNPscHsvAGtr5vlciaS6Y/sSWiNRfqJ9giWNFMBpdqi9l4JwSB0QGeY96xexaF4R9z9z3O9SJIcogNPscHsfKxaUkq89IDJKQV6ID+9o4Nk3znKgtcfvciRHKAXS7HB7r4YfMtQd25cwpyDM/c80+V2K5AgFcBp19g/T0TfM2hq1oGWisuJ8brtqCf9vfzttkajf5UgOUACnUXICbp3OgDPWR3Y0APDVZ0/4WofkBgVwGh1qUwdEpquvLOHmDYv45vMn6Rkc9bscCTgFcBodaOtlcVkRFXMK/C5FLuATN6ygf3iM+555w+9SJOAUwGm0vyXCprpyv8uQaaytmcf7N9XwlV0ndMki8ZQCOE16Bkd58+wgG+vK/C5FZuB3b1zF0GiMf/yJzoLFOwrgNNnfGgFgs86As8KKBaX80pV1fG33m5zq0SY94g0FcJrsb4k392+s1RlwtvjUu1finOPvnjrqdykSUArgNNnfEqFhfgllJfl+lyIzVF9Zwq9uX8K3Xjg50cEiMpsUwGmyv6WHjRp+yDqfvmkV5SUF/OmjB3BOO6XJ7FIAp0FrJEp7zxBXLlEAZ5vykgL+8D2refFEN9/b1+Z3ORIwCuA02HOiC4DGpZU+VyKX4lca69lcV8Z/fewwfUNanCGzRwGcBi+92U1JQVh7QGSpUMj4s1s30Nk/zF//++t+lyMBogBOgz0nutm6pJw8bUGZtbbUl/Mb1zbw1WdP8OwbnX6XIwGhRPBY//AYr53qZZuGH7LeH+1cw7KqOfzBw/s1FCGzQgHssZff7GbcQePSCr9LkctUXBDmf31oE+09Uf7bY4f9LkcCQAHssV1vdJIfNhobFMBBsG1pJXf9/BU88EIzjx885Xc5kuUUwB7bdayTrUsqKCnI87sUmSWfvmklm+rK+P2HXuFE54Df5UgWUwB7qHtghINtvVy3osrvUmQWFeaF+dKvXkk4bPzWv75EdCTmd0mSpRTAHnqu6SzOwQ4FcODUV5bwt7dt4cjpPj77f1/VKjm5JApgD/3sWCelhXls1haUgXT96gX87rtX8d29rfy9tq2US6CBSY8453jq8Bl2rJiv/t8A+513r+DE2QH+6vEjLJpXxC9vq/O7JMkiSgaPHGzr5VTvEDetW+R3KeIhM+Mvf3kTO1bM54++s59njnb4XZJkEQWwR544dJqQwQ2rq/0uRTxWkBfiH+7cxooFpdz1tZfY3XTW75IkSyiAPfKjw6fZtrSC+aWFfpciaTCvKJ+vf/RqaiuK+chXXuS5NxTCMj0FsAdOnh3kYFsvN65d6HcpkkbVcwt54GPXUFdRzEe++gI/O6o9I+TCFMAeeGRfKwC/uHmxz5VIulXPLeSBu66hYf4cPvLVF/juyy1+lyQZTAE8y5xzPLKvlWuWV7K4vNjvcsQHVaWFPPjxa7mqoZLPPPQKf/fkUfUJy6QUwLPs1dYemjoG+MCWWr9LER+VFefz1Y9s55eurOWeJ17nk9/cqx3U5G0UwLPsgReaKcwLcfPGGr9LEZ8V5IX46w9t5u6b1/DDg6e45Yu7eO2ULu4pb1EAz6KewVEe2dvKB7bUUlasqx9LvE/4t955Bd/4zavpHx7j1i/u4v5nmhgf15CEKIBn1cMvNRMdjfHr71jqdymSYa5ZPp8f/M51XLeiir/4wWFuv2+3dlITBfBsGRkb5yu7TnBVQwXrF2vvB3m7BXOLuP83GvlfH9rM4VO9/MLfPs09/35Eu6nlMAXwLHlwTzOtkSiffNdKv0uRDGZmfHBbHU98+p3cvGERf/fUMW6856d8b18rMQ1L5BwF8CwYGo3xpaeO0bi0gp9fqa0nZXqLyoq49/atPPTxaykrzudT39rHzfc+zb+92q7x4RyiAJ4Ff//jY5zqHeL337MaM/O7HMki25dV8v3fvo4v/upWYuOO//SNl7npb37KN58/ydCohiaCzrKtQbyxsdHt2bPH7zImHDvTx833PsMvblrMPbdt8bscyWKxccf397dx/zPHebW1h4qSfD6wtZYPbqvTvEL2m/TMTPsBX4ah0Ri/88A+5hTm8dn3rQXgti8/x4MfvxaAVZ99jMK8EOsWl7H3ZDcjsez6n51MLWRwsSMFcwvD9A3HzrldEDYK80LMK86nvWeIvJDhnKM4P0RVaSFf2XWCr+w6QV7IKCkIU5wfIi8coqNvmK1LKnjw49ey8U9/yH+8bjnffqmZXXe/m7954nU+fdMqbvvyc7R0D1JXUUJL9yAAH9xWz+6mszz48Wv5mydeB5h43fmS73P+7ekk3/fTN62auJ28P5PXzvRzZuN1ftMQxCVyzvEnjxzgUHsv9/zK5oldz54/3jVxzEjM0Tcc4/njXQrfgLmUYdpk+KbeTv430hoZYtzF74+OQ3R0nKNn+ieOHxt39A6NcbpvhNbIECMxx/PHuxiNjdM3HOPeJ4/SGhkC4N4njwLx/xZbI0MT31sjQ9z75NGJ/0bvffLoOa87X/J9zr89neT7pt6e6esv5nNm43V+UwBfAuccf/GDw3z7pRZ+590redca7Xom/tj0+X8/535PVMuds4kC+CINjcb4/Yf3808/O86H39HAp29U25n457ar6s+5v/nP4oH8sa9lzjyJTE0BfBFeON7FLV/8Gd95uYVPvXslf/qL69T1IL76/C3rz7n/RzvXAHB8mlV2j73a7llNMnOeTsKZ2U7gXiAM3O+c+x/nPV8IfA3YBpwFbnPOnfCyposVHYnx1Gtn+OYLb7Lr2Flqy4v5yoev4oY1C/wuTeRt/tP1V/CXP3yNH33mnTTc/YMpj/vP33j5nPsf+9oeGuaXUFteTG1F/Lt4z7MANrMw8CXgJqAFeNHMHnXOHUo57KNAt3NuhZndDvwlcJtXNUF8/HbcxVt+xp1jbNwxMDxGT3SU3ugoPdFRTnYN8kZHP6+f6mdfS4SRsXEWzivkj29ew69du5SSAjWPSHb7/m9fx/v/988m7h/vHODp1zsYHhs/57j1n/shFXMKALjz/ucpK86nMC9EQV6I/HD8K37bCIeMcMpfhPc/03TOez30YjOhkJEXShyb+Mqb+B7/g/zFE13kJe6HQ0Ze4r3zQyHC4fjxBmAQMpvo7+oeGCFkBgaJb5gZIQPDSJYWMjvn+fh3fPlr1ssk2Q4cc841AZjZt4BbgdQAvhX4fOL2t4Evmpm5WW5O3vT5xxkaHSfm3IyXe84tymPFglJ+49qlXL96Adcsn084pOEGCYYNtef2Ff/oM+/EOUdn/witkSit3VE+8c2X+VBjPT3RUVq6WxkYGaOtJ8rI2DijsfHEd8dILH7//N/av/jB4XPu/+F39s+otg/943OX9DNt/fMnLul1qZLB/FZIJwI98dj7N9XwVx/afNmfM/F5Xi3EMLMPAjudc7+ZuP9rwNXOuU+mHHMgcUxL4v4biWM6z3uvu4C7EndXA0c8KfriVAG5ftGvXP9noJ9fP/9Mf/5O59zO8x/Mir+lnXP3Aff5XUcqM9vjnGv0uw4/5fo/A/38+vkv9+f3sguiFUjtkalLPDbpMWaWB5QRn4wTEQk8LwP4RWClmS0zswLgduDR8455FPiNxO0PAk/N9viviEim8mwIwjk3ZmafBB4n3ob2z865g2b2BWCPc+5R4J+Ar5vZMaCLeEhni4waEvFJrv8z0M+f2y7758+63dBERIJCK+FERHyiABYR8YkC+BKY2U4zO2Jmx8zsbr/rSTcz+2czO5Po484pZlZvZj82s0NmdtDMPuV3TelkZkVm9oKZvZL4+f/M75r8YGZhM9trZt+/nPdRAF+klCXWNwPrgDvMbJ2/VaXdV4G3NZXniDHg95xz64BrgE/k2L//YeBdzrnNwBZgp5ld43NNfvgUcHjao6ahAL54E0usnXMjQHKJdc5wzj1NvGsl5zjn2p1zLydu9xH/Jaz1t6r0cXHJneLzE185NZNvZnXA+4D7L/e9FMAXrxZoTrnfQg79AspbzKwB2Ao8728l6ZX483sfcAZ4wjmXUz8/8LfAHwLj0x04HQWwyCUws1LgO8DvOud6/a4nnZxzMefcFuKrW7eb2Qa/a0oXM3s/cMY599JsvJ8C+OLNZIm1BJiZ5RMP3284577rdz1+cc5FgB+TW/MBO4BbzOwE8eHHd5nZv17qmymAL95MllhLQFl809h/Ag475+7xu550M7NqMytP3C4mvt/3a/5WlT7OuT92ztU55xqI/+4/5Zy781LfTwF8kZxzY0ByifVh4CHn3EF/q0ovM3sAeA5YbWYtZvZRv2tKox3ArxE/89mX+Hqv30WlUQ3wYzPbT/xk5Ann3GW1YuUyLUUWEfGJzoBFRHyiABYR8YkCWETEJwpgERGfKIBFRHyiABYR8YkCWETEJ/8f24y8WR1TVp4AAAAASUVORK5CYII=\n"
                },
                "metadata": {
                  "needs_background": "light"
                }
              }
            ]
          }
        },
        "8e3db7ab8abf467b806dc9e6e23b88a6": {
          "model_module": "@jupyter-widgets/base",
          "model_name": "LayoutModel",
          "model_module_version": "1.2.0",
          "state": {
            "_model_module": "@jupyter-widgets/base",
            "_model_module_version": "1.2.0",
            "_model_name": "LayoutModel",
            "_view_count": null,
            "_view_module": "@jupyter-widgets/base",
            "_view_module_version": "1.2.0",
            "_view_name": "LayoutView",
            "align_content": null,
            "align_items": null,
            "align_self": null,
            "border": null,
            "bottom": null,
            "display": null,
            "flex": null,
            "flex_flow": null,
            "grid_area": null,
            "grid_auto_columns": null,
            "grid_auto_flow": null,
            "grid_auto_rows": null,
            "grid_column": null,
            "grid_gap": null,
            "grid_row": null,
            "grid_template_areas": null,
            "grid_template_columns": null,
            "grid_template_rows": null,
            "height": null,
            "justify_content": null,
            "justify_items": null,
            "left": null,
            "margin": null,
            "max_height": null,
            "max_width": null,
            "min_height": null,
            "min_width": null,
            "object_fit": null,
            "object_position": null,
            "order": null,
            "overflow": null,
            "overflow_x": null,
            "overflow_y": null,
            "padding": null,
            "right": null,
            "top": null,
            "visibility": null,
            "width": null
          }
        },
        "ecca3216f1e8473bb645c36db7aa1dd0": {
          "model_module": "@jupyter-widgets/base",
          "model_name": "LayoutModel",
          "model_module_version": "1.2.0",
          "state": {
            "_model_module": "@jupyter-widgets/base",
            "_model_module_version": "1.2.0",
            "_model_name": "LayoutModel",
            "_view_count": null,
            "_view_module": "@jupyter-widgets/base",
            "_view_module_version": "1.2.0",
            "_view_name": "LayoutView",
            "align_content": null,
            "align_items": null,
            "align_self": null,
            "border": null,
            "bottom": null,
            "display": null,
            "flex": null,
            "flex_flow": null,
            "grid_area": null,
            "grid_auto_columns": null,
            "grid_auto_flow": null,
            "grid_auto_rows": null,
            "grid_column": null,
            "grid_gap": null,
            "grid_row": null,
            "grid_template_areas": null,
            "grid_template_columns": null,
            "grid_template_rows": null,
            "height": null,
            "justify_content": null,
            "justify_items": null,
            "left": null,
            "margin": null,
            "max_height": null,
            "max_width": null,
            "min_height": null,
            "min_width": null,
            "object_fit": null,
            "object_position": null,
            "order": null,
            "overflow": null,
            "overflow_x": null,
            "overflow_y": null,
            "padding": null,
            "right": null,
            "top": null,
            "visibility": null,
            "width": null
          }
        },
        "9e49077eff5946958c98651cb08bf905": {
          "model_module": "@jupyter-widgets/controls",
          "model_name": "SliderStyleModel",
          "model_module_version": "1.5.0",
          "state": {
            "_model_module": "@jupyter-widgets/controls",
            "_model_module_version": "1.5.0",
            "_model_name": "SliderStyleModel",
            "_view_count": null,
            "_view_module": "@jupyter-widgets/base",
            "_view_module_version": "1.2.0",
            "_view_name": "StyleView",
            "description_width": "",
            "handle_color": null
          }
        },
        "b65ccae4ad234704af3568e99bf520fe": {
          "model_module": "@jupyter-widgets/base",
          "model_name": "LayoutModel",
          "model_module_version": "1.2.0",
          "state": {
            "_model_module": "@jupyter-widgets/base",
            "_model_module_version": "1.2.0",
            "_model_name": "LayoutModel",
            "_view_count": null,
            "_view_module": "@jupyter-widgets/base",
            "_view_module_version": "1.2.0",
            "_view_name": "LayoutView",
            "align_content": null,
            "align_items": null,
            "align_self": null,
            "border": null,
            "bottom": null,
            "display": null,
            "flex": null,
            "flex_flow": null,
            "grid_area": null,
            "grid_auto_columns": null,
            "grid_auto_flow": null,
            "grid_auto_rows": null,
            "grid_column": null,
            "grid_gap": null,
            "grid_row": null,
            "grid_template_areas": null,
            "grid_template_columns": null,
            "grid_template_rows": null,
            "height": null,
            "justify_content": null,
            "justify_items": null,
            "left": null,
            "margin": null,
            "max_height": null,
            "max_width": null,
            "min_height": null,
            "min_width": null,
            "object_fit": null,
            "object_position": null,
            "order": null,
            "overflow": null,
            "overflow_x": null,
            "overflow_y": null,
            "padding": null,
            "right": null,
            "top": null,
            "visibility": null,
            "width": null
          }
        },
        "00dac6cb7e1447e4a7ac64b7d0ad0372": {
          "model_module": "@jupyter-widgets/controls",
          "model_name": "SliderStyleModel",
          "model_module_version": "1.5.0",
          "state": {
            "_model_module": "@jupyter-widgets/controls",
            "_model_module_version": "1.5.0",
            "_model_name": "SliderStyleModel",
            "_view_count": null,
            "_view_module": "@jupyter-widgets/base",
            "_view_module_version": "1.2.0",
            "_view_name": "StyleView",
            "description_width": "",
            "handle_color": null
          }
        },
        "a71bb9421583432d9770c1cbae669873": {
          "model_module": "@jupyter-widgets/base",
          "model_name": "LayoutModel",
          "model_module_version": "1.2.0",
          "state": {
            "_model_module": "@jupyter-widgets/base",
            "_model_module_version": "1.2.0",
            "_model_name": "LayoutModel",
            "_view_count": null,
            "_view_module": "@jupyter-widgets/base",
            "_view_module_version": "1.2.0",
            "_view_name": "LayoutView",
            "align_content": null,
            "align_items": null,
            "align_self": null,
            "border": null,
            "bottom": null,
            "display": null,
            "flex": null,
            "flex_flow": null,
            "grid_area": null,
            "grid_auto_columns": null,
            "grid_auto_flow": null,
            "grid_auto_rows": null,
            "grid_column": null,
            "grid_gap": null,
            "grid_row": null,
            "grid_template_areas": null,
            "grid_template_columns": null,
            "grid_template_rows": null,
            "height": null,
            "justify_content": null,
            "justify_items": null,
            "left": null,
            "margin": null,
            "max_height": null,
            "max_width": null,
            "min_height": null,
            "min_width": null,
            "object_fit": null,
            "object_position": null,
            "order": null,
            "overflow": null,
            "overflow_x": null,
            "overflow_y": null,
            "padding": null,
            "right": null,
            "top": null,
            "visibility": null,
            "width": null
          }
        },
        "dacb8154c15b4336b5becc31d2244e73": {
          "model_module": "@jupyter-widgets/controls",
          "model_name": "SliderStyleModel",
          "model_module_version": "1.5.0",
          "state": {
            "_model_module": "@jupyter-widgets/controls",
            "_model_module_version": "1.5.0",
            "_model_name": "SliderStyleModel",
            "_view_count": null,
            "_view_module": "@jupyter-widgets/base",
            "_view_module_version": "1.2.0",
            "_view_name": "StyleView",
            "description_width": "",
            "handle_color": null
          }
        },
        "54c9fa2aa854453aacaea417a91d3bd9": {
          "model_module": "@jupyter-widgets/base",
          "model_name": "LayoutModel",
          "model_module_version": "1.2.0",
          "state": {
            "_model_module": "@jupyter-widgets/base",
            "_model_module_version": "1.2.0",
            "_model_name": "LayoutModel",
            "_view_count": null,
            "_view_module": "@jupyter-widgets/base",
            "_view_module_version": "1.2.0",
            "_view_name": "LayoutView",
            "align_content": null,
            "align_items": null,
            "align_self": null,
            "border": null,
            "bottom": null,
            "display": null,
            "flex": null,
            "flex_flow": null,
            "grid_area": null,
            "grid_auto_columns": null,
            "grid_auto_flow": null,
            "grid_auto_rows": null,
            "grid_column": null,
            "grid_gap": null,
            "grid_row": null,
            "grid_template_areas": null,
            "grid_template_columns": null,
            "grid_template_rows": null,
            "height": null,
            "justify_content": null,
            "justify_items": null,
            "left": null,
            "margin": null,
            "max_height": null,
            "max_width": null,
            "min_height": null,
            "min_width": null,
            "object_fit": null,
            "object_position": null,
            "order": null,
            "overflow": null,
            "overflow_x": null,
            "overflow_y": null,
            "padding": null,
            "right": null,
            "top": null,
            "visibility": null,
            "width": null
          }
        },
        "b77890d77ac94f49b5cb0f36d0d7ff94": {
          "model_module": "@jupyter-widgets/controls",
          "model_name": "SliderStyleModel",
          "model_module_version": "1.5.0",
          "state": {
            "_model_module": "@jupyter-widgets/controls",
            "_model_module_version": "1.5.0",
            "_model_name": "SliderStyleModel",
            "_view_count": null,
            "_view_module": "@jupyter-widgets/base",
            "_view_module_version": "1.2.0",
            "_view_name": "StyleView",
            "description_width": "",
            "handle_color": null
          }
        },
        "1bd970a4fbd842dbafa264add84b28e5": {
          "model_module": "@jupyter-widgets/base",
          "model_name": "LayoutModel",
          "model_module_version": "1.2.0",
          "state": {
            "_model_module": "@jupyter-widgets/base",
            "_model_module_version": "1.2.0",
            "_model_name": "LayoutModel",
            "_view_count": null,
            "_view_module": "@jupyter-widgets/base",
            "_view_module_version": "1.2.0",
            "_view_name": "LayoutView",
            "align_content": null,
            "align_items": null,
            "align_self": null,
            "border": null,
            "bottom": null,
            "display": null,
            "flex": null,
            "flex_flow": null,
            "grid_area": null,
            "grid_auto_columns": null,
            "grid_auto_flow": null,
            "grid_auto_rows": null,
            "grid_column": null,
            "grid_gap": null,
            "grid_row": null,
            "grid_template_areas": null,
            "grid_template_columns": null,
            "grid_template_rows": null,
            "height": null,
            "justify_content": null,
            "justify_items": null,
            "left": null,
            "margin": null,
            "max_height": null,
            "max_width": null,
            "min_height": null,
            "min_width": null,
            "object_fit": null,
            "object_position": null,
            "order": null,
            "overflow": null,
            "overflow_x": null,
            "overflow_y": null,
            "padding": null,
            "right": null,
            "top": null,
            "visibility": null,
            "width": null
          }
        },
        "35041f38b25345e1bec93e2b92a0695f": {
          "model_module": "@jupyter-widgets/controls",
          "model_name": "SliderStyleModel",
          "model_module_version": "1.5.0",
          "state": {
            "_model_module": "@jupyter-widgets/controls",
            "_model_module_version": "1.5.0",
            "_model_name": "SliderStyleModel",
            "_view_count": null,
            "_view_module": "@jupyter-widgets/base",
            "_view_module_version": "1.2.0",
            "_view_name": "StyleView",
            "description_width": "",
            "handle_color": null
          }
        },
        "ae02d16a198e43f2ad84cfbcb2c07982": {
          "model_module": "@jupyter-widgets/base",
          "model_name": "LayoutModel",
          "model_module_version": "1.2.0",
          "state": {
            "_model_module": "@jupyter-widgets/base",
            "_model_module_version": "1.2.0",
            "_model_name": "LayoutModel",
            "_view_count": null,
            "_view_module": "@jupyter-widgets/base",
            "_view_module_version": "1.2.0",
            "_view_name": "LayoutView",
            "align_content": null,
            "align_items": null,
            "align_self": null,
            "border": null,
            "bottom": null,
            "display": null,
            "flex": null,
            "flex_flow": null,
            "grid_area": null,
            "grid_auto_columns": null,
            "grid_auto_flow": null,
            "grid_auto_rows": null,
            "grid_column": null,
            "grid_gap": null,
            "grid_row": null,
            "grid_template_areas": null,
            "grid_template_columns": null,
            "grid_template_rows": null,
            "height": null,
            "justify_content": null,
            "justify_items": null,
            "left": null,
            "margin": null,
            "max_height": null,
            "max_width": null,
            "min_height": null,
            "min_width": null,
            "object_fit": null,
            "object_position": null,
            "order": null,
            "overflow": null,
            "overflow_x": null,
            "overflow_y": null,
            "padding": null,
            "right": null,
            "top": null,
            "visibility": null,
            "width": null
          }
        },
        "428c1f7e9ac242cab3383db9a8e9d296": {
          "model_module": "@jupyter-widgets/controls",
          "model_name": "SliderStyleModel",
          "model_module_version": "1.5.0",
          "state": {
            "_model_module": "@jupyter-widgets/controls",
            "_model_module_version": "1.5.0",
            "_model_name": "SliderStyleModel",
            "_view_count": null,
            "_view_module": "@jupyter-widgets/base",
            "_view_module_version": "1.2.0",
            "_view_name": "StyleView",
            "description_width": "",
            "handle_color": null
          }
        },
        "340a68bafe7542a7998b42defc59abee": {
          "model_module": "@jupyter-widgets/base",
          "model_name": "LayoutModel",
          "model_module_version": "1.2.0",
          "state": {
            "_model_module": "@jupyter-widgets/base",
            "_model_module_version": "1.2.0",
            "_model_name": "LayoutModel",
            "_view_count": null,
            "_view_module": "@jupyter-widgets/base",
            "_view_module_version": "1.2.0",
            "_view_name": "LayoutView",
            "align_content": null,
            "align_items": null,
            "align_self": null,
            "border": null,
            "bottom": null,
            "display": null,
            "flex": null,
            "flex_flow": null,
            "grid_area": null,
            "grid_auto_columns": null,
            "grid_auto_flow": null,
            "grid_auto_rows": null,
            "grid_column": null,
            "grid_gap": null,
            "grid_row": null,
            "grid_template_areas": null,
            "grid_template_columns": null,
            "grid_template_rows": null,
            "height": null,
            "justify_content": null,
            "justify_items": null,
            "left": null,
            "margin": null,
            "max_height": null,
            "max_width": null,
            "min_height": null,
            "min_width": null,
            "object_fit": null,
            "object_position": null,
            "order": null,
            "overflow": null,
            "overflow_x": null,
            "overflow_y": null,
            "padding": null,
            "right": null,
            "top": null,
            "visibility": null,
            "width": null
          }
        },
        "28d5cf831899470da16824da6e21fff5": {
          "model_module": "@jupyter-widgets/controls",
          "model_name": "SliderStyleModel",
          "model_module_version": "1.5.0",
          "state": {
            "_model_module": "@jupyter-widgets/controls",
            "_model_module_version": "1.5.0",
            "_model_name": "SliderStyleModel",
            "_view_count": null,
            "_view_module": "@jupyter-widgets/base",
            "_view_module_version": "1.2.0",
            "_view_name": "StyleView",
            "description_width": "",
            "handle_color": null
          }
        },
        "5863ab0257d14925ada806e64d6249eb": {
          "model_module": "@jupyter-widgets/base",
          "model_name": "LayoutModel",
          "model_module_version": "1.2.0",
          "state": {
            "_model_module": "@jupyter-widgets/base",
            "_model_module_version": "1.2.0",
            "_model_name": "LayoutModel",
            "_view_count": null,
            "_view_module": "@jupyter-widgets/base",
            "_view_module_version": "1.2.0",
            "_view_name": "LayoutView",
            "align_content": null,
            "align_items": null,
            "align_self": null,
            "border": null,
            "bottom": null,
            "display": null,
            "flex": null,
            "flex_flow": null,
            "grid_area": null,
            "grid_auto_columns": null,
            "grid_auto_flow": null,
            "grid_auto_rows": null,
            "grid_column": null,
            "grid_gap": null,
            "grid_row": null,
            "grid_template_areas": null,
            "grid_template_columns": null,
            "grid_template_rows": null,
            "height": null,
            "justify_content": null,
            "justify_items": null,
            "left": null,
            "margin": null,
            "max_height": null,
            "max_width": null,
            "min_height": null,
            "min_width": null,
            "object_fit": null,
            "object_position": null,
            "order": null,
            "overflow": null,
            "overflow_x": null,
            "overflow_y": null,
            "padding": null,
            "right": null,
            "top": null,
            "visibility": null,
            "width": null
          }
        }
      }
    }
  },
  "cells": [
    {
      "cell_type": "markdown",
      "source": [
        "#Importing Libraries"
      ],
      "metadata": {
        "id": "ql4rYkfC07m2"
      }
    },
    {
      "cell_type": "code",
      "execution_count": null,
      "metadata": {
        "id": "_hrLEYqwmLUZ"
      },
      "outputs": [],
      "source": [
        "try:\n",
        "  import distrax\n",
        "except:\n",
        "  %pip install -qq distrax"
      ]
    },
    {
      "cell_type": "code",
      "source": [
        "import jax.numpy as jnp\n",
        "import jax\n",
        "import distrax\n",
        "from collections import Counter\n",
        "import matplotlib.pyplot as plt\n",
        "import seaborn as sns\n",
        "import pandas as pd\n",
        "from ipywidgets import interact, interactive\n",
        "import ipywidgets as widgets"
      ],
      "metadata": {
        "id": "X_w2RmkAmfO6"
      },
      "execution_count": null,
      "outputs": []
    },
    {
      "cell_type": "markdown",
      "source": [
        "#Discrete Random Variable"
      ],
      "metadata": {
        "id": "tz2-VbX8nGKF"
      }
    },
    {
      "cell_type": "markdown",
      "source": [
        "Example:\n",
        "\n",
        "Let us role 2 tetrahedral dice. The output of would be a number between $0$ and $3$. Hence, with 2 dice we get total of 16 possible values varying from $(0,0), (0,1), \\dots, (3,2),(3,3)$. The probability of every sample in samples space is $\\dfrac{1}{16}$. Further, we consider random variable as sum of the numbers appearing on both the die. Hence, our sample space will be $0, 1, 2, 3, 4, 5, 6$. In this example, we plot Probability Mass Function and Cumulative Distribution Function corresponding to considered random variable. Further we also calculated theoretical and experimental value of mean and variance."
      ],
      "metadata": {
        "id": "fX2z9jerKii6"
      }
    },
    {
      "cell_type": "code",
      "source": [
        "#As the die is a tetrahedral die with no bias, the probability of individual number is 4\n",
        "dice = distrax.Categorical(probs=[[1/4]*4, [1/4]*4])\n",
        "print(f\"Number of categories: {dice.num_categories}\")"
      ],
      "metadata": {
        "colab": {
          "base_uri": "https://localhost:8080/"
        },
        "id": "yXdxbHG5mrAK",
        "outputId": "2843f132-ea31-4c63-bc48-349e40c2d1c0"
      },
      "execution_count": null,
      "outputs": [
        {
          "output_type": "stream",
          "name": "stdout",
          "text": [
            "Number of categories: 4\n"
          ]
        }
      ]
    },
    {
      "cell_type": "code",
      "source": [
        "#We extract 300000 random samples to calculate sum of the 2 dies.\n",
        "key = jax.random.PRNGKey(1)\n",
        "n_samples = 300000\n",
        "samples = dice.sample(seed=key, sample_shape=n_samples)\n",
        "sum = samples[:,0] + samples[:,1]\n",
        "\n",
        "#Counting number of times, the random variable takes individual values from sample space\n",
        "count = Counter(map(int, sum.tolist()))\n",
        "print(f\"Number of occurence: {count}\")"
      ],
      "metadata": {
        "colab": {
          "base_uri": "https://localhost:8080/"
        },
        "id": "_Y0sq8pK4GBb",
        "outputId": "c7f822d8-42b8-403c-b68c-12aa441c2212"
      },
      "execution_count": null,
      "outputs": [
        {
          "output_type": "stream",
          "name": "stdout",
          "text": [
            "Number of occurence: Counter({3: 74728, 2: 56545, 4: 56364, 5: 37554, 1: 37253, 0: 18887, 6: 18669})\n"
          ]
        }
      ]
    },
    {
      "cell_type": "code",
      "source": [
        "#Printing the sample space\n",
        "sample_space = jnp.unique(sum, axis=0)\n",
        "print(f\"Sample Space: {sample_space.tolist()}\")"
      ],
      "metadata": {
        "colab": {
          "base_uri": "https://localhost:8080/"
        },
        "id": "hxol-cpfs4_k",
        "outputId": "df3d8f42-fcfb-4264-fca7-27347e88169f"
      },
      "execution_count": null,
      "outputs": [
        {
          "output_type": "stream",
          "name": "stdout",
          "text": [
            "Sample Space: [0, 1, 2, 3, 4, 5, 6]\n"
          ]
        }
      ]
    },
    {
      "cell_type": "markdown",
      "source": [
        "To calculate Probability Mass Function, we calculate probability of every possible value in sample space"
      ],
      "metadata": {
        "id": "3HHWc4oGbuW-"
      }
    },
    {
      "cell_type": "code",
      "source": [
        "#Using Pandas series to normalise the count and than plotting the Probability Mass Function\n",
        "ser = pd.Series(count)\n",
        "ser = ser/n_samples\n",
        "ser = ser.sort_index()\n",
        "plot = ser.plot.bar(xlabel = 'x', ylabel = 'PMF(X)', title = 'Probability Mass Function', rot=0)"
      ],
      "metadata": {
        "colab": {
          "base_uri": "https://localhost:8080/",
          "height": 295
        },
        "id": "vshT_2jVWXsY",
        "outputId": "fb66d4be-470d-439b-d1ff-9aabe6fb7c62"
      },
      "execution_count": null,
      "outputs": [
        {
          "output_type": "display_data",
          "data": {
            "text/plain": [
              "<Figure size 432x288 with 1 Axes>"
            ],
            "image/png": "[encoded data removed]"
          },
          "metadata": {
            "needs_background": "light"
          }
        }
      ]
    },
    {
      "cell_type": "markdown",
      "source": [
        "To calculate theoretical mean, we use \n",
        "\n",
        "$\\mu = \\sum_{i = 1}^n x_i P(x_i)$ \n",
        "\n",
        "Further to calculate variance, we use\n",
        "\n",
        "$var(X) = \\sum_{i = 1}^n (x_i - \\mu)^2 P(x_i)$"
      ],
      "metadata": {
        "id": "QzpXf05MGkbV"
      }
    },
    {
      "cell_type": "code",
      "source": [
        "#Initialising mean and variance to 0\n",
        "mean = 0\n",
        "var = 0\n",
        "\n",
        "#Looping over number of samples to calculate mean and variance\n",
        "for i in range(len(ser)):\n",
        "  mean = mean + i*ser[i]\n",
        "for i in range(len(list(count.keys()))):\n",
        "  var = var + ((i - mean)**2)*ser[i]\n",
        "\n",
        "#Printing calculated Mean and Variance \n",
        "print(f\"Theoretical Mean is: {mean}\")\n",
        "print(f\"Theoretical Variance is: {var}\")"
      ],
      "metadata": {
        "colab": {
          "base_uri": "https://localhost:8080/"
        },
        "id": "057Sd1ifFGoz",
        "outputId": "663ed0b1-65e5-4cde-df03-ee4e61abb191"
      },
      "execution_count": null,
      "outputs": [
        {
          "output_type": "stream",
          "name": "stdout",
          "text": [
            "Theoretical Mean is: 2.999223333333333\n",
            "Theoretical Variance is: 2.500469396788889\n"
          ]
        }
      ]
    },
    {
      "cell_type": "markdown",
      "source": [
        "Further to calculate mean and variance from samples, we make use of direct method using jax.numpy"
      ],
      "metadata": {
        "id": "bTa7XDVXGmgz"
      }
    },
    {
      "cell_type": "code",
      "source": [
        "#Using jax.numpy to calculate mean and variance\n",
        "mean = jnp.mean(sum)\n",
        "var = (jnp.std(sum))**2\n",
        "\n",
        "#Printing out mean and variance\n",
        "print(f\"Mean is: {mean}\")\n",
        "print(f\"Variance is: {var}\")"
      ],
      "metadata": {
        "id": "sh55TJLpBfDF",
        "colab": {
          "base_uri": "https://localhost:8080/"
        },
        "outputId": "05de4168-1a4d-4332-da06-e4f4335fe1cd"
      },
      "execution_count": null,
      "outputs": [
        {
          "output_type": "stream",
          "name": "stdout",
          "text": [
            "Mean is: 2.999223232269287\n",
            "Variance is: 2.50046968460083\n"
          ]
        }
      ]
    },
    {
      "cell_type": "markdown",
      "source": [
        "For calculating Cumulative Distribution Function, we just need to take cumuative sum of probabilities"
      ],
      "metadata": {
        "id": "BgHbYzPqb3pu"
      }
    },
    {
      "cell_type": "code",
      "source": [
        "#Calculating cumulative sum of the distribution\n",
        "ser = ser.cumsum()\n",
        "plot = ser.plot.bar(xlabel = 'x', ylabel = 'CDF(X)', title = 'Cumulative Distribution Function', rot=0)"
      ],
      "metadata": {
        "colab": {
          "base_uri": "https://localhost:8080/",
          "height": 295
        },
        "id": "aSKSDxk4W-cL",
        "outputId": "648e22ae-8ada-4810-bc63-ba302586206b"
      },
      "execution_count": null,
      "outputs": [
        {
          "output_type": "display_data",
          "data": {
            "text/plain": [
              "<Figure size 432x288 with 1 Axes>"
            ],
            "image/png": "[encoded data removed]"
          },
          "metadata": {
            "needs_background": "light"
          }
        }
      ]
    },
    {
      "cell_type": "markdown",
      "source": [
        "#Discrete Uniform Distribution"
      ],
      "metadata": {
        "id": "us_89YgaZPvz"
      }
    },
    {
      "cell_type": "markdown",
      "source": [
        "Discrete Uniform Distribution is a symmetric probability distribution, wherein all values are equally likely to be observed.\n",
        "\n",
        "eg: Tossing a coin, rolling a dice\n",
        "\n",
        "In this example, we plot a uniform distribution from $0$ to $5$. Hence, the sample space here will be $0, 1, 2, 3, 4, 5$. All this values will have equal probability of $0.16$ "
      ],
      "metadata": {
        "id": "1YsAOZ72e1VC"
      }
    },
    {
      "cell_type": "code",
      "source": [
        "#Initialising lower and higher value for uniform distribution\n",
        "low, high = 0, 5"
      ],
      "metadata": {
        "id": "JjxMuRvMc9X6"
      },
      "execution_count": null,
      "outputs": []
    },
    {
      "cell_type": "code",
      "source": [
        "#We extract 1000000 samples from uniform discrete distribution. \n",
        "discrete_uniform_distribution = distrax.Categorical(probs=[1/6]*6)\n",
        "n_samples = 1000000\n",
        "key = jax.random.PRNGKey(0)\n",
        "samples = discrete_uniform_distribution.sample(seed=key, sample_shape=n_samples).round(0)\n",
        "\n",
        "#Counting number of times, the random variable takes individual values from sample space\n",
        "count = Counter(map(float, samples.tolist()))\n",
        "print(f\"Number of occurence: {count}\")"
      ],
      "metadata": {
        "colab": {
          "base_uri": "https://localhost:8080/"
        },
        "id": "XP2IpuCk-0rc",
        "outputId": "be78ba6b-39b1-412d-8a05-255fa9b4b422"
      },
      "execution_count": null,
      "outputs": [
        {
          "output_type": "stream",
          "name": "stdout",
          "text": [
            "Number of occurence: Counter({2.0: 167028, 4.0: 166954, 5.0: 166861, 0.0: 166633, 3.0: 166505, 1.0: 166019})\n"
          ]
        }
      ]
    },
    {
      "cell_type": "code",
      "source": [
        "#Printing the sample space\n",
        "sample_space = jnp.unique(samples, axis=0)\n",
        "print(f\"Sample Space: {sample_space.tolist()}\")"
      ],
      "metadata": {
        "colab": {
          "base_uri": "https://localhost:8080/"
        },
        "id": "PedLiHL0YIqS",
        "outputId": "24d137e8-129e-430c-bd39-6835508b4b8d"
      },
      "execution_count": null,
      "outputs": [
        {
          "output_type": "stream",
          "name": "stdout",
          "text": [
            "Sample Space: [0, 1, 2, 3, 4, 5]\n"
          ]
        }
      ]
    },
    {
      "cell_type": "markdown",
      "source": [
        "The Probability Mass Function of Discrete Uniform Distribution follows.\n",
        "\n",
        "$\\text{PMF}(X) = \\dfrac{1}{b-a+1}$, \n",
        "\n",
        "where $b$ is the lower limit and $a$ is the upper limit of distribution"
      ],
      "metadata": {
        "id": "vizmSK2PeL2B"
      }
    },
    {
      "cell_type": "code",
      "source": [
        "#Using Pandas series to normalise the count and than plotting the Probability Mass Function\n",
        "ser = pd.Series(count)\n",
        "ser = ser/n_samples\n",
        "ser = ser.sort_index()\n",
        "plot = ser.plot.bar(xlabel = 'x', ylabel = 'PMF(X)', title = 'Probability Mass Function', rot=0)"
      ],
      "metadata": {
        "colab": {
          "base_uri": "https://localhost:8080/",
          "height": 295
        },
        "id": "v87iNUEBjxkH",
        "outputId": "7f54f4bd-4574-4547-c1a4-beed20330f78"
      },
      "execution_count": null,
      "outputs": [
        {
          "output_type": "display_data",
          "data": {
            "text/plain": [
              "<Figure size 432x288 with 1 Axes>"
            ],
            "image/png": "[encoded data removed]"
          },
          "metadata": {
            "needs_background": "light"
          }
        }
      ]
    },
    {
      "cell_type": "markdown",
      "source": [
        "To calculate theoretical mean, we use \n",
        "\n",
        "$\\mu = \\dfrac{a + b}{2} = \\dfrac{5 - 0}{2} = 2.5$ \n",
        "\n",
        "Further to calculate variance, we use\n",
        "\n",
        "$var(X) = \\dfrac{(b-a+1)^2-1}{12} = \\dfrac{(5-0+1)^2-1}{12} = 2.91$"
      ],
      "metadata": {
        "id": "6NH3m-ftC636"
      }
    },
    {
      "cell_type": "code",
      "source": [
        "#We calculate mean and variance from given formula\n",
        "mean = (high + low)/2\n",
        "n = high - low + 1\n",
        "var = (n**2 - 1)/12\n",
        "\n",
        "#Printing calculated Mean and Variance \n",
        "print(f\"Theoretical Mean is: {mean}\")\n",
        "print(f\"Theoretical Variance is: {var}\")"
      ],
      "metadata": {
        "colab": {
          "base_uri": "https://localhost:8080/"
        },
        "id": "3Gb-F_fDDKXO",
        "outputId": "36418db3-d5cc-42c3-a67f-a52869d25976"
      },
      "execution_count": null,
      "outputs": [
        {
          "output_type": "stream",
          "name": "stdout",
          "text": [
            "Theoretical Mean is: 2.5\n",
            "Theoretical Variance is: 2.9166666666666665\n"
          ]
        }
      ]
    },
    {
      "cell_type": "markdown",
      "source": [
        "Further to calculate mean and variance from samples, we make use of direct method using jax.numpy"
      ],
      "metadata": {
        "id": "QPTJjvCLDT-r"
      }
    },
    {
      "cell_type": "code",
      "source": [
        "#Using jax.numpy to calculate mean and variance\n",
        "mean = jnp.mean(samples)\n",
        "var = (jnp.std(samples))**2\n",
        "\n",
        "#Printing out mean and variance\n",
        "print(f\"Mean is: {mean}\")\n",
        "print(f\"Variance is: {var}\")"
      ],
      "metadata": {
        "id": "BFRU3W94cxd2",
        "colab": {
          "base_uri": "https://localhost:8080/"
        },
        "outputId": "14debe0f-0909-4861-dfee-ae5248aa7b67"
      },
      "execution_count": null,
      "outputs": [
        {
          "output_type": "stream",
          "name": "stdout",
          "text": [
            "Mean is: 2.501710891723633\n",
            "Variance is: 2.916907548904419\n"
          ]
        }
      ]
    },
    {
      "cell_type": "markdown",
      "source": [
        "For calculating Cumulative Distribution Function, we just need to take cumuative sum of probabilities"
      ],
      "metadata": {
        "id": "fEYurIhgeVLP"
      }
    },
    {
      "cell_type": "code",
      "source": [
        "#Calculating Cumulative Sum of the distribution\n",
        "ser = ser.cumsum()\n",
        "plot = ser.plot.bar(xlabel = 'x', ylabel = 'CDF(X)', title = 'Cumulative Distribution Function', rot=0)"
      ],
      "metadata": {
        "id": "22Bj5U-QxVYv",
        "colab": {
          "base_uri": "https://localhost:8080/",
          "height": 295
        },
        "outputId": "6b9a1e4f-23c8-4c7a-8483-09b8cafecc93"
      },
      "execution_count": null,
      "outputs": [
        {
          "output_type": "display_data",
          "data": {
            "text/plain": [
              "<Figure size 432x288 with 1 Axes>"
            ],
            "image/png": "[encoded data removed]"
          },
          "metadata": {
            "needs_background": "light"
          }
        }
      ]
    },
    {
      "cell_type": "markdown",
      "source": [
        "#Bernoulli Distribution"
      ],
      "metadata": {
        "id": "t4axdxW-s9Wj"
      }
    },
    {
      "cell_type": "markdown",
      "source": [
        "Bernoulli Distribution is the discrete probability distribution which takes the value 1 with probability of $p$ and 0 with probability of $1-p$\n",
        "\n",
        "eg: Tossing a coin can give either Heads(0) or Tails(1)\n",
        "\n",
        "In this example we consider probability of getting $1$ or Tails to be $0.75$. Hence the probability of getting $0$ or Heads is $1 - 0.75 = 0.25$"
      ],
      "metadata": {
        "id": "_E68p3aRI1Pb"
      }
    },
    {
      "cell_type": "code",
      "source": [
        "#Initialising Probability for Bernoulli Distribution\n",
        "prob = 0.75"
      ],
      "metadata": {
        "id": "XK1lhEpidR39"
      },
      "execution_count": null,
      "outputs": []
    },
    {
      "cell_type": "code",
      "source": [
        "#Extracting 10000 random samples from the distribution\n",
        "coin = distrax.Bernoulli(probs=prob)\n",
        "key = jax.random.PRNGKey(0)\n",
        "n_samples = 10000\n",
        "samples = coin.sample(seed=key, sample_shape=n_samples)\n",
        "\n",
        "#Counting number of times, the random variable takes individual values from sample space\n",
        "count = Counter(map(float, samples.tolist()))\n",
        "print(f\"Number of occurence: {count}\")"
      ],
      "metadata": {
        "id": "DYI2jgQKtF3E",
        "colab": {
          "base_uri": "https://localhost:8080/"
        },
        "outputId": "ef76c343-0bab-4d2b-ee14-e0fcfce3f840"
      },
      "execution_count": null,
      "outputs": [
        {
          "output_type": "stream",
          "name": "stdout",
          "text": [
            "Number of occurence: Counter({1.0: 7484, 0.0: 2516})\n"
          ]
        }
      ]
    },
    {
      "cell_type": "code",
      "source": [
        "#Printing the Sample Space\n",
        "sample_space = jnp.unique(samples, axis=0)\n",
        "print(f\"Sample Space: {sample_space.tolist()}\")"
      ],
      "metadata": {
        "id": "BySvpfE0y69t",
        "colab": {
          "base_uri": "https://localhost:8080/"
        },
        "outputId": "08e2b92f-2d0b-4cdd-9d2e-b9779d177732"
      },
      "execution_count": null,
      "outputs": [
        {
          "output_type": "stream",
          "name": "stdout",
          "text": [
            "Sample Space: [0, 1]\n"
          ]
        }
      ]
    },
    {
      "cell_type": "markdown",
      "source": [
        "The Probability Mass Function of Bernoulli's Distribution follows\n",
        "\n",
        "$\\text{PMF}(X) = p^k (1-p)^{1-k}$\n",
        "\n",
        "Here $k$ can take either $0$ and $1$, whereas $p$ represents the probability. "
      ],
      "metadata": {
        "id": "0_2tcwq5IYge"
      }
    },
    {
      "cell_type": "code",
      "source": [
        "#Using Pandas series to normalise the count and than plotting the Probability Mass Function\n",
        "ser = pd.Series(count)\n",
        "ser = ser/n_samples\n",
        "ser = ser.sort_index()\n",
        "plot = ser.plot.bar(xlabel = 'x', ylabel = 'PMF(X)', title = 'Probability Mass Function', rot=0)"
      ],
      "metadata": {
        "id": "R6sX3nBiy9o1",
        "colab": {
          "base_uri": "https://localhost:8080/",
          "height": 295
        },
        "outputId": "82d908c7-46c5-491d-cf02-003990e59a47"
      },
      "execution_count": null,
      "outputs": [
        {
          "output_type": "display_data",
          "data": {
            "text/plain": [
              "<Figure size 432x288 with 1 Axes>"
            ],
            "image/png": "[encoded data removed]"
          },
          "metadata": {
            "needs_background": "light"
          }
        }
      ]
    },
    {
      "cell_type": "markdown",
      "source": [
        "The theoretical mean will be equal to probability of getting 1 i.e\n",
        "\n",
        "$\\mu = P(1) =0.75$\n",
        "\n",
        "Now to calculate theoretical variance, we use\n",
        "\n",
        "$var(X) = \\mu(1-\\mu) = 0.75(1-0.75) = 0.1875$"
      ],
      "metadata": {
        "id": "39wfiNQCJF6A"
      }
    },
    {
      "cell_type": "code",
      "source": [
        "#We calculate mean and variance from given formula\n",
        "mean = prob\n",
        "var = prob*(1-prob)\n",
        "\n",
        "#Printing calculated Mean and Variance\n",
        "print(f\"Theoretical Mean is {mean}\")\n",
        "print(f\"Theoretical Variance is {var}\")"
      ],
      "metadata": {
        "id": "Xm_J_CFgJI1N",
        "colab": {
          "base_uri": "https://localhost:8080/"
        },
        "outputId": "e639ca92-713d-49b4-ede5-6f98170c70ff"
      },
      "execution_count": null,
      "outputs": [
        {
          "output_type": "stream",
          "name": "stdout",
          "text": [
            "Theoretical Mean is 0.75\n",
            "Theoretical Variance is 0.1875\n"
          ]
        }
      ]
    },
    {
      "cell_type": "markdown",
      "source": [
        "Further to calculate mean and variance, we make use of direct method using jax.numpy"
      ],
      "metadata": {
        "id": "iFlYHwwCJHYZ"
      }
    },
    {
      "cell_type": "code",
      "source": [
        "#Using jax.numpy to calculate mean and variance\n",
        "mean = jnp.mean(samples)\n",
        "var = (jnp.std(samples))**2\n",
        "\n",
        "#Printing out Mean and Variance\n",
        "print(f\"Mean is: {mean}\")\n",
        "print(f\"Variance is: {var}\")"
      ],
      "metadata": {
        "id": "dbO-eV8izWbu",
        "colab": {
          "base_uri": "https://localhost:8080/"
        },
        "outputId": "43cc1502-46b3-4237-ff3c-7e79147d1cff"
      },
      "execution_count": null,
      "outputs": [
        {
          "output_type": "stream",
          "name": "stdout",
          "text": [
            "Mean is: 0.7483999729156494\n",
            "Variance is: 0.18829745054244995\n"
          ]
        }
      ]
    },
    {
      "cell_type": "markdown",
      "source": [
        "For calculating Cumulative Distribution Function, we just need to take cumuative sum of probabilities"
      ],
      "metadata": {
        "id": "seDLWslMzr7n"
      }
    },
    {
      "cell_type": "code",
      "source": [
        "#Calculating Cumulative Sum of the distribution\n",
        "ser = ser.cumsum()\n",
        "plot = ser.plot.bar(xlabel = 'x', ylabel = 'CDF(X)', title = 'Cumulative Distribution Function', rot=0)"
      ],
      "metadata": {
        "id": "5t9vvrYtzsxJ",
        "colab": {
          "base_uri": "https://localhost:8080/",
          "height": 295
        },
        "outputId": "4390524e-00c8-4fef-ba4a-d956dd3cce39"
      },
      "execution_count": null,
      "outputs": [
        {
          "output_type": "display_data",
          "data": {
            "text/plain": [
              "<Figure size 432x288 with 1 Axes>"
            ],
            "image/png": "[encoded data removed]"
          },
          "metadata": {
            "needs_background": "light"
          }
        }
      ]
    },
    {
      "cell_type": "markdown",
      "source": [
        "#Continuous Uniform Distribution"
      ],
      "metadata": {
        "id": "eLFRakxCCG8d"
      }
    },
    {
      "cell_type": "markdown",
      "source": [
        "Continuous Uniform Distribution can be defined as a symmetric distribution wherein we are equally likely to observed all the values.\n",
        "\n",
        "eg: In Dartboard game, we are equally to get probability of dart hiting on board\n",
        "\n",
        "In this example, we plot a uniform distribution from $-3$ to $3$"
      ],
      "metadata": {
        "id": "Rn4UI4wEqvsN"
      }
    },
    {
      "cell_type": "code",
      "source": [
        "#Initialising lower and higher value for uniform distribution\n",
        "low, high = -3, 3"
      ],
      "metadata": {
        "id": "NXgVjNELdf-1"
      },
      "execution_count": null,
      "outputs": []
    },
    {
      "cell_type": "code",
      "source": [
        "#We extract 1000000 samples from uniform discrete distribution\n",
        "continuous_uniform_distribution = distrax.Uniform(low=low, high=high)\n",
        "n_samples = 1000000\n",
        "key = jax.random.PRNGKey(0)\n",
        "samples = continuous_uniform_distribution.sample(seed=key, sample_shape=n_samples)\n"
      ],
      "metadata": {
        "id": "E7BT779VCYPN",
        "colab": {
          "base_uri": "https://localhost:8080/"
        },
        "outputId": "01cccec0-0dd6-4779-c137-eada2a3dee26"
      },
      "execution_count": null,
      "outputs": [
        {
          "output_type": "stream",
          "name": "stderr",
          "text": [
            "/usr/local/lib/python3.7/dist-packages/jax/_src/numpy/lax_numpy.py:4457: UserWarning: Explicitly requested dtype <class 'jax.numpy.float64'> requested in astype is not available, and will be truncated to dtype float32. To enable more dtypes, set the jax_enable_x64 configuration option or the JAX_ENABLE_X64 shell environment variable. See https://github.com/google/jax#current-gotchas for more.\n",
            "  lax_internal._check_user_dtype_supported(dtype, \"astype\")\n"
          ]
        }
      ]
    },
    {
      "cell_type": "markdown",
      "source": [
        "The Probability Distribution Function of Discrete Uniform Distribution follows.\n",
        "\n",
        "$\\text{PDF}(X) = \\dfrac{1}{b-a}$, \n",
        "\n",
        "where $b$ is the lower limit and $a$ is the upper limit of distribution"
      ],
      "metadata": {
        "id": "s6EAEwcTDkd9"
      }
    },
    {
      "cell_type": "code",
      "source": [
        "#We use seaborn to plot PDF of the distribution\n",
        "sns.displot(samples, kind='kde',bw_adjust=2, rug=True)"
      ],
      "metadata": {
        "id": "Q6Zt8MLrCsiI",
        "colab": {
          "base_uri": "https://localhost:8080/",
          "height": 386
        },
        "outputId": "9fd19453-4721-4370-eaca-83e1a3dc6e14"
      },
      "execution_count": null,
      "outputs": [
        {
          "output_type": "execute_result",
          "data": {
            "text/plain": [
              "<seaborn.axisgrid.FacetGrid at 0x7fd281c91810>"
            ]
          },
          "metadata": {},
          "execution_count": 75
        },
        {
          "output_type": "display_data",
          "data": {
            "text/plain": [
              "<Figure size 360x360 with 1 Axes>"
            ],
            "image/png": "[encoded data removed]"
          },
          "metadata": {
            "needs_background": "light"
          }
        }
      ]
    },
    {
      "cell_type": "markdown",
      "source": [
        "To calculate theoretical mean, we use \n",
        "\n",
        "$\\mu = \\dfrac{a + b}{2} = \\dfrac{3 - 3}{2} = 0$ \n",
        "\n",
        "Further to calculate variance, we use\n",
        "\n",
        "$var(X) = \\dfrac{(b-a+1)^2}{12} = \\dfrac{(3-(-3))^2}{12} = 3$"
      ],
      "metadata": {
        "id": "wQl6BJTDLrpt"
      }
    },
    {
      "cell_type": "code",
      "source": [
        "#We calculate mean and variance from given formula\n",
        "mean = (high+low)/2\n",
        "n = high - low\n",
        "var = (n**2)/12\n",
        "\n",
        "#Printing calculated Mean and Variance\n",
        "print(f\"Theoretical Mean is: {mean}\")\n",
        "print(f\"Theoretical Variance is: {var}\")"
      ],
      "metadata": {
        "id": "RziYb7ZDLuRm",
        "colab": {
          "base_uri": "https://localhost:8080/"
        },
        "outputId": "52a3d89a-ec0d-4159-833e-70a5933c57fc"
      },
      "execution_count": null,
      "outputs": [
        {
          "output_type": "stream",
          "name": "stdout",
          "text": [
            "Theoretical Mean is: 0.0\n",
            "Theoretical Variance is: 3.0\n"
          ]
        }
      ]
    },
    {
      "cell_type": "markdown",
      "source": [
        "Further to calculate mean and variance, we make use of direct method using jax.numpy"
      ],
      "metadata": {
        "id": "QlEm0LnwVewe"
      }
    },
    {
      "cell_type": "code",
      "source": [
        "#Using jax.numpy to calculate mean and variance\n",
        "mean = jnp.mean(samples)\n",
        "var = (jnp.std(samples))**2\n",
        "\n",
        "#Printing out mean and variance\n",
        "print(f\"Mean is: {mean}\")\n",
        "print(f\"Variance is: {var}\")"
      ],
      "metadata": {
        "id": "0LXBF61LDyIx",
        "colab": {
          "base_uri": "https://localhost:8080/"
        },
        "outputId": "9ad8f0c4-003d-4014-a55d-c6310515a933"
      },
      "execution_count": null,
      "outputs": [
        {
          "output_type": "stream",
          "name": "stdout",
          "text": [
            "Mean is: 0.0003436896367929876\n",
            "Variance is: 3.000629186630249\n"
          ]
        }
      ]
    },
    {
      "cell_type": "markdown",
      "source": [
        "#Continuous Normal Distribution"
      ],
      "metadata": {
        "id": "munT2Q1UHWbn"
      }
    },
    {
      "cell_type": "markdown",
      "source": [
        "Continuous normal distribution is a important distribution and is also called as bell shape curve. Their importance is mainly due to the central limit theorem which states that under some conditions, the average of many samples of a random variable with finite mean and variance is itself a random variable whose distribution converges to a normal distribution as the number of samples increases."
      ],
      "metadata": {
        "id": "-D2li04Nvn8D"
      }
    },
    {
      "cell_type": "code",
      "source": [
        "#Initialising mean and standard deviation for normal distribution\n",
        "mean, std = 0, 2"
      ],
      "metadata": {
        "id": "rnUWZElndw0w"
      },
      "execution_count": null,
      "outputs": []
    },
    {
      "cell_type": "code",
      "source": [
        "#We extract 1000000 samples from continuous normal distribution distribution\n",
        "continuous_normal_distribution = distrax.Normal(loc=mean, scale=std)\n",
        "n_samples = 1000000\n",
        "key = jax.random.PRNGKey(0)\n",
        "samples = continuous_normal_distribution.sample(seed=key, sample_shape=n_samples)\n"
      ],
      "metadata": {
        "id": "qx5YtQzsHZLM",
        "colab": {
          "base_uri": "https://localhost:8080/"
        },
        "outputId": "c4d434dd-5455-436b-ae59-e85ebc9d5885"
      },
      "execution_count": null,
      "outputs": [
        {
          "output_type": "stream",
          "name": "stderr",
          "text": [
            "/usr/local/lib/python3.7/dist-packages/jax/_src/numpy/lax_numpy.py:4457: UserWarning: Explicitly requested dtype <class 'jax.numpy.float64'> requested in astype is not available, and will be truncated to dtype float32. To enable more dtypes, set the jax_enable_x64 configuration option or the JAX_ENABLE_X64 shell environment variable. See https://github.com/google/jax#current-gotchas for more.\n",
            "  lax_internal._check_user_dtype_supported(dtype, \"astype\")\n"
          ]
        }
      ]
    },
    {
      "cell_type": "markdown",
      "source": [
        "The Probability Distribution Function of normal distribution follows\n",
        "\n",
        "$\\text{PDF}(X) = \\dfrac{1}{\\sigma \\sqrt{2 \\pi}} e^{\\dfrac{-(x - \\mu)^2}{2 \\sigma^2}}$ \n",
        "\n",
        "where $\\mu$ is the mean of the distribution and $\\sigma$ is the standard deviation of the distribution"
      ],
      "metadata": {
        "id": "8o99Myr1MloN"
      }
    },
    {
      "cell_type": "code",
      "source": [
        "#We use seaborn to plot PDF of the distribution\n",
        "sns.displot(samples, kind='kde',bw_adjust=2, rug=True)"
      ],
      "metadata": {
        "id": "7vNYvBZTHqqT",
        "colab": {
          "base_uri": "https://localhost:8080/",
          "height": 386
        },
        "outputId": "7f992c68-8f15-4e2d-c7bc-c9b69e6382f6"
      },
      "execution_count": null,
      "outputs": [
        {
          "output_type": "execute_result",
          "data": {
            "text/plain": [
              "<seaborn.axisgrid.FacetGrid at 0x7fd26030de90>"
            ]
          },
          "metadata": {},
          "execution_count": 80
        },
        {
          "output_type": "display_data",
          "data": {
            "text/plain": [
              "<Figure size 360x360 with 1 Axes>"
            ],
            "image/png": "[encoded data removed]"
          },
          "metadata": {
            "needs_background": "light"
          }
        }
      ]
    },
    {
      "cell_type": "markdown",
      "source": [
        "The theoretical mean is defined when plotting the distribution i.e $0$ \n",
        "\n",
        "Further to calculate variance, we use\n",
        "\n",
        "$var(X) = \\sigma^2 = 2^2 = 4$"
      ],
      "metadata": {
        "id": "G6zP1E1CRHIg"
      }
    },
    {
      "cell_type": "code",
      "source": [
        "#We calculate variance from given formula\n",
        "var = std**2\n",
        "\n",
        "#Printing calculated Mean and Variance\n",
        "print(f\"Theoretical Mean is {mean}\")\n",
        "print(f\"Theoretical Variance is {var}\")"
      ],
      "metadata": {
        "id": "V75QnszKRIvQ",
        "colab": {
          "base_uri": "https://localhost:8080/"
        },
        "outputId": "048cb03b-4ed1-4d90-eb73-2d99636c0178"
      },
      "execution_count": null,
      "outputs": [
        {
          "output_type": "stream",
          "name": "stdout",
          "text": [
            "Theoretical Mean is 0\n",
            "Theoretical Variance is 4\n"
          ]
        }
      ]
    },
    {
      "cell_type": "markdown",
      "source": [
        "Further to calculate mean and variance, we make use of direct method using jax.numpy"
      ],
      "metadata": {
        "id": "_3LqLKnyViXY"
      }
    },
    {
      "cell_type": "code",
      "source": [
        "#Using jax.numpy to calculate mean and variance\n",
        "mean = jnp.mean(samples)\n",
        "var = (jnp.std(samples))**2\n",
        "\n",
        "#Printing out mean and variance\n",
        "print(f\"Mean is: {mean}\")\n",
        "print(f\"Variance is: {var}\")"
      ],
      "metadata": {
        "id": "uwKOHBQhIHfz",
        "colab": {
          "base_uri": "https://localhost:8080/"
        },
        "outputId": "e003992b-48ab-4623-927d-1553a538ad43"
      },
      "execution_count": null,
      "outputs": [
        {
          "output_type": "stream",
          "name": "stdout",
          "text": [
            "Mean is: 0.0006718216463923454\n",
            "Variance is: 4.004653453826904\n"
          ]
        }
      ]
    },
    {
      "cell_type": "markdown",
      "source": [
        "#Continuous Laplacian Distribution"
      ],
      "metadata": {
        "id": "Goe5LMBsIWYQ"
      }
    },
    {
      "cell_type": "markdown",
      "source": [
        "Laplacian Distribution is also called as double exponential distribution as it comprises of 2 exponential distributions. Laplacian Distribution is widely used at many places including signal processing, astronomy and many more."
      ],
      "metadata": {
        "id": "Vqpdcxua3ZRE"
      }
    },
    {
      "cell_type": "code",
      "source": [
        "#Initialising mean and scale for laplacian distribution\n",
        "mean = 0\n",
        "scale = 1"
      ],
      "metadata": {
        "id": "iS8zIWRzeCyd"
      },
      "execution_count": null,
      "outputs": []
    },
    {
      "cell_type": "code",
      "source": [
        "#We extract 1000000 samples from continous laplacian distribution\n",
        "discrete_laplace_distribution = distrax.Laplace(loc=mean, scale=scale)\n",
        "n_samples = 1000000\n",
        "key = jax.random.PRNGKey(0)\n",
        "samples = discrete_laplace_distribution.sample(seed=key, sample_shape=n_samples)\n"
      ],
      "metadata": {
        "id": "VVJqypVvIan7",
        "colab": {
          "base_uri": "https://localhost:8080/"
        },
        "outputId": "ae7f7edc-9f82-4eee-d51a-a22c3d82f3c5"
      },
      "execution_count": null,
      "outputs": [
        {
          "output_type": "stream",
          "name": "stderr",
          "text": [
            "/usr/local/lib/python3.7/dist-packages/jax/_src/numpy/lax_numpy.py:4457: UserWarning: Explicitly requested dtype <class 'jax.numpy.float64'> requested in astype is not available, and will be truncated to dtype float32. To enable more dtypes, set the jax_enable_x64 configuration option or the JAX_ENABLE_X64 shell environment variable. See https://github.com/google/jax#current-gotchas for more.\n",
            "  lax_internal._check_user_dtype_supported(dtype, \"astype\")\n"
          ]
        }
      ]
    },
    {
      "cell_type": "markdown",
      "source": [
        "The Probability Distribution Function of Laplacian Distribution follows.\n",
        "\n",
        "$\\text{PDF}(X) = \\dfrac{1}{2b}e^-\\dfrac{|x - \\mu|}{b}$ \n",
        "\n",
        "where $\\mu$ is the mean whereas $b$ is called scale of the distribution"
      ],
      "metadata": {
        "id": "wTQbLsQwNqQV"
      }
    },
    {
      "cell_type": "code",
      "source": [
        "#We use seaborn to plot PDF of the distribution\n",
        "sns.displot(samples, kind='kde',bw_adjust=2, rug=True)"
      ],
      "metadata": {
        "id": "IpHFLOlRImKj",
        "colab": {
          "base_uri": "https://localhost:8080/",
          "height": 386
        },
        "outputId": "ada8423f-bad7-4aa6-a42e-7286e34006c1"
      },
      "execution_count": null,
      "outputs": [
        {
          "output_type": "execute_result",
          "data": {
            "text/plain": [
              "<seaborn.axisgrid.FacetGrid at 0x7fd34bac07d0>"
            ]
          },
          "metadata": {},
          "execution_count": 85
        },
        {
          "output_type": "display_data",
          "data": {
            "text/plain": [
              "<Figure size 360x360 with 1 Axes>"
            ],
            "image/png": "[encoded data removed]"
          },
          "metadata": {
            "needs_background": "light"
          }
        }
      ]
    },
    {
      "cell_type": "markdown",
      "source": [
        "The theoretical mean is defined when plotting the distribution i.e $0$ \n",
        "\n",
        "Further to calculate variance, we use\n",
        "\n",
        "$var(X) = 2b^2 = 2\\times1^2 = 2$"
      ],
      "metadata": {
        "id": "2pYqIbXFOhUR"
      }
    },
    {
      "cell_type": "code",
      "source": [
        "#We calculate variance from given formula\n",
        "var = 2*(scale**2)\n",
        "\n",
        "#Printing calculated Mean and Variance\n",
        "print(f\"Theoretical Mean is: {mean}\")\n",
        "print(f\"Theoretical Variance is: {var}\")"
      ],
      "metadata": {
        "id": "URdRdGBTOk_c",
        "colab": {
          "base_uri": "https://localhost:8080/"
        },
        "outputId": "d459c7c8-9d1f-42ab-84ff-97701f8d3c80"
      },
      "execution_count": null,
      "outputs": [
        {
          "output_type": "stream",
          "name": "stdout",
          "text": [
            "Theoretical Mean is: 0\n",
            "Theoretical Variance is: 2\n"
          ]
        }
      ]
    },
    {
      "cell_type": "markdown",
      "source": [
        "Further to calculate mean and variance, we make use of direct method using jax.numpy"
      ],
      "metadata": {
        "id": "cHVw59OkO5Qj"
      }
    },
    {
      "cell_type": "code",
      "source": [
        "#Using jax.numpy to calculate mean and variance\n",
        "mean = jnp.mean(samples)\n",
        "var = (jnp.std(samples))**2\n",
        "\n",
        "#Printing out mean and variance\n",
        "print(f\"Mean is: {mean}\")\n",
        "print(f\"Variance is: {var}\")"
      ],
      "metadata": {
        "id": "4y86My6oJJdq",
        "colab": {
          "base_uri": "https://localhost:8080/"
        },
        "outputId": "9316df61-b361-4388-cf34-0e463cb5f2dc"
      },
      "execution_count": null,
      "outputs": [
        {
          "output_type": "stream",
          "name": "stdout",
          "text": [
            "Mean is: -0.0005483661661855876\n",
            "Variance is: 2.003704786300659\n"
          ]
        }
      ]
    },
    {
      "cell_type": "markdown",
      "source": [
        "#Continuous Gamma distribution"
      ],
      "metadata": {
        "id": "0zgsWJ98IroP"
      }
    },
    {
      "cell_type": "markdown",
      "source": [
        "The gamma distribution term is mostly used as a distribution which is defined using two parameters, shape parameter and inverse scale parameter. It is related to the normal distribution,  exponential distribution, chi-squared distribution and Erlang distribution. "
      ],
      "metadata": {
        "id": "IR8DMnY9A2AQ"
      }
    },
    {
      "cell_type": "code",
      "source": [
        "#Initialising shape and rate for laplacian distribution\n",
        "shape, rate = 1, 2"
      ],
      "metadata": {
        "id": "jFXwdC7Di3wa"
      },
      "execution_count": null,
      "outputs": []
    },
    {
      "cell_type": "code",
      "source": [
        "#We extract 1000000 samples from continous gamma distribution\n",
        "discrete_gamma_distribution = distrax.Gamma(concentration=shape, rate=rate)\n",
        "n_samples = 1000000\n",
        "key = jax.random.PRNGKey(0)\n",
        "samples = discrete_gamma_distribution.sample(seed=key, sample_shape=n_samples)\n"
      ],
      "metadata": {
        "id": "KP2EOCoUK_dP",
        "colab": {
          "base_uri": "https://localhost:8080/"
        },
        "outputId": "800a88fe-9389-49f8-8e31-58e29581854e"
      },
      "execution_count": null,
      "outputs": [
        {
          "output_type": "stream",
          "name": "stderr",
          "text": [
            "/usr/local/lib/python3.7/dist-packages/jax/_src/numpy/lax_numpy.py:4457: UserWarning: Explicitly requested dtype <class 'jax.numpy.float64'> requested in astype is not available, and will be truncated to dtype float32. To enable more dtypes, set the jax_enable_x64 configuration option or the JAX_ENABLE_X64 shell environment variable. See https://github.com/google/jax#current-gotchas for more.\n",
            "  lax_internal._check_user_dtype_supported(dtype, \"astype\")\n"
          ]
        }
      ]
    },
    {
      "cell_type": "markdown",
      "source": [
        "The Probability Distribution Function of Gamma Distribution follows.\n",
        "\n",
        "$\\text{PDF}(X) = \\dfrac{\\beta^\\alpha}{\\Gamma (\\alpha)}x^{\\alpha - 1}e^{-\\beta x}$ \n",
        "\n",
        "where $\\alpha$ is shape and $\\beta$ is called rate of the distribution"
      ],
      "metadata": {
        "id": "Tm4s646iPICn"
      }
    },
    {
      "cell_type": "code",
      "source": [
        "#We use seaborn to plot PDF of the distribution\n",
        "sns.displot(samples, kind='kde',bw_adjust=2, rug=True)"
      ],
      "metadata": {
        "id": "MhkMOfWCLNly",
        "colab": {
          "base_uri": "https://localhost:8080/",
          "height": 386
        },
        "outputId": "bc90211d-0692-427d-a92f-8abd4a3774fb"
      },
      "execution_count": null,
      "outputs": [
        {
          "output_type": "execute_result",
          "data": {
            "text/plain": [
              "<seaborn.axisgrid.FacetGrid at 0x7fd2d5fef810>"
            ]
          },
          "metadata": {},
          "execution_count": 90
        },
        {
          "output_type": "display_data",
          "data": {
            "text/plain": [
              "<Figure size 360x360 with 1 Axes>"
            ],
            "image/png": "[encoded data removed]"
          },
          "metadata": {
            "needs_background": "light"
          }
        }
      ]
    },
    {
      "cell_type": "markdown",
      "source": [
        "To calculate theoretical mean, we use \n",
        "\n",
        "$\\mu = \\dfrac{\\alpha}{\\beta} = \\dfrac{1}{2} = 0.5$ \n",
        "\n",
        "Further to calculate variance, we use\n",
        "\n",
        "$var(X) = \\dfrac{\\alpha}{\\beta^2} = \\dfrac{1}{2^2} = 0.25$"
      ],
      "metadata": {
        "id": "z6q9IrV8Lla0"
      }
    },
    {
      "cell_type": "code",
      "source": [
        "#We calculate variance from given formula\n",
        "mean = shape/rate\n",
        "var = shape/rate**2\n",
        "\n",
        "#Printing calculated Mean and Variance\n",
        "print(f\"Theoretical Mean is {mean}\")\n",
        "print(f\"Theoretical Variance is {var}\")"
      ],
      "metadata": {
        "id": "vhnc9VT9QuGR",
        "colab": {
          "base_uri": "https://localhost:8080/"
        },
        "outputId": "8f88df8d-8b24-4de1-f129-f74b1621ac7b"
      },
      "execution_count": null,
      "outputs": [
        {
          "output_type": "stream",
          "name": "stdout",
          "text": [
            "Theoretical Mean is 0.5\n",
            "Theoretical Variance is 0.25\n"
          ]
        }
      ]
    },
    {
      "cell_type": "markdown",
      "source": [
        "Further to calculate mean and variance, we make use of direct method using jax.numpy"
      ],
      "metadata": {
        "id": "P6Ueqp4WVsSt"
      }
    },
    {
      "cell_type": "code",
      "source": [
        "#Using jax.numpy to calculate mean and variance\n",
        "mean = jnp.mean(samples)\n",
        "var = (jnp.std(samples))**2\n",
        "\n",
        "#Printing out mean and variance\n",
        "print(f\"Mean is: {mean}\")\n",
        "print(f\"Variance is: {var}\")"
      ],
      "metadata": {
        "id": "W95p7_CaLkkD",
        "colab": {
          "base_uri": "https://localhost:8080/"
        },
        "outputId": "0b7ad680-d661-49ff-ac2e-7b026758bec8"
      },
      "execution_count": null,
      "outputs": [
        {
          "output_type": "stream",
          "name": "stdout",
          "text": [
            "Mean is: 0.5001739859580994\n",
            "Variance is: 0.25029662251472473\n"
          ]
        }
      ]
    },
    {
      "cell_type": "markdown",
      "source": [
        ""
      ],
      "metadata": {
        "id": "gJgDVcXWvCbO"
      }
    },
    {
      "cell_type": "code",
      "source": [
        "def distributions(mean, std, scale, low, high, shape, rate):\n",
        "  n_samples = 10000\n",
        "  key = jax.random.PRNGKey(0)\n",
        "\n",
        "  continuous_uniform_distribution = distrax.Uniform(low=low, high=high)\n",
        "  uniform_samples = continuous_uniform_distribution.sample(seed=key, sample_shape=n_samples)\n",
        "\n",
        "  continuous_normal_distribution = distrax.Normal(loc=mean, scale=std)\n",
        "  normal_samples = continuous_normal_distribution.sample(seed=key, sample_shape=n_samples)\n",
        "\n",
        "  discrete_laplace_distribution = distrax.Laplace(loc=mean, scale=scale)\n",
        "  laplacian_samples = discrete_laplace_distribution.sample(seed=key, sample_shape=n_samples)\n",
        "\n",
        "  discrete_gamma_distribution = distrax.Gamma(concentration=shape, rate=rate)\n",
        "  gamma_samples = discrete_gamma_distribution.sample(seed=key, sample_shape=n_samples)\n",
        "\n",
        "  sns.displot(uniform_samples, kind='kde',bw_adjust=2, rug=True)\n",
        "  sns.displot(normal_samples, kind='kde',bw_adjust=2, rug=True)\n",
        "  sns.displot(laplacian_samples, kind='kde',bw_adjust=2, rug=True)\n",
        "  sns.displot(gamma_samples, kind='kde',bw_adjust=2, rug=True)\n",
        "  plt.show()\n",
        "\n"
      ],
      "metadata": {
        "id": "ZdmadMoTQFpm"
      },
      "execution_count": null,
      "outputs": []
    },
    {
      "cell_type": "code",
      "source": [
        "interactive_plot = interactive(distributions, mean = (-10.,10.), std = (1.,10.), scale = (1.,10.), low = (-10.,0), high = (0,10.), shape = (1.,10.), rate = (1.,10.))\n",
        "interactive_plot"
      ],
      "metadata": {
        "colab": {
          "base_uri": "https://localhost:8080/",
          "height": 1000,
          "referenced_widgets": [
            "1fb14549f6f649b68cca6935231553ec",
            "2271d6c764f74072a32d14840c96dd3b",
            "9eaa275d99b44b7a9aa593a3dff5dc11",
            "dcac158ae0104ab890cbc407e674752f",
            "7e08d771e2be4fae8a97d1b9e11308b5",
            "01a5bd7ba20441cf9e52950ba2922293",
            "97ec4e13c89d49cd9f1b42079161824e",
            "1722bf5e46e549678afbaac9ab43bbf4",
            "fdb7deca95c145de8e3dcedf0e71983f",
            "8e3db7ab8abf467b806dc9e6e23b88a6",
            "ecca3216f1e8473bb645c36db7aa1dd0",
            "9e49077eff5946958c98651cb08bf905",
            "b65ccae4ad234704af3568e99bf520fe",
            "00dac6cb7e1447e4a7ac64b7d0ad0372",
            "a71bb9421583432d9770c1cbae669873",
            "dacb8154c15b4336b5becc31d2244e73",
            "54c9fa2aa854453aacaea417a91d3bd9",
            "b77890d77ac94f49b5cb0f36d0d7ff94",
            "1bd970a4fbd842dbafa264add84b28e5",
            "35041f38b25345e1bec93e2b92a0695f",
            "ae02d16a198e43f2ad84cfbcb2c07982",
            "428c1f7e9ac242cab3383db9a8e9d296",
            "340a68bafe7542a7998b42defc59abee",
            "28d5cf831899470da16824da6e21fff5",
            "5863ab0257d14925ada806e64d6249eb"
          ]
        },
        "id": "wcd_SVIwz8WY",
        "outputId": "0fd4c8bc-58fd-4d9f-9fd7-f2fcc74e077e"
      },
      "execution_count": null,
      "outputs": [
        {
          "output_type": "display_data",
          "data": {
            "text/plain": [
              "interactive(children=(FloatSlider(value=0.0, description='mean', max=10.0, min=-10.0), FloatSlider(value=5.5, …"
            ],
            "application/vnd.jupyter.widget-view+json": {
              "version_major": 2,
              "version_minor": 0,
              "model_id": "1fb14549f6f649b68cca6935231553ec"
            }
          },
          "metadata": {}
        }
      ]
    },
    {
      "cell_type": "code",
      "source": [
        ""
      ],
      "metadata": {
        "id": "_2rTSkCp1QAE"
      },
      "execution_count": null,
      "outputs": []
    }
  ]
}