{
 "cells": [
  {
   "cell_type": "markdown",
   "metadata": {},
   "source": [
    "# Neural Networks for Collaborative Filtering\n",
    "> Neural networks to learn the embeddings! and how to combine them\n",
    "\n",
    "- toc: true \n",
    "- badges: true\n",
    "- comments: true\n",
    "- author: Nipun Batra\n",
    "- categories: [ML]"
   ]
  },
  {
   "cell_type": "markdown",
   "metadata": {},
   "source": [
    "Recently, I had a chance to read an interesting WWW 2017 paper entitled: [Neural Collaborative Filtering](https://www.comp.nus.edu.sg/~xiangnan/papers/ncf.pdf). The first paragraph of the abstract reads as follows:\n",
    "\n",
    ">In recent years, deep neural networks have yielded immense success on speech recognition, computer vision and natural language processing. However, the exploration of deep neural networks on recommender systems has received relatively less scrutiny. In this work, we strive to develop techniques based on neural networks to tackle the key problem in recommendation — collaborative filtering — on the basis of implicit feedback.\n",
    "\n",
    "I'd recently written a [blog post](../recommend-keras.html) on using Keras (deep learning library) for implementing traditional matrix factorization based collaborative filtering. So, I thought to get my hands dirty with building a prototype for the paper mentioned above. The authors have already provided their [code on Github](https://github.com/hexiangnan/neural_collaborative_filtering), which should serve as a reference for the paper and not my post, whose purpose is merely educational!\n",
    "\n",
    "\n",
    "Here's how the proposed network architecture looks in the paper:"
   ]
  },
  {
   "cell_type": "markdown",
   "metadata": {},
   "source": [
    "![](https://nipunbatra.github.io/blog/images/neumf.png)"
   ]
  },
  {
   "cell_type": "markdown",
   "metadata": {},
   "source": [
    "There are a few terms that we need to understand:\n",
    "    \n",
    "1. User (u) and Item (i) are used to create embeddings (low-dimensional) for user and item\n",
    "2. Generalized Matrix Factorisation (GMF) combines the two embeddings using the dot product. This is our regular matrix factorisation.\n",
    "3. Multi-layer perceptron can also create embeddings for user and items. However, instead of taking a dot product of these to obtain the rating, we can concatenate them to create a feature vector which can be passed on to the further layers.\n",
    "4. Neural MF can then combine the predictions from MLP and GMF to obtain the following prediction."
   ]
  },
  {
   "cell_type": "markdown",
   "metadata": {},
   "source": [
    "As done in my previous post, I'll use the MovieLens-100k dataset for illustration. Please refer to my [previous post](../recommend-keras.html) for more details."
   ]
  },
  {
   "cell_type": "markdown",
   "metadata": {},
   "source": [
    "### Peak into the dataset"
   ]
  },
  {
   "cell_type": "code",
   "execution_count": 1,
   "metadata": {
    "collapsed": true
   },
   "outputs": [],
   "source": [
    "import pandas as pd\n",
    "import numpy as np\n",
    "import matplotlib.pyplot as plt\n",
    "import warnings\n",
    "warnings.filterwarnings('ignore')\n",
    "\n",
    "%matplotlib inline"
   ]
  },
  {
   "cell_type": "code",
   "execution_count": 2,
   "metadata": {
    "collapsed": true
   },
   "outputs": [],
   "source": [
    "dataset = pd.read_csv(\"/Users/nipun/Downloads/ml-100k/u.data\",sep='\\t',names=\"user_id,item_id,rating,timestamp\".split(\",\"))"
   ]
  },
  {
   "cell_type": "code",
   "execution_count": 3,
   "metadata": {},
   "outputs": [
    {
     "data": {
      "text/html": [
       "<div>\n",
       "<style>\n",
       "    .dataframe thead tr:only-child th {\n",
       "        text-align: right;\n",
       "    }\n",
       "\n",
       "    .dataframe thead th {\n",
       "        text-align: left;\n",
       "    }\n",
       "\n",
       "    .dataframe tbody tr th {\n",
       "        vertical-align: top;\n",
       "    }\n",
       "</style>\n",
       "<table border=\"1\" class=\"dataframe\">\n",
       "  <thead>\n",
       "    <tr style=\"text-align: right;\">\n",
       "      <th></th>\n",
       "      <th>user_id</th>\n",
       "      <th>item_id</th>\n",
       "      <th>rating</th>\n",
       "      <th>timestamp</th>\n",
       "    </tr>\n",
       "  </thead>\n",
       "  <tbody>\n",
       "    <tr>\n",
       "      <th>0</th>\n",
       "      <td>196</td>\n",
       "      <td>242</td>\n",
       "      <td>3</td>\n",
       "      <td>881250949</td>\n",
       "    </tr>\n",
       "    <tr>\n",
       "      <th>1</th>\n",
       "      <td>186</td>\n",
       "      <td>302</td>\n",
       "      <td>3</td>\n",
       "      <td>891717742</td>\n",
       "    </tr>\n",
       "    <tr>\n",
       "      <th>2</th>\n",
       "      <td>22</td>\n",
       "      <td>377</td>\n",
       "      <td>1</td>\n",
       "      <td>878887116</td>\n",
       "    </tr>\n",
       "    <tr>\n",
       "      <th>3</th>\n",
       "      <td>244</td>\n",
       "      <td>51</td>\n",
       "      <td>2</td>\n",
       "      <td>880606923</td>\n",
       "    </tr>\n",
       "    <tr>\n",
       "      <th>4</th>\n",
       "      <td>166</td>\n",
       "      <td>346</td>\n",
       "      <td>1</td>\n",
       "      <td>886397596</td>\n",
       "    </tr>\n",
       "  </tbody>\n",
       "</table>\n",
       "</div>"
      ],
      "text/plain": [
       "   user_id  item_id  rating  timestamp\n",
       "0      196      242       3  881250949\n",
       "1      186      302       3  891717742\n",
       "2       22      377       1  878887116\n",
       "3      244       51       2  880606923\n",
       "4      166      346       1  886397596"
      ]
     },
     "execution_count": 3,
     "metadata": {},
     "output_type": "execute_result"
    }
   ],
   "source": [
    "dataset.head()"
   ]
  },
  {
   "cell_type": "markdown",
   "metadata": {},
   "source": [
    "So, each record (row) shows the rating for a user, item (movie) pair. It should be noted that I use  item and movie interchangeably in this post."
   ]
  },
  {
   "cell_type": "code",
   "execution_count": 4,
   "metadata": {},
   "outputs": [
    {
     "data": {
      "text/plain": [
       "(943, 1682)"
      ]
     },
     "execution_count": 4,
     "metadata": {},
     "output_type": "execute_result"
    }
   ],
   "source": [
    "len(dataset.user_id.unique()), len(dataset.item_id.unique())"
   ]
  },
  {
   "cell_type": "markdown",
   "metadata": {},
   "source": [
    "We assign a unique number between (0, #users) to each user and do the same for movies."
   ]
  },
  {
   "cell_type": "code",
   "execution_count": 5,
   "metadata": {
    "collapsed": true
   },
   "outputs": [],
   "source": [
    "dataset.user_id = dataset.user_id.astype('category').cat.codes.values\n",
    "dataset.item_id = dataset.item_id.astype('category').cat.codes.values"
   ]
  },
  {
   "cell_type": "code",
   "execution_count": 6,
   "metadata": {},
   "outputs": [
    {
     "data": {
      "text/html": [
       "<div>\n",
       "<style>\n",
       "    .dataframe thead tr:only-child th {\n",
       "        text-align: right;\n",
       "    }\n",
       "\n",
       "    .dataframe thead th {\n",
       "        text-align: left;\n",
       "    }\n",
       "\n",
       "    .dataframe tbody tr th {\n",
       "        vertical-align: top;\n",
       "    }\n",
       "</style>\n",
       "<table border=\"1\" class=\"dataframe\">\n",
       "  <thead>\n",
       "    <tr style=\"text-align: right;\">\n",
       "      <th></th>\n",
       "      <th>user_id</th>\n",
       "      <th>item_id</th>\n",
       "      <th>rating</th>\n",
       "      <th>timestamp</th>\n",
       "    </tr>\n",
       "  </thead>\n",
       "  <tbody>\n",
       "    <tr>\n",
       "      <th>0</th>\n",
       "      <td>195</td>\n",
       "      <td>241</td>\n",
       "      <td>3</td>\n",
       "      <td>881250949</td>\n",
       "    </tr>\n",
       "    <tr>\n",
       "      <th>1</th>\n",
       "      <td>185</td>\n",
       "      <td>301</td>\n",
       "      <td>3</td>\n",
       "      <td>891717742</td>\n",
       "    </tr>\n",
       "    <tr>\n",
       "      <th>2</th>\n",
       "      <td>21</td>\n",
       "      <td>376</td>\n",
       "      <td>1</td>\n",
       "      <td>878887116</td>\n",
       "    </tr>\n",
       "    <tr>\n",
       "      <th>3</th>\n",
       "      <td>243</td>\n",
       "      <td>50</td>\n",
       "      <td>2</td>\n",
       "      <td>880606923</td>\n",
       "    </tr>\n",
       "    <tr>\n",
       "      <th>4</th>\n",
       "      <td>165</td>\n",
       "      <td>345</td>\n",
       "      <td>1</td>\n",
       "      <td>886397596</td>\n",
       "    </tr>\n",
       "  </tbody>\n",
       "</table>\n",
       "</div>"
      ],
      "text/plain": [
       "   user_id  item_id  rating  timestamp\n",
       "0      195      241       3  881250949\n",
       "1      185      301       3  891717742\n",
       "2       21      376       1  878887116\n",
       "3      243       50       2  880606923\n",
       "4      165      345       1  886397596"
      ]
     },
     "execution_count": 6,
     "metadata": {},
     "output_type": "execute_result"
    }
   ],
   "source": [
    "dataset.head()"
   ]
  },
  {
   "cell_type": "markdown",
   "metadata": {},
   "source": [
    "### Train test split\n",
    "\n",
    "We'll now split our dataset of 100k ratings into train (containing 80k ratings) and test (containing 20k ratings). Given the train set, we'd like to accurately estimate the ratings in the test set."
   ]
  },
  {
   "cell_type": "code",
   "execution_count": 7,
   "metadata": {
    "collapsed": true
   },
   "outputs": [],
   "source": [
    "from sklearn.model_selection import train_test_split\n",
    "train, test = train_test_split(dataset, test_size=0.2)"
   ]
  },
  {
   "cell_type": "code",
   "execution_count": 8,
   "metadata": {},
   "outputs": [
    {
     "data": {
      "text/html": [
       "<div>\n",
       "<style>\n",
       "    .dataframe thead tr:only-child th {\n",
       "        text-align: right;\n",
       "    }\n",
       "\n",
       "    .dataframe thead th {\n",
       "        text-align: left;\n",
       "    }\n",
       "\n",
       "    .dataframe tbody tr th {\n",
       "        vertical-align: top;\n",
       "    }\n",
       "</style>\n",
       "<table border=\"1\" class=\"dataframe\">\n",
       "  <thead>\n",
       "    <tr style=\"text-align: right;\">\n",
       "      <th></th>\n",
       "      <th>user_id</th>\n",
       "      <th>item_id</th>\n",
       "      <th>rating</th>\n",
       "      <th>timestamp</th>\n",
       "    </tr>\n",
       "  </thead>\n",
       "  <tbody>\n",
       "    <tr>\n",
       "      <th>13185</th>\n",
       "      <td>71</td>\n",
       "      <td>95</td>\n",
       "      <td>5</td>\n",
       "      <td>880037203</td>\n",
       "    </tr>\n",
       "    <tr>\n",
       "      <th>23391</th>\n",
       "      <td>144</td>\n",
       "      <td>509</td>\n",
       "      <td>4</td>\n",
       "      <td>882181859</td>\n",
       "    </tr>\n",
       "    <tr>\n",
       "      <th>90744</th>\n",
       "      <td>895</td>\n",
       "      <td>50</td>\n",
       "      <td>2</td>\n",
       "      <td>887159951</td>\n",
       "    </tr>\n",
       "    <tr>\n",
       "      <th>3043</th>\n",
       "      <td>255</td>\n",
       "      <td>279</td>\n",
       "      <td>5</td>\n",
       "      <td>882151167</td>\n",
       "    </tr>\n",
       "    <tr>\n",
       "      <th>8932</th>\n",
       "      <td>55</td>\n",
       "      <td>94</td>\n",
       "      <td>4</td>\n",
       "      <td>892683274</td>\n",
       "    </tr>\n",
       "  </tbody>\n",
       "</table>\n",
       "</div>"
      ],
      "text/plain": [
       "       user_id  item_id  rating  timestamp\n",
       "13185       71       95       5  880037203\n",
       "23391      144      509       4  882181859\n",
       "90744      895       50       2  887159951\n",
       "3043       255      279       5  882151167\n",
       "8932        55       94       4  892683274"
      ]
     },
     "execution_count": 8,
     "metadata": {},
     "output_type": "execute_result"
    }
   ],
   "source": [
    "train.head()"
   ]
  },
  {
   "cell_type": "code",
   "execution_count": 9,
   "metadata": {
    "collapsed": true
   },
   "outputs": [],
   "source": [
    "test.head()\n",
    "y_true = test.rating"
   ]
  },
  {
   "cell_type": "markdown",
   "metadata": {},
   "source": [
    "### Creating the model"
   ]
  },
  {
   "cell_type": "code",
   "execution_count": 10,
   "metadata": {},
   "outputs": [
    {
     "name": "stderr",
     "output_type": "stream",
     "text": [
      "Using TensorFlow backend.\n"
     ]
    }
   ],
   "source": [
    "import keras\n",
    "n_latent_factors_user = 8\n",
    "n_latent_factors_movie = 10\n",
    "n_latent_factors_mf = 3\n",
    "n_users, n_movies = len(dataset.user_id.unique()), len(dataset.item_id.unique())\n",
    "\n",
    "movie_input = keras.layers.Input(shape=[1],name='Item')\n",
    "movie_embedding_mlp = keras.layers.Embedding(n_movies + 1, n_latent_factors_movie, name='Movie-Embedding-MLP')(movie_input)\n",
    "movie_vec_mlp = keras.layers.Flatten(name='FlattenMovies-MLP')(movie_embedding_mlp)\n",
    "movie_vec_mlp = keras.layers.Dropout(0.2)(movie_vec_mlp)\n",
    "\n",
    "movie_embedding_mf = keras.layers.Embedding(n_movies + 1, n_latent_factors_mf, name='Movie-Embedding-MF')(movie_input)\n",
    "movie_vec_mf = keras.layers.Flatten(name='FlattenMovies-MF')(movie_embedding_mf)\n",
    "movie_vec_mf = keras.layers.Dropout(0.2)(movie_vec_mf)\n",
    "\n",
    "\n",
    "user_input = keras.layers.Input(shape=[1],name='User')\n",
    "user_vec_mlp = keras.layers.Flatten(name='FlattenUsers-MLP')(keras.layers.Embedding(n_users + 1, n_latent_factors_user,name='User-Embedding-MLP')(user_input))\n",
    "user_vec_mlp = keras.layers.Dropout(0.2)(user_vec_mlp)\n",
    "\n",
    "user_vec_mf = keras.layers.Flatten(name='FlattenUsers-MF')(keras.layers.Embedding(n_users + 1, n_latent_factors_mf,name='User-Embedding-MF')(user_input))\n",
    "user_vec_mf = keras.layers.Dropout(0.2)(user_vec_mf)\n",
    "\n",
    "\n",
    "concat = keras.layers.merge([movie_vec_mlp, user_vec_mlp], mode='concat',name='Concat')\n",
    "concat_dropout = keras.layers.Dropout(0.2)(concat)\n",
    "dense = keras.layers.Dense(200,name='FullyConnected')(concat_dropout)\n",
    "dense_batch = keras.layers.BatchNormalization(name='Batch')(dense)\n",
    "dropout_1 = keras.layers.Dropout(0.2,name='Dropout-1')(dense_batch)\n",
    "dense_2 = keras.layers.Dense(100,name='FullyConnected-1')(dropout_1)\n",
    "dense_batch_2 = keras.layers.BatchNormalization(name='Batch-2')(dense_2)\n",
    "\n",
    "\n",
    "dropout_2 = keras.layers.Dropout(0.2,name='Dropout-2')(dense_batch_2)\n",
    "dense_3 = keras.layers.Dense(50,name='FullyConnected-2')(dropout_2)\n",
    "dense_4 = keras.layers.Dense(20,name='FullyConnected-3', activation='relu')(dense_3)\n",
    "\n",
    "pred_mf = keras.layers.merge([movie_vec_mf, user_vec_mf], mode='dot',name='Dot')\n",
    "\n",
    "\n",
    "pred_mlp = keras.layers.Dense(1, activation='relu',name='Activation')(dense_4)\n",
    "\n",
    "combine_mlp_mf = keras.layers.merge([pred_mf, pred_mlp], mode='concat',name='Concat-MF-MLP')\n",
    "result_combine = keras.layers.Dense(100,name='Combine-MF-MLP')(combine_mlp_mf)\n",
    "deep_combine = keras.layers.Dense(100,name='FullyConnected-4')(result_combine)\n",
    "\n",
    "\n",
    "result = keras.layers.Dense(1,name='Prediction')(deep_combine)\n",
    "\n",
    "\n",
    "model = keras.Model([user_input, movie_input], result)\n",
    "opt = keras.optimizers.Adam(lr =0.01)\n",
    "model.compile(optimizer='adam',loss= 'mean_absolute_error')"
   ]
  },
  {
   "cell_type": "markdown",
   "metadata": {},
   "source": [
    "Let's now see how our model looks like:"
   ]
  },
  {
   "cell_type": "code",
   "execution_count": 11,
   "metadata": {},
   "outputs": [
    {
     "data": {
      "image/svg+xml": [
       "<svg height=\"1359pt\" viewBox=\"0.00 0.00 932.67 1359.00\" width=\"933pt\" xmlns=\"http://www.w3.org/2000/svg\" xmlns:xlink=\"http://www.w3.org/1999/xlink\">\n",
       "<g class=\"graph\" id=\"graph0\" transform=\"scale(1 1) rotate(0) translate(4 1355)\">\n",
       "<title>G</title>\n",
       "<polygon fill=\"white\" points=\"-4,4 -4,-1355 928.67,-1355 928.67,4 -4,4\" stroke=\"none\"/>\n",
       "<!-- 4515113056 -->\n",
       "<g class=\"node\" id=\"node1\"><title>4515113056</title>\n",
       "<polygon fill=\"none\" points=\"174.676,-1314.5 174.676,-1350.5 285.914,-1350.5 285.914,-1314.5 174.676,-1314.5\" stroke=\"black\"/>\n",
       "<text font-family=\"Times,serif\" font-size=\"14.00\" text-anchor=\"middle\" x=\"230.295\" y=\"-1328.3\">Item: InputLayer</text>\n",
       "</g>\n",
       "<!-- 4515113392 -->\n",
       "<g class=\"node\" id=\"node3\"><title>4515113392</title>\n",
       "<polygon fill=\"none\" points=\"236.724,-1241.5 236.724,-1277.5 463.866,-1277.5 463.866,-1241.5 236.724,-1241.5\" stroke=\"black\"/>\n",
       "<text font-family=\"Times,serif\" font-size=\"14.00\" text-anchor=\"middle\" x=\"350.295\" y=\"-1255.3\">Movie-Embedding-MLP: Embedding</text>\n",
       "</g>\n",
       "<!-- 4515113056&#45;&gt;4515113392 -->\n",
       "<g class=\"edge\" id=\"edge1\"><title>4515113056-&gt;4515113392</title>\n",
       "<path d=\"M259.038,-1314.49C275.098,-1304.99 295.304,-1293.04 312.618,-1282.79\" fill=\"none\" stroke=\"black\"/>\n",
       "<polygon fill=\"black\" points=\"314.546,-1285.72 321.371,-1277.61 310.982,-1279.69 314.546,-1285.72\" stroke=\"black\"/>\n",
       "</g>\n",
       "<!-- 112084624776 -->\n",
       "<g class=\"node\" id=\"node16\"><title>112084624776</title>\n",
       "<polygon fill=\"none\" points=\"0,-1241.5 0,-1277.5 218.59,-1277.5 218.59,-1241.5 0,-1241.5\" stroke=\"black\"/>\n",
       "<text font-family=\"Times,serif\" font-size=\"14.00\" text-anchor=\"middle\" x=\"109.295\" y=\"-1255.3\">Movie-Embedding-MF: Embedding</text>\n",
       "</g>\n",
       "<!-- 4515113056&#45;&gt;112084624776 -->\n",
       "<g class=\"edge\" id=\"edge15\"><title>4515113056-&gt;112084624776</title>\n",
       "<path d=\"M201.312,-1314.49C185.118,-1304.99 164.744,-1293.04 147.286,-1282.79\" fill=\"none\" stroke=\"black\"/>\n",
       "<polygon fill=\"black\" points=\"148.856,-1279.66 138.46,-1277.61 145.314,-1285.69 148.856,-1279.66\" stroke=\"black\"/>\n",
       "</g>\n",
       "<!-- 4408641744 -->\n",
       "<g class=\"node\" id=\"node2\"><title>4408641744</title>\n",
       "<polygon fill=\"none\" points=\"645.286,-1314.5 645.286,-1350.5 757.304,-1350.5 757.304,-1314.5 645.286,-1314.5\" stroke=\"black\"/>\n",
       "<text font-family=\"Times,serif\" font-size=\"14.00\" text-anchor=\"middle\" x=\"701.295\" y=\"-1328.3\">User: InputLayer</text>\n",
       "</g>\n",
       "<!-- 112085071184 -->\n",
       "<g class=\"node\" id=\"node4\"><title>112085071184</title>\n",
       "<polygon fill=\"none\" points=\"707.919,-1241.5 707.919,-1277.5 924.67,-1277.5 924.67,-1241.5 707.919,-1241.5\" stroke=\"black\"/>\n",
       "<text font-family=\"Times,serif\" font-size=\"14.00\" text-anchor=\"middle\" x=\"816.295\" y=\"-1255.3\">User-Embedding-MLP: Embedding</text>\n",
       "</g>\n",
       "<!-- 4408641744&#45;&gt;112085071184 -->\n",
       "<g class=\"edge\" id=\"edge2\"><title>4408641744-&gt;112085071184</title>\n",
       "<path d=\"M728.84,-1314.49C744.09,-1305.08 763.24,-1293.26 779.73,-1283.07\" fill=\"none\" stroke=\"black\"/>\n",
       "<polygon fill=\"black\" points=\"781.905,-1285.85 788.576,-1277.61 778.228,-1279.89 781.905,-1285.85\" stroke=\"black\"/>\n",
       "</g>\n",
       "<!-- 112085982960 -->\n",
       "<g class=\"node\" id=\"node17\"><title>112085982960</title>\n",
       "<polygon fill=\"none\" points=\"482.195,-1241.5 482.195,-1277.5 690.395,-1277.5 690.395,-1241.5 482.195,-1241.5\" stroke=\"black\"/>\n",
       "<text font-family=\"Times,serif\" font-size=\"14.00\" text-anchor=\"middle\" x=\"586.295\" y=\"-1255.3\">User-Embedding-MF: Embedding</text>\n",
       "</g>\n",
       "<!-- 4408641744&#45;&gt;112085982960 -->\n",
       "<g class=\"edge\" id=\"edge16\"><title>4408641744-&gt;112085982960</title>\n",
       "<path d=\"M673.75,-1314.49C658.5,-1305.08 639.349,-1293.26 622.86,-1283.07\" fill=\"none\" stroke=\"black\"/>\n",
       "<polygon fill=\"black\" points=\"624.362,-1279.89 614.014,-1277.61 620.684,-1285.85 624.362,-1279.89\" stroke=\"black\"/>\n",
       "</g>\n",
       "<!-- 112084623992 -->\n",
       "<g class=\"node\" id=\"node5\"><title>112084623992</title>\n",
       "<polygon fill=\"none\" points=\"274.993,-1168.5 274.993,-1204.5 451.597,-1204.5 451.597,-1168.5 274.993,-1168.5\" stroke=\"black\"/>\n",
       "<text font-family=\"Times,serif\" font-size=\"14.00\" text-anchor=\"middle\" x=\"363.295\" y=\"-1182.3\">FlattenMovies-MLP: Flatten</text>\n",
       "</g>\n",
       "<!-- 4515113392&#45;&gt;112084623992 -->\n",
       "<g class=\"edge\" id=\"edge3\"><title>4515113392-&gt;112084623992</title>\n",
       "<path d=\"M353.442,-1241.31C354.911,-1233.29 356.695,-1223.55 358.339,-1214.57\" fill=\"none\" stroke=\"black\"/>\n",
       "<polygon fill=\"black\" points=\"361.819,-1215 360.177,-1204.53 354.933,-1213.73 361.819,-1215\" stroke=\"black\"/>\n",
       "</g>\n",
       "<!-- 4378375728 -->\n",
       "<g class=\"node\" id=\"node6\"><title>4378375728</title>\n",
       "<polygon fill=\"none\" points=\"708.052,-1168.5 708.052,-1204.5 874.538,-1204.5 874.538,-1168.5 708.052,-1168.5\" stroke=\"black\"/>\n",
       "<text font-family=\"Times,serif\" font-size=\"14.00\" text-anchor=\"middle\" x=\"791.295\" y=\"-1182.3\">FlattenUsers-MLP: Flatten</text>\n",
       "</g>\n",
       "<!-- 112085071184&#45;&gt;4378375728 -->\n",
       "<g class=\"edge\" id=\"edge4\"><title>112085071184-&gt;4378375728</title>\n",
       "<path d=\"M810.243,-1241.31C807.357,-1233.12 803.838,-1223.12 800.621,-1213.98\" fill=\"none\" stroke=\"black\"/>\n",
       "<polygon fill=\"black\" points=\"803.914,-1212.8 797.291,-1204.53 797.311,-1215.12 803.914,-1212.8\" stroke=\"black\"/>\n",
       "</g>\n",
       "<!-- 4515113224 -->\n",
       "<g class=\"node\" id=\"node7\"><title>4515113224</title>\n",
       "<polygon fill=\"none\" points=\"309.493,-1095.5 309.493,-1131.5 437.097,-1131.5 437.097,-1095.5 309.493,-1095.5\" stroke=\"black\"/>\n",
       "<text font-family=\"Times,serif\" font-size=\"14.00\" text-anchor=\"middle\" x=\"373.295\" y=\"-1109.3\">dropout_1: Dropout</text>\n",
       "</g>\n",
       "<!-- 112084623992&#45;&gt;4515113224 -->\n",
       "<g class=\"edge\" id=\"edge5\"><title>112084623992-&gt;4515113224</title>\n",
       "<path d=\"M365.716,-1168.31C366.846,-1160.29 368.218,-1150.55 369.482,-1141.57\" fill=\"none\" stroke=\"black\"/>\n",
       "<polygon fill=\"black\" points=\"372.968,-1141.92 370.896,-1131.53 366.036,-1140.94 372.968,-1141.92\" stroke=\"black\"/>\n",
       "</g>\n",
       "<!-- 112085499184 -->\n",
       "<g class=\"node\" id=\"node8\"><title>112085499184</title>\n",
       "<polygon fill=\"none\" points=\"647.493,-1095.5 647.493,-1131.5 775.097,-1131.5 775.097,-1095.5 647.493,-1095.5\" stroke=\"black\"/>\n",
       "<text font-family=\"Times,serif\" font-size=\"14.00\" text-anchor=\"middle\" x=\"711.295\" y=\"-1109.3\">dropout_3: Dropout</text>\n",
       "</g>\n",
       "<!-- 4378375728&#45;&gt;112085499184 -->\n",
       "<g class=\"edge\" id=\"edge6\"><title>4378375728-&gt;112085499184</title>\n",
       "<path d=\"M771.929,-1168.31C761.808,-1159.33 749.259,-1148.19 738.208,-1138.39\" fill=\"none\" stroke=\"black\"/>\n",
       "<polygon fill=\"black\" points=\"740.285,-1135.55 730.482,-1131.53 735.638,-1140.78 740.285,-1135.55\" stroke=\"black\"/>\n",
       "</g>\n",
       "<!-- 112085917424 -->\n",
       "<g class=\"node\" id=\"node9\"><title>112085917424</title>\n",
       "<polygon fill=\"none\" points=\"465.626,-1022.5 465.626,-1058.5 564.963,-1058.5 564.963,-1022.5 465.626,-1022.5\" stroke=\"black\"/>\n",
       "<text font-family=\"Times,serif\" font-size=\"14.00\" text-anchor=\"middle\" x=\"515.295\" y=\"-1036.3\">Concat: Merge</text>\n",
       "</g>\n",
       "<!-- 4515113224&#45;&gt;112085917424 -->\n",
       "<g class=\"edge\" id=\"edge7\"><title>4515113224-&gt;112085917424</title>\n",
       "<path d=\"M407.307,-1095.49C426.748,-1085.77 451.322,-1073.49 472.114,-1063.09\" fill=\"none\" stroke=\"black\"/>\n",
       "<polygon fill=\"black\" points=\"473.689,-1066.22 481.068,-1058.61 470.558,-1059.96 473.689,-1066.22\" stroke=\"black\"/>\n",
       "</g>\n",
       "<!-- 112085499184&#45;&gt;112085917424 -->\n",
       "<g class=\"edge\" id=\"edge8\"><title>112085499184-&gt;112085917424</title>\n",
       "<path d=\"M664.348,-1095.49C636.672,-1085.47 601.46,-1072.71 572.21,-1062.12\" fill=\"none\" stroke=\"black\"/>\n",
       "<polygon fill=\"black\" points=\"573.132,-1058.73 562.538,-1058.61 570.748,-1065.31 573.132,-1058.73\" stroke=\"black\"/>\n",
       "</g>\n",
       "<!-- 112085764920 -->\n",
       "<g class=\"node\" id=\"node10\"><title>112085764920</title>\n",
       "<polygon fill=\"none\" points=\"451.493,-949.5 451.493,-985.5 579.097,-985.5 579.097,-949.5 451.493,-949.5\" stroke=\"black\"/>\n",
       "<text font-family=\"Times,serif\" font-size=\"14.00\" text-anchor=\"middle\" x=\"515.295\" y=\"-963.3\">dropout_5: Dropout</text>\n",
       "</g>\n",
       "<!-- 112085917424&#45;&gt;112085764920 -->\n",
       "<g class=\"edge\" id=\"edge9\"><title>112085917424-&gt;112085764920</title>\n",
       "<path d=\"M515.295,-1022.31C515.295,-1014.29 515.295,-1004.55 515.295,-995.569\" fill=\"none\" stroke=\"black\"/>\n",
       "<polygon fill=\"black\" points=\"518.795,-995.529 515.295,-985.529 511.795,-995.529 518.795,-995.529\" stroke=\"black\"/>\n",
       "</g>\n",
       "<!-- 112086436832 -->\n",
       "<g class=\"node\" id=\"node11\"><title>112086436832</title>\n",
       "<polygon fill=\"none\" points=\"441.39,-876.5 441.39,-912.5 589.2,-912.5 589.2,-876.5 441.39,-876.5\" stroke=\"black\"/>\n",
       "<text font-family=\"Times,serif\" font-size=\"14.00\" text-anchor=\"middle\" x=\"515.295\" y=\"-890.3\">FullyConnected: Dense</text>\n",
       "</g>\n",
       "<!-- 112085764920&#45;&gt;112086436832 -->\n",
       "<g class=\"edge\" id=\"edge10\"><title>112085764920-&gt;112086436832</title>\n",
       "<path d=\"M515.295,-949.313C515.295,-941.289 515.295,-931.547 515.295,-922.569\" fill=\"none\" stroke=\"black\"/>\n",
       "<polygon fill=\"black\" points=\"518.795,-922.529 515.295,-912.529 511.795,-922.529 518.795,-922.529\" stroke=\"black\"/>\n",
       "</g>\n",
       "<!-- 112086434816 -->\n",
       "<g class=\"node\" id=\"node12\"><title>112086434816</title>\n",
       "<polygon fill=\"none\" points=\"430.514,-803.5 430.514,-839.5 600.076,-839.5 600.076,-803.5 430.514,-803.5\" stroke=\"black\"/>\n",
       "<text font-family=\"Times,serif\" font-size=\"14.00\" text-anchor=\"middle\" x=\"515.295\" y=\"-817.3\">Batch: BatchNormalization</text>\n",
       "</g>\n",
       "<!-- 112086436832&#45;&gt;112086434816 -->\n",
       "<g class=\"edge\" id=\"edge11\"><title>112086436832-&gt;112086434816</title>\n",
       "<path d=\"M515.295,-876.313C515.295,-868.289 515.295,-858.547 515.295,-849.569\" fill=\"none\" stroke=\"black\"/>\n",
       "<polygon fill=\"black\" points=\"518.795,-849.529 515.295,-839.529 511.795,-849.529 518.795,-849.529\" stroke=\"black\"/>\n",
       "</g>\n",
       "<!-- 112086597360 -->\n",
       "<g class=\"node\" id=\"node13\"><title>112086597360</title>\n",
       "<polygon fill=\"none\" points=\"451.107,-730.5 451.107,-766.5 579.483,-766.5 579.483,-730.5 451.107,-730.5\" stroke=\"black\"/>\n",
       "<text font-family=\"Times,serif\" font-size=\"14.00\" text-anchor=\"middle\" x=\"515.295\" y=\"-744.3\">Dropout-1: Dropout</text>\n",
       "</g>\n",
       "<!-- 112086434816&#45;&gt;112086597360 -->\n",
       "<g class=\"edge\" id=\"edge12\"><title>112086434816-&gt;112086597360</title>\n",
       "<path d=\"M515.295,-803.313C515.295,-795.289 515.295,-785.547 515.295,-776.569\" fill=\"none\" stroke=\"black\"/>\n",
       "<polygon fill=\"black\" points=\"518.795,-776.529 515.295,-766.529 511.795,-776.529 518.795,-776.529\" stroke=\"black\"/>\n",
       "</g>\n",
       "<!-- 112086994000 -->\n",
       "<g class=\"node\" id=\"node14\"><title>112086994000</title>\n",
       "<polygon fill=\"none\" points=\"435.559,-657.5 435.559,-693.5 595.031,-693.5 595.031,-657.5 435.559,-657.5\" stroke=\"black\"/>\n",
       "<text font-family=\"Times,serif\" font-size=\"14.00\" text-anchor=\"middle\" x=\"515.295\" y=\"-671.3\">FullyConnected-1: Dense</text>\n",
       "</g>\n",
       "<!-- 112086597360&#45;&gt;112086994000 -->\n",
       "<g class=\"edge\" id=\"edge13\"><title>112086597360-&gt;112086994000</title>\n",
       "<path d=\"M515.295,-730.313C515.295,-722.289 515.295,-712.547 515.295,-703.569\" fill=\"none\" stroke=\"black\"/>\n",
       "<polygon fill=\"black\" points=\"518.795,-703.529 515.295,-693.529 511.795,-703.529 518.795,-703.529\" stroke=\"black\"/>\n",
       "</g>\n",
       "<!-- 112086761144 -->\n",
       "<g class=\"node\" id=\"node15\"><title>112086761144</title>\n",
       "<polygon fill=\"none\" points=\"424.683,-584.5 424.683,-620.5 605.907,-620.5 605.907,-584.5 424.683,-584.5\" stroke=\"black\"/>\n",
       "<text font-family=\"Times,serif\" font-size=\"14.00\" text-anchor=\"middle\" x=\"515.295\" y=\"-598.3\">Batch-2: BatchNormalization</text>\n",
       "</g>\n",
       "<!-- 112086994000&#45;&gt;112086761144 -->\n",
       "<g class=\"edge\" id=\"edge14\"><title>112086994000-&gt;112086761144</title>\n",
       "<path d=\"M515.295,-657.313C515.295,-649.289 515.295,-639.547 515.295,-630.569\" fill=\"none\" stroke=\"black\"/>\n",
       "<polygon fill=\"black\" points=\"518.795,-630.529 515.295,-620.529 511.795,-630.529 518.795,-630.529\" stroke=\"black\"/>\n",
       "</g>\n",
       "<!-- 112087744464 -->\n",
       "<g class=\"node\" id=\"node18\"><title>112087744464</title>\n",
       "<polygon fill=\"none\" points=\"449.107,-511.5 449.107,-547.5 577.483,-547.5 577.483,-511.5 449.107,-511.5\" stroke=\"black\"/>\n",
       "<text font-family=\"Times,serif\" font-size=\"14.00\" text-anchor=\"middle\" x=\"513.295\" y=\"-525.3\">Dropout-2: Dropout</text>\n",
       "</g>\n",
       "<!-- 112086761144&#45;&gt;112087744464 -->\n",
       "<g class=\"edge\" id=\"edge17\"><title>112086761144-&gt;112087744464</title>\n",
       "<path d=\"M514.811,-584.313C514.585,-576.289 514.31,-566.547 514.057,-557.569\" fill=\"none\" stroke=\"black\"/>\n",
       "<polygon fill=\"black\" points=\"517.555,-557.426 513.775,-547.529 510.558,-557.623 517.555,-557.426\" stroke=\"black\"/>\n",
       "</g>\n",
       "<!-- 4399310888 -->\n",
       "<g class=\"node\" id=\"node19\"><title>4399310888</title>\n",
       "<polygon fill=\"none\" points=\"57.269,-1168.5 57.269,-1204.5 225.321,-1204.5 225.321,-1168.5 57.269,-1168.5\" stroke=\"black\"/>\n",
       "<text font-family=\"Times,serif\" font-size=\"14.00\" text-anchor=\"middle\" x=\"141.295\" y=\"-1182.3\">FlattenMovies-MF: Flatten</text>\n",
       "</g>\n",
       "<!-- 112084624776&#45;&gt;4399310888 -->\n",
       "<g class=\"edge\" id=\"edge18\"><title>112084624776-&gt;4399310888</title>\n",
       "<path d=\"M117.041,-1241.31C120.775,-1233.03 125.335,-1222.91 129.489,-1213.69\" fill=\"none\" stroke=\"black\"/>\n",
       "<polygon fill=\"black\" points=\"132.702,-1215.08 133.62,-1204.53 126.32,-1212.21 132.702,-1215.08\" stroke=\"black\"/>\n",
       "</g>\n",
       "<!-- 4407942728 -->\n",
       "<g class=\"node\" id=\"node20\"><title>4407942728</title>\n",
       "<polygon fill=\"none\" points=\"494.328,-1168.5 494.328,-1204.5 652.262,-1204.5 652.262,-1168.5 494.328,-1168.5\" stroke=\"black\"/>\n",
       "<text font-family=\"Times,serif\" font-size=\"14.00\" text-anchor=\"middle\" x=\"573.295\" y=\"-1182.3\">FlattenUsers-MF: Flatten</text>\n",
       "</g>\n",
       "<!-- 112085982960&#45;&gt;4407942728 -->\n",
       "<g class=\"edge\" id=\"edge19\"><title>112085982960-&gt;4407942728</title>\n",
       "<path d=\"M583.148,-1241.31C581.679,-1233.29 579.895,-1223.55 578.251,-1214.57\" fill=\"none\" stroke=\"black\"/>\n",
       "<polygon fill=\"black\" points=\"581.657,-1213.73 576.413,-1204.53 574.771,-1215 581.657,-1213.73\" stroke=\"black\"/>\n",
       "</g>\n",
       "<!-- 112087744128 -->\n",
       "<g class=\"node\" id=\"node21\"><title>112087744128</title>\n",
       "<polygon fill=\"none\" points=\"428.559,-438.5 428.559,-474.5 588.031,-474.5 588.031,-438.5 428.559,-438.5\" stroke=\"black\"/>\n",
       "<text font-family=\"Times,serif\" font-size=\"14.00\" text-anchor=\"middle\" x=\"508.295\" y=\"-452.3\">FullyConnected-2: Dense</text>\n",
       "</g>\n",
       "<!-- 112087744464&#45;&gt;112087744128 -->\n",
       "<g class=\"edge\" id=\"edge20\"><title>112087744464-&gt;112087744128</title>\n",
       "<path d=\"M512.085,-511.313C511.52,-503.289 510.833,-493.547 510.201,-484.569\" fill=\"none\" stroke=\"black\"/>\n",
       "<polygon fill=\"black\" points=\"513.688,-484.258 509.494,-474.529 506.705,-484.75 513.688,-484.258\" stroke=\"black\"/>\n",
       "</g>\n",
       "<!-- 112084624160 -->\n",
       "<g class=\"node\" id=\"node22\"><title>112084624160</title>\n",
       "<polygon fill=\"none\" points=\"129.493,-1095.5 129.493,-1131.5 257.097,-1131.5 257.097,-1095.5 129.493,-1095.5\" stroke=\"black\"/>\n",
       "<text font-family=\"Times,serif\" font-size=\"14.00\" text-anchor=\"middle\" x=\"193.295\" y=\"-1109.3\">dropout_2: Dropout</text>\n",
       "</g>\n",
       "<!-- 4399310888&#45;&gt;112084624160 -->\n",
       "<g class=\"edge\" id=\"edge21\"><title>4399310888-&gt;112084624160</title>\n",
       "<path d=\"M153.883,-1168.31C160.142,-1159.77 167.83,-1149.27 174.749,-1139.82\" fill=\"none\" stroke=\"black\"/>\n",
       "<polygon fill=\"black\" points=\"177.738,-1141.66 180.823,-1131.53 172.091,-1137.53 177.738,-1141.66\" stroke=\"black\"/>\n",
       "</g>\n",
       "<!-- 112085423664 -->\n",
       "<g class=\"node\" id=\"node23\"><title>112085423664</title>\n",
       "<polygon fill=\"none\" points=\"474.493,-1095.5 474.493,-1131.5 602.097,-1131.5 602.097,-1095.5 474.493,-1095.5\" stroke=\"black\"/>\n",
       "<text font-family=\"Times,serif\" font-size=\"14.00\" text-anchor=\"middle\" x=\"538.295\" y=\"-1109.3\">dropout_4: Dropout</text>\n",
       "</g>\n",
       "<!-- 4407942728&#45;&gt;112085423664 -->\n",
       "<g class=\"edge\" id=\"edge22\"><title>4407942728-&gt;112085423664</title>\n",
       "<path d=\"M564.822,-1168.31C560.738,-1160.03 555.751,-1149.91 551.207,-1140.69\" fill=\"none\" stroke=\"black\"/>\n",
       "<polygon fill=\"black\" points=\"554.25,-1138.95 546.689,-1131.53 547.972,-1142.05 554.25,-1138.95\" stroke=\"black\"/>\n",
       "</g>\n",
       "<!-- 112087225176 -->\n",
       "<g class=\"node\" id=\"node24\"><title>112087225176</title>\n",
       "<polygon fill=\"none\" points=\"425.559,-365.5 425.559,-401.5 585.031,-401.5 585.031,-365.5 425.559,-365.5\" stroke=\"black\"/>\n",
       "<text font-family=\"Times,serif\" font-size=\"14.00\" text-anchor=\"middle\" x=\"505.295\" y=\"-379.3\">FullyConnected-3: Dense</text>\n",
       "</g>\n",
       "<!-- 112087744128&#45;&gt;112087225176 -->\n",
       "<g class=\"edge\" id=\"edge23\"><title>112087744128-&gt;112087225176</title>\n",
       "<path d=\"M507.569,-438.313C507.23,-430.289 506.818,-420.547 506.439,-411.569\" fill=\"none\" stroke=\"black\"/>\n",
       "<polygon fill=\"black\" points=\"509.934,-411.372 506.014,-401.529 502.94,-411.668 509.934,-411.372\" stroke=\"black\"/>\n",
       "</g>\n",
       "<!-- 112088890336 -->\n",
       "<g class=\"node\" id=\"node25\"><title>112088890336</title>\n",
       "<polygon fill=\"none\" points=\"355.954,-1022.5 355.954,-1058.5 436.636,-1058.5 436.636,-1022.5 355.954,-1022.5\" stroke=\"black\"/>\n",
       "<text font-family=\"Times,serif\" font-size=\"14.00\" text-anchor=\"middle\" x=\"396.295\" y=\"-1036.3\">Dot: Merge</text>\n",
       "</g>\n",
       "<!-- 112084624160&#45;&gt;112088890336 -->\n",
       "<g class=\"edge\" id=\"edge24\"><title>112084624160-&gt;112088890336</title>\n",
       "<path d=\"M241.918,-1095.49C273.49,-1084.45 314.53,-1070.1 346.359,-1058.97\" fill=\"none\" stroke=\"black\"/>\n",
       "<polygon fill=\"black\" points=\"347.637,-1062.23 355.92,-1055.62 345.325,-1055.62 347.637,-1062.23\" stroke=\"black\"/>\n",
       "</g>\n",
       "<!-- 112085423664&#45;&gt;112088890336 -->\n",
       "<g class=\"edge\" id=\"edge25\"><title>112085423664-&gt;112088890336</title>\n",
       "<path d=\"M504.282,-1095.49C484.842,-1085.77 460.268,-1073.49 439.476,-1063.09\" fill=\"none\" stroke=\"black\"/>\n",
       "<polygon fill=\"black\" points=\"441.032,-1059.96 430.522,-1058.61 437.901,-1066.22 441.032,-1059.96\" stroke=\"black\"/>\n",
       "</g>\n",
       "<!-- 112089386176 -->\n",
       "<g class=\"node\" id=\"node26\"><title>112089386176</title>\n",
       "<polygon fill=\"none\" points=\"435.559,-292.5 435.559,-328.5 553.031,-328.5 553.031,-292.5 435.559,-292.5\" stroke=\"black\"/>\n",
       "<text font-family=\"Times,serif\" font-size=\"14.00\" text-anchor=\"middle\" x=\"494.295\" y=\"-306.3\">Activation: Dense</text>\n",
       "</g>\n",
       "<!-- 112087225176&#45;&gt;112089386176 -->\n",
       "<g class=\"edge\" id=\"edge26\"><title>112087225176-&gt;112089386176</title>\n",
       "<path d=\"M502.632,-365.313C501.389,-357.289 499.88,-347.547 498.489,-338.569\" fill=\"none\" stroke=\"black\"/>\n",
       "<polygon fill=\"black\" points=\"501.923,-337.875 496.933,-328.529 495.006,-338.947 501.923,-337.875\" stroke=\"black\"/>\n",
       "</g>\n",
       "<!-- 112089474160 -->\n",
       "<g class=\"node\" id=\"node27\"><title>112089474160</title>\n",
       "<polygon fill=\"none\" points=\"366.454,-219.5 366.454,-255.5 524.136,-255.5 524.136,-219.5 366.454,-219.5\" stroke=\"black\"/>\n",
       "<text font-family=\"Times,serif\" font-size=\"14.00\" text-anchor=\"middle\" x=\"445.295\" y=\"-233.3\">Concat-MF-MLP: Merge</text>\n",
       "</g>\n",
       "<!-- 112088890336&#45;&gt;112089474160 -->\n",
       "<g class=\"edge\" id=\"edge27\"><title>112088890336-&gt;112089474160</title>\n",
       "<path d=\"M396.295,-1022.21C396.295,-995.176 396.295,-941.25 396.295,-895.5 396.295,-895.5 396.295,-895.5 396.295,-382.5 396.295,-339.507 416.112,-292.958 430.541,-264.764\" fill=\"none\" stroke=\"black\"/>\n",
       "<polygon fill=\"black\" points=\"433.809,-266.071 435.379,-255.593 427.618,-262.805 433.809,-266.071\" stroke=\"black\"/>\n",
       "</g>\n",
       "<!-- 112089386176&#45;&gt;112089474160 -->\n",
       "<g class=\"edge\" id=\"edge28\"><title>112089386176-&gt;112089474160</title>\n",
       "<path d=\"M482.433,-292.313C476.535,-283.766 469.291,-273.269 462.771,-263.823\" fill=\"none\" stroke=\"black\"/>\n",
       "<polygon fill=\"black\" points=\"465.608,-261.771 457.047,-255.529 459.847,-265.747 465.608,-261.771\" stroke=\"black\"/>\n",
       "</g>\n",
       "<!-- 112089888696 -->\n",
       "<g class=\"node\" id=\"node28\"><title>112089888696</title>\n",
       "<polygon fill=\"none\" points=\"361.269,-146.5 361.269,-182.5 529.321,-182.5 529.321,-146.5 361.269,-146.5\" stroke=\"black\"/>\n",
       "<text font-family=\"Times,serif\" font-size=\"14.00\" text-anchor=\"middle\" x=\"445.295\" y=\"-160.3\">Combine-MF-MLP: Dense</text>\n",
       "</g>\n",
       "<!-- 112089474160&#45;&gt;112089888696 -->\n",
       "<g class=\"edge\" id=\"edge29\"><title>112089474160-&gt;112089888696</title>\n",
       "<path d=\"M445.295,-219.313C445.295,-211.289 445.295,-201.547 445.295,-192.569\" fill=\"none\" stroke=\"black\"/>\n",
       "<polygon fill=\"black\" points=\"448.795,-192.529 445.295,-182.529 441.795,-192.529 448.795,-192.529\" stroke=\"black\"/>\n",
       "</g>\n",
       "<!-- 112089888752 -->\n",
       "<g class=\"node\" id=\"node29\"><title>112089888752</title>\n",
       "<polygon fill=\"none\" points=\"365.559,-73.5 365.559,-109.5 525.031,-109.5 525.031,-73.5 365.559,-73.5\" stroke=\"black\"/>\n",
       "<text font-family=\"Times,serif\" font-size=\"14.00\" text-anchor=\"middle\" x=\"445.295\" y=\"-87.3\">FullyConnected-4: Dense</text>\n",
       "</g>\n",
       "<!-- 112089888696&#45;&gt;112089888752 -->\n",
       "<g class=\"edge\" id=\"edge30\"><title>112089888696-&gt;112089888752</title>\n",
       "<path d=\"M445.295,-146.313C445.295,-138.289 445.295,-128.547 445.295,-119.569\" fill=\"none\" stroke=\"black\"/>\n",
       "<polygon fill=\"black\" points=\"448.795,-119.529 445.295,-109.529 441.795,-119.529 448.795,-119.529\" stroke=\"black\"/>\n",
       "</g>\n",
       "<!-- 112089753920 -->\n",
       "<g class=\"node\" id=\"node30\"><title>112089753920</title>\n",
       "<polygon fill=\"none\" points=\"387.334,-0.5 387.334,-36.5 503.255,-36.5 503.255,-0.5 387.334,-0.5\" stroke=\"black\"/>\n",
       "<text font-family=\"Times,serif\" font-size=\"14.00\" text-anchor=\"middle\" x=\"445.295\" y=\"-14.3\">Prediction: Dense</text>\n",
       "</g>\n",
       "<!-- 112089888752&#45;&gt;112089753920 -->\n",
       "<g class=\"edge\" id=\"edge31\"><title>112089888752-&gt;112089753920</title>\n",
       "<path d=\"M445.295,-73.3129C445.295,-65.2895 445.295,-55.5475 445.295,-46.5691\" fill=\"none\" stroke=\"black\"/>\n",
       "<polygon fill=\"black\" points=\"448.795,-46.5288 445.295,-36.5288 441.795,-46.5289 448.795,-46.5288\" stroke=\"black\"/>\n",
       "</g>\n",
       "</g>\n",
       "</svg>"
      ],
      "text/plain": [
       "<IPython.core.display.SVG object>"
      ]
     },
     "execution_count": 11,
     "metadata": {},
     "output_type": "execute_result"
    }
   ],
   "source": [
    "from IPython.display import SVG\n",
    "from keras.utils.vis_utils import model_to_dot\n",
    "SVG(model_to_dot(model,  show_shapes=False, show_layer_names=True, rankdir='HB').create(prog='dot', format='svg'))"
   ]
  },
  {
   "cell_type": "markdown",
   "metadata": {},
   "source": [
    "So, it wasn't very complicated to set up. Courtesy Keras, we can do even more complex stuff!"
   ]
  },
  {
   "cell_type": "code",
   "execution_count": 12,
   "metadata": {},
   "outputs": [
    {
     "name": "stdout",
     "output_type": "stream",
     "text": [
      "__________________________________________________________________________________________________\n",
      "Layer (type)                    Output Shape         Param #     Connected to                     \n",
      "==================================================================================================\n",
      "Item (InputLayer)               (None, 1)            0                                            \n",
      "__________________________________________________________________________________________________\n",
      "User (InputLayer)               (None, 1)            0                                            \n",
      "__________________________________________________________________________________________________\n",
      "Movie-Embedding-MLP (Embedding) (None, 1, 10)        16830       Item[0][0]                       \n",
      "__________________________________________________________________________________________________\n",
      "User-Embedding-MLP (Embedding)  (None, 1, 8)         7552        User[0][0]                       \n",
      "__________________________________________________________________________________________________\n",
      "FlattenMovies-MLP (Flatten)     (None, 10)           0           Movie-Embedding-MLP[0][0]        \n",
      "__________________________________________________________________________________________________\n",
      "FlattenUsers-MLP (Flatten)      (None, 8)            0           User-Embedding-MLP[0][0]         \n",
      "__________________________________________________________________________________________________\n",
      "dropout_1 (Dropout)             (None, 10)           0           FlattenMovies-MLP[0][0]          \n",
      "__________________________________________________________________________________________________\n",
      "dropout_3 (Dropout)             (None, 8)            0           FlattenUsers-MLP[0][0]           \n",
      "__________________________________________________________________________________________________\n",
      "Concat (Merge)                  (None, 18)           0           dropout_1[0][0]                  \n",
      "                                                                 dropout_3[0][0]                  \n",
      "__________________________________________________________________________________________________\n",
      "dropout_5 (Dropout)             (None, 18)           0           Concat[0][0]                     \n",
      "__________________________________________________________________________________________________\n",
      "FullyConnected (Dense)          (None, 200)          3800        dropout_5[0][0]                  \n",
      "__________________________________________________________________________________________________\n",
      "Batch (BatchNormalization)      (None, 200)          800         FullyConnected[0][0]             \n",
      "__________________________________________________________________________________________________\n",
      "Dropout-1 (Dropout)             (None, 200)          0           Batch[0][0]                      \n",
      "__________________________________________________________________________________________________\n",
      "FullyConnected-1 (Dense)        (None, 100)          20100       Dropout-1[0][0]                  \n",
      "__________________________________________________________________________________________________\n",
      "Batch-2 (BatchNormalization)    (None, 100)          400         FullyConnected-1[0][0]           \n",
      "__________________________________________________________________________________________________\n",
      "Movie-Embedding-MF (Embedding)  (None, 1, 3)         5049        Item[0][0]                       \n",
      "__________________________________________________________________________________________________\n",
      "User-Embedding-MF (Embedding)   (None, 1, 3)         2832        User[0][0]                       \n",
      "__________________________________________________________________________________________________\n",
      "Dropout-2 (Dropout)             (None, 100)          0           Batch-2[0][0]                    \n",
      "__________________________________________________________________________________________________\n",
      "FlattenMovies-MF (Flatten)      (None, 3)            0           Movie-Embedding-MF[0][0]         \n",
      "__________________________________________________________________________________________________\n",
      "FlattenUsers-MF (Flatten)       (None, 3)            0           User-Embedding-MF[0][0]          \n",
      "__________________________________________________________________________________________________\n",
      "FullyConnected-2 (Dense)        (None, 50)           5050        Dropout-2[0][0]                  \n",
      "__________________________________________________________________________________________________\n",
      "dropout_2 (Dropout)             (None, 3)            0           FlattenMovies-MF[0][0]           \n",
      "__________________________________________________________________________________________________\n",
      "dropout_4 (Dropout)             (None, 3)            0           FlattenUsers-MF[0][0]            \n",
      "__________________________________________________________________________________________________\n",
      "FullyConnected-3 (Dense)        (None, 20)           1020        FullyConnected-2[0][0]           \n",
      "__________________________________________________________________________________________________\n",
      "Dot (Merge)                     (None, 1)            0           dropout_2[0][0]                  \n",
      "                                                                 dropout_4[0][0]                  \n",
      "__________________________________________________________________________________________________\n",
      "Activation (Dense)              (None, 1)            21          FullyConnected-3[0][0]           \n",
      "__________________________________________________________________________________________________\n",
      "Concat-MF-MLP (Merge)           (None, 2)            0           Dot[0][0]                        \n",
      "                                                                 Activation[0][0]                 \n",
      "__________________________________________________________________________________________________\n",
      "Combine-MF-MLP (Dense)          (None, 100)          300         Concat-MF-MLP[0][0]              \n",
      "__________________________________________________________________________________________________\n",
      "FullyConnected-4 (Dense)        (None, 100)          10100       Combine-MF-MLP[0][0]             \n",
      "__________________________________________________________________________________________________\n",
      "Prediction (Dense)              (None, 1)            101         FullyConnected-4[0][0]           \n",
      "==================================================================================================\n",
      "Total params: 73,955\n",
      "Trainable params: 73,355\n",
      "Non-trainable params: 600\n",
      "__________________________________________________________________________________________________\n"
     ]
    }
   ],
   "source": [
    "model.summary()"
   ]
  },
  {
   "cell_type": "markdown",
   "metadata": {},
   "source": [
    "We can see that the number of parameters is more than what we had in the Matrix Factorisation case. Let's see how this model works. I'll run it for more epochs given that we have more parameters."
   ]
  },
  {
   "cell_type": "code",
   "execution_count": 13,
   "metadata": {},
   "outputs": [],
   "source": [
    "history = model.fit([train.user_id, train.item_id], train.rating, epochs=25, verbose=0, validation_split=0.1)"
   ]
  },
  {
   "cell_type": "markdown",
   "metadata": {},
   "source": [
    "### Prediction performance of Neural Network based recommender system"
   ]
  },
  {
   "cell_type": "code",
   "execution_count": 14,
   "metadata": {},
   "outputs": [
    {
     "name": "stdout",
     "output_type": "stream",
     "text": [
      "0.716\n",
      "0.737380115688\n"
     ]
    }
   ],
   "source": [
    "from sklearn.metrics import mean_absolute_error\n",
    "y_hat_2 = np.round(model.predict([test.user_id, test.item_id]),0)\n",
    "print(mean_absolute_error(y_true, y_hat_2))\n",
    "\n",
    "print(mean_absolute_error(y_true, model.predict([test.user_id, test.item_id])))\n",
    "\n",
    "\n"
   ]
  },
  {
   "cell_type": "markdown",
   "metadata": {},
   "source": [
    "Pretty similar to the result we got using matrix factorisation. This isn't very optimised, and I am sure doing so, we can make this approach perform much better than GMF!"
   ]
  },
  {
   "cell_type": "markdown",
   "metadata": {},
   "source": [
    "Thanks for reading. This post has been a good learning experience for me. Hope you enjoyed too! "
   ]
  }
 ],
 "metadata": {
  "kernelspec": {
   "display_name": "Python 3",
   "language": "python",
   "name": "python3"
  },
  "language_info": {
   "codemirror_mode": {
    "name": "ipython",
    "version": 3
   },
   "file_extension": ".py",
   "mimetype": "text/x-python",
   "name": "python",
   "nbconvert_exporter": "python",
   "pygments_lexer": "ipython3",
   "version": "3.7.4"
  }
 },
 "nbformat": 4,
 "nbformat_minor": 1
}
