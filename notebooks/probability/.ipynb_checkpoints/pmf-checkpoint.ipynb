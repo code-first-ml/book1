{
 "cells": [
  {
   "cell_type": "markdown",
   "id": "a51ebf61",
   "metadata": {},
   "source": [
    "### Probability Mass Function (PMF)\n",
    "\n",
    "A lot of this material is inspired by:\n",
    "\n",
    "1. Wiki article \n",
    "2. Khan academy videos \n",
    "3. MIT OCW course \n",
    "\n",
    "Assume you toss a coin once, the coin can land either as heads or tails. The outcome is unknown before the throw. \n",
    "\n",
    "We can denote the sample space as: $\\Omega = \\{H, T\\}$\n",
    "\n",
    "Now, let us say that if the coin lands as Heads, we win 1\\$ and we win 0\\$ if the coin lands as Tails. We can associate a function $W$ with the experiment such that W(Heads) = 1 and W(Tails) = 0\n",
    "\n",
    "\n",
    "```{admonition} Random Variable\n",
    "A random variable is a function mapping the sample space (for example: $\\Omega = \\{H, T\\}$) of an experiment to a measurement space $E = \\{0, 1\\}$. Random variables are represented using capital letters.\n",
    "```\n",
    "\n",
    "While we may have generally seen a random variable W associated with a coin toss taking the values 1 for Heads, 0 for Tails, we might have chosen any other values and still have a random variable. As an example\n",
    "\n",
    "$$\n",
    "Y(\\omega)= \\begin{cases}100, & \\text { if } \\omega=\\text { heads } \\\\ -20, & \\text { if } \\omega=\\text { tails }\\end{cases}\n",
    "$$\n",
    "\n",
    "\n",
    "If our experiment is to roll two die (6-faced die) and note the sum of the numbers on the top side.\n",
    "\n",
    "The sample space for this example is: \n",
    "\n",
    "$$\n",
    "\\begin{align*}\n",
    "    S = \\{&(1, 1), (1, 2), \\dots, (1, 6), \\\\\n",
    "          &(2, 1), (2, 2), \\dots, (2, 6), \\\\\n",
    "          &\\cdots, \\cdots,  \\cdots, \\cdots \\\\\n",
    "          &(6, 1), (6, 2), \\dots, (6, 6) \\}\n",
    "\\end{align*}\n",
    "$$\n",
    "\n",
    "Based on this sample space, we can see that our random variable $Z$ denoting the sum of numbers on the top side takes the values $\\{2, 3, 4, 5, 6, 7, 8, 9, 10, 11, 12\\}$\n",
    "\n",
    "\n",
    "```{admonition} Discrete Random Variable\n",
    "A discrete random variable can take discrete values. For example, W representing the money we win if we toss a coin randomly. Or, Y the top face of a dice when the dice is rolled. Or, $Z$ denoting the sum of numbers on the top side of two dies.\n",
    "```\n",
    "\n",
    "\n",
    "Let us now take a different example. Our experiment is to pick a person at random from a university and measure their weight. The sample space would be the list of all the people in the university and the random variable $T$ would be weight corresponding to that randomly chosen person. The weight of that person would be a continuous scale.\n"
   ]
  }
 ],
 "metadata": {
  "kernelspec": {
   "display_name": "Python 3 (ipykernel)",
   "language": "python",
   "name": "python3"
  },
  "language_info": {
   "codemirror_mode": {
    "name": "ipython",
    "version": 3
   },
   "file_extension": ".py",
   "mimetype": "text/x-python",
   "name": "python",
   "nbconvert_exporter": "python",
   "pygments_lexer": "ipython3",
   "version": "3.9.7"
  }
 },
 "nbformat": 4,
 "nbformat_minor": 5
}
