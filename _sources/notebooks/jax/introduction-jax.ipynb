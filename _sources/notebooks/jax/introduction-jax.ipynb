{
 "cells": [
  {
   "cell_type": "code",
   "execution_count": 1,
   "id": "5d0465cb",
   "metadata": {},
   "outputs": [],
   "source": [
    "import jax.numpy as jnp\n",
    "from jax import grad, jit, vmap\n",
    "from jax import random\n",
    "import jax\n",
    "import numpy as np\n",
    "import optax"
   ]
  },
  {
   "cell_type": "code",
   "execution_count": 2,
   "id": "eaff59cf",
   "metadata": {},
   "outputs": [
    {
     "name": "stderr",
     "output_type": "stream",
     "text": [
      "WARNING:absl:No GPU/TPU found, falling back to CPU. (Set TF_CPP_MIN_LOG_LEVEL=0 and rerun for more info.)\n"
     ]
    },
    {
     "data": {
      "text/plain": [
       "[CpuDevice(id=0)]"
      ]
     },
     "execution_count": 2,
     "metadata": {},
     "output_type": "execute_result"
    }
   ],
   "source": [
    "jax.devices()"
   ]
  },
  {
   "cell_type": "code",
   "execution_count": 3,
   "id": "9ae4141f",
   "metadata": {},
   "outputs": [],
   "source": [
    "# y_hat = x^t * theta for a single point\n",
    "\n",
    "def pred_yhat(x, theta):\n",
    "    return jnp.dot(x, theta[1:]) + theta[0]"
   ]
  },
  {
   "cell_type": "code",
   "execution_count": 4,
   "id": "7e3ecb6b",
   "metadata": {},
   "outputs": [],
   "source": [
    "x = jnp.array([2., 2.])\n",
    "theta = jnp.array([-1., 2., 3.])"
   ]
  },
  {
   "cell_type": "code",
   "execution_count": 5,
   "id": "962c566a",
   "metadata": {},
   "outputs": [
    {
     "data": {
      "text/plain": [
       "DeviceArray(9., dtype=float32)"
      ]
     },
     "execution_count": 5,
     "metadata": {},
     "output_type": "execute_result"
    }
   ],
   "source": [
    "pred_yhat(x, theta)"
   ]
  },
  {
   "cell_type": "markdown",
   "id": "5cc20fd3",
   "metadata": {},
   "source": [
    "### Using PRNG key"
   ]
  },
  {
   "cell_type": "code",
   "execution_count": 6,
   "id": "5fc49805",
   "metadata": {},
   "outputs": [
    {
     "name": "stdout",
     "output_type": "stream",
     "text": [
      "(100, 2)\n"
     ]
    }
   ],
   "source": [
    "key = random.PRNGKey(0)\n",
    "X = random.normal(key, (100, 2))\n",
    "print(X.shape)"
   ]
  },
  {
   "cell_type": "markdown",
   "id": "7fa8ae6c",
   "metadata": {},
   "source": [
    "### VMAP for auto-batching!"
   ]
  },
  {
   "cell_type": "code",
   "execution_count": 7,
   "id": "991e6522",
   "metadata": {},
   "outputs": [
    {
     "name": "stdout",
     "output_type": "stream",
     "text": [
      "1.31 ms ± 11.9 µs per loop (mean ± std. dev. of 7 runs, 1,000 loops each)\n"
     ]
    }
   ],
   "source": [
    "%timeit vmap(pred_yhat, in_axes=(0, None))(X, theta).block_until_ready()"
   ]
  },
  {
   "cell_type": "code",
   "execution_count": 8,
   "id": "b9b1eddb",
   "metadata": {},
   "outputs": [
    {
     "name": "stdout",
     "output_type": "stream",
     "text": [
      "98 ms ± 1.15 ms per loop (mean ± std. dev. of 7 runs, 1 loop each)\n"
     ]
    }
   ],
   "source": [
    "%timeit jnp.stack([pred_yhat(x, theta) for x in X]).block_until_ready()"
   ]
  },
  {
   "cell_type": "code",
   "execution_count": 9,
   "id": "a5c1d037",
   "metadata": {},
   "outputs": [
    {
     "name": "stdout",
     "output_type": "stream",
     "text": [
      "893 µs ± 2.61 µs per loop (mean ± std. dev. of 7 runs, 1,000 loops each)\n"
     ]
    }
   ],
   "source": [
    "%timeit X@theta[1:] + theta[0]"
   ]
  },
  {
   "cell_type": "markdown",
   "id": "abb9d28f",
   "metadata": {},
   "source": [
    "### JIT for speedup"
   ]
  },
  {
   "cell_type": "code",
   "execution_count": 10,
   "id": "850ad4f2",
   "metadata": {},
   "outputs": [
    {
     "name": "stdout",
     "output_type": "stream",
     "text": [
      "289 µs ± 2.31 µs per loop (mean ± std. dev. of 7 runs, 1,000 loops each)\n"
     ]
    }
   ],
   "source": [
    "%timeit vmap(jit(pred_yhat), in_axes=(0, None))(X, theta).block_until_ready()"
   ]
  },
  {
   "cell_type": "code",
   "execution_count": 11,
   "id": "af1f63f7",
   "metadata": {},
   "outputs": [],
   "source": [
    "pred_y_hat_vector = lambda X, theta: vmap(jit(pred_yhat), in_axes=(0, None))(X, theta)"
   ]
  },
  {
   "cell_type": "code",
   "execution_count": 12,
   "id": "5fb4406f",
   "metadata": {},
   "outputs": [],
   "source": [
    "def cost(X, y, theta):\n",
    "    y_hat_vec = pred_y_hat_vector(X, theta)\n",
    "    error_square = jnp.linalg.norm(y - y_hat_vec, 2)\n",
    "    return error_square"
   ]
  },
  {
   "cell_type": "code",
   "execution_count": 13,
   "id": "96aa9b97",
   "metadata": {},
   "outputs": [],
   "source": [
    "theta_gt = jnp.array([1., 4., 5.])"
   ]
  },
  {
   "cell_type": "code",
   "execution_count": 14,
   "id": "55c33b50",
   "metadata": {},
   "outputs": [],
   "source": [
    "y_gt = vmap(jit(pred_yhat), in_axes=(0, None))(X, theta_gt) + 0.2*random.normal(key, (100, 1))"
   ]
  },
  {
   "cell_type": "code",
   "execution_count": 15,
   "id": "83b1d8d6",
   "metadata": {},
   "outputs": [
    {
     "data": {
      "text/plain": [
       "DeviceArray(18.885782, dtype=float32)"
      ]
     },
     "execution_count": 15,
     "metadata": {},
     "output_type": "execute_result"
    }
   ],
   "source": [
    "cost(X, y_gt, theta_gt)"
   ]
  },
  {
   "cell_type": "markdown",
   "id": "211c0b2c",
   "metadata": {},
   "source": [
    "Our initial estimates (theta) are not good"
   ]
  },
  {
   "cell_type": "code",
   "execution_count": 16,
   "id": "43ce9c48",
   "metadata": {},
   "outputs": [
    {
     "data": {
      "text/plain": [
       "DeviceArray(377.96906, dtype=float32)"
      ]
     },
     "execution_count": 16,
     "metadata": {},
     "output_type": "execute_result"
    }
   ],
   "source": [
    "cost(X, y_gt, theta)"
   ]
  },
  {
   "cell_type": "code",
   "execution_count": 17,
   "id": "bb3d3e9c",
   "metadata": {},
   "outputs": [],
   "source": [
    "grad_theta = grad(cost, argnums=[2])"
   ]
  },
  {
   "cell_type": "code",
   "execution_count": 18,
   "id": "81416e9e",
   "metadata": {},
   "outputs": [
    {
     "name": "stdout",
     "output_type": "stream",
     "text": [
      "0 377.96906\n",
      "1 365.99265\n",
      "2 354.02716\n",
      "3 342.07303\n",
      "4 330.13083\n",
      "5 318.20102\n",
      "6 306.28424\n",
      "7 294.38098\n",
      "8 282.49225\n",
      "9 270.61868\n",
      "10 258.76102\n",
      "11 246.92035\n",
      "12 235.09787\n",
      "13 223.29465\n",
      "14 211.51213\n",
      "15 199.75198\n",
      "16 188.01602\n",
      "17 176.30638\n",
      "18 164.62575\n",
      "19 152.97719\n",
      "20 141.36456\n",
      "21 129.7927\n",
      "22 118.26772\n",
      "23 106.79769\n",
      "24 95.3937\n",
      "25 84.071465\n",
      "26 72.85466\n",
      "27 61.781315\n",
      "28 50.91854\n",
      "29 40.401173\n",
      "30 30.558014\n",
      "31 22.45481\n",
      "32 18.97314\n",
      "33 18.814388\n",
      "34 18.81421\n",
      "35 18.814215\n",
      "36 18.814215\n",
      "37 18.814215\n",
      "38 18.814215\n",
      "39 18.814215\n",
      "40 18.814215\n",
      "41 18.814215\n",
      "42 18.814215\n",
      "43 18.814215\n",
      "44 18.814215\n",
      "45 18.814215\n",
      "46 18.814215\n",
      "47 18.814215\n",
      "48 18.814215\n",
      "49 18.814215\n"
     ]
    }
   ],
   "source": [
    "lr = 0.001\n",
    "for i in range(50):\n",
    "    cost_val = cost(X, y_gt, theta)\n",
    "    print(i, cost_val)\n",
    "    grad_theta_val = grad_theta(X, y_gt, theta)[0]\n",
    "    theta = theta - lr*grad_theta_val"
   ]
  },
  {
   "cell_type": "code",
   "execution_count": 19,
   "id": "c01ceb4a",
   "metadata": {},
   "outputs": [
    {
     "data": {
      "text/plain": [
       "DeviceArray([1.0210268, 3.881022 , 4.9754868], dtype=float32)"
      ]
     },
     "execution_count": 19,
     "metadata": {},
     "output_type": "execute_result"
    }
   ],
   "source": [
    "theta"
   ]
  },
  {
   "cell_type": "code",
   "execution_count": 20,
   "id": "d0d78ffa",
   "metadata": {},
   "outputs": [
    {
     "data": {
      "text/plain": [
       "DeviceArray([1., 4., 5.], dtype=float32)"
      ]
     },
     "execution_count": 20,
     "metadata": {},
     "output_type": "execute_result"
    }
   ],
   "source": [
    "theta_gt"
   ]
  },
  {
   "cell_type": "markdown",
   "id": "af418fa4",
   "metadata": {},
   "source": [
    "### Using Optax instead of manually writing SGD"
   ]
  },
  {
   "cell_type": "code",
   "execution_count": 21,
   "id": "e7f79cf1",
   "metadata": {},
   "outputs": [],
   "source": [
    "#optimizer = optax.adam(learning_rate=0.01)\n",
    "optimizer = optax.sgd(learning_rate=0.001)\n",
    "\n",
    "theta = jnp.array([-1., 2., 3.])\n",
    "opt_state = optimizer.init(theta)"
   ]
  },
  {
   "cell_type": "code",
   "execution_count": 22,
   "id": "4ee9f751",
   "metadata": {},
   "outputs": [
    {
     "data": {
      "text/plain": [
       "(EmptyState(), EmptyState())"
      ]
     },
     "execution_count": 22,
     "metadata": {},
     "output_type": "execute_result"
    }
   ],
   "source": [
    "opt_state"
   ]
  },
  {
   "cell_type": "code",
   "execution_count": 23,
   "id": "98d3cf45",
   "metadata": {},
   "outputs": [
    {
     "name": "stdout",
     "output_type": "stream",
     "text": [
      "0 377.96906\n",
      "1 365.99265\n",
      "2 354.02716\n",
      "3 342.07303\n",
      "4 330.13083\n",
      "5 318.20102\n",
      "6 306.28424\n",
      "7 294.38098\n",
      "8 282.49225\n",
      "9 270.61868\n",
      "10 258.76102\n",
      "11 246.92035\n",
      "12 235.09787\n",
      "13 223.29465\n",
      "14 211.51213\n",
      "15 199.75198\n",
      "16 188.01602\n",
      "17 176.30638\n",
      "18 164.62575\n",
      "19 152.97719\n",
      "20 141.36456\n",
      "21 129.7927\n",
      "22 118.26772\n",
      "23 106.79769\n",
      "24 95.3937\n",
      "25 84.071465\n",
      "26 72.85466\n",
      "27 61.781315\n",
      "28 50.91854\n",
      "29 40.401173\n",
      "30 30.558014\n",
      "31 22.45481\n",
      "32 18.97314\n",
      "33 18.814388\n",
      "34 18.81421\n",
      "35 18.814215\n",
      "36 18.814215\n",
      "37 18.814215\n",
      "38 18.814215\n",
      "39 18.814215\n",
      "40 18.814215\n",
      "41 18.814215\n",
      "42 18.814215\n",
      "43 18.814215\n",
      "44 18.814215\n",
      "45 18.814215\n",
      "46 18.814215\n",
      "47 18.814215\n",
      "48 18.814215\n",
      "49 18.814215\n"
     ]
    }
   ],
   "source": [
    "for i in range(50):\n",
    "    cost_val = cost(X, y_gt, theta)\n",
    "    print(i, cost_val)\n",
    "    grad_theta_val = grad_theta(X, y_gt, theta)[0]\n",
    "    updates, opt_state = optimizer.update(grad_theta_val, opt_state)\n",
    "    theta = optax.apply_updates(theta, updates)"
   ]
  },
  {
   "cell_type": "markdown",
   "id": "74eea98b",
   "metadata": {},
   "source": [
    "### Is JAX quicker (even on CPU?!)\n",
    "\n",
    "Gaussian Processes need Cholesky decompositions. Can we get a speedup using JAX instead of Numpy?"
   ]
  },
  {
   "cell_type": "code",
   "execution_count": 24,
   "id": "34781121",
   "metadata": {},
   "outputs": [],
   "source": [
    "a = np.random.randn(1000, 1000)\n",
    "b = a.T@a"
   ]
  },
  {
   "cell_type": "code",
   "execution_count": 25,
   "id": "e0ff6e35",
   "metadata": {},
   "outputs": [
    {
     "name": "stdout",
     "output_type": "stream",
     "text": [
      "6.82 ms ± 464 µs per loop (mean ± std. dev. of 7 runs, 100 loops each)\n"
     ]
    }
   ],
   "source": [
    "%timeit np.linalg.cholesky(b)"
   ]
  },
  {
   "cell_type": "code",
   "execution_count": 26,
   "id": "d1105196",
   "metadata": {},
   "outputs": [],
   "source": [
    "b = jnp.array(b)"
   ]
  },
  {
   "cell_type": "code",
   "execution_count": 27,
   "id": "636cae5f",
   "metadata": {},
   "outputs": [
    {
     "name": "stdout",
     "output_type": "stream",
     "text": [
      "2.19 ms ± 67.9 µs per loop (mean ± std. dev. of 7 runs, 100 loops each)\n"
     ]
    }
   ],
   "source": [
    "%timeit jnp.linalg.cholesky(b)"
   ]
  }
 ],
 "metadata": {
  "kernelspec": {
   "display_name": "Python 3 (ipykernel)",
   "language": "python",
   "name": "python3"
  },
  "language_info": {
   "codemirror_mode": {
    "name": "ipython",
    "version": 3
   },
   "file_extension": ".py",
   "mimetype": "text/x-python",
   "name": "python",
   "nbconvert_exporter": "python",
   "pygments_lexer": "ipython3",
   "version": "3.9.7"
  }
 },
 "nbformat": 4,
 "nbformat_minor": 5
}
