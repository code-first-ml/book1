{
 "cells": [
  {
   "cell_type": "code",
   "execution_count": 1,
   "id": "1a2a5dd3",
   "metadata": {},
   "outputs": [
    {
     "name": "stderr",
     "output_type": "stream",
     "text": [
      "/Users/nipun/miniconda3/lib/python3.8/site-packages/jax/_src/lib/__init__.py:33: UserWarning: JAX on Mac ARM machines is experimental and minimally tested. Please see https://github.com/google/jax/issues/5501 in the event of problems.\n",
      "  warnings.warn(\"JAX on Mac ARM machines is experimental and minimally tested. \"\n"
     ]
    }
   ],
   "source": [
    "import optax\n",
    "import jaxopt\n",
    "import jax\n",
    "import jax.numpy as jnp"
   ]
  },
  {
   "cell_type": "markdown",
   "id": "0bb2a9aa",
   "metadata": {},
   "source": [
    "### Function without additional arguments"
   ]
  },
  {
   "cell_type": "code",
   "execution_count": 2,
   "id": "ba71463d",
   "metadata": {},
   "outputs": [],
   "source": [
    "def cost(theta):\n",
    "    return jnp.linalg.norm(theta)"
   ]
  },
  {
   "cell_type": "code",
   "execution_count": 3,
   "id": "ca6c8ace",
   "metadata": {},
   "outputs": [
    {
     "name": "stderr",
     "output_type": "stream",
     "text": [
      "WARNING:absl:No GPU/TPU found, falling back to CPU. (Set TF_CPP_MIN_LOG_LEVEL=0 and rerun for more info.)\n"
     ]
    }
   ],
   "source": [
    "theta_init = jnp.array([4., 4.])"
   ]
  },
  {
   "cell_type": "code",
   "execution_count": 4,
   "id": "0c2921e7",
   "metadata": {},
   "outputs": [
    {
     "data": {
      "text/plain": [
       "(DeviceArray(5.656854, dtype=float32), DeviceArray(4.2426405, dtype=float32))"
      ]
     },
     "execution_count": 4,
     "metadata": {},
     "output_type": "execute_result"
    }
   ],
   "source": [
    "cost(theta_init), cost(theta_init-1)\n"
   ]
  },
  {
   "cell_type": "code",
   "execution_count": 9,
   "id": "a3f64cbf",
   "metadata": {},
   "outputs": [],
   "source": [
    "solver = jaxopt.OptaxSolver(opt=optax.adam(1e-1), fun=cost,maxiter=1000,tol=1e-8)"
   ]
  },
  {
   "cell_type": "code",
   "execution_count": 6,
   "id": "9f75e1ca",
   "metadata": {},
   "outputs": [],
   "source": [
    "state = solver.init_state(theta_init)"
   ]
  },
  {
   "cell_type": "code",
   "execution_count": 7,
   "id": "0eb9cf2e",
   "metadata": {},
   "outputs": [
    {
     "name": "stdout",
     "output_type": "stream",
     "text": [
      "[0] 5.5154337882995605\n",
      "[50] 0.377135694026947\n",
      "[100] 0.028257401660084724\n",
      "[150] 0.031453393399715424\n",
      "[200] 0.009030254557728767\n",
      "[250] 0.009096682071685791\n",
      "[300] 0.009097049944102764\n",
      "[350] 0.009097031317651272\n",
      "[400] 0.009097004309296608\n",
      "[450] 0.00909700058400631\n",
      "[500] 0.009096973575651646\n",
      "[550] 0.009097002446651459\n",
      "[600] 0.009096972644329071\n",
      "[650] 0.00909694004803896\n",
      "[700] 0.009096913039684296\n",
      "[750] 0.009096892550587654\n",
      "[800] 0.009096899069845676\n",
      "[850] 0.009096900932490826\n",
      "[900] 0.009096892550587654\n",
      "[950] 0.009096898138523102\n"
     ]
    }
   ],
   "source": [
    "@jax.jit\n",
    "def jit_update(theta, state):\n",
    "    return solver.update(theta, state)\n",
    "\n",
    "theta = theta_init\n",
    "\n",
    "for i in range(1000):\n",
    "    theta, state = jit_update(theta, state)\n",
    "    if i%50==0:\n",
    "        print(f\"[{i}] {cost(theta)}\")"
   ]
  },
  {
   "cell_type": "code",
   "execution_count": 8,
   "id": "b6dcd4f4",
   "metadata": {},
   "outputs": [
    {
     "data": {
      "text/plain": [
       "DeviceArray([-0.00835913, -0.00835913], dtype=float32)"
      ]
     },
     "execution_count": 8,
     "metadata": {},
     "output_type": "execute_result"
    }
   ],
   "source": [
    "theta"
   ]
  },
  {
   "cell_type": "markdown",
   "id": "052bf4cd",
   "metadata": {},
   "source": [
    "### Function with additional arguments"
   ]
  },
  {
   "cell_type": "code",
   "execution_count": 10,
   "id": "cd6eae6c",
   "metadata": {},
   "outputs": [],
   "source": [
    "def cost_2(theta, X, y):\n",
    "    y_hat = jnp.dot(X, theta)\n",
    "    return jnp.linalg.norm(y-y_hat)"
   ]
  },
  {
   "cell_type": "code",
   "execution_count": null,
   "id": "273a2bd2",
   "metadata": {},
   "outputs": [],
   "source": []
  }
 ],
 "metadata": {
  "kernelspec": {
   "display_name": "Python 3 (ipykernel)",
   "language": "python",
   "name": "python3"
  },
  "language_info": {
   "codemirror_mode": {
    "name": "ipython",
    "version": 3
   },
   "file_extension": ".py",
   "mimetype": "text/x-python",
   "name": "python",
   "nbconvert_exporter": "python",
   "pygments_lexer": "ipython3",
   "version": "3.8.13"
  }
 },
 "nbformat": 4,
 "nbformat_minor": 5
}
