{
 "cells": [
  {
   "cell_type": "code",
   "execution_count": 1,
   "id": "1a2a5dd3",
   "metadata": {},
   "outputs": [],
   "source": [
    "import optax\n",
    "import jaxopt\n",
    "import jax\n",
    "import jax.numpy as jnp"
   ]
  },
  {
   "cell_type": "markdown",
   "id": "0bb2a9aa",
   "metadata": {},
   "source": [
    "### Function without additional arguments"
   ]
  },
  {
   "cell_type": "code",
   "execution_count": 2,
   "id": "ba71463d",
   "metadata": {},
   "outputs": [],
   "source": [
    "def cost(theta):\n",
    "    return jnp.linalg.norm(theta)"
   ]
  },
  {
   "cell_type": "code",
   "execution_count": 3,
   "id": "ca6c8ace",
   "metadata": {},
   "outputs": [
    {
     "name": "stderr",
     "output_type": "stream",
     "text": [
      "WARNING:absl:No GPU/TPU found, falling back to CPU. (Set TF_CPP_MIN_LOG_LEVEL=0 and rerun for more info.)\n"
     ]
    }
   ],
   "source": [
    "theta_init = jnp.array([4.0, 4.0])"
   ]
  },
  {
   "cell_type": "code",
   "execution_count": 4,
   "id": "0c2921e7",
   "metadata": {},
   "outputs": [
    {
     "data": {
      "text/plain": [
       "(DeviceArray(5.656854, dtype=float32), DeviceArray(4.2426405, dtype=float32))"
      ]
     },
     "execution_count": 4,
     "metadata": {},
     "output_type": "execute_result"
    }
   ],
   "source": [
    "cost(theta_init), cost(theta_init - 1)"
   ]
  },
  {
   "cell_type": "code",
   "execution_count": 5,
   "id": "a3f64cbf",
   "metadata": {},
   "outputs": [],
   "source": [
    "solver = jaxopt.OptaxSolver(opt=optax.adam(1e-1), fun=cost, maxiter=1000, tol=1e-8)"
   ]
  },
  {
   "cell_type": "code",
   "execution_count": 6,
   "id": "9f75e1ca",
   "metadata": {},
   "outputs": [],
   "source": [
    "state = solver.init_state(theta_init)"
   ]
  },
  {
   "cell_type": "code",
   "execution_count": 7,
   "id": "0eb9cf2e",
   "metadata": {},
   "outputs": [
    {
     "name": "stdout",
     "output_type": "stream",
     "text": [
      "[0] 5.5154337882995605\n",
      "[50] 0.377135694026947\n",
      "[100] 0.028257401660084724\n",
      "[150] 0.031453393399715424\n",
      "[200] 0.009030254557728767\n",
      "[250] 0.009096682071685791\n",
      "[300] 0.009097049944102764\n",
      "[350] 0.009097031317651272\n",
      "[400] 0.009097004309296608\n",
      "[450] 0.00909700058400631\n",
      "[500] 0.009096973575651646\n",
      "[550] 0.009097002446651459\n",
      "[600] 0.009096972644329071\n",
      "[650] 0.00909694004803896\n",
      "[700] 0.009096913039684296\n",
      "[750] 0.009096892550587654\n",
      "[800] 0.009096899069845676\n",
      "[850] 0.009096900932490826\n",
      "[900] 0.009096892550587654\n",
      "[950] 0.009096898138523102\n"
     ]
    }
   ],
   "source": [
    "@jax.jit\n",
    "def jit_update(theta, state):\n",
    "    return solver.update(theta, state)\n",
    "\n",
    "\n",
    "theta = theta_init\n",
    "\n",
    "for i in range(1000):\n",
    "    theta, state = jit_update(theta, state)\n",
    "    if i % 50 == 0:\n",
    "        print(f\"[{i}] {cost(theta)}\")"
   ]
  },
  {
   "cell_type": "code",
   "execution_count": 8,
   "id": "b6dcd4f4",
   "metadata": {},
   "outputs": [
    {
     "data": {
      "text/plain": [
       "DeviceArray([-0.00835913, -0.00835913], dtype=float32)"
      ]
     },
     "execution_count": 8,
     "metadata": {},
     "output_type": "execute_result"
    }
   ],
   "source": [
    "theta"
   ]
  },
  {
   "cell_type": "markdown",
   "id": "052bf4cd",
   "metadata": {},
   "source": [
    "### Function with additional arguments"
   ]
  },
  {
   "cell_type": "code",
   "execution_count": 9,
   "id": "cd6eae6c",
   "metadata": {},
   "outputs": [],
   "source": [
    "def cost_2(theta, X, y):\n",
    "    y_hat = jnp.dot(X, theta[1:]) + theta[0]\n",
    "    return jnp.linalg.norm(y - y_hat)"
   ]
  },
  {
   "cell_type": "code",
   "execution_count": 10,
   "id": "273a2bd2",
   "metadata": {},
   "outputs": [],
   "source": [
    "X_true = jnp.linspace(-1, 1, 100)\n",
    "y = 4*X_true + 5\n",
    "X_true = X_true.reshape(-1, 1)"
   ]
  },
  {
   "cell_type": "code",
   "execution_count": 11,
   "id": "0e8dbddd",
   "metadata": {},
   "outputs": [],
   "source": [
    "theta_init = jnp.array([-2., 2.])"
   ]
  },
  {
   "cell_type": "code",
   "execution_count": 12,
   "id": "c20d7770",
   "metadata": {},
   "outputs": [
    {
     "data": {
      "text/plain": [
       "DeviceArray(70.96497, dtype=float32)"
      ]
     },
     "execution_count": 12,
     "metadata": {},
     "output_type": "execute_result"
    }
   ],
   "source": [
    "cost_2(theta_init, X_true, y)"
   ]
  },
  {
   "cell_type": "code",
   "execution_count": 13,
   "id": "bbd8ffb9",
   "metadata": {},
   "outputs": [
    {
     "data": {
      "text/plain": [
       "DeviceArray(0., dtype=float32)"
      ]
     },
     "execution_count": 13,
     "metadata": {},
     "output_type": "execute_result"
    }
   ],
   "source": [
    "cost_2(jnp.array([5, 4]), X_true, y)"
   ]
  },
  {
   "cell_type": "code",
   "execution_count": 14,
   "id": "2987ab31",
   "metadata": {},
   "outputs": [],
   "source": [
    "solver = jaxopt.OptaxSolver(opt=optax.adam(1e-2), fun=cost_2, maxiter=1000, tol=1e-8)"
   ]
  },
  {
   "cell_type": "code",
   "execution_count": 15,
   "id": "d0090711",
   "metadata": {},
   "outputs": [],
   "source": [
    "state = solver.init_state(theta_init)"
   ]
  },
  {
   "cell_type": "code",
   "execution_count": 16,
   "id": "47bfcbb5",
   "metadata": {},
   "outputs": [
    {
     "name": "stdout",
     "output_type": "stream",
     "text": [
      "[0] 70.85675811767578\n",
      "[50] 65.48595428466797\n",
      "[100] 60.20701217651367\n",
      "[150] 55.017539978027344\n",
      "[200] 49.902427673339844\n",
      "[250] 44.83944320678711\n",
      "[300] 39.80586624145508\n",
      "[350] 34.785404205322266\n",
      "[400] 29.770063400268555\n",
      "[450] 24.757165908813477\n",
      "[500] 19.745960235595703\n",
      "[550] 14.736101150512695\n",
      "[600] 9.727349281311035\n",
      "[650] 4.719514846801758\n",
      "[700] 0.22945404052734375\n",
      "[750] 0.03783104941248894\n",
      "[800] 0.013602446764707565\n",
      "[850] 0.021956508979201317\n",
      "[900] 0.01089780405163765\n",
      "[950] 0.00854769628494978\n"
     ]
    }
   ],
   "source": [
    "@jax.jit\n",
    "def jit_update(theta, state, data):\n",
    "    X, y = data\n",
    "    return solver.update(theta, state, X, y)\n",
    "\n",
    "\n",
    "theta = theta_init\n",
    "\n",
    "for i in range(1000):\n",
    "    theta, state = jit_update(theta, state, (X_true, y))\n",
    "    if i % 50 == 0:\n",
    "        print(f\"[{i}] {cost_2(theta, X_true, y)}\")"
   ]
  },
  {
   "cell_type": "code",
   "execution_count": 17,
   "id": "9a6e7723",
   "metadata": {},
   "outputs": [
    {
     "data": {
      "text/plain": [
       "DeviceArray([4.999103 , 3.9999988], dtype=float32)"
      ]
     },
     "execution_count": 17,
     "metadata": {},
     "output_type": "execute_result"
    }
   ],
   "source": [
    "theta"
   ]
  },
  {
   "cell_type": "markdown",
   "id": "fb5967d7",
   "metadata": {},
   "source": [
    "### Function with additional arguments and data minibatching"
   ]
  },
  {
   "cell_type": "code",
   "execution_count": 18,
   "id": "95aae35e",
   "metadata": {},
   "outputs": [],
   "source": [
    "def cost_3(theta, data):\n",
    "    X, y = data\n",
    "    y_hat = jnp.dot(X, theta[1:]) + theta[0]\n",
    "    return jnp.linalg.norm(y - y_hat)"
   ]
  },
  {
   "cell_type": "code",
   "execution_count": 19,
   "id": "40ebbdba",
   "metadata": {},
   "outputs": [],
   "source": [
    "rng = jax.random\n",
    "batch_size = 5\n",
    "n_iter = 100\n",
    "n_samples = len(y)\n",
    "\n",
    "def data_iterator():\n",
    "    for _ in range(n_iter):\n",
    "        perm = rng.permutation(key=jax.random.PRNGKey(_), x = n_samples)[:batch_size]\n",
    "        yield X_true[perm], y[perm]"
   ]
  },
  {
   "cell_type": "code",
   "execution_count": 20,
   "id": "7ab18f52",
   "metadata": {},
   "outputs": [],
   "source": [
    "iterator = data_iterator()\n",
    "solver = jaxopt.OptaxSolver(opt=optax.adam(1e-1), fun=cost_3, maxiter=1000, tol=1e-8)\n",
    "res = solver.run_iterator(theta_init, iterator)"
   ]
  },
  {
   "cell_type": "code",
   "execution_count": 21,
   "id": "6fc73847",
   "metadata": {},
   "outputs": [
    {
     "data": {
      "text/plain": [
       "OptStep(params=DeviceArray([5.014913 , 3.9717538], dtype=float32), state=OptaxState(iter_num=DeviceArray(100, dtype=int32, weak_type=True), value=DeviceArray(0.10703757, dtype=float32), error=DeviceArray(1.6834657, dtype=float32), internal_state=(ScaleByAdamState(count=DeviceArray(100, dtype=int32), mu=DeviceArray([ 0.3258862 , -0.21115768], dtype=float32), nu=DeviceArray([0.44145292, 0.04544457], dtype=float32)), EmptyState()), aux=None))"
      ]
     },
     "execution_count": 21,
     "metadata": {},
     "output_type": "execute_result"
    }
   ],
   "source": [
    "res"
   ]
  },
  {
   "cell_type": "code",
   "execution_count": 22,
   "id": "ad0abcd5",
   "metadata": {},
   "outputs": [
    {
     "data": {
      "text/plain": [
       "DeviceArray([5.014913 , 3.9717538], dtype=float32)"
      ]
     },
     "execution_count": 22,
     "metadata": {},
     "output_type": "execute_result"
    }
   ],
   "source": [
    "res.params"
   ]
  }
 ],
 "metadata": {
  "kernelspec": {
   "display_name": "Python 3 (ipykernel)",
   "language": "python",
   "name": "python3"
  },
  "language_info": {
   "codemirror_mode": {
    "name": "ipython",
    "version": 3
   },
   "file_extension": ".py",
   "mimetype": "text/x-python",
   "name": "python",
   "nbconvert_exporter": "python",
   "pygments_lexer": "ipython3",
   "version": "3.9.13"
  }
 },
 "nbformat": 4,
 "nbformat_minor": 5
}
