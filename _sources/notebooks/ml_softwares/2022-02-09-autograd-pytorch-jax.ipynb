{
 "cells": [
  {
   "cell_type": "markdown",
   "id": "c7fde03c",
   "metadata": {},
   "source": [
    "# Autograd in JAX and PyTorch"
   ]
  },
  {
   "cell_type": "markdown",
   "id": "c576bebd",
   "metadata": {},
   "source": [
    "#### Basic Imports"
   ]
  },
  {
   "cell_type": "code",
   "execution_count": 1,
   "id": "57a95614",
   "metadata": {},
   "outputs": [],
   "source": [
    "import torch\n",
    "from jax import grad\n",
    "import jax.numpy as jnp"
   ]
  },
  {
   "cell_type": "markdown",
   "id": "c49d466b",
   "metadata": {},
   "source": [
    "#### Creating scalar variables in PyTorch"
   ]
  },
  {
   "cell_type": "code",
   "execution_count": 2,
   "id": "6c82d126",
   "metadata": {},
   "outputs": [],
   "source": [
    "x_torch = torch.autograd.Variable(torch.tensor(1.), requires_grad=True)\n",
    "y_torch = torch.autograd.Variable(torch.tensor(1.), requires_grad=True)"
   ]
  },
  {
   "cell_type": "markdown",
   "id": "af88a1ae",
   "metadata": {},
   "source": [
    "#### Creating scalar variables in JAX"
   ]
  },
  {
   "cell_type": "code",
   "execution_count": 3,
   "id": "b5c3f52a",
   "metadata": {},
   "outputs": [
    {
     "name": "stderr",
     "output_type": "stream",
     "text": [
      "WARNING:absl:No GPU/TPU found, falling back to CPU. (Set TF_CPP_MIN_LOG_LEVEL=0 and rerun for more info.)\n"
     ]
    }
   ],
   "source": [
    "x_jax = jnp.array(1.)\n",
    "y_jax = jnp.array(1.)"
   ]
  },
  {
   "cell_type": "markdown",
   "id": "29b43b0d",
   "metadata": {},
   "source": [
    "#### Defining a loss on scalar inputs"
   ]
  },
  {
   "cell_type": "code",
   "execution_count": 4,
   "id": "b7f07adf",
   "metadata": {},
   "outputs": [],
   "source": [
    "def loss(x, y):\n",
    "    return x*x + y*y"
   ]
  },
  {
   "cell_type": "markdown",
   "id": "5dd02201",
   "metadata": {},
   "source": [
    "#### Computing the loss on PyTorch input"
   ]
  },
  {
   "cell_type": "code",
   "execution_count": 5,
   "id": "f9141717",
   "metadata": {},
   "outputs": [
    {
     "data": {
      "text/plain": [
       "tensor(2., grad_fn=<AddBackward0>)"
      ]
     },
     "execution_count": 5,
     "metadata": {},
     "output_type": "execute_result"
    }
   ],
   "source": [
    "l_torch  = loss(x_torch, y_torch)\n",
    "l_torch"
   ]
  },
  {
   "cell_type": "markdown",
   "id": "1e3d9e37",
   "metadata": {},
   "source": [
    "#### Computing the loss on JAX input"
   ]
  },
  {
   "cell_type": "code",
   "execution_count": 6,
   "id": "90169db9",
   "metadata": {},
   "outputs": [],
   "source": [
    "l_jax = loss(x_jax, y_jax)"
   ]
  },
  {
   "cell_type": "markdown",
   "id": "9c6a8fc6",
   "metadata": {},
   "source": [
    "#### Computing the gradient on PyTorch input"
   ]
  },
  {
   "cell_type": "code",
   "execution_count": 7,
   "id": "66d21d09",
   "metadata": {},
   "outputs": [
    {
     "data": {
      "text/plain": [
       "(tensor(2.), tensor(2.))"
      ]
     },
     "execution_count": 7,
     "metadata": {},
     "output_type": "execute_result"
    }
   ],
   "source": [
    "l_torch.backward()\n",
    "x_torch.grad, y_torch.grad"
   ]
  },
  {
   "cell_type": "markdown",
   "id": "622f9ecb",
   "metadata": {},
   "source": [
    "#### Computing the gradient on JAX input"
   ]
  },
  {
   "cell_type": "code",
   "execution_count": 8,
   "id": "c3fd93f1",
   "metadata": {},
   "outputs": [
    {
     "data": {
      "text/plain": [
       "(DeviceArray(2., dtype=float32, weak_type=True),\n",
       " DeviceArray(2., dtype=float32, weak_type=True))"
      ]
     },
     "execution_count": 8,
     "metadata": {},
     "output_type": "execute_result"
    }
   ],
   "source": [
    "grad_loss = grad(loss, argnums=[0, 1])\n",
    "grad_loss(x_jax, y_jax)"
   ]
  },
  {
   "cell_type": "markdown",
   "id": "391e70a3",
   "metadata": {},
   "source": [
    "#### Repeating the same procedure as above for both libraries but instead using vector function"
   ]
  },
  {
   "cell_type": "code",
   "execution_count": 9,
   "id": "b0c95cba",
   "metadata": {},
   "outputs": [],
   "source": [
    "def loss(theta):\n",
    "    return theta.T@theta"
   ]
  },
  {
   "cell_type": "code",
   "execution_count": 10,
   "id": "66e34966",
   "metadata": {},
   "outputs": [],
   "source": [
    "theta_torch = torch.autograd.Variable(torch.tensor([1., 1.]), requires_grad=True)"
   ]
  },
  {
   "cell_type": "code",
   "execution_count": 11,
   "id": "4c82cd6f",
   "metadata": {},
   "outputs": [
    {
     "data": {
      "text/plain": [
       "tensor([1., 1.], requires_grad=True)"
      ]
     },
     "execution_count": 11,
     "metadata": {},
     "output_type": "execute_result"
    }
   ],
   "source": [
    "theta_torch"
   ]
  },
  {
   "cell_type": "code",
   "execution_count": 12,
   "id": "80c6faaf",
   "metadata": {},
   "outputs": [
    {
     "data": {
      "text/plain": [
       "tensor(2., grad_fn=<DotBackward0>)"
      ]
     },
     "execution_count": 12,
     "metadata": {},
     "output_type": "execute_result"
    }
   ],
   "source": [
    "l = loss(theta_torch)\n",
    "l"
   ]
  },
  {
   "cell_type": "code",
   "execution_count": 13,
   "id": "30c438a3",
   "metadata": {},
   "outputs": [
    {
     "data": {
      "text/plain": [
       "tensor([2., 2.])"
      ]
     },
     "execution_count": 13,
     "metadata": {},
     "output_type": "execute_result"
    }
   ],
   "source": [
    "l.backward()\n",
    "theta_torch.grad"
   ]
  },
  {
   "cell_type": "code",
   "execution_count": 14,
   "id": "88edf1a4",
   "metadata": {},
   "outputs": [],
   "source": [
    "theta_jax = jnp.array([1., 1.])"
   ]
  },
  {
   "cell_type": "code",
   "execution_count": 15,
   "id": "4869055e",
   "metadata": {},
   "outputs": [
    {
     "data": {
      "text/plain": [
       "DeviceArray(2., dtype=float32)"
      ]
     },
     "execution_count": 15,
     "metadata": {},
     "output_type": "execute_result"
    }
   ],
   "source": [
    "loss(theta_jax)"
   ]
  },
  {
   "cell_type": "code",
   "execution_count": 16,
   "id": "ab3d6b4f",
   "metadata": {},
   "outputs": [],
   "source": [
    "grad_loss = grad(loss, argnums=[0])"
   ]
  },
  {
   "cell_type": "code",
   "execution_count": 17,
   "id": "3dfb3a28",
   "metadata": {},
   "outputs": [
    {
     "data": {
      "text/plain": [
       "(DeviceArray([2., 2.], dtype=float32),)"
      ]
     },
     "execution_count": 17,
     "metadata": {},
     "output_type": "execute_result"
    }
   ],
   "source": [
    "grad_loss(theta_jax)"
   ]
  }
 ],
 "metadata": {
  "kernelspec": {
   "display_name": "Python 3 (ipykernel)",
   "language": "python",
   "name": "python3"
  },
  "language_info": {
   "codemirror_mode": {
    "name": "ipython",
    "version": 3
   },
   "file_extension": ".py",
   "mimetype": "text/x-python",
   "name": "python",
   "nbconvert_exporter": "python",
   "pygments_lexer": "ipython3",
   "version": "3.9.7"
  }
 },
 "nbformat": 4,
 "nbformat_minor": 5
}
