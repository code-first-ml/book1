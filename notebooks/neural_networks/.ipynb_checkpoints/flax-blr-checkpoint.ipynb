{
 "cells": [
  {
   "cell_type": "code",
   "execution_count": 133,
   "id": "fd23252b",
   "metadata": {},
   "outputs": [],
   "source": [
    "import jax\n",
    "import jax.numpy as jnp  # JAX NumPy\n",
    "import jax.random as random\n",
    "\n",
    "from flax import linen as nn  # The Linen API\n",
    "\n",
    "import numpy as np  # Ordinary NumPy\n",
    "import optax  # Optimizers\n",
    "import matplotlib.pyplot as plt\n",
    "\n",
    "import blackjax\n",
    "\n",
    "%matplotlib inline"
   ]
  },
  {
   "cell_type": "code",
   "execution_count": 36,
   "id": "22605baa",
   "metadata": {},
   "outputs": [],
   "source": [
    "model = nn.Dense(features=1)"
   ]
  },
  {
   "cell_type": "code",
   "execution_count": 37,
   "id": "5e76a4d3",
   "metadata": {},
   "outputs": [
    {
     "data": {
      "text/plain": [
       "Dense(\n",
       "    # attributes\n",
       "    features = 1\n",
       "    use_bias = True\n",
       "    dtype = None\n",
       "    param_dtype = float32\n",
       "    precision = None\n",
       "    kernel_init = init\n",
       "    bias_init = zeros\n",
       ")"
      ]
     },
     "execution_count": 37,
     "metadata": {},
     "output_type": "execute_result"
    }
   ],
   "source": [
    "model"
   ]
  },
  {
   "cell_type": "code",
   "execution_count": 38,
   "id": "45ed3021",
   "metadata": {},
   "outputs": [
    {
     "data": {
      "text/plain": [
       "FrozenDict({\n",
       "    params: {\n",
       "        bias: (1,),\n",
       "        kernel: (1, 1),\n",
       "    },\n",
       "})"
      ]
     },
     "execution_count": 38,
     "metadata": {},
     "output_type": "execute_result"
    }
   ],
   "source": [
    "key1, key2 = random.split(random.PRNGKey(0))\n",
    "x = random.normal(key1, (1,)) # Dummy input\n",
    "params = model.init(key2, x) # Initialization call\n",
    "jax.tree_map(lambda x: x.shape, params) # Checking output shapes"
   ]
  },
  {
   "cell_type": "code",
   "execution_count": 32,
   "id": "055dcbdd",
   "metadata": {},
   "outputs": [
    {
     "data": {
      "text/plain": [
       "FrozenDict({\n",
       "    params: {\n",
       "        kernel: DeviceArray([[2.1127698]], dtype=float32),\n",
       "        bias: DeviceArray([0.], dtype=float32),\n",
       "    },\n",
       "})"
      ]
     },
     "execution_count": 32,
     "metadata": {},
     "output_type": "execute_result"
    }
   ],
   "source": [
    "params"
   ]
  },
  {
   "cell_type": "markdown",
   "id": "0d03ea8e",
   "metadata": {},
   "source": [
    "The bias seems to be 0. Let us do something about it."
   ]
  },
  {
   "cell_type": "code",
   "execution_count": 35,
   "id": "165477ba",
   "metadata": {},
   "outputs": [
    {
     "ename": "IndexError",
     "evalue": "tuple index out of range",
     "output_type": "error",
     "traceback": [
      "\u001b[0;31m---------------------------------------------------------------------------\u001b[0m",
      "\u001b[0;31mIndexError\u001b[0m                                Traceback (most recent call last)",
      "Input \u001b[0;32mIn [35]\u001b[0m, in \u001b[0;36m<cell line: 8>\u001b[0;34m()\u001b[0m\n\u001b[1;32m      1\u001b[0m model \u001b[38;5;241m=\u001b[39m nn\u001b[38;5;241m.\u001b[39mDense(\n\u001b[1;32m      2\u001b[0m     features\u001b[38;5;241m=\u001b[39m\u001b[38;5;241m1\u001b[39m,\n\u001b[1;32m      3\u001b[0m     kernel_init\u001b[38;5;241m=\u001b[39mjax\u001b[38;5;241m.\u001b[39mnn\u001b[38;5;241m.\u001b[39minitializers\u001b[38;5;241m.\u001b[39mkaiming_uniform(),\n\u001b[1;32m      4\u001b[0m     bias_init\u001b[38;5;241m=\u001b[39mjax\u001b[38;5;241m.\u001b[39mnn\u001b[38;5;241m.\u001b[39minitializers\u001b[38;5;241m.\u001b[39mkaiming_uniform(),\n\u001b[1;32m      5\u001b[0m )\n\u001b[1;32m      7\u001b[0m model\n\u001b[0;32m----> 8\u001b[0m params \u001b[38;5;241m=\u001b[39m \u001b[43mmodel\u001b[49m\u001b[38;5;241;43m.\u001b[39;49m\u001b[43minit\u001b[49m\u001b[43m(\u001b[49m\u001b[43mkey2\u001b[49m\u001b[43m,\u001b[49m\u001b[43m \u001b[49m\u001b[43mx\u001b[49m\u001b[43m)\u001b[49m\n",
      "    \u001b[0;31m[... skipping hidden 11 frame]\u001b[0m\n",
      "File \u001b[0;32m~/miniconda3/lib/python3.9/site-packages/flax/linen/linear.py:191\u001b[0m, in \u001b[0;36mDense.__call__\u001b[0;34m(self, inputs)\u001b[0m\n\u001b[1;32m    186\u001b[0m kernel \u001b[38;5;241m=\u001b[39m \u001b[38;5;28mself\u001b[39m\u001b[38;5;241m.\u001b[39mparam(\u001b[38;5;124m'\u001b[39m\u001b[38;5;124mkernel\u001b[39m\u001b[38;5;124m'\u001b[39m,\n\u001b[1;32m    187\u001b[0m                     \u001b[38;5;28mself\u001b[39m\u001b[38;5;241m.\u001b[39mkernel_init,\n\u001b[1;32m    188\u001b[0m                     (jnp\u001b[38;5;241m.\u001b[39mshape(inputs)[\u001b[38;5;241m-\u001b[39m\u001b[38;5;241m1\u001b[39m], \u001b[38;5;28mself\u001b[39m\u001b[38;5;241m.\u001b[39mfeatures),\n\u001b[1;32m    189\u001b[0m                     \u001b[38;5;28mself\u001b[39m\u001b[38;5;241m.\u001b[39mparam_dtype)\n\u001b[1;32m    190\u001b[0m \u001b[38;5;28;01mif\u001b[39;00m \u001b[38;5;28mself\u001b[39m\u001b[38;5;241m.\u001b[39muse_bias:\n\u001b[0;32m--> 191\u001b[0m   bias \u001b[38;5;241m=\u001b[39m \u001b[38;5;28;43mself\u001b[39;49m\u001b[38;5;241;43m.\u001b[39;49m\u001b[43mparam\u001b[49m\u001b[43m(\u001b[49m\u001b[38;5;124;43m'\u001b[39;49m\u001b[38;5;124;43mbias\u001b[39;49m\u001b[38;5;124;43m'\u001b[39;49m\u001b[43m,\u001b[49m\u001b[43m \u001b[49m\u001b[38;5;28;43mself\u001b[39;49m\u001b[38;5;241;43m.\u001b[39;49m\u001b[43mbias_init\u001b[49m\u001b[43m,\u001b[49m\u001b[43m \u001b[49m\u001b[43m(\u001b[49m\u001b[38;5;28;43mself\u001b[39;49m\u001b[38;5;241;43m.\u001b[39;49m\u001b[43mfeatures\u001b[49m\u001b[43m,\u001b[49m\u001b[43m)\u001b[49m\u001b[43m,\u001b[49m\n\u001b[1;32m    192\u001b[0m \u001b[43m                    \u001b[49m\u001b[38;5;28;43mself\u001b[39;49m\u001b[38;5;241;43m.\u001b[39;49m\u001b[43mparam_dtype\u001b[49m\u001b[43m)\u001b[49m\n\u001b[1;32m    193\u001b[0m \u001b[38;5;28;01melse\u001b[39;00m:\n\u001b[1;32m    194\u001b[0m   bias \u001b[38;5;241m=\u001b[39m \u001b[38;5;28;01mNone\u001b[39;00m\n",
      "    \u001b[0;31m[... skipping hidden 2 frame]\u001b[0m\n",
      "File \u001b[0;32m~/miniconda3/lib/python3.9/site-packages/jax/_src/nn/initializers.py:218\u001b[0m, in \u001b[0;36mvariance_scaling.<locals>.init\u001b[0;34m(key, shape, dtype)\u001b[0m\n\u001b[1;32m    216\u001b[0m dtype \u001b[38;5;241m=\u001b[39m dtypes\u001b[38;5;241m.\u001b[39mcanonicalize_dtype(dtype)\n\u001b[1;32m    217\u001b[0m shape \u001b[38;5;241m=\u001b[39m core\u001b[38;5;241m.\u001b[39mas_named_shape(shape)\n\u001b[0;32m--> 218\u001b[0m fan_in, fan_out \u001b[38;5;241m=\u001b[39m \u001b[43m_compute_fans\u001b[49m\u001b[43m(\u001b[49m\u001b[43mshape\u001b[49m\u001b[43m,\u001b[49m\u001b[43m \u001b[49m\u001b[43min_axis\u001b[49m\u001b[43m,\u001b[49m\u001b[43m \u001b[49m\u001b[43mout_axis\u001b[49m\u001b[43m,\u001b[49m\u001b[43m \u001b[49m\u001b[43mbatch_axis\u001b[49m\u001b[43m)\u001b[49m\n\u001b[1;32m    219\u001b[0m \u001b[38;5;28;01mif\u001b[39;00m mode \u001b[38;5;241m==\u001b[39m \u001b[38;5;124m\"\u001b[39m\u001b[38;5;124mfan_in\u001b[39m\u001b[38;5;124m\"\u001b[39m: denominator \u001b[38;5;241m=\u001b[39m fan_in\n\u001b[1;32m    220\u001b[0m \u001b[38;5;28;01melif\u001b[39;00m mode \u001b[38;5;241m==\u001b[39m \u001b[38;5;124m\"\u001b[39m\u001b[38;5;124mfan_out\u001b[39m\u001b[38;5;124m\"\u001b[39m: denominator \u001b[38;5;241m=\u001b[39m fan_out\n",
      "File \u001b[0;32m~/miniconda3/lib/python3.9/site-packages/jax/_src/nn/initializers.py:130\u001b[0m, in \u001b[0;36m_compute_fans\u001b[0;34m(shape, in_axis, out_axis, batch_axis)\u001b[0m\n\u001b[1;32m    123\u001b[0m \u001b[38;5;124;03m\"\"\"\u001b[39;00m\n\u001b[1;32m    124\u001b[0m \u001b[38;5;124;03mCompute effective input and output sizes for a linear or convolutional layer.\u001b[39;00m\n\u001b[1;32m    125\u001b[0m \n\u001b[1;32m    126\u001b[0m \u001b[38;5;124;03mAxes not in in_axis, out_axis, or batch_axis are assumed to constitute the\u001b[39;00m\n\u001b[1;32m    127\u001b[0m \u001b[38;5;124;03m\"receptive field\" of a convolution (kernel spatial dimensions).\u001b[39;00m\n\u001b[1;32m    128\u001b[0m \u001b[38;5;124;03m\"\"\"\u001b[39;00m\n\u001b[1;32m    129\u001b[0m \u001b[38;5;28;01mif\u001b[39;00m \u001b[38;5;28misinstance\u001b[39m(in_axis, \u001b[38;5;28mint\u001b[39m):\n\u001b[0;32m--> 130\u001b[0m   in_size \u001b[38;5;241m=\u001b[39m \u001b[43mshape\u001b[49m\u001b[43m[\u001b[49m\u001b[43min_axis\u001b[49m\u001b[43m]\u001b[49m\n\u001b[1;32m    131\u001b[0m \u001b[38;5;28;01melse\u001b[39;00m:\n\u001b[1;32m    132\u001b[0m   in_size \u001b[38;5;241m=\u001b[39m \u001b[38;5;28mint\u001b[39m(np\u001b[38;5;241m.\u001b[39mprod([shape[i] \u001b[38;5;28;01mfor\u001b[39;00m i \u001b[38;5;129;01min\u001b[39;00m in_axis]))\n",
      "File \u001b[0;32m~/miniconda3/lib/python3.9/site-packages/jax/core.py:1659\u001b[0m, in \u001b[0;36mNamedShape.__getitem__\u001b[0;34m(self, idx)\u001b[0m\n\u001b[1;32m   1657\u001b[0m \u001b[38;5;28;01mtry\u001b[39;00m:\n\u001b[1;32m   1658\u001b[0m   idx \u001b[38;5;241m=\u001b[39m operator\u001b[38;5;241m.\u001b[39mindex(idx)\n\u001b[0;32m-> 1659\u001b[0m   \u001b[38;5;28;01mreturn\u001b[39;00m \u001b[38;5;28;43mself\u001b[39;49m\u001b[38;5;241;43m.\u001b[39;49m\u001b[43m__positional\u001b[49m\u001b[43m[\u001b[49m\u001b[43midx\u001b[49m\u001b[43m]\u001b[49m\n\u001b[1;32m   1660\u001b[0m \u001b[38;5;28;01mexcept\u001b[39;00m \u001b[38;5;167;01mTypeError\u001b[39;00m:\n\u001b[1;32m   1661\u001b[0m   \u001b[38;5;28;01mpass\u001b[39;00m\n",
      "\u001b[0;31mIndexError\u001b[0m: tuple index out of range"
     ]
    }
   ],
   "source": [
    "model = nn.Dense(\n",
    "    features=1,\n",
    "    kernel_init=jax.nn.initializers.kaiming_uniform(),\n",
    "    bias_init=jax.nn.initializers.kaiming_uniform(),\n",
    ")\n",
    "\n",
    "model\n",
    "params = model.init(key2, x)  # Initialization call\n",
    "#jax.tree_map(lambda x: x.shape, params)  # Checking output shapes"
   ]
  },
  {
   "cell_type": "code",
   "execution_count": 27,
   "id": "c86efd22",
   "metadata": {},
   "outputs": [
    {
     "data": {
      "text/plain": [
       "DeviceArray([0.14389051], dtype=float32)"
      ]
     },
     "execution_count": 27,
     "metadata": {},
     "output_type": "execute_result"
    }
   ],
   "source": [
    "\n",
    "# params = model.init(key2, x) \n",
    "x"
   ]
  },
  {
   "cell_type": "code",
   "execution_count": 71,
   "id": "389db634",
   "metadata": {},
   "outputs": [],
   "source": [
    "n_samples = 100\n",
    "xs = jnp.linspace(-2, 2, n_samples).reshape(-1, 1)"
   ]
  },
  {
   "cell_type": "markdown",
   "id": "677b3257",
   "metadata": {},
   "source": [
    "### Creating training dataset\n",
    "#### Method 1"
   ]
  },
  {
   "cell_type": "code",
   "execution_count": 72,
   "id": "88279429",
   "metadata": {},
   "outputs": [],
   "source": [
    "f = jnp.dot(xs, params['params']['kernel']) + params['params']['bias']\n",
    "y = f + random.normal(key = random.PRNGKey(0), shape = (n_samples,1))"
   ]
  },
  {
   "cell_type": "markdown",
   "id": "73213081",
   "metadata": {},
   "source": [
    "#### Method 2 (using model.apply)"
   ]
  },
  {
   "cell_type": "code",
   "execution_count": 81,
   "id": "d911ca1f",
   "metadata": {},
   "outputs": [],
   "source": [
    "f = model.apply(params,xs)\n",
    "y = f + random.normal(key = random.PRNGKey(0), shape = (n_samples,1))"
   ]
  },
  {
   "cell_type": "code",
   "execution_count": 82,
   "id": "1e0ebf62",
   "metadata": {},
   "outputs": [
    {
     "data": {
      "text/plain": [
       "<matplotlib.legend.Legend at 0x1b14c4970>"
      ]
     },
     "execution_count": 82,
     "metadata": {},
     "output_type": "execute_result"
    },
    {
     "data": {
      "image/png": "[encoded data removed]",
      "text/plain": [
       "<Figure size 432x288 with 1 Axes>"
      ]
     },
     "metadata": {
      "needs_background": "light"
     },
     "output_type": "display_data"
    }
   ],
   "source": [
    "plt.scatter(xs, y, label='Data')\n",
    "plt.plot(xs, f, label='f', color='C1')\n",
    "plt.legend()"
   ]
  },
  {
   "cell_type": "code",
   "execution_count": 83,
   "id": "9b739ad4",
   "metadata": {},
   "outputs": [
    {
     "data": {
      "text/plain": [
       "FrozenDict({\n",
       "    params: {\n",
       "        kernel: DeviceArray([[2.1127698]], dtype=float32),\n",
       "        bias: DeviceArray([0.], dtype=float32),\n",
       "    },\n",
       "})"
      ]
     },
     "execution_count": 83,
     "metadata": {},
     "output_type": "execute_result"
    }
   ],
   "source": [
    "params"
   ]
  },
  {
   "cell_type": "code",
   "execution_count": 84,
   "id": "6b7b1d37",
   "metadata": {},
   "outputs": [],
   "source": [
    "import tensorflow_probability.substrates.jax as tfp\n",
    "tfd = tfp.distributions"
   ]
  },
  {
   "cell_type": "code",
   "execution_count": 109,
   "id": "9097b02a",
   "metadata": {},
   "outputs": [],
   "source": [
    "prior = {}\n",
    "for k, val in params['params'].items():\n",
    "    prior[k] = tfd.Normal(loc = jnp.zeros_like(val), scale = 1., )"
   ]
  },
  {
   "cell_type": "code",
   "execution_count": 110,
   "id": "6d548b61",
   "metadata": {},
   "outputs": [
    {
     "data": {
      "text/plain": [
       "{'kernel': <tfp.distributions.Normal 'Normal' batch_shape=[1, 1] event_shape=[] dtype=float32>,\n",
       " 'bias': <tfp.distributions.Normal 'Normal' batch_shape=[1] event_shape=[] dtype=float32>}"
      ]
     },
     "execution_count": 110,
     "metadata": {},
     "output_type": "execute_result"
    }
   ],
   "source": [
    "prior"
   ]
  },
  {
   "cell_type": "code",
   "execution_count": 125,
   "id": "ad984ec2",
   "metadata": {},
   "outputs": [],
   "source": [
    "def eval_logprior(prior, params):\n",
    "    k = params['params']['kernel']\n",
    "    b = params['params']['bias']\n",
    "    return (prior['kernel'].log_prob(k) + prior['bias'].log_prob(b)).item()"
   ]
  },
  {
   "cell_type": "code",
   "execution_count": 127,
   "id": "73b0dabe",
   "metadata": {},
   "outputs": [
    {
     "data": {
      "text/plain": [
       "-4.069775581359863"
      ]
     },
     "execution_count": 127,
     "metadata": {},
     "output_type": "execute_result"
    }
   ],
   "source": [
    "eval_logprior(\n",
    "    prior, params\n",
    ")"
   ]
  },
  {
   "cell_type": "code",
   "execution_count": 129,
   "id": "c83d41f4",
   "metadata": {},
   "outputs": [],
   "source": [
    "def eval_ll(model, params, x, y):\n",
    "    d = tfd.Normal(loc = model.apply(params, x), scale=1)\n",
    "    return d.log_prob(y).sum()"
   ]
  },
  {
   "cell_type": "code",
   "execution_count": 130,
   "id": "74c0d61e",
   "metadata": {},
   "outputs": [
    {
     "data": {
      "text/plain": [
       "DeviceArray(-464.34265, dtype=float32)"
      ]
     },
     "execution_count": 130,
     "metadata": {},
     "output_type": "execute_result"
    }
   ],
   "source": [
    "eval_ll(model, params, x, y)"
   ]
  },
  {
   "cell_type": "code",
   "execution_count": 136,
   "id": "230457d4",
   "metadata": {},
   "outputs": [],
   "source": [
    "def eval_log_joint(params, model, prior, x, y):\n",
    "    return eval_logprior(prior, params) + eval_ll(model, params, x, y)"
   ]
  },
  {
   "cell_type": "code",
   "execution_count": 137,
   "id": "1b8a1f33",
   "metadata": {},
   "outputs": [
    {
     "data": {
      "text/plain": [
       "DeviceArray(-468.4124, dtype=float32)"
      ]
     },
     "execution_count": 137,
     "metadata": {},
     "output_type": "execute_result"
    }
   ],
   "source": [
    "eval_log_joint(params, model, prior, x, y)"
   ]
  },
  {
   "cell_type": "code",
   "execution_count": 142,
   "id": "c772540f",
   "metadata": {},
   "outputs": [
    {
     "ename": "TypeError",
     "evalue": "eval_log_joint() missing 4 required positional arguments: 'model', 'prior', 'x', and 'y'",
     "output_type": "error",
     "traceback": [
      "\u001b[0;31m---------------------------------------------------------------------------\u001b[0m",
      "\u001b[0;31mTypeError\u001b[0m                                 Traceback (most recent call last)",
      "Input \u001b[0;32mIn [142]\u001b[0m, in \u001b[0;36m<cell line: 7>\u001b[0;34m()\u001b[0m\n\u001b[1;32m      3\u001b[0m params_init \u001b[38;5;241m=\u001b[39m model\u001b[38;5;241m.\u001b[39minit(rng_key, x)\n\u001b[1;32m      6\u001b[0m rmh \u001b[38;5;241m=\u001b[39m blackjax\u001b[38;5;241m.\u001b[39mrmh(eval_log_joint, sigma\u001b[38;5;241m=\u001b[39mjnp\u001b[38;5;241m.\u001b[39mones(\u001b[38;5;241m2\u001b[39m) \u001b[38;5;241m*\u001b[39m \u001b[38;5;241m0.7\u001b[39m)\n\u001b[0;32m----> 7\u001b[0m initial_state \u001b[38;5;241m=\u001b[39m \u001b[43mrmh\u001b[49m\u001b[38;5;241;43m.\u001b[39;49m\u001b[43minit\u001b[49m\u001b[43m(\u001b[49m\u001b[43mparams_init\u001b[49m\u001b[43m)\u001b[49m\n",
      "File \u001b[0;32m~/miniconda3/lib/python3.9/site-packages/blackjax/kernels.py:547\u001b[0m, in \u001b[0;36mrmh.__new__.<locals>.init_fn\u001b[0;34m(position)\u001b[0m\n\u001b[1;32m    546\u001b[0m \u001b[38;5;28;01mdef\u001b[39;00m \u001b[38;5;21minit_fn\u001b[39m(position: PyTree):\n\u001b[0;32m--> 547\u001b[0m     \u001b[38;5;28;01mreturn\u001b[39;00m \u001b[38;5;28;43mcls\u001b[39;49m\u001b[38;5;241;43m.\u001b[39;49m\u001b[43minit\u001b[49m\u001b[43m(\u001b[49m\u001b[43mposition\u001b[49m\u001b[43m,\u001b[49m\u001b[43m \u001b[49m\u001b[43mlogprob_fn\u001b[49m\u001b[43m)\u001b[49m\n",
      "File \u001b[0;32m~/miniconda3/lib/python3.9/site-packages/blackjax/mcmc/rmh.py:59\u001b[0m, in \u001b[0;36minit\u001b[0;34m(position, logprob_fn)\u001b[0m\n\u001b[1;32m     47\u001b[0m \u001b[38;5;28;01mdef\u001b[39;00m \u001b[38;5;21minit\u001b[39m(position: PyTree, logprob_fn: Callable) \u001b[38;5;241m-\u001b[39m\u001b[38;5;241m>\u001b[39m RMHState:\n\u001b[1;32m     48\u001b[0m     \u001b[38;5;124;03m\"\"\"Create a chain state from a position.\u001b[39;00m\n\u001b[1;32m     49\u001b[0m \n\u001b[1;32m     50\u001b[0m \u001b[38;5;124;03m    Parameters:\u001b[39;00m\n\u001b[0;32m   (...)\u001b[0m\n\u001b[1;32m     57\u001b[0m \n\u001b[1;32m     58\u001b[0m \u001b[38;5;124;03m    \"\"\"\u001b[39;00m\n\u001b[0;32m---> 59\u001b[0m     \u001b[38;5;28;01mreturn\u001b[39;00m RMHState(position, \u001b[43mlogprob_fn\u001b[49m\u001b[43m(\u001b[49m\u001b[43mposition\u001b[49m\u001b[43m)\u001b[49m)\n",
      "\u001b[0;31mTypeError\u001b[0m: eval_log_joint() missing 4 required positional arguments: 'model', 'prior', 'x', and 'y'"
     ]
    }
   ],
   "source": [
    "rng_key = random.PRNGKey(314)\n",
    "\n",
    "params_init = model.init(rng_key, x)\n",
    "\n",
    "\n",
    "rmh = blackjax.rmh(eval_log_joint, sigma=jnp.ones(2) * 0.7)\n",
    "initial_state = rmh.init(params_init)"
   ]
  },
  {
   "cell_type": "code",
   "execution_count": null,
   "id": "f7e32be0",
   "metadata": {},
   "outputs": [],
   "source": []
  }
 ],
 "metadata": {
  "kernelspec": {
   "display_name": "Python 3 (ipykernel)",
   "language": "python",
   "name": "python3"
  },
  "language_info": {
   "codemirror_mode": {
    "name": "ipython",
    "version": 3
   },
   "file_extension": ".py",
   "mimetype": "text/x-python",
   "name": "python",
   "nbconvert_exporter": "python",
   "pygments_lexer": "ipython3",
   "version": "3.9.13"
  }
 },
 "nbformat": 4,
 "nbformat_minor": 5
}
