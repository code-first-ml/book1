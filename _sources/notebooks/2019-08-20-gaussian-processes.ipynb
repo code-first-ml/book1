{
 "cells": [
  {
   "cell_type": "markdown",
   "metadata": {
    "id": "J2R-rfC3b6H8"
   },
   "source": [
    "# Gaussian Processes\n",
    "\n",
    "Author: [Nipun Batra](https://nipunbatra.github.io/)"
   ]
  },
  {
   "cell_type": "markdown",
   "metadata": {
    "id": "rx1CmQcUb6IH"
   },
   "source": [
    "![](https://github.com/nipunbatra/blog/blob/master/_notebooks/20d-conditional-main.gif?raw=1)"
   ]
  },
  {
   "cell_type": "markdown",
   "metadata": {
    "id": "z9W_-Dnhb6II"
   },
   "source": [
    "Let us look at the GIF above. It shows a non-linear fit with uncertainty on a set of points in the 2d space. The uncertainty is shown by the gray shadowed region. The animation shows how the fit and the uncertainty varies as we keep adding more points (shown as big circles). As expected, as more points are added, the uncertainty of the fit in the vicinity of the added points reduces. This is an example of Gaussian Processes (GP) regression in play."
   ]
  },
  {
   "cell_type": "markdown",
   "metadata": {
    "id": "TO2LjJmBb6II"
   },
   "source": [
    "### Introduction"
   ]
  },
  {
   "cell_type": "markdown",
   "metadata": {
    "id": "qNPJddbBb6II"
   },
   "source": [
    "There exist some great online resources for Gaussian Processes (GPs) including an excellent recent [Distill.Pub article](https://www.jgoertler.com/visual-exploration-gaussian-processes/). This blog post is an attempt with a programatic flavour. In this notebook, we will build the intuition and learn some basics of GPs. This notebook is heavily inspired by the awesome tutorial by Richard Turner. Here is the link to the [slides](http://cbl.eng.cam.ac.uk/pub/Public/Turner/News/imperial-gp-tutorial.pdf) and [video](https://www.youtube.com/watch?v=92-98SYOdlY). Lectures videos and notes from Nando De Freitas' [course](https://www.cs.ubc.ca/~nando/540-2013/lectures.html) are an amazing resource for GPs (and anything ML!)."
   ]
  },
  {
   "cell_type": "markdown",
   "metadata": {
    "id": "Am0TaR5_b6IJ"
   },
   "source": [
    "### Some imports"
   ]
  },
  {
   "cell_type": "code",
   "execution_count": 1,
   "metadata": {
    "id": "2hj8FMSQb6IJ"
   },
   "outputs": [],
   "source": [
    "import numpy as np\n",
    "import matplotlib.pyplot as plt\n",
    "from matplotlib import rc\n",
    "import warnings\n",
    "warnings.filterwarnings('ignore')\n",
    "%matplotlib inline\n",
    "\n",
    "rc('text', usetex=True)\n",
    "rc('font', size=16)"
   ]
  },
  {
   "cell_type": "markdown",
   "metadata": {
    "id": "P_gH7dhSb6IJ"
   },
   "source": [
    "### A function to make the Matplotlib plots prettier"
   ]
  },
  {
   "cell_type": "code",
   "execution_count": 2,
   "metadata": {
    "id": "GfmtymVGb6IK"
   },
   "outputs": [],
   "source": [
    "SPINE_COLOR = 'gray'\n",
    "\n",
    "def format_axes(ax):\n",
    "    for spine in ['top', 'right']:\n",
    "        ax.spines[spine].set_visible(False)\n",
    "\n",
    "    for spine in ['left', 'bottom']:\n",
    "        ax.spines[spine].set_color(SPINE_COLOR)\n",
    "        ax.spines[spine].set_linewidth(0.5)\n",
    "\n",
    "    ax.xaxis.set_ticks_position('bottom')\n",
    "    ax.yaxis.set_ticks_position('left')\n",
    "\n",
    "    for axis in [ax.xaxis, ax.yaxis]:\n",
    "        axis.set_tick_params(direction='out', color=SPINE_COLOR)\n",
    "\n",
    "    return ax"
   ]
  },
  {
   "cell_type": "markdown",
   "metadata": {
    "id": "Bt5OVa6Vb6IL"
   },
   "source": [
    "### One dimensional Gaussian/Normal"
   ]
  },
  {
   "cell_type": "markdown",
   "metadata": {
    "id": "UBUa4rbDb6IM"
   },
   "source": [
    "We will start the discussion with 1d Gaussians. Let us write some simple code to generate/sample data from $\\mathcal{N}(\\mu=0, \\sigma=1)$"
   ]
  },
  {
   "cell_type": "code",
   "execution_count": 3,
   "metadata": {
    "id": "qdKrTOc5b6IN"
   },
   "outputs": [],
   "source": [
    "one_dim_normal_data = np.random.normal(0, 1, size=10000)"
   ]
  },
  {
   "cell_type": "markdown",
   "metadata": {
    "id": "nvVvzNZeb6IO"
   },
   "source": [
    "Let us now visualise the data in a 1d space using scatter plot"
   ]
  },
  {
   "cell_type": "code",
   "execution_count": 4,
   "metadata": {
    "id": "jhT_IAOnb6IO",
    "outputId": "01d06e1e-bd21-4314-df1a-2727ced98117"
   },
   "outputs": [
    {
     "data": {
      "image/png": "[encoded data removed]",
      "text/plain": [
       "<Figure size 432x288 with 1 Axes>"
      ]
     },
     "metadata": {
      "needs_background": "light"
     },
     "output_type": "display_data"
    }
   ],
   "source": [
    "plt.scatter(one_dim_normal_data, np.zeros_like(one_dim_normal_data), alpha=0.2, c='gray', edgecolors='k', marker='o')\n",
    "format_axes(plt.gca());"
   ]
  },
  {
   "cell_type": "markdown",
   "metadata": {
    "id": "sO7L_U0Ib6IQ"
   },
   "source": [
    "As we would expect, there are a lot of samples close to zero (mean) and as we go further away from zero, the number of samples keeps reducing. We can also visualise the same phenomenon using a normed histogram shown below."
   ]
  },
  {
   "cell_type": "code",
   "execution_count": 5,
   "metadata": {
    "id": "tcXk_YHLb6IQ",
    "outputId": "98a6b386-0205-4e63-a0b8-a7cc9885fa5c"
   },
   "outputs": [
    {
     "data": {
      "image/png": "[encoded data removed]",
      "text/plain": [
       "<Figure size 432x288 with 1 Axes>"
      ]
     },
     "metadata": {
      "needs_background": "light"
     },
     "output_type": "display_data"
    }
   ],
   "source": [
    "plt.hist(one_dim_normal_data, density=True, bins=20, color='gray')\n",
    "format_axes(plt.gca());"
   ]
  },
  {
   "cell_type": "markdown",
   "metadata": {
    "id": "t7blUzg1b6IQ"
   },
   "source": [
    "We can notice that there is a high probability of drawing samples close to the mean and the probability is low far from the mean."
   ]
  },
  {
   "cell_type": "markdown",
   "metadata": {
    "id": "1TQKsJk5b6IR"
   },
   "source": [
    "However, since histograms come with their own set of [caveats](https://jakevdp.github.io/PythonDataScienceHandbook/05.13-kernel-density-estimation.html), let us use kernel desnity estimation for obtaining the probability density of 1d Gaussian."
   ]
  },
  {
   "cell_type": "code",
   "execution_count": 6,
   "metadata": {
    "id": "FWNpm3D1b6IR",
    "outputId": "4876977b-1856-4fb5-fed8-231544ae7a99"
   },
   "outputs": [
    {
     "data": {
      "image/png": "[encoded data removed]",
      "text/plain": [
       "<Figure size 432x288 with 1 Axes>"
      ]
     },
     "metadata": {
      "needs_background": "light"
     },
     "output_type": "display_data"
    }
   ],
   "source": [
    "from sklearn.neighbors import KernelDensity\n",
    "\n",
    "x_d = np.linspace(-4, 4, 100)\n",
    "\n",
    "# instantiate and fit the KDE model\n",
    "kde = KernelDensity(bandwidth=1.0, kernel='gaussian')\n",
    "kde.fit(one_dim_normal_data[:, None])\n",
    "\n",
    "# score_samples returns the log of the probability density\n",
    "logprob = kde.score_samples(x_d[:, None])\n",
    "\n",
    "plt.fill_between(x_d, np.exp(logprob), alpha=0.2, color='gray')\n",
    "plt.plot(one_dim_normal_data, np.full_like(one_dim_normal_data, -0.01), '|k', markeredgewidth=0.1)\n",
    "format_axes(plt.gca());"
   ]
  },
  {
   "cell_type": "markdown",
   "metadata": {
    "id": "V4-3HIOCb6IR"
   },
   "source": [
    "We can now see a smoother version of the histogram and can again verify the properties of 1D Gaussian. Let us now vary the variance of 1D Gaussian and make the same plots to enhance our understanding of the concept."
   ]
  },
  {
   "cell_type": "code",
   "execution_count": 7,
   "metadata": {
    "id": "qiRn2Iaqb6IS",
    "outputId": "724f47e5-d1e6-46cc-c525-63205df3323e"
   },
   "outputs": [
    {
     "data": {
      "image/png": "[encoded data removed]",
      "text/plain": [
       "<Figure size 648x216 with 3 Axes>"
      ]
     },
     "metadata": {
      "needs_background": "light"
     },
     "output_type": "display_data"
    }
   ],
   "source": [
    "fig, ax = plt.subplots(ncols=3, sharey=True, figsize=(9, 3))\n",
    "x_d = np.linspace(-6, 6, 400)\n",
    "\n",
    "for i, var in enumerate([0.5, 1, 2]):\n",
    "    one_dim_normal_data = np.random.normal(0, var, size=10000)\n",
    "    kde = KernelDensity(bandwidth=1.0, kernel='gaussian')\n",
    "    kde.fit(one_dim_normal_data[:, None])\n",
    "\n",
    "    # score_samples returns the log of the probability density\n",
    "    logprob = kde.score_samples(x_d[:, None])\n",
    "\n",
    "    ax[i].fill_between(x_d, np.exp(logprob), alpha=0.2, color='gray')\n",
    "    ax[i].plot(one_dim_normal_data, np.full_like(one_dim_normal_data, -0.01), '|k', markeredgewidth=0.1)\n",
    "    format_axes(ax[i])\n",
    "    ax[i].set_title(f\"Variance = {var}\")"
   ]
  },
  {
   "cell_type": "markdown",
   "metadata": {
    "id": "QAmLbi_cb6IS"
   },
   "source": [
    "We can see that how increasing the variance makes the data more spread."
   ]
  },
  {
   "cell_type": "markdown",
   "metadata": {
    "id": "YIvBLfyKb6IT"
   },
   "source": [
    "### Bi-variate Gaussian"
   ]
  },
  {
   "cell_type": "markdown",
   "metadata": {
    "id": "wN-EhtRWb6IU"
   },
   "source": [
    "Having discussed the case of 1d Gaussian, now let us move to multivariate Gaussians. As a special case, let us first consider bi-variate or 2d Gaussian. It's parameters are the mean vector which will have 2 elements and a covariance matrix."
   ]
  },
  {
   "cell_type": "markdown",
   "metadata": {
    "id": "QIKgwCs2b6IV"
   },
   "source": [
    "We can write the distribution as:\n",
    "\n",
    "$$\n",
    "\\begin{pmatrix}\n",
    " X_1 \\\\\n",
    " X_2\n",
    "\\end{pmatrix}  \\sim \\mathcal{N} \\left( \\begin{pmatrix}\n",
    " \\mu_1 \\\\\n",
    " \\mu_2\n",
    "\\end{pmatrix} , \\begin{pmatrix}\n",
    " a & \\rho \\\\\n",
    " \\rho & b\n",
    "\\end{pmatrix} \\right)\n",
    "$$\n",
    "\n",
    "where $\\mu_1$, $\\mu_2$ are the means for $X_1$ and $X_2$ respectively; $a$ is the standard deviation for $X_1$, $b$ is the standard deviation for $X_2$ and $\\rho$ is the correlation between $X_1$ and $X_2$\n",
    "\n",
    "Let us now draw some data from: \n",
    "\n",
    "$$\n",
    "\\begin{pmatrix}\n",
    " X_1 \\\\\n",
    " X_2\n",
    "\\end{pmatrix}  \\sim \\mathcal{N} \\left( \\begin{pmatrix}\n",
    " 0 \\\\\n",
    " 0\n",
    "\\end{pmatrix} , \\begin{pmatrix}\n",
    " 1 & 0.7 \\\\\n",
    " 0.7 & 1\n",
    "\\end{pmatrix} \\right)\n",
    "$$\n"
   ]
  },
  {
   "cell_type": "code",
   "execution_count": 8,
   "metadata": {
    "id": "3GkGTz7_b6IV"
   },
   "outputs": [],
   "source": [
    "data = np.random.multivariate_normal(mean = np.array([0, 0]), cov = np.array([[1, 0.7], [0.7, 1]]), size=(10000, ))"
   ]
  },
  {
   "cell_type": "code",
   "execution_count": 9,
   "metadata": {
    "id": "s1JvJlDlb6IW",
    "outputId": "745b3202-2f59-4509-fc99-5724a5a2df95"
   },
   "outputs": [
    {
     "data": {
      "image/png": "[encoded data removed]",
      "text/plain": [
       "<Figure size 432x288 with 1 Axes>"
      ]
     },
     "metadata": {
      "needs_background": "light"
     },
     "output_type": "display_data"
    }
   ],
   "source": [
    "plt.scatter(data[:, 0], data[:, 1], alpha=0.05,c='gray')\n",
    "plt.axhline(0, color='k', lw=0.2)\n",
    "plt.axvline(0, color='k', lw=0.2)\n",
    "plt.xlabel(r\"$X_1$\")\n",
    "plt.ylabel(r\"$X_2$\")\n",
    "\n",
    "format_axes(plt.gca());"
   ]
  },
  {
   "cell_type": "markdown",
   "metadata": {
    "id": "R0rgUxo4b6IY"
   },
   "source": [
    "We can see from the plot above that the data is distributed around mean [0, 0]. We can also see the positive correlation between $X_1$ and $X_2$"
   ]
  },
  {
   "cell_type": "markdown",
   "metadata": {
    "id": "HwXILBo8b6IY"
   },
   "source": [
    "### Marginalisation for bivariate Gaussian"
   ]
  },
  {
   "cell_type": "markdown",
   "metadata": {
    "id": "Ezxq8c_ub6IY"
   },
   "source": [
    "Let us look into an interesting plot provided by Seaborn. "
   ]
  },
  {
   "cell_type": "code",
   "execution_count": 10,
   "metadata": {
    "id": "Ox5l_majb6IY"
   },
   "outputs": [],
   "source": [
    "import pandas as pd\n",
    "data_df = pd.DataFrame(data, columns=[r'$X_1$',r'$X_2$'])"
   ]
  },
  {
   "cell_type": "code",
   "execution_count": 11,
   "metadata": {
    "id": "xqTf1kXeb6IZ",
    "outputId": "25bc532e-28ed-4da1-efb6-8f91c46e1f54"
   },
   "outputs": [
    {
     "data": {
      "image/png": "[encoded data removed]",
      "text/plain": [
       "<Figure size 432x432 with 3 Axes>"
      ]
     },
     "metadata": {
      "needs_background": "light"
     },
     "output_type": "display_data"
    }
   ],
   "source": [
    "import seaborn as sns\n",
    "g = sns.jointplot(x= r'$X_1$', y=r'$X_2$', data=data_df, kind=\"reg\",color='gray')"
   ]
  },
  {
   "cell_type": "markdown",
   "metadata": {
    "id": "sZQa0wAsb6IZ"
   },
   "source": [
    "The central plot is exactly the same as the scatter plot we made earlier. But, we see two additional 1d KDE plots at the top and the right. What do these tell us? These tell us the marginal 1d distributions of $X_1$ and $X_2$.\n",
    "\n",
    "\n",
    "The marginal distribution of $X_1$ is the distribution of $X_1$ considering all values of $X_2$ and vice versa. One of the interesting properties of Gaussian distributions is that the marginal distribution of a Gaussian is also a Gaussian distribution. MathematicalMonk on Youtube has a [great set of lectures on this topic](https://www.youtube.com/watch?v=ycDSJkZ_h0I) that I would highly recommend!\n",
    "\n",
    "What would you expect the marginal distribution of $X_1$ to look like? No prizes for guessing.\n",
    "\n",
    "Given \n",
    "\n",
    "$$\n",
    "\\begin{pmatrix}\n",
    " X_1 \\\\\n",
    " X_2\n",
    "\\end{pmatrix}  \\sim \\mathcal{N} \\left( \\begin{pmatrix}\n",
    " \\mu_1 \\\\\n",
    " \\mu_2\n",
    "\\end{pmatrix} , \\begin{pmatrix}\n",
    " a & \\rho \\\\\n",
    " \\rho & b\n",
    "\\end{pmatrix} \\right)\n",
    "$$\n",
    "\n",
    "we have the marginal distribution of:\n",
    "\n",
    "$$X_1 \\sim \\mathcal{N}(\\mu_1, a)$$\n",
    "\n",
    "and \n",
    "\n",
    "$$X_2 \\sim \\mathcal{N}(\\mu_2, b)$$"
   ]
  },
  {
   "cell_type": "code",
   "execution_count": 12,
   "metadata": {
    "id": "htSO-pvdb6IZ"
   },
   "outputs": [],
   "source": [
    "def plot_jointplot_2d(a, b, rho):\n",
    "    data = np.random.multivariate_normal(mean = np.array([0, 0]), cov = np.array([[a, rho], [rho, b]]), size=(10000, ))\n",
    "    data_df = pd.DataFrame(data, columns=[r'$X_1$',r'$X_2$'])\n",
    "    g = sns.jointplot(x= r'$X_1$', y=r'$X_2$', data=data_df, kind=\"reg\",color='gray')"
   ]
  },
  {
   "cell_type": "markdown",
   "metadata": {
    "id": "1l8cQkd1b6IZ"
   },
   "source": [
    "Ok, let us know try to plot a few jointplots for different covariance matrices. We would be passing in the values of $a$, $b$ and $\\rho$ which would make up the covariance matrix as: \n",
    "\n",
    "\\begin{bmatrix}\n",
    " a & \\rho \\\\\n",
    " \\rho & b\n",
    "\\end{bmatrix}\n",
    "\n",
    "We would make these plots for mean zero."
   ]
  },
  {
   "cell_type": "code",
   "execution_count": 13,
   "metadata": {
    "id": "n2LaJYVjb6Ia",
    "outputId": "ed1016ad-c6c7-4540-bd07-0831dc86562e"
   },
   "outputs": [
    {
     "data": {
      "image/png": "[encoded data removed]",
      "text/plain": [
       "<Figure size 432x432 with 3 Axes>"
      ]
     },
     "metadata": {
      "needs_background": "light"
     },
     "output_type": "display_data"
    }
   ],
   "source": [
    "plot_jointplot_2d(1, 1, -0.7)"
   ]
  },
  {
   "cell_type": "markdown",
   "metadata": {
    "id": "JaZYz1-ib6Ia"
   },
   "source": [
    "In the plot above, for $a=1$, $b=1$ and $\\rho=0.7$ we can see the negative correlation (but high) between $X_1$ and $X_2$. \n",
    "\n",
    "Let us now increase the variance in $X_1$ and keep all other paramaters constant."
   ]
  },
  {
   "cell_type": "code",
   "execution_count": 14,
   "metadata": {
    "id": "4qAyM5BYb6Ia",
    "outputId": "daff5363-bf96-4a20-e12c-5b60da5a0eef"
   },
   "outputs": [
    {
     "data": {
      "image/png": "[encoded data removed]",
      "text/plain": [
       "<Figure size 432x432 with 3 Axes>"
      ]
     },
     "metadata": {
      "needs_background": "light"
     },
     "output_type": "display_data"
    }
   ],
   "source": [
    "plot_jointplot_2d(2, 1, -0.7)"
   ]
  },
  {
   "cell_type": "markdown",
   "metadata": {
    "id": "-NOGh9_fb6Ia"
   },
   "source": [
    "One can see from the plot above that the variance in $X_1$ is much higher now and the plot extends from -6 to +6 for $X_1$ while earlier it was restricted from -4 to 4."
   ]
  },
  {
   "cell_type": "code",
   "execution_count": 15,
   "metadata": {
    "id": "akOCnmi-b6Ia",
    "outputId": "59c33dba-51a4-40a5-aa33-a18b040e12b5"
   },
   "outputs": [
    {
     "data": {
      "image/png": "[encoded data removed]",
      "text/plain": [
       "<Figure size 432x432 with 3 Axes>"
      ]
     },
     "metadata": {
      "needs_background": "light"
     },
     "output_type": "display_data"
    }
   ],
   "source": [
    "plot_jointplot_2d(1, 1, 0.0)"
   ]
  },
  {
   "cell_type": "markdown",
   "metadata": {
    "id": "9qS_zBU7b6Ia"
   },
   "source": [
    "One can see from the plot above that the correlation between $X_1$ and $X_2$ is zero."
   ]
  },
  {
   "cell_type": "markdown",
   "metadata": {
    "id": "j9SmEqEAb6Ib"
   },
   "source": [
    "#### Surface plots for bi-variate Gaussian\n",
    "\n",
    "We will now look into surface plots for bi-variate Gaussian. This is yet another way to plot and understand Gaussian distributions. I borrow code from an [excellent tuorial](https://scipython.com/blog/visualizing-the-bivariate-gaussian-distribution/) on plotting bivariate Gaussians."
   ]
  },
  {
   "cell_type": "code",
   "execution_count": 16,
   "metadata": {
    "id": "x3Ga3bDFb6Ib"
   },
   "outputs": [],
   "source": [
    "from scipy.stats import multivariate_normal\n",
    "from mpl_toolkits.mplot3d import Axes3D\n",
    "from matplotlib import cm\n",
    "\n",
    "\n",
    "def make_pdf_2d_gaussian(mu, sigma):\n",
    "    N = 60\n",
    "    X = np.linspace(-3, 3, N)\n",
    "    Y = np.linspace(-3, 4, N)\n",
    "    X, Y = np.meshgrid(X, Y)\n",
    "\n",
    "    # Pack X and Y into a single 3-dimensional array\n",
    "    pos = np.empty(X.shape + (2,))\n",
    "    pos[:, :, 0] = X\n",
    "    pos[:, :, 1] = Y\n",
    "\n",
    "    F = multivariate_normal(mu, sigma)\n",
    "    Z = F.pdf(pos)\n",
    "\n",
    "\n",
    "\n",
    "    # Create a surface plot and projected filled contour plot under it.\n",
    "    fig = plt.figure()\n",
    "    ax = fig.gca(projection='3d')\n",
    "    ax.plot_surface(X, Y, Z, rstride=3, cstride=3, linewidth=1, antialiased=True,\n",
    "                    cmap=cm.Greys)\n",
    "    \n",
    "    ax.set_xlabel(r\"$X_1$\")\n",
    "    ax.set_ylabel(r\"$X_2$\")\n",
    "    ax.set_zlabel(\"PDF\")\n",
    "\n",
    "    cset = ax.contourf(X, Y, Z, zdir='z', offset=-0.15, cmap=cm.Greys)\n",
    "\n",
    "    # Adjust the limits, ticks and view angle\n",
    "    ax.set_zlim(-0.15,0.25)\n",
    "    ax.set_zticks(np.linspace(0,0.2,5))\n",
    "    ax.view_init(27, -15)\n",
    "    ax.set_title(f'$\\mu$ = {mu}\\n $\\Sigma$ = {sigma}')"
   ]
  },
  {
   "cell_type": "code",
   "execution_count": 17,
   "metadata": {
    "id": "sOJdbl2Wb6Ib",
    "outputId": "71d166bb-94c9-4e2f-cee0-0518c2c4ff39"
   },
   "outputs": [
    {
     "data": {
      "image/png": "[encoded data removed]",
      "text/plain": [
       "<Figure size 432x288 with 1 Axes>"
      ]
     },
     "metadata": {
      "needs_background": "light"
     },
     "output_type": "display_data"
    }
   ],
   "source": [
    "mu = np.array([0., 0.])\n",
    "sigma = np.array([[ 1. , -0.5], [-0.5,  1]])\n",
    "\n",
    "make_pdf_2d_gaussian(mu, sigma)"
   ]
  },
  {
   "cell_type": "markdown",
   "metadata": {
    "id": "Iy0IVlQLb6Ic"
   },
   "source": [
    "From the plot above, we can see the surface plot showing the probability density function for the Gaussian with mean \\begin{pmatrix}\n",
    " 0 \\\\\n",
    " 0\n",
    "\\end{pmatrix} and covariance matrix: \\begin{pmatrix}\n",
    " 1 & -0.5 \\\\\n",
    " -0.5 & 1\n",
    "\\end{pmatrix}\n",
    "\n",
    "It can be seen that the probability peaks arounds $X_1=0$ and $X_2=0$. The bottom plot shows the same concept using contour plots which we will heavily use from now on. The different circles in the bottom contour plot denote the loci of same probability density. Since the contour plot requires a lesser dimension, it will be easier to use in our further analysis.\n",
    "\n",
    "Also, from the contour plots, we can see the correlation between $X_1$ and $X_2$."
   ]
  },
  {
   "cell_type": "code",
   "execution_count": 18,
   "metadata": {
    "id": "x27FMsawb6Ic",
    "outputId": "041c51d6-38fc-4c21-c35c-9cf7bcae05f8"
   },
   "outputs": [
    {
     "data": {
      "image/png": "[encoded data removed]",
      "text/plain": [
       "<Figure size 432x288 with 1 Axes>"
      ]
     },
     "metadata": {
      "needs_background": "light"
     },
     "output_type": "display_data"
    }
   ],
   "source": [
    "mu = np.array([0., 0.])\n",
    "sigma = np.array([[ 1. , 0], [0,  1]])\n",
    "\n",
    "make_pdf_2d_gaussian(mu, sigma)"
   ]
  },
  {
   "cell_type": "markdown",
   "metadata": {
    "id": "mon-tYELb6Ic"
   },
   "source": [
    "In the plot above, we can see that $X_1$ and $X_2$ are not correlated."
   ]
  },
  {
   "cell_type": "markdown",
   "metadata": {
    "id": "Crt2RVKHb6Id"
   },
   "source": [
    "#### Contour plots for 2D Gaussians\n",
    "\n",
    "Having seen the relationship between the surface plots and the contour plots, we will now exclusively focus on the contour plots. Here is a simple function to generate the contour plot for 2g gaussian with mean and covariance as the arguments."
   ]
  },
  {
   "cell_type": "code",
   "execution_count": 19,
   "metadata": {
    "id": "XyTwL4-db6Id"
   },
   "outputs": [],
   "source": [
    "def plot_2d_contour_pdf(mu, sigma):\n",
    "    X = np.linspace(-3, 3, 60)\n",
    "    Y = np.linspace(-3, 4, 60)\n",
    "    X, Y = np.meshgrid(X, Y)\n",
    "\n",
    "    # Pack X and Y into a single 3-dimensional array\n",
    "    pos = np.empty(X.shape + (2,))\n",
    "    pos[:, :, 0] = X\n",
    "    pos[:, :, 1] = Y\n",
    "\n",
    "    F = multivariate_normal(mu, sigma)\n",
    "    Z = F.pdf(pos)\n",
    "    plt.xlabel(r\"$X_1$\")\n",
    "    plt.ylabel(r\"$X_2$\")\n",
    "    \n",
    "    plt.title(f'$\\mu$ = {mu}\\n $\\Sigma$ = {sigma}')\n",
    "    plt.contourf(X, Y, Z, zdir='z', offset=-0.15, cmap=cm.Greys)\n",
    "    plt.colorbar()\n",
    "    format_axes(plt.gca())"
   ]
  },
  {
   "cell_type": "code",
   "execution_count": 20,
   "metadata": {
    "id": "kKTHtHOyb6Id",
    "outputId": "3854162e-7fda-4e21-b170-adebee40728d"
   },
   "outputs": [
    {
     "data": {
      "image/png": "[encoded data removed]",
      "text/plain": [
       "<Figure size 432x288 with 2 Axes>"
      ]
     },
     "metadata": {
      "needs_background": "light"
     },
     "output_type": "display_data"
    }
   ],
   "source": [
    "mu = np.array([0., 0.])\n",
    "sigma = np.array([[ 1. , 0.5], [0.5,  1.]])\n",
    "plot_2d_contour_pdf(mu, sigma)"
   ]
  },
  {
   "cell_type": "markdown",
   "metadata": {
    "id": "hSdIC6Ltb6Id"
   },
   "source": [
    "The plot above shows the contour plot for 2d gaussian with mean [0, 0] and covariance [[ 1. , 0.5], [0.5,  1.]]. We can see the correlation between $X_1$ and $X_2$"
   ]
  },
  {
   "cell_type": "markdown",
   "metadata": {
    "id": "waWBQTCNb6Ie"
   },
   "source": [
    "### Sample from 2d gaussian and visualising it on XY plane"
   ]
  },
  {
   "cell_type": "markdown",
   "metadata": {
    "id": "VccuO-Wqb6Ie"
   },
   "source": [
    "We will now sample a point from a 2d Gaussian and describe a new way of visualising it."
   ]
  },
  {
   "cell_type": "markdown",
   "metadata": {
    "id": "JjapxxDTb6Ie"
   },
   "source": [
    "![](https://github.com/nipunbatra/blog/blob/master/_notebooks/images/0.7/0.jpg?raw=1)"
   ]
  },
  {
   "cell_type": "markdown",
   "metadata": {
    "id": "VKk5YYi6b6Ie"
   },
   "source": [
    "* The left most plot shows the covariance matrix. \n",
    "\n",
    "* The middle plot shows the contour plot. The dark point marked in the contour plot is a sampled point (at random) from this 2d Gaussian distribution. \n",
    "\n",
    "* The right most plot is an alternative representation of the sampled point. The x-axis corresponds to the labels $X_1$ and $X_2$ and the corresponding y-axis are the coordinates of the point in the $X_1$, $X_2$ dimension shown in the contour plot. \n",
    "\n",
    "We will now write a function to generate a random sample from a 2d gaussian given it's mean and covariance matrix."
   ]
  },
  {
   "cell_type": "code",
   "execution_count": 21,
   "metadata": {
    "id": "oEnAwiVGb6Ie"
   },
   "outputs": [],
   "source": [
    "def plot_2d_contour_pdf_dimensions(mu, sigma, random_num):\n",
    "    fig, ax  = plt.subplots(ncols=3, figsize=(12, 4))\n",
    "\n",
    "    X = np.linspace(-3, 3, 60)\n",
    "    Y = np.linspace(-3, 3, 60)\n",
    "    X, Y = np.meshgrid(X, Y)\n",
    "\n",
    "    # Pack X and Y into a single 3-dimensional array\n",
    "    pos = np.empty(X.shape + (2,))\n",
    "    pos[:, :, 0] = X\n",
    "    pos[:, :, 1] = Y\n",
    "\n",
    "    F = multivariate_normal(mu, sigma)\n",
    "    Z = F.pdf(pos)\n",
    "    random_point = F.rvs(random_state=random_num)\n",
    "    \n",
    "    sns.heatmap(sigma, ax=ax[0], annot=True)\n",
    "    ax[1].contour(X, Y, Z, cmap=cm.Greys)\n",
    "    ax[1].scatter(random_point[0], random_point[1], color='k',s=100)\n",
    "    ax[1].set_xlabel(r\"$X_1$\")\n",
    "    ax[1].set_ylabel(r\"$X_2$\")\n",
    "    \n",
    "    data_array = pd.Series(random_point, index=['X1','X2'])\n",
    "    data_array.plot(ax=ax[2], kind='line', marker='o',color='k')\n",
    "    plt.xticks(np.arange(len(data_array.index)), data_array.index.values)\n",
    "    ax[2].set_ylim(-3, 3)\n",
    "    \n",
    "    format_axes(ax[0])\n",
    "    format_axes(ax[1])\n",
    "    format_axes(ax[2])\n",
    "    ax[0].set_title(\"Covariance Matrix\")\n",
    "    ax[1].set_title(\"Contour of pdf\")\n",
    "    ax[2].set_title(\"Visualising the point\")\n",
    "    plt.suptitle(f\"Random state = {random_num}\", y=1.1)\n",
    "    plt.tight_layout()\n",
    "    import os\n",
    "    if not os.path.exists(\"images\"):\n",
    "        os.makedirs(\"images\")\n",
    "    if not os.path.exists(f\"images/{sigma[0, 1]}\"):\n",
    "        os.makedirs(f\"images/{sigma[0, 1]}\")\n",
    "    plt.savefig(f\"images/{sigma[0, 1]}/{random_num}.jpg\", bbox_inches=\"tight\")\n",
    "    plt.close()"
   ]
  },
  {
   "cell_type": "markdown",
   "metadata": {
    "id": "2cFFH7Nbb6Ie"
   },
   "source": [
    "We will now create 20 such samples and animate them "
   ]
  },
  {
   "cell_type": "code",
   "execution_count": 22,
   "metadata": {
    "id": "G5mjDpTOb6Ie"
   },
   "outputs": [],
   "source": [
    "for i in range(20):\n",
    "    plot_2d_contour_pdf_dimensions( mu, np.array([[ 1. , 0.1], [0.1,  1.]]), i)"
   ]
  },
  {
   "cell_type": "code",
   "execution_count": 23,
   "metadata": {
    "id": "tLTwOduEb6If"
   },
   "outputs": [],
   "source": [
    "!convert -delay 20 -loop 0 images/0.1/*.jpg sigma-0-1.gif"
   ]
  },
  {
   "cell_type": "markdown",
   "metadata": {
    "id": "H8rshjNMb6If"
   },
   "source": [
    "![](https://github.com/nipunbatra/blog/blob/master/_notebooks/sigma-0-1.gif?raw=1)"
   ]
  },
  {
   "cell_type": "markdown",
   "metadata": {
    "id": "7gs3dUFzb6If"
   },
   "source": [
    "Since the correlation between the two variables $X_1$ and $X_2$ was low (0.1), we can the see that rightmost plot jumping a lot, i.e. to say that the values of $X_1$ and $X_2$ are not tighly constrained to move together."
   ]
  },
  {
   "cell_type": "code",
   "execution_count": 24,
   "metadata": {
    "id": "vHOhvcQgb6If"
   },
   "outputs": [],
   "source": [
    "for i in range(20):\n",
    "    plot_2d_contour_pdf_dimensions( mu, np.array([[ 1. , 0.7], [0.7,  1.]]), i)"
   ]
  },
  {
   "cell_type": "code",
   "execution_count": 25,
   "metadata": {
    "id": "TWr8Y5D6b6If"
   },
   "outputs": [],
   "source": [
    "!convert -delay 20 -loop 0 images/0.7/*.jpg sigma-0-7.gif"
   ]
  },
  {
   "cell_type": "markdown",
   "metadata": {
    "id": "TrmQNBpeb6If"
   },
   "source": [
    "![](https://github.com/nipunbatra/blog/blob/master/_notebooks/sigma-0-7.gif?raw=1)"
   ]
  },
  {
   "cell_type": "markdown",
   "metadata": {
    "id": "H8x_8nqEb6Ig"
   },
   "source": [
    "The above GIF shows the same plot/animation for the 2d Gaussian where the correlation between the two variables is high (0.7). Thus, we can see that the two variables tend to move up and down together."
   ]
  },
  {
   "cell_type": "markdown",
   "metadata": {
    "id": "A788x4Tdb6Ig"
   },
   "source": [
    "### Conditional Bivariate Distribution"
   ]
  },
  {
   "cell_type": "markdown",
   "metadata": {
    "id": "1xTxYpuIb6Ig"
   },
   "source": [
    "All excellent till now. Now, let us move to the case in which some variable's values are known. We would then look to find the distribution of the other variables conditional on the value of the known variable. I borrow some text from Wikipedia on the subject."
   ]
  },
  {
   "cell_type": "markdown",
   "metadata": {
    "id": "pt09r2wQb6Ig"
   },
   "source": [
    "$$\n",
    "\\begin{bmatrix}\n",
    " X_1 \\\\\n",
    " X_2\n",
    "\\end{bmatrix}  \\sim \\mathcal{N} \\left( \\begin{bmatrix}\n",
    " 0 \\\\\n",
    " 0\n",
    "\\end{bmatrix} , \\begin{bmatrix}\n",
    " 1 & \\rho \\\\\n",
    " \\rho & 1\n",
    "\\end{bmatrix} \\right)\n",
    "$$\n",
    "\n",
    "The conditional expectation of $X_2$ given $X_1$ is: $\\operatorname{E}(X_2 \\mid X_1=x_1)= \\rho x_1 $\n",
    "\n",
    "and the conditional variance is: $\\operatorname{var}(X_2 \\mid X_1 = x_1) = 1-\\rho^2$ "
   ]
  },
  {
   "cell_type": "markdown",
   "metadata": {
    "id": "-hC1LvGNb6Ih"
   },
   "source": [
    "So, the question now is: suppose we fix $X_1 = 1$, what is the distribution of $X_2$. Again, Gaussians are amazing - the conditional distributionon is again a Gaussian. Let us make some plots to understand better. The following plots would be showing the distribution of $X_2$ with fixed $X_1$"
   ]
  },
  {
   "cell_type": "code",
   "execution_count": 26,
   "metadata": {
    "id": "wjsfFhehb6Ih"
   },
   "outputs": [],
   "source": [
    "def plot_2d_contour_pdf_dimensions_fixed_x1(sigma, random_num, x1 = 1):\n",
    "    mu = np.zeros(2)\n",
    "    fig, ax  = plt.subplots(ncols=3, figsize=(12, 4))\n",
    "\n",
    "    X = np.linspace(-3, 3, 60)\n",
    "    Y = np.linspace(-3, 3, 60)\n",
    "    X, Y = np.meshgrid(X, Y)\n",
    "\n",
    "    # Pack X and Y into a single 3-dimensional array\n",
    "    pos = np.empty(X.shape + (2,))\n",
    "    pos[:, :, 0] = X\n",
    "    pos[:, :, 1] = Y\n",
    "\n",
    "    F = multivariate_normal(mu, sigma)\n",
    "    Z = F.pdf(pos)\n",
    "    \n",
    "    rho = sigma[0, 1]\n",
    "    F_cond_x1 = multivariate_normal(rho*x1, 1-rho**2)\n",
    "    random_point_x2 = F_cond_x1.rvs(random_state=random_num)\n",
    "    sns.heatmap(sigma, ax=ax[0], annot=True)\n",
    "    ax[1].contour(X, Y, Z, cmap=cm.Greys)\n",
    "    ax[1].scatter(x1, random_point_x2, color='k',s=100)\n",
    "    ax[1].set_xlabel(r\"$X_1$\")\n",
    "    ax[1].set_ylabel(r\"$X_2$\")\n",
    "    \n",
    "    data_array = pd.Series([x1, random_point_x2], index=['X1','X2'])\n",
    "    data_array.plot(ax=ax[2], kind='line', color='k')\n",
    "    ax[2].scatter(x=0, y=x1, color='red', s=100)\n",
    "    ax[2].scatter(x=1, y=random_point_x2, color='k', s=100)\n",
    "    \n",
    "\n",
    "    plt.xticks(np.arange(len(data_array.index)), data_array.index.values)\n",
    "    ax[2].set_ylim(-3, 3)\n",
    "    format_axes(ax[0])\n",
    "    format_axes(ax[1])\n",
    "    format_axes(ax[2])\n",
    "    ax[0].set_title(\"Covariance Matrix\")\n",
    "    ax[1].set_title(\"Contour of pdf\")\n",
    "    ax[2].set_title(\"Visualising the point\")\n",
    "    plt.suptitle(f\"Random state = {random_num}\", y=1.1)\n",
    "    plt.tight_layout()\n",
    "    import os\n",
    "    if not os.path.exists(\"images/conditional/\"):\n",
    "        os.makedirs(\"images/conditional/\")\n",
    "    if not os.path.exists(f\"images/conditional/{sigma[0, 1]}\"):\n",
    "        os.makedirs(f\"images/conditional/{sigma[0, 1]}\")\n",
    "    plt.savefig(f\"images/conditional/{sigma[0, 1]}/{random_num}.jpg\", bbox_inches=\"tight\")\n",
    "    plt.close()"
   ]
  },
  {
   "cell_type": "code",
   "execution_count": 27,
   "metadata": {
    "id": "Hl6JRT3mb6Ih"
   },
   "outputs": [],
   "source": [
    "for i in range(20):\n",
    "    plot_2d_contour_pdf_dimensions_fixed_x1(np.array([[ 1. , 0.1], [0.1,  1.]]), i)"
   ]
  },
  {
   "cell_type": "code",
   "execution_count": 28,
   "metadata": {
    "id": "IsJKYN8Rb6Ih"
   },
   "outputs": [],
   "source": [
    "!convert -delay 20 -loop 0 images/conditional/0.1/*.jpg conditional-sigma-0-1.gif"
   ]
  },
  {
   "cell_type": "markdown",
   "metadata": {
    "id": "qRkel2p2b6Ih"
   },
   "source": [
    "![](https://github.com/nipunbatra/blog/blob/master/_notebooks/conditional-sigma-0-1.gif?raw=1)"
   ]
  },
  {
   "cell_type": "markdown",
   "metadata": {
    "id": "F0dmyn3Nb6Ii"
   },
   "source": [
    "The above animation shows the movement of $X_2$ with $X_1=1$. The $X_1=1$ is shown in red in the righmost plot. In the middle plot, we can confirm that the movement is only in the $X_2$ dimension. Further, since the correlation between $X_1$ and $X_2$ is weak, the righmost plot seems to wiggle or jump a lot!"
   ]
  },
  {
   "cell_type": "code",
   "execution_count": 29,
   "metadata": {
    "id": "gcCDKEf6b6Ii"
   },
   "outputs": [],
   "source": [
    "for i in range(20):\n",
    "    plot_2d_contour_pdf_dimensions_fixed_x1(np.array([[ 1. , 0.7], [0.7,  1.]]), i)"
   ]
  },
  {
   "cell_type": "code",
   "execution_count": 30,
   "metadata": {
    "id": "sHvuGRICb6Ii"
   },
   "outputs": [],
   "source": [
    "!convert -delay 20 -loop 0 images/conditional/0.7/*.jpg conditional-sigma-0-7.gif"
   ]
  },
  {
   "cell_type": "markdown",
   "metadata": {
    "id": "G-M6gv2jb6Ii"
   },
   "source": [
    "![](https://github.com/nipunbatra/blog/blob/master/_notebooks/conditional-sigma-0-7.gif?raw=1)"
   ]
  },
  {
   "cell_type": "markdown",
   "metadata": {
    "id": "NQY4b0Xyb6Ii"
   },
   "source": [
    "In the plot above, we repeat the same p|rocedure but with a covariance matrix having a much higher correlation between $X_1$ and $X_2$. From the righmost plot, we can clearly see that the jumps in $X2$ are far lesser. This is expected, since the two variables are correlated!"
   ]
  },
  {
   "cell_type": "markdown",
   "metadata": {
    "id": "9NnPH9Zab6Ij"
   },
   "source": [
    "#### Visualising the same procedure for 5 dimensional Gaussian"
   ]
  },
  {
   "cell_type": "markdown",
   "metadata": {
    "id": "yAh-BihQb6Ij"
   },
   "source": [
    "We will now repeat the same procedure we did for 2d case in 5 dimensions. "
   ]
  },
  {
   "cell_type": "code",
   "execution_count": 31,
   "metadata": {
    "id": "F_4ieNj7b6Ij"
   },
   "outputs": [],
   "source": [
    "covariance_5d = np.array([[1, 0.9, 0.8, 0.6, 0.4],\n",
    "                          [0.9, 1, 0.9, 0.8, 0.6],\n",
    "                          [0.8, 0.9, 1, 0.9, 0.8],\n",
    "                          [0.6, 0.8, 0.9, 1, 0.9],\n",
    "                          [0.4, 0.6, 0.8, 0.9, 1]])"
   ]
  },
  {
   "cell_type": "code",
   "execution_count": 32,
   "metadata": {
    "id": "W7ZI0Gnyb6Ij"
   },
   "outputs": [],
   "source": [
    "def plot_5d_contour_pdf_dimensions(cov, random_num):\n",
    "    fig, ax  = plt.subplots(ncols=2, figsize=(6, 3))\n",
    "\n",
    "    mu = np.zeros(5)\n",
    "    F = multivariate_normal(mu, cov)\n",
    "    random_point = F.rvs(random_state=random_num)\n",
    "    \n",
    "    sns.heatmap(cov, ax=ax[0], annot=True)\n",
    "    \n",
    "    \n",
    "    data_array = pd.Series(random_point, index=['X1','X2','X3','X4', 'X5'])\n",
    "    data_array.plot(ax=ax[1], kind='line', marker='o',color='k')\n",
    "    plt.xticks(np.arange(len(data_array.index)), data_array.index.values)\n",
    "    ax[1].set_ylim(-3, 3)\n",
    "    for i in range(2):\n",
    "        format_axes(ax[i])\n",
    "    \n",
    "    ax[0].set_title(\"Covariance Matrix\")\n",
    "    ax[-1].set_title(\"Visualising the point\")\n",
    "    plt.suptitle(f\"Random state = {random_num}\", y=1.1)\n",
    "    plt.tight_layout()\n",
    "    import os\n",
    "    if not os.path.exists(\"images/5d/\"):\n",
    "        os.makedirs(\"images/5d\")\n",
    "    \n",
    "    plt.savefig(f\"images/5d/{random_num}.jpg\", bbox_inches=\"tight\")\n",
    "    plt.close()"
   ]
  },
  {
   "cell_type": "code",
   "execution_count": 33,
   "metadata": {
    "id": "rpR121TZb6Ik"
   },
   "outputs": [],
   "source": [
    "plot_5d_contour_pdf_dimensions(covariance_5d, 2)"
   ]
  },
  {
   "cell_type": "code",
   "execution_count": 34,
   "metadata": {
    "id": "3ft3ZmoYb6Ik"
   },
   "outputs": [],
   "source": [
    "for i in range(20):\n",
    "    plot_5d_contour_pdf_dimensions(covariance_5d, i)"
   ]
  },
  {
   "cell_type": "code",
   "execution_count": 35,
   "metadata": {
    "id": "UA_mnQbtb6Ik"
   },
   "outputs": [],
   "source": [
    "!convert -delay 20 -loop 0 images/5d/*.jpg 5d.gif"
   ]
  },
  {
   "cell_type": "markdown",
   "metadata": {
    "id": "BJRyWcI1b6Ik"
   },
   "source": [
    "![](https://github.com/nipunbatra/blog/blob/master/_notebooks/5d.gif?raw=1)"
   ]
  },
  {
   "cell_type": "markdown",
   "metadata": {
    "id": "F_bI11D3b6Il"
   },
   "source": [
    "From the visualisation above we can see that:\n",
    "    \n",
    "* since X1 and X2 are highly correlated, they move up and down together\n",
    "* but, X1 and X5 have low correlation, thus, they can seem to wiggle almost independently of each other.\n",
    "\n",
    "We are now getting somewhere. If the correlation between the variables is very high, we will get a smooth curve joining them. Right? Almost getting to the point where we can draw the introductory plot shown at the top of the post."
   ]
  },
  {
   "cell_type": "markdown",
   "metadata": {
    "id": "DXCM74Wkb6Il"
   },
   "source": [
    "### Conditional Multivariate Distribution\n",
    "\n",
    "Ok, now let us draw the conditional distribution over this higher 5d space. We will fix the values of some of the variables and see the distribution of the others."
   ]
  },
  {
   "cell_type": "markdown",
   "metadata": {
    "id": "x4Oh--kbb6Il"
   },
   "source": [
    "Borrowing from Wikipedia\n",
    "\n",
    "If $N$-dimensional $x$ is partitioned as follows\n",
    "\n",
    "$$\n",
    "\\mathbf{x}\n",
    "=\n",
    "\\begin{bmatrix}\n",
    " \\mathbf{x}_A \\\\\n",
    " \\mathbf{x}_B\n",
    "\\end{bmatrix}\n",
    "\\text{ with sizes }\\begin{bmatrix} q \\times 1 \\\\ (N-q) \\times 1 \\end{bmatrix}\n",
    "$$\n",
    "\n",
    "and accordingly $μ$ and $Σ$ are partitioned as follows\n",
    "\n",
    "$$\n",
    "\\boldsymbol\\mu\n",
    "=\n",
    "\\begin{bmatrix}\n",
    " \\boldsymbol\\mu_A \\\\\n",
    " \\boldsymbol\\mu_B\n",
    "\\end{bmatrix}\n",
    "\\text{ with sizes }\\begin{bmatrix} q \\times 1 \\\\ (N-q) \\times 1 \\end{bmatrix}\n",
    "$$"
   ]
  },
  {
   "cell_type": "markdown",
   "metadata": {
    "id": "a28-QtxVb6Il"
   },
   "source": [
    "$$\n",
    "\\boldsymbol\\Sigma\n",
    "=\n",
    "\\begin{bmatrix}\n",
    " \\boldsymbol\\Sigma_{AA} & \\boldsymbol\\Sigma_{AB} \\\\\n",
    " \\boldsymbol\\Sigma_{BA} & \\boldsymbol\\Sigma_{BB}\n",
    "\\end{bmatrix}\n",
    "\\text{ with sizes }\\begin{bmatrix} q \\times q & q \\times (N-q) \\\\ (N-q) \\times q & (N-q) \\times (N-q) \\end{bmatrix}\n",
    "$$\n",
    "\n",
    "then the distribution of $x_A$ conditional on $x_B=b$ is multivariate normal $(x_A|x_B=b)\\sim \\mathcal{N}(\\bar{\\mu}, \\bar{\\Sigma})$\n",
    "\n",
    "$$\n",
    "\\bar{\\boldsymbol\\mu}\n",
    "=\n",
    "\\boldsymbol\\mu_A + \\boldsymbol\\Sigma_{AB} \\boldsymbol\\Sigma_{BB}^{-1}\n",
    "\\left(\n",
    " \\mathbf{B} - \\boldsymbol\\mu_B\n",
    "\\right)\n",
    "$$\n",
    "\n",
    "and covariance matrix\n",
    "\n",
    "$$\n",
    "\\overline{\\boldsymbol\\Sigma}\n",
    "=\n",
    "\\boldsymbol\\Sigma_{AA} - \\boldsymbol\\Sigma_{AB} \\boldsymbol\\Sigma_{BB}^{-1} \\boldsymbol\\Sigma_{BA}.\n",
    "$$"
   ]
  },
  {
   "cell_type": "markdown",
   "metadata": {
    "id": "vvOKPSIxb6Im"
   },
   "source": [
    "Let us for our example take $X_5 = -2$. \n",
    "\n",
    "We have:\n",
    "\n",
    "$x_A = [x_1, x_2, x_3, x_4]$ and $x_B = [x_5]$\n",
    "\n",
    "Assuming the covariance matrix of size 5 X 5 is referred as $C$\n",
    "\n",
    "$$\n",
    "\\boldsymbol\\Sigma_{AA}\n",
    "=\n",
    "\\begin{bmatrix}\n",
    " C_{11} & C_{12} & C_{13} & C_{14}\\\\\n",
    " C_{21} & C_{22} & C_{23} & C_{24}\\\\\n",
    " C_{31} & C_{32} & C_{33} & C_{34}\\\\\n",
    " C_{41} & C_{42} & C_{43} & C_{44}\\\\\n",
    "\\end{bmatrix} \\\\\n",
    "$$\n",
    "\n",
    "$$\n",
    "\\boldsymbol\\Sigma_{AB}\n",
    "=\n",
    "\\begin{bmatrix}\n",
    " C_{15}\\\\\n",
    " C_{25}\\\\\n",
    " C_{35}\\\\\n",
    " C_{45}\\\\\n",
    "\\end{bmatrix}\n",
    "$$\n",
    "\n",
    "$$\n",
    "\\boldsymbol\\Sigma_{BA}\n",
    "=\n",
    "\\begin{bmatrix}\n",
    " C_{51}& C_{52} & C_{53} & C_{54}\\\\\n",
    "\\end{bmatrix}\n",
    "$$\n",
    "\n",
    "$$\n",
    "\\boldsymbol\\Sigma_{BB}\n",
    "=\n",
    "\\begin{bmatrix}\n",
    " C_{55}\\\\\n",
    "\\end{bmatrix}\n",
    "$$"
   ]
  },
  {
   "cell_type": "markdown",
   "metadata": {
    "id": "ZlCDCMaKb6Im"
   },
   "source": [
    "Putting in the numbers we get:\n",
    "    "
   ]
  },
  {
   "cell_type": "code",
   "execution_count": 36,
   "metadata": {
    "id": "J5ULwkazb6Im"
   },
   "outputs": [],
   "source": [
    "sigma_AA = covariance_5d[:4, :4]"
   ]
  },
  {
   "cell_type": "code",
   "execution_count": 37,
   "metadata": {
    "id": "3DeGeh3nb6Im",
    "outputId": "40d8bf13-123c-4290-cd12-e3e3d93f682c"
   },
   "outputs": [
    {
     "data": {
      "text/plain": [
       "array([[1. , 0.9, 0.8, 0.6],\n",
       "       [0.9, 1. , 0.9, 0.8],\n",
       "       [0.8, 0.9, 1. , 0.9],\n",
       "       [0.6, 0.8, 0.9, 1. ]])"
      ]
     },
     "execution_count": 37,
     "metadata": {},
     "output_type": "execute_result"
    }
   ],
   "source": [
    "sigma_AA"
   ]
  },
  {
   "cell_type": "code",
   "execution_count": 38,
   "metadata": {
    "id": "tJJ9B5vwb6Im"
   },
   "outputs": [],
   "source": [
    "sigma_AB = covariance_5d[:4, 4].reshape(-1, 1)"
   ]
  },
  {
   "cell_type": "code",
   "execution_count": 39,
   "metadata": {
    "id": "ZJpMqrm_b6In",
    "outputId": "6f40eab1-ce89-4362-b6d3-15ecd1437430"
   },
   "outputs": [
    {
     "data": {
      "text/plain": [
       "array([[0.4],\n",
       "       [0.6],\n",
       "       [0.8],\n",
       "       [0.9]])"
      ]
     },
     "execution_count": 39,
     "metadata": {},
     "output_type": "execute_result"
    }
   ],
   "source": [
    "sigma_AB"
   ]
  },
  {
   "cell_type": "code",
   "execution_count": 40,
   "metadata": {
    "id": "X-H3XIfMb6In"
   },
   "outputs": [],
   "source": [
    "sigma_BA = covariance_5d[4, :4].reshape(1, -1)"
   ]
  },
  {
   "cell_type": "code",
   "execution_count": 41,
   "metadata": {
    "id": "gnlmVqTYb6In",
    "outputId": "4721fa58-bd95-4654-d286-c522a21563bf"
   },
   "outputs": [
    {
     "data": {
      "text/plain": [
       "array([[0.4, 0.6, 0.8, 0.9]])"
      ]
     },
     "execution_count": 41,
     "metadata": {},
     "output_type": "execute_result"
    }
   ],
   "source": [
    "sigma_BA"
   ]
  },
  {
   "cell_type": "code",
   "execution_count": 42,
   "metadata": {
    "id": "GYYlDLd-b6In"
   },
   "outputs": [],
   "source": [
    "sigma_BB = covariance_5d[4, 4].reshape(-1, 1)"
   ]
  },
  {
   "cell_type": "code",
   "execution_count": 43,
   "metadata": {
    "id": "jV6u0tjjb6In",
    "outputId": "0158b6d5-65b8-4dba-b6ff-2669ca65e895"
   },
   "outputs": [
    {
     "data": {
      "text/plain": [
       "array([[1.]])"
      ]
     },
     "execution_count": 43,
     "metadata": {},
     "output_type": "execute_result"
    }
   ],
   "source": [
    "sigma_BB"
   ]
  },
  {
   "cell_type": "markdown",
   "metadata": {
    "id": "ziA3tSPsb6In"
   },
   "source": [
    "Now, calculating $\\bar{\\mu}$"
   ]
  },
  {
   "cell_type": "code",
   "execution_count": 44,
   "metadata": {
    "id": "OWe_uyHzb6Io"
   },
   "outputs": [],
   "source": [
    "mu_bar = np.zeros((4, 1)) + sigma_AB@np.linalg.inv(sigma_BB)*(-2)"
   ]
  },
  {
   "cell_type": "code",
   "execution_count": 45,
   "metadata": {
    "id": "VER7a3-Yb6Io",
    "outputId": "b79fa926-f456-4b44-b0c4-8b14ca756066"
   },
   "outputs": [
    {
     "data": {
      "text/plain": [
       "array([[-0.8],\n",
       "       [-1.2],\n",
       "       [-1.6],\n",
       "       [-1.8]])"
      ]
     },
     "execution_count": 45,
     "metadata": {},
     "output_type": "execute_result"
    }
   ],
   "source": [
    "mu_bar"
   ]
  },
  {
   "cell_type": "markdown",
   "metadata": {
    "id": "VP4Jazjub6Io"
   },
   "source": [
    "Since, $x_5$ has highest correlation with $x_4$ it makes sense for $x_5=-2$ to have the mean of $x_4$ to be close to -2."
   ]
  },
  {
   "cell_type": "markdown",
   "metadata": {
    "id": "9TczUr93b6Io"
   },
   "source": [
    "Now, calculating $\\bar{\\Sigma}$"
   ]
  },
  {
   "cell_type": "code",
   "execution_count": 46,
   "metadata": {
    "id": "tHwtKTQmb6Io"
   },
   "outputs": [],
   "source": [
    "sigma_bar = sigma_AA - sigma_AB@np.linalg.inv(sigma_BB)@sigma_BA"
   ]
  },
  {
   "cell_type": "code",
   "execution_count": 47,
   "metadata": {
    "id": "P4NBjQyvb6Io",
    "outputId": "33edeecc-60eb-418b-931b-6b9cad7e08d2"
   },
   "outputs": [
    {
     "data": {
      "text/plain": [
       "array([[0.84, 0.66, 0.48, 0.24],\n",
       "       [0.66, 0.64, 0.42, 0.26],\n",
       "       [0.48, 0.42, 0.36, 0.18],\n",
       "       [0.24, 0.26, 0.18, 0.19]])"
      ]
     },
     "execution_count": 47,
     "metadata": {},
     "output_type": "execute_result"
    }
   ],
   "source": [
    "sigma_bar"
   ]
  },
  {
   "cell_type": "markdown",
   "metadata": {
    "id": "uCEEY38Wb6Io"
   },
   "source": [
    "Now, we have the new mean and covariance matrices for $x_A = [x_1, x_2, x_3, x_4]$ and $x_B = [x_5] = [-2]$. Let us now draw some samples fixing $x_5 = -2$"
   ]
  },
  {
   "cell_type": "code",
   "execution_count": 48,
   "metadata": {
    "id": "sFevfNeJb6Ip"
   },
   "outputs": [],
   "source": [
    "cov = sigma_bar\n",
    "mu = mu_bar.flatten()\n",
    "def plot_5d_samples_fixed_x2(random_num):\n",
    "    fig, ax  = plt.subplots(ncols=2, figsize=(6, 3))\n",
    "    \n",
    "    \n",
    "    F = multivariate_normal(mu, cov)\n",
    "    \n",
    "    sns.heatmap(cov, ax=ax[0], annot=True)\n",
    "    random_point = F.rvs(random_state=random_num)\n",
    "    \n",
    "    \n",
    "    data_array = pd.Series(random_point, index=['X1','X2','X3','X4'])\n",
    "    data_array['X5'] = -2\n",
    "    data_array.plot(ax=ax[1], kind='line', marker='.',color='k')\n",
    "    plt.scatter([4], [-2], color='red', s=100)\n",
    "    plt.xticks(np.arange(len(data_array.index)), data_array.index.values)\n",
    "    ax[1].set_ylim(-3, 3)\n",
    "    for i in range(2):\n",
    "        format_axes(ax[i])\n",
    "    \n",
    "    ax[0].set_title(\"Covariance Matrix\")\n",
    "    ax[-1].set_title(\"Visualising the point\")\n",
    "    plt.suptitle(f\"Random state = {random_num}\", y=1.1)\n",
    "    plt.tight_layout()\n",
    "    import os\n",
    "    if not os.path.exists(\"images/5d/conditional/1\"):\n",
    "        os.makedirs(\"images/5d/conditional/1\")\n",
    "    \n",
    "    plt.savefig(f\"images/5d/conditional/1/{random_num}.jpg\", bbox_inches=\"tight\")\n",
    "    plt.close()\n",
    "    "
   ]
  },
  {
   "cell_type": "code",
   "execution_count": 49,
   "metadata": {
    "id": "dwdM-ze4b6Ip"
   },
   "outputs": [],
   "source": [
    "for i in range(20):\n",
    "    plot_5d_samples_fixed_x2(i)"
   ]
  },
  {
   "cell_type": "code",
   "execution_count": 50,
   "metadata": {
    "id": "Fn_uqwqyb6Ip"
   },
   "outputs": [],
   "source": [
    "!convert -delay 20 -loop 0 images/5d/conditional/1/*.jpg 5d-conditional-1.gif"
   ]
  },
  {
   "cell_type": "markdown",
   "metadata": {
    "id": "OwV-OMR1b6Ip"
   },
   "source": [
    "![](https://github.com/nipunbatra/blog/blob/master/_notebooks/5d-conditional-1.gif?raw=1)"
   ]
  },
  {
   "cell_type": "markdown",
   "metadata": {
    "id": "rro8hAosb6Ip"
   },
   "source": [
    "### Let's increase to 20 dimensions now!"
   ]
  },
  {
   "cell_type": "markdown",
   "metadata": {
    "id": "875SMynBb6Ip"
   },
   "source": [
    "We can not surely write the covariance matrix for 20 dimensions. Let us use a small trick called the kernel function to create this matrix. We will come it later. For now, let us think of this function as a function which:\n",
    "\n",
    "* outputs low numbers for $x_1$ and $x_2$ if they differ by a lot\n",
    "* outputs high number for $x_1$ and $x_2$ if they are very close"
   ]
  },
  {
   "cell_type": "code",
   "execution_count": 51,
   "metadata": {
    "id": "l3jkYcN3b6Ip"
   },
   "outputs": [],
   "source": [
    "def rbf_kernel(x_1, x_2, sig):\n",
    "    return np.exp((-(x_1-x_2)**2)/2*(sig**2))"
   ]
  },
  {
   "cell_type": "code",
   "execution_count": 52,
   "metadata": {
    "id": "mnsLUZqeb6Iq",
    "outputId": "88c4b6ba-cb33-46ea-aa7c-8684766334ae"
   },
   "outputs": [
    {
     "data": {
      "text/plain": [
       "1.0"
      ]
     },
     "execution_count": 52,
     "metadata": {},
     "output_type": "execute_result"
    }
   ],
   "source": [
    "rbf_kernel(1, 1, 0.4)"
   ]
  },
  {
   "cell_type": "markdown",
   "metadata": {
    "id": "J8VTD2eEb6Iq"
   },
   "source": [
    "Since 1=1, the above function evaluates to 1 showing that 1 is similar to 1"
   ]
  },
  {
   "cell_type": "code",
   "execution_count": 53,
   "metadata": {
    "id": "1h_G9Pdlb6Iq",
    "outputId": "43a7d79c-67e8-4596-dbf6-7beef5bc8d57"
   },
   "outputs": [
    {
     "data": {
      "text/plain": [
       "0.9231163463866358"
      ]
     },
     "execution_count": 53,
     "metadata": {},
     "output_type": "execute_result"
    }
   ],
   "source": [
    "rbf_kernel(1, 2, 0.4)"
   ]
  },
  {
   "cell_type": "markdown",
   "metadata": {
    "id": "47EES5Lkb6Iq"
   },
   "source": [
    "Since 1 and 2 are close, the function above evaluates to close to 1"
   ]
  },
  {
   "cell_type": "code",
   "execution_count": 54,
   "metadata": {
    "id": "7NA8lSY7b6Iq",
    "outputId": "9d2c904b-14c1-4de2-faff-673c56361674"
   },
   "outputs": [
    {
     "data": {
      "text/plain": [
       "0.6065306597126334"
      ]
     },
     "execution_count": 54,
     "metadata": {},
     "output_type": "execute_result"
    }
   ],
   "source": [
    "rbf_kernel(1, 2, 1)"
   ]
  },
  {
   "cell_type": "markdown",
   "metadata": {
    "id": "guneJe8jb6Iq"
   },
   "source": [
    "Ok, we use the same first two arguments 1 and 2 but change the last one to 1 from 0.4 and we see that the function evaluates to a much smaller number. Thus, we can see that increase the `sig` parameter leads to quicker dropoff in similarity between pair of points. Or, in other words, higher `sig` means that the influence of a point `x_1` reduces quicker."
   ]
  },
  {
   "cell_type": "markdown",
   "metadata": {
    "id": "wLY2qLu4b6Ir"
   },
   "source": [
    "Let us now create the covariance matrix of size (20, 20) using this kernel function."
   ]
  },
  {
   "cell_type": "code",
   "execution_count": 55,
   "metadata": {
    "id": "gdJpmPkNb6Ir"
   },
   "outputs": [],
   "source": [
    "C = np.zeros((20, 20))"
   ]
  },
  {
   "cell_type": "code",
   "execution_count": 56,
   "metadata": {
    "id": "a-VxReQmb6Ir"
   },
   "outputs": [],
   "source": [
    "for i in range(20):\n",
    "    for j in range(20):\n",
    "        C[i, j] = rbf_kernel(i, j, 0.5)"
   ]
  },
  {
   "cell_type": "markdown",
   "metadata": {
    "id": "OpHectwKb6Ir"
   },
   "source": [
    "Let us plot the heatmap of the covariance matrix"
   ]
  },
  {
   "cell_type": "code",
   "execution_count": 57,
   "metadata": {
    "id": "GhkvIVG2b6Ir",
    "outputId": "63aee3c7-0ee4-4c9b-8847-afe6cdf7f9e0"
   },
   "outputs": [
    {
     "data": {
      "image/png": "[encoded data removed]",
      "text/plain": [
       "<Figure size 432x288 with 2 Axes>"
      ]
     },
     "metadata": {
      "needs_background": "light"
     },
     "output_type": "display_data"
    }
   ],
   "source": [
    "sns.heatmap(C);"
   ]
  },
  {
   "cell_type": "markdown",
   "metadata": {
    "id": "wZgXQbfob6Ir"
   },
   "source": [
    "The above heatmap confirms that there is correlation between nearby points, but close to zero or zero correlation otherwise."
   ]
  },
  {
   "cell_type": "markdown",
   "metadata": {
    "id": "Ru2mykjGb6Ir"
   },
   "source": [
    "#### Let us draw some samples from this 20 dimensional Gaussian"
   ]
  },
  {
   "cell_type": "code",
   "execution_count": 58,
   "metadata": {
    "id": "Qx9zK7aOb6Is"
   },
   "outputs": [],
   "source": [
    "def plot_20d_samples(random_num):\n",
    "    fig, ax  = plt.subplots(figsize=(10, 3))\n",
    "    \n",
    "    \n",
    "    F = multivariate_normal(np.zeros(20), C)\n",
    "    random_point = F.rvs(random_state=random_num)\n",
    "    index = [f'X{i}' for i in range(1, 21)]\n",
    "    data_array = pd.Series(random_point, index=index)\n",
    "    data_array.plot(ax=ax, kind='line', marker='.',color='k')\n",
    "    plt.xticks(np.arange(len(data_array.index)), data_array.index.values)\n",
    "    \n",
    "    plt.suptitle(f\"Random state = {random_num}\", y=1.1)\n",
    "    plt.tight_layout()\n",
    "    import os\n",
    "    if not os.path.exists(\"images/20d/\"):\n",
    "        os.makedirs(\"images/20d/\")\n",
    "    \n",
    "    plt.ylim(-3, 3)\n",
    "    plt.savefig(f\"images/20d/{random_num}.jpg\", bbox_inches=\"tight\")\n",
    "    plt.close()"
   ]
  },
  {
   "cell_type": "code",
   "execution_count": 59,
   "metadata": {
    "id": "YVcLqHcvb6Is"
   },
   "outputs": [],
   "source": [
    "for i in range(50):\n",
    "    plot_20d_samples(i)"
   ]
  },
  {
   "cell_type": "code",
   "execution_count": 60,
   "metadata": {
    "id": "e1qowkUeb6Is"
   },
   "outputs": [],
   "source": [
    "!convert -delay 20 -loop 0 images/20d/*.jpg 20d.gif"
   ]
  },
  {
   "cell_type": "markdown",
   "metadata": {
    "id": "C5tXA6f1b6Is"
   },
   "source": [
    "![](https://github.com/nipunbatra/blog/blob/master/_notebooks/20d.gif?raw=1)"
   ]
  },
  {
   "cell_type": "markdown",
   "metadata": {
    "id": "qC3X5sm-b6Is"
   },
   "source": [
    "From the animation above, we can see different family of functions of mean zero across these 20 points. We're really getting close now!"
   ]
  },
  {
   "cell_type": "markdown",
   "metadata": {
    "id": "XaBAiuVmb6Is"
   },
   "source": [
    "#### Let us now condition on a few elements "
   ]
  },
  {
   "cell_type": "markdown",
   "metadata": {
    "id": "munFDadPb6Is"
   },
   "source": [
    "We will create a new ordering of these variables such that the known variables occur towards the end. This allows for easy calculations for conditioning."
   ]
  },
  {
   "cell_type": "code",
   "execution_count": 61,
   "metadata": {
    "id": "zs1oPE_nb6It"
   },
   "outputs": [],
   "source": [
    "order = [2, 3, 4, 6, 7, 8, 9, 11, 12, 13, 14, 15, 16, 17, 18, 19, 0, 1, 5, 10]"
   ]
  },
  {
   "cell_type": "code",
   "execution_count": 62,
   "metadata": {
    "id": "fiot6eXmb6It"
   },
   "outputs": [],
   "source": [
    "new_C = np.zeros_like(C)"
   ]
  },
  {
   "cell_type": "code",
   "execution_count": 63,
   "metadata": {
    "id": "1AJfziw6b6It"
   },
   "outputs": [],
   "source": [
    "old_order = range(20)"
   ]
  },
  {
   "cell_type": "code",
   "execution_count": 64,
   "metadata": {
    "id": "AVpRP4Eyb6It"
   },
   "outputs": [],
   "source": [
    "for i in range(20):\n",
    "    for j in range(20):\n",
    "        new_C[i, j] = C[order[i], order[j]]"
   ]
  },
  {
   "cell_type": "code",
   "execution_count": 65,
   "metadata": {
    "id": "ElOwAakqb6It",
    "outputId": "f7b8bdc0-9c03-47e4-ce60-1e19d8c375ec"
   },
   "outputs": [
    {
     "data": {
      "image/png": "[encoded data removed]",
      "text/plain": [
       "<Figure size 432x288 with 2 Axes>"
      ]
     },
     "metadata": {
      "needs_background": "light"
     },
     "output_type": "display_data"
    }
   ],
   "source": [
    "sns.heatmap(new_C, xticklabels=order, yticklabels=order, cmap='jet');"
   ]
  },
  {
   "cell_type": "markdown",
   "metadata": {
    "id": "uOVxcV5eb6It"
   },
   "source": [
    "Now, we can condition on (x1 = 1, x2 = 3, x6 = -3, X11 = 1). We will use the same procedure we used above in the case of 5d."
   ]
  },
  {
   "cell_type": "code",
   "execution_count": 66,
   "metadata": {
    "id": "6_6ub0uKb6Iu",
    "outputId": "d3943c46-8e73-4e7a-b6d4-6f259a40c15c"
   },
   "outputs": [
    {
     "data": {
      "text/plain": [
       "array([[ 1],\n",
       "       [ 3],\n",
       "       [-3],\n",
       "       [ 1]])"
      ]
     },
     "execution_count": 66,
     "metadata": {},
     "output_type": "execute_result"
    }
   ],
   "source": [
    "B = np.array([1, 3, -3, 1]).reshape(-1, 1)\n",
    "B"
   ]
  },
  {
   "cell_type": "code",
   "execution_count": 67,
   "metadata": {
    "id": "-Ba0Okbnb6Iu",
    "outputId": "de4c34c5-ea75-4692-a31a-af9f82d4b6db"
   },
   "outputs": [
    {
     "data": {
      "text/plain": [
       "(16, 16)"
      ]
     },
     "execution_count": 67,
     "metadata": {},
     "output_type": "execute_result"
    }
   ],
   "source": [
    "sigma_AA_20d = new_C[:-B.size, :-B.size]\n",
    "sigma_AA_20d.shape"
   ]
  },
  {
   "cell_type": "code",
   "execution_count": 68,
   "metadata": {
    "id": "dDJ0H4H2b6Iu",
    "outputId": "ed3acc13-c54c-4dd8-ee66-2cad63fefcc7"
   },
   "outputs": [
    {
     "data": {
      "text/plain": [
       "(4, 4)"
      ]
     },
     "execution_count": 68,
     "metadata": {},
     "output_type": "execute_result"
    }
   ],
   "source": [
    "sigma_BB_20d = new_C[-B.size:, -B.size:]\n",
    "sigma_BB_20d.shape"
   ]
  },
  {
   "cell_type": "code",
   "execution_count": 69,
   "metadata": {
    "id": "EmrEEsOIb6Iu",
    "outputId": "d7e419f0-1904-45fa-9330-7c900c4520a5"
   },
   "outputs": [
    {
     "data": {
      "text/plain": [
       "(16, 4)"
      ]
     },
     "execution_count": 69,
     "metadata": {},
     "output_type": "execute_result"
    }
   ],
   "source": [
    "sigma_AB_20d = new_C[:-B.size, -B.size:]\n",
    "sigma_AB_20d.shape"
   ]
  },
  {
   "cell_type": "code",
   "execution_count": 70,
   "metadata": {
    "id": "bUY8QCUkb6Iu",
    "outputId": "7ef143ff-6834-47a1-ceef-cd1637929db1"
   },
   "outputs": [
    {
     "data": {
      "text/plain": [
       "(4, 16)"
      ]
     },
     "execution_count": 70,
     "metadata": {},
     "output_type": "execute_result"
    }
   ],
   "source": [
    "sigma_BA_20d = new_C[-B.size:, :-B.size]\n",
    "sigma_BA_20d.shape"
   ]
  },
  {
   "cell_type": "code",
   "execution_count": 71,
   "metadata": {
    "id": "PG0G1_Klb6Iu"
   },
   "outputs": [],
   "source": [
    "mu_bar_20d = np.zeros((20-B.size, 1)) + sigma_AB_20d@np.linalg.inv(sigma_BB_20d)@(B)"
   ]
  },
  {
   "cell_type": "code",
   "execution_count": 72,
   "metadata": {
    "id": "hXtOeZeDb6Iv"
   },
   "outputs": [],
   "source": [
    "sigma_bar_20d = sigma_AA_20d - sigma_AB_20d@np.linalg.inv(sigma_BB_20d)@sigma_BA_20d"
   ]
  },
  {
   "cell_type": "code",
   "execution_count": 73,
   "metadata": {
    "id": "CBZmKXGJb6Iv",
    "outputId": "11dfeb5d-7114-454d-d8d0-424da1a09ac1"
   },
   "outputs": [
    {
     "data": {
      "image/png": "[encoded data removed]",
      "text/plain": [
       "<Figure size 432x288 with 2 Axes>"
      ]
     },
     "metadata": {
      "needs_background": "light"
     },
     "output_type": "display_data"
    }
   ],
   "source": [
    "sns.heatmap(sigma_bar_20d, xticklabels=order[:-B.size], yticklabels=order[:-B.size], cmap='jet');"
   ]
  },
  {
   "cell_type": "code",
   "execution_count": 74,
   "metadata": {
    "id": "JfXkcR76b6Iv"
   },
   "outputs": [],
   "source": [
    "def plot_20d_samples_known_x(random_num):\n",
    "    fig, ax  = plt.subplots(figsize=(10, 3))\n",
    "    \n",
    "    \n",
    "    F = multivariate_normal(mu_bar_20d.flatten(), sigma_bar_20d)\n",
    "    random_point = F.rvs(random_state=random_num)\n",
    "    index = [f'X{i+1}' for i in order[:-B.size]]\n",
    "    data_array = pd.Series(random_point, index=index)\n",
    "    data_array['X1'] = 1\n",
    "    data_array['X2'] = 3\n",
    "    data_array['X6'] = -3\n",
    "    data_array['X11'] = -1\n",
    "    \n",
    "    data_array = data_array[[f'X{i+1}' for i in range(20)]]\n",
    "    data_array.plot(ax=ax, kind='line', marker='.',color='k')\n",
    "    plt.xticks(np.arange(len(data_array.index)), data_array.index.values)\n",
    "    plt.scatter([0, 1,5, 10], [1, 3, -3, -1], color='red',s=100)\n",
    "\n",
    "    plt.suptitle(f\"Random state = {random_num}\", y=1.1)\n",
    "    plt.tight_layout()\n",
    "    import os\n",
    "    if not os.path.exists(\"images/20d/conditional/\"):\n",
    "        os.makedirs(\"images/20d/conditional/\")\n",
    "    plt.grid()\n",
    "    plt.ylim(-4, 4)\n",
    "    plt.savefig(f\"images/20d/conditional/{random_num}.jpg\", bbox_inches=\"tight\")\n",
    "    plt.close()"
   ]
  },
  {
   "cell_type": "code",
   "execution_count": 75,
   "metadata": {
    "id": "3xZ5AWqub6Iv"
   },
   "outputs": [],
   "source": [
    "for i in range(50):\n",
    "    plot_20d_samples_known_x(i)"
   ]
  },
  {
   "cell_type": "code",
   "execution_count": 76,
   "metadata": {
    "id": "IC6P1Y9ob6Iv"
   },
   "outputs": [],
   "source": [
    "!convert -delay 20 -loop 0 images/20d/conditional/*.jpg 20d-conditional.gif"
   ]
  },
  {
   "cell_type": "markdown",
   "metadata": {
    "id": "eJ3Z8Hscb6Iv"
   },
   "source": [
    "![](https://github.com/nipunbatra/blog/blob/master/_notebooks/20d-conditional.gif?raw=1)"
   ]
  },
  {
   "cell_type": "markdown",
   "metadata": {
    "id": "koN7cbISb6Iw"
   },
   "source": [
    "From the plot above, we can see the known points in red and the other points wiggle to show the families of functions that we fit. Let us now draw a lot of samples and plot the mean and variance in these samples for the unknown X variables. We could have obtained the mean and variance directly using Gaussian marginalisation, but, for now let us just draw many samples."
   ]
  },
  {
   "cell_type": "code",
   "execution_count": 77,
   "metadata": {
    "id": "3XsjZTc4b6Iw"
   },
   "outputs": [],
   "source": [
    "F = multivariate_normal(mu_bar_20d.flatten(), sigma_bar_20d)\n",
    "dfs = {}\n",
    "for random_num in range(100):\n",
    "    random_point = F.rvs(random_state=random_num)\n",
    "    index = [f'X{i+1}' for i in order[:-B.size]]\n",
    "    data_array = pd.Series(random_point, index=index)\n",
    "    data_array['X1'] = 1\n",
    "    data_array['X2'] = 3\n",
    "    data_array['X6'] = -3\n",
    "    data_array['X11'] = -1\n",
    "    \n",
    "    data_array = data_array[[f'X{i+1}' for i in range(20)]]\n",
    "    dfs[random_num] = data_array\n"
   ]
  },
  {
   "cell_type": "code",
   "execution_count": 78,
   "metadata": {
    "id": "KV-9sG0Rb6Iw",
    "outputId": "223ae0ee-a510-401a-f4ec-89ce7b21d9ac"
   },
   "outputs": [
    {
     "data": {
      "image/png": "[encoded data removed]",
      "text/plain": [
       "<Figure size 720x216 with 1 Axes>"
      ]
     },
     "metadata": {
      "needs_background": "light"
     },
     "output_type": "display_data"
    }
   ],
   "source": [
    "fig, ax = plt.subplots(figsize=(10, 3))\n",
    "pd.DataFrame(dfs).mean(axis=1).plot(yerr=pd.DataFrame(dfs).std(axis=1),marker='o', color='k')\n",
    "plt.xticks(np.arange(len(data_array.index)), data_array.index.values)\n",
    "plt.scatter([0, 1,5, 10], [1, 3, -3, -1], color='red',s=100)\n",
    "format_axes(plt.gca());"
   ]
  },
  {
   "cell_type": "markdown",
   "metadata": {
    "id": "THfDqu-gb6Iw"
   },
   "source": [
    "From the plot above, we can see the uncertainty (standard deviation) and the mean values for different variables. As expected, the uncertainty close to the known points (red) is low. Also, owing to the smooth nature of the covariance function we can see the means of unknown points close to known points are fairly similar."
   ]
  },
  {
   "cell_type": "markdown",
   "metadata": {
    "id": "irT17gzeb6Iw"
   },
   "source": [
    "To summarise: We can very clearly see that there is low variance in zones where we have the known values and high variance otherwise. The farther we go away from a known value, the more is the variance!"
   ]
  },
  {
   "cell_type": "markdown",
   "metadata": {
    "id": "x8SCyBnXb6Iw"
   },
   "source": [
    "### Kernels!\n",
    "\n",
    "We will now take a small plunge into the world of kernels. As mentioned earlier, we will limit the discussion to generating to covariance matrix.\n",
    "\n",
    "We will be redefining the function mentioned above to include two parameters `l` and `s`\n",
    "\n",
    "* `s` is the scale of variance\n",
    "* `l` is the influence of the point to neighbouring points"
   ]
  },
  {
   "cell_type": "code",
   "execution_count": 79,
   "metadata": {
    "id": "lgQMdpofb6Iw"
   },
   "outputs": [],
   "source": [
    "def sig(x1, x2, l, s):\n",
    "    return s**2*(np.exp((-1/2*(l**2))*((x1-x2)**2)))"
   ]
  },
  {
   "cell_type": "code",
   "execution_count": 80,
   "metadata": {
    "id": "oyJtS_jhb6Ix"
   },
   "outputs": [],
   "source": [
    "Cov_matrix = np.zeros((100, 100))"
   ]
  },
  {
   "cell_type": "code",
   "execution_count": 81,
   "metadata": {
    "id": "cPJQ-W51b6Ix",
    "outputId": "82839754-3b73-4568-d631-26f08f52e095"
   },
   "outputs": [
    {
     "data": {
      "image/png": "[encoded data removed]",
      "text/plain": [
       "<Figure size 432x288 with 5 Axes>"
      ]
     },
     "metadata": {
      "needs_background": "light"
     },
     "output_type": "display_data"
    }
   ],
   "source": [
    "fig, ax = plt.subplots(ncols=4, sharex=True, sharey=True)\n",
    "s = 1\n",
    "for ix, l in enumerate([0.001, 0.01, 0.1, 1]):\n",
    "    for i in range(100):\n",
    "        for j in range(100):\n",
    "            Cov_matrix[i, j] = sig(i, j, l, 1)\n",
    "    im = ax[ix].imshow(Cov_matrix, cmap='jet')\n",
    "    ax[ix].set_title(f\"l={l}\")\n",
    "fig.subplots_adjust(right=0.8)\n",
    "cbar_ax = fig.add_axes([0.85, 0.35, 0.05, 0.3])\n",
    "fig.colorbar(im, cax=cbar_ax)\n",
    "plt.suptitle(f\"Covariance matrix for varying l and s = {s}\");"
   ]
  },
  {
   "cell_type": "markdown",
   "metadata": {
    "id": "dmGTrOwpb6Ix"
   },
   "source": [
    "In the plot above, we can the covariance matrices for fixed `s=1` and varying `l`. It can be seen that for very low `l`, the correlations between far away points is also significant. At `l=1`, this ceases to be the case."
   ]
  },
  {
   "cell_type": "code",
   "execution_count": 82,
   "metadata": {
    "id": "UXibFYCRb6Ix",
    "outputId": "a632b2e9-9dc0-4a97-e0d0-056ae2149aa5"
   },
   "outputs": [
    {
     "data": {
      "image/png": "[encoded data removed]",
      "text/plain": [
       "<Figure size 864x216 with 8 Axes>"
      ]
     },
     "metadata": {
      "needs_background": "light"
     },
     "output_type": "display_data"
    }
   ],
   "source": [
    "fig, ax = plt.subplots(ncols=4, sharex=True, sharey=True, figsize=(12, 3))\n",
    "for ix, s in enumerate([1, 10, 20, 30]):\n",
    "    for i in range(100):\n",
    "        for j in range(100):\n",
    "            Cov_matrix[i, j] = sig(i, j, 0.1, s)\n",
    "    sns.heatmap(Cov_matrix, cmap='jet', ax=ax[ix])\n",
    "    ax[ix].set_title(f\"s={s}\")\n",
    "plt.suptitle(\"Covariance matrix for varying s and l = 0.1\");\n",
    "plt.tight_layout()"
   ]
  },
  {
   "cell_type": "markdown",
   "metadata": {
    "id": "U4cryzsNb6Ix"
   },
   "source": [
    "Ok, this is great. We can see the different scales on the colorbars with increasing `s` and fixing `l`"
   ]
  },
  {
   "cell_type": "markdown",
   "metadata": {
    "id": "pDFOZQrPb6Ix"
   },
   "source": [
    "Now, let us try and redo the 20 point dataset with varying kernel parameters with conditioning on some known data."
   ]
  },
  {
   "cell_type": "code",
   "execution_count": 83,
   "metadata": {
    "id": "QGTBLJrxb6Iy"
   },
   "outputs": [],
   "source": [
    "def fit_plot_gp(kernel_s, kernel_l, known_data, total_data_points, save=False):\n",
    "    \"\"\"\n",
    "    kernel_s: sigma^2 param of kernel\n",
    "    kernel_l: l (width) param of kernel\n",
    "    known_data: {pos: value}\n",
    "    total_data_points\n",
    "    \"\"\"\n",
    "    o = list(range(20))\n",
    "    for key in known_data.keys():\n",
    "        o.remove(key)\n",
    "    o.extend(list(known_data.keys()))\n",
    "    \n",
    "    C = np.zeros((total_data_points, total_data_points))\n",
    "    for i in range(total_data_points):\n",
    "        for j in range(total_data_points):\n",
    "            C[i, j] = sig(i, j, kernel_l, kernel_s)\n",
    "        \n",
    "    \n",
    "    # Making known variables shift\n",
    "    new_C = np.zeros_like(C)\n",
    "    for i in range(20):\n",
    "        for j in range(20):\n",
    "            new_C[i, j] = C[o[i], o[j]]\n",
    "    B = np.array(list(known_data.values())).reshape(-1, 1)    \n",
    "    sigma_BA_20d = new_C[-B.size:, :-B.size]\n",
    "    sigma_AB_20d = new_C[:-B.size, -B.size:]\n",
    "    sigma_BB_20d = new_C[-B.size:, -B.size:]\n",
    "    sigma_AA_20d = new_C[:-B.size, :-B.size]\n",
    "\n",
    "    mu_bar_20d = np.zeros((20-B.size, 1)) + sigma_AB_20d@np.linalg.inv(sigma_BB_20d)@(B)\n",
    "    sigma_bar_20d = sigma_AA_20d - sigma_AB_20d@np.linalg.inv(sigma_BB_20d)@sigma_BA_20d\n",
    "    F = multivariate_normal(mu_bar_20d.flatten(), sigma_bar_20d)\n",
    "    dfs = {}\n",
    "    for random_num in range(100):\n",
    "        random_point = F.rvs(random_state=random_num)\n",
    "        index = [f'X{i+1}' for i in o[:-B.size]]\n",
    "        data_array = pd.Series(random_point, index=index)\n",
    "        for k, v in known_data.items():\n",
    "            data_array[f'X{k+1}'] = v\n",
    "        \n",
    "\n",
    "        data_array = data_array[[f'X{i+1}' for i in range(20)]]\n",
    "        dfs[random_num] = data_array\n",
    "    fig, ax = plt.subplots(figsize=(10, 3))\n",
    "    mean_vector = pd.DataFrame(dfs).mean(axis=1)\n",
    "    mean_vector.plot(marker='.', color='k')\n",
    "    yerr=pd.DataFrame(dfs).std(axis=1)\n",
    "    \n",
    "    plt.fill_between(range(len(mean_vector)), mean_vector+yerr, mean_vector-yerr, color='gray',alpha=0.4)\n",
    "    plt.xticks(np.arange(len(data_array.index)), data_array.index.values)\n",
    "    plt.scatter(list(known_data.keys()), list(known_data.values()), color='gray',s=200,zorder=1)\n",
    "    format_axes(plt.gca())\n",
    "    plt.title(f\" l = {kernel_l} and s = {kernel_s}\")\n",
    "    import os\n",
    "    if save:\n",
    "        if not os.path.exists(\"images/20d/conditional-points/\"):\n",
    "            os.makedirs(\"images/20d/conditional-points/\")\n",
    "        plt.grid()\n",
    "        plt.xticks(np.arange(len(data_array.index)), np.arange(len(data_array.index)))\n",
    "        plt.ylim(-4, 4)\n",
    "        plt.title(f\"Known data: {known_data}\")\n",
    "        plt.savefig(f\"images/20d/conditional-points/{len(known_data.keys())}.jpg\", bbox_inches=\"tight\")\n",
    "        plt.close()\n",
    "        "
   ]
  },
  {
   "cell_type": "code",
   "execution_count": 84,
   "metadata": {
    "id": "Vch1jETwb6Iy"
   },
   "outputs": [],
   "source": [
    "known_d = {0:-2, 1:3, 9:-1, 14:-1}"
   ]
  },
  {
   "cell_type": "code",
   "execution_count": 85,
   "metadata": {
    "id": "cQzduvF3b6Iy",
    "outputId": "a97fb118-b491-4661-cd8e-e522db08f4c9"
   },
   "outputs": [
    {
     "data": {
      "image/png": "[encoded data removed]",
      "text/plain": [
       "<Figure size 720x216 with 1 Axes>"
      ]
     },
     "metadata": {
      "needs_background": "light"
     },
     "output_type": "display_data"
    }
   ],
   "source": [
    "fit_plot_gp(1, 0.5, known_d, 20)"
   ]
  },
  {
   "cell_type": "markdown",
   "metadata": {
    "id": "AnD4xFn4b6Iy"
   },
   "source": [
    "The above plot shows the uncertainty and the family of functions for `l=0.5` and `s=1`. "
   ]
  },
  {
   "cell_type": "code",
   "execution_count": 86,
   "metadata": {
    "id": "Kk0ZFOS_b6Iy",
    "outputId": "24e02690-bdad-42a2-d7f6-9fc148480c82"
   },
   "outputs": [
    {
     "data": {
      "image/png": "[encoded data removed]",
      "text/plain": [
       "<Figure size 720x216 with 1 Axes>"
      ]
     },
     "metadata": {
      "needs_background": "light"
     },
     "output_type": "display_data"
    }
   ],
   "source": [
    "fit_plot_gp(5, 0.5, known_d, 20)"
   ]
  },
  {
   "cell_type": "markdown",
   "metadata": {
    "id": "M_MUbjyfb6Iz"
   },
   "source": [
    "Keeping `l=0.5`, the above plot shows how increasing `s` increases the uncertainty of estimation."
   ]
  },
  {
   "cell_type": "code",
   "execution_count": 87,
   "metadata": {
    "id": "PxXyRnugb6Iz",
    "outputId": "ec4206b8-9642-4e6e-9f22-95fa4fef4cf2"
   },
   "outputs": [
    {
     "data": {
      "image/png": "[encoded data removed]",
      "text/plain": [
       "<Figure size 720x216 with 1 Axes>"
      ]
     },
     "metadata": {
      "needs_background": "light"
     },
     "output_type": "display_data"
    }
   ],
   "source": [
    "fit_plot_gp(1, 1, known_d, 20)"
   ]
  },
  {
   "cell_type": "markdown",
   "metadata": {
    "id": "JsgwmkUPb6Iz"
   },
   "source": [
    "The above plot shows how increasing `l` reduces the influence between far away points."
   ]
  },
  {
   "cell_type": "code",
   "execution_count": 88,
   "metadata": {
    "id": "saIwlrqTb6Iz",
    "outputId": "7618ca28-4937-4827-bdad-5d627cef02b5"
   },
   "outputs": [
    {
     "data": {
      "image/png": "[encoded data removed]",
      "text/plain": [
       "<Figure size 720x216 with 1 Axes>"
      ]
     },
     "metadata": {
      "needs_background": "light"
     },
     "output_type": "display_data"
    }
   ],
   "source": [
    "fit_plot_gp(1, 100, known_d, 20)"
   ]
  },
  {
   "cell_type": "markdown",
   "metadata": {
    "id": "4_dybNG5b6Iz"
   },
   "source": [
    "The above plot increases `l` to a very large value. Seems to be just moving around the mean?"
   ]
  },
  {
   "cell_type": "code",
   "execution_count": 89,
   "metadata": {
    "id": "Nc-sxkjyb6Iz"
   },
   "outputs": [],
   "source": [
    "np.random.seed(0)\n",
    "order_points_added = np.random.choice(range(20), size=9, replace=False)\n",
    "k = {}\n",
    "for i in range(9):\n",
    "    k[order_points_added[i]] = np.random.choice(range(-3, 3))\n",
    "    fit_plot_gp(1, 0.5, k, 20, True)"
   ]
  },
  {
   "cell_type": "code",
   "execution_count": 90,
   "metadata": {
    "id": "IND154Ewb6Iz"
   },
   "outputs": [],
   "source": [
    "!convert -delay 40 -loop 0 images/20d/conditional-points/*.jpg 20d-conditional-main.gif"
   ]
  },
  {
   "cell_type": "markdown",
   "metadata": {
    "id": "_fb59V14b6I0"
   },
   "source": [
    "Let us create a small animation where we keep on adding points and see how the uncertainty and estimation changes"
   ]
  },
  {
   "cell_type": "markdown",
   "metadata": {
    "id": "jPJ6XwHfb6I0"
   },
   "source": [
    "![](https://github.com/nipunbatra/blog/blob/master/_notebooks/20d-conditional-main.gif?raw=1)"
   ]
  },
  {
   "cell_type": "markdown",
   "metadata": {
    "id": "Yp4hkdleb6I0"
   },
   "source": [
    "### Creating a scikit-learn like function containing `fit` and `predict`\n",
    "\n",
    "I'll now bring in the formal definitions, summarise the discussion and write a function akin to scikit-learn which can accept train data to estimate for test data.\n",
    "\n",
    "\n",
    "#### Formally defining GPs\n",
    "\n",
    "A Gaussian process is fully specified by a mean function `m(x)` and\n",
    "covariance function `K(x, x')`\n",
    ":\n",
    "\n",
    "$$\n",
    "f(x) \\sim GP (m(x),K(x, x')\n",
    "$$\n",
    "\n",
    "\n",
    "Let us consider a case of noiseless GPs now\n",
    "\n",
    "#### Noiseless GPs \n",
    "\n",
    "Given train data \n",
    "\n",
    "$$D = {(x_i, y_i), i = 1:N}$$\n",
    "\n",
    "Given a test set $X_{*}$ of size $N_* \\times d $ containing $N_*$ points in ${\\rm I\\!R}^d$, we want to predict function outputs $y_{*}$\n",
    "\n",
    "We can write:\n",
    "\n",
    "$$\n",
    "\\begin{pmatrix}\n",
    " y \\\\\n",
    " y_*\n",
    "\\end{pmatrix}  \\sim \\mathcal{N} \\left( \\begin{pmatrix}\n",
    " \\mu \\\\\n",
    " \\mu_*\n",
    "\\end{pmatrix} , \\begin{pmatrix}\n",
    " K & K_* \\\\\n",
    " K_*^T & K_{**}\n",
    "\\end{pmatrix} \\right)\n",
    "$$\n",
    "\n",
    "where\n",
    "\n",
    "$$\n",
    "K = Ker(X, X) \\in {\\rm I\\!R}^{N\\times N}\\\\\n",
    "K_* = Ker(X, X_*) \\in {\\rm I\\!R}^{N\\times N_*}\\\\\n",
    "K_{**} = Ker(X_*, X_*) \\in {\\rm I\\!R}^{N_*\\times N_*}\\\\\n",
    "$$\n",
    "\n",
    "We had previously used the kernel which we will continue to use\n",
    "```python\n",
    "def sig(x1, x2, l, s):\n",
    "    return s**2*(np.exp((-1/2*(l**2))*((x1-x2)**2)))\n",
    "```\n",
    "\n",
    "We can then write:\n",
    "\n",
    "$$\n",
    "p(y_*|X_*, X, y) \\sim \\mathcal{N}(\\mu', \\Sigma') \\\\\n",
    "\\mu' = \\mu_* + K_*^TK^{-1}(x-\\mu) \\\\\n",
    "\\Sigma' = K_{**} - K_*^TK^{-1}K_*\n",
    "$$"
   ]
  },
  {
   "cell_type": "code",
   "execution_count": 91,
   "metadata": {
    "id": "33lkdBa7b6I1"
   },
   "outputs": [],
   "source": [
    "class NoiselessGP_inversion:\n",
    "    def __init__(self, l=0.1, s=1, prior_mean=0):\n",
    "        self.l = l\n",
    "        self.s = s     \n",
    "        self.prior_mean = prior_mean\n",
    "        \n",
    "    def prior_sample(self, x, n):\n",
    "        \"\"\"\n",
    "        Sample GP on x\n",
    "        \"\"\"\n",
    "        self.sample_k = self.create_cov_matrix(x, x, self.l, self.s)\n",
    "        for i in range(n):\n",
    "            pass\n",
    "      \n",
    "    \n",
    "    def kernel(self, a, b, l, s):\n",
    "        \"\"\"\n",
    "        Borrowed from Nando De Freita's lecture code\n",
    "        https://www.cs.ubc.ca/~nando/540-2013/lectures/gp.py\n",
    "        \"\"\"\n",
    "        sqdist = np.sum(a**2,1).reshape(-1,1) + np.sum(b**2,1) - 2*np.dot(a, b.T)\n",
    "        return s**2*np.exp(-.5 * (1/l) * sqdist)\n",
    "    \n",
    "    def fit(self, train_x, train_y):\n",
    "        self.train_x = train_x\n",
    "        self.train_y = train_y\n",
    "        self.N = len(train_x)\n",
    "        self.K = self.kernel(train_x, train_x, self.l, self.s)\n",
    "        \n",
    "                \n",
    "    def predict(self, test_x):\n",
    "        self.N_star = len(test_x)\n",
    "        self.K_star = self.kernel(self.train_x, test_x, self.l, self.s)\n",
    "        self.K_star_star = self.kernel(test_x, test_x, self.l, self.s)\n",
    "        self.posterior_mu = self.prior_mean + self.K_star.T@np.linalg.inv(self.K)@(self.train_y-self.prior_mean)\n",
    "        self.posterior_sigma = self.K_star_star - self.K_star.T@np.linalg.inv(self.K)@self.K_star\n",
    "        return self.posterior_mu, self.posterior_sigma\n"
   ]
  },
  {
   "cell_type": "code",
   "execution_count": 92,
   "metadata": {
    "id": "5sB4MChCb6I1"
   },
   "outputs": [],
   "source": [
    "clf = NoiselessGP_inversion()"
   ]
  },
  {
   "cell_type": "code",
   "execution_count": 93,
   "metadata": {
    "id": "qjHYvChHb6I2"
   },
   "outputs": [],
   "source": [
    "train_x = np.array([-4, -3, -2, -1, 1]).reshape(5,1)\n",
    "train_y = np.sin(train_x)\n",
    "\n",
    "test_x = np.linspace(-5, 5, 50).reshape(-1, 1)\n",
    "test_y = np.sin(test_x)"
   ]
  },
  {
   "cell_type": "code",
   "execution_count": 94,
   "metadata": {
    "id": "Wl6Uwr0Eb6I3",
    "outputId": "f5d94484-73ad-44cb-ac85-50ec1da48a3e"
   },
   "outputs": [
    {
     "data": {
      "image/png": "[encoded data removed]",
      "text/plain": [
       "<Figure size 432x288 with 1 Axes>"
      ]
     },
     "metadata": {
      "needs_background": "light"
     },
     "output_type": "display_data"
    }
   ],
   "source": [
    "plt.plot(train_x, train_y,'ko-');"
   ]
  },
  {
   "cell_type": "code",
   "execution_count": 95,
   "metadata": {
    "id": "XB2pV4sHb6I3"
   },
   "outputs": [],
   "source": [
    "clf.fit(train_x, train_y)"
   ]
  },
  {
   "cell_type": "code",
   "execution_count": 96,
   "metadata": {
    "id": "eRV6GjLpb6I3"
   },
   "outputs": [],
   "source": [
    "posterior_mu, posterior_var = clf.predict(test_x)"
   ]
  },
  {
   "cell_type": "code",
   "execution_count": 97,
   "metadata": {
    "id": "ZV6cO6zRb6I3",
    "outputId": "7b2b1a00-57a5-432d-b061-bea301b34fa2"
   },
   "outputs": [
    {
     "data": {
      "image/png": "[encoded data removed]",
      "text/plain": [
       "<Figure size 432x288 with 1 Axes>"
      ]
     },
     "metadata": {
      "needs_background": "light"
     },
     "output_type": "display_data"
    }
   ],
   "source": [
    "plt.plot(test_x, clf.posterior_mu,'k',label='Predicted',lw=1)\n",
    "plt.plot(test_x, test_y, 'purple',label='GT',lw=2)\n",
    "plt.plot(train_x, train_y, 'ko',label='Training Data')\n",
    "\n",
    "plt.fill_between(test_x.flatten(), \n",
    "                 (clf.posterior_mu.flatten() - clf.posterior_sigma.diagonal().flatten()),\n",
    "                 (clf.posterior_mu.flatten() + clf.posterior_sigma.diagonal().flatten()),\n",
    "                 color='gray', alpha=0.3\n",
    "                )\n",
    "plt.legend()\n",
    "format_axes(plt.gca());"
   ]
  },
  {
   "cell_type": "markdown",
   "metadata": {
    "id": "9h3UAFT8b6I4"
   },
   "source": [
    "### Cholesky decomposition\n",
    "\n",
    "We had previously used matrix inversion to do the computation for computing the posterior mean and variance in our GP. However, the matrices involved may be poorly conditioned and thus Cholesky decomposition is often favoured.\n",
    "\n",
    "From Wikipedia, the Cholesky decomposition of a matrix $A$ is given as:\n",
    "\n",
    "$$\n",
    "\\mathbf{A} = \\mathbf{L L}^T\n",
    "$$\n",
    "\n",
    "where $L$ is a real lower triangular matrix.\n",
    "\n",
    "We can thus re-write the posterior mean and covariance as:\n",
    "\n",
    "$$\n",
    "p(y_*|X_*, X, y) \\sim \\mathcal{N}(\\mu', \\Sigma') \\\\\n",
    "K = LL^T \\\\\n",
    "$$\n",
    "\n",
    "We are now going to use the `\\` as follows:\n",
    "if $A\\omega = B$, then $\\omega$ = $A$ `\\` $B$\n",
    "\n",
    "We now have:\n",
    "\n",
    "$$\n",
    "\\alpha = K^{-1}(x-\\mu) \\\\\n",
    "or, \\alpha = {LL^T}^{-1}(x-\\mu) \\\\\n",
    "or, \\alpha = L^{-T}L^{-1}(x-\\mu) \\\\\n",
    "Let, L^{-1}(x-\\mu) = \\gamma\\\\\n",
    "Thus, L\\gamma = x-\\mu \\\\\n",
    "Thus, \\gamma = L \\setminus (x-\\mu)\\\\\\\n",
    "Thus, \\alpha = L^{T} \\setminus (L \\setminus (x-\\mu))\n",
    "$$\n",
    "\n",
    "In Python, the same can be written as:\n",
    "```python\n",
    "    L = np.linalg.cholesky(K)\n",
    "    alpha = np.linalg.solve(L.T, np.linalg.solve(L, x-mu))\n",
    "```\n",
    "\n",
    "Thus, we can find the posterior mean as:\n",
    "\n",
    "$$\n",
    "\\mu' = \\mu_* + K_*^T \\alpha \\\\\n",
    "$$\n",
    "\n",
    "We also know that\n",
    "\n",
    "$$\n",
    "\\Sigma' = K_{**} - K_*^TK^{-1}K_*\n",
    "$$\n",
    "\n",
    "Let us now define\n",
    "\n",
    "$$\n",
    "v = L \\setminus K_{*}\\\\\n",
    "or, v = L^{-1}K_{*}\\\\\n",
    "Thus, v^{T} = K_{*}^TL^{-T}\\\\\n",
    "Thus, v^{T}v = K_{*}^TL^{-T}L^{-1}K_{*}\\\\\n",
    "Thus, v^{T}v = K_*^TK^{-1}K_* = K_{**} - \\Sigma' \n",
    "$$\n",
    "\n",
    "$$\n",
    "\\Sigma' = K_{**} - v^{T}v\n",
    "$$\n"
   ]
  },
  {
   "cell_type": "markdown",
   "metadata": {
    "id": "eZGr8paUb6I4"
   },
   "source": [
    "Let us know rewrite the code with Cholesky decomposition."
   ]
  },
  {
   "cell_type": "code",
   "execution_count": 98,
   "metadata": {
    "id": "YRywaqt-b6I4"
   },
   "outputs": [],
   "source": [
    "class NoiselessGP_Cholesky:\n",
    "    def __init__(self, l=0.1, s=1, prior_mean=0):\n",
    "        self.l = l\n",
    "        self.s = s     \n",
    "        self.prior_mean = prior_mean\n",
    "        \n",
    "    def prior_sample(self, x, n):\n",
    "        \"\"\"\n",
    "        Sample GP on x\n",
    "        \"\"\"\n",
    "        self.sample_k = self.create_cov_matrix(x, x, self.l, self.s)\n",
    "        for i in range(n):\n",
    "            pass\n",
    "      \n",
    "    \n",
    "    def kernel(self, a, b, l, s):\n",
    "        \"\"\"\n",
    "        Borrowed from Nando De Freita's lecture code\n",
    "        https://www.cs.ubc.ca/~nando/540-2013/lectures/gp.py\n",
    "        \"\"\"\n",
    "        sqdist = np.sum(a**2,1).reshape(-1,1) + np.sum(b**2,1) - 2*np.dot(a, b.T)\n",
    "        return s**2*np.exp(-.5 * (1/l) * sqdist)\n",
    "    \n",
    "    def fit(self, train_x, train_y):\n",
    "        self.train_x = train_x\n",
    "        self.train_y = train_y\n",
    "        self.N = len(train_x)\n",
    "        self.K = self.kernel(train_x, train_x, self.l, self.s)\n",
    "        self.L = np.linalg.cholesky(self.K)\n",
    "        \n",
    "                \n",
    "    def predict(self, test_x):\n",
    "        self.N_star = len(test_x)\n",
    "        self.K_star = self.kernel(self.train_x, test_x, self.l, self.s)\n",
    "        self.K_star_star = self.kernel(test_x, test_x, self.l, self.s)\n",
    "        self.alpha = np.linalg.solve(self.L.T, np.linalg.solve(self.L, self.train_y-self.prior_mean))\n",
    "        self.v = np.linalg.solve(self.L, self.K_star)\n",
    "        self.posterior_mu = self.prior_mean + self.K_star.T@self.alpha\n",
    "        self.posterior_sigma = self.K_star_star - self.v.T@self.v\n",
    "        return self.posterior_mu, self.posterior_sigma\n",
    "\n"
   ]
  },
  {
   "cell_type": "code",
   "execution_count": 99,
   "metadata": {
    "id": "0e9mlSGKb6I4"
   },
   "outputs": [],
   "source": [
    "clf = NoiselessGP_Cholesky()\n",
    "clf.fit(train_x, train_y)\n",
    "posterior_mu_cholesky, posterior_var_cholesky = clf.predict(test_x)"
   ]
  },
  {
   "cell_type": "markdown",
   "metadata": {
    "id": "Sg8ZNy0ab6I5"
   },
   "source": [
    "We will now compare our Cholesky decomposition based decompostion with the earlier one."
   ]
  },
  {
   "cell_type": "code",
   "execution_count": 100,
   "metadata": {
    "id": "EwmxVPdFb6I5",
    "outputId": "a2a03468-c23c-414f-9f1f-bcaa39376caf"
   },
   "outputs": [
    {
     "data": {
      "text/plain": [
       "True"
      ]
     },
     "execution_count": 100,
     "metadata": {},
     "output_type": "execute_result"
    }
   ],
   "source": [
    "np.allclose(posterior_mu_cholesky, posterior_mu)"
   ]
  },
  {
   "cell_type": "code",
   "execution_count": 101,
   "metadata": {
    "id": "KjPBisnMb6I5",
    "outputId": "237651ed-9b0b-4420-d8f4-cb10a1fdd463"
   },
   "outputs": [
    {
     "data": {
      "text/plain": [
       "True"
      ]
     },
     "execution_count": 101,
     "metadata": {},
     "output_type": "execute_result"
    }
   ],
   "source": [
    "np.allclose(posterior_var_cholesky, posterior_var)"
   ]
  },
  {
   "cell_type": "markdown",
   "metadata": {
    "id": "NKaEdJG_b6I5"
   },
   "source": [
    "Ok, all looks good till now! Let us now move on to the case for Noisy GPs."
   ]
  },
  {
   "cell_type": "markdown",
   "metadata": {
    "id": "R1oqhXQPb6I5"
   },
   "source": [
    "### Noisy GPs\n",
    "\n",
    "Previously, we had assumed a noiseless model, which is to say, for the observed data, we had:\n",
    "\n",
    "$$y_i = f(x_i)$$\n",
    "\n",
    "\n",
    "We now make the model more flexible by saying that there can be noise in the observed data as well, thus:\n",
    "\n",
    "$$\n",
    "y_i = f(x_i) + \\epsilon \\\\\n",
    "\\epsilon \\sim \\mathcal{N}(0, \\sigma_y^2)\n",
    "$$\n",
    "\n",
    "One of the main difference compared to the noiseless model would be that in the noisy model, we will have some uncertainty even about the training points.\n",
    "\n",
    "Everything about our model remains the same, except for the change in the covariance matrix $K$ for the training points, which is now given as:\n",
    "\n",
    "$$K_y = \\sigma_y^2\\mathbf{I_n} + K\n",
    "$$\n",
    "\n",
    "We can now rewrite the function as follows:"
   ]
  },
  {
   "cell_type": "code",
   "execution_count": 102,
   "metadata": {
    "id": "nzuII0fJb6I5"
   },
   "outputs": [],
   "source": [
    "class NoisyGP:\n",
    "    def __init__(self, l = 0.1, s = 1, prior_mean = 0, sigma_y = 1):\n",
    "        self.l = l\n",
    "        self.s = s     \n",
    "        self.prior_mean = prior_mean\n",
    "        self.sigma_y = sigma_y\n",
    "        \n",
    "    def prior_sample(self, x, n):\n",
    "        \"\"\"\n",
    "        Sample GP on x\n",
    "        \"\"\"\n",
    "        self.sample_k = self.create_cov_matrix(x, x, self.l, self.s)\n",
    "        for i in range(n):\n",
    "            pass\n",
    "      \n",
    "    \n",
    "    def kernel(self, a, b, l, s):\n",
    "        \"\"\"\n",
    "        Borrowed from Nando De Freita's lecture code\n",
    "        https://www.cs.ubc.ca/~nando/540-2013/lectures/gp.py\n",
    "        \"\"\"\n",
    "        sqdist = np.sum(a**2,1).reshape(-1,1) + np.sum(b**2,1) - 2*np.dot(a, b.T)\n",
    "        return s**2*np.exp(-.5 * (1/l) * sqdist)\n",
    "    \n",
    "    def fit(self, train_x, train_y):\n",
    "        self.train_x = train_x\n",
    "        self.train_y = train_y\n",
    "        self.N = len(train_x)\n",
    "        self.K = self.kernel(train_x, train_x, self.l, self.s) + self.sigma_y*np.eye(len(train_x))\n",
    "        self.L = np.linalg.cholesky(self.K)\n",
    "        \n",
    "                \n",
    "    def predict(self, test_x):\n",
    "        self.N_star = len(test_x)\n",
    "        self.K_star = self.kernel(self.train_x, test_x, self.l, self.s)\n",
    "        self.K_star_star = self.kernel(test_x, test_x, self.l, self.s)\n",
    "        self.alpha = np.linalg.solve(self.L.T, np.linalg.solve(self.L, self.train_y-self.prior_mean))\n",
    "        self.v = np.linalg.solve(self.L, self.K_star)\n",
    "        self.posterior_mu = self.prior_mean + self.K_star.T@self.alpha\n",
    "        self.posterior_sigma = self.K_star_star - self.v.T@self.v\n",
    "        return self.posterior_mu, self.posterior_sigma"
   ]
  },
  {
   "cell_type": "code",
   "execution_count": 103,
   "metadata": {
    "id": "4jb06GXBb6I6"
   },
   "outputs": [],
   "source": [
    "clf = NoisyGP(sigma_y=0.2)\n",
    "clf.fit(train_x, train_y)\n",
    "posterior_mu_noisy, posterior_var_noisy = clf.predict(test_x)"
   ]
  },
  {
   "cell_type": "code",
   "execution_count": 104,
   "metadata": {
    "id": "kCuLY0BFb6I6",
    "outputId": "f2942eb0-1783-49d3-ffb7-a472272f4707"
   },
   "outputs": [
    {
     "data": {
      "image/png": "[encoded data removed]",
      "text/plain": [
       "<Figure size 432x288 with 1 Axes>"
      ]
     },
     "metadata": {
      "needs_background": "light"
     },
     "output_type": "display_data"
    }
   ],
   "source": [
    "plt.plot(test_x, clf.posterior_mu,'k',label='Predicted',lw=1)\n",
    "plt.plot(test_x, test_y, 'purple',label='GT',lw=2)\n",
    "plt.plot(train_x, train_y, 'ko',label='Training Data')\n",
    "\n",
    "plt.fill_between(test_x.flatten(), \n",
    "                 (clf.posterior_mu.flatten() - clf.posterior_sigma.diagonal().flatten()),\n",
    "                 (clf.posterior_mu.flatten() + clf.posterior_sigma.diagonal().flatten()),\n",
    "                 color='gray', alpha=0.3\n",
    "                )\n",
    "plt.legend()\n",
    "format_axes(plt.gca());"
   ]
  },
  {
   "cell_type": "markdown",
   "metadata": {
    "id": "qiRsYpS3b6I6"
   },
   "source": [
    "We can now see that our model has some uncertainty even on the train points!"
   ]
  }
 ],
 "metadata": {
  "colab": {
   "name": "2019-08-20-Gaussian-Processes.ipynb",
   "provenance": []
  },
  "kernelspec": {
   "display_name": "Python 3",
   "language": "python",
   "name": "python3"
  },
  "language_info": {
   "codemirror_mode": {
    "name": "ipython",
    "version": 3
   },
   "file_extension": ".py",
   "mimetype": "text/x-python",
   "name": "python",
   "nbconvert_exporter": "python",
   "pygments_lexer": "ipython3",
   "version": "3.7.10"
  }
 },
 "nbformat": 4,
 "nbformat_minor": 1
}
