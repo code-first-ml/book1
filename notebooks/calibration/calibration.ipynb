{
 "cells": [
  {
   "cell_type": "code",
   "execution_count": 1,
   "id": "1205fdff",
   "metadata": {},
   "outputs": [],
   "source": [
    "from sklearn.datasets import make_classification, make_biclusters, make_moons\n",
    "import matplotlib.pyplot as plt\n",
    "from sklearn.inspection import DecisionBoundaryDisplay\n",
    "\n",
    "%matplotlib inline\n",
    "from matplotlib.colors import ListedColormap\n",
    "import seaborn as sns\n",
    "import numpy as np"
   ]
  },
  {
   "cell_type": "code",
   "execution_count": 2,
   "id": "98ac6d93",
   "metadata": {},
   "outputs": [],
   "source": [
    "cm = plt.cm.RdBu\n",
    "cm_bright = ListedColormap([\"#FF0000\", \"#0000FF\"])"
   ]
  },
  {
   "cell_type": "code",
   "execution_count": 3,
   "id": "f8fab808",
   "metadata": {},
   "outputs": [],
   "source": [
    "X, y = make_moons()"
   ]
  },
  {
   "cell_type": "code",
   "execution_count": 4,
   "id": "bc696d22",
   "metadata": {},
   "outputs": [
    {
     "data": {
      "image/png": "[encoded data removed]",
      "text/plain": [
       "<Figure size 432x288 with 1 Axes>"
      ]
     },
     "metadata": {
      "needs_background": "light"
     },
     "output_type": "display_data"
    }
   ],
   "source": [
    "plt.scatter(X[:, 0], X[:, 1], c=y)\n",
    "sns.despine()"
   ]
  },
  {
   "cell_type": "code",
   "execution_count": 5,
   "id": "339d9402",
   "metadata": {},
   "outputs": [],
   "source": [
    "from sklearn.linear_model import LogisticRegression"
   ]
  },
  {
   "cell_type": "code",
   "execution_count": 6,
   "id": "bdb5a7c8",
   "metadata": {},
   "outputs": [],
   "source": [
    "lr = LogisticRegression(C=0.1)"
   ]
  },
  {
   "cell_type": "code",
   "execution_count": 7,
   "id": "9213790f",
   "metadata": {},
   "outputs": [
    {
     "data": {
      "text/html": [
       "<style>#sk-container-id-1 {color: black;background-color: white;}#sk-container-id-1 pre{padding: 0;}#sk-container-id-1 div.sk-toggleable {background-color: white;}#sk-container-id-1 label.sk-toggleable__label {cursor: pointer;display: block;width: 100%;margin-bottom: 0;padding: 0.3em;box-sizing: border-box;text-align: center;}#sk-container-id-1 label.sk-toggleable__label-arrow:before {content: \"▸\";float: left;margin-right: 0.25em;color: #696969;}#sk-container-id-1 label.sk-toggleable__label-arrow:hover:before {color: black;}#sk-container-id-1 div.sk-estimator:hover label.sk-toggleable__label-arrow:before {color: black;}#sk-container-id-1 div.sk-toggleable__content {max-height: 0;max-width: 0;overflow: hidden;text-align: left;background-color: #f0f8ff;}#sk-container-id-1 div.sk-toggleable__content pre {margin: 0.2em;color: black;border-radius: 0.25em;background-color: #f0f8ff;}#sk-container-id-1 input.sk-toggleable__control:checked~div.sk-toggleable__content {max-height: 200px;max-width: 100%;overflow: auto;}#sk-container-id-1 input.sk-toggleable__control:checked~label.sk-toggleable__label-arrow:before {content: \"▾\";}#sk-container-id-1 div.sk-estimator input.sk-toggleable__control:checked~label.sk-toggleable__label {background-color: #d4ebff;}#sk-container-id-1 div.sk-label input.sk-toggleable__control:checked~label.sk-toggleable__label {background-color: #d4ebff;}#sk-container-id-1 input.sk-hidden--visually {border: 0;clip: rect(1px 1px 1px 1px);clip: rect(1px, 1px, 1px, 1px);height: 1px;margin: -1px;overflow: hidden;padding: 0;position: absolute;width: 1px;}#sk-container-id-1 div.sk-estimator {font-family: monospace;background-color: #f0f8ff;border: 1px dotted black;border-radius: 0.25em;box-sizing: border-box;margin-bottom: 0.5em;}#sk-container-id-1 div.sk-estimator:hover {background-color: #d4ebff;}#sk-container-id-1 div.sk-parallel-item::after {content: \"\";width: 100%;border-bottom: 1px solid gray;flex-grow: 1;}#sk-container-id-1 div.sk-label:hover label.sk-toggleable__label {background-color: #d4ebff;}#sk-container-id-1 div.sk-serial::before {content: \"\";position: absolute;border-left: 1px solid gray;box-sizing: border-box;top: 0;bottom: 0;left: 50%;z-index: 0;}#sk-container-id-1 div.sk-serial {display: flex;flex-direction: column;align-items: center;background-color: white;padding-right: 0.2em;padding-left: 0.2em;position: relative;}#sk-container-id-1 div.sk-item {position: relative;z-index: 1;}#sk-container-id-1 div.sk-parallel {display: flex;align-items: stretch;justify-content: center;background-color: white;position: relative;}#sk-container-id-1 div.sk-item::before, #sk-container-id-1 div.sk-parallel-item::before {content: \"\";position: absolute;border-left: 1px solid gray;box-sizing: border-box;top: 0;bottom: 0;left: 50%;z-index: -1;}#sk-container-id-1 div.sk-parallel-item {display: flex;flex-direction: column;z-index: 1;position: relative;background-color: white;}#sk-container-id-1 div.sk-parallel-item:first-child::after {align-self: flex-end;width: 50%;}#sk-container-id-1 div.sk-parallel-item:last-child::after {align-self: flex-start;width: 50%;}#sk-container-id-1 div.sk-parallel-item:only-child::after {width: 0;}#sk-container-id-1 div.sk-dashed-wrapped {border: 1px dashed gray;margin: 0 0.4em 0.5em 0.4em;box-sizing: border-box;padding-bottom: 0.4em;background-color: white;}#sk-container-id-1 div.sk-label label {font-family: monospace;font-weight: bold;display: inline-block;line-height: 1.2em;}#sk-container-id-1 div.sk-label-container {text-align: center;}#sk-container-id-1 div.sk-container {/* jupyter's `normalize.less` sets `[hidden] { display: none; }` but bootstrap.min.css set `[hidden] { display: none !important; }` so we also need the `!important` here to be able to override the default hidden behavior on the sphinx rendered scikit-learn.org. See: https://github.com/scikit-learn/scikit-learn/issues/21755 */display: inline-block !important;position: relative;}#sk-container-id-1 div.sk-text-repr-fallback {display: none;}</style><div id=\"sk-container-id-1\" class=\"sk-top-container\"><div class=\"sk-text-repr-fallback\"><pre>LogisticRegression(C=0.1)</pre><b>In a Jupyter environment, please rerun this cell to show the HTML representation or trust the notebook. <br />On GitHub, the HTML representation is unable to render, please try loading this page with nbviewer.org.</b></div><div class=\"sk-container\" hidden><div class=\"sk-item\"><div class=\"sk-estimator sk-toggleable\"><input class=\"sk-toggleable__control sk-hidden--visually\" id=\"sk-estimator-id-1\" type=\"checkbox\" checked><label for=\"sk-estimator-id-1\" class=\"sk-toggleable__label sk-toggleable__label-arrow\">LogisticRegression</label><div class=\"sk-toggleable__content\"><pre>LogisticRegression(C=0.1)</pre></div></div></div></div></div>"
      ],
      "text/plain": [
       "LogisticRegression(C=0.1)"
      ]
     },
     "execution_count": 7,
     "metadata": {},
     "output_type": "execute_result"
    }
   ],
   "source": [
    "lr.fit(X, y)"
   ]
  },
  {
   "cell_type": "code",
   "execution_count": 8,
   "id": "ac185253",
   "metadata": {},
   "outputs": [
    {
     "data": {
      "text/plain": [
       "array([[ 0.77462686, -1.00249683]])"
      ]
     },
     "execution_count": 8,
     "metadata": {},
     "output_type": "execute_result"
    }
   ],
   "source": [
    "lr.coef_"
   ]
  },
  {
   "cell_type": "code",
   "execution_count": 9,
   "id": "2fdaa0ce",
   "metadata": {},
   "outputs": [
    {
     "data": {
      "text/plain": [
       "array([-0.13668932])"
      ]
     },
     "execution_count": 9,
     "metadata": {},
     "output_type": "execute_result"
    }
   ],
   "source": [
    "lr.intercept_"
   ]
  },
  {
   "cell_type": "code",
   "execution_count": 10,
   "id": "8092fdf2",
   "metadata": {},
   "outputs": [
    {
     "data": {
      "text/plain": [
       "array([0.26840981, 0.75772914, 0.74813065, 0.27409293, 0.55110128,\n",
       "       0.70627234, 0.25727664, 0.56897146, 0.47115787, 0.80147326,\n",
       "       0.24227083, 0.5085943 , 0.54901695, 0.79688546, 0.80068185,\n",
       "       0.80272993, 0.20869793, 0.52884207, 0.2066841 , 0.19787991,\n",
       "       0.79960007, 0.23803206, 0.65428709, 0.79840778, 0.6608776 ,\n",
       "       0.2624733 , 0.64391705, 0.21645901, 0.43102849, 0.41136739,\n",
       "       0.60766335, 0.2047137 , 0.77011055, 0.24715512, 0.75284485,\n",
       "       0.33912236, 0.20159219, 0.22988941, 0.29372762, 0.51157662,\n",
       "       0.67695842, 0.23366188, 0.39364478, 0.48842333, 0.34571287,\n",
       "       0.37385066, 0.76633809, 0.63925124, 0.21112566, 0.2135633 ,\n",
       "       0.41143572, 0.28673058, 0.80212006, 0.79528627, 0.69210347,\n",
       "       0.2031145 , 0.28056096, 0.58863256, 0.25186931, 0.19727003,\n",
       "       0.62325365, 0.37674631, 0.72590703, 0.7619679 , 0.36074871,\n",
       "       0.20039989, 0.32304153, 0.7888743 , 0.42982138, 0.19748525,\n",
       "       0.80251472, 0.450983  , 0.58856423, 0.60635517, 0.21933069,\n",
       "       0.77397741, 0.19931812, 0.3923366 , 0.30789648, 0.719439  ,\n",
       "       0.46847724, 0.77729399, 0.78066928, 0.22270597, 0.1985267 ,\n",
       "       0.62614929, 0.73752666, 0.74272332, 0.78354095, 0.44889867,\n",
       "       0.53152271, 0.57017857, 0.78643667, 0.79331587, 0.73159015,\n",
       "       0.79130204, 0.3560829 , 0.71326938, 0.22602256, 0.49140565])"
      ]
     },
     "execution_count": 10,
     "metadata": {},
     "output_type": "execute_result"
    }
   ],
   "source": [
    "lr.predict_proba(X)[:, 1]"
   ]
  },
  {
   "cell_type": "code",
   "execution_count": 11,
   "id": "2c6d358c",
   "metadata": {},
   "outputs": [
    {
     "data": {
      "image/png": "[encoded data removed]",
      "text/plain": [
       "<Figure size 432x288 with 1 Axes>"
      ]
     },
     "metadata": {
      "needs_background": "light"
     },
     "output_type": "display_data"
    }
   ],
   "source": [
    "DecisionBoundaryDisplay.from_estimator(\n",
    "    lr, X, cmap=cm, alpha=0.8, eps=0.5, grid_resolution=400\n",
    ")\n",
    "plt.scatter(X[:, 0], X[:, 1], c=y, cmap=cm_bright, edgecolors=\"k\")\n",
    "sns.despine()"
   ]
  },
  {
   "cell_type": "code",
   "execution_count": 12,
   "id": "d50bd735",
   "metadata": {},
   "outputs": [],
   "source": [
    "y_true = y\n",
    "y_pred = lr.predict(X)"
   ]
  },
  {
   "cell_type": "code",
   "execution_count": 13,
   "id": "d0d1055f",
   "metadata": {},
   "outputs": [],
   "source": [
    "y_conf = lr.predict_proba(X)[:, 1]"
   ]
  },
  {
   "cell_type": "code",
   "execution_count": 14,
   "id": "87fd50ee",
   "metadata": {},
   "outputs": [],
   "source": [
    "# Put reliability_diagrams.py from https://github.com/hollance/reliability-diagrams in this folder\n",
    "from reliability_diagrams import *"
   ]
  },
  {
   "cell_type": "code",
   "execution_count": 15,
   "id": "f095d30c",
   "metadata": {},
   "outputs": [
    {
     "data": {
      "text/plain": [
       "{'accuracies': array([0. , 1. , 1. , 0.6, 0.5, 0.5, 0.6, 1. , 1. , 0. ]),\n",
       " 'confidences': array([0.        , 0.198096  , 0.2360224 , 0.35691832, 0.45029987,\n",
       "        0.54970008, 0.64308163, 0.76397757, 0.80190396, 0.        ]),\n",
       " 'counts': array([ 0,  5, 25, 10, 10, 10, 10, 25,  5,  0]),\n",
       " 'bins': array([0. , 0.1, 0.2, 0.3, 0.4, 0.5, 0.6, 0.7, 0.8, 0.9, 1. ]),\n",
       " 'avg_accuracy': 0.82,\n",
       " 'avg_confidence': 0.4999999796042566,\n",
       " 'expected_calibration_error': 0.3385563620199922,\n",
       " 'max_calibration_error': 0.8019039960944142}"
      ]
     },
     "execution_count": 15,
     "metadata": {},
     "output_type": "execute_result"
    }
   ],
   "source": [
    "nbins = 10\n",
    "res = compute_calibration(y_true, y_pred, y_conf, num_bins=nbins)\n",
    "res"
   ]
  },
  {
   "cell_type": "code",
   "execution_count": 16,
   "id": "6a023496",
   "metadata": {},
   "outputs": [
    {
     "data": {
      "text/plain": [
       "0.4999999796042567"
      ]
     },
     "execution_count": 16,
     "metadata": {},
     "output_type": "execute_result"
    }
   ],
   "source": [
    "y_conf.mean()"
   ]
  },
  {
   "cell_type": "code",
   "execution_count": 17,
   "id": "4c877352",
   "metadata": {},
   "outputs": [
    {
     "data": {
      "text/plain": [
       "0.82"
      ]
     },
     "execution_count": 17,
     "metadata": {},
     "output_type": "execute_result"
    }
   ],
   "source": [
    "(y_pred == y_true).mean()"
   ]
  },
  {
   "cell_type": "code",
   "execution_count": 18,
   "id": "ff1417bd",
   "metadata": {},
   "outputs": [
    {
     "data": {
      "text/plain": [
       "(0.1980960039055858, 0.1980960039055858)"
      ]
     },
     "execution_count": 18,
     "metadata": {},
     "output_type": "execute_result"
    }
   ],
   "source": [
    "y_conf[y_conf < 0.2].mean(), res[\"confidences\"][1]"
   ]
  },
  {
   "cell_type": "code",
   "execution_count": 19,
   "id": "edac537e",
   "metadata": {},
   "outputs": [
    {
     "data": {
      "text/plain": [
       "Text(0, 0.5, 'Accuracy')"
      ]
     },
     "execution_count": 19,
     "metadata": {},
     "output_type": "execute_result"
    },
    {
     "data": {
      "image/png": "[encoded data removed]",
      "text/plain": [
       "<Figure size 432x288 with 1 Axes>"
      ]
     },
     "metadata": {
      "needs_background": "light"
     },
     "output_type": "display_data"
    }
   ],
   "source": [
    "plt.gca().set_aspect(\"equal\")\n",
    "plt.bar(\n",
    "    np.linspace(0, 1, nbins + 1)[:-1],\n",
    "    res[\"accuracies\"],\n",
    "    width=1.0 / (nbins) - 0.01,\n",
    "    align=\"edge\",\n",
    "    label=\"Accuracy\",\n",
    ")\n",
    "plt.plot(\n",
    "    np.linspace(0, 1, nbins + 1), np.linspace(0, 1, nbins + 1), color=\"k\", ls=\"--\", lw=3\n",
    ")\n",
    "plt.legend()\n",
    "plt.xlabel(\"Confidence\")\n",
    "plt.ylabel(\"Accuracy\")"
   ]
  },
  {
   "cell_type": "code",
   "execution_count": 20,
   "id": "639d4f0c",
   "metadata": {},
   "outputs": [
    {
     "data": {
      "text/plain": [
       "<matplotlib.legend.Legend at 0x1a47775e0>"
      ]
     },
     "execution_count": 20,
     "metadata": {},
     "output_type": "execute_result"
    },
    {
     "data": {
      "image/png": "[encoded data removed]",
      "text/plain": [
       "<Figure size 432x288 with 1 Axes>"
      ]
     },
     "metadata": {
      "needs_background": "light"
     },
     "output_type": "display_data"
    }
   ],
   "source": [
    "plt.gca().set_aspect(\"equal\")\n",
    "plt.bar(\n",
    "    np.linspace(0, 1, nbins + 1)[:-1],\n",
    "    res[\"accuracies\"],\n",
    "    width=1.0 / (nbins) - 0.01,\n",
    "    align=\"edge\",\n",
    "    label=\"Accuracy\",\n",
    "    alpha=0.4,\n",
    ")\n",
    "gaps = res[\"accuracies\"] - res[\"confidences\"]\n",
    "\n",
    "plt.bar(\n",
    "    np.linspace(0, 1, nbins + 1)[:-1],\n",
    "    gaps,\n",
    "    width=1.0 / (nbins) - 0.01,\n",
    "    align=\"edge\",\n",
    "    label=\"Gaps\",\n",
    "    alpha=0.4,\n",
    "    bottom=res[\"confidences\"],\n",
    ")\n",
    "\n",
    "\n",
    "plt.plot(\n",
    "    np.linspace(0, 1, nbins + 1), np.linspace(0, 1, nbins + 1), color=\"k\", ls=\"--\", lw=3\n",
    ")\n",
    "plt.legend()"
   ]
  },
  {
   "cell_type": "code",
   "execution_count": 21,
   "id": "7ec08409",
   "metadata": {},
   "outputs": [
    {
     "data": {
      "text/plain": [
       "Text(0, 0.5, 'Counts')"
      ]
     },
     "execution_count": 21,
     "metadata": {},
     "output_type": "execute_result"
    },
    {
     "data": {
      "image/png": "[encoded data removed]",
      "text/plain": [
       "<Figure size 432x288 with 1 Axes>"
      ]
     },
     "metadata": {
      "needs_background": "light"
     },
     "output_type": "display_data"
    }
   ],
   "source": [
    "# plt.gca().set_aspect(\"equal\")\n",
    "plt.bar(\n",
    "    np.linspace(0, 1, nbins + 1)[:-1],\n",
    "    res[\"counts\"],\n",
    "    width=1.0 / (nbins) - 0.01,\n",
    "    align=\"edge\",\n",
    ")\n",
    "# plt.plot(np.linspace(0, 1, nbins+1), np.linspace(0, 1, nbins+1), color='k', ls = '--', lw = 3)\n",
    "plt.xlabel(\"Confidence\")\n",
    "plt.ylabel(\"Counts\")"
   ]
  },
  {
   "cell_type": "code",
   "execution_count": 22,
   "id": "91e5793f",
   "metadata": {},
   "outputs": [
    {
     "name": "stdout",
     "output_type": "stream",
     "text": [
      "0.3385563620199921 0.3385563620199922\n"
     ]
    }
   ],
   "source": [
    "gaps = res[\"accuracies\"] - res[\"confidences\"]\n",
    "abs_gaps = np.abs(gaps)\n",
    "weighted_abs_gaps = (res[\"counts\"]/res[\"counts\"].sum())*abs_gaps\n",
    "ece = weighted_abs_gaps.sum()\n",
    "\n",
    "print(ece, res['expected_calibration_error'])"
   ]
  },
  {
   "cell_type": "code",
   "execution_count": 23,
   "id": "547ddd16",
   "metadata": {},
   "outputs": [
    {
     "data": {
      "text/plain": [
       "(0.8019039960944142, 0.8019039960944142)"
      ]
     },
     "execution_count": 23,
     "metadata": {},
     "output_type": "execute_result"
    }
   ],
   "source": [
    "abs_gaps.max(), res['max_calibration_error']"
   ]
  }
 ],
 "metadata": {
  "kernelspec": {
   "display_name": "Python 3 (ipykernel)",
   "language": "python",
   "name": "python3"
  },
  "language_info": {
   "codemirror_mode": {
    "name": "ipython",
    "version": 3
   },
   "file_extension": ".py",
   "mimetype": "text/x-python",
   "name": "python",
   "nbconvert_exporter": "python",
   "pygments_lexer": "ipython3",
   "version": "3.9.13"
  }
 },
 "nbformat": 4,
 "nbformat_minor": 5
}
