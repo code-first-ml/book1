{
 "cells": [
  {
   "cell_type": "markdown",
   "id": "9e0b97d2",
   "metadata": {},
   "source": [
    "### Sample Space\n",
    "\n",
    "A lot of this material is inspired by:\n",
    "\n",
    "1. Wiki article\n",
    "2. Khan academy videos \n",
    "3. MIT OCW course \n",
    "\n",
    "Assume you toss a coin once, the coin can land either as heads or tails. The outcome is unknown before the throw. \n",
    "\n",
    "```{admonition} Sample Space\n",
    "The sample space is the possible outcomes of the experiment. For the coin toss experiment, we can denote the sample space as: $\\Omega = \\{H, T\\}$\n",
    "```\n",
    "\n",
    "Now,let us consider a slightly advanced example. Our experiment is to roll two die (6-faced die) and note the sum of the numbers on the top side.\n",
    "\n",
    "The sample space for this example is: \n",
    "\n",
    "$$\n",
    "\\begin{align*}\n",
    "    S = \\{&(1, 1), (1, 2), \\dots, (1, 6), \\\\\n",
    "          &(2, 1), (2, 2), \\dots, (2, 6), \\\\\n",
    "          &\\cdots, \\cdots,  \\cdots, \\cdots \\\\\n",
    "          &(6, 1), (6, 2), \\dots, (6, 6) \\}\n",
    "\\end{align*}\n",
    "$$\n"
   ]
  }
 ],
 "metadata": {
  "kernelspec": {
   "display_name": "Python 3 (ipykernel)",
   "language": "python",
   "name": "python3"
  },
  "language_info": {
   "codemirror_mode": {
    "name": "ipython",
    "version": 3
   },
   "file_extension": ".py",
   "mimetype": "text/x-python",
   "name": "python",
   "nbconvert_exporter": "python",
   "pygments_lexer": "ipython3",
   "version": "3.9.7"
  }
 },
 "nbformat": 4,
 "nbformat_minor": 5
}
