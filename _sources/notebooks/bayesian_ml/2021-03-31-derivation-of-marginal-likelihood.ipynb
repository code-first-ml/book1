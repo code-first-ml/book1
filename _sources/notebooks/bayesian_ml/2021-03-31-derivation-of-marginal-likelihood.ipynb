{
 "cells": [
  {
   "cell_type": "markdown",
   "metadata": {},
   "source": [
    "# Marginal likelihood for Bayesian linear regression\n",
    "\n",
    "Author: [Zeel B Patel](https://patel-zeel.github.io/), [Nipun Batra](https://nipunbatra.github.io/)"
   ]
  },
  {
   "cell_type": "markdown",
   "metadata": {},
   "source": [
    "Bayesian linear regression is defined as below,\n",
    "\n",
    "\\begin{align}\n",
    "\\mathbf{y} &= X\\boldsymbol{\\theta} + \\epsilon\\\\\n",
    "\\epsilon &\\sim \\mathcal{N}(0, \\sigma_n^2)\\\\\n",
    "\\theta &\\sim \\mathcal{N}(\\mathbf{m}_0, S_0)\n",
    "\\end{align}\n",
    "\n",
    "For a Gaussian random variable $\\mathbf{z} \\sim \\mathcal{N}(\\boldsymbol{\\mu}, \\Sigma)$, $A\\mathbf{z} + \\mathbf{b}$ is also a Gaussian random variable.\n",
    "\n",
    "\\begin{align}\n",
    "\\mathbf{y} = X\\mathbf{\\theta} + \\boldsymbol{\\epsilon} &\\sim \\mathcal{N}(\\boldsymbol{\\mu}', \\Sigma')\\\\\n",
    "\\boldsymbol{\\mu}' &= \\mathbb{E}_{\\theta, \\epsilon}(X\\mathbf{\\theta}+\\boldsymbol{\\epsilon})\\\\\n",
    "                  &= X\\mathbb{E}(\\mathbf{\\theta}) + \\mathbb{E}(\\mathbf{\\epsilon})\\\\\n",
    "                  &= X\\mathbf{m}_0\\\\\n",
    "                  \\\\\n",
    "\\Sigma' &= V(X\\mathbf{\\theta}+\\boldsymbol{\\epsilon})\\\\\n",
    "        &= XV(\\mathbf{\\theta})X^T+V(\\boldsymbol{\\epsilon})\\\\\n",
    "        &= XS_0X^T + \\sigma_n^2I\n",
    "\\end{align}\n",
    "\n",
    "Marginal likelihood is $p(\\mathbf{y})$ so,\n",
    "\n",
    "\\begin{align}\n",
    "p(\\mathbf{y}) &= \\frac{1}{(2\\pi)^{\\frac{N}{2}}|\\Sigma'|^{\\frac{1}{2}}}\\exp\\left[-\\frac{1}{2}(\\mathbf{y}-\\boldsymbol{\\mu}')^T\\Sigma'^{-1}(\\mathbf{y}-\\boldsymbol{\\mu}')\\right]\\\\\n",
    "              &= \\frac{1}{(2\\pi)^{\\frac{N}{2}}|XS_0X^T + \\sigma_n^2I|^{\\frac{1}{2}}}\\exp\\left[-\\frac{1}{2}(\\mathbf{y}-X\\mathbf{m}_0)^T(XS_0X^T + \\sigma_n^2I)^{-1}(\\mathbf{y}-X\\mathbf{m}_0)\\right]\n",
    "\\end{align}"
   ]
  },
  {
   "cell_type": "markdown",
   "metadata": {},
   "source": [
    "## Multiplication of two Gaussians (work in progress)\n",
    "\n",
    "We need Gaussian pdf over same variables to evaluate their multiplication. Let us convert $y$ into $\\theta$."
   ]
  },
  {
   "cell_type": "markdown",
   "metadata": {},
   "source": [
    "\\begin{align}\n",
    "\\mathbf{y} &= X\\theta + \\boldsymbol{\\epsilon}\\\\\n",
    "\\theta &= (X^TX)^{-1}X^T(\\mathbf{y} - \\boldsymbol{\\epsilon})\\\\\n",
    "\\text{Deriving mean and covariance of }\\theta\\\\\n",
    "E(\\theta) &= (X^TX)^{-1}X^T\\mathbf{y}\\\\\n",
    "V(\\theta) &= \\sigma_n^2\\left[(X^TX)^{-1}X^T\\right]\\left[(X^TX)^{-1}X^T\\right]^T\\\\\n",
    "          &= \\sigma_n^2(X^TX)^{-1}X^TX(X^TX)^{-1}\\\\\n",
    "          &= \\sigma_n^2(X^TX)^{-1} \n",
    "\\end{align}\n",
    "\n",
    "Now, we have both $p(\\mathbf{y}|\\boldsymbol{\\theta})$ and $p(\\boldsymbol{\\theta})$ in terms of $\\boldsymbol{\\theta}$. We can apply the rules from 6.5.2 of MML book. Writing our results in terminology of 6.5.2. \n",
    "\n",
    "\\begin{align}\n",
    "\\mathcal{N}(x|a, A) &== \\mathcal{N}(\\theta|(X^TX)^{-1}X^T\\mathbf{y}, \\sigma_n^2(X^TX)^{-1})\\\\\n",
    "\\mathcal{N}(x|b, B) &== \\mathcal{N}(\\theta|\\mathbf{m}_0, S_0)\n",
    "\\end{align}\n",
    "\n",
    "we know that,\n",
    "\n",
    "$$\n",
    "c\\mathcal{N}(\\theta|\\mathbf{c}, C) = \\mathcal{N}(x|a, A)\\mathcal{N}(x|b, B)\\\\\n",
    "\\mathcal{N}(\\theta|\\mathbf{c}, C) = \\frac{\\mathcal{N}(x|a, A)\\mathcal{N}(x|b, B)}{c}\n",
    "$$\n",
    "\n",
    "In the Bayesian setting,\n",
    "\n",
    "\\begin{align}\n",
    "Prior &\\sim \\mathcal{N}(x|b, B) == \\mathcal{N}(\\theta|\\mathbf{m}_0, S_0)\\\\\n",
    "Likelihood &\\sim \\mathcal{N}(x|a, A) == \\mathcal{N}(\\theta|(X^TX)^{-1}X^T\\mathbf{y}, \\sigma_n^2(X^TX)^{-1})\\\\\n",
    "Posterior &\\sim \\mathcal{N}(\\theta|\\mathbf{c}, C) == \\mathcal{N}(\\theta|\\mathbf{m}_n, S_n)\\\\\n",
    "\\text{last but not the least}\\\\\n",
    "Marginal\\;likelihood &\\sim c == \\mathcal{N}(\\mathbf{y}|\\boldsymbol{\\mu}, \\Sigma)\n",
    "\\end{align}\n",
    "\n",
    "Let us evaluate the posterior,\n",
    "\n",
    "\\begin{align}\n",
    "Posterior &\\sim \\mathcal{N}(\\theta|\\mathbf{c}, C)\\\\\n",
    "S_n = C &= (A^{-1} + B^{-1})^{-1}\\\\\n",
    "  &= \\left(\\frac{X^TX}{\\sigma_n^2} + S_0^{-1}\\right)^{-1}\\\\\n",
    "\\mathbf{m_n} = \\mathbf{c} &= C(A^{-1}a + B^{-1}b)\\\\\n",
    "           &= S_n\\left(\\frac{X^TX}{\\sigma_n^2}(X^TX)^{-1}X^T\\mathbf{y} + S_0^{-1}\\mathbf{m}_0\\right)\\\\\n",
    "           &= S_n\\left(\\frac{X^T\\mathbf{y}}{\\sigma_n^2} + S_0^{-1}\\mathbf{m}_0\\right)\n",
    "\\end{align}\n",
    "\n",
    "Now, we evaluate the marginal likelihood,\n",
    "\n",
    "\\begin{align}\n",
    "c &= \\mathcal{N}(\\mathbf{y}|\\boldsymbol{\\mu}, \\Sigma)\\\\\n",
    "  &= (2\\pi)^{-\\frac{D}{2}}|A+B|^{-\\frac{1}{2}}\\exp\\left(-\\frac{1}{2}(a-b)^T(A+B)^{-1}(a-b)\\right)\\\\\n",
    "  &= (2\\pi)^{-\\frac{D}{2}}|\\sigma_n^2(X^TX)^{-1}+S_0|^{-\\frac{1}{2}}\\exp\\left(-\\frac{1}{2}((X^TX)^{-1}X^T\\mathbf{y}-\\mathbf{m}_0)^T(\\sigma_n^2(X^TX)^{-1}+S_0)^{-1}((X^TX)^{-1}X^T\\mathbf{y}-\\mathbf{m}_0)\\right)\n",
    "\\end{align}\n",
    "\n",
    "Another well-known formulation of marginal likelihood is the following,\n",
    "\n",
    "$$\n",
    "p(\\mathbf{y}) \\sim \\mathcal{N}(X\\mathbf{m}_0, XS_0X^T + \\sigma_n^2I)\n",
    "$$\n",
    "\n",
    "Let us verify if both are the same, empirically,"
   ]
  },
  {
   "cell_type": "code",
   "execution_count": 67,
   "metadata": {},
   "outputs": [
    {
     "data": {
      "text/plain": [
       "(9.577110083272389e-15, 0.0034284478634232078, array([[2.08309892e-14]]))"
      ]
     },
     "execution_count": 67,
     "metadata": {},
     "output_type": "execute_result"
    }
   ],
   "source": [
    "import numpy as np\n",
    "import scipy.stats\n",
    "np.random.seed(0)\n",
    "\n",
    "def ML1(X, y, m0, S0, sigma_n):\n",
    "    N = len(y)\n",
    "    return scipy.stats.multivariate_normal.pdf(y.ravel(), (X@m0).squeeze(), X@S0@X.T + np.eye(N)*sigma_n**2)\n",
    "\n",
    "def ML2(X, y, m0, S0, sigma_n):\n",
    "    D = len(m0)\n",
    "    a = np.linalg.inv(X.T@X)@X.T@y\n",
    "    b = m0\n",
    "    A = np.linalg.inv(X.T@X)*sigma_n**2\n",
    "    B = S0\n",
    "    return scipy.stats.multivariate_normal.pdf(a.ravel(), b.ravel(), A+B)\n",
    "\n",
    "def ML3(X, y, m0, S0, sigma_n):\n",
    "    N = len(y)\n",
    "    Sn = np.linalg.inv((X.T@X)/(sigma_n**2) + np.linalg.inv(S0))\n",
    "    Mn = Sn@((X.T@y)/(sigma_n**2) + np.linalg.inv(S0)@m0)\n",
    "    LML = -0.5*N*np.log(2*np.pi) - 0.5*N*np.log(sigma_n**2) - 0.5*np.log(np.linalg.det(S0)/np.linalg.det(Sn)) - 0.5*(y.T@y)/sigma_n**2 + 0.5*(Mn.T@np.linalg.inv(Sn)@Mn)\n",
    "    return np.exp(LML)\n",
    "\n",
    "X = np.random.rand(10,2)\n",
    "m0 = np.random.rand(2,1)\n",
    "s0 = np.random.rand(2,2)\n",
    "S0 = s0@s0.T\n",
    "sigma_n = 10\n",
    "y = np.random.rand(10,1)\n",
    "\n",
    "ML1(X, y, m0, S0, sigma_n), ML2(X, y, m0, S0, sigma_n),  ML3(X, y, m0, S0, sigma_n)"
   ]
  },
  {
   "cell_type": "markdown",
   "metadata": {},
   "source": [
    "### Products of Gaussian PDFs (Work under progress)"
   ]
  },
  {
   "cell_type": "markdown",
   "metadata": {},
   "source": [
    "Product of two Gaussians $\\mathbf{x} \\sim \\mathcal{N}(\\boldsymbol{\\mu}_0, \\Sigma_0)$ and $\\mathbf{x} \\sim \\mathcal{N}(\\boldsymbol{\\mu}_1, \\Sigma_1)$ is an unnormalized Gaussian."
   ]
  },
  {
   "cell_type": "markdown",
   "metadata": {},
   "source": [
    "\\begin{align}\n",
    "f(\\mathbf{x}) &= \\frac{1}{(2\\pi)^{\\frac{N}{2}}|\\Sigma_0|^{\\frac{1}{2}}}\\exp\\left[-\\frac{1}{2}(\\mathbf{x}-\\boldsymbol{\\mu}_0)^T\\Sigma_0^{-1}(\\mathbf{x}-\\boldsymbol{\\mu}_0)\\right]\\\\\n",
    "g(\\mathbf{x}) &= \\frac{1}{(2\\pi)^{\\frac{N}{2}}|\\Sigma_1|^{\\frac{1}{2}}}\\exp\\left[-\\frac{1}{2}(\\mathbf{x}-\\boldsymbol{\\mu}_1)^T\\Sigma_1^{-1}(\\mathbf{x}-\\boldsymbol{\\mu}_1)\\right]\\\\\n",
    "\\int h(x) = \\frac{1}{c}\\int f(\\mathbf{x})g(\\mathbf{x})d\\mathbf{x} &= 1\n",
    "\\end{align}\n",
    "\n",
    "We need to find figure out value of $c$ to solve the integration.\n",
    "\n",
    "\\begin{align}\n",
    "h(x) &= \\frac{1}{(2\\pi)^{\\frac{N}{2}}|\\Sigma|^{\\frac{1}{2}}}\\exp\\left[-\\frac{1}{2}(\\mathbf{x}-\\boldsymbol{\\mu})^T\\Sigma^{-1}(\\mathbf{x}-\\boldsymbol{\\mu})\\right] =  \\frac{1}{(2\\pi)^{\\frac{N}{2}}|\\Sigma|^{\\frac{1}{2}}}\\exp\\left[-\\frac{1}{2}\\left(\\mathbf{x}^T\\Sigma^{-1}\\mathbf{x} - 2\\boldsymbol{\\mu}^T\\Sigma^{-1}\\mathbf{x} + \\boldsymbol{\\mu}^T\\Sigma^{-1}\\boldsymbol{\\mu}\\right)\\right]\\\\ \n",
    "f(x)g(x) &= \\frac{1}{(2\\pi)^{\\frac{N}{2}}|\\Sigma_0|^{\\frac{1}{2}}(2\\pi)^{\\frac{N}{2}}|\\Sigma_1|^{\\frac{1}{2}}}\\exp\\left[\n",
    "-\\frac{1}{2}(\\mathbf{x}-\\boldsymbol{\\mu}_0)^T\\Sigma_0^{-1}(\\mathbf{x}-\\boldsymbol{\\mu}_0) \n",
    "-\\frac{1}{2}(\\mathbf{x}-\\boldsymbol{\\mu}_1)^T\\Sigma_1^{-1}(\\mathbf{x}-\\boldsymbol{\\mu}_1)\\right]\\\\\n",
    "         &= \\frac{1}{(2\\pi)^{\\frac{N}{2}}|\\Sigma_0|^{\\frac{1}{2}}(2\\pi)^{\\frac{N}{2}}|\\Sigma_1|^{\\frac{1}{2}}}\\exp\\left[\n",
    "-\\frac{1}{2}\\left(\\mathbf{x}^T(\\Sigma_0^{-1}+\\Sigma_1^{-1})\\mathbf{x}- 2\\boldsymbol{\\mu}^T(\\Sigma_0^{-1}+\\Sigma_1^{-1})\\mathbf{x} + \\boldsymbol{\\mu}^T(\\Sigma_0^{-1}+\\Sigma_1^{-1})\\boldsymbol{\\mu}\\right)\n",
    "\\right]\\\\\n",
    "\\end{align}"
   ]
  },
  {
   "cell_type": "markdown",
   "metadata": {},
   "source": [
    "We can compare the exponent terms directly. We get the following results by doing that\n",
    "\n",
    "\\begin{align}\n",
    "\\Sigma^{-1} &= \\Sigma_0^{-1} + \\Sigma_1^{-1}\\\\\n",
    "\\Sigma &= \\left(\\Sigma_0^{-1} + \\Sigma_1^{-1}\\right)^{-1}\\\\\n",
    "\\\\\n",
    "\\boldsymbol{\\mu}^T\\Sigma^{-1}\\mathbf{x} &= \\boldsymbol{\\mu_0}^T\\Sigma_0^{-1}\\mathbf{x} + \\boldsymbol{\\mu_1}^T\\Sigma_1^{-1}\\mathbf{x}\\\\\n",
    "\\left(\\boldsymbol{\\mu}^T\\Sigma^{-1}\\right)\\mathbf{x} &= \\left(\\boldsymbol{\\mu_0}^T\\Sigma_0^{-1} + \\boldsymbol{\\mu_1}^T\\Sigma_1^{-1}\\right)\\mathbf{x}\\\\\n",
    "\\boldsymbol{\\mu}^T\\Sigma^{-1} &= \\boldsymbol{\\mu_0}^T\\Sigma_0^{-1} + \\boldsymbol{\\mu_1}^T\\Sigma_1^{-1}\\\\\n",
    "\\text{Applying transpose on both sides,}\\\\\n",
    "\\Sigma^{-1}\\boldsymbol{\\mu} &= \\Sigma_0^{-1}\\boldsymbol{\\mu}_0 + \\Sigma_1^{-1}\\boldsymbol{\\mu}_1\\\\\n",
    "\\boldsymbol{\\mu} &= \\Sigma\\left(\\Sigma_0^{-1}\\boldsymbol{\\mu}_0 + \\Sigma_1^{-1}\\boldsymbol{\\mu}_1\\right)\n",
    "\\end{align}"
   ]
  },
  {
   "cell_type": "markdown",
   "metadata": {},
   "source": [
    "Now, solving for the normalizing constant $c$,"
   ]
  },
  {
   "cell_type": "markdown",
   "metadata": {},
   "source": [
    "\\begin{align}\n",
    "\\frac{c}{(2\\pi)^{\\frac{N}{2}}|\\Sigma|^{\\frac{1}{2}}} &= \\frac{1}{(2\\pi)^{\\frac{N}{2}}|\\Sigma_0|^{\\frac{1}{2}}(2\\pi)^{\\frac{N}{2}}|\\Sigma_1|^{\\frac{1}{2}}}\\\\\n",
    "c &=  \\frac{|\\Sigma|^{\\frac{1}{2}}}{(2\\pi)^{\\frac{N}{2}}|\\Sigma_0|^{\\frac{1}{2}}|\\Sigma_1|^{\\frac{1}{2}}}\n",
    "\\end{align}"
   ]
  },
  {
   "cell_type": "markdown",
   "metadata": {},
   "source": [
    "If we have two Gaussians $\\mathcal{N}(\\mathbf{a}, A)$ and $\\mathcal{N}(\\mathbf{b}, B)$ for same random variable $\\mathbf{x}$, Marginal likelihood can be given as,\n",
    "\n",
    "$$\n",
    "c = (2\\pi)^{-N/2}|A+B|^{-1/2}\\exp -\\frac{1}{2}\\left[(\\mathbf{a} - \\mathbf{b})^T(A+B)^{-1}(\\mathbf{a} - \\mathbf{b})\\right]\n",
    "$$\n",
    "\n",
    "Here, we have two Gaussians $\\mathcal{N}(0, \\sigma^2I)$ and $\\mathcal{N}((X^TX)^{-1}X^T\\mathbf{y}, \\frac{(X^TX)^{-1}}{\\sigma_n^2} )$ for same random variable $\\boldsymbol{\\theta}$, Marginal likelihood can be given as,\n",
    "\n",
    "$$\n",
    "$$"
   ]
  },
  {
   "cell_type": "code",
   "execution_count": 68,
   "metadata": {},
   "outputs": [],
   "source": [
    "import numpy as np\n",
    "import matplotlib.pyplot as plt\n",
    "import scipy.stats"
   ]
  },
  {
   "cell_type": "code",
   "execution_count": 69,
   "metadata": {},
   "outputs": [
    {
     "data": {
      "text/plain": [
       "((10, 5), (5, 1), (10, 1))"
      ]
     },
     "execution_count": 69,
     "metadata": {},
     "output_type": "execute_result"
    },
    {
     "data": {
      "image/png": "[encoded data removed]",
      "text/plain": [
       "<Figure size 432x288 with 1 Axes>"
      ]
     },
     "metadata": {
      "needs_background": "light"
     },
     "output_type": "display_data"
    }
   ],
   "source": [
    "np.random.seed(0)\n",
    "N = 10\n",
    "D = 5\n",
    "sigma_n = 0.1 # noise\n",
    "sigma = 1 # variance in parameters\n",
    "m0 = np.random.rand(D)\n",
    "S0 = np.eye(D)*sigma**2\n",
    "\n",
    "x = np.random.rand(N,D)\n",
    "theta = np.random.rand(D,1)\n",
    "y = x@theta + np.random.multivariate_normal(np.zeros(N), np.eye(N)*sigma_n**2, size=1).T\n",
    "plt.scatter(x[:,0], x[:,1], c=y)\n",
    "x.shape, theta.shape, y.shape"
   ]
  },
  {
   "cell_type": "code",
   "execution_count": 70,
   "metadata": {},
   "outputs": [
    {
     "data": {
      "text/plain": [
       "((5, 1), (5, 5), (5, 1), (5, 5), (5, 1), (5, 5))"
      ]
     },
     "execution_count": 70,
     "metadata": {},
     "output_type": "execute_result"
    }
   ],
   "source": [
    "a = np.linalg.inv(x.T@x)@x.T@y\n",
    "b = m0.reshape(-1,1)\n",
    "A = np.linalg.inv(x.T@x)/(sigma_n**2)\n",
    "B = S0\n",
    "A_inv = np.linalg.inv(A)\n",
    "B_inv = np.linalg.inv(B)\n",
    "\n",
    "c_cov = np.linalg.inv(A_inv + B_inv)\n",
    "c_mean = c_cov@(A_inv@a + B_inv@b)\n",
    "a.shape, A.shape, b.shape, B.shape, c_mean.shape, c_cov.shape"
   ]
  },
  {
   "cell_type": "code",
   "execution_count": 71,
   "metadata": {},
   "outputs": [
    {
     "data": {
      "text/plain": [
       "(1.5040129154541655e-07,\n",
       " 0.010105326013811642,\n",
       " 0.0110028525380197,\n",
       " 90.88552232655665)"
      ]
     },
     "execution_count": 71,
     "metadata": {},
     "output_type": "execute_result"
    }
   ],
   "source": [
    "c_denom = 1/(((2*np.pi)**(D/2))*(np.linalg.det(c_cov)**0.5))\n",
    "b_denom = 1/(((2*np.pi)**(D/2))*(np.linalg.det(B)**0.5))\n",
    "a_denom = 1/(((2*np.pi)**(D/2))*(np.linalg.det(A)**0.5))\n",
    "a_denom, b_denom, c_denom, 1/c_denom"
   ]
  },
  {
   "cell_type": "code",
   "execution_count": 72,
   "metadata": {},
   "outputs": [
    {
     "data": {
      "text/plain": [
       "(array([[1.35765194e-07]]),\n",
       " 1.357651942204283e-07,\n",
       " 1.357651942204283e-07,\n",
       " array([[7365658.08152844]]))"
      ]
     },
     "execution_count": 72,
     "metadata": {},
     "output_type": "execute_result"
    }
   ],
   "source": [
    "normalizer_c = (1/(((2*np.pi)**(D/2))*(np.linalg.det(A+B)**0.5)))*np.exp(-0.5*((a-b).T@np.linalg.inv(A+B)@(a-b)))\n",
    "norm_c_a_given_b = scipy.stats.multivariate_normal.pdf(a.squeeze(), b.squeeze(), A+B)\n",
    "norm_c_b_given_a = scipy.stats.multivariate_normal.pdf(b.squeeze(), a.squeeze(), A+B)\n",
    "normalizer_c, norm_c_a_given_b, norm_c_b_given_a, 1/normalizer_c"
   ]
  },
  {
   "cell_type": "code",
   "execution_count": 73,
   "metadata": {},
   "outputs": [
    {
     "data": {
      "text/plain": [
       "(1.5039199356435742e-07, 0.008635160418150373, 0.00956547808509135, True)"
      ]
     },
     "execution_count": 73,
     "metadata": {},
     "output_type": "execute_result"
    }
   ],
   "source": [
    "a_pdf = scipy.stats.multivariate_normal.pdf(theta.squeeze(), a.squeeze(), A)\n",
    "b_pdf = scipy.stats.multivariate_normal.pdf(theta.squeeze(), b.squeeze(), B)\n",
    "c_pdf = scipy.stats.multivariate_normal.pdf(theta.squeeze(), c_mean.squeeze(), c_cov)\n",
    "\n",
    "a_pdf, b_pdf, c_pdf, np.allclose(a_pdf*b_pdf, normalizer_c*c_pdf)"
   ]
  },
  {
   "cell_type": "code",
   "execution_count": 74,
   "metadata": {},
   "outputs": [
    {
     "data": {
      "text/plain": [
       "(1.8288404157840938, array([[7365658.08152844]]))"
      ]
     },
     "execution_count": 74,
     "metadata": {},
     "output_type": "execute_result"
    }
   ],
   "source": [
    "K = x@S0@x.T + np.eye(N)*sigma_n**2\n",
    "marginal_Likelihood_closed_form = scipy.stats.multivariate_normal.pdf(y.squeeze(), (x@m0).squeeze(), K)\n",
    "marginal_Likelihood_closed_form, 1/normalizer_c"
   ]
  },
  {
   "cell_type": "code",
   "execution_count": 75,
   "metadata": {},
   "outputs": [
    {
     "ename": "TypeError",
     "evalue": "'KFold' object is not callable",
     "output_type": "error",
     "traceback": [
      "\u001b[0;31m---------------------------------------------------------------------------\u001b[0m",
      "\u001b[0;31mTypeError\u001b[0m                                 Traceback (most recent call last)",
      "\u001b[0;32m<ipython-input-75-224c1ff02397>\u001b[0m in \u001b[0;36m<module>\u001b[0;34m\u001b[0m\n\u001b[1;32m      3\u001b[0m \u001b[0;34m\u001b[0m\u001b[0m\n\u001b[1;32m      4\u001b[0m \u001b[0msplitter\u001b[0m \u001b[0;34m=\u001b[0m \u001b[0mKFold\u001b[0m\u001b[0;34m(\u001b[0m\u001b[0mn_splits\u001b[0m\u001b[0;34m=\u001b[0m\u001b[0;36m100\u001b[0m\u001b[0;34m)\u001b[0m\u001b[0;34m\u001b[0m\u001b[0;34m\u001b[0m\u001b[0m\n\u001b[0;32m----> 5\u001b[0;31m \u001b[0;32mfor\u001b[0m \u001b[0mtrain_ind\u001b[0m\u001b[0;34m,\u001b[0m \u001b[0mtest_ind\u001b[0m \u001b[0;32min\u001b[0m \u001b[0msplitter\u001b[0m\u001b[0;34m(\u001b[0m\u001b[0mx\u001b[0m\u001b[0;34m)\u001b[0m\u001b[0;34m:\u001b[0m\u001b[0;34m\u001b[0m\u001b[0;34m\u001b[0m\u001b[0m\n\u001b[0m\u001b[1;32m      6\u001b[0m     \u001b[0mtrain_x\u001b[0m\u001b[0;34m,\u001b[0m \u001b[0mtrain_y\u001b[0m \u001b[0;34m=\u001b[0m \u001b[0mx\u001b[0m\u001b[0;34m[\u001b[0m\u001b[0mtrain_ind\u001b[0m\u001b[0;34m]\u001b[0m\u001b[0;34m,\u001b[0m \u001b[0my\u001b[0m\u001b[0;34m[\u001b[0m\u001b[0mtrain_ind\u001b[0m\u001b[0;34m]\u001b[0m\u001b[0;34m\u001b[0m\u001b[0;34m\u001b[0m\u001b[0m\n\u001b[1;32m      7\u001b[0m     \u001b[0mtest_x\u001b[0m\u001b[0;34m,\u001b[0m \u001b[0mtest_y\u001b[0m \u001b[0;34m=\u001b[0m \u001b[0mx\u001b[0m\u001b[0;34m[\u001b[0m\u001b[0mtest_ind\u001b[0m\u001b[0;34m]\u001b[0m\u001b[0;34m,\u001b[0m \u001b[0my\u001b[0m\u001b[0;34m[\u001b[0m\u001b[0mtest_ind\u001b[0m\u001b[0;34m]\u001b[0m\u001b[0;34m\u001b[0m\u001b[0;34m\u001b[0m\u001b[0m\n",
      "\u001b[0;31mTypeError\u001b[0m: 'KFold' object is not callable"
     ]
    }
   ],
   "source": [
    "from sklearn.model_selection import KFold\n",
    "from sklearn.linear_model import LinearRegression\n",
    "\n",
    "splitter = KFold(n_splits=100)\n",
    "for train_ind, test_ind in splitter(x):\n",
    "    train_x, train_y = x[train_ind], y[train_ind]\n",
    "    test_x, test_y = x[test_ind], y[test_ind]\n",
    "    model = LinearRegression()\n",
    "    model.fit(train_x, train_y)\n",
    "    "
   ]
  },
  {
   "cell_type": "markdown",
   "metadata": {},
   "source": [
    "## What is the relationship between marginal_Likelihood_closed_form and any calculations done in multiplications of two gaussians?"
   ]
  }
 ],
 "metadata": {
  "kernelspec": {
   "display_name": "Python 3",
   "language": "python",
   "name": "python3"
  },
  "language_info": {
   "codemirror_mode": {
    "name": "ipython",
    "version": 3
   },
   "file_extension": ".py",
   "mimetype": "text/x-python",
   "name": "python",
   "nbconvert_exporter": "python",
   "pygments_lexer": "ipython3",
   "version": "3.7.10"
  }
 },
 "nbformat": 4,
 "nbformat_minor": 4
}
